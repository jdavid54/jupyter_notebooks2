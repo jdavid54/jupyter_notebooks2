{
 "cells": [
  {
   "cell_type": "code",
   "execution_count": null,
   "metadata": {},
   "outputs": [],
   "source": [
    "#!/usr/bin/env python3\n",
    "\n",
    "# subscriber.py\n",
    "import paho.mqtt.client as mqtt\n",
    "from datetime import datetime, date\n",
    "from time import localtime, strftime\n",
    "now = strftime(\"%a, %d %b %Y %H:%M:%S +0000\", localtime())\n",
    "\n",
    "# create connection, the three parameters are broker address, broker port number, and keep-alive time respectively\n",
    "brokers = {\"mosquitto\" :\"test.mosquitto.org\",\n",
    "           \"emqx\" : \"broker.emqx.io\",   # topic:\"test\" to receive automatic msg\n",
    "           \"pi3_wifi\" :\"192.168.1.57\",\n",
    "           \"pi3_lan\" : \"192.168.1.100\",\n",
    "           \"wan1\" : \"77.134.40.243\",\n",
    "           \"pi4\" :\"192.168.0.175\"}\n",
    "\n",
    "# connect to broker\n",
    "broker_name = \"pi4\" \n",
    "broker = brokers[broker_name]  \n",
    "# print(broker)\n",
    "topic = \"temp_humidity\"\n",
    "\n",
    "def on_connect(client, userdata, flags, rc):\n",
    "#     print(f\"Connected with result code {rc}\")\n",
    "#     print(\"CTRL-Z to stop\")\n",
    "#     print(\"Subscribing with topic '\" + topic + \"' to \" + broker_name+ \":\" + broker)\n",
    "    # subscribe, which need to put into on_connect\n",
    "    # if reconnect after losing the connection with the broker, it will continue to subscribe to the raspberry/topic topic\n",
    "    client.subscribe(topic)\n",
    "\n",
    "# the callback function, it will be triggered when receiving messages\n",
    "def on_message(client, userdata, msg):\n",
    "    #print(f\"{msg.topic} {msg.payload}\")\n",
    "    temp, humidity = bytes_to_int(msg.payload)\n",
    "    #now = strftime(\"%a, %d %b %Y %H:%M:%S +0000\", localtime())\n",
    "    s  = datetime.now().isoformat()+','+str(temp)+','+str(humidity)\n",
    "    \n",
    "    #print(str(temp),str(humidity))\n",
    "    if temp < 50 :\n",
    "        print('\\r',s,end='')\n",
    "        #print('min',10,'Temp',str(temp),'Hum',str(humidity),end='\\r')\n",
    "    #client.publish(\"ToHost/RaspberryPi\", \"Hello back\")\n",
    "\n",
    "def bytes_to_int(bytes):\n",
    "    l = bytes.decode(\"utf-8\").split(',')\n",
    "    return list(float(v) for v in l)\n",
    "\n",
    "def main():\n",
    "    client = mqtt.Client()\n",
    "    client.on_connect = on_connect\n",
    "    client.on_message = on_message\n",
    "    client.connect(broker, 1883, 60)  \n",
    "    client.loop_forever()\n"
   ]
  },
  {
   "cell_type": "code",
   "execution_count": null,
   "metadata": {},
   "outputs": [],
   "source": [
    "main()"
   ]
  }
 ],
 "metadata": {
  "kernelspec": {
   "display_name": "Python 3",
   "language": "python",
   "name": "python3"
  },
  "language_info": {
   "codemirror_mode": {
    "name": "ipython",
    "version": 3
   },
   "file_extension": ".py",
   "mimetype": "text/x-python",
   "name": "python",
   "nbconvert_exporter": "python",
   "pygments_lexer": "ipython3",
   "version": "3.10.7"
  },
  "orig_nbformat": 4,
  "vscode": {
   "interpreter": {
    "hash": "31859b413185ca7000c2fee082c0715ca78433b184fc2466981b197da693d3e7"
   }
  }
 },
 "nbformat": 4,
 "nbformat_minor": 2
}
