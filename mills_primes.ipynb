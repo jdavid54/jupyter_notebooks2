{
 "cells": [
  {
   "cell_type": "code",
   "execution_count": 7,
   "metadata": {},
   "outputs": [],
   "source": [
    "#mills constant mu A051021\n",
    "mu=1.30637788386308069046861449260260571291678458515671364436805375996643405376682659882150140370119739570729\n",
    "\n",
    "def prime_n(n):\n",
    "    return round(mu**3**n)\n",
    "\n",
    "def isprime(n):\n",
    "    "
   ]
  },
  {
   "cell_type": "code",
   "execution_count": 8,
   "metadata": {},
   "outputs": [
    {
     "name": "stdout",
     "output_type": "stream",
     "text": [
      "0 1\n",
      "1 2\n",
      "2 11\n",
      "3 1361\n",
      "4 2521008887\n",
      "5 16022236204009620945967775744\n",
      "6 4113101149214953369025300453349434703688064804631655180328346711183029427424485965824\n"
     ]
    }
   ],
   "source": [
    "for i in range(7):\n",
    "    print(i,prime_n(i))"
   ]
  },
  {
   "cell_type": "code",
   "execution_count": null,
   "metadata": {},
   "outputs": [],
   "source": []
  }
 ],
 "metadata": {
  "kernelspec": {
   "display_name": "Python 3",
   "language": "python",
   "name": "python3"
  },
  "language_info": {
   "codemirror_mode": {
    "name": "ipython",
    "version": 3
   },
   "file_extension": ".py",
   "mimetype": "text/x-python",
   "name": "python",
   "nbconvert_exporter": "python",
   "pygments_lexer": "ipython3",
   "version": "3.7.3"
  }
 },
 "nbformat": 4,
 "nbformat_minor": 2
}
