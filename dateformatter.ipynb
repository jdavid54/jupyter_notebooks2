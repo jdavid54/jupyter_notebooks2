{
 "cells": [
  {
   "cell_type": "code",
   "execution_count": 2,
   "metadata": {},
   "outputs": [
    {
     "data": {
      "text/plain": [
       "['2020-02-05 17:17:55', '2020-02-05 17:17:51', '2020-02-05 17:17:49']"
      ]
     },
     "execution_count": 2,
     "metadata": {},
     "output_type": "execute_result"
    }
   ],
   "source": [
    "import matplotlib\n",
    "import matplotlib.pyplot as plt\n",
    "from datetime import datetime\n",
    "  \n",
    "origin = ['2020-02-05 17:17:55',\n",
    "          '2020-02-05 17:17:51', \n",
    "          '2020-02-05 17:17:49']\n"
   ]
  },
  {
   "cell_type": "code",
   "execution_count": 3,
   "metadata": {},
   "outputs": [
    {
     "data": {
      "text/plain": [
       "[datetime.datetime(2020, 2, 5, 17, 17, 55),\n",
       " datetime.datetime(2020, 2, 5, 17, 17, 51),\n",
       " datetime.datetime(2020, 2, 5, 17, 17, 49)]"
      ]
     },
     "execution_count": 3,
     "metadata": {},
     "output_type": "execute_result"
    }
   ],
   "source": [
    "  \n",
    "a = [datetime.strptime(d, '%Y-%m-%d %H:%M:%S') for d in origin]\n",
    "a"
   ]
  },
  {
   "cell_type": "code",
   "execution_count": 5,
   "metadata": {},
   "outputs": [
    {
     "data": {
      "text/plain": [
       "['35.764299', '20.3008', '36.94704']"
      ]
     },
     "execution_count": 5,
     "metadata": {},
     "output_type": "execute_result"
    }
   ],
   "source": [
    "b = ['35.764299', '20.3008', '36.94704']\n",
    "b"
   ]
  },
  {
   "cell_type": "code",
   "execution_count": 6,
   "metadata": {},
   "outputs": [
    {
     "data": {
      "image/png": "[encoded data removed]",
      "text/plain": [
       "<Figure size 432x288 with 1 Axes>"
      ]
     },
     "metadata": {
      "needs_background": "light"
     },
     "output_type": "display_data"
    }
   ],
   "source": [
    "x = matplotlib.dates.date2num(a)\n",
    "formatter = matplotlib.dates.DateFormatter('%H:%M:%S')\n",
    "  \n",
    "figure = plt.figure()\n",
    "axes = figure.add_subplot(1, 1, 1)\n",
    "  \n",
    "axes.xaxis.set_major_formatter(formatter)\n",
    "plt.setp(axes.get_xticklabels(), rotation = 15)\n",
    "  \n",
    "axes.plot(x, b)\n",
    "plt.show()"
   ]
  }
 ],
 "metadata": {
  "kernelspec": {
   "display_name": "Python 3.10.7 64-bit",
   "language": "python",
   "name": "python3"
  },
  "language_info": {
   "codemirror_mode": {
    "name": "ipython",
    "version": 3
   },
   "file_extension": ".py",
   "mimetype": "text/x-python",
   "name": "python",
   "nbconvert_exporter": "python",
   "pygments_lexer": "ipython3",
   "version": "3.10.7"
  },
  "orig_nbformat": 4,
  "vscode": {
   "interpreter": {
    "hash": "31859b413185ca7000c2fee082c0715ca78433b184fc2466981b197da693d3e7"
   }
  }
 },
 "nbformat": 4,
 "nbformat_minor": 2
}
