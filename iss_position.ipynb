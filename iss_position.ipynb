{
 "cells": [
  {
   "cell_type": "code",
   "execution_count": 1,
   "metadata": {},
   "outputs": [],
   "source": [
    "import urllib.request as urllib2\n",
    "import json\n",
    "from pprint import pprint\n",
    "\n",
    "from ipyleaflet import Map, Marker"
   ]
  },
  {
   "cell_type": "code",
   "execution_count": 2,
   "metadata": {},
   "outputs": [],
   "source": [
    "# get iss position\n",
    "req = urllib2.Request(\"http://api.open-notify.org/iss-now.json\")\n",
    "response = urllib2.urlopen(req)\n",
    "\n",
    "obj = json.loads(response.read())\n"
   ]
  },
  {
   "cell_type": "code",
   "execution_count": 3,
   "metadata": {},
   "outputs": [
    {
     "data": {
      "text/plain": [
       "['33.3479', '-57.0514']"
      ]
     },
     "execution_count": 3,
     "metadata": {},
     "output_type": "execute_result"
    }
   ],
   "source": [
    "lat = obj['iss_position']['latitude']\n",
    "lon = obj['iss_position']['longitude']\n",
    "#print(lat,lon)\n",
    "center = [lat, lon]\n",
    "center\n"
   ]
  },
  {
   "cell_type": "code",
   "execution_count": 4,
   "metadata": {},
   "outputs": [
    {
     "data": {
      "application/vnd.jupyter.widget-view+json": {
       "model_id": "ddf4c760434f40de8fc96cfdd7382423",
       "version_major": 2,
       "version_minor": 0
      },
      "text/plain": [
       "Map(center=['33.3479', '-57.0514'], controls=(ZoomControl(options=['position', 'zoom_in_text', 'zoom_in_title'…"
      ]
     },
     "execution_count": 4,
     "metadata": {},
     "output_type": "execute_result"
    }
   ],
   "source": [
    "# show on map\n",
    "map = Map(center=center, zoom=3)\n",
    "\n",
    "marker = Marker(location=center, draggable=False)\n",
    "map.add_layer(marker)\n",
    "map"
   ]
  },
  {
   "cell_type": "code",
   "execution_count": 5,
   "metadata": {},
   "outputs": [],
   "source": [
    "def get_name(location):\n",
    "    req=urllib2.Request(\"https://api.opencagedata.com/geocode/v1/json?q=\"+str(location[0])+\",\"+str(location[1])+\"&key=d09802075f8245028f6aeba501c57e10\")\n",
    "    response = urllib2.urlopen(req)\n",
    "    obj = json.loads(response.read())\n",
    "    #print(obj['results'][0]['formatted'])\n",
    "\n",
    "def on_location_changed(event):\n",
    "    global m, marker\n",
    "    # Do some computation given the new marker location, accessible from `event['new']`\n",
    "    #print('new location',event['new'])\n",
    "    #get_name(event['new'])\n",
    "    m.center=event['new']\n",
    "    marker.location=event['new']\n",
    "\n",
    "def get_position():\n",
    "    # get iss position\n",
    "    req = urllib2.Request(\"http://api.open-notify.org/iss-now.json\")\n",
    "    response = urllib2.urlopen(req)\n",
    "    obj = json.loads(response.read())\n",
    "    lat = obj['iss_position']['latitude']\n",
    "    lon = obj['iss_position']['longitude']\n",
    "    #print(lat,lon)\n",
    "    center= (lat,lon)\n",
    "    print(center,end='\\r')\n",
    "    return center"
   ]
  },
  {
   "cell_type": "code",
   "execution_count": 6,
   "metadata": {},
   "outputs": [
    {
     "name": "stdout",
     "output_type": "stream",
     "text": [
      "('33.4129', '-56.9711')\r"
     ]
    },
    {
     "data": {
      "application/vnd.jupyter.widget-view+json": {
       "model_id": "6808626fb74f4ce3a2f151829691c4a1",
       "version_major": 2,
       "version_minor": 0
      },
      "text/plain": [
       "Map(center=['33.4129', '-56.9711'], controls=(ZoomControl(options=['position', 'zoom_in_text', 'zoom_in_title'…"
      ]
     },
     "execution_count": 6,
     "metadata": {},
     "output_type": "execute_result"
    }
   ],
   "source": [
    "# draw map with initial location\n",
    "center = get_position()\n",
    "#print(center)\n",
    "m = Map(center=center, zoom=5)\n",
    "marker = Marker(location=center, draggable=True)\n",
    "m.add_layer(marker);\n",
    "\n",
    "# observe change in location\n",
    "marker.observe(on_location_changed, 'location')\n",
    "m"
   ]
  },
  {
   "cell_type": "code",
   "execution_count": null,
   "metadata": {},
   "outputs": [],
   "source": [
    "# restart all if interruption\n",
    "# update marker which will trigger on_location_changed func\n",
    "n = 0\n",
    "import time\n",
    "while n<360:\n",
    "    marker.location = get_position()\n",
    "    n+=1\n",
    "    time.sleep(10)"
   ]
  }
 ],
 "metadata": {
  "kernelspec": {
   "display_name": "Python 3",
   "language": "python",
   "name": "python3"
  },
  "language_info": {
   "codemirror_mode": {
    "name": "ipython",
    "version": 3
   },
   "file_extension": ".py",
   "mimetype": "text/x-python",
   "name": "python",
   "nbconvert_exporter": "python",
   "pygments_lexer": "ipython3",
   "version": "3.11.2"
  },
  "orig_nbformat": 4,
  "vscode": {
   "interpreter": {
    "hash": "f562e3bbfb31fc031611c45e0854933f7287bede35f53d415ade46aa5dd3e4f2"
   }
  }
 },
 "nbformat": 4,
 "nbformat_minor": 2
}
