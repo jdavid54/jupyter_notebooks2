{
 "cells": [
  {
   "cell_type": "code",
   "execution_count": 213,
   "metadata": {},
   "outputs": [],
   "source": [
    "# https://medium.com/analytics-vidhya/how-to-build-an-enigma-machine-virtualisation-in-python-b5476a1fd922"
   ]
  },
  {
   "cell_type": "code",
   "execution_count": 214,
   "metadata": {},
   "outputs": [],
   "source": [
    "# Importing all libraries\n",
    "# We need ascii_lowercase from string to get the english alphabet\n",
    "from string import ascii_lowercase\n",
    "# We need json library to add the possibility for enigma to import settings from a json format\n",
    "import json\n"
   ]
  },
  {
   "cell_type": "code",
   "execution_count": 215,
   "metadata": {},
   "outputs": [],
   "source": [
    "class Enigma(object):\n",
    "    \n",
    "    def __init__(self, steckerbrett = {\" \":\" \"}, settings_file=None, alpha=None, beta=None, gama=None, set = 0):\n",
    "        ''' The initial setting of enigma before the encryption '''\n",
    "        # Creating a list of all alphabet letters\n",
    "        self.alphabet = list(ascii_lowercase)\n",
    "\n",
    "        '''\n",
    "            Steckerbrett is a system of sockets that connects pairs of letters that are interchanged between them,\n",
    "            without going throw all the rotors of enigma\n",
    "        '''\n",
    "        self.steckerbrett = steckerbrett\n",
    "        if settings_file != None:\n",
    "            ''' If the setting sites is got then we load the setting from it as a json format '''\n",
    "            try:\n",
    "                # I verify if there is a such file with setting that we got\n",
    "                self.settings = json.load(open(settings_file, 'r'))[set]\n",
    "            except IOError as e:\n",
    "                # The first enigma error - There is no such a settings file\n",
    "                print(\"Enigma Error 1: There is no such setting file\")\n",
    "            finally:\n",
    "                # steckerbratt -> a dictionary with pairs of interchangeable pairs of letters\n",
    "                self.steckerbrett = self.settings['steckerbrett']\n",
    "                if type(steckerbrett) is not dict:\n",
    "                    self.steckerbrett = {\" \" : \" \"}\n",
    "                    print(self.steckerbrett)\n",
    "                # Setting the states of rotors\n",
    "                self.alpha = self.settings['alpha']\n",
    "                self.beta = self.settings['beta']\n",
    "                self.gama = self.settings['gama']\n",
    "        \n",
    "        elif alpha != None and beta != None and gama != None and steckerbrett != None:\n",
    "            ''' Setting the rotors and the steckerbrett manually '''\n",
    "            if type(steckerbrett) is not dict:\n",
    "                self.steckerbrett = {\" \" : \" \"}\n",
    "                print(self.steckerbrett)\n",
    "            self.alpha = alpha\n",
    "            self.beta = beta\n",
    "            self.gama = gama\n",
    "\n",
    "        else:\n",
    "            # Setting all rotors to base states and steckerbrett to have only space case\n",
    "            if type(steckerbrett) is not dict:\n",
    "                self.steckerbrett = {\" \" : \" \"}\n",
    "                print(self.steckerbrett)\n",
    "            rotors = [self.alpha, self.beta, self.gama]\n",
    "            for rotor in rotors:\n",
    "                if rotor == None or type(rotor) is not int or type(rotor) is not float:\n",
    "                    rotor = 0\n",
    "                else:\n",
    "                    rotor = rotor % 26\n",
    "            self.alpha = rotors[0]\n",
    "            self.beta = rotors[1]\n",
    "            self.gama = rotors[2]\n",
    "        \n",
    "        # Making the steckerbrett interchangeable and removing these pairs from the alphabet\n",
    "        for letter in list(self.steckerbrett.keys()):\n",
    "            if letter in self.alphabet:\n",
    "                self.alphabet.remove(letter)\n",
    "                self.alphabet.remove(self.steckerbrett[letter])\n",
    "                self.steckerbrett.update({self.steckerbrett[letter]:letter})\n",
    "        # Setting the reflector\n",
    "        self.reflector = [leter for leter in reversed(self.alphabet)]\n",
    "    \n",
    "    def permutate(self, rotor):\n",
    "        ''' This function is permutatting the alphabet depending on the rotors settings '''\n",
    "        new_alphabet = ''.join(self.alphabet)\n",
    "        new_alphabet = list(new_alphabet)\n",
    "        for iter in range(rotor):\n",
    "            new_alphabet.insert(0, new_alphabet[-1])\n",
    "            new_alphabet.pop(-1)\n",
    "        return new_alphabet\n",
    "    \n",
    "    def inverse_permutation(self, rotor):\n",
    "        ''' This function is permutatting the alphabet depending on the rotors settings on the back way '''\n",
    "        new_alphabet = ''.join(self.alphabet)\n",
    "        new_alphabet = list(new_alphabet)\n",
    "        for iter in range(rotor):\n",
    "            new_alphabet.append(new_alphabet[0])\n",
    "            new_alphabet.pop(0)\n",
    "        #print(self.alphabet)\n",
    "        #print(new_alphabet)\n",
    "        return new_alphabet\n",
    "\n",
    "    def encrypt_text(self, text):\n",
    "        ''' This function encrypts a string '''\n",
    "        encrypted_text = []\n",
    "        # Text preprocessing\n",
    "        text = text.lower()\n",
    "        text.split()\n",
    "        for letter in text:\n",
    "            # Checking if the letter is in steckerbrett\n",
    "            if letter in self.steckerbrett:\n",
    "                # If it is, the we encrypt it as it's pair\n",
    "                encrypted_text.append(self.steckerbrett[letter])\n",
    "                # Turning the rotors\n",
    "                self.alpha += 1\n",
    "                if self.alpha % 26 == 0:\n",
    "                    self.beta += 1\n",
    "                    self.alpha = 0\n",
    "                if self.beta % 26 == 0 and self.alpha % 26 != 0 and self.beta >= 25:\n",
    "                    self.gama += 1\n",
    "                    self.beta = 1\n",
    "            \n",
    "            else:\n",
    "                # Encrypting throw rotors\n",
    "                # Letter is encrypted by first rotor\n",
    "                temp_letter = self.permutate(self.alpha)[self.alphabet.index(letter)]\n",
    "                # Letter is encrypted by second rotor\n",
    "                temp_letter = self.permutate(self.beta)[self.alphabet.index(temp_letter)]\n",
    "                # Letter is encrypted by third rotor\n",
    "                temp_letter = self.permutate(self.gama)[self.alphabet.index(temp_letter)]\n",
    "                # Reflector is returning the inverse of that letter\n",
    "                temp_letter = self.reflector[self.alphabet.index(temp_letter)]\n",
    "                # Back way\n",
    "                # Letter is encrypted by third rotor\n",
    "                temp_letter = self.inverse_permutation(self.gama)[self.alphabet.index(temp_letter)]\n",
    "                #print(\"gama - {}\".format(temp_letter))\n",
    "                # Letter is encrypted by second rotor\n",
    "                temp_letter = self.inverse_permutation(self.beta)[self.alphabet.index(temp_letter)]\n",
    "                #print(\"beta - {}\".format(temp_letter))\n",
    "                # Letter is encrypted by first rotor\n",
    "                temp_letter = self.inverse_permutation(self.alpha)[self.alphabet.index(temp_letter)]\n",
    "                #print(\"alpha - {}\".format(temp_letter))\n",
    "                encrypted_text.append(temp_letter)\n",
    "                #print(temp_letter)\n",
    "        print(text, \"\".join(encrypted_text))"
   ]
  },
  {
   "cell_type": "code",
   "execution_count": 216,
   "metadata": {},
   "outputs": [],
   "source": [
    "enigma = Enigma({\"b\":'a', ' ':' ', 'e':'z'}, alpha=5, beta=17, gama=24)\n",
    "\n",
    "# manual\n",
    "#enigma = Enigma({'a':'w', 't':'k', 'e':'z'}, alpha=5, beta=17, gama=24)\n",
    "\n",
    "# init sans steckerbrett => {\" \":\" \"}\n",
    "#enigma = Enigma(alpha=1, beta=1, gama=1)\n",
    "\n",
    "# liste de settings à lire dans json file \n",
    "#enigma = Enigma(settings_file=\"enigma_settings.json\",set=2)\n",
    "#enigma.settings\n"
   ]
  },
  {
   "cell_type": "code",
   "execution_count": 217,
   "metadata": {},
   "outputs": [
    {
     "name": "stdout",
     "output_type": "stream",
     "text": [
      "there is no time myzqz ht dc wlhz\n"
     ]
    }
   ],
   "source": [
    "# initialise\n",
    "enigma = Enigma({\"b\":'a', ' ':' ', 'e':'z'}, alpha=5, beta=17, gama=24)\n",
    "enigma.encrypt_text('there is no time') \n",
    "# myzqz ht dc wlhz"
   ]
  },
  {
   "cell_type": "code",
   "execution_count": 218,
   "metadata": {},
   "outputs": [
    {
     "name": "stdout",
     "output_type": "stream",
     "text": [
      "myzqz ht dc wlhz there is no time\n"
     ]
    }
   ],
   "source": [
    "# initialise\n",
    "enigma = Enigma({\"b\":'a', ' ':' ', 'e':'z'}, alpha=5, beta=17, gama=24)\n",
    "enigma.encrypt_text('myzqz ht dc wlhz')\n"
   ]
  }
 ],
 "metadata": {
  "kernelspec": {
   "display_name": "Python 3",
   "language": "python",
   "name": "python3"
  },
  "language_info": {
   "codemirror_mode": {
    "name": "ipython",
    "version": 3
   },
   "file_extension": ".py",
   "mimetype": "text/x-python",
   "name": "python",
   "nbconvert_exporter": "python",
   "pygments_lexer": "ipython3",
   "version": "3.10.11"
  }
 },
 "nbformat": 4,
 "nbformat_minor": 2
}
