{
 "cells": [
  {
   "cell_type": "code",
   "execution_count": 13,
   "metadata": {},
   "outputs": [],
   "source": [
    "\n",
    "from cryptography.fernet import Fernet\n",
    "# Generate a key and instantiate a Fernet instance\n",
    "key = Fernet.generate_key()\n",
    "cipher_suite = Fernet(key)\n"
   ]
  },
  {
   "cell_type": "code",
   "execution_count": 14,
   "metadata": {},
   "outputs": [
    {
     "name": "stdout",
     "output_type": "stream",
     "text": [
      "Encrypted password: b'gAAAAABl7t3trpIRPFdu3YdwOkYubk_mGO1tkRthhM8ykUhjkqel9GV_-6ujHWGPcrqNc-nNfCJ0rsMJA07wFRJyFvPZ43EPpz4AgtaPlKSkiqAp7oaEWmI='\n",
      "Decrypted password:  my_secret_password\n"
     ]
    }
   ],
   "source": [
    "\n",
    "# Encrypt a password\n",
    "password = \"my_secret_password\".encode()\n",
    "cipher_text = cipher_suite.encrypt (password)\n",
    "print(\"Encrypted password:\", cipher_text)\n",
    "\n",
    "# Decrypt the password\n",
    "plain_text = cipher_suite.decrypt (cipher_text)\n",
    "print(\"Decrypted password: \", plain_text.decode()) \n",
    "\n"
   ]
  },
  {
   "cell_type": "code",
   "execution_count": 15,
   "metadata": {},
   "outputs": [],
   "source": [
    "def save_password (password, filename): \n",
    "    with open(filename, 'wb') as file: \n",
    "        file.write(password)\n",
    "\n",
    "def load_password(filename):\n",
    "    with open(filename, 'rb') as file: \n",
    "        return file.read()\n",
    "\n",
    "def main():\n",
    "    print(\"Password Management System\")\n",
    "    print(\"\\n1. Encrypt and save password\") \n",
    "    print(\"2. Load and decrypt password\") \n",
    "    print(\"3. Exit\") \n",
    "    while True:\n",
    "        choice = input(\"\\nEnter your choice: \")\n",
    "\n",
    "        if choice == \"1\":\n",
    "            password = input(\"Enter password to encrypt and save: \")\n",
    "            encrypted_password = cipher_suite. encrypt (password.encode())\n",
    "            save_password (encrypted_password, 'passwords.bin') \n",
    "            print(\"Password encrypted and saved.\")\n",
    "\n",
    "        elif choice == \"2\":\n",
    "            encrypted_password = load_password('passwords.bin')\n",
    "            decrypted_password = cipher_suite.decrypt (encrypted_password).decode()\n",
    "            print(\"Decrypted password: \", decrypted_password)\n",
    "\n",
    "        elif choice == \"3\":\n",
    "            break\n",
    "        else:\n",
    "            print(\"Invalid choice. Please try again.\")\n"
   ]
  },
  {
   "cell_type": "code",
   "execution_count": 16,
   "metadata": {},
   "outputs": [
    {
     "name": "stdout",
     "output_type": "stream",
     "text": [
      "Password Management System\n",
      "\n",
      "1. Encrypt and save password\n",
      "2. Load and decrypt password\n",
      "3. Exit\n",
      "Password encrypted and saved.\n",
      "Decrypted password:  vbkjljlhlhmhbbkvgfiglgl\n"
     ]
    }
   ],
   "source": [
    "main()\n"
   ]
  }
 ],
 "metadata": {
  "kernelspec": {
   "display_name": "Python 3",
   "language": "python",
   "name": "python3"
  },
  "language_info": {
   "codemirror_mode": {
    "name": "ipython",
    "version": 3
   },
   "file_extension": ".py",
   "mimetype": "text/x-python",
   "name": "python",
   "nbconvert_exporter": "python",
   "pygments_lexer": "ipython3",
   "version": "3.11.4"
  }
 },
 "nbformat": 4,
 "nbformat_minor": 2
}
