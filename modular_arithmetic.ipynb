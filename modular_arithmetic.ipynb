{
 "cells": [
  {
   "cell_type": "code",
   "execution_count": 1,
   "metadata": {},
   "outputs": [
    {
     "name": "stdout",
     "output_type": "stream",
     "text": [
      "Power is  6\n",
      "6\n"
     ]
    }
   ],
   "source": [
    "# Iterative Python3 program\n",
    "# to compute modular power\n",
    "\n",
    "# Iterative Function to calculate\n",
    "# (x^y)%p in O(log y) \n",
    "def power(x, y, p) :\n",
    "\tres = 1\t # Initialize result\n",
    "\n",
    "\t# Update x if it is more\n",
    "\t# than or equal to p\n",
    "\tx = x % p \n",
    "\t\n",
    "\tif (x == 0) :\n",
    "\t\treturn 0\n",
    "\n",
    "\twhile (y > 0) :\n",
    "\t\t# If y is odd, multiply\n",
    "\t\t# x with result\n",
    "\t\tif ((y & 1) == 1) :\n",
    "\t\t\t#print('odd',y)\n",
    "\t\t\tres = (res * x) % p\n",
    "\n",
    "\t\t# y must be even now\n",
    "\t\ty = y >> 1\t # y = y/2\n",
    "\t\tx = (x * x) % p\n",
    "\t\t\n",
    "\treturn res\n",
    "\t\n",
    "\n",
    "# Driver Code\n",
    "x = 2; y = 5; p = 13\n",
    "print(\"Power is \", power(x, y, p))\n",
    "\n",
    "print(x**y %p)\n",
    "\n",
    "\n",
    "# This code is contributed by Nikita Tiwari.\n"
   ]
  },
  {
   "cell_type": "code",
   "execution_count": 2,
   "metadata": {},
   "outputs": [
    {
     "name": "stdout",
     "output_type": "stream",
     "text": [
      "Power is  6\n"
     ]
    }
   ],
   "source": [
    "def power2(x, y, p) :\n",
    "    res = 1\t # Initialize result\n",
    "    x = x % p\n",
    "    for k in range(y):\n",
    "        #print(k)\n",
    "        res *= x\n",
    "    return res%p\n",
    "\n",
    "\n",
    "print(\"Power is \", power2(x, y, p))"
   ]
  },
  {
   "cell_type": "code",
   "execution_count": 3,
   "metadata": {},
   "outputs": [
    {
     "name": "stdout",
     "output_type": "stream",
     "text": [
      "Power is 6\n"
     ]
    }
   ],
   "source": [
    "# Recursive Python program \n",
    "# to compute modular power \n",
    "def exponentMod(A, B, C):\n",
    "     \n",
    "    # Base Cases\n",
    "    if (A == 0):\n",
    "        return 0\n",
    "    if (B == 0):\n",
    "        return 1\n",
    "     \n",
    "    # If B is Even\n",
    "    y = 0\n",
    "    if (B % 2 == 0):\n",
    "        y = exponentMod(A, B / 2, C)\n",
    "        y = (y * y) % C\n",
    "     \n",
    "    # If B is Odd\n",
    "    else:\n",
    "        y = A % C\n",
    "        y = (y * exponentMod(A, B - 1, \n",
    "                             C) % C) % C\n",
    "    return ((y + C) % C)\n",
    " \n",
    "# Driver Code\n",
    "A = 2\n",
    "B = 5\n",
    "C = 13\n",
    "print(\"Power is\", exponentMod(A, B, C))\n",
    "     \n",
    "# This code is contributed \n",
    "# by Swetank Modi. "
   ]
  },
  {
   "cell_type": "code",
   "execution_count": 4,
   "metadata": {},
   "outputs": [
    {
     "name": "stdout",
     "output_type": "stream",
     "text": [
      "1.29 µs ± 139 ns per loop (mean ± std. dev. of 7 runs, 100,000 loops each)\n",
      "Power is  9\n",
      "1.93 µs ± 632 ns per loop (mean ± std. dev. of 7 runs, 100,000 loops each)\n",
      "Power is  9\n",
      "4.17 µs ± 789 ns per loop (mean ± std. dev. of 7 runs, 100,000 loops each)\n",
      "Power is 9\n"
     ]
    }
   ],
   "source": [
    "x = 2; y = 20; p = 13\n",
    "%timeit -n100000 power(x, y, p)\n",
    "print(\"Power is \", power(x, y, p))\n",
    "%timeit -n100000 power2(x, y, p)\n",
    "print(\"Power is \", power2(x, y, p))\n",
    "%timeit -n100000 exponentMod(x, y, p)\n",
    "print(\"Power is\", exponentMod(x, y, p))"
   ]
  }
 ],
 "metadata": {
  "kernelspec": {
   "display_name": "Python 3",
   "language": "python",
   "name": "python3"
  },
  "language_info": {
   "codemirror_mode": {
    "name": "ipython",
    "version": 3
   },
   "file_extension": ".py",
   "mimetype": "text/x-python",
   "name": "python",
   "nbconvert_exporter": "python",
   "pygments_lexer": "ipython3",
   "version": "3.11.4"
  }
 },
 "nbformat": 4,
 "nbformat_minor": 2
}
