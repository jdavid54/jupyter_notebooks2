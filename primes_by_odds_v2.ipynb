{
 "cells": [
  {
   "cell_type": "code",
   "execution_count": 1,
   "metadata": {},
   "outputs": [],
   "source": [
    "from numpy import sqrt\n",
    "import pickle"
   ]
  },
  {
   "cell_type": "code",
   "execution_count": 2,
   "metadata": {},
   "outputs": [],
   "source": [
    "\n",
    "debug = False\n",
    "\n",
    "def dummy(*args, **kargs): pass\n",
    "\n",
    "if not debug: \n",
    "    #don't print\n",
    "    xprint = dummy\n",
    "else:\n",
    "    #please print for debug\n",
    "    xprint = print\n"
   ]
  },
  {
   "cell_type": "code",
   "execution_count": 3,
   "metadata": {},
   "outputs": [],
   "source": [
    "def first_primes(max=100000):\n",
    "    global ops\n",
    "    round=0\n",
    "    # primes are always odd numbers : 3, 5, 7 ......\n",
    "    # but not all odd numbers are primes ! ex: 9, 15\n",
    "    # So we divide each odd number by the primes already known and each time we found one, we add it to the list of primes. \n",
    "    for n in range(3,max,2):\n",
    "        divisors = []\n",
    "        unit = n%10\n",
    "        \n",
    "        if unit==5 and n!=5:  # don't care about multiples of 5\n",
    "            #print()\n",
    "            continue\n",
    "        #print(n,end=':')\n",
    "        prime=True\n",
    "        # select primes to be used\n",
    "        match unit:    # if not prime than can be only multiple of ...\n",
    "            case 1 : \n",
    "                ends = [3,9,1]  #primes3 + primes9 + primes1\n",
    "            case 3 : \n",
    "                ends = [3,7]  #primes3 + primes7\n",
    "            case 7 : \n",
    "                ends = [3,7]  #primes3 + primes7\n",
    "            case 9 : \n",
    "                ends = [3,7,9]  #primes3 + primes7 + primes9\n",
    "        #divisors.sort()\n",
    "        #print(n,'divisors',divisors)\n",
    "\n",
    "        #divisors = primes\n",
    "        for k in primes:\n",
    "            if k>sqrt(n): break\n",
    "            if k%10 not in ends: break\n",
    "            ops+=1\n",
    "            xprint(n,k,n%k==0,end=\"\")\n",
    "            if (n%k) == 0:\n",
    "                prime = False\n",
    "                xprint()\n",
    "                xprint(n,\" is not prime!\")\n",
    "                #print(k)\n",
    "                #print()\n",
    "                \n",
    "                break\n",
    "            else:\n",
    "                xprint()\n",
    "        # after divisions with all primes or n not prime   \n",
    "        if prime and n not in primes:\n",
    "            #print()\n",
    "            #print(n,end=',')\n",
    "            xprint(n,\" is prime !\")\n",
    "            primes.append(n)\n",
    "            #print(n,'divisors',divisors)\n",
    "            '''\n",
    "            match unit:\n",
    "                case 1 : \n",
    "                    if n not in primes1: primes1.append(n)\n",
    "                    #print(primes1)\n",
    "                case 3 : \n",
    "                    if n not in primes3: primes3.append(n)\n",
    "                    #print(primes3)\n",
    "                case 7 : \n",
    "                    if n not in primes7: primes7.append(n)\n",
    "                    #print(primes7)\n",
    "                case 9 : \n",
    "                    if n not in primes9: primes9.append(n)\n",
    "                    #print(primes9)\n",
    "            '''\n",
    "            round+=1\n",
    "            if round == cuts: \n",
    "                round=0\n",
    "                cuts_end = -cuts+5\n",
    "                print(primes[-cuts:cuts_end],end=' ')\n",
    "                print(primes[-1])\n",
    "            xprint()\n",
    "    return [2]+primes \n"
   ]
  },
  {
   "cell_type": "code",
   "execution_count": 4,
   "metadata": {},
   "outputs": [
    {
     "name": "stdout",
     "output_type": "stream",
     "text": [
      "[3, 5, 7, 11, 13] 374993\n",
      "[374999, 375001, 375007, 375011, 375013] 749993\n"
     ]
    },
    {
     "data": {
      "text/plain": [
       "(266668, 399997)"
      ]
     },
     "execution_count": 4,
     "metadata": {},
     "output_type": "execute_result"
    }
   ],
   "source": [
    "max = 1000000\n",
    "cuts = max//10\n",
    "ops = 0\n",
    "primes = []\n",
    "primes1 = [11]  # primes ending in 1\n",
    "primes3 = [3]  # primes ending in 3\n",
    "primes7 = [7]  # primes ending in 7\n",
    "primes9 = [19]  # primes ending in 9\n",
    "# compute the primes under 1 million\n",
    "\n",
    "primes = first_primes(max)\n",
    "\n",
    "# it takes 30m 52.3s without sqrt(n)\n",
    "# it takes 1m 45.4s with sqrt(n)\n",
    "len(primes),ops\n",
    "# (9615, 43905919)\n",
    "# (21058, 349675)"
   ]
  },
  {
   "cell_type": "code",
   "execution_count": 6,
   "metadata": {},
   "outputs": [
    {
     "data": {
      "text/plain": [
       "[999961,\n",
       " 999967,\n",
       " 999971,\n",
       " 999973,\n",
       " 999977,\n",
       " 999979,\n",
       " 999983,\n",
       " 999989,\n",
       " 999991,\n",
       " 999997]"
      ]
     },
     "execution_count": 6,
     "metadata": {},
     "output_type": "execute_result"
    }
   ],
   "source": [
    "primes[-10:]"
   ]
  },
  {
   "cell_type": "code",
   "execution_count": 7,
   "metadata": {},
   "outputs": [
    {
     "name": "stdout",
     "output_type": "stream",
     "text": [
      "999623\t999629\t999631\t999637\t999641\t999643\t999647\t999649\t999653\t999659\t999661\t999667\t\n",
      "999671\t999673\t999677\t999679\t999683\t999689\t999691\t999697\t999701\t999703\t999707\t999709\t999713\t999719\t999721\t\n",
      "999727\t999731\t999733\t999737\t999739\t999743\t999749\t999751\t999757\t999761\t999763\t999767\t999769\t999773\t999779\t\n",
      "999781\t999787\t999791\t999793\t999797\t999799\t999803\t999809\t999811\t999817\t999821\t999823\t999827\t999829\t999833\t\n",
      "999839\t999841\t999847\t999851\t999853\t999857\t999859\t999863\t999869\t999871\t999877\t999881\t999883\t999887\t999889\t\n",
      "999893\t999899\t999901\t999907\t999911\t999913\t999917\t999919\t999923\t999929\t999931\t999937\t999941\t999943\t999947\t\n",
      "999949\t999953\t999959\t999961\t999967\t999971\t999973\t999977\t999979\t999983\t999989\t999991\t999997\t"
     ]
    }
   ],
   "source": [
    "last = 100  # the last ones\n",
    "start = len(primes)-last+1\n",
    "end = start + last\n",
    "for k in range(start,end):\n",
    "    print(primes[k-1],end=\"\\t\")\n",
    "    if k%15==0: print()"
   ]
  },
  {
   "cell_type": "code",
   "execution_count": 8,
   "metadata": {},
   "outputs": [
    {
     "name": "stdout",
     "output_type": "stream",
     "text": [
      "[11]\n"
     ]
    }
   ],
   "source": [
    "print(primes1)\n",
    "# print(primes3)\n",
    "# print(primes7)\n",
    "# print(primes9)"
   ]
  },
  {
   "cell_type": "code",
   "execution_count": null,
   "metadata": {},
   "outputs": [],
   "source": [
    "#print(primes)"
   ]
  },
  {
   "cell_type": "code",
   "execution_count": null,
   "metadata": {},
   "outputs": [],
   "source": [
    "# save once\n",
    "# with open('primes.pkl', 'wb') as f:\n",
    "#     pickle.dump(primes, f)"
   ]
  },
  {
   "cell_type": "code",
   "execution_count": null,
   "metadata": {},
   "outputs": [],
   "source": [
    "#save next primes\n",
    "#with open('primes10million.pkl', 'wb') as f:\n",
    "#     pickle.dump(primes2, f)"
   ]
  }
 ],
 "metadata": {
  "kernelspec": {
   "display_name": "Python 3",
   "language": "python",
   "name": "python3"
  },
  "language_info": {
   "codemirror_mode": {
    "name": "ipython",
    "version": 3
   },
   "file_extension": ".py",
   "mimetype": "text/x-python",
   "name": "python",
   "nbconvert_exporter": "python",
   "pygments_lexer": "ipython3",
   "version": "3.11.2"
  }
 },
 "nbformat": 4,
 "nbformat_minor": 2
}
