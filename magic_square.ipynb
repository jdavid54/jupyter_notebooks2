{
 "cells": [
  {
   "cell_type": "code",
   "execution_count": 1,
   "metadata": {},
   "outputs": [
    {
     "data": {
      "text/plain": [
       "(163.0, 151.0, 175.0)"
      ]
     },
     "execution_count": 1,
     "metadata": {},
     "output_type": "execute_result"
    }
   ],
   "source": [
    "#n = int(input())\n",
    "somme = 815\n",
    "center = somme/5\n",
    "start = center - 12\n",
    "end = center + 12\n",
    "center, start, end"
   ]
  },
  {
   "cell_type": "code",
   "execution_count": 2,
   "metadata": {},
   "outputs": [],
   "source": [
    "import numpy as np\n",
    "# must be multiple of 5 \n",
    "# if greater or equal to 65 than got positive numbers in the array\n",
    "tab = np.zeros((5,5),int)\n",
    "#tab"
   ]
  },
  {
   "cell_type": "code",
   "execution_count": 3,
   "metadata": {},
   "outputs": [
    {
     "data": {
      "text/plain": [
       "array([[167, 174, 151, 158, 165],\n",
       "       [173, 155, 157, 164, 166],\n",
       "       [154, 156, 163, 170, 172],\n",
       "       [160, 162, 169, 171, 153],\n",
       "       [161, 168, 175, 152, 159]])"
      ]
     },
     "execution_count": 3,
     "metadata": {},
     "output_type": "execute_result"
    }
   ],
   "source": [
    "r, c = 0, 2\n",
    "count = 1\n",
    "for k in range(25):\n",
    "    #print(r,c,count,start)\n",
    "    tab[r][c] = start\n",
    "    r = (r-1) % 5\n",
    "    c = (c+1) % 5\n",
    "    start += 1\n",
    "    count += 1\n",
    "    if count > 5: \n",
    "        count = 1\n",
    "        r = (r+2) % 5\n",
    "        c = (c-1) % 5\n",
    "\n",
    "tab"
   ]
  },
  {
   "cell_type": "code",
   "execution_count": 4,
   "metadata": {},
   "outputs": [
    {
     "name": "stdout",
     "output_type": "stream",
     "text": [
      "somme= 815\n",
      "row 1 815\n",
      "col 1 815\n",
      "row 2 815\n",
      "col 2 815\n",
      "row 3 815\n",
      "col 3 815\n",
      "row 4 815\n",
      "col 4 815\n",
      "row 5 815\n",
      "col 5 815\n",
      "diag1 815\n",
      "diag2 815\n"
     ]
    }
   ],
   "source": [
    "# control\n",
    "print('somme=',somme)\n",
    "diag1, diag2 = 0,0\n",
    "for r in range(5):\n",
    "    print('row',r+1,sum(tab[r]))\n",
    "    print('col',r+1,sum(tab.T[r]))\n",
    "    diag1 += tab[r][r]\n",
    "    diag2 += tab[4-r][r]\n",
    "print('diag1',diag1)\n",
    "print('diag2',diag2)\n",
    "\n"
   ]
  },
  {
   "cell_type": "markdown",
   "metadata": {},
   "source": [
    "# Généralisation\n",
    "\n",
    "On fixe la taille de la grille : s et on crée la grille tab = [(s,s)] - ex : s = 5, on a une grille 9x9\n",
    "\n",
    "On demande la valeur de la somme qui doit être un multiple de s. - ex : somme = 250 multiple de 5\n",
    "\n",
    "On divise la somme par la taille : center = somme/s et on le place au centre de la grille. - ex : center = 250/5 = 50\n",
    "\n",
    "La valeur start = center - (s//2).(s+1) sera placée au milieu de la rangée 0 (init). - ex : 50 - 2x6 = 38\n",
    "\n",
    "On écrit la suite en montant les diagonales. Au bord, on reprend la diagonale sur le bord opposé en décalant d'une colonne à droite ou d'une rangée plus haut (effet de bord).\n",
    "\n",
    "Si une case est déjà occupée (effet bouchon), on descend d'une rangée puis on continue ..\n"
   ]
  },
  {
   "cell_type": "code",
   "execution_count": 5,
   "metadata": {},
   "outputs": [
    {
     "data": {
      "text/plain": [
       "'size = 9, somme = 450, center = 50, start = 10, end = 90'"
      ]
     },
     "execution_count": 5,
     "metadata": {},
     "output_type": "execute_result"
    }
   ],
   "source": [
    "s = 9 # taille du carré\n",
    "tab = np.zeros((s,s),int)\n",
    "\n",
    "center = 50\n",
    "somme = s*center # la somme doit être un multiple de size\n",
    "start = center - (s+1)*(s//2)\n",
    "end = center + (s+1)*(s//2)\n",
    "somme, center, start, end\n",
    "f'size = {s}, somme = {somme}, center = {center}, start = {start}, end = {end}'\n"
   ]
  },
  {
   "cell_type": "code",
   "execution_count": 6,
   "metadata": {},
   "outputs": [
    {
     "data": {
      "text/plain": [
       "array([[56, 67, 78, 89, 10, 21, 32, 43, 54],\n",
       "       [66, 77, 88, 18, 20, 31, 42, 53, 55],\n",
       "       [76, 87, 17, 19, 30, 41, 52, 63, 65],\n",
       "       [86, 16, 27, 29, 40, 51, 62, 64, 75],\n",
       "       [15, 26, 28, 39, 50, 61, 72, 74, 85],\n",
       "       [25, 36, 38, 49, 60, 71, 73, 84, 14],\n",
       "       [35, 37, 48, 59, 70, 81, 83, 13, 24],\n",
       "       [45, 47, 58, 69, 80, 82, 12, 23, 34],\n",
       "       [46, 57, 68, 79, 90, 11, 22, 33, 44]])"
      ]
     },
     "execution_count": 6,
     "metadata": {},
     "output_type": "execute_result"
    }
   ],
   "source": [
    "r, c = 0, (s//2)\n",
    "count = 1\n",
    "for k in range(s*s):\n",
    "    #print(r,c,count,start)\n",
    "    tab[r][c] = start\n",
    "    r = (r-1) % s\n",
    "    c = (c+1) % s\n",
    "    start += 1\n",
    "    count += 1\n",
    "    if count > s: \n",
    "        count = 1\n",
    "        r = (r+2) % s\n",
    "        c = (c-1) % s\n",
    "\n",
    "tab\n"
   ]
  },
  {
   "cell_type": "code",
   "execution_count": 7,
   "metadata": {},
   "outputs": [
    {
     "name": "stdout",
     "output_type": "stream",
     "text": [
      "somme= 450\n",
      "row 1 450\n",
      "col 1 450\n",
      "row 2 450\n",
      "col 2 450\n",
      "row 3 450\n",
      "col 3 450\n",
      "row 4 450\n",
      "col 4 450\n",
      "row 5 450\n",
      "col 5 450\n",
      "row 6 450\n",
      "col 6 450\n",
      "row 7 450\n",
      "col 7 450\n",
      "row 8 450\n",
      "col 8 450\n",
      "row 9 450\n",
      "col 9 450\n",
      "diag1 450\n",
      "diag2 450\n"
     ]
    }
   ],
   "source": [
    "# control\n",
    "print('somme=',somme)\n",
    "diag1, diag2 = 0,0\n",
    "for r in range(s):\n",
    "    print('row',r+1,sum(tab[r]))\n",
    "    print('col',r+1,sum(tab.T[r]))\n",
    "    diag1 += tab[r][r]\n",
    "    diag2 += tab[s-1-r][r]\n",
    "print('diag1',diag1)\n",
    "print('diag2',diag2)"
   ]
  }
 ],
 "metadata": {
  "kernelspec": {
   "display_name": "Python 3",
   "language": "python",
   "name": "python3"
  },
  "language_info": {
   "codemirror_mode": {
    "name": "ipython",
    "version": 3
   },
   "file_extension": ".py",
   "mimetype": "text/x-python",
   "name": "python",
   "nbconvert_exporter": "python",
   "pygments_lexer": "ipython3",
   "version": "3.10.11"
  }
 },
 "nbformat": 4,
 "nbformat_minor": 2
}
