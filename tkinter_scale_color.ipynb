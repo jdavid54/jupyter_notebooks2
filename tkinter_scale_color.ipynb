{
 "cells": [
  {
   "cell_type": "code",
   "execution_count": 2,
   "metadata": {},
   "outputs": [
    {
     "name": "stdout",
     "output_type": "stream",
     "text": [
      "#010000\n",
      "#020000\n",
      "#020100\n",
      "#020200\n",
      "#020300\n",
      "#020400\n",
      "#020500\n",
      "#020600\n"
     ]
    }
   ],
   "source": [
    "import tkinter as tk\n",
    "my_w = tk.Tk()\n",
    "my_w.geometry(\"410x200\") \n",
    "\n",
    "def my_upd(v):\n",
    "    color_c='#%02x%02x%02x' % (sc1.get(), sc2.get(), sc3.get())\n",
    "    print(color_c)\n",
    "    b1.config(bg=color_c)  # Updating background colour of button\n",
    "    b1.config(text=color_c)# Updating text of the button   \n",
    "\n",
    "font1=('Time',18,'normal')    \n",
    "\n",
    "sc1 = tk.Scale(my_w, from_=0, to=255,bg='red', orient='horizontal',\n",
    "    length=250,command=my_upd)\n",
    "sc1.grid(row=0,column=0,padx=5,pady=10) \n",
    "\n",
    "sc2 = tk.Scale(my_w, from_=0, to=255,bg='green', orient='horizontal',\n",
    "    length=250,command=my_upd)\n",
    "sc2.grid(row=1,column=0,pady=10) \n",
    "\n",
    "sc3 = tk.Scale(my_w, from_=0, to=255,bg='blue', orient='horizontal',\n",
    "    length=250,command=my_upd)\n",
    "sc3.grid(row=2,column=0,pady=10) \n",
    "\n",
    "b1=tk.Button(my_w,text='My colour',font=font1,width=8)\n",
    "b1.grid(row=1,column=1,padx=7)\n",
    "my_w.mainloop()"
   ]
  }
 ],
 "metadata": {
  "kernelspec": {
   "display_name": "Python 3",
   "language": "python",
   "name": "python3"
  },
  "language_info": {
   "codemirror_mode": {
    "name": "ipython",
    "version": 3
   },
   "file_extension": ".py",
   "mimetype": "text/x-python",
   "name": "python",
   "nbconvert_exporter": "python",
   "pygments_lexer": "ipython3",
   "version": "3.11.4"
  }
 },
 "nbformat": 4,
 "nbformat_minor": 2
}
