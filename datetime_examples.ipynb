{
 "cells": [
  {
   "cell_type": "code",
   "execution_count": 27,
   "id": "c7efc2be",
   "metadata": {},
   "outputs": [],
   "source": [
    "from datetime import timedelta\n"
   ]
  },
  {
   "cell_type": "code",
   "execution_count": 28,
   "id": "3be8393e",
   "metadata": {},
   "outputs": [
    {
     "data": {
      "text/plain": [
       "datetime.timedelta(days=64, seconds=29156, microseconds=10)"
      ]
     },
     "execution_count": 28,
     "metadata": {},
     "output_type": "execute_result"
    }
   ],
   "source": [
    "delta = timedelta(\n",
    "    days=50,\n",
    "    seconds=27,\n",
    "    microseconds=10,\n",
    "    milliseconds=29000,   # 29 seconds\n",
    "    # 29 seconds + 27 seconds = 56 seconds\n",
    "    minutes=5,    # 300 seconds\n",
    "    # 300 seconds + 56 seconds = 356 seconds\n",
    "    hours=8,  # 28800 seconds\n",
    "    # 28800 seconds + 356 seconds = 29156 seconds\n",
    "    \n",
    "    weeks=2       # 14 days\n",
    "    # 14 days + 50 days = 64 days\n",
    ")\n",
    "# Only days, seconds, and microseconds remain\n",
    "delta"
   ]
  },
  {
   "cell_type": "code",
   "execution_count": 29,
   "id": "b96bca93",
   "metadata": {},
   "outputs": [
    {
     "data": {
      "text/plain": [
       "(-1, 86399, 999999)"
      ]
     },
     "execution_count": 29,
     "metadata": {},
     "output_type": "execute_result"
    }
   ],
   "source": [
    "d = timedelta(microseconds=-1)\n",
    "(d.days, d.seconds, d.microseconds)"
   ]
  },
  {
   "cell_type": "code",
   "execution_count": 30,
   "id": "ed57f10c",
   "metadata": {},
   "outputs": [
    {
     "data": {
      "text/plain": [
       "(datetime.timedelta(days=-999999999),\n",
       " datetime.timedelta(days=999999999, seconds=86399, microseconds=999999),\n",
       " datetime.timedelta(microseconds=1))"
      ]
     },
     "execution_count": 30,
     "metadata": {},
     "output_type": "execute_result"
    }
   ],
   "source": [
    "timedelta.min, timedelta.max, timedelta.resolution"
   ]
  },
  {
   "cell_type": "code",
   "execution_count": 31,
   "id": "7c0d5e59",
   "metadata": {},
   "outputs": [
    {
     "data": {
      "text/plain": [
       "(130, 3813)"
      ]
     },
     "execution_count": 31,
     "metadata": {},
     "output_type": "execute_result"
    }
   ],
   "source": [
    "duration = timedelta(seconds=11235813)\n",
    "duration.days, duration.seconds\n"
   ]
  },
  {
   "cell_type": "code",
   "execution_count": 32,
   "id": "6bc650a5",
   "metadata": {},
   "outputs": [
    {
     "data": {
      "text/plain": [
       "(11235813.0, 3121.0591666666664, 187263.55, 11235813.0)"
      ]
     },
     "execution_count": 32,
     "metadata": {},
     "output_type": "execute_result"
    }
   ],
   "source": [
    "duration.total_seconds(), duration.total_seconds() / 3600, duration.total_seconds() / 60, duration.total_seconds() / 1"
   ]
  },
  {
   "cell_type": "code",
   "execution_count": 33,
   "id": "e4760d58",
   "metadata": {},
   "outputs": [
    {
     "data": {
      "text/plain": [
       "(datetime.timedelta(days=3, seconds=36788),\n",
       " datetime.timedelta(days=-2, seconds=64380),\n",
       " datetime.timedelta(days=2, seconds=14768))"
      ]
     },
     "execution_count": 33,
     "metadata": {},
     "output_type": "execute_result"
    }
   ],
   "source": [
    "t1=timedelta(days=1, hours=2, minutes=3, seconds=4)\n",
    "t2=timedelta(days=2, hours=8, minutes=10, seconds=4)\n",
    "t1.total_seconds(), t2.total_seconds()\n",
    "t1 + t2, t1 - t2, t1 * 2\n"
   ]
  },
  {
   "cell_type": "code",
   "execution_count": 34,
   "id": "58ce4ffe",
   "metadata": {},
   "outputs": [
    {
     "data": {
      "text/plain": [
       "(datetime.timedelta(seconds=46892),\n",
       " datetime.timedelta(seconds=46892),\n",
       " datetime.timedelta(days=1, seconds=7384))"
      ]
     },
     "execution_count": 34,
     "metadata": {},
     "output_type": "execute_result"
    }
   ],
   "source": [
    "t1 / 2, t1 // 2, t1 % t2, \n"
   ]
  },
  {
   "cell_type": "code",
   "execution_count": 35,
   "id": "cd85a17c",
   "metadata": {},
   "outputs": [
    {
     "data": {
      "text/plain": [
       "(datetime.timedelta(days=3, seconds=36788),\n",
       " datetime.timedelta(days=-2, seconds=64380),\n",
       " datetime.timedelta(days=2, seconds=14768),\n",
       " datetime.timedelta(seconds=46892),\n",
       " datetime.timedelta(seconds=46892),\n",
       " datetime.timedelta(days=1, seconds=7384),\n",
       " datetime.timedelta(days=2, seconds=7384),\n",
       " datetime.timedelta(seconds=7384),\n",
       " datetime.timedelta(days=2, seconds=14768),\n",
       " datetime.timedelta(seconds=46892),\n",
       " datetime.timedelta(seconds=46892),\n",
       " datetime.timedelta(days=1, seconds=7384))"
      ]
     },
     "execution_count": 35,
     "metadata": {},
     "output_type": "execute_result"
    }
   ],
   "source": [
    "t1 + t2, t1 - t2, t1 * 2, t1 / 2, t1 // 2, t1 % t2, t1 + timedelta(days=1), t1 - timedelta(days=1), t1 * 2, t1 / 2, t1 // 2, t1 % t2"
   ]
  },
  {
   "cell_type": "code",
   "execution_count": 36,
   "id": "944b4e63",
   "metadata": {},
   "outputs": [
    {
     "data": {
      "text/plain": [
       "('1 day, 2:03:04',\n",
       " 'datetime.timedelta(days=1, seconds=7384)',\n",
       " '2 days, 8:10:04',\n",
       " 'datetime.timedelta(days=2, seconds=29404)',\n",
       " '3 days, 10:13:08',\n",
       " 'datetime.timedelta(days=3, seconds=36788)',\n",
       " '-2 days, 17:53:00',\n",
       " 'datetime.timedelta(days=-2, seconds=64380)',\n",
       " '2 days, 4:06:08',\n",
       " 'datetime.timedelta(days=2, seconds=14768)',\n",
       " '13:01:32',\n",
       " 'datetime.timedelta(seconds=46892)',\n",
       " '13:01:32',\n",
       " 'datetime.timedelta(seconds=46892)',\n",
       " '1 day, 2:03:04',\n",
       " 'datetime.timedelta(days=1, seconds=7384)')"
      ]
     },
     "execution_count": 36,
     "metadata": {},
     "output_type": "execute_result"
    }
   ],
   "source": [
    "str(t1), repr(t1), str(t2), repr(t2), str(t1 + t2), repr(t1 + t2), str(t1 - t2), repr(t1 - t2), str(t1 * 2), repr(t1 * 2), str(t1 / 2), repr(t1 / 2), str(t1 // 2), repr(t1 // 2), str(t1 % t2), repr(t1 % t2) "
   ]
  }
 ],
 "metadata": {
  "kernelspec": {
   "display_name": "Python 3",
   "language": "python",
   "name": "python3"
  },
  "language_info": {
   "codemirror_mode": {
    "name": "ipython",
    "version": 3
   },
   "file_extension": ".py",
   "mimetype": "text/x-python",
   "name": "python",
   "nbconvert_exporter": "python",
   "pygments_lexer": "ipython3",
   "version": "3.13.2"
  }
 },
 "nbformat": 4,
 "nbformat_minor": 5
}
