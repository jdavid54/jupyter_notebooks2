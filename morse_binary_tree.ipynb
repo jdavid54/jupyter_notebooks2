{
 "cells": [
  {
   "cell_type": "code",
   "execution_count": 409,
   "metadata": {},
   "outputs": [],
   "source": [
    "morse_dict = {'E': '.','T': '-',\n",
    "# 2 elements\n",
    "'I': '..','A': '.-','N': '-.','M': '--',\n",
    "# 3 elements\n",
    "'S': '...','U': '..-','R': '.-.','W': '.--','D': '-..','K': '-.-','G': '--.','O': '---',\n",
    "# 4 elements\n",
    "'H': '....','V': '...-','F': '..-.',    'L': '.-..', 'P': '.--.','J': '.---','B': '-...',\n",
    "'X': '-..-', 'C': '-.-.', 'Y': '-.--', 'Z': '--..', 'Q': '--.-',\n",
    "# numbers\n",
    "'5': '.....','4': '....-','3': '...--','2': '..---','1': '.----','6': '-....',\n",
    "'7': '--...','8': '---..','9': '----.','0': '-----'\n",
    "}\n",
    "\n",
    "root_symbol = '*'\n",
    "\n",
    "class TreeNode:\n",
    "    def __init__(self, value):\n",
    "        self.value = value\n",
    "        self.left = None\n",
    "        self.right = None\n",
    "        self.level = 0\n",
    "\n",
    "def insert(node, letter, code):\n",
    "    level = node.level\n",
    "    #print(letter, end=' => ')\n",
    "        \n",
    "    for char in code:                \n",
    "        if char == '.':\n",
    "            level += 1\n",
    "            if node.left is None:\n",
    "                #print('insL', letter, level)\n",
    "                node.left = TreeNode('.')            \n",
    "            node = node.left\n",
    "            \n",
    "        elif char == '-':\n",
    "            level += 1\n",
    "            if node.right is None:\n",
    "                #print('insR', letter, level)\n",
    "                node.right = TreeNode('.')\n",
    "            node = node.right\n",
    "\n",
    "    node.value = letter\n",
    "    #node.level = level\n",
    "\n",
    "def level_order_traversal(node):\n",
    "    if node is None:\n",
    "        return\n",
    "    \n",
    "    queue = []\n",
    "    queue.append(node)\n",
    "\n",
    "    while queue:\n",
    "        current_node = queue.pop(0)\n",
    "        print(current_node.value, end=\" \")\n",
    "\n",
    "        if current_node.left:\n",
    "            queue.append(current_node.left)\n",
    "        if current_node.right:\n",
    "            queue.append(current_node.right)  \n",
    "\n",
    "def create_binary_tree(levels):\n",
    "    if levels <= 0:\n",
    "        return None\n",
    "\n",
    "    root = TreeNode(1)\n",
    "    queue = [root]\n",
    "    current_level = 1\n",
    "\n",
    "    while current_level < levels:\n",
    "        nodes_in_current_level = len(queue)\n",
    "        for _ in range(nodes_in_current_level):\n",
    "            node = queue.pop(0)\n",
    "            node.left = TreeNode(2 * node.value)\n",
    "            node.right = TreeNode(2 * node.value + 1)\n",
    "            queue.append(node.left)\n",
    "            queue.append(node.right)\n",
    "        current_level += 1\n",
    "\n",
    "    return root\n",
    "\n",
    "def print_tree(node):\n",
    "    if node:\n",
    "        print(node.value, end=\" \")\n",
    "        print_tree(node.left)\n",
    "        print_tree(node.right)\n",
    "        #print()\n",
    "\n",
    "def build_morse_tree(value=root_symbol):\n",
    "    root = TreeNode(value)\n",
    "    for k, v in morse_dict.items():\n",
    "        insert(root, k, v)    \n",
    "    return root\n",
    "\n",
    "def find_character(node, code):    \n",
    "    if node is None:\n",
    "        return ''\n",
    "    if code == '':\n",
    "        return node.value\n",
    "    \n",
    "    if code[0] == '.':\n",
    "        if node.left.value == '':\n",
    "            node.left.value = 'x'\n",
    "        #print('left',node.left.value,'- x', node.left.level)\n",
    "        return find_character(node.left, code[1:])\n",
    "    \n",
    "    elif code[0] == '-':\n",
    "        if node.right.value == '':\n",
    "            node.right.value = 'x'\n",
    "        #print('right','x -',node.right.value, node.right.level)\n",
    "        return find_character(node.right, code[1:])\n",
    "\n",
    "def find_deepest_level(root):\n",
    "    if root is None:\n",
    "        return 0\n",
    "    return 1 + max(find_deepest_level(root.left), find_deepest_level(root.right))\n",
    "\n",
    "\n",
    "def find_max_depth(node):\n",
    "    if node is None:\n",
    "        return 0\n",
    "    left_depth = find_max_depth(node.left)\n",
    "    right_depth = find_max_depth(node.right)\n",
    "    return max(left_depth, right_depth) + 1\n",
    "\n",
    "def complete_branches_up_to_deepest(root, fixed_value, current_level, deepest_level):\n",
    "    if root is None:\n",
    "        return\n",
    "\n",
    "    if current_level == deepest_level:\n",
    "        return\n",
    "\n",
    "    if current_level < deepest_level:\n",
    "        #print('Level=', current_level, root.value,end=':')\n",
    "\n",
    "        if root.left is None :\n",
    "            #print('L:',current_level,end=',')\n",
    "            root.left = TreeNode(fixed_value)\n",
    "        root.left.level = current_level\n",
    "        #print('L+:',root.left.level)\n",
    "\n",
    "        if root.right is None :\n",
    "            #print('R:',current_level,end=',')\n",
    "            root.right = TreeNode(fixed_value)\n",
    "        root.right.level = current_level\n",
    "        #print('R+:',root.right.level)    \n",
    "        \n",
    "        #print('L+:',root.left.level,root.left.value,'  R+:',root.right.level,root.right.value)\n",
    "        #print()\n",
    "\n",
    "        complete_branches_up_to_deepest(root.left, fixed_value, current_level + 1, deepest_level)\n",
    "        complete_branches_up_to_deepest(root.right, fixed_value, current_level + 1, deepest_level)\n",
    "   \n",
    "\n",
    "def complete_binary_tree(root, fixed_value='.'):\n",
    "    deepest_level = find_deepest_level(root)\n",
    "    complete_branches_up_to_deepest(root, fixed_value, 1, deepest_level)\n",
    "\n"
   ]
  },
  {
   "cell_type": "code",
   "execution_count": 410,
   "metadata": {},
   "outputs": [],
   "source": [
    "\n",
    "def print_tree_horizontally(root):  # root at top\n",
    "    if root is None:\n",
    "        return    \n",
    "    # Perform a level-order traversal using a queue\n",
    "    queue = [root]\n",
    "    \n",
    "    while queue:\n",
    "        current_level = []\n",
    "        next_level = []\n",
    "        n = 1\n",
    "        for node in queue:\n",
    "            if n%2==1: \n",
    "                current_level.append('(')          \n",
    "            current_level.append(str(node.value))\n",
    "            if n%2==1 and node != root:current_level.append('-')\n",
    "            if node.left:\n",
    "                next_level.append(node.left)\n",
    "                \n",
    "            if node.right:\n",
    "                next_level.append(node.right)\n",
    "            if n%2==0 or node.value==root_symbol: current_level.append(')')\n",
    "            n+=1\n",
    "        print(''.join(current_level))\n",
    "        queue = next_level\n",
    "\n",
    "\n",
    "def print_tree_level(root):  # root at top\n",
    "    if root is None:\n",
    "        return    \n",
    "    # Perform a level-order traversal using a queue\n",
    "    queue = [root]\n",
    "    \n",
    "    while queue:\n",
    "        current_level = []\n",
    "        next_level = []\n",
    "        n = 1\n",
    "        for node in queue:\n",
    "            if n%2==1: current_level.append('(')          \n",
    "            current_level.append(str(node.level))\n",
    "            if n%2==1 and node != root:current_level.append('-')\n",
    "            if node.left:\n",
    "                next_level.append(node.left)\n",
    "            if node.right:\n",
    "                next_level.append(node.right)\n",
    "            if n%2==0 or node.value==root_symbol: current_level.append(')')\n",
    "            n+=1\n",
    "        print(''.join(current_level))\n",
    "        queue = next_level"
   ]
  },
  {
   "cell_type": "code",
   "execution_count": 411,
   "metadata": {},
   "outputs": [],
   "source": [
    "\n",
    "root = build_morse_tree()\n",
    "#find_character(tree, '..---')\n",
    "#print(find_max_depth(root))\n"
   ]
  },
  {
   "cell_type": "code",
   "execution_count": 412,
   "metadata": {},
   "outputs": [
    {
     "name": "stdout",
     "output_type": "stream",
     "text": [
      "* E I S H 5 4 V 3 U F . 2 A R L W P J 1 T N D B 6 X K C Y M G Z 7 Q O . 8 . 9 0 "
     ]
    }
   ],
   "source": [
    "print_tree(root)"
   ]
  },
  {
   "cell_type": "code",
   "execution_count": 413,
   "metadata": {},
   "outputs": [
    {
     "name": "stdout",
     "output_type": "stream",
     "text": [
      "(*)\n",
      "(E-T)\n",
      "(I-A)(N-M)\n",
      "(S-U)(R-W)(D-K)(G-O)\n",
      "(H-V)(F-.)(L-P)(J-B)(X-C)(Y-Z)(Q-.)(.-\n",
      "(5-4)(3-2)(1-6)(7-8)(9-0)\n"
     ]
    }
   ],
   "source": [
    "print_tree_horizontally(root)"
   ]
  },
  {
   "cell_type": "code",
   "execution_count": 414,
   "metadata": {},
   "outputs": [
    {
     "data": {
      "text/plain": [
       "'2'"
      ]
     },
     "execution_count": 414,
     "metadata": {},
     "output_type": "execute_result"
    }
   ],
   "source": [
    "find_character(root,'..---')"
   ]
  },
  {
   "cell_type": "code",
   "execution_count": 415,
   "metadata": {},
   "outputs": [],
   "source": [
    "complete_binary_tree(root)\n"
   ]
  },
  {
   "cell_type": "code",
   "execution_count": 416,
   "metadata": {},
   "outputs": [
    {
     "name": "stdout",
     "output_type": "stream",
     "text": [
      "(*)\n",
      "(E-T)\n",
      "(I-A)(N-M)\n",
      "(S-U)(R-W)(D-K)(G-O)\n",
      "(H-V)(F-.)(L-.)(P-J)(B-X)(C-Y)(Z-Q)(.-.)\n",
      "(5-4)(.-3)(.-.)(.-2)(.-.)(.-.)(.-.)(.-1)(6-.)(.-.)(.-.)(.-.)(7-.)(.-.)(8-.)(9-0)\n"
     ]
    }
   ],
   "source": [
    "print_tree_horizontally(root)\n"
   ]
  },
  {
   "cell_type": "code",
   "execution_count": 417,
   "metadata": {},
   "outputs": [
    {
     "name": "stdout",
     "output_type": "stream",
     "text": [
      "(0)\n",
      "(1-1)\n",
      "(2-2)(2-2)\n",
      "(3-3)(3-3)(3-3)(3-3)\n",
      "(4-4)(4-4)(4-4)(4-4)(4-4)(4-4)(4-4)(4-4)\n",
      "(5-5)(5-5)(5-5)(5-5)(5-5)(5-5)(5-5)(5-5)(5-5)(5-5)(5-5)(5-5)(5-5)(5-5)(5-5)(5-5)\n"
     ]
    }
   ],
   "source": [
    "print_tree_level(root)"
   ]
  },
  {
   "cell_type": "code",
   "execution_count": 418,
   "metadata": {},
   "outputs": [
    {
     "data": {
      "text/plain": [
       "'Z'"
      ]
     },
     "execution_count": 418,
     "metadata": {},
     "output_type": "execute_result"
    }
   ],
   "source": [
    "find_character(root,'--..')"
   ]
  },
  {
   "cell_type": "code",
   "execution_count": 419,
   "metadata": {},
   "outputs": [
    {
     "name": "stdout",
     "output_type": "stream",
     "text": [
      "* E I S H 5 4 V 3 U F . 2 A R L W P J 1 T N D B 6 X K C Y M G Z 7 Q O . 8 . 9 0 "
     ]
    }
   ],
   "source": [
    "tree = build_morse_tree()\n",
    "\n",
    "print_tree(tree)\n"
   ]
  },
  {
   "cell_type": "code",
   "execution_count": 420,
   "metadata": {},
   "outputs": [],
   "source": [
    "complete_binary_tree(tree)"
   ]
  },
  {
   "cell_type": "code",
   "execution_count": 421,
   "metadata": {},
   "outputs": [
    {
     "name": "stdout",
     "output_type": "stream",
     "text": [
      "(*)\n",
      "(E-T)\n",
      "(I-A)(N-M)\n",
      "(S-U)(R-W)(D-K)(G-O)\n",
      "(H-V)(F-.)(L-.)(P-J)(B-X)(C-Y)(Z-Q)(.-.)\n",
      "(5-4)(.-3)(.-.)(.-2)(.-.)(.-.)(.-.)(.-1)(6-.)(.-.)(.-.)(.-.)(7-.)(.-.)(8-.)(9-0)\n"
     ]
    }
   ],
   "source": [
    "print_tree_horizontally(tree)"
   ]
  },
  {
   "cell_type": "code",
   "execution_count": 422,
   "metadata": {},
   "outputs": [
    {
     "data": {
      "text/plain": [
       "'4'"
      ]
     },
     "execution_count": 422,
     "metadata": {},
     "output_type": "execute_result"
    }
   ],
   "source": [
    "# find char from morse code\n",
    "code = '....-'\n",
    "find_character(tree, code)"
   ]
  },
  {
   "cell_type": "code",
   "execution_count": 423,
   "metadata": {},
   "outputs": [
    {
     "data": {
      "text/plain": [
       "'....-'"
      ]
     },
     "execution_count": 423,
     "metadata": {},
     "output_type": "execute_result"
    }
   ],
   "source": [
    "morse_dict['4']"
   ]
  },
  {
   "cell_type": "code",
   "execution_count": 424,
   "metadata": {},
   "outputs": [
    {
     "name": "stdout",
     "output_type": "stream",
     "text": [
      "(1\n",
      "(2-3)\n",
      "(4-5)(6-7)\n",
      "(8-9)(10-11)(12-13)(14-15)\n",
      "(16-17)(18-19)(20-21)(22-23)(24-25)(26-27)(28-29)(30-31)\n",
      "(32-33)(34-35)(36-37)(38-39)(40-41)(42-43)(44-45)(46-47)(48-49)(50-51)(52-53)(54-55)(56-57)(58-59)(60-61)(62-63)\n"
     ]
    }
   ],
   "source": [
    "root=create_binary_tree(6)\n",
    "print_tree_horizontally(root)"
   ]
  },
  {
   "cell_type": "code",
   "execution_count": 425,
   "metadata": {},
   "outputs": [
    {
     "name": "stdout",
     "output_type": "stream",
     "text": [
      "* E I S H 5 4 V 3 U F . 2 A R L W P J 1 T N D B 6 X K C Y M G Z 7 Q O . 8 . 9 0 "
     ]
    }
   ],
   "source": [
    "tree= build_morse_tree()\n",
    "print_tree(tree)"
   ]
  },
  {
   "cell_type": "code",
   "execution_count": 426,
   "metadata": {},
   "outputs": [],
   "source": [
    "def encode_morse(text):\n",
    "    morse_tree = build_morse_tree()\n",
    "    morse_code = ''\n",
    "    for char in text:\n",
    "        if char == ' ': \n",
    "            morse_code += '/ '\n",
    "        else:\n",
    "            s = find_morse_code(morse_tree, char.upper())\n",
    "            #print(char, s)\n",
    "            morse_code += s + ' '  # Ensure all characters are in uppercase\n",
    "    return morse_code.strip()\n",
    "\n",
    "def decode_morse(morse_code):\n",
    "    morse_tree = build_morse_tree()\n",
    "    decoded_text = ''\n",
    "    morse_code_list = morse_code.split(' ')\n",
    "    for code in morse_code_list:\n",
    "        #print(code)\n",
    "        if code == '/': \n",
    "            decoded_text += ' '\n",
    "        else :\n",
    "            decoded_text += find_character(morse_tree, code)\n",
    "    return decoded_text\n",
    "\n",
    "def find_morse_code(node, target):\n",
    "    if node is None:\n",
    "        return None\n",
    "    if node.value == target:\n",
    "        return ''\n",
    "    \n",
    "    left_result = find_morse_code(node.left, target)\n",
    "    if left_result is not None:\n",
    "        return '.' + left_result\n",
    "    \n",
    "    right_result = find_morse_code(node.right, target)\n",
    "    if right_result is not None:\n",
    "        return '-' + right_result    \n",
    "    return None"
   ]
  },
  {
   "cell_type": "code",
   "execution_count": 427,
   "metadata": {},
   "outputs": [
    {
     "data": {
      "text/plain": [
       "'. .- -'"
      ]
     },
     "execution_count": 427,
     "metadata": {},
     "output_type": "execute_result"
    }
   ],
   "source": [
    "encode_morse('EAT')"
   ]
  },
  {
   "cell_type": "code",
   "execution_count": 428,
   "metadata": {},
   "outputs": [
    {
     "data": {
      "text/plain": [
       "'.'"
      ]
     },
     "execution_count": 428,
     "metadata": {},
     "output_type": "execute_result"
    }
   ],
   "source": [
    "find_morse_code(tree,'E')"
   ]
  },
  {
   "cell_type": "code",
   "execution_count": 429,
   "metadata": {},
   "outputs": [],
   "source": [
    "from collections import deque\n",
    "\n",
    "def print_tree_from_bottom(root):  # root at bottom, leaves at top\n",
    "    if root is None:\n",
    "        return\n",
    "    \n",
    "    # Perform a reverse level-order traversal\n",
    "    queue = deque([root])\n",
    "    level_order_nodes = []\n",
    "    while queue:\n",
    "        level_order_nodes.append([node.value for node in queue])\n",
    "        level_size = len(queue)\n",
    "        for _ in range(level_size):\n",
    "            node = queue.popleft()\n",
    "            if node.left:\n",
    "                queue.append(node.left)\n",
    "            if node.right:\n",
    "                queue.append(node.right)\n",
    "    \n",
    "    # Print the Morse code tree with the root at the top and leaves at the bottom\n",
    "    for level_nodes in reversed(level_order_nodes):\n",
    "        print(' '.join(level_nodes))\n",
    "\n",
    "def print_tree_util(node, depth, level=0):\n",
    "    if node is None:\n",
    "        return\n",
    "    if level == depth:\n",
    "        print(' ' * level * 4 + node.value)\n",
    "    else:\n",
    "        print_tree_util(node.right, depth, level + 1)\n",
    "        print(' ' * level * 4 + node.value)\n",
    "        print_tree_util(node.left, depth, level + 1)\n",
    "\n",
    "def print_tree_from_left(root):\n",
    "    max_depth = find_max_depth(root)\n",
    "    print_tree_util(root, max_depth - 1)"
   ]
  },
  {
   "cell_type": "code",
   "execution_count": 430,
   "metadata": {},
   "outputs": [
    {
     "name": "stdout",
     "output_type": "stream",
     "text": [
      "encode: HELLO WORLD\n",
      "Encoded Morse Code: .... . .-.. .-.. --- / .-- --- .-. .-.. -..\n"
     ]
    }
   ],
   "source": [
    "# Example usage:\n",
    "text_to_encode = \"HELLO WORLD\"\n",
    "print('encode:',text_to_encode)\n",
    "encoded_text = encode_morse(text_to_encode)\n",
    "print(\"Encoded Morse Code:\", encoded_text)\n"
   ]
  },
  {
   "cell_type": "code",
   "execution_count": 431,
   "metadata": {},
   "outputs": [
    {
     "name": "stdout",
     "output_type": "stream",
     "text": [
      "Decoded Text: HELLO WORLD\n"
     ]
    }
   ],
   "source": [
    "# decode text\n",
    "decoded_text = decode_morse(encoded_text)\n",
    "print(\"Decoded Text:\", decoded_text)"
   ]
  }
 ],
 "metadata": {
  "kernelspec": {
   "display_name": "Python 3",
   "language": "python",
   "name": "python3"
  },
  "language_info": {
   "codemirror_mode": {
    "name": "ipython",
    "version": 3
   },
   "file_extension": ".py",
   "mimetype": "text/x-python",
   "name": "python",
   "nbconvert_exporter": "python",
   "pygments_lexer": "ipython3",
   "version": "3.11.4"
  }
 },
 "nbformat": 4,
 "nbformat_minor": 2
}
