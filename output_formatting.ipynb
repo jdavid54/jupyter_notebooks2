{
 "cells": [
  {
   "cell_type": "code",
   "execution_count": 1,
   "metadata": {},
   "outputs": [
    {
     "data": {
      "text/html": [
       "<style  type=\"text/css\" >\n",
       "</style><table id=\"T_bbed8e92_44e1_11ea_9dc7_b827ebf629d0\" ><thead>    <tr>        <th class=\"blank level0\" ></th>        <th class=\"col_heading level0 col0\" >name</th>        <th class=\"col_heading level0 col1\" >value</th>    </tr></thead><tbody>\n",
       "                <tr>\n",
       "                        <th id=\"T_bbed8e92_44e1_11ea_9dc7_b827ebf629d0level0_row0\" class=\"row_heading level0 row0\" >0</th>\n",
       "                        <td id=\"T_bbed8e92_44e1_11ea_9dc7_b827ebf629d0row0_col0\" class=\"data row0 col0\" >~~ pi ~~</td>\n",
       "                        <td id=\"T_bbed8e92_44e1_11ea_9dc7_b827ebf629d0row0_col1\" class=\"data row0 col1\" >-->    3.1415926536 <--</td>\n",
       "            </tr>\n",
       "            <tr>\n",
       "                        <th id=\"T_bbed8e92_44e1_11ea_9dc7_b827ebf629d0level0_row1\" class=\"row_heading level0 row1\" >1</th>\n",
       "                        <td id=\"T_bbed8e92_44e1_11ea_9dc7_b827ebf629d0row1_col0\" class=\"data row1 col0\" >~~ e ~~</td>\n",
       "                        <td id=\"T_bbed8e92_44e1_11ea_9dc7_b827ebf629d0row1_col1\" class=\"data row1 col1\" >-->    2.7182818285 <--</td>\n",
       "            </tr>\n",
       "    </tbody></table>"
      ],
      "text/plain": [
       "<pandas.io.formats.style.Styler at 0x73a49a30>"
      ]
     },
     "execution_count": 1,
     "metadata": {},
     "output_type": "execute_result"
    }
   ],
   "source": [
    "import pandas as pd\n",
    "import numpy as np\n",
    "\n",
    "constants = pd.DataFrame([('pi',np.pi),('e',np.e)],\n",
    "                   columns=['name','value'])\n",
    "C = constants.style.format({'name': '~~ {} ~~', 'value':'--> {:15.10f} <--'})\n",
    "C"
   ]
  },
  {
   "cell_type": "code",
   "execution_count": 2,
   "metadata": {},
   "outputs": [
    {
     "name": "stdout",
     "output_type": "stream",
     "text": [
      "Geeks :  1, Portal :  5.33\n",
      "Total students :  240, Boys :  120\n",
      "    031\n",
      " 3.561E+02\n"
     ]
    }
   ],
   "source": [
    "import numpy as np\n",
    "\n",
    "# Python program showing how to use \n",
    "# string modulo operator(%) to print \n",
    "# fancier output \n",
    "\n",
    "# print integer and float value \n",
    "print(\"Geeks : % 2d, Portal : % 5.2f\" %(1, 05.333)) \n",
    "\n",
    "# print integer value \n",
    "print(\"Total students : % 3d, Boys : % 2d\" %(240, 120)) \n",
    "\n",
    "# print octal value \n",
    "print(\"% 7.3o\"% (25)) \n",
    "\n",
    "# print exponential value \n",
    "print(\"% 10.3E\"% (356.08977)) "
   ]
  },
  {
   "cell_type": "code",
   "execution_count": 3,
   "metadata": {},
   "outputs": [
    {
     "name": "stdout",
     "output_type": "stream",
     "text": [
      "I love Geeks for \"Geeks!\"\n",
      "Geeks and Portal\n",
      "Portal and Geeks\n"
     ]
    }
   ],
   "source": [
    "# Python program showing \n",
    "# use of format() method \n",
    "\n",
    "# using format() method \n",
    "print('I love {} for \"{}!\"'.format('Geeks', 'Geeks')) \n",
    "\n",
    "# using format() method and refering \n",
    "# a position of the object \n",
    "print('{0} and {1}'.format('Geeks', 'Portal')) \n",
    "\n",
    "print('{1} and {0}'.format('Geeks', 'Portal')) "
   ]
  },
  {
   "cell_type": "code",
   "execution_count": 4,
   "metadata": {},
   "outputs": [
    {
     "name": "stdout",
     "output_type": "stream",
     "text": [
      "Number one portal is Geeks, For, and Geeks.\n",
      "Geeks :12, Portal :    0.55\n",
      "Second argument:  11, first one:   47.42\n",
      "Geeks:   453, Portal:    59.06\n"
     ]
    }
   ],
   "source": [
    "# Python program showing \n",
    "# a use of format() method \n",
    "\n",
    "# combining positional and keyword arguments \n",
    "print('Number one portal is {0}, {1}, and {other}.'\n",
    "    .format('Geeks', 'For', other ='Geeks')) \n",
    "\n",
    "# using format() method with number \n",
    "print(\"Geeks :{0:2d}, Portal :{1:8.2f}\". \n",
    "    format(12, 00.546)) \n",
    "\n",
    "# Changing positional argument \n",
    "print(\"Second argument: {1:3d}, first one: {0:7.2f}\". \n",
    "    format(47.42, 11)) \n",
    "\n",
    "print(\"Geeks: {a:5d}, Portal: {p:8.2f}\". \n",
    "    format(a = 453, p = 59.058)) "
   ]
  },
  {
   "cell_type": "code",
   "execution_count": 5,
   "metadata": {},
   "outputs": [
    {
     "name": "stdout",
     "output_type": "stream",
     "text": [
      "Geeks: 4127; For: 4098; Geeks: 8637678\n",
      "I love GeeksForGeeks computer Portal\n"
     ]
    }
   ],
   "source": [
    "# Python program to \n",
    "# show format () is \n",
    "# used in dictionary \n",
    "\n",
    "tab = {'geeks': 4127, 'for': 4098, 'geek': 8637678} \n",
    "\n",
    "# using format() in dictionary \n",
    "print('Geeks: {0[geeks]:d}; For: {0[for]:d}; '\n",
    "    'Geeks: {0[geek]:d}'.format(tab)) \n",
    "\n",
    "data = dict(fun =\"GeeksForGeeks\", adj =\"Portal\") \n",
    "\n",
    "# using format() in dictionary \n",
    "print(\"I love {fun} computer {adj}\".format(**data)) "
   ]
  },
  {
   "cell_type": "code",
   "execution_count": 6,
   "metadata": {},
   "outputs": [
    {
     "name": "stdout",
     "output_type": "stream",
     "text": [
      "Center aligned string with fillchr: \n",
      "##########I love geeksforgeeks##########\n",
      "The left aligned string is : \n",
      "I love geeksforgeeks--------------------\n",
      "The right aligned string is : \n",
      "--------------------I love geeksforgeeks\n"
     ]
    }
   ],
   "source": [
    "# Python program to \n",
    "# format a output using \n",
    "# string() method \n",
    "\n",
    "cstr = \"I love geeksforgeeks\"\n",
    "    \n",
    "# Printing the center aligned \n",
    "# string with fillchr \n",
    "print (\"Center aligned string with fillchr: \") \n",
    "print (cstr.center(40, '#')) \n",
    "\n",
    "# Printing the left aligned \n",
    "# string with \"-\" padding \n",
    "print (\"The left aligned string is : \") \n",
    "print (cstr.ljust(40, '-')) \n",
    "\n",
    "# Printing the right aligned string \n",
    "# with \"-\" padding \n",
    "print (\"The right aligned string is : \") \n",
    "print (cstr.rjust(40, '-')) "
   ]
  },
  {
   "cell_type": "code",
   "execution_count": 7,
   "metadata": {},
   "outputs": [
    {
     "name": "stdout",
     "output_type": "stream",
     "text": [
      "Variable as string = 15\n",
      "Variable as raw data = '15'\n",
      "Variable as integer = 15\n",
      "Variable as float = 15.000000\n",
      "Variable as printing with special char = \u000fmayank\n",
      "Variable as hexadecimal = f\n",
      "Variable as octal = 17\n"
     ]
    }
   ],
   "source": [
    "# Python program to demonstrate the use of formatting using % \n",
    "\n",
    "# Initialize variable as a string \n",
    "variable = '15'\n",
    "string = \"Variable as string = %s\" %(variable) \n",
    "print (string )\n",
    "\n",
    "# Printing as raw data \n",
    "# Thanks to Himanshu Pant for this \n",
    "print (\"Variable as raw data = %r\" %(variable) )\n",
    "\n",
    "# Convert the variable to integer \n",
    "# And perform check other formatting options \n",
    "\n",
    "variable = int(variable) # Without this the below statement \n",
    "                        # will give error. \n",
    "string = \"Variable as integer = %d\" %(variable) \n",
    "print (string )\n",
    "print (\"Variable as float = %f\" %(variable) )\n",
    "\n",
    "# printing as any string or char after a mark \n",
    "# here i use mayank as a string \n",
    "print (\"Variable as printing with special char = %cmayank\" %(variable) )\n",
    "\n",
    "print (\"Variable as hexadecimal = %x\" %(variable) )\n",
    "print (\"Variable as octal = %o\" %(variable) )"
   ]
  },
  {
   "cell_type": "code",
   "execution_count": 8,
   "metadata": {},
   "outputs": [
    {
     "name": "stdout",
     "output_type": "stream",
     "text": [
      "Using json.dump(): [\"Hello\", \"Geeks\"]\n",
      "Using json.dumps(): \"<class 'type'>\"\n",
      "Using json.JSONEncoder().encode\"<class 'type'>\"\n",
      "Using json.JSONEncoder().iterencode['\"<class \\'type\\'>\"']\n"
     ]
    }
   ],
   "source": [
    "#Code will run in Python 3 \n",
    "\n",
    "from io import StringIO \n",
    "import json \n",
    "\n",
    "fileObj = StringIO() \n",
    "json.dump([\"Hello\", \"Geeks\"], fileObj) \n",
    "print(\"Using json.dump(): \"+str(fileObj.getvalue())) \n",
    "\n",
    "class TypeEncoder(json.JSONEncoder): \n",
    "    def default(self, obj): \n",
    "        if isinstance(obj, type): \n",
    "            return str(obj) \n",
    "\n",
    "print(\"Using json.dumps(): \"+str(json.dumps(type(str), cls=TypeEncoder))) \n",
    "print(\"Using json.JSONEncoder().encode\"+\n",
    "    str(TypeEncoder().encode(type(list)))) \n",
    "print(\"Using json.JSONEncoder().iterencode\"+\n",
    "    str(list(TypeEncoder().iterencode(type(dict))))) "
   ]
  },
  {
   "cell_type": "code",
   "execution_count": 9,
   "metadata": {},
   "outputs": [
    {
     "name": "stdout",
     "output_type": "stream",
     "text": [
      "Using json.load(): ['Geeks for Geeks']\n",
      "Using json.loads(): {'Geeks': 3, 'for': 2}\n",
      "Using json.JSONDecoder().decode(): {'Geeks': 3, 'for': 2}\n",
      "Using json.JSONDecoder().raw_decode(): ({'Geeks': 3, 'for': 2}, 34)\n"
     ]
    }
   ],
   "source": [
    "#Code will run in Python 3 \n",
    "\n",
    "from io import StringIO \n",
    "import json \n",
    "\n",
    "fileObj = StringIO('[\"Geeks for Geeks\"]') \n",
    "print(\"Using json.load(): \"+str(json.load(fileObj))) \n",
    "print(\"Using json.loads(): \"+str(json.loads('{\"Geeks\": 1, \"for\": 2, \"Geeks\": 3}'))) \n",
    "print(\"Using json.JSONDecoder().decode(): \" +\n",
    "    str(json.JSONDecoder().decode('{\"Geeks\": 1, \"for\": 2, \"Geeks\": 3}'))) \n",
    "print(\"Using json.JSONDecoder().raw_decode(): \" +\n",
    "    str(json.JSONDecoder().raw_decode('{\"Geeks\": 1, \"for\": 2, \"Geeks\": 3}'))) "
   ]
  },
  {
   "cell_type": "code",
   "execution_count": 10,
   "metadata": {},
   "outputs": [
    {
     "name": "stdout",
     "output_type": "stream",
     "text": [
      "Given Dataframe :\n",
      "       Month       Expense\n",
      "0   January  2.152522e+07\n",
      "1  February  3.112584e+07\n",
      "2     March  2.313543e+07\n",
      "3     April  5.624526e+07\n",
      "\n",
      "Result :\n",
      "       Month      Expense\n",
      "0   January $21525220.65\n",
      "1  February $31125840.88\n",
      "2     March $23135428.77\n",
      "3     April $56245263.94\n"
     ]
    }
   ],
   "source": [
    "# import pandas lib as pd \n",
    "import pandas as pd \n",
    "\n",
    "# create the data dictionary \n",
    "data = {'Month' : ['January', 'February', 'March', 'April'], \n",
    "    'Expense': [ 21525220.653, 31125840.875, 23135428.768, 56245263.942]} \n",
    "\n",
    "# create the dataframe \n",
    "dataframe = pd.DataFrame(data, columns = ['Month', 'Expense']) \n",
    "\n",
    "print(\"Given Dataframe :\\n\", dataframe) \n",
    "\n",
    "# round to two decimal places in python pandas \n",
    "pd.options.display.float_format = '${:.2f}'.format\n",
    "\n",
    "print('\\nResult :\\n', dataframe) "
   ]
  },
  {
   "cell_type": "code",
   "execution_count": 12,
   "metadata": {},
   "outputs": [
    {
     "name": "stdout",
     "output_type": "stream",
     "text": [
      "Given Dataframe :\n",
      "       Month       Expense\n",
      "0   January 21,525,220.65\n",
      "1  February 31,125,840.88\n",
      "2     March 23,135,428.77\n",
      "3     April 56,245,263.94\n",
      "\n",
      "Result :\n",
      "       Month        Expense\n",
      "0   January £21,525,220.65\n",
      "1  February £31,125,840.88\n",
      "2     March £23,135,428.77\n",
      "3     April £56,245,263.94\n"
     ]
    }
   ],
   "source": [
    "print(\"Given Dataframe :\\n\", dataframe) \n",
    "\n",
    "# Format with commas and round off to two decimal places in pandas \n",
    "pd.options.display.float_format = '£{:,.2f}'.format\n",
    "print('\\nResult :\\n', dataframe) "
   ]
  },
  {
   "cell_type": "code",
   "execution_count": null,
   "metadata": {},
   "outputs": [],
   "source": []
  }
 ],
 "metadata": {
  "kernelspec": {
   "display_name": "Python 3",
   "language": "python",
   "name": "python3"
  },
  "language_info": {
   "codemirror_mode": {
    "name": "ipython",
    "version": 3
   },
   "file_extension": ".py",
   "mimetype": "text/x-python",
   "name": "python",
   "nbconvert_exporter": "python",
   "pygments_lexer": "ipython3",
   "version": "3.7.3"
  }
 },
 "nbformat": 4,
 "nbformat_minor": 2
}
