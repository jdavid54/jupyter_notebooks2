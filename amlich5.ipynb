{
 "cells": [
  {
   "cell_type": "code",
   "execution_count": 1,
   "metadata": {},
   "outputs": [],
   "source": [
    "# Imports\n",
    "from amlich_data import *\n",
    "from amlich_functions import *\n"
   ]
  },
  {
   "cell_type": "markdown",
   "metadata": {},
   "source": [
    "\n",
    "## About amlich year\n",
    "The first day of the month is the day on which the New Moon occurs.\n",
    "\n",
    "An ordinary year has twelve lunar months; an intercalary year has thirteen lunar months.\n",
    "\n",
    "The Winter Solstice always falls in month 11.\n",
    "\n",
    "In an intercalary year, a month in which there is no Principal Term is the intercalary month. \n",
    "\n",
    "It is assigned the number of the preceding month, with the further designation of intercalary. \n",
    "\n",
    "If two months of an intercalary year contain no Principal Term, only the first such month after the Winter Solstice is considered intercalary.\n",
    "\n",
    "Calculations are based on the meridian 105° East.\n"
   ]
  },
  {
   "cell_type": "markdown",
   "metadata": {},
   "source": [
    "\n",
    "## Main program\n"
   ]
  },
  {
   "cell_type": "code",
   "execution_count": 2,
   "metadata": {},
   "outputs": [
    {
     "name": "stdout",
     "output_type": "stream",
     "text": [
      "Current Lunar Date :  15, 10, 2023, 0, 2460276\n",
      "\n"
     ]
    }
   ],
   "source": [
    "today = datetime.datetime.today()\n",
    "currentLunarDate = getLunarDate(today.day, today.month, today.year)\n",
    "print('Current Lunar Date : ', currentLunarDate)\n",
    "print()\n"
   ]
  },
  {
   "cell_type": "code",
   "execution_count": 3,
   "metadata": {},
   "outputs": [
    {
     "name": "stdout",
     "output_type": "stream",
     "text": [
      "Tháng Mười 2023\n",
      "Lun\tMar\tMer\tJeu\tVen\tSam\tDim\t\n",
      " \t \t1/18\t2/19\t3/20\t4/21\t5/22\t\n",
      "6/23\t7/24\t8/25\t9/26\t10/27\t11/28\t12/29\t\n",
      "13/1\t14/2\t15/3\t16/4\t17/5\t18/6\t19/7\t\n",
      "20/8\t21/9\t22/10\t23/11\t24/12\t25/13\t26/14\t\n",
      "(27/15)\t28/16\t29/17\t30/18\t\n"
     ]
    }
   ],
   "source": [
    "month = today.month\n",
    "year = today.year\n",
    "#year calendar\n",
    "#print(calendar(year))\n",
    "#lunar month calendar\n",
    "s = lunar_month(month, year)\n",
    "#print(s)\n",
    "#alert('Month', s)\n",
    "print(s)\n"
   ]
  },
  {
   "cell_type": "code",
   "execution_count": 4,
   "metadata": {},
   "outputs": [
    {
     "name": "stdout",
     "output_type": "stream",
     "text": [
      "\n"
     ]
    }
   ],
   "source": [
    "# tinker popup\n",
    "#tk_show(s)\n",
    "print()\n"
   ]
  },
  {
   "cell_type": "code",
   "execution_count": 5,
   "metadata": {},
   "outputs": [
    {
     "name": "stdout",
     "output_type": "stream",
     "text": [
      "Today info:\n",
      "Thứ hai 27/11/2023 -+- Ngày 15 tháng 10\n",
      "08:46:20\n",
      "Ngày Kỷ Sửu, tháng Quý Hợi, năm Quý Mão, Tiết: Tiểu tuyết\n",
      "Giờ Hoàng Đạo :  Dần (3-5), Mão (5-7), Tỵ (9-11), Thân (15-17), Tuất (19-21)Hợi (21-23)\n",
      "Result: Thứ hai 27/11/2023 -+- Ngày 15 tháng 10\n"
     ]
    }
   ],
   "source": [
    "print('Today info:')\n",
    "result = today_info()\n",
    "\n",
    "print('Result:',result)\n"
   ]
  },
  {
   "cell_type": "code",
   "execution_count": 6,
   "metadata": {},
   "outputs": [],
   "source": [
    "#alertAbout()\n"
   ]
  },
  {
   "cell_type": "code",
   "execution_count": 7,
   "metadata": {},
   "outputs": [
    {
     "name": "stdout",
     "output_type": "stream",
     "text": [
      "fontSize=9pt - tableWidth=180px\n"
     ]
    }
   ],
   "source": [
    "# ========================create html page on desktop (big, normal or small)\n",
    "setOutputSize('small')\n"
   ]
  },
  {
   "cell_type": "code",
   "execution_count": 8,
   "metadata": {},
   "outputs": [],
   "source": [
    "from pprint import pprint\n",
    "res = printYear(2023, 4)   # 4 months by row\n",
    "#pprint(res)    # res is a html page"
   ]
  },
  {
   "cell_type": "code",
   "execution_count": 9,
   "metadata": {},
   "outputs": [],
   "source": [
    "# save to files (see templates tab in no-red (if homnay.txt has changed, show the result in Linky LED page)\n",
    "try:\n",
    "    write2file(r'Y:\\Documents\\Python\\amlich\\year.html', res)\n",
    "    write2file(r'Y:\\Documents\\Python\\amlich\\homnay.txt', result)\n",
    "    write2file(r'Y:\\Documents\\Python\\jupyter\\year.html', res)\n",
    "    write2file(r'Y:\\Documents\\Python\\jupyter\\homnay.txt', result)\n",
    "except:\n",
    "    write2file(r'Z:\\Documents\\Python\\amlich\\year.html', res)\n",
    "    write2file(r'Z:\\Documents\\Python\\amlich\\homnay.txt', result)\n",
    "    write2file(r'Z:\\Documents\\Python\\jupyter\\year.html', res)\n",
    "    write2file(r'Z:\\Documents\\Python\\jupyter\\homnay.txt', result)\n",
    "\n",
    "# import sys\n",
    "# # save handle\n",
    "# print(\"Saving.....\")\n",
    "# orig_stdout = sys.stdout\n",
    "# f = open('homnay.txt', 'w', encoding='utf8')\n",
    "# # redirect handle to file\n",
    "# sys.stdout = f\n",
    "# print(result)\n",
    "# # restore handle\n",
    "# sys.stdout = orig_stdout\n",
    "# f.close()\n",
    "# print(result)\n",
    "\n",
    "# dans terminal :\n",
    "# python3 Y:\\Documents\\Python\\amlich\\amlich5.py"
   ]
  }
 ],
 "metadata": {
  "kernelspec": {
   "display_name": "Python 3",
   "language": "python",
   "name": "python3"
  },
  "language_info": {
   "codemirror_mode": {
    "name": "ipython",
    "version": 3
   },
   "file_extension": ".py",
   "mimetype": "text/x-python",
   "name": "python",
   "nbconvert_exporter": "python",
   "pygments_lexer": "ipython3",
   "version": "3.11.2"
  },
  "orig_nbformat": 4
 },
 "nbformat": 4,
 "nbformat_minor": 2
}
