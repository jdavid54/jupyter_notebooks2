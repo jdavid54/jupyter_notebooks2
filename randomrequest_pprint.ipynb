{
 "cells": [
  {
   "cell_type": "code",
   "execution_count": 11,
   "metadata": {},
   "outputs": [],
   "source": [
    "from pprint import pprint\n",
    "import requests"
   ]
  },
  {
   "cell_type": "code",
   "execution_count": 24,
   "metadata": {},
   "outputs": [],
   "source": [
    "url='https://randomuser.me/api/?results=3'   #get 3 users"
   ]
  },
  {
   "cell_type": "code",
   "execution_count": 25,
   "metadata": {},
   "outputs": [],
   "source": [
    "users=requests.get(url).json()"
   ]
  },
  {
   "cell_type": "code",
   "execution_count": 26,
   "metadata": {},
   "outputs": [
    {
     "name": "stdout",
     "output_type": "stream",
     "text": [
      "{'results': [{'gender': 'female', 'name': {'title': 'ms', 'first': 'katrine', 'last': 'rasmussen'}, 'location': {'street': '6069 vesterhavsgade', 'city': 'rødvig stevns', 'state': 'midtjylland', 'postcode': 86822, 'coordinates': {'latitude': '-28.2571', 'longitude': '144.7778'}, 'timezone': {'offset': '+5:30', 'description': 'Bombay, Calcutta, Madras, New Delhi'}}, 'email': 'katrine.rasmussen@example.com', 'login': {'uuid': '7dfb9eb6-d9e5-4eae-896a-cdfa0d405306', 'username': 'redrabbit838', 'password': 'george', 'salt': 'J5t4M3aL', 'md5': 'e00e34b1becac3ae24a3d95ecd594df0', 'sha1': 'c03f401fe378835614fca4898265c76048747de1', 'sha256': '1000979f274c1e9e9790374e8397147bbd29ee14ec81033b6f125436de569823'}, 'dob': {'date': '1996-05-22T20:19:49Z', 'age': 23}, 'registered': {'date': '2012-10-14T05:34:35Z', 'age': 6}, 'phone': '83032038', 'cell': '23680823', 'id': {'name': 'CPR', 'value': '497266-8095'}, 'picture': {'large': 'https://randomuser.me/api/portraits/women/5.jpg', 'medium': 'https://randomuser.me/api/portraits/med/women/5.jpg', 'thumbnail': 'https://randomuser.me/api/portraits/thumb/women/5.jpg'}, 'nat': 'DK'}, {'gender': 'male', 'name': {'title': 'mr', 'first': 'miro', 'last': 'kumpula'}, 'location': {'street': '5557 verkatehtaankatu', 'city': 'luvia', 'state': 'central finland', 'postcode': 47141, 'coordinates': {'latitude': '71.5806', 'longitude': '-84.9740'}, 'timezone': {'offset': '+6:00', 'description': 'Almaty, Dhaka, Colombo'}}, 'email': 'miro.kumpula@example.com', 'login': {'uuid': '5bd1d456-ec3a-4ad1-a971-96c8f7062ef0', 'username': 'heavyduck156', 'password': 'sound', 'salt': 'k48bFeqj', 'md5': '0f4fedec887ab6e0500ccfc7f2f68ec0', 'sha1': 'd0d6087150bcabb699b593a577884a30e98d9f3e', 'sha256': '6194cb3d1905936bd85165a4d7aa462256154ced1aca56d76d2b88e1562fa5e9'}, 'dob': {'date': '1952-03-16T13:14:34Z', 'age': 67}, 'registered': {'date': '2002-03-26T23:36:03Z', 'age': 17}, 'phone': '02-222-654', 'cell': '046-284-00-12', 'id': {'name': 'HETU', 'value': 'NaNNA059undefined'}, 'picture': {'large': 'https://randomuser.me/api/portraits/men/89.jpg', 'medium': 'https://randomuser.me/api/portraits/med/men/89.jpg', 'thumbnail': 'https://randomuser.me/api/portraits/thumb/men/89.jpg'}, 'nat': 'FI'}, {'gender': 'male', 'name': {'title': 'mr', 'first': 'eli', 'last': 'ray'}, 'location': {'street': '4323 timber wolf trail', 'city': 'wagga wagga', 'state': 'victoria', 'postcode': 9504, 'coordinates': {'latitude': '2.5606', 'longitude': '-152.7391'}, 'timezone': {'offset': '+9:30', 'description': 'Adelaide, Darwin'}}, 'email': 'eli.ray@example.com', 'login': {'uuid': '42d73120-e134-44b8-ab3c-6002409f074b', 'username': 'tinybear864', 'password': 'aggies', 'salt': '0iK2P5zR', 'md5': 'ee84b304e4afee0bbb20cd50b28410e2', 'sha1': 'f198cfbf0e58d92e1417e08cce045c8a09c20f65', 'sha256': '2492d2c8971fef9a3d9f45953c77543bad72dacada4fd8a7ee14a1ac5fde9d41'}, 'dob': {'date': '1949-04-09T05:35:30Z', 'age': 70}, 'registered': {'date': '2017-10-15T14:54:50Z', 'age': 1}, 'phone': '06-9557-1744', 'cell': '0485-942-866', 'id': {'name': 'TFN', 'value': '206635187'}, 'picture': {'large': 'https://randomuser.me/api/portraits/men/6.jpg', 'medium': 'https://randomuser.me/api/portraits/med/men/6.jpg', 'thumbnail': 'https://randomuser.me/api/portraits/thumb/men/6.jpg'}, 'nat': 'AU'}], 'info': {'seed': '008080248c71e698', 'results': 3, 'page': 1, 'version': '1.2'}}\n"
     ]
    }
   ],
   "source": [
    "print(users)"
   ]
  },
  {
   "cell_type": "code",
   "execution_count": 27,
   "metadata": {},
   "outputs": [
    {
     "name": "stdout",
     "output_type": "stream",
     "text": [
      "{'info': {'page': 1,\n",
      "          'results': 3,\n",
      "          'seed': '008080248c71e698',\n",
      "          'version': '1.2'},\n",
      " 'results': [{'cell': '23680823',\n",
      "              'dob': {'age': 23, 'date': '1996-05-22T20:19:49Z'},\n",
      "              'email': 'katrine.rasmussen@example.com',\n",
      "              'gender': 'female',\n",
      "              'id': {'name': 'CPR', 'value': '497266-8095'},\n",
      "              'location': {'city': 'rødvig stevns',\n",
      "                           'coordinates': {'latitude': '-28.2571',\n",
      "                                           'longitude': '144.7778'},\n",
      "                           'postcode': 86822,\n",
      "                           'state': 'midtjylland',\n",
      "                           'street': '6069 vesterhavsgade',\n",
      "                           'timezone': {'description': 'Bombay, Calcutta, '\n",
      "                                                       'Madras, New Delhi',\n",
      "                                        'offset': '+5:30'}},\n",
      "              'login': {'md5': 'e00e34b1becac3ae24a3d95ecd594df0',\n",
      "                        'password': 'george',\n",
      "                        'salt': 'J5t4M3aL',\n",
      "                        'sha1': 'c03f401fe378835614fca4898265c76048747de1',\n",
      "                        'sha256': '1000979f274c1e9e9790374e8397147bbd29ee14ec81033b6f125436de569823',\n",
      "                        'username': 'redrabbit838',\n",
      "                        'uuid': '7dfb9eb6-d9e5-4eae-896a-cdfa0d405306'},\n",
      "              'name': {'first': 'katrine', 'last': 'rasmussen', 'title': 'ms'},\n",
      "              'nat': 'DK',\n",
      "              'phone': '83032038',\n",
      "              'picture': {'large': 'https://randomuser.me/api/portraits/women/5.jpg',\n",
      "                          'medium': 'https://randomuser.me/api/portraits/med/women/5.jpg',\n",
      "                          'thumbnail': 'https://randomuser.me/api/portraits/thumb/women/5.jpg'},\n",
      "              'registered': {'age': 6, 'date': '2012-10-14T05:34:35Z'}},\n",
      "             {'cell': '046-284-00-12',\n",
      "              'dob': {'age': 67, 'date': '1952-03-16T13:14:34Z'},\n",
      "              'email': 'miro.kumpula@example.com',\n",
      "              'gender': 'male',\n",
      "              'id': {'name': 'HETU', 'value': 'NaNNA059undefined'},\n",
      "              'location': {'city': 'luvia',\n",
      "                           'coordinates': {'latitude': '71.5806',\n",
      "                                           'longitude': '-84.9740'},\n",
      "                           'postcode': 47141,\n",
      "                           'state': 'central finland',\n",
      "                           'street': '5557 verkatehtaankatu',\n",
      "                           'timezone': {'description': 'Almaty, Dhaka, Colombo',\n",
      "                                        'offset': '+6:00'}},\n",
      "              'login': {'md5': '0f4fedec887ab6e0500ccfc7f2f68ec0',\n",
      "                        'password': 'sound',\n",
      "                        'salt': 'k48bFeqj',\n",
      "                        'sha1': 'd0d6087150bcabb699b593a577884a30e98d9f3e',\n",
      "                        'sha256': '6194cb3d1905936bd85165a4d7aa462256154ced1aca56d76d2b88e1562fa5e9',\n",
      "                        'username': 'heavyduck156',\n",
      "                        'uuid': '5bd1d456-ec3a-4ad1-a971-96c8f7062ef0'},\n",
      "              'name': {'first': 'miro', 'last': 'kumpula', 'title': 'mr'},\n",
      "              'nat': 'FI',\n",
      "              'phone': '02-222-654',\n",
      "              'picture': {'large': 'https://randomuser.me/api/portraits/men/89.jpg',\n",
      "                          'medium': 'https://randomuser.me/api/portraits/med/men/89.jpg',\n",
      "                          'thumbnail': 'https://randomuser.me/api/portraits/thumb/men/89.jpg'},\n",
      "              'registered': {'age': 17, 'date': '2002-03-26T23:36:03Z'}},\n",
      "             {'cell': '0485-942-866',\n",
      "              'dob': {'age': 70, 'date': '1949-04-09T05:35:30Z'},\n",
      "              'email': 'eli.ray@example.com',\n",
      "              'gender': 'male',\n",
      "              'id': {'name': 'TFN', 'value': '206635187'},\n",
      "              'location': {'city': 'wagga wagga',\n",
      "                           'coordinates': {'latitude': '2.5606',\n",
      "                                           'longitude': '-152.7391'},\n",
      "                           'postcode': 9504,\n",
      "                           'state': 'victoria',\n",
      "                           'street': '4323 timber wolf trail',\n",
      "                           'timezone': {'description': 'Adelaide, Darwin',\n",
      "                                        'offset': '+9:30'}},\n",
      "              'login': {'md5': 'ee84b304e4afee0bbb20cd50b28410e2',\n",
      "                        'password': 'aggies',\n",
      "                        'salt': '0iK2P5zR',\n",
      "                        'sha1': 'f198cfbf0e58d92e1417e08cce045c8a09c20f65',\n",
      "                        'sha256': '2492d2c8971fef9a3d9f45953c77543bad72dacada4fd8a7ee14a1ac5fde9d41',\n",
      "                        'username': 'tinybear864',\n",
      "                        'uuid': '42d73120-e134-44b8-ab3c-6002409f074b'},\n",
      "              'name': {'first': 'eli', 'last': 'ray', 'title': 'mr'},\n",
      "              'nat': 'AU',\n",
      "              'phone': '06-9557-1744',\n",
      "              'picture': {'large': 'https://randomuser.me/api/portraits/men/6.jpg',\n",
      "                          'medium': 'https://randomuser.me/api/portraits/med/men/6.jpg',\n",
      "                          'thumbnail': 'https://randomuser.me/api/portraits/thumb/men/6.jpg'},\n",
      "              'registered': {'age': 1, 'date': '2017-10-15T14:54:50Z'}}]}\n"
     ]
    }
   ],
   "source": [
    "pprint(users)"
   ]
  },
  {
   "cell_type": "code",
   "execution_count": null,
   "metadata": {},
   "outputs": [],
   "source": []
  }
 ],
 "metadata": {
  "kernelspec": {
   "display_name": "Python 3",
   "language": "python",
   "name": "python3"
  },
  "language_info": {
   "codemirror_mode": {
    "name": "ipython",
    "version": 3
   },
   "file_extension": ".py",
   "mimetype": "text/x-python",
   "name": "python",
   "nbconvert_exporter": "python",
   "pygments_lexer": "ipython3",
   "version": "3.6.7"
  }
 },
 "nbformat": 4,
 "nbformat_minor": 2
}
