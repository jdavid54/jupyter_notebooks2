{
 "cells": [
  {
   "cell_type": "code",
   "execution_count": 9,
   "metadata": {},
   "outputs": [
    {
     "data": {
      "text/html": [
       "<div>\n",
       "<style scoped>\n",
       "    .dataframe tbody tr th:only-of-type {\n",
       "        vertical-align: middle;\n",
       "    }\n",
       "\n",
       "    .dataframe tbody tr th {\n",
       "        vertical-align: top;\n",
       "    }\n",
       "\n",
       "    .dataframe thead th {\n",
       "        text-align: right;\n",
       "    }\n",
       "</style>\n",
       "<table border=\"1\" class=\"dataframe\">\n",
       "  <thead>\n",
       "    <tr style=\"text-align: right;\">\n",
       "      <th></th>\n",
       "      <th>last_name</th>\n",
       "      <th>first_name</th>\n",
       "      <th>birthday</th>\n",
       "      <th>gender</th>\n",
       "      <th>type</th>\n",
       "      <th>state</th>\n",
       "      <th>party</th>\n",
       "    </tr>\n",
       "  </thead>\n",
       "  <tbody>\n",
       "    <tr>\n",
       "      <th>0</th>\n",
       "      <td>Bassett</td>\n",
       "      <td>Richard</td>\n",
       "      <td>1745-04-02</td>\n",
       "      <td>M</td>\n",
       "      <td>sen</td>\n",
       "      <td>DE</td>\n",
       "      <td>Anti-Administration</td>\n",
       "    </tr>\n",
       "    <tr>\n",
       "      <th>1</th>\n",
       "      <td>Bland</td>\n",
       "      <td>Theodorick</td>\n",
       "      <td>1742-03-21</td>\n",
       "      <td>M</td>\n",
       "      <td>rep</td>\n",
       "      <td>VA</td>\n",
       "      <td>NaN</td>\n",
       "    </tr>\n",
       "    <tr>\n",
       "      <th>2</th>\n",
       "      <td>Burke</td>\n",
       "      <td>Aedanus</td>\n",
       "      <td>1743-06-16</td>\n",
       "      <td>M</td>\n",
       "      <td>rep</td>\n",
       "      <td>SC</td>\n",
       "      <td>NaN</td>\n",
       "    </tr>\n",
       "    <tr>\n",
       "      <th>3</th>\n",
       "      <td>Carroll</td>\n",
       "      <td>Daniel</td>\n",
       "      <td>1730-07-22</td>\n",
       "      <td>M</td>\n",
       "      <td>rep</td>\n",
       "      <td>MD</td>\n",
       "      <td>NaN</td>\n",
       "    </tr>\n",
       "    <tr>\n",
       "      <th>4</th>\n",
       "      <td>Clymer</td>\n",
       "      <td>George</td>\n",
       "      <td>1739-03-16</td>\n",
       "      <td>M</td>\n",
       "      <td>rep</td>\n",
       "      <td>PA</td>\n",
       "      <td>NaN</td>\n",
       "    </tr>\n",
       "    <tr>\n",
       "      <th>...</th>\n",
       "      <td>...</td>\n",
       "      <td>...</td>\n",
       "      <td>...</td>\n",
       "      <td>...</td>\n",
       "      <td>...</td>\n",
       "      <td>...</td>\n",
       "      <td>...</td>\n",
       "    </tr>\n",
       "    <tr>\n",
       "      <th>11970</th>\n",
       "      <td>Garrett</td>\n",
       "      <td>Thomas</td>\n",
       "      <td>1972-03-27</td>\n",
       "      <td>M</td>\n",
       "      <td>rep</td>\n",
       "      <td>VA</td>\n",
       "      <td>Republican</td>\n",
       "    </tr>\n",
       "    <tr>\n",
       "      <th>11971</th>\n",
       "      <td>Handel</td>\n",
       "      <td>Karen</td>\n",
       "      <td>1962-04-18</td>\n",
       "      <td>F</td>\n",
       "      <td>rep</td>\n",
       "      <td>GA</td>\n",
       "      <td>Republican</td>\n",
       "    </tr>\n",
       "    <tr>\n",
       "      <th>11972</th>\n",
       "      <td>Jones</td>\n",
       "      <td>Brenda</td>\n",
       "      <td>1959-10-24</td>\n",
       "      <td>F</td>\n",
       "      <td>rep</td>\n",
       "      <td>MI</td>\n",
       "      <td>Democrat</td>\n",
       "    </tr>\n",
       "    <tr>\n",
       "      <th>11973</th>\n",
       "      <td>Marino</td>\n",
       "      <td>Tom</td>\n",
       "      <td>1952-08-15</td>\n",
       "      <td>M</td>\n",
       "      <td>rep</td>\n",
       "      <td>PA</td>\n",
       "      <td>Republican</td>\n",
       "    </tr>\n",
       "    <tr>\n",
       "      <th>11974</th>\n",
       "      <td>Jones</td>\n",
       "      <td>Walter</td>\n",
       "      <td>1943-02-10</td>\n",
       "      <td>M</td>\n",
       "      <td>rep</td>\n",
       "      <td>NC</td>\n",
       "      <td>Republican</td>\n",
       "    </tr>\n",
       "  </tbody>\n",
       "</table>\n",
       "<p>11975 rows × 7 columns</p>\n",
       "</div>"
      ],
      "text/plain": [
       "      last_name  first_name   birthday gender type state                party\n",
       "0       Bassett     Richard 1745-04-02      M  sen    DE  Anti-Administration\n",
       "1         Bland  Theodorick 1742-03-21      M  rep    VA                  NaN\n",
       "2         Burke     Aedanus 1743-06-16      M  rep    SC                  NaN\n",
       "3       Carroll      Daniel 1730-07-22      M  rep    MD                  NaN\n",
       "4        Clymer      George 1739-03-16      M  rep    PA                  NaN\n",
       "...         ...         ...        ...    ...  ...   ...                  ...\n",
       "11970   Garrett      Thomas 1972-03-27      M  rep    VA           Republican\n",
       "11971    Handel       Karen 1962-04-18      F  rep    GA           Republican\n",
       "11972     Jones      Brenda 1959-10-24      F  rep    MI             Democrat\n",
       "11973    Marino         Tom 1952-08-15      M  rep    PA           Republican\n",
       "11974     Jones      Walter 1943-02-10      M  rep    NC           Republican\n",
       "\n",
       "[11975 rows x 7 columns]"
      ]
     },
     "execution_count": 9,
     "metadata": {},
     "output_type": "execute_result"
    }
   ],
   "source": [
    "# pandas_legislators.py\n",
    "\n",
    "import pandas as pd\n",
    "\n",
    "dtypes = {\n",
    "    \"first_name\": \"category\",\n",
    "    \"gender\": \"category\",\n",
    "    \"type\": \"category\",\n",
    "    \"state\": \"category\",\n",
    "    \"party\": \"category\",\n",
    "}\n",
    "df = pd.read_csv(\n",
    "    \"groupby-data/legislators-historical.csv\",\n",
    "    dtype=dtypes,\n",
    "    usecols=list(dtypes) + [\"birthday\", \"last_name\"],\n",
    "    parse_dates=[\"birthday\"]\n",
    ")\n",
    "\n",
    "df"
   ]
  },
  {
   "cell_type": "code",
   "execution_count": 10,
   "metadata": {},
   "outputs": [
    {
     "data": {
      "text/plain": [
       "state\n",
       "AK     16\n",
       "AL    206\n",
       "AR    117\n",
       "AS      2\n",
       "AZ     48\n",
       "CA    361\n",
       "CO     90\n",
       "CT    240\n",
       "DC      2\n",
       "DE     97\n",
       "Name: last_name, dtype: int64"
      ]
     },
     "execution_count": 10,
     "metadata": {},
     "output_type": "execute_result"
    }
   ],
   "source": [
    "'''\n",
    "SELECT state, count(name)\n",
    "FROM df\n",
    "GROUP BY state\n",
    "ORDER BY state;\n",
    "'''\n",
    "n_by_state = df.groupby(\"state\",observed=False)[\"last_name\"].count()\n",
    "n_by_state.head(10)"
   ]
  },
  {
   "cell_type": "code",
   "execution_count": 11,
   "metadata": {},
   "outputs": [
    {
     "data": {
      "text/plain": [
       "state  gender\n",
       "AK     F           0\n",
       "       M          16\n",
       "AL     F           3\n",
       "       M         203\n",
       "AR     F           5\n",
       "                ... \n",
       "WI     M         196\n",
       "WV     F           1\n",
       "       M         119\n",
       "WY     F           2\n",
       "       M          38\n",
       "Name: last_name, Length: 116, dtype: int64"
      ]
     },
     "execution_count": 11,
     "metadata": {},
     "output_type": "execute_result"
    }
   ],
   "source": [
    "'''\n",
    "SELECT state, gender, count(name)\n",
    "FROM df\n",
    "GROUP BY state, gender\n",
    "ORDER BY state, gender;\n",
    "'''\n",
    "df.groupby([\"state\", \"gender\"],observed=False)[\"last_name\"].count()"
   ]
  },
  {
   "cell_type": "code",
   "execution_count": 12,
   "metadata": {},
   "outputs": [],
   "source": [
    "n_by_state_gender = df.groupby([\"state\", \"gender\"],observed=False)[\"last_name\"].count()"
   ]
  },
  {
   "cell_type": "code",
   "execution_count": 13,
   "metadata": {},
   "outputs": [
    {
     "data": {
      "text/plain": [
       "pandas.core.series.Series"
      ]
     },
     "execution_count": 13,
     "metadata": {},
     "output_type": "execute_result"
    }
   ],
   "source": [
    "type(n_by_state_gender)"
   ]
  },
  {
   "cell_type": "code",
   "execution_count": 14,
   "metadata": {},
   "outputs": [
    {
     "data": {
      "text/plain": [
       "MultiIndex([('AK', 'F'),\n",
       "            ('AK', 'M'),\n",
       "            ('AL', 'F'),\n",
       "            ('AL', 'M'),\n",
       "            ('AR', 'F')],\n",
       "           names=['state', 'gender'])"
      ]
     },
     "execution_count": 14,
     "metadata": {},
     "output_type": "execute_result"
    }
   ],
   "source": [
    "# multiindex\n",
    "n_by_state_gender.index[:5]"
   ]
  },
  {
   "cell_type": "code",
   "execution_count": 15,
   "metadata": {},
   "outputs": [
    {
     "data": {
      "text/html": [
       "<div>\n",
       "<style scoped>\n",
       "    .dataframe tbody tr th:only-of-type {\n",
       "        vertical-align: middle;\n",
       "    }\n",
       "\n",
       "    .dataframe tbody tr th {\n",
       "        vertical-align: top;\n",
       "    }\n",
       "\n",
       "    .dataframe thead th {\n",
       "        text-align: right;\n",
       "    }\n",
       "</style>\n",
       "<table border=\"1\" class=\"dataframe\">\n",
       "  <thead>\n",
       "    <tr style=\"text-align: right;\">\n",
       "      <th></th>\n",
       "      <th>state</th>\n",
       "      <th>gender</th>\n",
       "      <th>last_name</th>\n",
       "    </tr>\n",
       "  </thead>\n",
       "  <tbody>\n",
       "    <tr>\n",
       "      <th>0</th>\n",
       "      <td>AK</td>\n",
       "      <td>F</td>\n",
       "      <td>0</td>\n",
       "    </tr>\n",
       "    <tr>\n",
       "      <th>1</th>\n",
       "      <td>AK</td>\n",
       "      <td>M</td>\n",
       "      <td>16</td>\n",
       "    </tr>\n",
       "    <tr>\n",
       "      <th>2</th>\n",
       "      <td>AL</td>\n",
       "      <td>F</td>\n",
       "      <td>3</td>\n",
       "    </tr>\n",
       "    <tr>\n",
       "      <th>3</th>\n",
       "      <td>AL</td>\n",
       "      <td>M</td>\n",
       "      <td>203</td>\n",
       "    </tr>\n",
       "    <tr>\n",
       "      <th>4</th>\n",
       "      <td>AR</td>\n",
       "      <td>F</td>\n",
       "      <td>5</td>\n",
       "    </tr>\n",
       "    <tr>\n",
       "      <th>...</th>\n",
       "      <td>...</td>\n",
       "      <td>...</td>\n",
       "      <td>...</td>\n",
       "    </tr>\n",
       "    <tr>\n",
       "      <th>111</th>\n",
       "      <td>WI</td>\n",
       "      <td>M</td>\n",
       "      <td>196</td>\n",
       "    </tr>\n",
       "    <tr>\n",
       "      <th>112</th>\n",
       "      <td>WV</td>\n",
       "      <td>F</td>\n",
       "      <td>1</td>\n",
       "    </tr>\n",
       "    <tr>\n",
       "      <th>113</th>\n",
       "      <td>WV</td>\n",
       "      <td>M</td>\n",
       "      <td>119</td>\n",
       "    </tr>\n",
       "    <tr>\n",
       "      <th>114</th>\n",
       "      <td>WY</td>\n",
       "      <td>F</td>\n",
       "      <td>2</td>\n",
       "    </tr>\n",
       "    <tr>\n",
       "      <th>115</th>\n",
       "      <td>WY</td>\n",
       "      <td>M</td>\n",
       "      <td>38</td>\n",
       "    </tr>\n",
       "  </tbody>\n",
       "</table>\n",
       "<p>116 rows × 3 columns</p>\n",
       "</div>"
      ],
      "text/plain": [
       "    state gender  last_name\n",
       "0      AK      F          0\n",
       "1      AK      M         16\n",
       "2      AL      F          3\n",
       "3      AL      M        203\n",
       "4      AR      F          5\n",
       "..    ...    ...        ...\n",
       "111    WI      M        196\n",
       "112    WV      F          1\n",
       "113    WV      M        119\n",
       "114    WY      F          2\n",
       "115    WY      M         38\n",
       "\n",
       "[116 rows x 3 columns]"
      ]
     },
     "execution_count": 15,
     "metadata": {},
     "output_type": "execute_result"
    }
   ],
   "source": [
    "# spread multiindex into columns\n",
    "df.groupby([\"state\", \"gender\"], as_index=False,observed=False)[\"last_name\"].count()"
   ]
  },
  {
   "cell_type": "code",
   "execution_count": 16,
   "metadata": {},
   "outputs": [
    {
     "name": "stderr",
     "output_type": "stream",
     "text": [
      "C:\\Users\\jean\\AppData\\Local\\Temp\\ipykernel_1976\\4068423154.py:2: FutureWarning: The default of observed=False is deprecated and will be changed to True in a future version of pandas. Pass observed=False to retain current behavior or observed=True to adopt the future default and silence this warning.\n",
      "  n_by_state = df.groupby(\"state\", sort=False)[\"last_name\"].count()\n"
     ]
    },
    {
     "data": {
      "text/plain": [
       "state\n",
       "AK    16\n",
       "PI    13\n",
       "VI     4\n",
       "GU     4\n",
       "AS     2\n",
       "Name: last_name, dtype: int64"
      ]
     },
     "execution_count": 16,
     "metadata": {},
     "output_type": "execute_result"
    }
   ],
   "source": [
    "# Don't sort results by the sort keys\n",
    "n_by_state = df.groupby(\"state\", sort=False)[\"last_name\"].count()\n",
    "n_by_state.tail()"
   ]
  }
 ],
 "metadata": {
  "kernelspec": {
   "display_name": "Python 3",
   "language": "python",
   "name": "python3"
  },
  "language_info": {
   "codemirror_mode": {
    "name": "ipython",
    "version": 3
   },
   "file_extension": ".py",
   "mimetype": "text/x-python",
   "name": "python",
   "nbconvert_exporter": "python",
   "pygments_lexer": "ipython3",
   "version": "3.12.3"
  }
 },
 "nbformat": 4,
 "nbformat_minor": 2
}
