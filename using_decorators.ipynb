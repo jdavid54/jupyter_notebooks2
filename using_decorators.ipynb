{
 "cells": [
  {
   "cell_type": "markdown",
   "metadata": {},
   "source": [
    "### https://realpython.com/primer-on-python-decorators/"
   ]
  },
  {
   "cell_type": "code",
   "execution_count": 12,
   "metadata": {},
   "outputs": [],
   "source": [
    "from datetime import datetime\n",
    "\n",
    "def not_during_the_night(func):\n",
    "    def wrapper():\n",
    "        if 7 <= datetime.now().hour < 22:\n",
    "            func()\n",
    "        else:\n",
    "            pass  # Hush, the neighbors are asleep\n",
    "    return wrapper\n",
    "\n",
    "def say_whee():\n",
    "    print(\"Whee!\")\n",
    "\n",
    "say_whee = not_during_the_night(say_whee)"
   ]
  },
  {
   "cell_type": "code",
   "execution_count": 13,
   "metadata": {},
   "outputs": [
    {
     "name": "stdout",
     "output_type": "stream",
     "text": [
      "Whee!\n"
     ]
    }
   ],
   "source": [
    "say_whee()"
   ]
  },
  {
   "cell_type": "code",
   "execution_count": 14,
   "metadata": {},
   "outputs": [],
   "source": [
    "def my_decorator(func):\n",
    "    def wrapper():\n",
    "        print(\"Something is happening before the function is called.\")\n",
    "        func()\n",
    "        print(\"Something is happening after the function is called.\")\n",
    "    return wrapper\n",
    "\n",
    "@my_decorator\n",
    "def say_whee():\n",
    "    print(\"Whee!\")"
   ]
  },
  {
   "cell_type": "code",
   "execution_count": 15,
   "metadata": {},
   "outputs": [
    {
     "name": "stdout",
     "output_type": "stream",
     "text": [
      "Something is happening before the function is called.\n",
      "Whee!\n",
      "Something is happening after the function is called.\n"
     ]
    }
   ],
   "source": [
    "say_whee()"
   ]
  },
  {
   "cell_type": "markdown",
   "metadata": {},
   "source": [
    "### Reusing Decorators\n",
    "#### decorators are saved in module mydecorators.py"
   ]
  },
  {
   "cell_type": "code",
   "execution_count": 16,
   "metadata": {},
   "outputs": [],
   "source": [
    "from mydecorators import do_twice\n",
    "\n",
    "@do_twice\n",
    "def say_whee():\n",
    "    print(\"Whee!\")"
   ]
  },
  {
   "cell_type": "code",
   "execution_count": 17,
   "metadata": {},
   "outputs": [
    {
     "name": "stdout",
     "output_type": "stream",
     "text": [
      "Whee!\n",
      "Whee!\n"
     ]
    }
   ],
   "source": [
    "say_whee()"
   ]
  },
  {
   "cell_type": "code",
   "execution_count": 18,
   "metadata": {},
   "outputs": [],
   "source": [
    "from mydecorators import do_twice\n",
    "\n",
    "\n",
    "@do_twice\n",
    "def greet(name):\n",
    "    print(f\"Hello {name}\")\n",
    "\n",
    "#greet('Bob')"
   ]
  },
  {
   "cell_type": "markdown",
   "metadata": {},
   "source": [
    "### Decorating Functions With Arguments"
   ]
  },
  {
   "cell_type": "code",
   "execution_count": 19,
   "metadata": {},
   "outputs": [
    {
     "data": {
      "text/plain": [
       "'\\ndef do_twice_arg(func):\\n    def wrapper_do_twice_arg(*args, **kwargs):\\n        func(*args, **kwargs)\\n        func(*args, **kwargs)\\n    return wrapper_do_twice_arg\\n'"
      ]
     },
     "execution_count": 19,
     "metadata": {},
     "output_type": "execute_result"
    }
   ],
   "source": [
    "from mydecorators import do_twice_arg  # ????????????????????\n",
    "'''\n",
    "def do_twice_arg(func):\n",
    "    def wrapper_do_twice_arg(*args, **kwargs):\n",
    "        func(*args, **kwargs)\n",
    "        func(*args, **kwargs)\n",
    "    return wrapper_do_twice_arg\n",
    "'''\n"
   ]
  },
  {
   "cell_type": "code",
   "execution_count": 20,
   "metadata": {},
   "outputs": [
    {
     "name": "stdout",
     "output_type": "stream",
     "text": [
      "Hello Bob Morane\n",
      "Hello Bob Morane\n"
     ]
    }
   ],
   "source": [
    "\n",
    "@do_twice_arg\n",
    "def greet(name):\n",
    "    print(f\"Hello {name}\")\n",
    "\n",
    "greet('Bob Morane')"
   ]
  },
  {
   "cell_type": "markdown",
   "metadata": {},
   "source": [
    "### Returning Values From Decorated Functions"
   ]
  },
  {
   "cell_type": "code",
   "execution_count": 21,
   "metadata": {},
   "outputs": [],
   "source": [
    "\n",
    "@do_twice_arg\n",
    "def return_greeting(name):\n",
    "    print(\"Creating greeting\")\n",
    "    return f\"Hi {name}\""
   ]
  },
  {
   "cell_type": "code",
   "execution_count": 22,
   "metadata": {},
   "outputs": [
    {
     "name": "stdout",
     "output_type": "stream",
     "text": [
      "Creating greeting\n",
      "Creating greeting\n",
      "None\n"
     ]
    }
   ],
   "source": [
    "hi_adam = return_greeting(\"Adam\")\n",
    "\n",
    "print(hi_adam)\n"
   ]
  },
  {
   "cell_type": "code",
   "execution_count": 23,
   "metadata": {},
   "outputs": [
    {
     "name": "stdout",
     "output_type": "stream",
     "text": [
      "Creating greeting\n",
      "Creating greeting\n",
      "Hi Adam\n"
     ]
    }
   ],
   "source": [
    "from mydecorators import do_twice_ret\n",
    "'''def do_twice_ret(func):\n",
    "    def wrapper_do_twice(*args, **kwargs):\n",
    "        func(*args, **kwargs)\n",
    "        return func(*args, **kwargs)\n",
    "    return wrapper_do_twice\n",
    "'''\n",
    "\n",
    "@do_twice_ret\n",
    "def return_greeting(name):\n",
    "    print(\"Creating greeting\")\n",
    "    return f\"Hi {name}\"\n",
    "\n",
    "hi_adam = return_greeting(\"Adam\")\n",
    "print(hi_adam)"
   ]
  },
  {
   "cell_type": "code",
   "execution_count": 24,
   "metadata": {},
   "outputs": [
    {
     "data": {
      "text/plain": [
       "'do_twice_ret'"
      ]
     },
     "execution_count": 24,
     "metadata": {},
     "output_type": "execute_result"
    }
   ],
   "source": [
    "do_twice_ret.__name__"
   ]
  },
  {
   "cell_type": "code",
   "execution_count": 25,
   "metadata": {},
   "outputs": [
    {
     "name": "stdout",
     "output_type": "stream",
     "text": [
      "Help on function do_twice_ret in module mydecorators:\n",
      "\n",
      "do_twice_ret(func)\n",
      "    wrapper with arguments with return  value\n",
      "\n"
     ]
    }
   ],
   "source": [
    "help(do_twice_ret)"
   ]
  },
  {
   "cell_type": "markdown",
   "metadata": {},
   "source": [
    "### Who Are You, Really?"
   ]
  },
  {
   "cell_type": "code",
   "execution_count": 26,
   "metadata": {},
   "outputs": [],
   "source": [
    "import functools\n",
    "\n",
    "def do_twice(func):\n",
    "    @functools.wraps(func)\n",
    "    def wrapper_do_twice(*args, **kwargs):\n",
    "        func(*args, **kwargs)\n",
    "        return func(*args, **kwargs)\n",
    "    return wrapper_do_twice"
   ]
  },
  {
   "cell_type": "code",
   "execution_count": 27,
   "metadata": {},
   "outputs": [],
   "source": [
    "from mydecorators import do_twice_wraps\n",
    "\n",
    "@do_twice_wraps\n",
    "def say_whee():\n",
    "    print(\"Whee!\")"
   ]
  },
  {
   "cell_type": "code",
   "execution_count": 28,
   "metadata": {},
   "outputs": [
    {
     "data": {
      "text/plain": [
       "<function __main__.say_whee()>"
      ]
     },
     "execution_count": 28,
     "metadata": {},
     "output_type": "execute_result"
    }
   ],
   "source": [
    "say_whee\n",
    "#<function say_whee at 0x7ff79a60f2f0>\n"
   ]
  },
  {
   "cell_type": "code",
   "execution_count": 29,
   "metadata": {},
   "outputs": [
    {
     "data": {
      "text/plain": [
       "'say_whee'"
      ]
     },
     "execution_count": 29,
     "metadata": {},
     "output_type": "execute_result"
    }
   ],
   "source": [
    "# no more confusion in name\n",
    "say_whee.__name__\n",
    "#'say_whee' is returned correctly\n"
   ]
  },
  {
   "cell_type": "code",
   "execution_count": 30,
   "metadata": {},
   "outputs": [
    {
     "name": "stdout",
     "output_type": "stream",
     "text": [
      "Help on function say_whee in module __main__:\n",
      "\n",
      "say_whee()\n",
      "\n"
     ]
    }
   ],
   "source": [
    "\n",
    "help(say_whee)\n"
   ]
  },
  {
   "cell_type": "code",
   "execution_count": 31,
   "metadata": {},
   "outputs": [
    {
     "name": "stdout",
     "output_type": "stream",
     "text": [
      "Help on function do_twice in module __main__:\n",
      "\n",
      "do_twice(func)\n",
      "\n"
     ]
    }
   ],
   "source": [
    "help(do_twice)"
   ]
  },
  {
   "cell_type": "markdown",
   "metadata": {},
   "source": [
    "### Timing Functions"
   ]
  },
  {
   "cell_type": "code",
   "execution_count": 32,
   "metadata": {},
   "outputs": [],
   "source": [
    "from mydecorators import timer\n",
    "\n",
    "@timer\n",
    "def waste_some_time(num_times):\n",
    "    for _ in range(num_times):\n",
    "        sum([i**2 for i in range(10000)])"
   ]
  },
  {
   "cell_type": "code",
   "execution_count": 33,
   "metadata": {},
   "outputs": [
    {
     "name": "stdout",
     "output_type": "stream",
     "text": [
      "Finished 'waste_some_time' in 4.6826 secs\n"
     ]
    }
   ],
   "source": [
    " waste_some_time(1000)"
   ]
  },
  {
   "cell_type": "markdown",
   "metadata": {},
   "source": [
    "### Debugging Code"
   ]
  },
  {
   "cell_type": "code",
   "execution_count": 34,
   "metadata": {},
   "outputs": [],
   "source": [
    "import math\n",
    "from mydecorators import debug\n",
    "\n",
    "# Apply a decorator to a standard library function\n",
    "math.factorial = debug(math.factorial)\n",
    "\n",
    "def approximate_e(terms=18):\n",
    "    return sum(1 / math.factorial(n) for n in range(terms))"
   ]
  },
  {
   "cell_type": "code",
   "execution_count": 35,
   "metadata": {},
   "outputs": [
    {
     "name": "stdout",
     "output_type": "stream",
     "text": [
      "Calling factorial(0)\n",
      "'factorial' returned 1\n",
      "Calling factorial(1)\n",
      "'factorial' returned 1\n",
      "Calling factorial(2)\n",
      "'factorial' returned 2\n",
      "Calling factorial(3)\n",
      "'factorial' returned 6\n",
      "Calling factorial(4)\n",
      "'factorial' returned 24\n"
     ]
    },
    {
     "data": {
      "text/plain": [
       "2.708333333333333"
      ]
     },
     "execution_count": 35,
     "metadata": {},
     "output_type": "execute_result"
    }
   ],
   "source": [
    "approximate_e(5)"
   ]
  },
  {
   "cell_type": "markdown",
   "metadata": {},
   "source": [
    "### Slowing Down Code"
   ]
  },
  {
   "cell_type": "code",
   "execution_count": 36,
   "metadata": {},
   "outputs": [
    {
     "name": "stdout",
     "output_type": "stream",
     "text": [
      "3\n",
      "2\n",
      "1\n",
      "Liftoff!\n"
     ]
    }
   ],
   "source": [
    "from mydecorators import slow_down\n",
    "\n",
    "@slow_down\n",
    "def countdown(from_number):\n",
    "    if from_number < 1:\n",
    "        print(\"Liftoff!\")\n",
    "    else:\n",
    "        print(from_number)\n",
    "        countdown(from_number - 1)\n",
    "\n",
    "countdown(3)"
   ]
  },
  {
   "cell_type": "markdown",
   "metadata": {},
   "source": [
    "### Registering Plugins"
   ]
  },
  {
   "cell_type": "code",
   "execution_count": 37,
   "metadata": {},
   "outputs": [
    {
     "name": "stdout",
     "output_type": "stream",
     "text": [
      "{'say_hello': <function say_hello at 0x0000021A3457FD00>, 'be_awesome': <function be_awesome at 0x0000021A33B49630>}\n",
      "Using 'be_awesome'\n"
     ]
    },
    {
     "data": {
      "text/plain": [
       "'Yo Alice, together we are the awesomest!'"
      ]
     },
     "execution_count": 37,
     "metadata": {},
     "output_type": "execute_result"
    }
   ],
   "source": [
    "from mydecorators import register, PLUGINS\n",
    "import random\n",
    "# using register\n",
    "    \n",
    "@register\n",
    "def say_hello(name):\n",
    "    return f\"Hello {name}\"\n",
    "\n",
    "@register\n",
    "def be_awesome(name):\n",
    "    return f\"Yo {name}, together we are the awesomest!\"\n",
    "\n",
    "def randomly_greet(name):\n",
    "    greeter, greeter_func = random.choice(list(PLUGINS.items()))\n",
    "    print(f\"Using {greeter!r}\")\n",
    "    return greeter_func(name)\n",
    "\n",
    "print(PLUGINS)\n",
    "randomly_greet(\"Alice\")"
   ]
  },
  {
   "cell_type": "code",
   "execution_count": 38,
   "metadata": {},
   "outputs": [
    {
     "data": {
      "text/plain": [
       "{'__name__': '__main__',\n",
       " '__doc__': 'def do_twice_ret(func):\\n    def wrapper_do_twice(*args, **kwargs):\\n        func(*args, **kwargs)\\n        return func(*args, **kwargs)\\n    return wrapper_do_twice\\n',\n",
       " '__package__': None,\n",
       " '__loader__': None,\n",
       " '__spec__': None,\n",
       " '__builtin__': <module 'builtins' (built-in)>,\n",
       " '__builtins__': <module 'builtins' (built-in)>,\n",
       " '_ih': ['',\n",
       "  'from mydecorators import register\\n# using register\\n    \\n@register\\ndef say_hello(name):\\n    return f\"Hello {name}\"\\n\\n@register\\ndef be_awesome(name):\\n    return f\"Yo {name}, together we are the awesomest!\"\\n\\ndef randomly_greet(name):\\n    greeter, greeter_func = random.choice(list(PLUGINS.items()))\\n    print(f\"Using {greeter!r}\")\\n    return greeter_func(name)\\n\\nprint(PLUGINS)\\nrandomly_greet(\"Alice\")',\n",
       "  'from mydecorators import register, PLUGINS\\n# using register\\n    \\n@register\\ndef say_hello(name):\\n    return f\"Hello {name}\"\\n\\n@register\\ndef be_awesome(name):\\n    return f\"Yo {name}, together we are the awesomest!\"\\n\\ndef randomly_greet(name):\\n    greeter, greeter_func = random.choice(list(PLUGINS.items()))\\n    print(f\"Using {greeter!r}\")\\n    return greeter_func(name)\\n\\nprint(PLUGINS)\\nrandomly_greet(\"Alice\")',\n",
       "  'from mydecorators import register, PLUGINS\\nimport random\\n# using register\\n    \\n@register\\ndef say_hello(name):\\n    return f\"Hello {name}\"\\n\\n@register\\ndef be_awesome(name):\\n    return f\"Yo {name}, together we are the awesomest!\"\\n\\ndef randomly_greet(name):\\n    greeter, greeter_func = random.choice(list(PLUGINS.items()))\\n    print(f\"Using {greeter!r}\")\\n    return greeter_func(name)\\n\\nprint(PLUGINS)\\nrandomly_greet(\"Alice\")',\n",
       "  'from mydecorators import register, PLUGINS\\nimport random\\n# using register\\n    \\n@register\\ndef say_hello(name):\\n    return f\"Hello {name}\"\\n\\n@register\\ndef be_awesome(name):\\n    return f\"Yo {name}, together we are the awesomest!\"\\n\\ndef randomly_greet(name):\\n    greeter, greeter_func = random.choice(list(PLUGINS.items()))\\n    print(f\"Using {greeter!r}\")\\n    return greeter_func(name)\\n\\nprint(PLUGINS)\\nrandomly_greet(\"Alice\")',\n",
       "  'from mydecorators import register, PLUGINS\\nimport random\\n# using register\\n    \\n@register\\ndef say_hello(name):\\n    return f\"Hello {name}\"\\n\\n@register\\ndef be_awesome(name):\\n    return f\"Yo {name}, together we are the awesomest!\"\\n\\ndef randomly_greet(name):\\n    greeter, greeter_func = random.choice(list(PLUGINS.items()))\\n    print(f\"Using {greeter!r}\")\\n    return greeter_func(name)\\n\\nprint(PLUGINS)\\nrandomly_greet(\"Alice\")',\n",
       "  'from mydecorators import register, PLUGINS\\nimport random\\n# using register\\n    \\n@register\\ndef say_hello(name):\\n    return f\"Hello {name}\"\\n\\n@register\\ndef be_awesome(name):\\n    return f\"Yo {name}, together we are the awesomest!\"\\n\\ndef randomly_greet(name):\\n    greeter, greeter_func = random.choice(list(PLUGINS.items()))\\n    print(f\"Using {greeter!r}\")\\n    return greeter_func(name)\\n\\nprint(PLUGINS)\\nrandomly_greet(\"Alice\")',\n",
       "  'from mydecorators import register, PLUGINS\\nimport random\\n# using register\\n    \\n@register\\ndef say_hello(name):\\n    return f\"Hello {name}\"\\n\\n@register\\ndef be_awesome(name):\\n    return f\"Yo {name}, together we are the awesomest!\"\\n\\ndef randomly_greet(name):\\n    greeter, greeter_func = random.choice(list(PLUGINS.items()))\\n    print(f\"Using {greeter!r}\")\\n    return greeter_func(name)\\n\\nprint(PLUGINS)\\nrandomly_greet(\"Alice\")',\n",
       "  'from mydecorators import register, PLUGINS\\nimport random\\n# using register\\n    \\n@register\\ndef say_hello(name):\\n    return f\"Hello {name}\"\\n\\n@register\\ndef be_awesome(name):\\n    return f\"Yo {name}, together we are the awesomest!\"\\n\\ndef randomly_greet(name):\\n    greeter, greeter_func = random.choice(list(PLUGINS.items()))\\n    print(f\"Using {greeter!r}\")\\n    return greeter_func(name)\\n\\nprint(PLUGINS)\\nrandomly_greet(\"Alice\")',\n",
       "  'from mydecorators import register, PLUGINS\\nimport random\\n# using register\\n    \\n@register\\ndef say_hello(name):\\n    return f\"Hello {name}\"\\n\\n@register\\ndef be_awesome(name):\\n    return f\"Yo {name}, together we are the awesomest!\"\\n\\ndef randomly_greet(name):\\n    greeter, greeter_func = random.choice(list(PLUGINS.items()))\\n    print(f\"Using {greeter!r}\")\\n    return greeter_func(name)\\n\\nprint(PLUGINS)\\nrandomly_greet(\"Alice\")',\n",
       "  'from mydecorators import register, PLUGINS\\nimport random\\n# using register\\n    \\n@register\\ndef say_hello(name):\\n    return f\"Hello {name}\"\\n\\n@register\\ndef be_awesome(name):\\n    return f\"Yo {name}, together we are the awesomest!\"\\n\\ndef randomly_greet(name):\\n    greeter, greeter_func = random.choice(list(PLUGINS.items()))\\n    print(f\"Using {greeter!r}\")\\n    return greeter_func(name)\\n\\nprint(PLUGINS)\\nrandomly_greet(\"Alice\")',\n",
       "  'globals()',\n",
       "  'from datetime import datetime\\n\\ndef not_during_the_night(func):\\n    def wrapper():\\n        if 7 <= datetime.now().hour < 22:\\n            func()\\n        else:\\n            pass  # Hush, the neighbors are asleep\\n    return wrapper\\n\\ndef say_whee():\\n    print(\"Whee!\")\\n\\nsay_whee = not_during_the_night(say_whee)',\n",
       "  'say_whee()',\n",
       "  'def my_decorator(func):\\n    def wrapper():\\n        print(\"Something is happening before the function is called.\")\\n        func()\\n        print(\"Something is happening after the function is called.\")\\n    return wrapper\\n\\n@my_decorator\\ndef say_whee():\\n    print(\"Whee!\")',\n",
       "  'say_whee()',\n",
       "  'from mydecorators import do_twice\\n\\n@do_twice\\ndef say_whee():\\n    print(\"Whee!\")',\n",
       "  'say_whee()',\n",
       "  'from mydecorators import do_twice\\n\\n\\n@do_twice\\ndef greet(name):\\n    print(f\"Hello {name}\")\\n\\n#greet(\\'Bob\\')',\n",
       "  \"from mydecorators import do_twice_arg  # ????????????????????\\n'''\\ndef do_twice_arg(func):\\n    def wrapper_do_twice_arg(*args, **kwargs):\\n        func(*args, **kwargs)\\n        func(*args, **kwargs)\\n    return wrapper_do_twice_arg\\n'''\",\n",
       "  '@do_twice_arg\\ndef greet(name):\\n    print(f\"Hello {name}\")\\n\\ngreet(\\'Bob Morane\\')',\n",
       "  '@do_twice_arg\\ndef return_greeting(name):\\n    print(\"Creating greeting\")\\n    return f\"Hi {name}\"',\n",
       "  'hi_adam = return_greeting(\"Adam\")\\n\\nprint(hi_adam)',\n",
       "  'from mydecorators import do_twice_ret\\n\\'\\'\\'def do_twice_ret(func):\\n    def wrapper_do_twice(*args, **kwargs):\\n        func(*args, **kwargs)\\n        return func(*args, **kwargs)\\n    return wrapper_do_twice\\n\\'\\'\\'\\n\\n@do_twice_ret\\ndef return_greeting(name):\\n    print(\"Creating greeting\")\\n    return f\"Hi {name}\"\\n\\nhi_adam = return_greeting(\"Adam\")\\nprint(hi_adam)',\n",
       "  'do_twice_ret.__name__',\n",
       "  'help(do_twice_ret)',\n",
       "  'import functools\\n\\ndef do_twice(func):\\n    @functools.wraps(func)\\n    def wrapper_do_twice(*args, **kwargs):\\n        func(*args, **kwargs)\\n        return func(*args, **kwargs)\\n    return wrapper_do_twice',\n",
       "  'from mydecorators import do_twice_wraps\\n\\n@do_twice_wraps\\ndef say_whee():\\n    print(\"Whee!\")',\n",
       "  'say_whee\\n#<function say_whee at 0x7ff79a60f2f0>',\n",
       "  \"# no more confusion in name\\nsay_whee.__name__\\n#'say_whee' is returned correctly\",\n",
       "  'help(say_whee)',\n",
       "  'help(do_twice)',\n",
       "  'from mydecorators import timer\\n\\n@timer\\ndef waste_some_time(num_times):\\n    for _ in range(num_times):\\n        sum([i**2 for i in range(10000)])',\n",
       "  'waste_some_time(1000)',\n",
       "  'import math\\nfrom mydecorators import debug\\n\\n# Apply a decorator to a standard library function\\nmath.factorial = debug(math.factorial)\\n\\ndef approximate_e(terms=18):\\n    return sum(1 / math.factorial(n) for n in range(terms))',\n",
       "  'approximate_e(5)',\n",
       "  'from mydecorators import slow_down\\n\\n@slow_down\\ndef countdown(from_number):\\n    if from_number < 1:\\n        print(\"Liftoff!\")\\n    else:\\n        print(from_number)\\n        countdown(from_number - 1)\\n\\ncountdown(3)',\n",
       "  'from mydecorators import register, PLUGINS\\nimport random\\n# using register\\n    \\n@register\\ndef say_hello(name):\\n    return f\"Hello {name}\"\\n\\n@register\\ndef be_awesome(name):\\n    return f\"Yo {name}, together we are the awesomest!\"\\n\\ndef randomly_greet(name):\\n    greeter, greeter_func = random.choice(list(PLUGINS.items()))\\n    print(f\"Using {greeter!r}\")\\n    return greeter_func(name)\\n\\nprint(PLUGINS)\\nrandomly_greet(\"Alice\")',\n",
       "  'globals()'],\n",
       " '_oh': {3: 'Yo Alice, together we are the awesomest!',\n",
       "  4: 'Hello Alice',\n",
       "  5: 'Hello Alice',\n",
       "  6: 'Hello Alice',\n",
       "  7: 'Hello Alice',\n",
       "  8: 'Hello Alice',\n",
       "  9: 'Hello Alice',\n",
       "  10: 'Yo Alice, together we are the awesomest!',\n",
       "  11: {...},\n",
       "  19: '\\ndef do_twice_arg(func):\\n    def wrapper_do_twice_arg(*args, **kwargs):\\n        func(*args, **kwargs)\\n        func(*args, **kwargs)\\n    return wrapper_do_twice_arg\\n',\n",
       "  24: 'do_twice_ret',\n",
       "  28: <function __main__.say_whee()>,\n",
       "  29: 'say_whee',\n",
       "  35: 2.708333333333333,\n",
       "  37: 'Yo Alice, together we are the awesomest!'},\n",
       " '_dh': [WindowsPath('y:/Documents/Python/jupyter'),\n",
       "  WindowsPath('y:/Documents/Python/jupyter')],\n",
       " 'In': ['',\n",
       "  'from mydecorators import register\\n# using register\\n    \\n@register\\ndef say_hello(name):\\n    return f\"Hello {name}\"\\n\\n@register\\ndef be_awesome(name):\\n    return f\"Yo {name}, together we are the awesomest!\"\\n\\ndef randomly_greet(name):\\n    greeter, greeter_func = random.choice(list(PLUGINS.items()))\\n    print(f\"Using {greeter!r}\")\\n    return greeter_func(name)\\n\\nprint(PLUGINS)\\nrandomly_greet(\"Alice\")',\n",
       "  'from mydecorators import register, PLUGINS\\n# using register\\n    \\n@register\\ndef say_hello(name):\\n    return f\"Hello {name}\"\\n\\n@register\\ndef be_awesome(name):\\n    return f\"Yo {name}, together we are the awesomest!\"\\n\\ndef randomly_greet(name):\\n    greeter, greeter_func = random.choice(list(PLUGINS.items()))\\n    print(f\"Using {greeter!r}\")\\n    return greeter_func(name)\\n\\nprint(PLUGINS)\\nrandomly_greet(\"Alice\")',\n",
       "  'from mydecorators import register, PLUGINS\\nimport random\\n# using register\\n    \\n@register\\ndef say_hello(name):\\n    return f\"Hello {name}\"\\n\\n@register\\ndef be_awesome(name):\\n    return f\"Yo {name}, together we are the awesomest!\"\\n\\ndef randomly_greet(name):\\n    greeter, greeter_func = random.choice(list(PLUGINS.items()))\\n    print(f\"Using {greeter!r}\")\\n    return greeter_func(name)\\n\\nprint(PLUGINS)\\nrandomly_greet(\"Alice\")',\n",
       "  'from mydecorators import register, PLUGINS\\nimport random\\n# using register\\n    \\n@register\\ndef say_hello(name):\\n    return f\"Hello {name}\"\\n\\n@register\\ndef be_awesome(name):\\n    return f\"Yo {name}, together we are the awesomest!\"\\n\\ndef randomly_greet(name):\\n    greeter, greeter_func = random.choice(list(PLUGINS.items()))\\n    print(f\"Using {greeter!r}\")\\n    return greeter_func(name)\\n\\nprint(PLUGINS)\\nrandomly_greet(\"Alice\")',\n",
       "  'from mydecorators import register, PLUGINS\\nimport random\\n# using register\\n    \\n@register\\ndef say_hello(name):\\n    return f\"Hello {name}\"\\n\\n@register\\ndef be_awesome(name):\\n    return f\"Yo {name}, together we are the awesomest!\"\\n\\ndef randomly_greet(name):\\n    greeter, greeter_func = random.choice(list(PLUGINS.items()))\\n    print(f\"Using {greeter!r}\")\\n    return greeter_func(name)\\n\\nprint(PLUGINS)\\nrandomly_greet(\"Alice\")',\n",
       "  'from mydecorators import register, PLUGINS\\nimport random\\n# using register\\n    \\n@register\\ndef say_hello(name):\\n    return f\"Hello {name}\"\\n\\n@register\\ndef be_awesome(name):\\n    return f\"Yo {name}, together we are the awesomest!\"\\n\\ndef randomly_greet(name):\\n    greeter, greeter_func = random.choice(list(PLUGINS.items()))\\n    print(f\"Using {greeter!r}\")\\n    return greeter_func(name)\\n\\nprint(PLUGINS)\\nrandomly_greet(\"Alice\")',\n",
       "  'from mydecorators import register, PLUGINS\\nimport random\\n# using register\\n    \\n@register\\ndef say_hello(name):\\n    return f\"Hello {name}\"\\n\\n@register\\ndef be_awesome(name):\\n    return f\"Yo {name}, together we are the awesomest!\"\\n\\ndef randomly_greet(name):\\n    greeter, greeter_func = random.choice(list(PLUGINS.items()))\\n    print(f\"Using {greeter!r}\")\\n    return greeter_func(name)\\n\\nprint(PLUGINS)\\nrandomly_greet(\"Alice\")',\n",
       "  'from mydecorators import register, PLUGINS\\nimport random\\n# using register\\n    \\n@register\\ndef say_hello(name):\\n    return f\"Hello {name}\"\\n\\n@register\\ndef be_awesome(name):\\n    return f\"Yo {name}, together we are the awesomest!\"\\n\\ndef randomly_greet(name):\\n    greeter, greeter_func = random.choice(list(PLUGINS.items()))\\n    print(f\"Using {greeter!r}\")\\n    return greeter_func(name)\\n\\nprint(PLUGINS)\\nrandomly_greet(\"Alice\")',\n",
       "  'from mydecorators import register, PLUGINS\\nimport random\\n# using register\\n    \\n@register\\ndef say_hello(name):\\n    return f\"Hello {name}\"\\n\\n@register\\ndef be_awesome(name):\\n    return f\"Yo {name}, together we are the awesomest!\"\\n\\ndef randomly_greet(name):\\n    greeter, greeter_func = random.choice(list(PLUGINS.items()))\\n    print(f\"Using {greeter!r}\")\\n    return greeter_func(name)\\n\\nprint(PLUGINS)\\nrandomly_greet(\"Alice\")',\n",
       "  'from mydecorators import register, PLUGINS\\nimport random\\n# using register\\n    \\n@register\\ndef say_hello(name):\\n    return f\"Hello {name}\"\\n\\n@register\\ndef be_awesome(name):\\n    return f\"Yo {name}, together we are the awesomest!\"\\n\\ndef randomly_greet(name):\\n    greeter, greeter_func = random.choice(list(PLUGINS.items()))\\n    print(f\"Using {greeter!r}\")\\n    return greeter_func(name)\\n\\nprint(PLUGINS)\\nrandomly_greet(\"Alice\")',\n",
       "  'globals()',\n",
       "  'from datetime import datetime\\n\\ndef not_during_the_night(func):\\n    def wrapper():\\n        if 7 <= datetime.now().hour < 22:\\n            func()\\n        else:\\n            pass  # Hush, the neighbors are asleep\\n    return wrapper\\n\\ndef say_whee():\\n    print(\"Whee!\")\\n\\nsay_whee = not_during_the_night(say_whee)',\n",
       "  'say_whee()',\n",
       "  'def my_decorator(func):\\n    def wrapper():\\n        print(\"Something is happening before the function is called.\")\\n        func()\\n        print(\"Something is happening after the function is called.\")\\n    return wrapper\\n\\n@my_decorator\\ndef say_whee():\\n    print(\"Whee!\")',\n",
       "  'say_whee()',\n",
       "  'from mydecorators import do_twice\\n\\n@do_twice\\ndef say_whee():\\n    print(\"Whee!\")',\n",
       "  'say_whee()',\n",
       "  'from mydecorators import do_twice\\n\\n\\n@do_twice\\ndef greet(name):\\n    print(f\"Hello {name}\")\\n\\n#greet(\\'Bob\\')',\n",
       "  \"from mydecorators import do_twice_arg  # ????????????????????\\n'''\\ndef do_twice_arg(func):\\n    def wrapper_do_twice_arg(*args, **kwargs):\\n        func(*args, **kwargs)\\n        func(*args, **kwargs)\\n    return wrapper_do_twice_arg\\n'''\",\n",
       "  '@do_twice_arg\\ndef greet(name):\\n    print(f\"Hello {name}\")\\n\\ngreet(\\'Bob Morane\\')',\n",
       "  '@do_twice_arg\\ndef return_greeting(name):\\n    print(\"Creating greeting\")\\n    return f\"Hi {name}\"',\n",
       "  'hi_adam = return_greeting(\"Adam\")\\n\\nprint(hi_adam)',\n",
       "  'from mydecorators import do_twice_ret\\n\\'\\'\\'def do_twice_ret(func):\\n    def wrapper_do_twice(*args, **kwargs):\\n        func(*args, **kwargs)\\n        return func(*args, **kwargs)\\n    return wrapper_do_twice\\n\\'\\'\\'\\n\\n@do_twice_ret\\ndef return_greeting(name):\\n    print(\"Creating greeting\")\\n    return f\"Hi {name}\"\\n\\nhi_adam = return_greeting(\"Adam\")\\nprint(hi_adam)',\n",
       "  'do_twice_ret.__name__',\n",
       "  'help(do_twice_ret)',\n",
       "  'import functools\\n\\ndef do_twice(func):\\n    @functools.wraps(func)\\n    def wrapper_do_twice(*args, **kwargs):\\n        func(*args, **kwargs)\\n        return func(*args, **kwargs)\\n    return wrapper_do_twice',\n",
       "  'from mydecorators import do_twice_wraps\\n\\n@do_twice_wraps\\ndef say_whee():\\n    print(\"Whee!\")',\n",
       "  'say_whee\\n#<function say_whee at 0x7ff79a60f2f0>',\n",
       "  \"# no more confusion in name\\nsay_whee.__name__\\n#'say_whee' is returned correctly\",\n",
       "  'help(say_whee)',\n",
       "  'help(do_twice)',\n",
       "  'from mydecorators import timer\\n\\n@timer\\ndef waste_some_time(num_times):\\n    for _ in range(num_times):\\n        sum([i**2 for i in range(10000)])',\n",
       "  'waste_some_time(1000)',\n",
       "  'import math\\nfrom mydecorators import debug\\n\\n# Apply a decorator to a standard library function\\nmath.factorial = debug(math.factorial)\\n\\ndef approximate_e(terms=18):\\n    return sum(1 / math.factorial(n) for n in range(terms))',\n",
       "  'approximate_e(5)',\n",
       "  'from mydecorators import slow_down\\n\\n@slow_down\\ndef countdown(from_number):\\n    if from_number < 1:\\n        print(\"Liftoff!\")\\n    else:\\n        print(from_number)\\n        countdown(from_number - 1)\\n\\ncountdown(3)',\n",
       "  'from mydecorators import register, PLUGINS\\nimport random\\n# using register\\n    \\n@register\\ndef say_hello(name):\\n    return f\"Hello {name}\"\\n\\n@register\\ndef be_awesome(name):\\n    return f\"Yo {name}, together we are the awesomest!\"\\n\\ndef randomly_greet(name):\\n    greeter, greeter_func = random.choice(list(PLUGINS.items()))\\n    print(f\"Using {greeter!r}\")\\n    return greeter_func(name)\\n\\nprint(PLUGINS)\\nrandomly_greet(\"Alice\")',\n",
       "  'globals()'],\n",
       " 'Out': {3: 'Yo Alice, together we are the awesomest!',\n",
       "  4: 'Hello Alice',\n",
       "  5: 'Hello Alice',\n",
       "  6: 'Hello Alice',\n",
       "  7: 'Hello Alice',\n",
       "  8: 'Hello Alice',\n",
       "  9: 'Hello Alice',\n",
       "  10: 'Yo Alice, together we are the awesomest!',\n",
       "  11: {...},\n",
       "  19: '\\ndef do_twice_arg(func):\\n    def wrapper_do_twice_arg(*args, **kwargs):\\n        func(*args, **kwargs)\\n        func(*args, **kwargs)\\n    return wrapper_do_twice_arg\\n',\n",
       "  24: 'do_twice_ret',\n",
       "  28: <function __main__.say_whee()>,\n",
       "  29: 'say_whee',\n",
       "  35: 2.708333333333333,\n",
       "  37: 'Yo Alice, together we are the awesomest!'},\n",
       " 'get_ipython': <bound method InteractiveShell.get_ipython of <ipykernel.zmqshell.ZMQInteractiveShell object at 0x0000021A33A051B0>>,\n",
       " 'exit': <IPython.core.autocall.ZMQExitAutocall at 0x21a33a05840>,\n",
       " 'quit': <IPython.core.autocall.ZMQExitAutocall at 0x21a33a05840>,\n",
       " 'open': <function io.open(file, mode='r', buffering=-1, encoding=None, errors=None, newline=None, closefd=True, opener=None)>,\n",
       " '_': 'Yo Alice, together we are the awesomest!',\n",
       " '__': 2.708333333333333,\n",
       " '___': 'say_whee',\n",
       " '__vsc_ipynb_file__': 'y:\\\\Documents\\\\Python\\\\jupyter\\\\using_decorators.ipynb',\n",
       " '_i': 'from mydecorators import register, PLUGINS\\nimport random\\n# using register\\n    \\n@register\\ndef say_hello(name):\\n    return f\"Hello {name}\"\\n\\n@register\\ndef be_awesome(name):\\n    return f\"Yo {name}, together we are the awesomest!\"\\n\\ndef randomly_greet(name):\\n    greeter, greeter_func = random.choice(list(PLUGINS.items()))\\n    print(f\"Using {greeter!r}\")\\n    return greeter_func(name)\\n\\nprint(PLUGINS)\\nrandomly_greet(\"Alice\")',\n",
       " '_ii': 'from mydecorators import slow_down\\n\\n@slow_down\\ndef countdown(from_number):\\n    if from_number < 1:\\n        print(\"Liftoff!\")\\n    else:\\n        print(from_number)\\n        countdown(from_number - 1)\\n\\ncountdown(3)',\n",
       " '_iii': 'approximate_e(5)',\n",
       " '_i1': 'from mydecorators import register\\n# using register\\n    \\n@register\\ndef say_hello(name):\\n    return f\"Hello {name}\"\\n\\n@register\\ndef be_awesome(name):\\n    return f\"Yo {name}, together we are the awesomest!\"\\n\\ndef randomly_greet(name):\\n    greeter, greeter_func = random.choice(list(PLUGINS.items()))\\n    print(f\"Using {greeter!r}\")\\n    return greeter_func(name)\\n\\nprint(PLUGINS)\\nrandomly_greet(\"Alice\")',\n",
       " 'register': <function mydecorators.register(func)>,\n",
       " 'say_hello': <function __main__.say_hello(name)>,\n",
       " 'be_awesome': <function __main__.be_awesome(name)>,\n",
       " 'randomly_greet': <function __main__.randomly_greet(name)>,\n",
       " '_i2': 'from mydecorators import register, PLUGINS\\n# using register\\n    \\n@register\\ndef say_hello(name):\\n    return f\"Hello {name}\"\\n\\n@register\\ndef be_awesome(name):\\n    return f\"Yo {name}, together we are the awesomest!\"\\n\\ndef randomly_greet(name):\\n    greeter, greeter_func = random.choice(list(PLUGINS.items()))\\n    print(f\"Using {greeter!r}\")\\n    return greeter_func(name)\\n\\nprint(PLUGINS)\\nrandomly_greet(\"Alice\")',\n",
       " 'PLUGINS': {'say_hello': <function __main__.say_hello(name)>,\n",
       "  'be_awesome': <function __main__.be_awesome(name)>},\n",
       " '_i3': 'from mydecorators import register, PLUGINS\\nimport random\\n# using register\\n    \\n@register\\ndef say_hello(name):\\n    return f\"Hello {name}\"\\n\\n@register\\ndef be_awesome(name):\\n    return f\"Yo {name}, together we are the awesomest!\"\\n\\ndef randomly_greet(name):\\n    greeter, greeter_func = random.choice(list(PLUGINS.items()))\\n    print(f\"Using {greeter!r}\")\\n    return greeter_func(name)\\n\\nprint(PLUGINS)\\nrandomly_greet(\"Alice\")',\n",
       " 'random': <module 'random' from 'C:\\\\Program Files\\\\WindowsApps\\\\PythonSoftwareFoundation.Python.3.10_3.10.3056.0_x64__qbz5n2kfra8p0\\\\lib\\\\random.py'>,\n",
       " '_3': 'Yo Alice, together we are the awesomest!',\n",
       " '_i4': 'from mydecorators import register, PLUGINS\\nimport random\\n# using register\\n    \\n@register\\ndef say_hello(name):\\n    return f\"Hello {name}\"\\n\\n@register\\ndef be_awesome(name):\\n    return f\"Yo {name}, together we are the awesomest!\"\\n\\ndef randomly_greet(name):\\n    greeter, greeter_func = random.choice(list(PLUGINS.items()))\\n    print(f\"Using {greeter!r}\")\\n    return greeter_func(name)\\n\\nprint(PLUGINS)\\nrandomly_greet(\"Alice\")',\n",
       " '_4': 'Hello Alice',\n",
       " '_i5': 'from mydecorators import register, PLUGINS\\nimport random\\n# using register\\n    \\n@register\\ndef say_hello(name):\\n    return f\"Hello {name}\"\\n\\n@register\\ndef be_awesome(name):\\n    return f\"Yo {name}, together we are the awesomest!\"\\n\\ndef randomly_greet(name):\\n    greeter, greeter_func = random.choice(list(PLUGINS.items()))\\n    print(f\"Using {greeter!r}\")\\n    return greeter_func(name)\\n\\nprint(PLUGINS)\\nrandomly_greet(\"Alice\")',\n",
       " '_5': 'Hello Alice',\n",
       " '_i6': 'from mydecorators import register, PLUGINS\\nimport random\\n# using register\\n    \\n@register\\ndef say_hello(name):\\n    return f\"Hello {name}\"\\n\\n@register\\ndef be_awesome(name):\\n    return f\"Yo {name}, together we are the awesomest!\"\\n\\ndef randomly_greet(name):\\n    greeter, greeter_func = random.choice(list(PLUGINS.items()))\\n    print(f\"Using {greeter!r}\")\\n    return greeter_func(name)\\n\\nprint(PLUGINS)\\nrandomly_greet(\"Alice\")',\n",
       " '_6': 'Hello Alice',\n",
       " '_i7': 'from mydecorators import register, PLUGINS\\nimport random\\n# using register\\n    \\n@register\\ndef say_hello(name):\\n    return f\"Hello {name}\"\\n\\n@register\\ndef be_awesome(name):\\n    return f\"Yo {name}, together we are the awesomest!\"\\n\\ndef randomly_greet(name):\\n    greeter, greeter_func = random.choice(list(PLUGINS.items()))\\n    print(f\"Using {greeter!r}\")\\n    return greeter_func(name)\\n\\nprint(PLUGINS)\\nrandomly_greet(\"Alice\")',\n",
       " '_7': 'Hello Alice',\n",
       " '_i8': 'from mydecorators import register, PLUGINS\\nimport random\\n# using register\\n    \\n@register\\ndef say_hello(name):\\n    return f\"Hello {name}\"\\n\\n@register\\ndef be_awesome(name):\\n    return f\"Yo {name}, together we are the awesomest!\"\\n\\ndef randomly_greet(name):\\n    greeter, greeter_func = random.choice(list(PLUGINS.items()))\\n    print(f\"Using {greeter!r}\")\\n    return greeter_func(name)\\n\\nprint(PLUGINS)\\nrandomly_greet(\"Alice\")',\n",
       " '_8': 'Hello Alice',\n",
       " '_i9': 'from mydecorators import register, PLUGINS\\nimport random\\n# using register\\n    \\n@register\\ndef say_hello(name):\\n    return f\"Hello {name}\"\\n\\n@register\\ndef be_awesome(name):\\n    return f\"Yo {name}, together we are the awesomest!\"\\n\\ndef randomly_greet(name):\\n    greeter, greeter_func = random.choice(list(PLUGINS.items()))\\n    print(f\"Using {greeter!r}\")\\n    return greeter_func(name)\\n\\nprint(PLUGINS)\\nrandomly_greet(\"Alice\")',\n",
       " '_9': 'Hello Alice',\n",
       " '_i10': 'from mydecorators import register, PLUGINS\\nimport random\\n# using register\\n    \\n@register\\ndef say_hello(name):\\n    return f\"Hello {name}\"\\n\\n@register\\ndef be_awesome(name):\\n    return f\"Yo {name}, together we are the awesomest!\"\\n\\ndef randomly_greet(name):\\n    greeter, greeter_func = random.choice(list(PLUGINS.items()))\\n    print(f\"Using {greeter!r}\")\\n    return greeter_func(name)\\n\\nprint(PLUGINS)\\nrandomly_greet(\"Alice\")',\n",
       " '_10': 'Yo Alice, together we are the awesomest!',\n",
       " '_i11': 'globals()',\n",
       " '_11': {...},\n",
       " '_i12': 'from datetime import datetime\\n\\ndef not_during_the_night(func):\\n    def wrapper():\\n        if 7 <= datetime.now().hour < 22:\\n            func()\\n        else:\\n            pass  # Hush, the neighbors are asleep\\n    return wrapper\\n\\ndef say_whee():\\n    print(\"Whee!\")\\n\\nsay_whee = not_during_the_night(say_whee)',\n",
       " 'datetime': datetime.datetime,\n",
       " 'not_during_the_night': <function __main__.not_during_the_night(func)>,\n",
       " 'say_whee': <function __main__.say_whee()>,\n",
       " '_i13': 'say_whee()',\n",
       " '_i14': 'def my_decorator(func):\\n    def wrapper():\\n        print(\"Something is happening before the function is called.\")\\n        func()\\n        print(\"Something is happening after the function is called.\")\\n    return wrapper\\n\\n@my_decorator\\ndef say_whee():\\n    print(\"Whee!\")',\n",
       " 'my_decorator': <function __main__.my_decorator(func)>,\n",
       " '_i15': 'say_whee()',\n",
       " '_i16': 'from mydecorators import do_twice\\n\\n@do_twice\\ndef say_whee():\\n    print(\"Whee!\")',\n",
       " 'do_twice': <function __main__.do_twice(func)>,\n",
       " '_i17': 'say_whee()',\n",
       " '_i18': 'from mydecorators import do_twice\\n\\n\\n@do_twice\\ndef greet(name):\\n    print(f\"Hello {name}\")\\n\\n#greet(\\'Bob\\')',\n",
       " 'greet': <function mydecorators.do_twice_arg.<locals>.wrapper_do_twice(*args, **kwargs)>,\n",
       " '_i19': \"from mydecorators import do_twice_arg  # ????????????????????\\n'''\\ndef do_twice_arg(func):\\n    def wrapper_do_twice_arg(*args, **kwargs):\\n        func(*args, **kwargs)\\n        func(*args, **kwargs)\\n    return wrapper_do_twice_arg\\n'''\",\n",
       " 'do_twice_arg': <function mydecorators.do_twice_arg(func)>,\n",
       " '_19': '\\ndef do_twice_arg(func):\\n    def wrapper_do_twice_arg(*args, **kwargs):\\n        func(*args, **kwargs)\\n        func(*args, **kwargs)\\n    return wrapper_do_twice_arg\\n',\n",
       " '_i20': '\\n@do_twice_arg\\ndef greet(name):\\n    print(f\"Hello {name}\")\\n\\ngreet(\\'Bob Morane\\')',\n",
       " '_i21': '\\n@do_twice_arg\\ndef return_greeting(name):\\n    print(\"Creating greeting\")\\n    return f\"Hi {name}\"',\n",
       " 'return_greeting': <function mydecorators.do_twice_ret.<locals>.wrapper_do_twice(*args, **kwargs)>,\n",
       " '_i22': 'hi_adam = return_greeting(\"Adam\")\\n\\nprint(hi_adam)',\n",
       " 'hi_adam': 'Hi Adam',\n",
       " '_i23': 'from mydecorators import do_twice_ret\\n\\'\\'\\'def do_twice_ret(func):\\n    def wrapper_do_twice(*args, **kwargs):\\n        func(*args, **kwargs)\\n        return func(*args, **kwargs)\\n    return wrapper_do_twice\\n\\'\\'\\'\\n\\n@do_twice_ret\\ndef return_greeting(name):\\n    print(\"Creating greeting\")\\n    return f\"Hi {name}\"\\n\\nhi_adam = return_greeting(\"Adam\")\\nprint(hi_adam)',\n",
       " 'do_twice_ret': <function mydecorators.do_twice_ret(func)>,\n",
       " '_i24': 'do_twice_ret.__name__',\n",
       " '_24': 'do_twice_ret',\n",
       " '_i25': 'help(do_twice_ret)',\n",
       " '_i26': 'import functools\\n\\ndef do_twice(func):\\n    @functools.wraps(func)\\n    def wrapper_do_twice(*args, **kwargs):\\n        func(*args, **kwargs)\\n        return func(*args, **kwargs)\\n    return wrapper_do_twice',\n",
       " 'functools': <module 'functools' from 'C:\\\\Program Files\\\\WindowsApps\\\\PythonSoftwareFoundation.Python.3.10_3.10.3056.0_x64__qbz5n2kfra8p0\\\\lib\\\\functools.py'>,\n",
       " '_i27': 'from mydecorators import do_twice_wraps\\n\\n@do_twice_wraps\\ndef say_whee():\\n    print(\"Whee!\")',\n",
       " 'do_twice_wraps': <function mydecorators.do_twice_wraps(func)>,\n",
       " '_i28': 'say_whee\\n#<function say_whee at 0x7ff79a60f2f0>',\n",
       " '_28': <function __main__.say_whee()>,\n",
       " '_i29': \"# no more confusion in name\\nsay_whee.__name__\\n#'say_whee' is returned correctly\",\n",
       " '_29': 'say_whee',\n",
       " '_i30': '\\nhelp(say_whee)',\n",
       " '_i31': 'help(do_twice)',\n",
       " '_i32': 'from mydecorators import timer\\n\\n@timer\\ndef waste_some_time(num_times):\\n    for _ in range(num_times):\\n        sum([i**2 for i in range(10000)])',\n",
       " 'timer': <function mydecorators.timer(func)>,\n",
       " 'waste_some_time': <function __main__.waste_some_time(num_times)>,\n",
       " '_i33': ' waste_some_time(1000)',\n",
       " '_i34': 'import math\\nfrom mydecorators import debug\\n\\n# Apply a decorator to a standard library function\\nmath.factorial = debug(math.factorial)\\n\\ndef approximate_e(terms=18):\\n    return sum(1 / math.factorial(n) for n in range(terms))',\n",
       " 'math': <module 'math' (built-in)>,\n",
       " 'debug': <function mydecorators.debug(func)>,\n",
       " 'approximate_e': <function __main__.approximate_e(terms=18)>,\n",
       " '_i35': 'approximate_e(5)',\n",
       " '_35': 2.708333333333333,\n",
       " '_i36': 'from mydecorators import slow_down\\n\\n@slow_down\\ndef countdown(from_number):\\n    if from_number < 1:\\n        print(\"Liftoff!\")\\n    else:\\n        print(from_number)\\n        countdown(from_number - 1)\\n\\ncountdown(3)',\n",
       " 'slow_down': <function mydecorators.slow_down(func)>,\n",
       " 'countdown': <function __main__.countdown(from_number)>,\n",
       " '_i37': 'from mydecorators import register, PLUGINS\\nimport random\\n# using register\\n    \\n@register\\ndef say_hello(name):\\n    return f\"Hello {name}\"\\n\\n@register\\ndef be_awesome(name):\\n    return f\"Yo {name}, together we are the awesomest!\"\\n\\ndef randomly_greet(name):\\n    greeter, greeter_func = random.choice(list(PLUGINS.items()))\\n    print(f\"Using {greeter!r}\")\\n    return greeter_func(name)\\n\\nprint(PLUGINS)\\nrandomly_greet(\"Alice\")',\n",
       " '_37': 'Yo Alice, together we are the awesomest!',\n",
       " '_i38': 'globals()'}"
      ]
     },
     "execution_count": 38,
     "metadata": {},
     "output_type": "execute_result"
    }
   ],
   "source": [
    "globals()"
   ]
  },
  {
   "cell_type": "markdown",
   "metadata": {},
   "source": [
    "### Is the User Logged In?"
   ]
  },
  {
   "cell_type": "code",
   "execution_count": 41,
   "metadata": {},
   "outputs": [],
   "source": [
    "#pip install flask"
   ]
  },
  {
   "cell_type": "code",
   "execution_count": 42,
   "metadata": {},
   "outputs": [],
   "source": [
    "from flask import Flask, g, request, redirect, url_for\n",
    "import functools\n",
    "app = Flask(__name__)\n",
    "\n",
    "def login_required(func):\n",
    "    \"\"\"Make sure user is logged in before proceeding\"\"\"\n",
    "    @functools.wraps(func)\n",
    "    def wrapper_login_required(*args, **kwargs):\n",
    "        if g.user is None:\n",
    "            return redirect(url_for(\"login\", next=request.url))\n",
    "        return func(*args, **kwargs)\n",
    "    return wrapper_login_required\n"
   ]
  },
  {
   "cell_type": "code",
   "execution_count": 43,
   "metadata": {},
   "outputs": [],
   "source": [
    "@app.route(\"/secret\")\n",
    "@login_required\n",
    "def secret():\n",
    "    pass"
   ]
  },
  {
   "cell_type": "markdown",
   "metadata": {},
   "source": [
    "### Fancy Decorators"
   ]
  },
  {
   "cell_type": "markdown",
   "metadata": {},
   "source": [
    "#### Decorating Classes"
   ]
  },
  {
   "cell_type": "code",
   "execution_count": 44,
   "metadata": {},
   "outputs": [],
   "source": [
    "class Circle:\n",
    "    def __init__(self, radius):\n",
    "        self._radius = radius\n",
    "\n",
    "    @property\n",
    "    def radius(self):\n",
    "        \"\"\"Get value of radius\"\"\"\n",
    "        return self._radius\n",
    "\n",
    "    @radius.setter\n",
    "    def radius(self, value):\n",
    "        \"\"\"Set radius, raise error if negative\"\"\"\n",
    "        if value >= 0:\n",
    "            self._radius = value\n",
    "        else:\n",
    "            raise ValueError(\"Radius must be positive\")\n",
    "\n",
    "    @property\n",
    "    def area(self):\n",
    "        \"\"\"Calculate area inside circle\"\"\"\n",
    "        return self.pi() * self.radius**2\n",
    "\n",
    "    def cylinder_volume(self, height):\n",
    "        \"\"\"Calculate volume of cylinder with circle as base\"\"\"\n",
    "        return self.area * height\n",
    "\n",
    "    @classmethod\n",
    "    def unit_circle(cls):\n",
    "        \"\"\"Factory method creating a circle with radius 1\"\"\"\n",
    "        return cls(1)\n",
    "\n",
    "    @staticmethod\n",
    "    def pi():\n",
    "        \"\"\"Value of π, could use math.pi instead though\"\"\"\n",
    "        return 3.1415926535"
   ]
  },
  {
   "cell_type": "code",
   "execution_count": 47,
   "metadata": {},
   "outputs": [
    {
     "data": {
      "text/plain": [
       "3.1415926535"
      ]
     },
     "execution_count": 47,
     "metadata": {},
     "output_type": "execute_result"
    }
   ],
   "source": [
    "c = Circle(5)\n",
    "c.radius\n",
    "#5\n",
    "\n",
    "c.area\n",
    "#78.5398163375\n",
    "\n",
    "c.radius = 2\n",
    "c.area\n",
    "#12.566370614\n",
    "\n",
    "#c.area = 100\n",
    "#AttributeError: can't set attribute\n",
    "\n",
    "c.cylinder_volume(height=4)\n",
    "#50.265482456\n",
    "\n",
    "#c.radius = -1\n",
    "#ValueError: Radius must be positive\n",
    "\n",
    "c = Circle.unit_circle()\n",
    "c.radius\n",
    "#1\n",
    "\n",
    "c.pi()\n",
    "#3.1415926535\n",
    "\n",
    "Circle.pi()\n",
    "#3.1415926535"
   ]
  },
  {
   "cell_type": "code",
   "execution_count": 48,
   "metadata": {},
   "outputs": [],
   "source": [
    "from mydecorators import debug, timer\n",
    "\n",
    "class TimeWaster:\n",
    "    @debug\n",
    "    def __init__(self, max_num):\n",
    "        self.max_num = max_num\n",
    "\n",
    "    @timer\n",
    "    def waste_time(self, num_times):\n",
    "        for _ in range(num_times):\n",
    "            sum([i**2 for i in range(self.max_num)])"
   ]
  },
  {
   "cell_type": "code",
   "execution_count": 49,
   "metadata": {},
   "outputs": [
    {
     "name": "stdout",
     "output_type": "stream",
     "text": [
      "Calling __init__(<__main__.TimeWaster object at 0x0000021A33B47C70>, 1000)\n",
      "'__init__' returned None\n"
     ]
    }
   ],
   "source": [
    "tw = TimeWaster(1000)"
   ]
  },
  {
   "cell_type": "code",
   "execution_count": 50,
   "metadata": {},
   "outputs": [
    {
     "name": "stdout",
     "output_type": "stream",
     "text": [
      "Finished 'waste_time' in 0.4270 secs\n"
     ]
    }
   ],
   "source": [
    "tw.waste_time(999)"
   ]
  },
  {
   "cell_type": "code",
   "execution_count": 51,
   "metadata": {},
   "outputs": [],
   "source": [
    "from dataclasses import dataclass\n",
    "\n",
    "@dataclass\n",
    "class PlayingCard:\n",
    "    rank: str\n",
    "    suit: str"
   ]
  },
  {
   "cell_type": "code",
   "execution_count": 52,
   "metadata": {},
   "outputs": [],
   "source": [
    "from mydecorators import timer\n",
    "\n",
    "\n",
    "# Decorating a class does not decorate its methods.\n",
    "@timer\n",
    "class TimeWaster:\n",
    "    def __init__(self, max_num):\n",
    "        self.max_num = max_num\n",
    "\n",
    "    def waste_time(self, num_times):\n",
    "        for _ in range(num_times):\n",
    "            sum([i**2 for i in range(self.max_num)])"
   ]
  },
  {
   "cell_type": "code",
   "execution_count": 55,
   "metadata": {},
   "outputs": [
    {
     "name": "stdout",
     "output_type": "stream",
     "text": [
      "Finished 'TimeWaster' in 0.0000 secs\n"
     ]
    }
   ],
   "source": [
    "# decorator are applied only to the init function\n",
    "tw = TimeWaster(1000)"
   ]
  },
  {
   "cell_type": "code",
   "execution_count": 57,
   "metadata": {},
   "outputs": [],
   "source": [
    "# timer is not applied to the class method waste_time\n",
    "tw.waste_time(999)"
   ]
  },
  {
   "cell_type": "markdown",
   "metadata": {},
   "source": [
    "### Nesting Decorators"
   ]
  },
  {
   "cell_type": "code",
   "execution_count": 62,
   "metadata": {},
   "outputs": [],
   "source": [
    "from mydecorators import debug, do_twice\n",
    "\n",
    "@debug\n",
    "@do_twice_arg\n",
    "def greet(name):\n",
    "    print(f\"Hello {name}\")"
   ]
  },
  {
   "cell_type": "code",
   "execution_count": 63,
   "metadata": {},
   "outputs": [
    {
     "name": "stdout",
     "output_type": "stream",
     "text": [
      "Calling wrapper_do_twice('Eva')\n",
      "Hello Eva\n",
      "Hello Eva\n",
      "'wrapper_do_twice' returned None\n"
     ]
    }
   ],
   "source": [
    "greet(\"Eva\")"
   ]
  },
  {
   "cell_type": "code",
   "execution_count": 65,
   "metadata": {},
   "outputs": [
    {
     "name": "stdout",
     "output_type": "stream",
     "text": [
      "Calling greet('Eva')\n",
      "Hello Eva\n",
      "'greet' returned None\n",
      "Calling greet('Eva')\n",
      "Hello Eva\n",
      "'greet' returned None\n"
     ]
    }
   ],
   "source": [
    "@do_twice_arg\n",
    "@debug\n",
    "def greet(name):\n",
    "    print(f\"Hello {name}\")\n",
    "\n",
    "greet(\"Eva\")"
   ]
  },
  {
   "cell_type": "markdown",
   "metadata": {},
   "source": [
    "### Decorators With Arguments"
   ]
  },
  {
   "cell_type": "code",
   "execution_count": 67,
   "metadata": {},
   "outputs": [],
   "source": [
    "def repeat(num_times):\n",
    "    def decorator_repeat(func):\n",
    "        @functools.wraps(func)\n",
    "        def wrapper_repeat(*args, **kwargs):\n",
    "            for _ in range(num_times):\n",
    "                value = func(*args, **kwargs)\n",
    "            return value\n",
    "        return wrapper_repeat\n",
    "    return decorator_repeat"
   ]
  },
  {
   "cell_type": "code",
   "execution_count": 69,
   "metadata": {},
   "outputs": [
    {
     "name": "stdout",
     "output_type": "stream",
     "text": [
      "Hello World\n",
      "Hello World\n",
      "Hello World\n",
      "Hello World\n"
     ]
    }
   ],
   "source": [
    "@repeat(num_times=4)\n",
    "def greet(name):\n",
    "    print(f\"Hello {name}\")\n",
    "\n",
    "greet(\"World\")"
   ]
  },
  {
   "cell_type": "markdown",
   "metadata": {},
   "source": [
    "### Both Please, But Never Mind the Bread"
   ]
  }
 ],
 "metadata": {
  "kernelspec": {
   "display_name": "Python 3",
   "language": "python",
   "name": "python3"
  },
  "language_info": {
   "codemirror_mode": {
    "name": "ipython",
    "version": 3
   },
   "file_extension": ".py",
   "mimetype": "text/x-python",
   "name": "python",
   "nbconvert_exporter": "python",
   "pygments_lexer": "ipython3",
   "version": "3.10.11"
  }
 },
 "nbformat": 4,
 "nbformat_minor": 2
}
