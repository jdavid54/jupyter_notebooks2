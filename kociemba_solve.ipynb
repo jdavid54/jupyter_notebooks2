{
 "cells": [
  {
   "cell_type": "code",
   "execution_count": 3,
   "metadata": {},
   "outputs": [
    {
     "ename": "ModuleNotFoundError",
     "evalue": "No module named 'kociemba'",
     "output_type": "error",
     "traceback": [
      "\u001b[31m---------------------------------------------------------------------------\u001b[39m",
      "\u001b[31mModuleNotFoundError\u001b[39m                       Traceback (most recent call last)",
      "\u001b[36mCell\u001b[39m\u001b[36m \u001b[39m\u001b[32mIn[3]\u001b[39m\u001b[32m, line 1\u001b[39m\n\u001b[32m----> \u001b[39m\u001b[32m1\u001b[39m \u001b[38;5;28;01mimport\u001b[39;00m\u001b[38;5;250m \u001b[39m\u001b[34;01mkociemba\u001b[39;00m\n",
      "\u001b[31mModuleNotFoundError\u001b[39m: No module named 'kociemba'"
     ]
    }
   ],
   "source": [
    "import kociemba\n"
   ]
  },
  {
   "cell_type": "code",
   "execution_count": null,
   "metadata": {},
   "outputs": [],
   "source": [
    "goodcube = 'yyyyyyyyybbbbbbbbbrrrrrrrrrgggggggggooooooooowwwwwwwww'  # legacy order\n",
    "solved_cube = 'UUUUUUUUURRRRRRRRRFFFFFFFFFDDDDDDDDDLLLLLLLLLBBBBBBBBB'  # kociemba order"
   ]
  },
  {
   "cell_type": "code",
   "execution_count": null,
   "metadata": {
    "vscode": {
     "languageId": "ruby"
    }
   },
   "outputs": [],
   "source": [
    "def reorder_to_kociemba(cube):\n",
    "    # Define the order of the input and output strings\n",
    "    input_order = 'yyyyyyyyybbbbbbbbbrrrrrrrrrgggggggggooooooooowwwwwwwww'  #'UUUUUUUUULLLLLLLLLFFFFFFFFFRRRRRRRRRBBBBBBBBBDDDDDDDDD'\n",
    "    output_order = 'yyyyyyyyygggggggggrrrrrrrrrwwwwwwwwwbbbbbbbbbooooooooo' #'UUUUUUUUURRRRRRRRRFFFFFFFFFDDDDDDDDDLLLLLLLLLBBBBBBBBB'\n",
    "    \n",
    "    # Create a dictionary to map each position in the input order to the output order\n",
    "    position_map = {input_order[i]: output_order[i] for i in range(len(input_order))}\n",
    "    \n",
    "    # Reorder the cube string according to the position map\n",
    "    reordered_cube = ''.join(position_map[cube[i]] for i in range(len(cube)))\n",
    "    \n",
    "    return reordered_cube\n"
   ]
  },
  {
   "cell_type": "code",
   "execution_count": null,
   "metadata": {},
   "outputs": [],
   "source": [
    "def convert_to_kociemba(cube):\n",
    "    # mapping from 'ybrgow' to 'ULFRBD'\n",
    "    mapping = {'y': 'U', 'b': 'L', 'r': 'F', 'g': 'R', 'o': 'B', 'w': 'D'}\n",
    "    kociemba_cube = \"\"\n",
    "    for color in cube:\n",
    "        kociemba_cube += mapping[color]\n",
    "    return kociemba_cube\n"
   ]
  },
  {
   "cell_type": "code",
   "execution_count": null,
   "metadata": {},
   "outputs": [],
   "source": [
    "def convert_from_kociemba(kociemba_str):\n",
    "    # reverse mapping from 'ULFRBD' to 'ybrgow'\n",
    "    reverse_mapping = {'U': 'y', 'L': 'b', 'F': 'r', 'R': 'g', 'B': 'o', 'D': 'w'}\n",
    "    cube_colors = \"\"\n",
    "    for char in kociemba_str:\n",
    "        cube_colors += reverse_mapping[char]\n",
    "    return cube_colors\n"
   ]
  },
  {
   "cell_type": "code",
   "execution_count": null,
   "metadata": {},
   "outputs": [],
   "source": [
    "def printcube(cube):\n",
    "    # print up face (yellow)\n",
    "    print('   ',cube[0:3])\n",
    "    print('   ',cube[3:6])\n",
    "    print('   ',cube[6:9])\n",
    "    # print 4 lateral faces (blue, red, green, orange)\n",
    "    print(cube[9:12],cube[18:21],cube[27:30],cube[36:39])\n",
    "    print(cube[12:15],cube[21:24],cube[30:33],cube[39:42])\n",
    "    print(cube[15:18],cube[24:27],cube[33:36],cube[42:45])\n",
    "    #print down face (white)\n",
    "    print('   ',cube[45:48])\n",
    "    print('   ',cube[48:51])\n",
    "    print('   ',cube[51:54])"
   ]
  },
  {
   "cell_type": "code",
   "execution_count": null,
   "metadata": {
    "vscode": {
     "languageId": "ruby"
    }
   },
   "outputs": [],
   "source": [
    "def solve_from_legacy(cube):\n",
    "    # Example usage\n",
    "    #cube = goodcube\n",
    "    reordered_cube = reorder_to_kociemba(cube)\n",
    "    reordered_cube\n",
    "\n",
    "    # Example usage\n",
    "    cubein = reordered_cube\n",
    "    converted = convert_to_kociemba(cubein)\n",
    "    converted\n",
    "\n",
    "    # Example usage\n",
    "    converted_colors = convert_from_kociemba(converted)\n",
    "    converted_colors\n",
    "    return kociemba.solve(converted)\n"
   ]
  },
  {
   "cell_type": "code",
   "execution_count": null,
   "metadata": {
    "vscode": {
     "languageId": "ruby"
    }
   },
   "outputs": [
    {
     "data": {
      "text/plain": [
       "\"R L U2 R L' B2 U2 R2 F2 L2 D2 L2 F2\""
      ]
     },
     "execution_count": 139,
     "metadata": {},
     "output_type": "execute_result"
    }
   ],
   "source": [
    "solve_from_legacy(goodcube)"
   ]
  },
  {
   "cell_type": "code",
   "execution_count": null,
   "metadata": {},
   "outputs": [
    {
     "name": "stdout",
     "output_type": "stream",
     "text": [
      "    yyr\n",
      "    yyr\n",
      "    yyr\n",
      "bbb rrw ggg yoo\n",
      "bbb rrw ggg yoo\n",
      "bbb rrw ggg yoo\n",
      "    wwo\n",
      "    wwo\n",
      "    wwo\n"
     ]
    }
   ],
   "source": [
    "cubein = 'yyryyryyrbbbbbbbbbrrwrrwrrwgggggggggyooyooyoowwowwowwo'\n",
    "printcube(cubein)"
   ]
  },
  {
   "cell_type": "code",
   "execution_count": null,
   "metadata": {},
   "outputs": [
    {
     "name": "stdout",
     "output_type": "stream",
     "text": [
      "    wow\n",
      "    gyb\n",
      "    wyo\n",
      "gyg row bor bwo\n",
      "yby brg wgg ror\n",
      "ogg ywr ybr bwb\n",
      "    org\n",
      "    owr\n",
      "    yby\n"
     ]
    }
   ],
   "source": [
    "cubein = 'wyrbybwbgoroybggwogorwrogwrwybggbbrbwrbwogoyyyryowgroy'\n",
    "cubein = 'wowgybwyogygybyoggrowbrgywrborwggybrbwororbwborgowryby'\n",
    "printcube(cubein)"
   ]
  },
  {
   "cell_type": "code",
   "execution_count": null,
   "metadata": {},
   "outputs": [],
   "source": [
    "solve_from_legacy(cubein)"
   ]
  },
  {
   "cell_type": "code",
   "execution_count": null,
   "metadata": {},
   "outputs": [
    {
     "name": "stdout",
     "output_type": "stream",
     "text": [
      "    ybb\n",
      "    yyy\n",
      "    yyy\n",
      "bgb rrr goo wwo\n",
      "obb rrr ggb yog\n",
      "ywb rrr gwg obg\n",
      "    www\n",
      "    gwo\n",
      "    oow\n"
     ]
    }
   ],
   "source": [
    "cubein = 'ybbyyyyyybgbobbywbrrrrrrrrrgooggbgwgwwoyogobgwwwgwooow'\n",
    "printcube(cubein)"
   ]
  },
  {
   "cell_type": "code",
   "execution_count": null,
   "metadata": {},
   "outputs": [
    {
     "data": {
      "text/plain": [
       "'UUFUUFUUFLLLLLLLLLFFDFFDFFDRRRRRRRRRUBBUBBUBBDDBDDBDDB'"
      ]
     },
     "execution_count": 93,
     "metadata": {},
     "output_type": "execute_result"
    }
   ],
   "source": [
    "# convert from colors to kociemba\n",
    "#cubein = 'ybbyyyyyybgbobbywbrrrrrrrrrgooggbgwgwwoyogobgwwwgwooow'\n",
    "converted = convert_to_kociemba(cubein)\n",
    "converted"
   ]
  },
  {
   "cell_type": "code",
   "execution_count": null,
   "metadata": {},
   "outputs": [
    {
     "ename": "ValueError",
     "evalue": "Error. Probably cubestring is invalid",
     "output_type": "error",
     "traceback": [
      "\u001b[1;31m---------------------------------------------------------------------------\u001b[0m",
      "\u001b[1;31mValueError\u001b[0m                                Traceback (most recent call last)",
      "Cell \u001b[1;32mIn[94], line 1\u001b[0m\n\u001b[1;32m----> 1\u001b[0m \u001b[43mkociemba\u001b[49m\u001b[38;5;241;43m.\u001b[39;49m\u001b[43msolve\u001b[49m\u001b[43m(\u001b[49m\u001b[43mconverted\u001b[49m\u001b[43m)\u001b[49m\n",
      "File \u001b[1;32mc:\\Users\\jean\\AppData\\Local\\Programs\\Python\\Python312\\Lib\\site-packages\\kociemba\\__init__.py:61\u001b[0m, in \u001b[0;36msolve\u001b[1;34m(cubestring, patternstring, max_depth)\u001b[0m\n\u001b[0;32m     50\u001b[0m \u001b[38;5;28;01mdef\u001b[39;00m \u001b[38;5;21msolve\u001b[39m(cubestring, patternstring\u001b[38;5;241m=\u001b[39m\u001b[38;5;28;01mNone\u001b[39;00m, max_depth\u001b[38;5;241m=\u001b[39m\u001b[38;5;241m24\u001b[39m):\n\u001b[0;32m     51\u001b[0m \u001b[38;5;250m    \u001b[39m\u001b[38;5;124;03m\"\"\"\u001b[39;00m\n\u001b[0;32m     52\u001b[0m \u001b[38;5;124;03m    Solve a Rubik's cube using two-phase algorithm.\u001b[39;00m\n\u001b[0;32m     53\u001b[0m \n\u001b[1;32m   (...)\u001b[0m\n\u001b[0;32m     58\u001b[0m \u001b[38;5;124;03m    u\"R' D2 R' U2 R F2 D B2 U' R F' U R2 D L2 D' B2 R2 B2 U' B2\"\u001b[39;00m\n\u001b[0;32m     59\u001b[0m \u001b[38;5;124;03m    \"\"\"\u001b[39;00m\n\u001b[1;32m---> 61\u001b[0m     \u001b[38;5;28;01mreturn\u001b[39;00m \u001b[43m_solve\u001b[49m\u001b[43m(\u001b[49m\u001b[43mcubestring\u001b[49m\u001b[43m,\u001b[49m\u001b[43m \u001b[49m\u001b[43mpatternstring\u001b[49m\u001b[43m,\u001b[49m\u001b[43m \u001b[49m\u001b[43mmax_depth\u001b[49m\u001b[43m)\u001b[49m\n",
      "File \u001b[1;32mc:\\Users\\jean\\AppData\\Local\\Programs\\Python\\Python312\\Lib\\site-packages\\kociemba\\__init__.py:18\u001b[0m, in \u001b[0;36m_solve\u001b[1;34m(cube, pattern, max_depth)\u001b[0m\n\u001b[0;32m     16\u001b[0m     \u001b[38;5;28;01mreturn\u001b[39;00m ffi\u001b[38;5;241m.\u001b[39mstring(res)\u001b[38;5;241m.\u001b[39mstrip()\u001b[38;5;241m.\u001b[39mdecode(\u001b[38;5;124m'\u001b[39m\u001b[38;5;124mutf-8\u001b[39m\u001b[38;5;124m'\u001b[39m)\n\u001b[0;32m     17\u001b[0m \u001b[38;5;28;01melse\u001b[39;00m:\n\u001b[1;32m---> 18\u001b[0m     \u001b[38;5;28;01mraise\u001b[39;00m \u001b[38;5;167;01mValueError\u001b[39;00m(\u001b[38;5;124m'\u001b[39m\u001b[38;5;124mError. Probably cubestring is invalid\u001b[39m\u001b[38;5;124m'\u001b[39m)\n",
      "\u001b[1;31mValueError\u001b[0m: Error. Probably cubestring is invalid"
     ]
    }
   ],
   "source": [
    "kociemba.solve(converted)"
   ]
  },
  {
   "cell_type": "code",
   "execution_count": null,
   "metadata": {},
   "outputs": [
    {
     "data": {
      "text/plain": [
       "'UUFUUFUUFRRRRRRRRRFFBFFBFFBDDDDDDDDDULLULLULLBBLBBLBBL'"
      ]
     },
     "execution_count": 90,
     "metadata": {},
     "output_type": "execute_result"
    }
   ],
   "source": [
    "reordered_cube = reorder_to_kociemba(converted)\n",
    "reordered_cube"
   ]
  },
  {
   "cell_type": "code",
   "execution_count": null,
   "metadata": {},
   "outputs": [
    {
     "ename": "ValueError",
     "evalue": "Error. Probably cubestring is invalid",
     "output_type": "error",
     "traceback": [
      "\u001b[1;31m---------------------------------------------------------------------------\u001b[0m",
      "\u001b[1;31mValueError\u001b[0m                                Traceback (most recent call last)",
      "Cell \u001b[1;32mIn[91], line 1\u001b[0m\n\u001b[1;32m----> 1\u001b[0m \u001b[43mkociemba\u001b[49m\u001b[38;5;241;43m.\u001b[39;49m\u001b[43msolve\u001b[49m\u001b[43m(\u001b[49m\u001b[43mreordered_cube\u001b[49m\u001b[43m)\u001b[49m\n",
      "File \u001b[1;32mc:\\Users\\jean\\AppData\\Local\\Programs\\Python\\Python312\\Lib\\site-packages\\kociemba\\__init__.py:61\u001b[0m, in \u001b[0;36msolve\u001b[1;34m(cubestring, patternstring, max_depth)\u001b[0m\n\u001b[0;32m     50\u001b[0m \u001b[38;5;28;01mdef\u001b[39;00m \u001b[38;5;21msolve\u001b[39m(cubestring, patternstring\u001b[38;5;241m=\u001b[39m\u001b[38;5;28;01mNone\u001b[39;00m, max_depth\u001b[38;5;241m=\u001b[39m\u001b[38;5;241m24\u001b[39m):\n\u001b[0;32m     51\u001b[0m \u001b[38;5;250m    \u001b[39m\u001b[38;5;124;03m\"\"\"\u001b[39;00m\n\u001b[0;32m     52\u001b[0m \u001b[38;5;124;03m    Solve a Rubik's cube using two-phase algorithm.\u001b[39;00m\n\u001b[0;32m     53\u001b[0m \n\u001b[1;32m   (...)\u001b[0m\n\u001b[0;32m     58\u001b[0m \u001b[38;5;124;03m    u\"R' D2 R' U2 R F2 D B2 U' R F' U R2 D L2 D' B2 R2 B2 U' B2\"\u001b[39;00m\n\u001b[0;32m     59\u001b[0m \u001b[38;5;124;03m    \"\"\"\u001b[39;00m\n\u001b[1;32m---> 61\u001b[0m     \u001b[38;5;28;01mreturn\u001b[39;00m \u001b[43m_solve\u001b[49m\u001b[43m(\u001b[49m\u001b[43mcubestring\u001b[49m\u001b[43m,\u001b[49m\u001b[43m \u001b[49m\u001b[43mpatternstring\u001b[49m\u001b[43m,\u001b[49m\u001b[43m \u001b[49m\u001b[43mmax_depth\u001b[49m\u001b[43m)\u001b[49m\n",
      "File \u001b[1;32mc:\\Users\\jean\\AppData\\Local\\Programs\\Python\\Python312\\Lib\\site-packages\\kociemba\\__init__.py:18\u001b[0m, in \u001b[0;36m_solve\u001b[1;34m(cube, pattern, max_depth)\u001b[0m\n\u001b[0;32m     16\u001b[0m     \u001b[38;5;28;01mreturn\u001b[39;00m ffi\u001b[38;5;241m.\u001b[39mstring(res)\u001b[38;5;241m.\u001b[39mstrip()\u001b[38;5;241m.\u001b[39mdecode(\u001b[38;5;124m'\u001b[39m\u001b[38;5;124mutf-8\u001b[39m\u001b[38;5;124m'\u001b[39m)\n\u001b[0;32m     17\u001b[0m \u001b[38;5;28;01melse\u001b[39;00m:\n\u001b[1;32m---> 18\u001b[0m     \u001b[38;5;28;01mraise\u001b[39;00m \u001b[38;5;167;01mValueError\u001b[39;00m(\u001b[38;5;124m'\u001b[39m\u001b[38;5;124mError. Probably cubestring is invalid\u001b[39m\u001b[38;5;124m'\u001b[39m)\n",
      "\u001b[1;31mValueError\u001b[0m: Error. Probably cubestring is invalid"
     ]
    }
   ],
   "source": [
    "kociemba.solve(reordered_cube)\n"
   ]
  },
  {
   "cell_type": "code",
   "execution_count": null,
   "metadata": {},
   "outputs": [
    {
     "data": {
      "text/plain": [
       "\"D2 R' D' F2 B D R2 D2 R' F2 D' F2 U' B2 L2 U2 D R2 U\""
      ]
     },
     "execution_count": 45,
     "metadata": {},
     "output_type": "execute_result"
    }
   ],
   "source": [
    "kociemba.solve('DRLUUBFBRBLURRLRUBLRDDFDLFUFUFFDBRDUBRUFLLFDDBFLUBLRBD')\n",
    "#u\"D2 R' D' F2 B D R2 D2 R' F2 D' F2 U' B2 L2 U2 D R2 U\"\n"
   ]
  },
  {
   "cell_type": "markdown",
   "metadata": {},
   "source": [
    "The names of the facelet positions of the cube (letters stand for Up, Left, Front, Right, Back, and Down):\n",
    "\n",
    "             |************|\n",
    "             |*U1**U2**U3*|\n",
    "             |************|\n",
    "             |*U4**U5**U6*|\n",
    "             |************|\n",
    "             |*U7**U8**U9*|\n",
    "             |************|\n",
    " ************|************|************|************\n",
    " *L1**L2**L3*|*F1**F2**F3*|*R1**R2**R3*|*B1**B2**B3*\n",
    " ************|************|************|************\n",
    " *L4**L5**L6*|*F4**F5**F6*|*R4**R5**R6*|*B4**B5**B6*\n",
    " ************|************|************|************\n",
    " *L7**L8**L9*|*F7**F8**F9*|*R7**R8**R9*|*B7**B8**B9*\n",
    " ************|************|************|************\n",
    "             |************|\n",
    "             |*D1**D2**D3*|\n",
    "             |************|\n",
    "             |*D4**D5**D6*|\n",
    "             |************|\n",
    "             |*D7**D8**D9*|\n",
    "             |************|\n",
    "A cube definition string \"UBL...\" means that in position U1 we have the U-color, in position U2 we have the B-color, in position U3 we have the L color etc. according to the order U1, U2, U3, U4, U5, U6, U7, U8, U9, R1, R2, R3, R4, R5, R6, R7, R8, R9, F1, F2, F3, F4, F5, F6, F7, F8, F9, D1, D2, D3, D4, D5, D6, D7, D8, D9, L1, L2, L3, L4, L5, L6, L7, L8, L9, B1, B2, B3, B4, B5, B6, B7, B8, B9.\n",
    "\n",
    "So, for example, a definition of a solved cube would be UUUUUUUUURRRRRRRRRFFFFFFFFFDDDDDDDDDLLLLLLLLLBBBBBBBBB\n",
    "\n",
    "Solution string consists of space-separated parts, each of them represents a single move:\n",
    "\n",
    "A single letter by itself means to turn that face clockwise 90 degrees.\n",
    "A letter followed by an apostrophe means to turn that face counterclockwise 90 degrees.\n",
    "A letter with the number 2 after it means to turn that face 180 degrees.\n",
    "e.g. R U R’ U R U2 R’ U"
   ]
  },
  {
   "cell_type": "code",
   "execution_count": null,
   "metadata": {},
   "outputs": [
    {
     "data": {
      "text/plain": [
       "\"R' D2 R' U2 R F2 D B2 U' R F' U R2 D L2 D' B2 R2 B2 U' B2\""
      ]
     },
     "execution_count": 6,
     "metadata": {},
     "output_type": "execute_result"
    }
   ],
   "source": [
    "kociemba.solve('FLBUULFFLFDURRDBUBUUDDFFBRDDBLRDRFLLRLRULFUDRRBDBBBUFL', 'BBURUDBFUFFFRRFUUFLULUFUDLRRDBBDBDBLUDDFLLRRBRLLLBRDDF')\n",
    "#u\"R' D2 R' U2 R F2 D B2 U' R F' U R2 D L2 D' B2 R2 B2 U' B2\""
   ]
  },
  {
   "cell_type": "code",
   "execution_count": null,
   "metadata": {},
   "outputs": [
    {
     "data": {
      "text/plain": [
       "\"R L U2 R L' B2 U2 R2 F2 L2 D2 L2 F2\""
      ]
     },
     "execution_count": 8,
     "metadata": {},
     "output_type": "execute_result"
    }
   ],
   "source": [
    "kociemba.solve('UUUUUUUUURRRRRRRRRFFFFFFFFFDDDDDDDDDLLLLLLLLLBBBBBBBBB')"
   ]
  }
 ],
 "metadata": {
  "kernelspec": {
   "display_name": "Python 3",
   "language": "python",
   "name": "python3"
  },
  "language_info": {
   "codemirror_mode": {
    "name": "ipython",
    "version": 3
   },
   "file_extension": ".py",
   "mimetype": "text/x-python",
   "name": "python",
   "nbconvert_exporter": "python",
   "pygments_lexer": "ipython3",
   "version": "3.13.2"
  }
 },
 "nbformat": 4,
 "nbformat_minor": 2
}
