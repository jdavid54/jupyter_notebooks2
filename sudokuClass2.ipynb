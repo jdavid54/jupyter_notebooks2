{
 "cells": [
  {
   "cell_type": "code",
   "execution_count": 433,
   "metadata": {},
   "outputs": [],
   "source": [
    "#enter sudoku data \n",
    "data=['005810600',\n",
    "      '000706100',\n",
    "      '167500008',\n",
    "      '001304000',\n",
    "      '300100007',\n",
    "      '594687321',\n",
    "      '006938514',\n",
    "      '459261783',\n",
    "      '813475296']"
   ]
  },
  {
   "cell_type": "code",
   "execution_count": 434,
   "metadata": {},
   "outputs": [],
   "source": [
    "class Grid:    \n",
    "    def __init__(self): \n",
    "        #print('Grid init')\n",
    "        self.data = []\n",
    "        self.span = 81\n",
    "        for i in data:\n",
    "            #list = []\n",
    "            for j in i:\n",
    "            #    list.append(j)\n",
    "                self.data.append(j) \n",
    "        #print(self.data)"
   ]
  },
  {
   "cell_type": "code",
   "execution_count": 435,
   "metadata": {},
   "outputs": [
    {
     "name": "stdout",
     "output_type": "stream",
     "text": [
      "['0', '0', '5', '8', '1', '0', '6', '0', '0', '0', '0', '0', '7', '0', '6', '1', '0', '0', '1', '6', '7', '5', '0', '0', '0', '0', '8', '0', '0', '1', '3', '0', '4', '0', '0', '0', '3', '0', '0', '1', '0', '0', '0', '0', '7', '5', '9', '4', '6', '8', '7', '3', '2', '1', '0', '0', '6', '9', '3', '8', '5', '1', '4', '4', '5', '9', '2', '6', '1', '7', '8', '3', '8', '1', '3', '4', '7', '5', '2', '9', '6']\n"
     ]
    }
   ],
   "source": [
    "g = Grid()\n",
    "print(g.data)"
   ]
  },
  {
   "cell_type": "code",
   "execution_count": 436,
   "metadata": {},
   "outputs": [
    {
     "name": "stdout",
     "output_type": "stream",
     "text": [
      "9 []\n"
     ]
    }
   ],
   "source": [
    "class Set:\n",
    "    def __init__(self): \n",
    "        #print('Set init')\n",
    "        self.span = 9\n",
    "        self.first = 0\n",
    "        self.data = []\n",
    "        #self.__update()\n",
    "        #self.update()\n",
    "        \n",
    "    def update(self):\n",
    "        #print('Set update')\n",
    "        pass\n",
    "    \n",
    "    __update = update   # private function\n",
    "\n",
    "s = Set()\n",
    "print(s.span,s.data)"
   ]
  },
  {
   "cell_type": "code",
   "execution_count": 437,
   "metadata": {},
   "outputs": [],
   "source": [
    "class Row(Set):\n",
    "    #def __init__(self, list):\n",
    "    #    self.update(list)\n",
    "    \n",
    "    def update(self, first):\n",
    "        #print('Line init')\n",
    "        self.first = first\n",
    "        for i in range(9):\n",
    "            #print(g.data[first+i])\n",
    "            self.data.append(g.data[first+i])\n",
    "    "
   ]
  },
  {
   "cell_type": "code",
   "execution_count": 438,
   "metadata": {},
   "outputs": [
    {
     "name": "stdout",
     "output_type": "stream",
     "text": [
      "['0', '0', '5', '8', '1', '0', '6', '0', '0']\n",
      "['0', '0', '0', '7', '0', '6', '1', '0', '0']\n",
      "['1', '6', '7', '5', '0', '0', '0', '0', '8']\n",
      "['0', '0', '1', '3', '0', '4', '0', '0', '0']\n",
      "['3', '0', '0', '1', '0', '0', '0', '0', '7']\n",
      "['5', '9', '4', '6', '8', '7', '3', '2', '1']\n",
      "['0', '0', '6', '9', '3', '8', '5', '1', '4']\n",
      "['4', '5', '9', '2', '6', '1', '7', '8', '3']\n",
      "['8', '1', '3', '4', '7', '5', '2', '9', '6']\n",
      "[['0', '0', '5', '8', '1', '0', '6', '0', '0'], ['0', '0', '0', '7', '0', '6', '1', '0', '0'], ['1', '6', '7', '5', '0', '0', '0', '0', '8'], ['0', '0', '1', '3', '0', '4', '0', '0', '0'], ['3', '0', '0', '1', '0', '0', '0', '0', '7'], ['5', '9', '4', '6', '8', '7', '3', '2', '1'], ['0', '0', '6', '9', '3', '8', '5', '1', '4'], ['4', '5', '9', '2', '6', '1', '7', '8', '3'], ['8', '1', '3', '4', '7', '5', '2', '9', '6']]\n"
     ]
    }
   ],
   "source": [
    "#create rows\n",
    "rows=[]\n",
    "l=[i for i in range(9)]\n",
    "#print(l)\n",
    "for i in range(9):\n",
    "    #l[i]=i\n",
    "    #print(l[i])\n",
    "    l[i] = Row()\n",
    "    l[i].update(i*9)\n",
    "    print(l[i].data)\n",
    "    rows.append(l[i].data)\n",
    "    #l[i].update()  # error \n",
    "print(rows)"
   ]
  },
  {
   "cell_type": "code",
   "execution_count": 439,
   "metadata": {},
   "outputs": [],
   "source": [
    "class Column(Set):\n",
    "    def update(self,first):\n",
    "        #print('Row init')\n",
    "        self.first = first\n",
    "        for i in range(self.span):\n",
    "            self.data.append(g.data[first+i*9])"
   ]
  },
  {
   "cell_type": "code",
   "execution_count": 440,
   "metadata": {},
   "outputs": [
    {
     "name": "stdout",
     "output_type": "stream",
     "text": [
      "['0', '0', '1', '0', '3', '5', '0', '4', '8']\n",
      "['0', '0', '6', '0', '0', '9', '0', '5', '1']\n",
      "['5', '0', '7', '1', '0', '4', '6', '9', '3']\n",
      "['8', '7', '5', '3', '1', '6', '9', '2', '4']\n",
      "['1', '0', '0', '0', '0', '8', '3', '6', '7']\n",
      "['0', '6', '0', '4', '0', '7', '8', '1', '5']\n",
      "['6', '1', '0', '0', '0', '3', '5', '7', '2']\n",
      "['0', '0', '0', '0', '0', '2', '1', '8', '9']\n",
      "['0', '0', '8', '0', '7', '1', '4', '3', '6']\n",
      "[['0', '0', '1', '0', '3', '5', '0', '4', '8'], ['0', '0', '6', '0', '0', '9', '0', '5', '1'], ['5', '0', '7', '1', '0', '4', '6', '9', '3'], ['8', '7', '5', '3', '1', '6', '9', '2', '4'], ['1', '0', '0', '0', '0', '8', '3', '6', '7'], ['0', '6', '0', '4', '0', '7', '8', '1', '5'], ['6', '1', '0', '0', '0', '3', '5', '7', '2'], ['0', '0', '0', '0', '0', '2', '1', '8', '9'], ['0', '0', '8', '0', '7', '1', '4', '3', '6']]\n"
     ]
    }
   ],
   "source": [
    "#create columns\n",
    "columns=[]\n",
    "c=[i for i in range(9)]\n",
    "#print(l)\n",
    "for i in range(9):\n",
    "    c[i] = Column()\n",
    "    c[i].update(i)\n",
    "    print(c[i].data)\n",
    "    columns.append(c[i].data)\n",
    "print(columns)"
   ]
  },
  {
   "cell_type": "code",
   "execution_count": 441,
   "metadata": {},
   "outputs": [],
   "source": [
    "class Zone(Set):\n",
    "    def update(self,first):\n",
    "        #print('Zone init')\n",
    "        self.first = first\n",
    "        for i in range(9):\n",
    "            self.data.append(g.data[(first%3)*3+(first//3)*27+i//3*9+i%3])"
   ]
  },
  {
   "cell_type": "code",
   "execution_count": 442,
   "metadata": {},
   "outputs": [
    {
     "name": "stdout",
     "output_type": "stream",
     "text": [
      "['0', '0', '5', '0', '0', '0', '1', '6', '7']\n",
      "['8', '1', '0', '7', '0', '6', '5', '0', '0']\n",
      "['6', '0', '0', '1', '0', '0', '0', '0', '8']\n",
      "['0', '0', '1', '3', '0', '0', '5', '9', '4']\n",
      "['3', '0', '4', '1', '0', '0', '6', '8', '7']\n",
      "['0', '0', '0', '0', '0', '7', '3', '2', '1']\n",
      "['0', '0', '6', '4', '5', '9', '8', '1', '3']\n",
      "['9', '3', '8', '2', '6', '1', '4', '7', '5']\n",
      "['5', '1', '4', '7', '8', '3', '2', '9', '6']\n",
      "[['0', '0', '5', '0', '0', '0', '1', '6', '7'], ['8', '1', '0', '7', '0', '6', '5', '0', '0'], ['6', '0', '0', '1', '0', '0', '0', '0', '8'], ['0', '0', '1', '3', '0', '0', '5', '9', '4'], ['3', '0', '4', '1', '0', '0', '6', '8', '7'], ['0', '0', '0', '0', '0', '7', '3', '2', '1'], ['0', '0', '6', '4', '5', '9', '8', '1', '3'], ['9', '3', '8', '2', '6', '1', '4', '7', '5'], ['5', '1', '4', '7', '8', '3', '2', '9', '6']]\n"
     ]
    }
   ],
   "source": [
    "#create zones\n",
    "zones=[]\n",
    "z=[i for i in range(9)]\n",
    "#print(l)\n",
    "for i in range(9):\n",
    "    z[i] = Zone()\n",
    "    z[i].update(i)\n",
    "    print(z[i].data)\n",
    "    zones.append(z[i].data)\n",
    "print(zones)"
   ]
  },
  {
   "cell_type": "code",
   "execution_count": 443,
   "metadata": {},
   "outputs": [],
   "source": [
    "\n",
    "def connect(cell):                        # cell in range(81)\n",
    "    indexes=(cell//9,cell%9,(cell//27)*3+(cell//3)%3)  #row, column, zone\n",
    "    return indexes"
   ]
  },
  {
   "cell_type": "code",
   "execution_count": 444,
   "metadata": {},
   "outputs": [
    {
     "name": "stdout",
     "output_type": "stream",
     "text": [
      "\n",
      "(0, 0, 0) (0, 1, 0) (0, 2, 0) (0, 3, 1) (0, 4, 1) (0, 5, 1) (0, 6, 2) (0, 7, 2) (0, 8, 2) \n",
      "(1, 0, 0) (1, 1, 0) (1, 2, 0) (1, 3, 1) (1, 4, 1) (1, 5, 1) (1, 6, 2) (1, 7, 2) (1, 8, 2) \n",
      "(2, 0, 0) (2, 1, 0) (2, 2, 0) (2, 3, 1) (2, 4, 1) (2, 5, 1) (2, 6, 2) (2, 7, 2) (2, 8, 2) \n",
      "(3, 0, 3) (3, 1, 3) (3, 2, 3) (3, 3, 4) (3, 4, 4) (3, 5, 4) (3, 6, 5) (3, 7, 5) (3, 8, 5) \n",
      "(4, 0, 3) (4, 1, 3) (4, 2, 3) (4, 3, 4) (4, 4, 4) (4, 5, 4) (4, 6, 5) (4, 7, 5) (4, 8, 5) \n",
      "(5, 0, 3) (5, 1, 3) (5, 2, 3) (5, 3, 4) (5, 4, 4) (5, 5, 4) (5, 6, 5) (5, 7, 5) (5, 8, 5) \n",
      "(6, 0, 6) (6, 1, 6) (6, 2, 6) (6, 3, 7) (6, 4, 7) (6, 5, 7) (6, 6, 8) (6, 7, 8) (6, 8, 8) \n",
      "(7, 0, 6) (7, 1, 6) (7, 2, 6) (7, 3, 7) (7, 4, 7) (7, 5, 7) (7, 6, 8) (7, 7, 8) (7, 8, 8) \n",
      "(8, 0, 6) (8, 1, 6) (8, 2, 6) (8, 3, 7) (8, 4, 7) (8, 5, 7) (8, 6, 8) (8, 7, 8) (8, 8, 8) [(0, 0, 0), (0, 1, 0), (0, 2, 0), (0, 3, 1), (0, 4, 1), (0, 5, 1), (0, 6, 2), (0, 7, 2), (0, 8, 2), (1, 0, 0), (1, 1, 0), (1, 2, 0), (1, 3, 1), (1, 4, 1), (1, 5, 1), (1, 6, 2), (1, 7, 2), (1, 8, 2), (2, 0, 0), (2, 1, 0), (2, 2, 0), (2, 3, 1), (2, 4, 1), (2, 5, 1), (2, 6, 2), (2, 7, 2), (2, 8, 2), (3, 0, 3), (3, 1, 3), (3, 2, 3), (3, 3, 4), (3, 4, 4), (3, 5, 4), (3, 6, 5), (3, 7, 5), (3, 8, 5), (4, 0, 3), (4, 1, 3), (4, 2, 3), (4, 3, 4), (4, 4, 4), (4, 5, 4), (4, 6, 5), (4, 7, 5), (4, 8, 5), (5, 0, 3), (5, 1, 3), (5, 2, 3), (5, 3, 4), (5, 4, 4), (5, 5, 4), (5, 6, 5), (5, 7, 5), (5, 8, 5), (6, 0, 6), (6, 1, 6), (6, 2, 6), (6, 3, 7), (6, 4, 7), (6, 5, 7), (6, 6, 8), (6, 7, 8), (6, 8, 8), (7, 0, 6), (7, 1, 6), (7, 2, 6), (7, 3, 7), (7, 4, 7), (7, 5, 7), (7, 6, 8), (7, 7, 8), (7, 8, 8), (8, 0, 6), (8, 1, 6), (8, 2, 6), (8, 3, 7), (8, 4, 7), (8, 5, 7), (8, 6, 8), (8, 7, 8), (8, 8, 8)]\n"
     ]
    }
   ],
   "source": [
    "connexion=[]\n",
    "for c in range(81):\n",
    "    r = connect(c)\n",
    "    if c%9==0:print()\n",
    "    print(r,end=' ')\n",
    "    connexion.append(r)\n",
    "print(connexion)"
   ]
  },
  {
   "cell_type": "code",
   "execution_count": 445,
   "metadata": {},
   "outputs": [
    {
     "data": {
      "text/plain": [
       "'\\nfor c in range(9):\\n    print(rows[c])\\n    print(columns[c])\\n    print(zones[c])\\n    print()\\n'"
      ]
     },
     "execution_count": 445,
     "metadata": {},
     "output_type": "execute_result"
    }
   ],
   "source": [
    "'''\n",
    "for c in range(9):\n",
    "    print(rows[c])\n",
    "    print(columns[c])\n",
    "    print(zones[c])\n",
    "    print()\n",
    "'''"
   ]
  },
  {
   "cell_type": "code",
   "execution_count": 446,
   "metadata": {},
   "outputs": [
    {
     "name": "stdout",
     "output_type": "stream",
     "text": [
      "Candidates table\n",
      "      +29     +234        5        8        1     +239        6     +347      +29\n",
      "      +29    +2348      +28        7     +249        6        1     +345     +259\n",
      "        1        6        7        5     +249     +239      +49      +34        8\n",
      "     +267     +278        1        3     +259        4      +89      +56      +59\n",
      "        3      +28      +28        1     +259      +29     +489     +456        7\n",
      "        5        9        4        6        8        7        3        2        1\n",
      "      +27      +27        6        9        3        8        5        1        4\n",
      "        4        5        9        2        6        1        7        8        3\n",
      "        8        1        3        4        7        5        2        9        6\n"
     ]
    }
   ],
   "source": [
    "#print(g.data)\n",
    "g2 = list(g.data)\n",
    "for c in range(81):\n",
    "  if g.data[c]=='0':\n",
    "    candidates='+'\n",
    "    for i in range(1,10):        \n",
    "        if str(i) not in rows[connexion[c][0]] and str(i) not in columns[connexion[c][1]] and str(i) not in zones[connexion[c][2]]:\n",
    "            candidates+=str(i)\n",
    "    g2[c]=candidates\n",
    "    #print(c,candidates,end=' ') \n",
    "  #if (c+1)%9==0:print()\n",
    "print('Candidates table')\n",
    "for i in range(81):    \n",
    "    print(\"%9s\" % (g2[i]),end='')    #9 places pour string\n",
    "    if (i+1)%9==0:print()"
   ]
  },
  {
   "cell_type": "code",
   "execution_count": null,
   "metadata": {},
   "outputs": [],
   "source": []
  }
 ],
 "metadata": {
  "kernelspec": {
   "display_name": "Python 3",
   "language": "python",
   "name": "python3"
  },
  "language_info": {
   "codemirror_mode": {
    "name": "ipython",
    "version": 3
   },
   "file_extension": ".py",
   "mimetype": "text/x-python",
   "name": "python",
   "nbconvert_exporter": "python",
   "pygments_lexer": "ipython3",
   "version": "3.6.7"
  }
 },
 "nbformat": 4,
 "nbformat_minor": 2
}
