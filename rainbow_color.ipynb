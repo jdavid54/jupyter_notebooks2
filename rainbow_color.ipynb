{
 "cells": [
  {
   "cell_type": "code",
   "execution_count": 52,
   "metadata": {},
   "outputs": [],
   "source": [
    "import matplotlib.pyplot as plt\n",
    "import numpy as np\n",
    "\n",
    "def interpolate_rainbow(steps):\n",
    "    colors = []\n",
    "    for i in range(steps): #,0,-1):\n",
    "        # Calculate hue value ranging from 0 to 360 for rainbow spectrum\n",
    "        hue = i * (360 / steps)\n",
    "        # Convert hue to RGB using hsv_to_rgb function\n",
    "        r, g, b = hsv_to_rgb(hue / 360.0, 1, 1)\n",
    "        # Convert RGB to hexadecimal format\n",
    "        color_hex = '#{:02X}{:02X}{:02X}'.format(int(r * 255), int(g * 255), int(b * 255))\n",
    "        colors.append(color_hex)\n",
    "    return colors\n",
    "\n",
    "def hsv_to_rgb(h, s, v):\n",
    "    if s == 0.0:\n",
    "        return v, v, v\n",
    "    i = int(h * 6.0)\n",
    "    f = (h * 6.0) - i\n",
    "    p = v * (1.0 - s)\n",
    "    q = v * (1.0 - s * f)\n",
    "    t = v * (1.0 - s * (1.0 - f))\n",
    "    if i % 6 == 0:\n",
    "        return v, t, p\n",
    "    if i % 6 == 1:\n",
    "        return q, v, p\n",
    "    if i % 6 == 2:\n",
    "        return p, v, t\n",
    "    if i % 6 == 3:\n",
    "        return p, q, v\n",
    "    if i % 6 == 4:\n",
    "        return t, p, v\n",
    "    if i % 6 == 5:\n",
    "        return v, p, q\n"
   ]
  },
  {
   "cell_type": "code",
   "execution_count": 53,
   "metadata": {},
   "outputs": [
    {
     "data": {
      "text/plain": [
       "['#FF0000',\n",
       " '#FF0100',\n",
       " '#FF0300',\n",
       " '#FF0400',\n",
       " '#FF0600',\n",
       " '#FF0700',\n",
       " '#FF0900',\n",
       " '#FF0A00',\n",
       " '#FF0C00',\n",
       " '#FF0D00']"
      ]
     },
     "execution_count": 53,
     "metadata": {},
     "output_type": "execute_result"
    }
   ],
   "source": [
    "\n",
    "# Define the number of steps\n",
    "steps = 1000\n",
    "\n",
    "# Generate the rainbow gradient\n",
    "rainbow_gradient = interpolate_rainbow(steps)\n",
    "rainbow_gradient[:10]\n"
   ]
  },
  {
   "cell_type": "code",
   "execution_count": 56,
   "metadata": {},
   "outputs": [
    {
     "data": {
      "image/png": "[encoded data removed]",
      "text/plain": [
       "<Figure size 800x100 with 1 Axes>"
      ]
     },
     "metadata": {},
     "output_type": "display_data"
    }
   ],
   "source": [
    "reversed_gradient = rainbow_gradient[:600][::-1]  # from blue to red\n",
    "\n",
    "# Create a plot\n",
    "fig, ax = plt.subplots(figsize=(8, 1))\n",
    "for i, color in enumerate(reversed_gradient):\n",
    "    ax.axvline(x=i, color=color, linewidth=10)\n",
    "ax.set_yticks([])\n",
    "#ax.set_xticks([])\n",
    "plt.show()\n"
   ]
  },
  {
   "cell_type": "code",
   "execution_count": 25,
   "metadata": {},
   "outputs": [
    {
     "data": {
      "image/png": "[encoded data removed]",
      "text/plain": [
       "<Figure size 800x100 with 1 Axes>"
      ]
     },
     "metadata": {},
     "output_type": "display_data"
    }
   ],
   "source": [
    "def interpolate_color(start_color, end_color, steps):\n",
    "    # Convert hex colors to RGB tuples\n",
    "    start_rgb = tuple(int(start_color[i:i+2], 16) for i in (0, 2, 4))\n",
    "    end_rgb = tuple(int(end_color[i:i+2], 16) for i in (0, 2, 4))\n",
    "    \n",
    "    # Calculate the increment for each color component\n",
    "    step_r = (end_rgb[0] - start_rgb[0]) / steps\n",
    "    step_g = (end_rgb[1] - start_rgb[1]) / steps\n",
    "    step_b = (end_rgb[2] - start_rgb[2]) / steps\n",
    "    \n",
    "    # Generate the intermediate colors\n",
    "    colors = []\n",
    "    for i in range(steps):\n",
    "        r = start_rgb[0] + step_r * i\n",
    "        g = start_rgb[1] + step_g * i\n",
    "        b = start_rgb[2] + step_b * i\n",
    "        colors.append('#{:02X}{:02X}{:02X}'.format(int(r), int(g), int(b)))\n",
    "    \n",
    "    # Add the end color\n",
    "    colors.append('#'+end_color)\n",
    "    \n",
    "    return colors\n",
    "\n",
    "# Define start and end colors\n",
    "start_color = '0000FF'  # Blue\n",
    "end_color = 'FF0000'    # Red\n",
    "\n",
    "# Define the number of steps\n",
    "steps = 100\n",
    "\n",
    "# Generate the gradient\n",
    "gradient = interpolate_color(start_color, end_color, steps)\n",
    "\n",
    "# Print the gradient\n",
    "#for color in gradient:\n",
    "    #print(color)\n",
    "\n",
    "# Create a plot\n",
    "fig, ax = plt.subplots(figsize=(8, 1))\n",
    "for i, color in enumerate(gradient):\n",
    "    ax.axvline(x=i, color=color, linewidth=10)\n",
    "ax.set_yticks([])\n",
    "#ax.set_xticks([])\n",
    "plt.show()\n"
   ]
  }
 ],
 "metadata": {
  "kernelspec": {
   "display_name": "Python 3",
   "language": "python",
   "name": "python3"
  },
  "language_info": {
   "codemirror_mode": {
    "name": "ipython",
    "version": 3
   },
   "file_extension": ".py",
   "mimetype": "text/x-python",
   "name": "python",
   "nbconvert_exporter": "python",
   "pygments_lexer": "ipython3",
   "version": "3.11.4"
  }
 },
 "nbformat": 4,
 "nbformat_minor": 2
}
