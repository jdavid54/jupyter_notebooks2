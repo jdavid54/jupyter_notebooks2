{
 "cells": [
  {
   "cell_type": "code",
   "execution_count": 7,
   "metadata": {},
   "outputs": [],
   "source": [
    "import socket\n",
    "import threading"
   ]
  },
  {
   "cell_type": "code",
   "execution_count": 8,
   "metadata": {},
   "outputs": [
    {
     "data": {
      "text/plain": [
       "'DESKTOP-BMAX3Plus'"
      ]
     },
     "execution_count": 8,
     "metadata": {},
     "output_type": "execute_result"
    }
   ],
   "source": [
    "socket.gethostname()"
   ]
  },
  {
   "cell_type": "code",
   "execution_count": 9,
   "metadata": {},
   "outputs": [],
   "source": [
    "HEADER = 64\n",
    "FORMAT = 'utf8'"
   ]
  },
  {
   "cell_type": "code",
   "execution_count": 10,
   "metadata": {},
   "outputs": [
    {
     "data": {
      "text/plain": [
       "('192.168.0.159', 5050)"
      ]
     },
     "execution_count": 10,
     "metadata": {},
     "output_type": "execute_result"
    }
   ],
   "source": [
    "PORT = 5050\n",
    "DISCONNECT_MESSAGE = \"!DISCONNECT\"\n",
    "SERVER = socket.gethostbyname(socket.gethostname())\n",
    "SERVER, PORT"
   ]
  },
  {
   "cell_type": "code",
   "execution_count": 11,
   "metadata": {},
   "outputs": [],
   "source": [
    "ADDR = (SERVER, PORT)\n",
    "server = socket.socket(socket.AF_INET, socket.SOCK_STREAM)\n",
    "server.bind(ADDR)"
   ]
  },
  {
   "cell_type": "code",
   "execution_count": 12,
   "metadata": {},
   "outputs": [],
   "source": [
    "def handle_client(conn,addr):    \n",
    "    print(f\"[NEW CONNECTION] {addr} connected.\")\n",
    "\n",
    "    connected = True\n",
    "    while connected:\n",
    "        msg_length = conn.recv(HEADER).decode(FORMAT)\n",
    "        if msg_length:\n",
    "            msg_length = int(msg_length)\n",
    "            msg = conn.recv(msg_length).decode(FORMAT)\n",
    "            if msg == DISCONNECT_MESSAGE:\n",
    "                connected = False\n",
    "            print(f\"[{addr}] {msg}\")\n",
    "            conn.send(\"Msg received\".encode(FORMAT))\n",
    "    conn.close()\n"
   ]
  },
  {
   "cell_type": "code",
   "execution_count": 13,
   "metadata": {},
   "outputs": [],
   "source": [
    "def start():\n",
    "    server.listen()\n",
    "    print(f\"[LISTENING] Server is listening on {SERVER}:{PORT}\")\n",
    "    while True:\n",
    "        conn, addr = server.accept()\n",
    "        thread = threading.Thread(target=handle_client, args=(conn, addr))\n",
    "        thread.start()\n",
    "        print(f\"\\n[ACTIVE CONNECTIONS] {threading.active_count()-1}\")"
   ]
  },
  {
   "cell_type": "code",
   "execution_count": 14,
   "metadata": {},
   "outputs": [
    {
     "name": "stdout",
     "output_type": "stream",
     "text": [
      "[STARTING] server is starting ...\n",
      "[LISTENING] Server is listening on 192.168.0.159:5050\n"
     ]
    },
    {
     "name": "stdout",
     "output_type": "stream",
     "text": [
      "[NEW CONNECTION] ('192.168.0.159', 64245) connected.\n",
      "[ACTIVE CONNECTIONS] 6\n",
      "\n",
      "[('192.168.0.159', 64245)] Hello World\n",
      "[('192.168.0.159', 64245)] Hello World2\n",
      "[('192.168.0.159', 64245)] Hello World\n",
      "[('192.168.0.159', 64245)] !DISCONNECT\n",
      "[NEW CONNECTION] ('192.168.0.159', 64251) connected.\n",
      "[ACTIVE CONNECTIONS] 6\n",
      "\n",
      "[('192.168.0.159', 64251)] Hello World\n",
      "[('192.168.0.159', 64251)] Hello World2\n",
      "[('192.168.0.159', 64251)] Hello World\n",
      "[('192.168.0.159', 64251)] !DISCONNECT\n"
     ]
    }
   ],
   "source": [
    "print(\"[STARTING] server is starting ...\")\n",
    "start()"
   ]
  }
 ],
 "metadata": {
  "kernelspec": {
   "display_name": "Python 3",
   "language": "python",
   "name": "python3"
  },
  "language_info": {
   "codemirror_mode": {
    "name": "ipython",
    "version": 3
   },
   "file_extension": ".py",
   "mimetype": "text/x-python",
   "name": "python",
   "nbconvert_exporter": "python",
   "pygments_lexer": "ipython3",
   "version": "3.10.11"
  },
  "orig_nbformat": 4
 },
 "nbformat": 4,
 "nbformat_minor": 2
}
