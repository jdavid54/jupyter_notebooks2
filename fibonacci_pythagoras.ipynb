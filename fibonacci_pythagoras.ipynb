{
 "cells": [
  {
   "cell_type": "code",
   "execution_count": 83,
   "metadata": {},
   "outputs": [],
   "source": [
    "import numpy as np"
   ]
  },
  {
   "cell_type": "code",
   "execution_count": 84,
   "metadata": {},
   "outputs": [],
   "source": [
    "class Fib_mat():\n",
    "    '''\n",
    "    input : u,v\n",
    "    create matrix [[v-u,u],[v,v+u] = [[a,b],[d,c]\n",
    "    sides c1 = a*d, c2 = 2*b*c, c3 = a*c+b*d\n",
    "    '''    \n",
    "    def __init__(self,u,v):\n",
    "        self.a = v-u\n",
    "        self.b = u\n",
    "        self.c = v\n",
    "        self.d = v+u\n",
    "        self.m = np.matrix([[self.a,self.b],[self.d,self.c]])\n",
    "        self.c1 = self.a*self.d\n",
    "        self.c2 = 2*self.b*self.c\n",
    "        self.c3 = self.a*self.c+self.b*self.d\n",
    "  \n",
    "    def __repr__(self):\n",
    "        return f'{self.c1} {self.c2} {self.c3}'\n",
    "    \n",
    "    def children(self):\n",
    "        self.center = Fib_mat(self.c,self.d+self.c)\n",
    "        self.left = Fib_mat(self.b,self.d+self.b)\n",
    "        self.right = Fib_mat(self.c,self.c+self.a)\n",
    "        \n",
    "        \n",
    "    def check(self):\n",
    "        return self.c1**2+self.c2**2==self.c3**2"
   ]
  },
  {
   "cell_type": "code",
   "execution_count": 85,
   "metadata": {},
   "outputs": [
    {
     "name": "stdout",
     "output_type": "stream",
     "text": [
      "Help on class Fib_mat in module __main__:\n",
      "\n",
      "class Fib_mat(builtins.object)\n",
      " |  Fib_mat(u, v)\n",
      " |  \n",
      " |  input : u,v\n",
      " |  create matrix [[v-u,u],[v,v+u] = [[a,b],[d,c]\n",
      " |  sides c1 = a*d, c2 = 2*b*c, c3 = a*c+b*d\n",
      " |  \n",
      " |  Methods defined here:\n",
      " |  \n",
      " |  __init__(self, u, v)\n",
      " |      Initialize self.  See help(type(self)) for accurate signature.\n",
      " |  \n",
      " |  __repr__(self)\n",
      " |      Return repr(self).\n",
      " |  \n",
      " |  check(self)\n",
      " |  \n",
      " |  children(self)\n",
      " |  \n",
      " |  ----------------------------------------------------------------------\n",
      " |  Data descriptors defined here:\n",
      " |  \n",
      " |  __dict__\n",
      " |      dictionary for instance variables (if defined)\n",
      " |  \n",
      " |  __weakref__\n",
      " |      list of weak references to the object (if defined)\n",
      "\n"
     ]
    }
   ],
   "source": [
    "help(Fib_mat)"
   ]
  },
  {
   "cell_type": "code",
   "execution_count": 86,
   "metadata": {},
   "outputs": [
    {
     "data": {
      "text/plain": [
       "(3 4 5, True)"
      ]
     },
     "execution_count": 86,
     "metadata": {},
     "output_type": "execute_result"
    }
   ],
   "source": [
    "# 1 1 2 3 5 8 13 21 ...\n",
    "\n",
    "m = Fib_mat(1,2)\n",
    "m,m.check()"
   ]
  },
  {
   "cell_type": "code",
   "execution_count": 87,
   "metadata": {},
   "outputs": [],
   "source": [
    "m.children()\n"
   ]
  },
  {
   "cell_type": "code",
   "execution_count": 88,
   "metadata": {},
   "outputs": [
    {
     "data": {
      "text/plain": [
       "(matrix([[1, 1],\n",
       "         [3, 2]]),\n",
       " matrix([[3, 1],\n",
       "         [5, 4]]),\n",
       " matrix([[3, 2],\n",
       "         [7, 5]]),\n",
       " matrix([[1, 2],\n",
       "         [5, 3]]))"
      ]
     },
     "execution_count": 88,
     "metadata": {},
     "output_type": "execute_result"
    }
   ],
   "source": [
    "m.m,m.left.m,m.center.m, m.right.m"
   ]
  },
  {
   "cell_type": "code",
   "execution_count": 89,
   "metadata": {},
   "outputs": [
    {
     "data": {
      "text/plain": [
       "(15, 8, 17, True)"
      ]
     },
     "execution_count": 89,
     "metadata": {},
     "output_type": "execute_result"
    }
   ],
   "source": [
    "m.left.c1,m.left.c2,m.left.c3,m.left.check()"
   ]
  },
  {
   "cell_type": "code",
   "execution_count": 90,
   "metadata": {},
   "outputs": [
    {
     "data": {
      "text/plain": [
       "(21, 20, 29, True)"
      ]
     },
     "execution_count": 90,
     "metadata": {},
     "output_type": "execute_result"
    }
   ],
   "source": [
    "m.center.c1,m.center.c2,m.center.c3,m.center.check()"
   ]
  },
  {
   "cell_type": "code",
   "execution_count": 91,
   "metadata": {},
   "outputs": [
    {
     "data": {
      "text/plain": [
       "(5, 12, 13, True)"
      ]
     },
     "execution_count": 91,
     "metadata": {},
     "output_type": "execute_result"
    }
   ],
   "source": [
    "m.right.c1,m.right.c2,m.right.c3,m.right.check()"
   ]
  }
 ],
 "metadata": {
  "kernelspec": {
   "display_name": "Python 3.10.7 64-bit",
   "language": "python",
   "name": "python3"
  },
  "language_info": {
   "codemirror_mode": {
    "name": "ipython",
    "version": 3
   },
   "file_extension": ".py",
   "mimetype": "text/x-python",
   "name": "python",
   "nbconvert_exporter": "python",
   "pygments_lexer": "ipython3",
   "version": "3.10.7 (tags/v3.10.7:6cc6b13, Sep  5 2022, 14:08:36) [MSC v.1933 64 bit (AMD64)]"
  },
  "orig_nbformat": 4,
  "vscode": {
   "interpreter": {
    "hash": "31859b413185ca7000c2fee082c0715ca78433b184fc2466981b197da693d3e7"
   }
  }
 },
 "nbformat": 4,
 "nbformat_minor": 2
}
