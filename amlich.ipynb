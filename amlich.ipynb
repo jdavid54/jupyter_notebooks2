{
 "cells": [
  {
   "cell_type": "code",
   "execution_count": 26,
   "metadata": {},
   "outputs": [],
   "source": [
    "import numpy as np\n",
    "import math\n",
    "PI = np.pi\n"
   ]
  },
  {
   "cell_type": "code",
   "execution_count": 27,
   "metadata": {},
   "outputs": [],
   "source": [
    "#from amlich_data import *\n",
    "import amlich_lib\n",
    "from amlich_lib import *\n",
    "import inspect"
   ]
  },
  {
   "cell_type": "code",
   "execution_count": 28,
   "metadata": {},
   "outputs": [
    {
     "name": "stdout",
     "output_type": "stream",
     "text": [
      "t : Chủ nhật, Thứ hai, Thứ ba, Thứ tư, Thứ năm, Thứ sáu, Thứ bảy, \n",
      "t : Giêng, Hai, Ba, Tư, Năm, Sáu, Bảy, Tám, Chín, Mười, Mười một, Chạp, \n",
      "t : Giáp, Ất, Bính, Đinh, Mậu, Kỷ, Canh, Tân, Nhâm, Quý, \n",
      "t : Tý, Sửu, Dần, Mão, Thìn, Tỵ, Ngọ, Mùi, Thân, Dậu, Tuất, Hợi, \n",
      "t : 110100101100, 001101001011, 110011010010, 101100110100, 001011001101, 010010110011, \n",
      "t : Xuân phân, Thanh minh, Cốc vũ, Lập hạ, Tiểu mãn, Mang chủng, Hạ chí, Tiểu thử, Đại thử, Lập thu, Xử thử, Bạch lộ, Thu phân, Hàn lộ, Sương giáng, Lập đông, Tiểu tuyết, Đại tuyết, Đông chí, Tiểu hàn, Đại hàn, Lập xuân, Vũ Thủy, Kinh trập, \n",
      "Tableau YEARLY_EVENTS OK !\n",
      "(1/1 : Tết Nguyên Đán, 15/1 : Rằm tháng Giêng, 10/3 : Giỗ Tổ Hùng Vương (10/3 ÂL), 15/4 : Phật Đản (15/4 ÂL), 5/5 : Lễ Đoan Ngọ (5/5 ÂL), 15/7 : Vu Lan (15/7 ÂL), 15/8 : Tết Trung Thu (Rằm tháng 8), 23/12 : Ông Táo chầu trời (23/12 ÂL))\n",
      "\n",
      "findEvents= [15/1 : Rằm tháng Giêng]\n",
      "getdayinfo 1/1 lunar Tết Nguyên Đán  \n"
     ]
    }
   ],
   "source": [
    "\n",
    "# https://vi.wikipedia.org/wiki/Ti%E1%BA%BFt_kh%C3%AD\n",
    "#print(\"Tableaux OK !<br>\")\n",
    "\n",
    "#from varname import nameof\n",
    "#from varname.helpers import Wrapper\n",
    "#names = Wrapper(tabs)\n",
    "#print(names)\n",
    "\n",
    "def retrieve_name(var):\n",
    "    callers_local_vars = inspect.currentframe().f_back.f_locals.items()\n",
    "    return [var_name for var_name, var_val in callers_local_vars if var_val is var]\n",
    "#x,y,z = 1,2,3\n",
    "#print(retrieve_name(y))\n",
    "\n",
    "tabs = (TUAN, THANG, CAN, CHI, GIO_HD, TIETKHI)\n",
    "\n",
    "for t in tabs:\n",
    "  print(retrieve_name(t)[1], end=' : ')\n",
    "  for i in t:\n",
    "    print(i, end=\", \")\n",
    "  print()\n",
    "\n",
    "print(\"Tableau YEARLY_EVENTS OK !\")\n",
    "print(YEARLY_EVENTS)\n",
    "\n",
    "result = findEvents(15,1)\n",
    "print(\"\\nfindEvents=\",result)\n",
    "\n",
    "print('getdayinfo 1/1 lunar',getDayInfo(1,1))\n"
   ]
  },
  {
   "cell_type": "code",
   "execution_count": 29,
   "metadata": {},
   "outputs": [
    {
     "name": "stdout",
     "output_type": "stream",
     "text": [
      "\n",
      "ShowdayInfo\n",
      "Ngày 1 Tháng 2 năm 2021\n",
      "Thứ hai\n",
      "20 Tháng Chạp (Đ) Năm Canh Tý\n",
      "Tháng Kỷ Sửu\n",
      "Ngày Canh Thìn\n",
      "Giờ Bính Tý\n",
      "Tiết Đại hàn\n",
      " \n",
      "Giờ hoàng đạo: Dần (3-5), Thìn (7-9), Tỵ (9-11), Thân (15-17), Dậu (17-19)Hợi (21-23)\n",
      "Ngày 27 Tháng 2 năm 2021\n",
      "Thứ bảy\n",
      "16 Tháng Giêng (T) Năm Tân Sửu\n",
      "Tháng Canh Dần\n",
      "Ngày Bính Ngọ\n",
      "Giờ Mậu Tý\n",
      "Tiết Vũ Thủy\n",
      " \n",
      "Giờ hoàng đạo: Tý (23-1), Sửu (1-3), Mão (5-7), Ngọ (11-13), Thân (15-17)Dậu (17-19)\n",
      "Ngày 21 Tháng 4 năm 2021\n",
      "Thứ tư\n",
      "10 Tháng Ba (Đ) Năm Tân Sửu\n",
      "Tháng Nhâm Thìn\n",
      "Ngày Kỷ Hợi\n",
      "Giờ Giáp Tý\n",
      "Tiết Cốc vũ\n",
      "Giỗ Tổ Hùng Vương (10/3 ÂL)  \n",
      "Giờ hoàng đạo: Sửu (1-3), Thìn (7-9), Ngọ (11-13), Mùi (13-15), Tuất (19-21)Hợi (21-23)\n"
     ]
    }
   ],
   "source": [
    "\n",
    "print('\\nShowdayInfo')\n",
    "showDayInfo(1,20,12,2020,0,30,2459247,1,2,2021)\n",
    "showDayInfo(27,16,1,2021,0,29,2459273,27,2,2021)\n",
    "showDayInfo(24,10,3,2021,0,30,2459326,21,4,2021)\n"
   ]
  },
  {
   "cell_type": "code",
   "execution_count": 30,
   "metadata": {},
   "outputs": [
    {
     "name": "stdout",
     "output_type": "stream",
     "text": [
      "canchi 1954 : Giáp Ngọ\n"
     ]
    }
   ],
   "source": [
    "\n",
    "print('canchi 1954 :',getYearCanChi(1954))\n"
   ]
  },
  {
   "cell_type": "code",
   "execution_count": 31,
   "metadata": {},
   "outputs": [
    {
     "name": "stdout",
     "output_type": "stream",
     "text": [
      "\n",
      "Start test\n",
      "toordinal... 2456238.5\n",
      "toordinal... 2459263.5\n"
     ]
    }
   ],
   "source": [
    "import datetime\n",
    "\n",
    "def test():\n",
    "    print('\\nStart test')\n",
    "    #print(datetime.datetime.fromtimestamp(2440224))\n",
    "    #print(datetime.datetime.fromtimestamp(2459247))\n",
    "\n",
    "    # 07/11/2012\n",
    "    my_date = datetime.date(2012,11,7)   # time = 00:00:00\n",
    "    d = my_date.toordinal() + 1721424.5\n",
    "    print('toordinal...', d)\n",
    "    # 2456238.5\n",
    "    my_date = datetime.date(2021,2,18)   # time = 00:00:00\n",
    "    d = my_date.toordinal() + 1721424.5\n",
    "    print('toordinal...', d)\n",
    "test()"
   ]
  },
  {
   "cell_type": "code",
   "execution_count": 32,
   "metadata": {},
   "outputs": [
    {
     "name": "stdout",
     "output_type": "stream",
     "text": [
      "2021-02-18 00:00:00\n",
      "pandas ... 2459263.5\n",
      "2000-01-01 12:00:00+01:00\n",
      "2451545.0\n"
     ]
    }
   ],
   "source": [
    "def test2():\n",
    "    '''\n",
    "    import jdcal\n",
    "    # 18/02/2021\n",
    "    jdn = sum(jdcal.gcal2jd(2021,2,18))\n",
    "    print('jdcal ...', jdn)\n",
    "\n",
    "    \n",
    "    import julian\n",
    "    mjd = 2459247\n",
    "    dt = julian.from_jd(mjd, fmt='mjd')\n",
    "    print('julian ...', dt)\n",
    "    '''\n",
    "\n",
    "    import pandas as pd \n",
    "    # Create the Timestamp object \n",
    "    ts = pd.Timestamp(year = 2021, month = 2, day = 18)\n",
    "    #, hour = 10, second = 49, tz = 'US/Central') \n",
    "\n",
    "    # Print the Timestamp object \n",
    "    print(ts) \n",
    "\n",
    "    \n",
    "    jdn = pd.Timestamp.to_julian_date(ts)\n",
    "    print('pandas ...', jdn)\n",
    "\n",
    "    # 2451545.0    01/01/02000 at noon\n",
    "    ts = pd.Timestamp(year = 2000, month = 1, day = 1, hour = 12, second = 0, tz = 'Europe/Paris') \n",
    "    # Print the Timestamp object \n",
    "    print(ts) \n",
    "    jdn = pd.Timestamp.to_julian_date(ts)\n",
    "    print(jdn)\n",
    "\n",
    "test2()\n"
   ]
  },
  {
   "cell_type": "code",
   "execution_count": 33,
   "metadata": {},
   "outputs": [
    {
     "name": "stdout",
     "output_type": "stream",
     "text": [
      "\n",
      "Aujourd'hui  :  2023-10-11 14:28:45.441300\n",
      "toordinal... 2460228.5\n",
      "Sun longitude :  3.44564147755662\n",
      "Gio hoang dao :  Tý (23-1), Sửu (1-3), Thìn (7-9), Tỵ (9-11), Mùi (13-15)Tuất (19-21)\n",
      "Solar term :  13\n",
      "Tiet khi :  Hàn lộ\n"
     ]
    }
   ],
   "source": [
    "#debug = False\n",
    "\n",
    "today = datetime.datetime.today()    \n",
    "print(\"\\nAujourd'hui  : \",today)\n",
    "\n",
    "my_date = datetime.date(today.year,today.month,today.day)   # time = 00:00:00\n",
    "jdn = my_date.toordinal() + 1721424.5\n",
    "print('toordinal...', jdn)\n",
    "\n",
    "ret = SunLongitude(jdn)\n",
    "print('Sun longitude : ',ret)\n",
    "print('Gio hoang dao : ',getGioHoangDao(int(jdn+0.5)))\n",
    "\n",
    "sol_t = getSolarTerm(jdn+1, 1.0)\n",
    "print('Solar term : ',sol_t)\n",
    "print('Tiet khi : ',TIETKHI[sol_t])\n"
   ]
  },
  {
   "cell_type": "code",
   "execution_count": 34,
   "metadata": {},
   "outputs": [
    {
     "name": "stdout",
     "output_type": "stream",
     "text": [
      "-12 3.239340921006743 12.373370878513825 12 Thu phân\n",
      "-11 3.256478558515738 12.436103548271179 12 Thu phân\n",
      "-10 3.273625959990312 12.498870466319183 12 Thu phân\n",
      "-9 3.2907831522193476 12.561671723370418 12 Thu phân\n",
      "-8 3.3079501591748794 12.624507400975297 12 Thu phân\n",
      "-7 3.325127001993536 12.687377571556476 12 Thu phân\n",
      "-6 3.342313698957014 12.75028229844078 12 Thu phân\n",
      "-5 3.3595102654748814 12.813221635621009 12 Thu phân\n",
      "-4 3.376716714067186 12.876195627794576 12 Thu phân\n",
      "-3 3.393933054348082 12.939204310403488 12 Thu phân\n",
      "-2 3.4111592930105132 13.002247709402315 13 Hàn lộ\n",
      "-1 3.428395433811147 13.065325841303373 13 Hàn lộ\n",
      "0 3.44564147755662 13.12843871322513 13 Hàn lộ\n",
      "1 3.4628974220906343 13.191586322666193 13 Hàn lộ\n",
      "2 3.4801632622814225 13.254768657558593 13 Hàn lộ\n",
      "3 3.4974389900106644 13.317985696324143 13 Hàn lộ\n",
      "4 3.5147245941631127 13.381237407655256 13 Hàn lộ\n",
      "5 3.5320200606171 13.44452375057745 13 Hàn lộ\n",
      "6 3.5493253722357565 13.507844674512235 13 Hàn lộ\n",
      "7 3.566640508859905 13.571200119067893 13 Hàn lộ\n",
      "8 3.5839654473012956 13.634590014109623 13 Hàn lộ\n",
      "9 3.601300161336752 13.69801427983108 13 Hàn lộ\n",
      "10 3.6186446217042487 13.761472826554066 13 Hàn lộ\n",
      "11 3.6359987960987326 13.824965554806926 13 Hàn lộ\n"
     ]
    }
   ],
   "source": [
    "for i in range(-12,12):\n",
    "    print(i,SunLongitude(jdn+i),SunLongitude(jdn+i - 0.5 - i/24.0) /PI*12,getSolarTerm(jdn+i, i),TIETKHI[getSolarTerm(jdn+i, i)])\n"
   ]
  },
  {
   "cell_type": "code",
   "execution_count": 35,
   "metadata": {},
   "outputs": [
    {
     "name": "stdout",
     "output_type": "stream",
     "text": [
      "leap 2020 True\n",
      "leap 2021 False\n",
      "leap 2022 False\n",
      "leap 2023 True\n",
      "leap 2024 False\n",
      "leap 2025 True\n",
      "leap 2026 False\n",
      "leap 2027 False\n",
      "leap 2028 True\n",
      "leap 2029 False\n"
     ]
    }
   ],
   "source": [
    "\n",
    "def leap(year):\n",
    "    '''7 fois en 19 ans'''\n",
    "    sequence = (0,3,6,9,11,14,17)\n",
    "    if year%19 in sequence : return True\n",
    "    else : return False\n",
    "for year in range(2020,2030):\n",
    "    print('leap',year,leap(year))\n"
   ]
  },
  {
   "cell_type": "code",
   "execution_count": 36,
   "metadata": {},
   "outputs": [],
   "source": [
    "tropic_year = 365.2421898    #jours\n",
    "synodic_period = 29.530588853  #jours"
   ]
  },
  {
   "cell_type": "code",
   "execution_count": 37,
   "metadata": {},
   "outputs": [
    {
     "name": "stdout",
     "output_type": "stream",
     "text": [
      "\n",
      "div_euclid  (2, 1941, 2)\n"
     ]
    }
   ],
   "source": [
    "\n",
    "def div_euclid(n,m):   # n>m\n",
    "    ent = n//m\n",
    "    ret = int(n/m)\n",
    "    frac = n-(m*ent)\n",
    "    return ent, frac, ret\n",
    "\n",
    "print('\\ndiv_euclid ',div_euclid(15625,6842))\n"
   ]
  },
  {
   "cell_type": "code",
   "execution_count": 38,
   "metadata": {},
   "outputs": [
    {
     "name": "stdout",
     "output_type": "stream",
     "text": [
      "\n",
      "frac_cont  [2, 3, 1, 1, 9, 1, 1]\n",
      "[12, 2, 1, 2, 1, 1, 17, 3, 115, 2, 2, 1, 1, 1, 1, 60, 1, 1, 4, 3, 25, 2, 4, 1, 1, 1, 2, 11, 1, 48]\n"
     ]
    }
   ],
   "source": [
    "\n",
    "def frac_cont(n,m):\n",
    "    ret = ''\n",
    "    fc = []\n",
    "    while m != 1 and m > 0.0:\n",
    "        #print(n,m, ret)\n",
    "        old = m\n",
    "        n, m, ret = div_euclid(n,m)\n",
    "        n = old\n",
    "        fc.append(ret)\n",
    "    return fc\n",
    "\n",
    "\n",
    "print('\\nfrac_cont ',frac_cont(15625,6842))\n",
    "fc = frac_cont(tropic_year,synodic_period)\n",
    "print(fc)\n"
   ]
  },
  {
   "cell_type": "code",
   "execution_count": 39,
   "metadata": {},
   "outputs": [
    {
     "name": "stdout",
     "output_type": "stream",
     "text": [
      "[12, 2, 1, 2]\n",
      "dev_frac :  12.375\n",
      "frac_cont 235,19  [12, 2, 1, 2]\n",
      "frac_cont 12628,1021  [12, 2, 1, 2, 1, 1, 17]\n"
     ]
    }
   ],
   "source": [
    " \n",
    "def dev_frac(fc, rang):\n",
    "    if rang == 1 : return fc[0]\n",
    "    fs = fc[0:rang]\n",
    "    print(fs)\n",
    "    s = 0 \n",
    "    for r in range(1,rang):\n",
    "        s = 1/(fs[-r]+s)\n",
    "    return s + fs[0]\n",
    "\n",
    "s = dev_frac(fc, 4)\n",
    "print('dev_frac : ',s)\n",
    "\n",
    "print('frac_cont 235,19 ',frac_cont(235,19))     # cycle de Méton\n",
    "print('frac_cont 12628,1021 ',frac_cont(12628,1021))\n"
   ]
  },
  {
   "cell_type": "code",
   "execution_count": 40,
   "metadata": {},
   "outputs": [
    {
     "name": "stdout",
     "output_type": "stream",
     "text": [
      "leap year 2023 : True\n",
      "tk_data 2023 :\n",
      " Offset Tet = 21,\n",
      "Leap month number and lenght = 2, 29,\n",
      "Regular months lenght = [29, 30, 29, 30, 30, 29, 30, 30, 29, 30, 29, 30]\n",
      "All months = [29, 30, -29, 29, 30, 30, 29, 30, 30, 29, 30, 29, 30]\n"
     ]
    }
   ],
   "source": [
    "\n",
    "# https://thientue.vn/nam-2020-co-nhuan-khong.html\n",
    "# https://reference.vn/lich-am-2020-nhuan-thang-may.html\n",
    "leapmonth = ((1995,8),(1998,5),(2001,4),(2004,2),\n",
    "             (2006,7),(2009,5), (2012,4),\n",
    "             (2014,9),(2017,6),(2020,4),(2023,2),\n",
    "             (2025,6),(2028,5),(2031,3))\n",
    "\n",
    "year = 2023\n",
    "print('leap year',year,':',leap(year))\n",
    "print('tk_data',year,':\\n', Tk_data(getYearCode(year)))\n",
    "\n",
    "#TIETKHI :\n",
    "#Xuân phân (Equinoxe Printemps), Thanh minh, Cốc vũ, Lập hạ, Tiểu mãn, Mang chủng,\n",
    "#Hạ chí (Solstice Eté), Tiểu thử, Đại thử, Lập thu, Xử thử, Bạch lộ,\n",
    "#Thu phân (Equinoxe Automne), Hàn lộ, Sương giáng, Lập đông, Tiểu tuyết, Đại tuyết,\n",
    "#Đông chí (Solstice Hiver), Tiểu hàn, Đại hàn, Lập xuân, Vũ Thủy, Kinh trập\n",
    "\n",
    "# giờ Sóc (New Moons), Trung khí (Major Solar Term) và Tiết khí (Minor Solar Terms) \n",
    "\n",
    "#http://www.informatik.uni-leipzig.de/~duc/amlich/DuLieu/index.html\n"
   ]
  },
  {
   "cell_type": "code",
   "execution_count": 41,
   "metadata": {},
   "outputs": [
    {
     "name": "stdout",
     "output_type": "stream",
     "text": [
      "Année => [Tronc céleste] Traduction VN\t [Rameau terrestre/ Signe ](Polarité,Element)\n",
      " 2000 => [ gēng 庚 ] Canh Thin [ chén 辰 / Dragon:lóng 龍 ]( + Métal:jīn 金 ) \n",
      " 2001 => [ xīn 辛 ] Tan Ty [ sì 巳 / Serpent:shé蛇 ]( - Métal:jīn 金 ) \n",
      " 2002 => [ rén 壬 ] Nham Ngo [ wǔ 午 / Cheval:mǎ 馬 ]( + Eau:shuǐ 水 ) \n",
      " 2003 => [ guǐ 癸 ] Quy Mui [ wèi 未 / Mouton:yáng 羊 ]( - Eau:shuǐ 水 ) \n",
      " 2004 => [ jiǎ 甲 ] Giap Than  [shēn 申 / Singe:hóu 猴 ]( + Bois:mù 木 ) \n",
      " 2005 => [ yǐ 乙 ] At Dau [ yǒu 酉 / Coq:jī 鷄 ]( - Bois:mù 木 ) \n",
      " 2006 => [ bǐng 丙 ] Binh Tuat [ xū 戌 / Chien:gǒu 狗 ]( + Feu:huŏ火 ) \n",
      " 2007 => [ dīng 丁 ] Ding Hoi [ hài 亥 / Porc:zhū 猪 ]( - Feu:huŏ火 ) \n",
      " 2008 => [ wù 戊 ] Mau Ti [ zǐ 子 / Rat:shǔ鼠 ]( + Terre:tŭ 土 ) \n",
      " 2009 => [ jǐ 己 ] Ky Suu [ chǒu 丑 / Bœuf:niú 牛 ]( - Terre:tŭ 土 ) \n",
      " 2010 => [ gēng 庚 ] Canh Dan [ yín 寅 / Tigre:hǔ 虎 ]( + Métal:jīn 金 ) \n",
      " 2011 => [ xīn 辛 ] Tan Meo [ mǎo 卯 / Lapin:tù 兔 ]( - Métal:jīn 金 ) \n",
      " 2012 => [ rén 壬 ] Nham Thin [ chén 辰 / Dragon:lóng 龍 ]( + Eau:shuǐ 水 ) \n",
      " 2013 => [ guǐ 癸 ] Quy Ty [ sì 巳 / Serpent:shé蛇 ]( - Eau:shuǐ 水 ) \n",
      " 2014 => [ jiǎ 甲 ] Giap Ngo [ wǔ 午 / Cheval:mǎ 馬 ]( + Bois:mù 木 ) \n",
      " 2015 => [ yǐ 乙 ] At Mui [ wèi 未 / Mouton:yáng 羊 ]( - Bois:mù 木 ) \n",
      " 2016 => [ bǐng 丙 ] Binh Than  [shēn 申 / Singe:hóu 猴 ]( + Feu:huŏ火 ) \n",
      " 2017 => [ dīng 丁 ] Ding Dau [ yǒu 酉 / Coq:jī 鷄 ]( - Feu:huŏ火 ) \n",
      " 2018 => [ wù 戊 ] Mau Tuat [ xū 戌 / Chien:gǒu 狗 ]( + Terre:tŭ 土 ) \n",
      " 2019 => [ jǐ 己 ] Ky Hoi [ hài 亥 / Porc:zhū 猪 ]( - Terre:tŭ 土 ) \n",
      " 2020 => [ gēng 庚 ] Canh Ti [ zǐ 子 / Rat:shǔ鼠 ]( + Métal:jīn 金 ) \n",
      " 2021 => [ xīn 辛 ] Tan Suu [ chǒu 丑 / Bœuf:niú 牛 ]( - Métal:jīn 金 ) \n",
      " 2022 => [ rén 壬 ] Nham Dan [ yín 寅 / Tigre:hǔ 虎 ]( + Eau:shuǐ 水 ) \n",
      "\n",
      ">>>>>    2023 => [ guǐ 癸 ] Quy Meo [ mǎo 卯 / Lapin:tù 兔 ]( - Eau:shuǐ 水 )  \n",
      "\n",
      " 2024 => [ jiǎ 甲 ] Giap Thin [ chén 辰 / Dragon:lóng 龍 ]( + Bois:mù 木 ) \n",
      " 2025 => [ yǐ 乙 ] At Ty [ sì 巳 / Serpent:shé蛇 ]( - Bois:mù 木 ) \n",
      " 2026 => [ bǐng 丙 ] Binh Ngo [ wǔ 午 / Cheval:mǎ 馬 ]( + Feu:huŏ火 ) \n",
      " 2027 => [ dīng 丁 ] Ding Mui [ wèi 未 / Mouton:yáng 羊 ]( - Feu:huŏ火 ) \n",
      " 2028 => [ wù 戊 ] Mau Than  [shēn 申 / Singe:hóu 猴 ]( + Terre:tŭ 土 ) \n",
      " 2029 => [ jǐ 己 ] Ky Dau [ yǒu 酉 / Coq:jī 鷄 ]( - Terre:tŭ 土 ) \n",
      " 2030 => [ gēng 庚 ] Canh Tuat [ xū 戌 / Chien:gǒu 狗 ]( + Métal:jīn 金 ) \n",
      " 2031 => [ xīn 辛 ] Tan Hoi [ hài 亥 / Porc:zhū 猪 ]( - Métal:jīn 金 ) \n",
      " 2032 => [ rén 壬 ] Nham Ti [ zǐ 子 / Rat:shǔ鼠 ]( + Eau:shuǐ 水 ) \n",
      " 2033 => [ guǐ 癸 ] Quy Suu [ chǒu 丑 / Bœuf:niú 牛 ]( - Eau:shuǐ 水 ) \n",
      " 2034 => [ jiǎ 甲 ] Giap Dan [ yín 寅 / Tigre:hǔ 虎 ]( + Bois:mù 木 ) \n",
      " 2035 => [ yǐ 乙 ] At Meo [ mǎo 卯 / Lapin:tù 兔 ]( - Bois:mù 木 ) \n",
      " 2036 => [ bǐng 丙 ] Binh Thin [ chén 辰 / Dragon:lóng 龍 ]( + Feu:huŏ火 ) \n",
      " 2037 => [ dīng 丁 ] Ding Ty [ sì 巳 / Serpent:shé蛇 ]( - Feu:huŏ火 ) \n",
      " 2038 => [ wù 戊 ] Mau Ngo [ wǔ 午 / Cheval:mǎ 馬 ]( + Terre:tŭ 土 ) \n",
      " 2039 => [ jǐ 己 ] Ky Mui [ wèi 未 / Mouton:yáng 羊 ]( - Terre:tŭ 土 ) \n",
      " 2040 => [ gēng 庚 ] Canh Than  [shēn 申 / Singe:hóu 猴 ]( + Métal:jīn 金 ) \n",
      " 2041 => [ xīn 辛 ] Tan Dau [ yǒu 酉 / Coq:jī 鷄 ]( - Métal:jīn 金 ) \n",
      " 2042 => [ rén 壬 ] Nham Tuat [ xū 戌 / Chien:gǒu 狗 ]( + Eau:shuǐ 水 ) \n",
      " 2043 => [ guǐ 癸 ] Quy Hoi [ hài 亥 / Porc:zhū 猪 ]( - Eau:shuǐ 水 ) \n",
      " 2044 => [ jiǎ 甲 ] Giap Ti [ zǐ 子 / Rat:shǔ鼠 ]( + Bois:mù 木 ) \n",
      " 2045 => [ yǐ 乙 ] At Suu [ chǒu 丑 / Bœuf:niú 牛 ]( - Bois:mù 木 ) \n",
      " 2046 => [ bǐng 丙 ] Binh Dan [ yín 寅 / Tigre:hǔ 虎 ]( + Feu:huŏ火 ) \n",
      " 2047 => [ dīng 丁 ] Ding Meo [ mǎo 卯 / Lapin:tù 兔 ]( - Feu:huŏ火 ) \n",
      " 2048 => [ wù 戊 ] Mau Thin [ chén 辰 / Dragon:lóng 龍 ]( + Terre:tŭ 土 ) \n",
      " 2049 => [ jǐ 己 ] Ky Ty [ sì 巳 / Serpent:shé蛇 ]( - Terre:tŭ 土 ) \n",
      " 2050 => [ gēng 庚 ] Canh Ngo [ wǔ 午 / Cheval:mǎ 馬 ]( + Métal:jīn 金 ) \n",
      " 2051 => [ xīn 辛 ] Tan Mui [ wèi 未 / Mouton:yáng 羊 ]( - Métal:jīn 金 ) \n",
      " 2052 => [ rén 壬 ] Nham Than  [shēn 申 / Singe:hóu 猴 ]( + Eau:shuǐ 水 ) \n",
      " 2053 => [ guǐ 癸 ] Quy Dau [ yǒu 酉 / Coq:jī 鷄 ]( - Eau:shuǐ 水 ) \n",
      " 2054 => [ jiǎ 甲 ] Giap Tuat [ xū 戌 / Chien:gǒu 狗 ]( + Bois:mù 木 ) \n",
      " 2055 => [ yǐ 乙 ] At Hoi [ hài 亥 / Porc:zhū 猪 ]( - Bois:mù 木 ) \n",
      " 2056 => [ bǐng 丙 ] Binh Ti [ zǐ 子 / Rat:shǔ鼠 ]( + Feu:huŏ火 ) \n",
      " 2057 => [ dīng 丁 ] Ding Suu [ chǒu 丑 / Bœuf:niú 牛 ]( - Feu:huŏ火 ) \n",
      " 2058 => [ wù 戊 ] Mau Dan [ yín 寅 / Tigre:hǔ 虎 ]( + Terre:tŭ 土 ) \n",
      " 2059 => [ jǐ 己 ] Ky Meo [ mǎo 卯 / Lapin:tù 兔 ]( - Terre:tŭ 土 ) \n",
      " 2060 => [ gēng 庚 ] Canh Thin [ chén 辰 / Dragon:lóng 龍 ]( + Métal:jīn 金 ) \n"
     ]
    }
   ],
   "source": [
    "#!/usr/bin/python\n",
    "# -*- coding: utf-8 -*-\n",
    "import datetime as dt\n",
    "\n",
    "thisyear = dt.datetime.now().year\n",
    "\n",
    "# https://www.imcce.fr/newsletter/docs/article_chinois.pdf\n",
    "# am-duong-ngu-hanh-cua-thien-can.jpg\n",
    "\n",
    "'''\n",
    "Le calendrier civil chinois est lunisolaire (yīn yáng lì : 陰陽曆 [阴阳历])\n",
    "\n",
    "# gia'p, â't, bi'nh, ding, mâu, ky, canh, tân, nhâm, quy' \n",
    "tronc =['jiǎ 甲', 'yǐ 乙', 'bǐng 丙', 'dīng 丁', 'wù 戊', 'jǐ 己', 'gēng 庚', 'xīn 辛', 'rén 壬', 'guǐ 癸']\n",
    "Tronc         Nom           Élément\n",
    "céleste     chinois\n",
    " \n",
    "1 甲          jiǎ          Bois : mù 木\n",
    "2 乙           yǐ\n",
    "3 丙          bǐng          Feu : huŏ火\n",
    "4 丁          dīng\n",
    "5 戊           wù          Terre : tŭ 土\n",
    "6 己           jǐ\n",
    "7 庚          gēng         Métal : jīn 金\n",
    "8 辛          xīn\n",
    "9 壬          rén          Eau : shuǐ 水\n",
    "10 癸         guǐ\n",
    "\n",
    "Rameau          Signe          Direction     Saison     Mois\n",
    "terrestre                                   lunaire\n",
    "\n",
    "# ti, suu, dan, meo, thin, ty, ngo, mui, than, dau, tuat, hoi\n",
    "\n",
    "1 zǐ 子       Rat : shǔ鼠        0° (nord)     Hiver    11e mois\n",
    "2 chǒu 丑     Bœuf : niú 牛      30°                    12e mois\n",
    "3 yín 寅     Tigre : hǔ 虎       60°         Printemps  1er mois\n",
    "4 mǎo 卯     Lapin : tù 兔       90° (est)              2emois\n",
    "5 chén 辰    Dragon : lóng 龍    120°                   3e mois\n",
    "6 sì 巳      Serpent : shé蛇     150°          Été      4e mois\n",
    "7 wǔ 午      Cheval : mǎ 馬      180°(sud)              5e mois\n",
    "8 wèi 未     Mouton : yáng 羊    210°                   6e mois\n",
    "9 shēn 申    Singe : hóu 猴      240°        Automne    7e mois\n",
    "10 yǒu 酉     Coq : jī 鷄        270°(ouest)            8e mois\n",
    "11 xū 戌      Chien : gǒu 狗     300°                   9e mois\n",
    "12 hài 亥      Porc : zhū 猪     330°          Hiver    10e mois\n",
    "\n",
    "'''\n",
    "elements = ['Bois:mù 木', 'Feu:huŏ火', 'Terre:tŭ 土', 'Métal:jīn 金', 'Eau:shuǐ 水']\n",
    "# troncs célestes\n",
    "# gia'p, â't, bi'nh, ding, mâu, ky, canh, tân, nhâm, quy' \n",
    "tronc =['jiǎ 甲 ] Giap', 'yǐ 乙 ] At', 'bǐng 丙 ] Binh', 'dīng 丁 ] Ding','wù 戊 ] Mau',\n",
    "        'jǐ 己 ] Ky', 'gēng 庚 ] Canh', 'xīn 辛 ] Tan', 'rén 壬 ] Nham', 'guǐ 癸 ] Quy']\n",
    "\n",
    "# rameaux terrestres\n",
    "# Tý, Sửu, Dần, Mão, Thìn, Tỵ, Ngọ, Mùi, Thân, Dậu, Tuất, Hợi\n",
    "# ty', suu, dâ`n, meo, thi`n, ty, ngo, mui`, thân, dâu, tuât, hoi\n",
    "rameaux = ['Ti [ zǐ 子', 'Suu [ chǒu 丑', 'Dan [ yín 寅', 'Meo [ mǎo 卯', 'Thin [ chén 辰', 'Ty [ sì 巳',\n",
    "           'Ngo [ wǔ 午', 'Mui [ wèi 未', 'Than  [shēn 申', 'Dau [ yǒu 酉', 'Tuat [ xū 戌', 'Hoi [ hài 亥']\n",
    "\n",
    "signes = ['Rat:shǔ鼠', 'Bœuf:niú 牛', 'Tigre:hǔ 虎', 'Lapin:tù 兔', 'Dragon:lóng 龍', 'Serpent:shé蛇',\n",
    "          'Cheval:mǎ 馬', 'Mouton:yáng 羊','Singe:hóu 猴','Coq:jī 鷄','Chien:gǒu 狗', 'Porc:zhū 猪']\n",
    "\n",
    "start = 2000  # 1914: giap dan, 1954: Giap ngo, 1968: mau than\n",
    "\n",
    "dif = thisyear - start  # année courante\n",
    "# 2014 jiǎ 甲 Cheval : mǎ 馬\n",
    "ref = 2014\n",
    "y_off = start - ref\n",
    "offset = 6  # difference index entre tronc et rameau/signe\n",
    "\n",
    "# start\n",
    "print('Année =>','[Tronc céleste]', 'Traduction VN\\t', '[Rameau terrestre/', 'Signe', '](Polarité,Element)')\n",
    "for k in range(61):\n",
    "    ky = k + y_off\n",
    "    kof = ky + offset\n",
    "    print('\\n>>>>>   ' if k==dif else '',\n",
    "          start+k,'=>','[',tronc[(ky)%10],rameaux[kof%12],'/', signes[kof%12],\n",
    "          '](', '+' if ky%2==0 else '-',elements[(ky//2%5)],')',\n",
    "          ' \\n' if k==dif else '')\n",
    "    \n",
    "    \n",
    "# print(tronc)\n",
    "# print(rameaux)"
   ]
  },
  {
   "cell_type": "code",
   "execution_count": 42,
   "metadata": {},
   "outputs": [
    {
     "data": {
      "text/plain": [
       "'\\nThe first day of the month is the day on which the New Moon occurs.\\nAn ordinary year has twelve lunar months; an intercalary year has thirteen lunar months.\\nThe Winter Solstice always falls in month 11.\\nIn an intercalary year, a month in which there is no Principal Term is the intercalary month. It is assigned the number of the preceding month, with the further designation of intercalary. If two months of an intercalary year contain no Principal Term, only the first such month after the Winter Solstice is considered intercalary.\\nCalculations are based on the meridian 105� East.\\n'"
      ]
     },
     "execution_count": 42,
     "metadata": {},
     "output_type": "execute_result"
    }
   ],
   "source": [
    "# Imports\n",
    "from amlich_data import *\n",
    "from amlich_functions import *\n",
    "\n",
    "'''\n",
    "The first day of the month is the day on which the New Moon occurs.\n",
    "An ordinary year has twelve lunar months; an intercalary year has thirteen lunar months.\n",
    "The Winter Solstice always falls in month 11.\n",
    "In an intercalary year, a month in which there is no Principal Term is the intercalary month. It is assigned the number of the preceding month, with the further designation of intercalary. If two months of an intercalary year contain no Principal Term, only the first such month after the Winter Solstice is considered intercalary.\n",
    "Calculations are based on the meridian 105� East.\n",
    "'''\n"
   ]
  },
  {
   "cell_type": "code",
   "execution_count": 43,
   "metadata": {},
   "outputs": [
    {
     "name": "stdout",
     "output_type": "stream",
     "text": [
      "Current Lunar Date :  27, 8, 2023, 0, 2460229\n",
      "\n"
     ]
    }
   ],
   "source": [
    "# ==================== main program\n",
    "today = datetime.datetime.today()\n",
    "currentLunarDate = getLunarDate(today.day, today.month, today.year)\n",
    "print('Current Lunar Date : ', currentLunarDate)\n",
    "print()\n"
   ]
  },
  {
   "cell_type": "code",
   "execution_count": 44,
   "metadata": {},
   "outputs": [
    {
     "name": "stdout",
     "output_type": "stream",
     "text": [
      "Tháng Tám 2023\n",
      "Lun\tMar\tMer\tJeu\tVen\tSam\tDim\t\n",
      " \t \t \t \t \t \t1/17\t\n",
      "2/18\t3/19\t4/20\t5/21\t6/22\t7/23\t8/24\t\n",
      "9/25\t10/26\t(11/27)\t12/28\t13/29\t14/30\t15/1\t\n",
      "16/2\t17/3\t18/4\t19/5\t20/6\t21/7\t22/8\t\n",
      "23/9\t24/10\t25/11\t26/12\t27/13\t28/14\t29/15\t\n",
      "30/16\t31/17\t\n",
      "\n"
     ]
    }
   ],
   "source": [
    "month = today.month\n",
    "year = today.year\n",
    "#year calendar\n",
    "#print(calendar(year))\n",
    "#lunar month calendar\n",
    "s = lunar_month(month, year)\n",
    "#print(s)\n",
    "#alert('Month', s)\n",
    "print(s)\n",
    "tk_show(s)\n",
    "print()\n"
   ]
  },
  {
   "cell_type": "code",
   "execution_count": 48,
   "metadata": {},
   "outputs": [
    {
     "name": "stdout",
     "output_type": "stream",
     "text": [
      "Today info:\n",
      "Thứ tư 11/10/2023 -+- Ngày 27 tháng 8\n",
      "14:31:30\n",
      "Ngày Nhâm Dần, tháng Tân Dậu, năm Quý Mão, Tiết: Hàn lộ\n",
      "Giờ Hoàng Đạo :  Tý (23-1), Sửu (1-3), Thìn (7-9), Tỵ (9-11), Mùi (13-15)Tuất (19-21)\n",
      "Result: Thứ tư 11/10/2023 -+- Ngày 27 tháng 8\n",
      "fontSize=9pt - tableWidth=180px\n"
     ]
    }
   ],
   "source": [
    "print('Today info:')\n",
    "result = today_info()\n",
    "print('Result:',result)\n",
    "#alertAbout()\n",
    "# ========================create html page on desktop (big, normal or small)\n",
    "setOutputSize('small')\n",
    "res = printYear(2023, 4)   # 6 months by row\n",
    "write2file(r'Y:\\Documents\\Python\\jupyter\\year.html', res)\n",
    "write2file(r'Y:\\Documents\\Python\\jupyter\\homnay.txt', result)"
   ]
  }
 ],
 "metadata": {
  "kernelspec": {
   "display_name": "Python 3",
   "language": "python",
   "name": "python3"
  },
  "language_info": {
   "codemirror_mode": {
    "name": "ipython",
    "version": 3
   },
   "file_extension": ".py",
   "mimetype": "text/x-python",
   "name": "python",
   "nbconvert_exporter": "python",
   "pygments_lexer": "ipython3",
   "version": "3.10.11"
  },
  "orig_nbformat": 4
 },
 "nbformat": 4,
 "nbformat_minor": 2
}
