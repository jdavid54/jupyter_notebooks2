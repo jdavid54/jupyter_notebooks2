{
 "cells": [
  {
   "cell_type": "code",
   "execution_count": 1,
   "metadata": {},
   "outputs": [],
   "source": [
    "array = [5, 3, 9, 2, 1, 4, 7, 6, 8]"
   ]
  },
  {
   "cell_type": "code",
   "execution_count": 2,
   "metadata": {},
   "outputs": [
    {
     "name": "stdout",
     "output_type": "stream",
     "text": [
      "[1, 2, 3, 4, 5, 6, 7, 8, 9]\n"
     ]
    }
   ],
   "source": [
    "def selection_sort(array):\n",
    "  for i in range(len(array) - 1):\n",
    "    smallest_index = i\n",
    "    for j in range(i + 1, len(array)):\n",
    "      if array[j] < array[smallest_index]:\n",
    "        smallest_index = j\n",
    "    array[i], array[smallest_index] = array[smallest_index], array[i]\n",
    "  return array\n",
    "\n",
    "print(selection_sort(array))"
   ]
  },
  {
   "cell_type": "code",
   "execution_count": 3,
   "metadata": {},
   "outputs": [
    {
     "name": "stdout",
     "output_type": "stream",
     "text": [
      "[1, 6, 7, 8, 9, 5, 4, 3, 2]\n"
     ]
    }
   ],
   "source": [
    "def double_selection_sort(array):\n",
    "  for i in range(len(array) - 1):\n",
    "    smallest_index = i\n",
    "    largest_index = i\n",
    "    for j in range(i + 1, len(array)):\n",
    "      if array[j] < array[smallest_index]:\n",
    "        smallest_index = j\n",
    "      elif array[j] > array[largest_index]:\n",
    "        largest_index = j\n",
    "    array[i], array[smallest_index] = array[smallest_index], array[i]\n",
    "    array[len(array) - 1 - i], array[largest_index] = array[largest_index], array[len(array) - 1 - i]\n",
    "  return array\n",
    "\n",
    "\n",
    "print(double_selection_sort(array))"
   ]
  },
  {
   "cell_type": "code",
   "execution_count": 4,
   "metadata": {},
   "outputs": [
    {
     "name": "stdout",
     "output_type": "stream",
     "text": [
      "[1, 2, 3, 4, 5, 6, 7, 8, 9]\n"
     ]
    }
   ],
   "source": [
    "def insertion_sort(array):\n",
    "  for i in range(1, len(array)):\n",
    "    current_element = array[i]\n",
    "    j = i - 1\n",
    "    while j >= 0 and array[j] > current_element:\n",
    "      array[j + 1] = array[j]\n",
    "      j -= 1\n",
    "    array[j + 1] = current_element\n",
    "  return array\n",
    "\n",
    "\n",
    "print(insertion_sort(array))"
   ]
  },
  {
   "cell_type": "code",
   "execution_count": 5,
   "metadata": {},
   "outputs": [
    {
     "name": "stdout",
     "output_type": "stream",
     "text": [
      "[3, 3, 3, 3, 3, 3, 3, 3, 5, 3, 9, 2, 1, 4, 7, 6, 8]\n"
     ]
    }
   ],
   "source": [
    "def binary_insertion_sort(array):\n",
    "  for i in range(1, len(array)):\n",
    "    current_element = array[i]\n",
    "    low = 0\n",
    "    high = i - 1\n",
    "    while low <= high:\n",
    "      mid = (low + high) // 2\n",
    "      if array[mid] < current_element:\n",
    "        low = mid + 1\n",
    "      else:\n",
    "        high = mid - 1\n",
    "    array.insert(low, current_element)\n",
    "  return array\n",
    "\n",
    "array = [5, 3, 9, 2, 1, 4, 7, 6, 8]\n",
    "print(binary_insertion_sort(array))"
   ]
  },
  {
   "cell_type": "code",
   "execution_count": 6,
   "metadata": {},
   "outputs": [
    {
     "name": "stdout",
     "output_type": "stream",
     "text": [
      "[1, 2, 3, 4, 5, 6, 7, 8, 9]\n"
     ]
    }
   ],
   "source": [
    "def bubble_sort(array):\n",
    "  for i in range(len(array) - 1):\n",
    "    for j in range(len(array) - i - 1):\n",
    "      if array[j] > array[j + 1]:\n",
    "        array[j], array[j + 1] = array[j + 1], array[j]\n",
    "  return array\n",
    "\n",
    "array = [5, 3, 9, 2, 1, 4, 7, 6, 8]\n",
    "print(bubble_sort(array))"
   ]
  },
  {
   "cell_type": "code",
   "execution_count": 7,
   "metadata": {},
   "outputs": [
    {
     "name": "stdout",
     "output_type": "stream",
     "text": [
      "[1, 2, 3, 4, 5, 6, 7, 8, 9]\n"
     ]
    }
   ],
   "source": [
    "def shaker_sort(array):\n",
    "  left = 0\n",
    "  right = len(array) - 1\n",
    "  while left < right:\n",
    "    for i in range(left, right):\n",
    "      if array[i] > array[i + 1]:\n",
    "        array[i], array[i + 1] = array[i + 1], array[i]\n",
    "    right -= 1\n",
    "    for i in range(right, left, -1):\n",
    "      if array[i - 1] > array[i]:\n",
    "        array[i - 1], array[i] = array[i], array[i - 1]\n",
    "    left += 1\n",
    "  return array\n",
    "\n",
    "array = [5, 3, 9, 2, 1, 4, 7, 6, 8]\n",
    "print(shaker_sort(array))"
   ]
  },
  {
   "cell_type": "code",
   "execution_count": 8,
   "metadata": {},
   "outputs": [
    {
     "name": "stdout",
     "output_type": "stream",
     "text": [
      "5\n",
      "[3, 2, 1, 4] 5 [9, 7, 6, 8]\n",
      "3\n",
      "[2, 1] 3 [4]\n",
      "2\n",
      "[1] 2 []\n",
      "9\n",
      "[7, 6, 8] 9 []\n",
      "7\n",
      "[6] 7 [8]\n",
      "[1, 2, 3, 4, 5, 6, 7, 8, 9]\n"
     ]
    }
   ],
   "source": [
    "def quick_sort(array):\n",
    "  if len(array) <= 1:\n",
    "    return array\n",
    "\n",
    "  pivot = array[0]\n",
    "  print(pivot)\n",
    "  less = [x for x in array[1:] if x < pivot]\n",
    "  greater = [x for x in array[1:] if x >= pivot]\n",
    "  print(less,pivot,greater)\n",
    "\n",
    "  return quick_sort(less) + [pivot] + quick_sort(greater)\n",
    "\n",
    "array = [5, 3, 9, 2, 1, 4, 7, 6, 8]\n",
    "print(quick_sort(array))"
   ]
  },
  {
   "cell_type": "code",
   "execution_count": 9,
   "metadata": {},
   "outputs": [
    {
     "name": "stdout",
     "output_type": "stream",
     "text": [
      "[1, 2, 3, 4, 5, 6, 7, 8, 9]\n"
     ]
    }
   ],
   "source": [
    "def merge_sort(array):\n",
    "  if len(array) <= 1:\n",
    "    return array\n",
    "\n",
    "  mid = len(array) // 2\n",
    "  left = merge_sort(array[:mid])\n",
    "  right = merge_sort(array[mid:])\n",
    "\n",
    "  return merge(left, right)\n",
    "\n",
    "\n",
    "def merge(left, right):\n",
    "  result = []\n",
    "  i = 0\n",
    "  j = 0\n",
    "  while i < len(left) and j < len(right):\n",
    "    if left[i] < right[j]:\n",
    "      result.append(left[i])\n",
    "      i += 1\n",
    "    else:\n",
    "      result.append(right[j])\n",
    "      j += 1\n",
    "\n",
    "  result += left[i:]\n",
    "  result += right[j:]\n",
    "  return result\n",
    "\n",
    "array = [5, 3, 9, 2, 1, 4, 7, 6, 8]\n",
    "print(merge_sort(array))\n"
   ]
  },
  {
   "cell_type": "code",
   "execution_count": 10,
   "metadata": {},
   "outputs": [
    {
     "name": "stdout",
     "output_type": "stream",
     "text": [
      "[1, 2, 3, 4, 5, 6, 7, 8, 9]\n"
     ]
    }
   ],
   "source": [
    "def heap_sort(array):\n",
    "  \"\"\"Sorts an array using the heap sort algorithm.\n",
    "\n",
    "  Args:\n",
    "    array: A list of elements to be sorted.\n",
    "\n",
    "  Returns:\n",
    "    A sorted list of elements.\n",
    "  \"\"\"\n",
    "\n",
    "  # Build a max heap from the array.\n",
    "  build_max_heap(array)\n",
    "\n",
    "  # Sort the array by repeatedly removing the largest element from the heap and\n",
    "  # placing it at the end of the array.\n",
    "  for i in range(len(array) - 1, 0, -1):\n",
    "    array[0], array[i] = array[i], array[0]\n",
    "    max_heapify(array, 0, i)\n",
    "\n",
    "  return array\n",
    "\n",
    "\n",
    "def build_max_heap(array):\n",
    "  \"\"\"Builds a max heap from the given array.\n",
    "\n",
    "  Args:\n",
    "    array: A list of elements to be sorted.\n",
    "  \"\"\"\n",
    "\n",
    "  for i in range(len(array) // 2, -1, -1):\n",
    "    max_heapify(array, i, len(array))\n",
    "\n",
    "\n",
    "def max_heapify(array, i, heap_size):\n",
    "  \"\"\"Maintains the max heap property of the given array.\n",
    "\n",
    "  Args:\n",
    "    array: A list of elements to be sorted.\n",
    "    i: The index of the element to be heapified.\n",
    "    heap_size: The size of the heap.\n",
    "  \"\"\"\n",
    "\n",
    "  largest = i\n",
    "  left = 2 * i + 1\n",
    "  right = 2 * i + 2\n",
    "\n",
    "  if left < heap_size and array[left] > array[largest]:\n",
    "    largest = left\n",
    "\n",
    "  if right < heap_size and array[right] > array[largest]:\n",
    "    largest = right\n",
    "\n",
    "  if largest != i:\n",
    "    array[i], array[largest] = array[largest], array[i]\n",
    "    max_heapify(array, largest, heap_size)\n",
    "\n",
    "\n",
    "array = [5, 3, 9, 2, 1, 4, 7, 6, 8]\n",
    "print(heap_sort(array))"
   ]
  },
  {
   "cell_type": "code",
   "execution_count": 11,
   "metadata": {},
   "outputs": [
    {
     "name": "stdout",
     "output_type": "stream",
     "text": [
      "[1, 2, 3, 4, 5, 6, 7, 8, 9]\n"
     ]
    }
   ],
   "source": [
    "def comb_sort(array):\n",
    "  \"\"\"Sorts an array using the comb sort algorithm.\n",
    "\n",
    "  Args:\n",
    "    array: A list of elements to be sorted.\n",
    "\n",
    "  Returns:\n",
    "    A sorted list of elements.\n",
    "  \"\"\"\n",
    "\n",
    "  gap = len(array)\n",
    "  while gap > 1:\n",
    "    gap = int(gap / 1.3)\n",
    "    for i in range(gap, len(array)):\n",
    "      current_element = array[i]\n",
    "      j = i - gap\n",
    "      while j >= 0 and array[j] > current_element:\n",
    "        array[j + gap] = array[j]\n",
    "        j -= gap\n",
    "      array[j + gap] = current_element\n",
    "  return array\n",
    "\n",
    "\n",
    "array = [5, 3, 9, 2, 1, 4, 7, 6, 8]\n",
    "print(comb_sort(array))"
   ]
  },
  {
   "cell_type": "code",
   "execution_count": 12,
   "metadata": {},
   "outputs": [
    {
     "name": "stdout",
     "output_type": "stream",
     "text": [
      "[1, 2, 3, 4, 5]\n"
     ]
    }
   ],
   "source": [
    "def shell_sort(array):\n",
    "  \"\"\"Sorts an array using the shell sort algorithm.\n",
    "\n",
    "  Args:\n",
    "    array: A list of elements to be sorted.\n",
    "\n",
    "  Returns:\n",
    "    A sorted list of elements.\n",
    "  \"\"\"\n",
    "\n",
    "  gap = len(array) // 2\n",
    "  while gap > 0:\n",
    "    for i in range(gap, len(array)):\n",
    "      current_element = array[i]\n",
    "      j = i - gap\n",
    "      while j >= 0 and array[j] > current_element:\n",
    "        array[j + gap] = array[j]\n",
    "        j -= gap\n",
    "      array[j + gap] = current_element\n",
    "    gap //= 2\n",
    "  return array\n",
    "\n",
    "\n",
    "array = [5, 3, 2, 1, 4]\n",
    "print(shell_sort(array))"
   ]
  },
  {
   "cell_type": "code",
   "execution_count": 13,
   "metadata": {},
   "outputs": [
    {
     "name": "stdout",
     "output_type": "stream",
     "text": [
      "[1, 2, 3, 4, 5]\n"
     ]
    }
   ],
   "source": [
    "def radix_sort(array, base=10):\n",
    "  \"\"\"Sorts an array using the radix sort algorithm.\n",
    "\n",
    "  Args:\n",
    "    array: A list of elements to be sorted.\n",
    "    base: The base to use for radix sort.\n",
    "\n",
    "  Returns:\n",
    "    A sorted list of elements.\n",
    "  \"\"\"\n",
    "\n",
    "  max_element = max(array)\n",
    "  max_digits = len(str(max_element))\n",
    "\n",
    "  for i in range(max_digits):\n",
    "    buckets = [[] for _ in range(base)]\n",
    "    for element in array:\n",
    "      digit = (element // (base ** i)) % base\n",
    "      buckets[digit].append(element)\n",
    "\n",
    "    array = []\n",
    "    for bucket in buckets:\n",
    "      array.extend(bucket)\n",
    "\n",
    "  return array\n",
    "\n",
    "\n",
    "array = [5, 3, 2, 1, 4]\n",
    "print(radix_sort(array))"
   ]
  },
  {
   "cell_type": "code",
   "execution_count": 14,
   "metadata": {},
   "outputs": [
    {
     "name": "stdout",
     "output_type": "stream",
     "text": [
      "[1, 2, 3, 4, 5]\n"
     ]
    }
   ],
   "source": [
    "def msd_radix_sort(array, digit):\n",
    "  \"\"\"Sorts an array using the MSD radix sort algorithm.\n",
    "\n",
    "  Args:\n",
    "    array: A list of elements to be sorted.\n",
    "    digit: The digit to sort on.\n",
    "\n",
    "  Returns:\n",
    "    A sorted list of elements.\n",
    "  \"\"\"\n",
    "\n",
    "  buckets = [[] for i in range(10)]\n",
    "  for element in array:\n",
    "    buckets[element // 10**digit % 10].append(element)\n",
    "\n",
    "  sorted_array = []\n",
    "  for bucket in buckets:\n",
    "    if digit > 0:\n",
    "      bucket = msd_radix_sort(bucket, digit - 1)\n",
    "    sorted_array.extend(bucket)\n",
    "\n",
    "  return sorted_array\n",
    "\n",
    "\n",
    "def radix_sort(array):\n",
    "  \"\"\"Sorts an array using the MSD radix sort algorithm.\n",
    "\n",
    "  Args:\n",
    "    array: A list of elements to be sorted.\n",
    "\n",
    "  Returns:\n",
    "    A sorted list of elements.\n",
    "  \"\"\"\n",
    "\n",
    "  max_digit = max(len(str(element)) for element in array)\n",
    "  return msd_radix_sort(array, max_digit)\n",
    "\n",
    "\n",
    "array = [5, 3, 2, 1, 4]\n",
    "print(radix_sort(array))"
   ]
  },
  {
   "cell_type": "code",
   "execution_count": 15,
   "metadata": {},
   "outputs": [
    {
     "name": "stdout",
     "output_type": "stream",
     "text": [
      "[1, 2, 3, 4, 5]\n"
     ]
    }
   ],
   "source": [
    "def bucket_sort(array, num_buckets=10):\n",
    "  \"\"\"Sorts an array using the bucket sort algorithm.\n",
    "\n",
    "  Args:\n",
    "    array: A list of elements to be sorted.\n",
    "    num_buckets: The number of buckets to use.\n",
    "\n",
    "  Returns:\n",
    "    A sorted list of elements.\n",
    "  \"\"\"\n",
    "\n",
    "  buckets = [[] for i in range(num_buckets)]\n",
    "\n",
    "  # Distribute the elements of the array into the buckets.\n",
    "  for element in array:\n",
    "    bucket_index = int(element * num_buckets) % num_buckets\n",
    "    buckets[bucket_index].append(element)\n",
    "\n",
    "  # Sort each bucket individually.\n",
    "  for bucket in buckets:\n",
    "    bucket.sort()\n",
    "\n",
    "  # Concatenate the sorted buckets to form the sorted array.\n",
    "  sorted_array = []\n",
    "  for bucket in buckets:\n",
    "    sorted_array += bucket\n",
    "\n",
    "  return sorted_array\n",
    "\n",
    "\n",
    "array = [5, 3, 2, 1, 4]\n",
    "print(bucket_sort(array))"
   ]
  },
  {
   "cell_type": "code",
   "execution_count": 16,
   "metadata": {},
   "outputs": [
    {
     "name": "stdout",
     "output_type": "stream",
     "text": [
      "[1, 2, 3, 4, 5]\n"
     ]
    }
   ],
   "source": [
    "def counting_sort(array):\n",
    "  \"\"\"Sorts an array using the counting sort algorithm.\n",
    "\n",
    "  Args:\n",
    "    array: A list of elements to be sorted.\n",
    "\n",
    "  Returns:\n",
    "    A sorted list of elements.\n",
    "  \"\"\"\n",
    "\n",
    "  # Find the maximum element in the array.\n",
    "  max_element = max(array)\n",
    "\n",
    "  # Create a count array to store the number of occurrences of each element in the\n",
    "  # original array.\n",
    "  count_array = [0] * (max_element + 1)\n",
    "  for element in array:\n",
    "    count_array[element] += 1\n",
    "\n",
    "  # Create a sorted array to store the sorted elements.\n",
    "  sorted_array = []\n",
    "  for i in range(len(count_array)):\n",
    "    for j in range(count_array[i]):\n",
    "      sorted_array.append(i)\n",
    "\n",
    "  return sorted_array\n",
    "\n",
    "\n",
    "array = [5, 3, 2, 1, 4]\n",
    "print(counting_sort(array))"
   ]
  },
  {
   "cell_type": "code",
   "execution_count": 17,
   "metadata": {},
   "outputs": [
    {
     "ename": "IndexError",
     "evalue": "list index out of range",
     "output_type": "error",
     "traceback": [
      "\u001b[1;31m---------------------------------------------------------------------------\u001b[0m",
      "\u001b[1;31mIndexError\u001b[0m                                Traceback (most recent call last)",
      "\u001b[1;32my:\\Documents\\Python\\jupyter\\sort_algorithms.ipynb Cell 17\u001b[0m line \u001b[0;36m2\n\u001b[0;32m     <a href='vscode-notebook-cell:/y%3A/Documents/Python/jupyter/sort_algorithms.ipynb#X22sZmlsZQ%3D%3D?line=23'>24</a>\u001b[0m   \u001b[39mreturn\u001b[39;00m sorted_array\n\u001b[0;32m     <a href='vscode-notebook-cell:/y%3A/Documents/Python/jupyter/sort_algorithms.ipynb#X22sZmlsZQ%3D%3D?line=25'>26</a>\u001b[0m array \u001b[39m=\u001b[39m [\u001b[39m5\u001b[39m, \u001b[39m3\u001b[39m, \u001b[39m2\u001b[39m, \u001b[39m1\u001b[39m, \u001b[39m4\u001b[39m]\n\u001b[1;32m---> <a href='vscode-notebook-cell:/y%3A/Documents/Python/jupyter/sort_algorithms.ipynb#X22sZmlsZQ%3D%3D?line=26'>27</a>\u001b[0m \u001b[39mprint\u001b[39m(spaghetti_sort(array))\n",
      "\u001b[1;32my:\\Documents\\Python\\jupyter\\sort_algorithms.ipynb Cell 17\u001b[0m line \u001b[0;36m7\n\u001b[0;32m      <a href='vscode-notebook-cell:/y%3A/Documents/Python/jupyter/sort_algorithms.ipynb#X22sZmlsZQ%3D%3D?line=4'>5</a>\u001b[0m \u001b[39m# For each element in the array, set the corresponding cell in the spaghetti array to 1.\u001b[39;00m\n\u001b[0;32m      <a href='vscode-notebook-cell:/y%3A/Documents/Python/jupyter/sort_algorithms.ipynb#X22sZmlsZQ%3D%3D?line=5'>6</a>\u001b[0m \u001b[39mfor\u001b[39;00m i \u001b[39min\u001b[39;00m \u001b[39mrange\u001b[39m(\u001b[39mlen\u001b[39m(array)):\n\u001b[1;32m----> <a href='vscode-notebook-cell:/y%3A/Documents/Python/jupyter/sort_algorithms.ipynb#X22sZmlsZQ%3D%3D?line=6'>7</a>\u001b[0m   spaghetti_array[array[i]][i] \u001b[39m=\u001b[39m \u001b[39m1\u001b[39m\n\u001b[0;32m      <a href='vscode-notebook-cell:/y%3A/Documents/Python/jupyter/sort_algorithms.ipynb#X22sZmlsZQ%3D%3D?line=8'>9</a>\u001b[0m \u001b[39m# Find the longest column in the spaghetti array.\u001b[39;00m\n\u001b[0;32m     <a href='vscode-notebook-cell:/y%3A/Documents/Python/jupyter/sort_algorithms.ipynb#X22sZmlsZQ%3D%3D?line=9'>10</a>\u001b[0m longest_column \u001b[39m=\u001b[39m \u001b[39m0\u001b[39m\n",
      "\u001b[1;31mIndexError\u001b[0m: list index out of range"
     ]
    }
   ],
   "source": [
    "def spaghetti_sort(array):\n",
    "  # Create an array of n columns for each element and as many rows as the value of the maximum element.\n",
    "  spaghetti_array = [[0 for i in range(len(array))] for j in range(max(array))]\n",
    "\n",
    "  # For each element in the array, set the corresponding cell in the spaghetti array to 1.\n",
    "  for i in range(len(array)):\n",
    "    spaghetti_array[array[i]][i] = 1\n",
    "\n",
    "  # Find the longest column in the spaghetti array.\n",
    "  longest_column = 0\n",
    "  for i in range(len(spaghetti_array)):\n",
    "    if sum(spaghetti_array[i]) > sum(spaghetti_array[longest_column]):\n",
    "      longest_column = i\n",
    "\n",
    "  # Remove the longest column from the spaghetti array and add it to the sorted array.\n",
    "  sorted_array = []\n",
    "  sorted_array.append(longest_column)\n",
    "  spaghetti_array.remove(spaghetti_array[longest_column])\n",
    "\n",
    "  # Recursively sort the remaining elements in the spaghetti array using the spaghetti sort algorithm.\n",
    "  if len(spaghetti_array) > 0:\n",
    "    sorted_array += spaghetti_sort(spaghetti_array)\n",
    "\n",
    "  return sorted_array\n",
    "\n",
    "array = [5, 3, 2, 1, 4]\n",
    "print(spaghetti_sort(array))"
   ]
  },
  {
   "cell_type": "code",
   "execution_count": null,
   "metadata": {},
   "outputs": [
    {
     "name": "stdout",
     "output_type": "stream",
     "text": [
      "[5, 4, 3, 2, 1]\n"
     ]
    }
   ],
   "source": [
    "def gravity_sort(array):\n",
    "  \"\"\"Sorts an array using the gravity sort algorithm.\n",
    "\n",
    "  Args:\n",
    "    array: A list of elements to be sorted.\n",
    "\n",
    "  Returns:\n",
    "    A sorted list of elements.\n",
    "  \"\"\"\n",
    "\n",
    "  # Create a list to store the sorted array.\n",
    "  sorted_array = []\n",
    "\n",
    "  # While the input array is not empty, do the following:\n",
    "  while array:\n",
    "    # Find the heaviest element in the input array.\n",
    "    heaviest_element = max(array)\n",
    "\n",
    "    # Remove the heaviest element from the input array and add it to the sorted array.\n",
    "    array.remove(heaviest_element)\n",
    "    sorted_array.append(heaviest_element)\n",
    "\n",
    "  # Return the sorted array.\n",
    "  return sorted_array\n",
    "\n",
    "\n",
    "array = [5, 3, 2, 1, 4]\n",
    "print(gravity_sort(array))"
   ]
  },
  {
   "cell_type": "code",
   "execution_count": null,
   "metadata": {},
   "outputs": [
    {
     "name": "stdout",
     "output_type": "stream",
     "text": [
      "[5, 3, 2, 1, 4]\n"
     ]
    }
   ],
   "source": [
    "def pancake_sort(array):\n",
    "  \"\"\"Sorts an array using the pancake sort algorithm.\n",
    "\n",
    "  Args:\n",
    "    array: A list of elements to be sorted.\n",
    "\n",
    "  Returns:\n",
    "    A sorted list of elements.\n",
    "  \"\"\"\n",
    "\n",
    "  for i in range(len(array) - 1, 0, -1):\n",
    "    # Find the largest element in the array.\n",
    "    largest_index = 0\n",
    "    for j in range(1, i + 1):\n",
    "      if array[j] > array[largest_index]:\n",
    "        largest_index = j\n",
    "\n",
    "    # Reverse the array up to the largest element.\n",
    "    array[:largest_index + 1] = array[:largest_index + 1][::-1]\n",
    "\n",
    "    # Reverse the entire array.\n",
    "    array = array[::-1]\n",
    "\n",
    "  return array\n",
    "\n",
    "\n",
    "array = [5, 3, 2, 1, 4]\n",
    "print(pancake_sort(array))"
   ]
  }
 ],
 "metadata": {
  "kernelspec": {
   "display_name": "Python 3",
   "language": "python",
   "name": "python3"
  },
  "language_info": {
   "codemirror_mode": {
    "name": "ipython",
    "version": 3
   },
   "file_extension": ".py",
   "mimetype": "text/x-python",
   "name": "python",
   "nbconvert_exporter": "python",
   "pygments_lexer": "ipython3",
   "version": "3.10.11"
  },
  "orig_nbformat": 4
 },
 "nbformat": 4,
 "nbformat_minor": 2
}
