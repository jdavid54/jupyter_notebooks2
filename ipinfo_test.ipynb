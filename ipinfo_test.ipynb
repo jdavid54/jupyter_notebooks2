{
 "cells": [
  {
   "cell_type": "code",
   "execution_count": null,
   "metadata": {},
   "outputs": [],
   "source": [
    "# pip install ipinfo"
   ]
  },
  {
   "cell_type": "code",
   "execution_count": 13,
   "metadata": {},
   "outputs": [
    {
     "data": {
      "text/plain": [
       "['C:\\\\Users\\\\jean\\\\AppData\\\\Local\\\\Packages\\\\PythonSoftwareFoundation.Python.3.10_qbz5n2kfra8p0\\\\LocalCache\\\\local-packages\\\\Python310\\\\site-packages\\\\ipykernel_launcher.py',\n",
       " '--ip=127.0.0.1',\n",
       " '--stdin=9018',\n",
       " '--control=9016',\n",
       " '--hb=9015',\n",
       " '--Session.signature_scheme=\"hmac-sha256\"',\n",
       " '--Session.key=b\"361d2b16-474e-430d-8c55-8cca5d7c1922\"',\n",
       " '--shell=9017',\n",
       " '--transport=\"tcp\"',\n",
       " '--iopub=9019',\n",
       " '--f=c:\\\\Users\\\\jean\\\\AppData\\\\Roaming\\\\jupyter\\\\runtime\\\\kernel-v2-10160OhtBMSq2wG3K.json']"
      ]
     },
     "execution_count": 13,
     "metadata": {},
     "output_type": "execute_result"
    }
   ],
   "source": [
    "# https://www.thepythoncode.com/article/geolocate-ip-addresses-with-ipinfo-in-python\n",
    "\n",
    "import ipinfo\n",
    "import sys\n",
    "# get the ip address from the command line\n",
    "try:\n",
    "    ip_address = sys.argv\n",
    "except IndexError:\n",
    "    ip_address = '109.26.15.148'\n",
    "ip_address"
   ]
  },
  {
   "cell_type": "code",
   "execution_count": 14,
   "metadata": {},
   "outputs": [
    {
     "data": {
      "text/plain": [
       "'109.26.15.148'"
      ]
     },
     "execution_count": 14,
     "metadata": {},
     "output_type": "execute_result"
    }
   ],
   "source": [
    "\n",
    "ip_address = '109.26.15.148'\n",
    "ip_address"
   ]
  },
  {
   "cell_type": "code",
   "execution_count": 15,
   "metadata": {},
   "outputs": [
    {
     "name": "stdout",
     "output_type": "stream",
     "text": [
      "ip: 109.26.15.148\n",
      "hostname: 148.15.26.109.rev.sfr.net\n",
      "city: Noisy-le-Grand\n",
      "region: Île-de-France\n",
      "country: FR\n",
      "loc: 48.8498,2.5627\n",
      "org: AS15557 Societe Francaise Du Radiotelephone - SFR SA\n",
      "postal: 93195 CEDEX\n",
      "timezone: Europe/Paris\n",
      "country_name: France\n",
      "isEU: True\n",
      "country_flag: {'emoji': '🇫🇷', 'unicode': 'U+1F1EB U+1F1F7'}\n",
      "country_currency: {'code': 'EUR', 'symbol': '€'}\n",
      "continent: {'code': 'EU', 'name': 'Europe'}\n",
      "latitude: 48.8498\n",
      "longitude: 2.5627\n"
     ]
    }
   ],
   "source": [
    "# access token for ipinfo.io\n",
    "access_token = 'dbc357b3327805'\n",
    "# create a client object with the access token\n",
    "handler = ipinfo.getHandler(access_token)\n",
    "# get the ip info\n",
    "details = handler.getDetails(ip_address)\n",
    "# print the ip info\n",
    "for key, value in details.all.items():\n",
    "    print(f\"{key}: {value}\")"
   ]
  },
  {
   "cell_type": "code",
   "execution_count": 17,
   "metadata": {},
   "outputs": [
    {
     "data": {
      "text/plain": [
       "'109.26.15.148'"
      ]
     },
     "execution_count": 17,
     "metadata": {},
     "output_type": "execute_result"
    }
   ],
   "source": [
    "# https://www.freecodecamp.org/news/how-to-get-location-information-of-ip-address-using-python/\n",
    "import requests\n",
    "\n",
    "\n",
    "def get_ip():\n",
    "    response = requests.get('https://api64.ipify.org?format=json').json()\n",
    "    return response[\"ip\"]\n",
    "\n",
    "get_ip()"
   ]
  },
  {
   "cell_type": "code",
   "execution_count": 18,
   "metadata": {},
   "outputs": [
    {
     "name": "stdout",
     "output_type": "stream",
     "text": [
      "{'ip': '109.26.15.148', 'city': 'Gagny', 'region': 'Île-de-France', 'country': 'France'}\n"
     ]
    }
   ],
   "source": [
    "\n",
    "def get_location():\n",
    "    ip_address = get_ip()\n",
    "    response = requests.get(f'https://ipapi.co/{ip_address}/json/').json()\n",
    "    location_data = {\n",
    "        \"ip\": ip_address,\n",
    "        \"city\": response.get(\"city\"),\n",
    "        \"region\": response.get(\"region\"),\n",
    "        \"country\": response.get(\"country_name\")\n",
    "    }\n",
    "    return location_data\n",
    "\n",
    "\n",
    "print(get_location())"
   ]
  }
 ],
 "metadata": {
  "kernelspec": {
   "display_name": "Python 3",
   "language": "python",
   "name": "python3"
  },
  "language_info": {
   "codemirror_mode": {
    "name": "ipython",
    "version": 3
   },
   "file_extension": ".py",
   "mimetype": "text/x-python",
   "name": "python",
   "nbconvert_exporter": "python",
   "pygments_lexer": "ipython3",
   "version": "3.10.9"
  },
  "orig_nbformat": 4,
  "vscode": {
   "interpreter": {
    "hash": "66c568644dff37e439d6add97a3cb551ada5fd8b2de74d4a6bc5885d9c188c4c"
   }
  }
 },
 "nbformat": 4,
 "nbformat_minor": 2
}
