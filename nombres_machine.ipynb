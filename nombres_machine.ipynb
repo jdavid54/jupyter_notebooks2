{
 "cells": [
  {
   "cell_type": "code",
   "execution_count": 2,
   "metadata": {},
   "outputs": [],
   "source": [
    "def conv10to2Int(n):\n",
    "    v = abs(n)\n",
    "    L, p = list([]),0\n",
    "    if n == 0:\n",
    "        L.append(0)\n",
    "    else:\n",
    "        while v>0:\n",
    "            v, r = divmod( v, 2)\n",
    "            L.insert(0, r)\n",
    "        if n < 0:\n",
    "            L.insert(0,'-')\n",
    "    return L"
   ]
  },
  {
   "cell_type": "code",
   "execution_count": 6,
   "metadata": {},
   "outputs": [
    {
     "data": {
      "text/plain": [
       "['-', 1, 1, 1, 1, 0, 1, 1, 0]"
      ]
     },
     "execution_count": 6,
     "metadata": {},
     "output_type": "execute_result"
    }
   ],
   "source": [
    "conv10to2Int(-246)"
   ]
  },
  {
   "cell_type": "code",
   "execution_count": 7,
   "metadata": {},
   "outputs": [],
   "source": [
    "def conv10to2Frac(f,eps):\n",
    "    p, g = 0, f\n",
    "    L = list(['.'])\n",
    "    while 2**(-p) > eps:\n",
    "        p += 1\n",
    "        if 2*f<1:\n",
    "            L.append(0)\n",
    "            f = 2*f\n",
    "        else:\n",
    "            L.append(1)\n",
    "            f = 2*f -1\n",
    "    return L"
   ]
  },
  {
   "cell_type": "code",
   "execution_count": 10,
   "metadata": {},
   "outputs": [
    {
     "data": {
      "text/plain": [
       "['.', 0, 1, 1, 1]"
      ]
     },
     "execution_count": 10,
     "metadata": {},
     "output_type": "execute_result"
    }
   ],
   "source": [
    "conv10to2Frac(0.458,0.1)"
   ]
  },
  {
   "cell_type": "code",
   "execution_count": 11,
   "metadata": {},
   "outputs": [
    {
     "data": {
      "text/plain": [
       "['.', 0, 1, 1, 1, 0, 1, 0]"
      ]
     },
     "execution_count": 11,
     "metadata": {},
     "output_type": "execute_result"
    }
   ],
   "source": [
    "conv10to2Frac(0.458,0.01)"
   ]
  },
  {
   "cell_type": "code",
   "execution_count": 26,
   "metadata": {},
   "outputs": [
    {
     "data": {
      "text/plain": [
       "['.', 0, 1, 1, 1, 0, 1, 0, 1, 0, 0, 1, 1, 1, 1, 1, 1, 0]"
      ]
     },
     "execution_count": 26,
     "metadata": {},
     "output_type": "execute_result"
    }
   ],
   "source": [
    "conv10to2Frac(0.458,10e-6)"
   ]
  },
  {
   "cell_type": "code",
   "execution_count": 61,
   "metadata": {},
   "outputs": [],
   "source": [
    "def conv2to10(L):\n",
    "    if L[0] == '-':\n",
    "        sign = -1\n",
    "        L = L[1:]\n",
    "    else:\n",
    "        sign = 1\n",
    "    pt = '.'\n",
    "    p = len(L)\n",
    "    if pt in L:\n",
    "        p = L.index(pt)\n",
    "        e = [L[k]*2**(p-1-k) for k in range(0,p)]\n",
    "        f = [L[k]*2**(p-k) for k in range(p+1,len(L))]   # k > p puissances de 2 négatives pur les dyadiques\n",
    "        print(e,f)\n",
    "    return sign*(sum(e)+sum(f))"
   ]
  },
  {
   "cell_type": "code",
   "execution_count": 62,
   "metadata": {},
   "outputs": [
    {
     "name": "stdout",
     "output_type": "stream",
     "text": [
      "[] [0.0, 0.25, 0.125, 0.0625, 0.0, 0.015625, 0.0, 0.00390625, 0.0, 0.0]\n"
     ]
    },
    {
     "data": {
      "text/plain": [
       "0.45703125"
      ]
     },
     "execution_count": 62,
     "metadata": {},
     "output_type": "execute_result"
    }
   ],
   "source": [
    "L = ['.', 0, 1, 1, 1, 0, 1, 0, 1, 0, 0]\n",
    "conv2to10(L)"
   ]
  },
  {
   "cell_type": "code",
   "execution_count": 63,
   "metadata": {},
   "outputs": [
    {
     "name": "stdout",
     "output_type": "stream",
     "text": [
      "[128, 64, 32, 16, 0, 4, 2, 0] [0.0, 0.25, 0.125, 0.0625, 0.0, 0.015625, 0.0, 0.00390625, 0.0, 0.0, 0.00048828125, 0.000244140625, 0.0001220703125, 6.103515625e-05, 3.0517578125e-05, 1.52587890625e-05, 0.0]\n"
     ]
    },
    {
     "data": {
      "text/plain": [
       "-246.45799255371094"
      ]
     },
     "execution_count": 63,
     "metadata": {},
     "output_type": "execute_result"
    }
   ],
   "source": [
    "L = ['-',1, 1, 1, 1, 0, 1, 1, 0,'.', 0, 1, 1, 1, 0, 1, 0, 1, 0, 0, 1, 1, 1, 1, 1, 1, 0]\n",
    "conv2to10(L)"
   ]
  },
  {
   "cell_type": "code",
   "execution_count": 64,
   "metadata": {},
   "outputs": [
    {
     "data": {
      "text/plain": [
       "['.', 0, 0, 0, 1, 1, 0, 0, 1, 1, 0, 0, 1, 1, 0, 0, 1, 1]"
      ]
     },
     "execution_count": 64,
     "metadata": {},
     "output_type": "execute_result"
    }
   ],
   "source": [
    "conv10to2Frac(1/10,10e-6)"
   ]
  },
  {
   "cell_type": "code",
   "execution_count": 65,
   "metadata": {},
   "outputs": [],
   "source": [
    "def convLtoP(L):\n",
    "    P  = ([])\n",
    "    p = 2\n",
    "    for k in range(1,len(L)):\n",
    "        if L[k] == 0:\n",
    "            P.append(0)\n",
    "        else:\n",
    "            P.append(k)\n",
    "    return P"
   ]
  },
  {
   "cell_type": "code",
   "execution_count": 66,
   "metadata": {},
   "outputs": [
    {
     "data": {
      "text/plain": [
       "[0, 0, 0, 4, 5, 0, 0, 8, 9, 0, 0, 12, 13, 0, 0, 16, 17]"
      ]
     },
     "execution_count": 66,
     "metadata": {},
     "output_type": "execute_result"
    }
   ],
   "source": [
    "L = ['.', 0, 0, 0, 1, 1, 0, 0, 1, 1, 0, 0, 1, 1, 0, 0, 1, 1]\n",
    "# P puissances equivalentes des dyadiques\n",
    "P = convLtoP(L)\n",
    "P"
   ]
  },
  {
   "cell_type": "code",
   "execution_count": 67,
   "metadata": {},
   "outputs": [
    {
     "name": "stdout",
     "output_type": "stream",
     "text": [
      "[] [0.0, 0.0, 0.0, 0.0625, 0.03125, 0.0, 0.0, 0.00390625, 0.001953125, 0.0, 0.0, 0.000244140625, 0.0001220703125, 0.0, 0.0, 1.52587890625e-05, 7.62939453125e-06]\n"
     ]
    },
    {
     "data": {
      "text/plain": [
       "0.09999847412109375"
      ]
     },
     "execution_count": 67,
     "metadata": {},
     "output_type": "execute_result"
    }
   ],
   "source": [
    "conv2to10(L)"
   ]
  },
  {
   "cell_type": "code",
   "execution_count": 75,
   "metadata": {},
   "outputs": [
    {
     "data": {
      "text/plain": [
       "[0.0625,\n",
       " 0.03125,\n",
       " 0.00390625,\n",
       " 0.001953125,\n",
       " 0.000244140625,\n",
       " 0.0001220703125,\n",
       " 1.52587890625e-05,\n",
       " 7.62939453125e-06]"
      ]
     },
     "execution_count": 75,
     "metadata": {},
     "output_type": "execute_result"
    }
   ],
   "source": [
    "# nombres dyadiques, décimales en binaire\n",
    "N = [2**(-k) for k in P if k !=0]\n",
    "N"
   ]
  },
  {
   "cell_type": "code",
   "execution_count": 60,
   "metadata": {},
   "outputs": [
    {
     "data": {
      "text/plain": [
       "0.09999847412109375"
      ]
     },
     "execution_count": 60,
     "metadata": {},
     "output_type": "execute_result"
    }
   ],
   "source": [
    "sum(N)"
   ]
  },
  {
   "cell_type": "code",
   "execution_count": 76,
   "metadata": {},
   "outputs": [
    {
     "data": {
      "text/plain": [
       "['.',\n",
       " 0,\n",
       " 0,\n",
       " 0,\n",
       " 1,\n",
       " 1,\n",
       " 0,\n",
       " 0,\n",
       " 1,\n",
       " 1,\n",
       " 0,\n",
       " 0,\n",
       " 1,\n",
       " 1,\n",
       " 0,\n",
       " 0,\n",
       " 1,\n",
       " 1,\n",
       " 0,\n",
       " 0,\n",
       " 1,\n",
       " 1,\n",
       " 0,\n",
       " 0,\n",
       " 1,\n",
       " 1,\n",
       " 0,\n",
       " 0,\n",
       " 1,\n",
       " 1,\n",
       " 0]"
      ]
     },
     "execution_count": 76,
     "metadata": {},
     "output_type": "execute_result"
    }
   ],
   "source": [
    "conv10to2Frac(1/10,2**(-30))  # 30 chiffres de résolution"
   ]
  },
  {
   "cell_type": "code",
   "execution_count": null,
   "metadata": {},
   "outputs": [],
   "source": []
  }
 ],
 "metadata": {
  "kernelspec": {
   "display_name": "Python 3",
   "language": "python",
   "name": "python3"
  },
  "language_info": {
   "codemirror_mode": {
    "name": "ipython",
    "version": 3
   },
   "file_extension": ".py",
   "mimetype": "text/x-python",
   "name": "python",
   "nbconvert_exporter": "python",
   "pygments_lexer": "ipython3",
   "version": "3.7.3"
  }
 },
 "nbformat": 4,
 "nbformat_minor": 2
}
