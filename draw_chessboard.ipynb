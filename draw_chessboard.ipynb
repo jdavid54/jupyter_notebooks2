{
 "cells": [
  {
   "cell_type": "code",
   "execution_count": 2,
   "metadata": {},
   "outputs": [
    {
     "data": {
      "image/png": "[encoded data removed]",
      "text/plain": [
       "<Figure size 400x400 with 1 Axes>"
      ]
     },
     "metadata": {},
     "output_type": "display_data"
    }
   ],
   "source": [
    "# Chessboard\n",
    "# Draw a Chessboard\n",
    "import matplotlib.pyplot as plt\n",
    "import numpy as np\n",
    "\n",
    "# cmap\n",
    "cmaps=[\n",
    "'Accent', 'Accent_r',\n",
    "'Blues', 'Blues_r', 'BrBG', 'BrBG_r', 'BuGn', 'BuGn_r', 'BuPu', 'BuPu_r',\n",
    "'CMRmap', 'CMRmap_r',\n",
    "'Dark2', 'Dark2_r',\n",
    "'GnBu', 'GnBu_r', 'Grays', 'Greens', 'Greens_r', 'Greys', 'Greys_r',\n",
    "'OrRd', 'OrRd_r', 'Oranges', 'Oranges_r',\n",
    "'PRGn', 'PRGn_r', 'Paired', 'Paired_r', 'Pastel1', 'Pastel1_r', 'Pastel2', 'Pastel2_r', 'PiYG', 'PiYG_r', 'PuBu', 'PuBuGn', 'PuBuGn_r', 'PuBu_r', 'PuOr', 'PuOr_r', 'PuRd', 'PuRd_r', 'Purples', 'Purples_r',\n",
    "'RdBu', 'RdBu_r', 'RdGy', 'RdGy_r', 'RdPu', 'RdPu_r', 'RdYlBu', 'RdYlBu_r', 'RdYlGn', 'RdYlGn_r', 'Reds', 'Reds_r',\n",
    "'Set1', 'Set1_r', 'Set2', 'Set2_r', 'Set3', 'Set3_r', 'Spectral', 'Spectral_r',\n",
    "'Wistia', 'Wistia_r',\n",
    "'YlGn', 'YlGnBu', 'YlGnBu_r', 'YlGn_r', 'YlOrBr', 'YlOrBr_r', 'YlOrRd', 'YlOrRd_r',\n",
    "'afmhot', 'afmhot_r', 'autumn', 'autumn_r',\n",
    "'binary', 'binary_r', 'bone', 'bone_r', 'brg', 'brg_r', 'bwr', 'bwr_r',\n",
    "'cividis', 'cividis_r', 'cool', 'cool_r', 'coolwarm', 'coolwarm_r', 'copper', 'copper_r', 'cubehelix', 'cubehelix_r',\n",
    "'flag', 'flag_r',\n",
    "'gist_earth', 'gist_earth_r', 'gist_gray', 'gist_gray_r', 'gist_grey', 'gist_heat', 'gist_heat_r', 'gist_ncar', 'gist_ncar_r', 'gist_rainbow', 'gist_rainbow_r', 'gist_stern', 'gist_stern_r', 'gist_yarg', 'gist_yarg_r', 'gist_yerg', 'gnuplot', 'gnuplot2', 'gnuplot2_r', 'gnuplot_r', 'gray', 'gray_r', 'grey',\n",
    "'hot', 'hot_r', 'hsv', 'hsv_r',\n",
    "'inferno', 'inferno_r',\n",
    "'jet', 'jet_r',\n",
    "'magma', 'magma_r',\n",
    "'nipy_spectral', 'nipy_spectral_r',\n",
    "'ocean', 'ocean_r',\n",
    "'pink', 'pink_r', 'plasma', 'plasma_r', 'prism', 'prism_r',\n",
    "'rainbow', 'rainbow_r',\n",
    "'seismic', 'seismic_r', 'spring', 'spring_r', 'summer', 'summer_r',\n",
    "'tab10', 'tab10_r', 'tab20', 'tab20_r', 'tab20b', 'tab20b_r', 'tab20c', 'tab20c_r', 'terrain', 'terrain_r', 'turbo', 'turbo_r', 'twilight', 'twilight_r', 'twilight_shifted', 'twilight_shifted_r',\n",
    "'viridis', 'viridis_r',\n",
    "'winter', 'winter_r' ]\n",
    "\n",
    "def draw_chessboard(cmap_value='gray'):\n",
    "    chessboard = np.zeros((8, 8))\n",
    "    chessboard [1::2,::2] = 1\n",
    "    chessboard[::2, 1::2] = 1\n",
    "    plt.figure(figsize=(4, 4))\n",
    "    plt.imshow(chessboard, cmap=cmap_value, interpolation='nearest')\n",
    "    plt.xticks([])\n",
    "    plt.yticks([])\n",
    "    plt.title('Chessboard', fontsize=20)\n",
    "    plt.show()\n",
    "\n",
    "draw_chessboard('gray')\n"
   ]
  },
  {
   "cell_type": "code",
   "execution_count": 3,
   "metadata": {},
   "outputs": [
    {
     "name": "stdout",
     "output_type": "stream",
     "text": [
      "58 Set1_r\n"
     ]
    },
    {
     "data": {
      "image/png": "[encoded data removed]",
      "text/plain": [
       "<Figure size 400x400 with 1 Axes>"
      ]
     },
     "metadata": {},
     "output_type": "display_data"
    }
   ],
   "source": [
    "\n",
    "import random as rd\n",
    "idx = rd.randint(0,len(cmaps))\n",
    "\n",
    "cmap = cmaps[idx]\n",
    "print(idx, cmap)\n",
    "\n",
    "draw_chessboard(cmap)"
   ]
  }
 ],
 "metadata": {
  "kernelspec": {
   "display_name": "Python 3",
   "language": "python",
   "name": "python3"
  },
  "language_info": {
   "codemirror_mode": {
    "name": "ipython",
    "version": 3
   },
   "file_extension": ".py",
   "mimetype": "text/x-python",
   "name": "python",
   "nbconvert_exporter": "python",
   "pygments_lexer": "ipython3",
   "version": "3.12.3"
  }
 },
 "nbformat": 4,
 "nbformat_minor": 2
}
