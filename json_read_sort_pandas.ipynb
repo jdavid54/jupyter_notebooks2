{
 "cells": [
  {
   "cell_type": "code",
   "execution_count": 1,
   "metadata": {},
   "outputs": [],
   "source": [
    "import pandas as pd\n",
    "import matplotlib.pyplot as plt\n",
    "import json\n",
    "\n",
    "from datetime import datetime, timedelta\n",
    "today = datetime.now()\n",
    "import datetime as dt\n",
    "\n",
    "import matplotlib.dates as mdates\n",
    "\n",
    "from matplotlib.dates import (YEARLY, DateFormatter,rrulewrapper, RRuleLocator, drange)\n",
    "from matplotlib.ticker import (MultipleLocator, AutoMinorLocator)"
   ]
  },
  {
   "cell_type": "markdown",
   "metadata": {},
   "source": [
    "# 5 days forecast"
   ]
  },
  {
   "cell_type": "code",
   "execution_count": 2,
   "metadata": {},
   "outputs": [
    {
     "data": {
      "text/html": [
       "<div>\n",
       "<style scoped>\n",
       "    .dataframe tbody tr th:only-of-type {\n",
       "        vertical-align: middle;\n",
       "    }\n",
       "\n",
       "    .dataframe tbody tr th {\n",
       "        vertical-align: top;\n",
       "    }\n",
       "\n",
       "    .dataframe thead th {\n",
       "        text-align: right;\n",
       "    }\n",
       "</style>\n",
       "<table border=\"1\" class=\"dataframe\">\n",
       "  <thead>\n",
       "    <tr style=\"text-align: right;\">\n",
       "      <th></th>\n",
       "      <th>temp</th>\n",
       "      <th>feels_like</th>\n",
       "      <th>temp_min</th>\n",
       "      <th>temp_max</th>\n",
       "      <th>pressure</th>\n",
       "      <th>sea_level</th>\n",
       "      <th>grnd_level</th>\n",
       "      <th>humidity</th>\n",
       "      <th>temp_kf</th>\n",
       "      <th>dt</th>\n",
       "    </tr>\n",
       "  </thead>\n",
       "  <tbody>\n",
       "    <tr>\n",
       "      <th>0</th>\n",
       "      <td>15.13</td>\n",
       "      <td>13.77</td>\n",
       "      <td>14.81</td>\n",
       "      <td>15.13</td>\n",
       "      <td>1018</td>\n",
       "      <td>1018</td>\n",
       "      <td>1009</td>\n",
       "      <td>41</td>\n",
       "      <td>0.32</td>\n",
       "      <td>1741262400</td>\n",
       "    </tr>\n",
       "    <tr>\n",
       "      <th>1</th>\n",
       "      <td>15.53</td>\n",
       "      <td>14.16</td>\n",
       "      <td>15.53</td>\n",
       "      <td>16.33</td>\n",
       "      <td>1018</td>\n",
       "      <td>1018</td>\n",
       "      <td>1007</td>\n",
       "      <td>39</td>\n",
       "      <td>-0.80</td>\n",
       "      <td>1741273200</td>\n",
       "    </tr>\n",
       "    <tr>\n",
       "      <th>2</th>\n",
       "      <td>14.17</td>\n",
       "      <td>12.92</td>\n",
       "      <td>13.69</td>\n",
       "      <td>14.17</td>\n",
       "      <td>1017</td>\n",
       "      <td>1017</td>\n",
       "      <td>1007</td>\n",
       "      <td>49</td>\n",
       "      <td>0.48</td>\n",
       "      <td>1741284000</td>\n",
       "    </tr>\n",
       "    <tr>\n",
       "      <th>3</th>\n",
       "      <td>11.45</td>\n",
       "      <td>10.30</td>\n",
       "      <td>11.45</td>\n",
       "      <td>11.45</td>\n",
       "      <td>1018</td>\n",
       "      <td>1018</td>\n",
       "      <td>1008</td>\n",
       "      <td>63</td>\n",
       "      <td>0.00</td>\n",
       "      <td>1741294800</td>\n",
       "    </tr>\n",
       "    <tr>\n",
       "      <th>4</th>\n",
       "      <td>10.20</td>\n",
       "      <td>9.05</td>\n",
       "      <td>10.20</td>\n",
       "      <td>10.20</td>\n",
       "      <td>1018</td>\n",
       "      <td>1018</td>\n",
       "      <td>1008</td>\n",
       "      <td>68</td>\n",
       "      <td>0.00</td>\n",
       "      <td>1741305600</td>\n",
       "    </tr>\n",
       "  </tbody>\n",
       "</table>\n",
       "</div>"
      ],
      "text/plain": [
       "    temp  feels_like  temp_min  temp_max  pressure  sea_level  grnd_level  \\\n",
       "0  15.13       13.77     14.81     15.13      1018       1018        1009   \n",
       "1  15.53       14.16     15.53     16.33      1018       1018        1007   \n",
       "2  14.17       12.92     13.69     14.17      1017       1017        1007   \n",
       "3  11.45       10.30     11.45     11.45      1018       1018        1008   \n",
       "4  10.20        9.05     10.20     10.20      1018       1018        1008   \n",
       "\n",
       "   humidity  temp_kf          dt  \n",
       "0        41     0.32  1741262400  \n",
       "1        39    -0.80  1741273200  \n",
       "2        49     0.48  1741284000  \n",
       "3        63     0.00  1741294800  \n",
       "4        68     0.00  1741305600  "
      ]
     },
     "execution_count": 2,
     "metadata": {},
     "output_type": "execute_result"
    }
   ],
   "source": [
    "json_file = \"Y:/Documents/5days.txt\"  # pc cuisine\n",
    "current = pd.read_json(json_file)\n",
    "current.head()"
   ]
  },
  {
   "cell_type": "code",
   "execution_count": 3,
   "metadata": {},
   "outputs": [
    {
     "name": "stdout",
     "output_type": "stream",
     "text": [
      "<class 'pandas.core.frame.DataFrame'>\n",
      "RangeIndex: 40 entries, 0 to 39\n",
      "Data columns (total 13 columns):\n",
      " #   Column      Non-Null Count  Dtype         \n",
      "---  ------      --------------  -----         \n",
      " 0   temp        40 non-null     float64       \n",
      " 1   feels_like  40 non-null     float64       \n",
      " 2   temp_min    40 non-null     float64       \n",
      " 3   temp_max    40 non-null     float64       \n",
      " 4   pressure    40 non-null     int64         \n",
      " 5   sea_level   40 non-null     int64         \n",
      " 6   grnd_level  40 non-null     int64         \n",
      " 7   humidity    40 non-null     int64         \n",
      " 8   temp_kf     40 non-null     float64       \n",
      " 9   dt          40 non-null     int64         \n",
      " 10  dates       40 non-null     datetime64[ns]\n",
      " 11  h_date      40 non-null     object        \n",
      " 12  h_time      40 non-null     object        \n",
      "dtypes: datetime64[ns](1), float64(5), int64(5), object(2)\n",
      "memory usage: 4.2+ KB\n"
     ]
    }
   ],
   "source": [
    "current['dates'] = [datetime.fromtimestamp(current.dt[k]) for k in range(40)]\n",
    "current['h_date'] = [datetime.fromtimestamp(current.dt[k]).strftime('%d/%m/%Y %H:%M:%S') for k in range(40)]\n",
    "current['h_time'] = [datetime.fromtimestamp(current.dt[k]).strftime('%H') for k in range(40)]\n",
    "current.info()"
   ]
  },
  {
   "cell_type": "code",
   "execution_count": 4,
   "metadata": {},
   "outputs": [
    {
     "data": {
      "text/html": [
       "<div>\n",
       "<style scoped>\n",
       "    .dataframe tbody tr th:only-of-type {\n",
       "        vertical-align: middle;\n",
       "    }\n",
       "\n",
       "    .dataframe tbody tr th {\n",
       "        vertical-align: top;\n",
       "    }\n",
       "\n",
       "    .dataframe thead th {\n",
       "        text-align: right;\n",
       "    }\n",
       "</style>\n",
       "<table border=\"1\" class=\"dataframe\">\n",
       "  <thead>\n",
       "    <tr style=\"text-align: right;\">\n",
       "      <th></th>\n",
       "      <th>temp</th>\n",
       "      <th>feels_like</th>\n",
       "      <th>temp_min</th>\n",
       "      <th>temp_max</th>\n",
       "      <th>pressure</th>\n",
       "      <th>sea_level</th>\n",
       "      <th>grnd_level</th>\n",
       "      <th>humidity</th>\n",
       "      <th>temp_kf</th>\n",
       "      <th>dt</th>\n",
       "      <th>dates</th>\n",
       "      <th>h_date</th>\n",
       "      <th>h_time</th>\n",
       "    </tr>\n",
       "  </thead>\n",
       "  <tbody>\n",
       "    <tr>\n",
       "      <th>0</th>\n",
       "      <td>15.13</td>\n",
       "      <td>13.77</td>\n",
       "      <td>14.81</td>\n",
       "      <td>15.13</td>\n",
       "      <td>1018</td>\n",
       "      <td>1018</td>\n",
       "      <td>1009</td>\n",
       "      <td>41</td>\n",
       "      <td>0.32</td>\n",
       "      <td>1741262400</td>\n",
       "      <td>2025-03-06 13:00:00</td>\n",
       "      <td>06/03/2025 13:00:00</td>\n",
       "      <td>13</td>\n",
       "    </tr>\n",
       "    <tr>\n",
       "      <th>1</th>\n",
       "      <td>15.53</td>\n",
       "      <td>14.16</td>\n",
       "      <td>15.53</td>\n",
       "      <td>16.33</td>\n",
       "      <td>1018</td>\n",
       "      <td>1018</td>\n",
       "      <td>1007</td>\n",
       "      <td>39</td>\n",
       "      <td>-0.80</td>\n",
       "      <td>1741273200</td>\n",
       "      <td>2025-03-06 16:00:00</td>\n",
       "      <td>06/03/2025 16:00:00</td>\n",
       "      <td>16</td>\n",
       "    </tr>\n",
       "    <tr>\n",
       "      <th>2</th>\n",
       "      <td>14.17</td>\n",
       "      <td>12.92</td>\n",
       "      <td>13.69</td>\n",
       "      <td>14.17</td>\n",
       "      <td>1017</td>\n",
       "      <td>1017</td>\n",
       "      <td>1007</td>\n",
       "      <td>49</td>\n",
       "      <td>0.48</td>\n",
       "      <td>1741284000</td>\n",
       "      <td>2025-03-06 19:00:00</td>\n",
       "      <td>06/03/2025 19:00:00</td>\n",
       "      <td>19</td>\n",
       "    </tr>\n",
       "    <tr>\n",
       "      <th>3</th>\n",
       "      <td>11.45</td>\n",
       "      <td>10.30</td>\n",
       "      <td>11.45</td>\n",
       "      <td>11.45</td>\n",
       "      <td>1018</td>\n",
       "      <td>1018</td>\n",
       "      <td>1008</td>\n",
       "      <td>63</td>\n",
       "      <td>0.00</td>\n",
       "      <td>1741294800</td>\n",
       "      <td>2025-03-06 22:00:00</td>\n",
       "      <td>06/03/2025 22:00:00</td>\n",
       "      <td>22</td>\n",
       "    </tr>\n",
       "    <tr>\n",
       "      <th>4</th>\n",
       "      <td>10.20</td>\n",
       "      <td>9.05</td>\n",
       "      <td>10.20</td>\n",
       "      <td>10.20</td>\n",
       "      <td>1018</td>\n",
       "      <td>1018</td>\n",
       "      <td>1008</td>\n",
       "      <td>68</td>\n",
       "      <td>0.00</td>\n",
       "      <td>1741305600</td>\n",
       "      <td>2025-03-07 01:00:00</td>\n",
       "      <td>07/03/2025 01:00:00</td>\n",
       "      <td>01</td>\n",
       "    </tr>\n",
       "  </tbody>\n",
       "</table>\n",
       "</div>"
      ],
      "text/plain": [
       "    temp  feels_like  temp_min  temp_max  pressure  sea_level  grnd_level  \\\n",
       "0  15.13       13.77     14.81     15.13      1018       1018        1009   \n",
       "1  15.53       14.16     15.53     16.33      1018       1018        1007   \n",
       "2  14.17       12.92     13.69     14.17      1017       1017        1007   \n",
       "3  11.45       10.30     11.45     11.45      1018       1018        1008   \n",
       "4  10.20        9.05     10.20     10.20      1018       1018        1008   \n",
       "\n",
       "   humidity  temp_kf          dt               dates               h_date  \\\n",
       "0        41     0.32  1741262400 2025-03-06 13:00:00  06/03/2025 13:00:00   \n",
       "1        39    -0.80  1741273200 2025-03-06 16:00:00  06/03/2025 16:00:00   \n",
       "2        49     0.48  1741284000 2025-03-06 19:00:00  06/03/2025 19:00:00   \n",
       "3        63     0.00  1741294800 2025-03-06 22:00:00  06/03/2025 22:00:00   \n",
       "4        68     0.00  1741305600 2025-03-07 01:00:00  07/03/2025 01:00:00   \n",
       "\n",
       "  h_time  \n",
       "0     13  \n",
       "1     16  \n",
       "2     19  \n",
       "3     22  \n",
       "4     01  "
      ]
     },
     "execution_count": 4,
     "metadata": {},
     "output_type": "execute_result"
    }
   ],
   "source": [
    "current.head()"
   ]
  },
  {
   "cell_type": "code",
   "execution_count": 5,
   "metadata": {},
   "outputs": [
    {
     "data": {
      "image/png": "[encoded data removed]",
      "text/plain": [
       "<Figure size 1000x500 with 1 Axes>"
      ]
     },
     "metadata": {},
     "output_type": "display_data"
    }
   ],
   "source": [
    "fig, ax = plt.subplots()\n",
    "fig.set_size_inches(10, 5)\n",
    "\n",
    "formatter = DateFormatter('%d/%m\\n%H:%M')\n",
    "ax.xaxis.set_major_formatter(formatter)\n",
    "\n",
    "major_ticks = 1/4  # toutes les 6 heures pour 1/4, 12h pour 1/2, 3 heures pour 1/8\n",
    "minor_ticks = major_ticks / 3\n",
    "ax.xaxis.set_major_locator(MultipleLocator(major_ticks))\n",
    "ax.xaxis.set_minor_locator(MultipleLocator(minor_ticks))\n",
    "\n",
    "ax.tick_params(axis='x', labelsize=7, width=2, which='both')\n",
    "ax.tick_params(axis='x', length=10, color='r', which='major')\n",
    "ax.tick_params(axis='x', length=8, color='b', which='minor')\n",
    "\n",
    "# plot\n",
    "plt.plot(current.dates, current.temp, label='temp')\n",
    "plt.plot(current.dates, current.feels_like, label='feels like')\n",
    "\n",
    "plt.legend()\n",
    "plt.title('Température')\n",
    "plt.grid()"
   ]
  },
  {
   "cell_type": "markdown",
   "metadata": {},
   "source": [
    "# Wifi scan"
   ]
  },
  {
   "cell_type": "code",
   "execution_count": 6,
   "metadata": {},
   "outputs": [
    {
     "data": {
      "text/html": [
       "<div>\n",
       "<style scoped>\n",
       "    .dataframe tbody tr th:only-of-type {\n",
       "        vertical-align: middle;\n",
       "    }\n",
       "\n",
       "    .dataframe tbody tr th {\n",
       "        vertical-align: top;\n",
       "    }\n",
       "\n",
       "    .dataframe thead th {\n",
       "        text-align: right;\n",
       "    }\n",
       "</style>\n",
       "<table border=\"1\" class=\"dataframe\">\n",
       "  <thead>\n",
       "    <tr style=\"text-align: right;\">\n",
       "      <th></th>\n",
       "      <th>ssid</th>\n",
       "      <th>mac</th>\n",
       "      <th>signal_level</th>\n",
       "      <th>channel</th>\n",
       "    </tr>\n",
       "  </thead>\n",
       "  <tbody>\n",
       "    <tr>\n",
       "      <th>0</th>\n",
       "      <td>Tenda_8C2A30_5G</td>\n",
       "      <td>50:0f:f5:8c:2a:35</td>\n",
       "      <td>-50.5</td>\n",
       "      <td>36</td>\n",
       "    </tr>\n",
       "  </tbody>\n",
       "</table>\n",
       "</div>"
      ],
      "text/plain": [
       "              ssid                mac  signal_level  channel\n",
       "0  Tenda_8C2A30_5G  50:0f:f5:8c:2a:35         -50.5       36"
      ]
     },
     "execution_count": 6,
     "metadata": {},
     "output_type": "execute_result"
    }
   ],
   "source": [
    "json_file = r\"C:\\Users\\jean\\Desktop\\array_to_sort.txt\"  # pc cuisine\n",
    "json_file = r\"C:\\Users\\jean\\Downloads\\wifiscan.txt\"\n",
    "current2 = pd.read_json(json_file)\n",
    "current2 = current2.sort_values(by='signal_level', ascending=False)\n",
    "current2"
   ]
  },
  {
   "cell_type": "code",
   "execution_count": 7,
   "metadata": {},
   "outputs": [
    {
     "data": {
      "text/html": [
       "<div>\n",
       "<style scoped>\n",
       "    .dataframe tbody tr th:only-of-type {\n",
       "        vertical-align: middle;\n",
       "    }\n",
       "\n",
       "    .dataframe tbody tr th {\n",
       "        vertical-align: top;\n",
       "    }\n",
       "\n",
       "    .dataframe thead th {\n",
       "        text-align: right;\n",
       "    }\n",
       "</style>\n",
       "<table border=\"1\" class=\"dataframe\">\n",
       "  <thead>\n",
       "    <tr style=\"text-align: right;\">\n",
       "      <th></th>\n",
       "      <th>ssid</th>\n",
       "      <th>mac</th>\n",
       "      <th>signal_level</th>\n",
       "      <th>channel</th>\n",
       "    </tr>\n",
       "  </thead>\n",
       "  <tbody>\n",
       "    <tr>\n",
       "      <th>0</th>\n",
       "      <td>Tenda_8C2A30_5G</td>\n",
       "      <td>50:0f:f5:8c:2a:35</td>\n",
       "      <td>49.5</td>\n",
       "      <td>36</td>\n",
       "    </tr>\n",
       "  </tbody>\n",
       "</table>\n",
       "</div>"
      ],
      "text/plain": [
       "              ssid                mac  signal_level  channel\n",
       "0  Tenda_8C2A30_5G  50:0f:f5:8c:2a:35          49.5       36"
      ]
     },
     "execution_count": 7,
     "metadata": {},
     "output_type": "execute_result"
    }
   ],
   "source": [
    "current2['signal_level'] = current2['signal_level'] + 100\n",
    "current2\n"
   ]
  },
  {
   "cell_type": "code",
   "execution_count": 8,
   "metadata": {},
   "outputs": [
    {
     "data": {
      "image/png": "[encoded data removed]",
      "text/plain": [
       "<Figure size 2000x1000 with 1 Axes>"
      ]
     },
     "metadata": {},
     "output_type": "display_data"
    }
   ],
   "source": [
    "current2.plot(kind='bar', x='ssid', y='signal_level', figsize=(20, 10))\n",
    "\n",
    "plt.ylim(0, 100)\n",
    "plt.gca().set_yticks(plt.gca().get_yticks())  # Ensure the ticks are set before setting tick labels\n",
    "plt.gca().set_yticklabels([str(int(label) - 100) for label in plt.gca().get_yticks()])\n",
    "plt.show()"
   ]
  },
  {
   "cell_type": "code",
   "execution_count": 9,
   "metadata": {},
   "outputs": [
    {
     "name": "stdout",
     "output_type": "stream",
     "text": [
      "{\\\"id\\\": \\\"1\\\", \\\"name\\\": \\\"Samsung Fridge_E50AJTRB022P\\\", \\\"level\\\": -74, \\\"channel\\\": 1}\n"
     ]
    }
   ],
   "source": [
    "def process_input_string(input_string):\n",
    "    # Split the string into components\n",
    "    id_name, level_channel = input_string.split(\" - \")\n",
    "    name, level_channel = level_channel.split(\": \")\n",
    "    level, channel = level_channel.split(\" CH \")\n",
    "\n",
    "    # Create a dictionary with the specified names\n",
    "    data = {\n",
    "        \"id\": id_name,\n",
    "        \"name\": name,\n",
    "        \"level\": int(level),\n",
    "        \"channel\": int(channel)\n",
    "    }\n",
    "\n",
    "    # Convert the dictionary to a JSON object\n",
    "    json_data = json.dumps(data).replace('\"', '\\\\\"') #, indent=4)\n",
    "    node_red_code = f\"\"\"\n",
    "    [{{\"id\":\"{data['id']}\",\"type\":\"inject\",\"name\":\"\",\"props\":[{{\"p\":\"payload\"}}],\"repeat\":\"\",\n",
    "    \"crontab\":\"\",\"once\":false,\"onceDelay\":0.1,\"topic\":\"\",\n",
    "    \"payload\":\"{json_data}\",\"payloadType\":\"json\",\"x\":180,\"y\":80,\"wires\":[[\"n1\"]]}},\n",
    "    {{\"id\":\"n1\",\"type\":\"debug\",\"name\":\"debug\",\"active\":true,\"tosidebar\":true,\n",
    "    \"console\":false,\"tostatus\":false,\"complete\":\"payload\",\"targetType\":\"msg\",\"x\":330,\"y\":80,\"wires\":[]}}]\n",
    "    \"\"\"\n",
    "    return json_data, node_red_code, data\n",
    "\n",
    "# Example usage\n",
    "input_string = \"1 - Samsung Fridge_E50AJTRB022P: -74 CH 1\"\n",
    "json_data, node_red_code, data = process_input_string(input_string)\n",
    "print(json_data)"
   ]
  },
  {
   "cell_type": "code",
   "execution_count": 10,
   "metadata": {},
   "outputs": [
    {
     "data": {
      "text/plain": [
       "'{\\\\\"id\\\\\": \\\\\"1\\\\\", \\\\\"name\\\\\": \\\\\"Samsung Fridge_E50AJTRB022P\\\\\", \\\\\"level\\\\\": -74, \\\\\"channel\\\\\": 1}'"
      ]
     },
     "execution_count": 10,
     "metadata": {},
     "output_type": "execute_result"
    }
   ],
   "source": [
    "json_data"
   ]
  },
  {
   "cell_type": "code",
   "execution_count": 11,
   "metadata": {},
   "outputs": [
    {
     "name": "stdout",
     "output_type": "stream",
     "text": [
      "\n",
      "    [{\"id\":\"1\",\"type\":\"inject\",\"name\":\"\",\"props\":[{\"p\":\"payload\"}],\"repeat\":\"\",\n",
      "    \"crontab\":\"\",\"once\":false,\"onceDelay\":0.1,\"topic\":\"\",\n",
      "    \"payload\":\"{\\\"id\\\": \\\"1\\\", \\\"name\\\": \\\"Samsung Fridge_E50AJTRB022P\\\", \\\"level\\\": -74, \\\"channel\\\": 1}\",\"payloadType\":\"json\",\"x\":180,\"y\":80,\"wires\":[[\"n1\"]]},\n",
      "    {\"id\":\"n1\",\"type\":\"debug\",\"name\":\"debug\",\"active\":true,\"tosidebar\":true,\n",
      "    \"console\":false,\"tostatus\":false,\"complete\":\"payload\",\"targetType\":\"msg\",\"x\":330,\"y\":80,\"wires\":[]}]\n",
      "    \n"
     ]
    }
   ],
   "source": [
    "print(node_red_code)"
   ]
  }
 ],
 "metadata": {
  "kernelspec": {
   "display_name": "Python 3",
   "language": "python",
   "name": "python3"
  },
  "language_info": {
   "codemirror_mode": {
    "name": "ipython",
    "version": 3
   },
   "file_extension": ".py",
   "mimetype": "text/x-python",
   "name": "python",
   "nbconvert_exporter": "python",
   "pygments_lexer": "ipython3",
   "version": "3.12.8"
  }
 },
 "nbformat": 4,
 "nbformat_minor": 2
}
