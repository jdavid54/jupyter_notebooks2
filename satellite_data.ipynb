{
 "cells": [
  {
   "cell_type": "code",
   "execution_count": 6,
   "metadata": {},
   "outputs": [],
   "source": [
    "# https://earthscience.stackexchange.com/questions/7283/how-high-must-one-be-for-the-curvature-of-the-earth-to-be-visible-to-the-eye\n",
    "\n",
    "import numpy as np\n",
    "import matplotlib.pyplot as plt\n",
    "\n",
    "cos = np.cos\n",
    "atan2 = np.arctan2\n",
    "sqrt = np.sqrt\n",
    "pi = np.pi\n",
    "\n",
    "# https://fr.wikipedia.org/wiki/Orbite_géostationnaire\n",
    "G = 6.67e-11\n",
    "M = 5.9736e24\n",
    "R = 6378.14e3\n",
    "T = 86164.1      # période sidérale de la rotation terrestre\n",
    "\n",
    "#https://www.rncan.gc.ca/cartes-outils-et-publications/imagerie-satellitaire-et-photos-aeriennes/tutoriel-notions-fondamentales-teledetection/caracteristiques-dun-satellite-lorbite-et-sa-fauchee/caracteristiques-dun-satellite\n",
    "geostat = 35786e3\n"
   ]
  },
  {
   "cell_type": "code",
   "execution_count": 7,
   "metadata": {},
   "outputs": [],
   "source": [
    "'''\n",
    "Distance of visibility d (vertical axis, in km), as a function of the\n",
    "elevation h of the observer above the sea level (horizontal axis, in m).\n",
    "'''\n",
    "def distance_horizon(h):\n",
    "    # h elevation above sea level\n",
    "    return R*atan2(sqrt(2*R*h),R)\n",
    "\n",
    "'''\n",
    "Angle of the horizon below the flat-Earth horizon (gamma, in degrees,\n",
    "on the vertical axis of this plot) as a function of the observer's elevation h\n",
    "above the surface (meters). Note that the apparent angular size of the Sun or\n",
    "the Moon is around 0.5 degrees..\n",
    "'''\n",
    "def gamma_horizon(h):\n",
    "    return atan2(sqrt(2*R*h),R)\n",
    "\n",
    "def rapport(h):\n",
    "    if h<R :\n",
    "        print(round(h/R*100,2),'% of earth radius')\n",
    "    else:\n",
    "        print(round(h/R,2),'times radius of earth')\n",
    " "
   ]
  },
  {
   "cell_type": "code",
   "execution_count": 8,
   "metadata": {},
   "outputs": [
    {
     "name": "stdout",
     "output_type": "stream",
     "text": [
      "5.61 times radius of earth\n"
     ]
    }
   ],
   "source": [
    "# times earth radius\n",
    "m = 5.62\n",
    "m = 1\n",
    "h = 10e3\n",
    "h = m*geostat\n",
    "#h = m*R\n",
    "\n",
    "rapport(h)\n"
   ]
  },
  {
   "cell_type": "code",
   "execution_count": 9,
   "metadata": {},
   "outputs": [
    {
     "name": "stdout",
     "output_type": "stream",
     "text": [
      "h= 35786.0 km\n",
      "d= 8168.46 km\n",
      "g= 73.38 deg\n"
     ]
    }
   ],
   "source": [
    "\n",
    "print('h=',round(h/1000,2),'km')\n",
    "print('d=',round(distance_horizon(h)/1000,2),'km')\n",
    "print('g=',round(180/pi*gamma_horizon(h),2),'deg')\n",
    "g = gamma_horizon(h)\n"
   ]
  },
  {
   "cell_type": "code",
   "execution_count": 10,
   "metadata": {},
   "outputs": [
    {
     "name": "stdout",
     "output_type": "stream",
     "text": [
      "p= 4553687.243820607 s= 182489178111999.06\n",
      "71.4 %\n"
     ]
    },
    {
     "data": {
      "image/png": "[encoded data removed]",
      "text/plain": [
       "<Figure size 640x480 with 1 Axes>"
      ]
     },
     "metadata": {},
     "output_type": "display_data"
    }
   ],
   "source": [
    "# https://fr.wikipedia.org/wiki/Calotte_sphérique\n",
    "# hauteur calotte\n",
    "p = R*(1 - cos(g))\n",
    "# surface calotte\n",
    "s = 2*pi*R*p\n",
    "# surface hemisphere\n",
    "S = 2*pi*R**2\n",
    "print('p=',p,'s=',s)\n",
    "print(round(s/S*100,2),'%')\n",
    "\n",
    "hv = np.linspace(0,2500,2500)\n",
    "plt.plot(hv,distance_horizon(hv)/1000)\n",
    "plt.grid()\n",
    "#plt.show()\n",
    "\n",
    "hv = np.linspace(0,100,100)\n",
    "plt.plot(hv,gamma_horizon(hv))\n",
    "plt.grid()\n",
    "#plt.show()\n"
   ]
  },
  {
   "cell_type": "code",
   "execution_count": 11,
   "metadata": {},
   "outputs": [
    {
     "name": "stdout",
     "output_type": "stream",
     "text": [
      "période satellite =  3074.66 s\n"
     ]
    }
   ],
   "source": [
    "def geo(h):\n",
    "    v = 2*pi*(R + h)/T\n",
    "    return round(v,2)\n",
    "\n",
    "print('période satellite = ', geo(h),'s')\n",
    "\n",
    "def geo_h():\n",
    "    #   G.M.m   =  m.v**2\n",
    "    # --------     ------\n",
    "    # (R+h)**2     R + h\n",
    "    gh = ((G * M *T**2)/(4 * pi**2))**(1/3) - R\n",
    "    return round(gh/1000,2)\n",
    "\n",
    "def v_sat(h): # h en km\n",
    "    v = sqrt((G * M)/(R + h*1000))\n",
    "    return v"
   ]
  },
  {
   "cell_type": "code",
   "execution_count": 12,
   "metadata": {},
   "outputs": [
    {
     "name": "stdout",
     "output_type": "stream",
     "text": [
      "altitude orbite stationnaire = 35780.34 km\n"
     ]
    }
   ],
   "source": [
    "print('altitude orbite stationnaire =',geo_h(),'km')\n"
   ]
  },
  {
   "cell_type": "code",
   "execution_count": 13,
   "metadata": {},
   "outputs": [
    {
     "name": "stdout",
     "output_type": "stream",
     "text": [
      "3074.25 m/s\n"
     ]
    }
   ],
   "source": [
    "print(round(v_sat(geo_h()),2),'m/s')\n"
   ]
  }
 ],
 "metadata": {
  "kernelspec": {
   "display_name": "Python 3",
   "language": "python",
   "name": "python3"
  },
  "language_info": {
   "codemirror_mode": {
    "name": "ipython",
    "version": 3
   },
   "file_extension": ".py",
   "mimetype": "text/x-python",
   "name": "python",
   "nbconvert_exporter": "python",
   "pygments_lexer": "ipython3",
   "version": "3.12.3"
  }
 },
 "nbformat": 4,
 "nbformat_minor": 2
}
