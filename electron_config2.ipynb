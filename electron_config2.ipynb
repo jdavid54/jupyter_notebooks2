{
 "cells": [
  {
   "cell_type": "code",
   "execution_count": 7,
   "metadata": {},
   "outputs": [],
   "source": [
    "sequences = [['1s'],['2s','2p'], ['3s','3p'], ['4s','3d','4p'],['5s','4d','5p'], \n",
    "            ['6s','4f','5d','6p'],['7s','5f','6d','7p']]"
   ]
  },
  {
   "cell_type": "code",
   "execution_count": 8,
   "metadata": {},
   "outputs": [],
   "source": [
    "\n",
    "def subshell_by(shell): \n",
    "    subshells = sequences[shell-1]\n",
    "\n",
    "    subshell_capacity = []\n",
    "    for ss in subshells:\n",
    "     if 's' in ss :\n",
    "         subshell_capacity.append(2)\n",
    "     if 'p' in ss :\n",
    "         subshell_capacity.append(6)\n",
    "     if 'd' in ss :\n",
    "         subshell_capacity.append(10)\n",
    "     if 'f' in ss :\n",
    "         subshell_capacity.append(14)\n",
    "    #print(subshells, subshell_capacity)\n",
    "    return subshells, subshell_capacity\n",
    "\n",
    "def electron_config(atomic_number):\n",
    "    electron_config = \"\"\n",
    "    end = False\n",
    "    verif = 0\n",
    "\n",
    "    for shell in range(1,8):\n",
    "        d, c = subshell_by(shell)  # designation, capacity\n",
    "        #print(d,c)\n",
    "    for k in range(len(c)):\n",
    "        if atomic_number >= c[k]:\n",
    "            atomic_number -= c[k]\n",
    "            #print(atomic_number, c[k])\n",
    "            verif += c[k]\n",
    "            electron_config += d[k]+str(c[k])+\"-\"\n",
    "        elif atomic_number > 0:\n",
    "            electron_config += d[k]+str(atomic_number)+\" \" \n",
    "            verif += atomic_number      \n",
    "            end = True\n",
    "            break    \n",
    "        if end: break\n",
    "\n",
    "    return electron_config[:-1]#, verif\n"
   ]
  },
  {
   "cell_type": "code",
   "execution_count": 9,
   "metadata": {},
   "outputs": [
    {
     "name": "stdout",
     "output_type": "stream",
     "text": [
      "['7s2-5f8', '7s2-5f14-6d2', '7s2-5f14-6d10-7p6', '7s2-5f14-6d10-7p6', '7s2-5f14-6d10-7p6']\n"
     ]
    }
   ],
   "source": [
    "# gaz rares\n",
    "rares_bases = []\n",
    "rares_names = ['Ne','Ar','Kr','Xe','Rn']\n",
    "for i,n in enumerate([10,18,36,54,86]):\n",
    "    rares_bases.append(electron_config(n))\n",
    "    #print(rares_names[i],electron_config(n))\n",
    "print(rares_bases)\n"
   ]
  },
  {
   "cell_type": "code",
   "execution_count": 10,
   "metadata": {},
   "outputs": [],
   "source": [
    "#\n",
    "def use_base_for(seq):\n",
    "    #print(seq)\n",
    "    for r in reversed(range(5)):\n",
    "        #print(seq,rares_bases[r],rares[r])\n",
    "        if rares_bases[r] in seq:\n",
    "            seq = seq.replace(rares_bases[r]+\"-\",\"[\"+rares_names[r]+\"]\")\n",
    "            #print(seq)\n",
    "    return seq\n",
    "\n",
    "def test():\n",
    "    atomic_number = 12\n",
    "    seq = electron_config(atomic_number)\n",
    "    print(seq,'=',use_base_for(seq))\n",
    "    print()\n",
    "\n",
    "ex = ['Cr','Ni','Cu','Nb','Mo','Ru','Rh','Pd','Ag','La','Ce','Gd','Pt','Au','Ac','Th','Pa','U','Cm','Lr']\n",
    "ex_z = [24,28,29,41,42,44,45,46,47,57,58,64,78,79,89,90,91,92,96,103]\n",
    "\n",
    "# exceptions\n",
    "def exceptions():\n",
    "    print(\"Exceptions ==================================================\")\n",
    "    \n",
    "    for i, n in enumerate(ex_z):\n",
    "        print(ex[i],\"(\",n,\")\",\":\\t\",use_base_for(electron_config(n)))"
   ]
  },
  {
   "cell_type": "code",
   "execution_count": 11,
   "metadata": {},
   "outputs": [],
   "source": [
    "# get data from wikipedia\n",
    "url = \"https://en.wikipedia.org/wiki/List_of_chemical_elements\"\n",
    "import pandas as pd\n",
    "tables = pd.read_html(url)[0]\n",
    "# rename columns name level 0\n",
    "tables.columns = tables.columns.set_levels(['List of chemical elements'],level=0)\n",
    "# drop index 0\n",
    "tables.drop(0, inplace=True)\n",
    "# new names level 1\n",
    "new_level1 = ['Abundance in Earth\\'s crust', 'Block', 'Boiling point',\n",
    "    'Density', 'Electro­negativity', 'Element', 'Group',\n",
    "    'Melting point', 'Origin of name', 'Origin', 'Period',\n",
    "    'Phase at room temp', 'Specific heat capacity',\n",
    "    'Standard atomic weight']\n",
    "new_level2 = ['(Da)', '(J/g · K)', '(K)', '(mg/kg)',\n",
    "    '(g/cm3)', 'Atomic number Z',\n",
    "    'Name', 'Symbol', '12_level_2', '14_level_2',\n",
    "    '15_level_2', '3_level_2', '4_level_2',\n",
    "    '5_level_2', '6_level_2', 'Electron Config']\n",
    "# change columns names for both levels\n",
    "tables.columns = tables.columns.set_levels(new_level1,level=1)\n",
    "tables.columns = tables.columns.set_levels(new_level2,level=2)\n",
    "\n",
    "atomic_numbers = tables['List of chemical elements']['Element']['Atomic number Z']\n",
    "symbols = tables['List of chemical elements']['Element']['Symbol']\n",
    "electron_config = [use_base_for(electron_config(int(n))) for n in atomic_numbers]\n",
    "\n",
    "position = 3\n",
    "tables.insert(position, ('List of chemical elements','Element','Electron Config'), electron_config)\n"
   ]
  },
  {
   "cell_type": "code",
   "execution_count": 12,
   "metadata": {},
   "outputs": [
    {
     "name": "stdout",
     "output_type": "stream",
     "text": [
      "Element atomic number Z =  31\n",
      "List of chemical elements  Element                     Atomic number Z                      31.0\n",
      "                                                       Symbol                                 Ga\n",
      "                                                       Name                              Gallium\n",
      "                                                       Electron Config         7s2-5f14-6d10-7p5\n",
      "                           Origin of name              3_level_2          Latin Gallia, 'France'\n",
      "                           Group                       4_level_2                              13\n",
      "                           Period                      5_level_2                             4.0\n",
      "                           Block                       6_level_2                         p-block\n",
      "                           Standard atomic weight      (Da)                               69.723\n",
      "                           Density                     (g/cm3)                              5.91\n",
      "                           Melting point               (K)                              302.9146\n",
      "                           Boiling point               (K)                                  2673\n",
      "                           Specific heat capacity      (J/g · K)                           0.371\n",
      "                           Electro­negativity          12_level_2                           1.81\n",
      "                           Abundance in Earth's crust  (mg/kg)                                19\n",
      "                           Origin                      14_level_2                     primordial\n",
      "                           Phase at room temp          15_level_2                          solid\n",
      "Name: 31, dtype: object\n"
     ]
    }
   ],
   "source": [
    "import random\n",
    "element = random.randint(1,118) \n",
    "print(\"Element atomic number Z = \",element)\n",
    "if element in ex_z:\n",
    "    print(\"Exception element\")\n",
    "\n",
    "print(tables.loc[element])\n"
   ]
  }
 ],
 "metadata": {
  "kernelspec": {
   "display_name": "Python 3",
   "language": "python",
   "name": "python3"
  },
  "language_info": {
   "codemirror_mode": {
    "name": "ipython",
    "version": 3
   },
   "file_extension": ".py",
   "mimetype": "text/x-python",
   "name": "python",
   "nbconvert_exporter": "python",
   "pygments_lexer": "ipython3",
   "version": "3.11.2"
  },
  "orig_nbformat": 4
 },
 "nbformat": 4,
 "nbformat_minor": 2
}
