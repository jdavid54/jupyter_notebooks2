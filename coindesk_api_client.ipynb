{
 "cells": [
  {
   "cell_type": "code",
   "execution_count": 2,
   "metadata": {},
   "outputs": [
    {
     "ename": "KeyError",
     "evalue": "'formatters'",
     "output_type": "error",
     "traceback": [
      "\u001b[1;31m---------------------------------------------------------------------------\u001b[0m",
      "\u001b[1;31mKeyError\u001b[0m                                  Traceback (most recent call last)",
      "\u001b[1;32my:\\Documents\\Python\\jupyter\\coindesk_api_client.ipynb Cell 1\u001b[0m line \u001b[0;36m1\n\u001b[1;32m----> <a href='vscode-notebook-cell:/y%3A/Documents/Python/jupyter/coindesk_api_client.ipynb#W0sZmlsZQ%3D%3D?line=0'>1</a>\u001b[0m \u001b[39mfrom\u001b[39;00m \u001b[39mcoindesk\u001b[39;00m\u001b[39m.\u001b[39;00m\u001b[39mclient\u001b[39;00m \u001b[39mimport\u001b[39;00m CoindeskAPIClient\n",
      "File \u001b[1;32m~\\AppData\\Local\\Packages\\PythonSoftwareFoundation.Python.3.10_qbz5n2kfra8p0\\LocalCache\\local-packages\\Python310\\site-packages\\coindesk\\client.py:21\u001b[0m\n\u001b[0;32m     18\u001b[0m \u001b[39mfrom\u001b[39;00m \u001b[39mjsonschema\u001b[39;00m \u001b[39mimport\u001b[39;00m SchemaError, ValidationError\n\u001b[0;32m     19\u001b[0m \u001b[39mfrom\u001b[39;00m \u001b[39mrequests\u001b[39;00m\u001b[39m.\u001b[39;00m\u001b[39mexceptions\u001b[39;00m \u001b[39mimport\u001b[39;00m RequestException\n\u001b[1;32m---> 21\u001b[0m \u001b[39mfrom\u001b[39;00m \u001b[39m.\u001b[39;00m \u001b[39mimport\u001b[39;00m settings, utils\n\u001b[0;32m     22\u001b[0m \u001b[39mfrom\u001b[39;00m \u001b[39m.\u001b[39;00m\u001b[39mdecorators\u001b[39;00m \u001b[39mimport\u001b[39;00m async_event_loop\n\u001b[0;32m     23\u001b[0m \u001b[39mfrom\u001b[39;00m \u001b[39m.\u001b[39;00m\u001b[39mexceptions\u001b[39;00m \u001b[39mimport\u001b[39;00m (CoindeskAPIClientError,\n\u001b[0;32m     24\u001b[0m                          CoindeskAPIHttpRequestError,\n\u001b[0;32m     25\u001b[0m                          CoindeskAPIHttpResponseError)\n",
      "File \u001b[1;32m~\\AppData\\Local\\Packages\\PythonSoftwareFoundation.Python.3.10_qbz5n2kfra8p0\\LocalCache\\local-packages\\Python310\\site-packages\\coindesk\\settings.py:3\u001b[0m\n\u001b[0;32m      1\u001b[0m \u001b[39m# encoding: utf-8\u001b[39;00m\n\u001b[1;32m----> 3\u001b[0m \u001b[39mfrom\u001b[39;00m \u001b[39m.\u001b[39;00m\u001b[39mutils\u001b[39;00m \u001b[39mimport\u001b[39;00m find_version\n\u001b[0;32m      5\u001b[0m \u001b[39m# Coindesk API client settings\u001b[39;00m\n\u001b[0;32m      6\u001b[0m API_CLIENT_VERSION \u001b[39m=\u001b[39m find_version(\u001b[39m'\u001b[39m\u001b[39m__init__.py\u001b[39m\u001b[39m'\u001b[39m)\n",
      "File \u001b[1;32m~\\AppData\\Local\\Packages\\PythonSoftwareFoundation.Python.3.10_qbz5n2kfra8p0\\LocalCache\\local-packages\\Python310\\site-packages\\coindesk\\utils.py:17\u001b[0m\n\u001b[0;32m     12\u001b[0m \u001b[39mfrom\u001b[39;00m \u001b[39m.\u001b[39;00m\u001b[39mexceptions\u001b[39;00m \u001b[39mimport\u001b[39;00m (CoindeskAPIClientError,\n\u001b[0;32m     13\u001b[0m                          CoindeskAPIHttpRequestError,\n\u001b[0;32m     14\u001b[0m                          CoindeskAPIHttpResponseError)\n\u001b[0;32m     16\u001b[0m \u001b[39m# Custom logger for client config module\u001b[39;00m\n\u001b[1;32m---> 17\u001b[0m fileConfig(join(dirname(dirname(\u001b[39m__file__\u001b[39;49m)), \u001b[39m'\u001b[39;49m\u001b[39mlogging.cfg\u001b[39;49m\u001b[39m'\u001b[39;49m))\n\u001b[0;32m     18\u001b[0m logger \u001b[39m=\u001b[39m getLogger(\u001b[39m__name__\u001b[39m)\n\u001b[0;32m     21\u001b[0m \u001b[39mdef\u001b[39;00m \u001b[39mvalidate_data_type\u001b[39m(data_type: \u001b[39mstr\u001b[39m):\n",
      "File \u001b[1;32mC:\\Program Files\\WindowsApps\\PythonSoftwareFoundation.Python.3.10_3.10.3056.0_x64__qbz5n2kfra8p0\\lib\\logging\\config.py:72\u001b[0m, in \u001b[0;36mfileConfig\u001b[1;34m(fname, defaults, disable_existing_loggers, encoding)\u001b[0m\n\u001b[0;32m     69\u001b[0m         encoding \u001b[39m=\u001b[39m io\u001b[39m.\u001b[39mtext_encoding(encoding)\n\u001b[0;32m     70\u001b[0m         cp\u001b[39m.\u001b[39mread(fname, encoding\u001b[39m=\u001b[39mencoding)\n\u001b[1;32m---> 72\u001b[0m formatters \u001b[39m=\u001b[39m _create_formatters(cp)\n\u001b[0;32m     74\u001b[0m \u001b[39m# critical section\u001b[39;00m\n\u001b[0;32m     75\u001b[0m logging\u001b[39m.\u001b[39m_acquireLock()\n",
      "File \u001b[1;32mC:\\Program Files\\WindowsApps\\PythonSoftwareFoundation.Python.3.10_3.10.3056.0_x64__qbz5n2kfra8p0\\lib\\logging\\config.py:105\u001b[0m, in \u001b[0;36m_create_formatters\u001b[1;34m(cp)\u001b[0m\n\u001b[0;32m    103\u001b[0m \u001b[39mdef\u001b[39;00m \u001b[39m_create_formatters\u001b[39m(cp):\n\u001b[0;32m    104\u001b[0m     \u001b[39m\"\"\"Create and return formatters\"\"\"\u001b[39;00m\n\u001b[1;32m--> 105\u001b[0m     flist \u001b[39m=\u001b[39m cp[\u001b[39m\"\u001b[39;49m\u001b[39mformatters\u001b[39;49m\u001b[39m\"\u001b[39;49m][\u001b[39m\"\u001b[39m\u001b[39mkeys\u001b[39m\u001b[39m\"\u001b[39m]\n\u001b[0;32m    106\u001b[0m     \u001b[39mif\u001b[39;00m \u001b[39mnot\u001b[39;00m \u001b[39mlen\u001b[39m(flist):\n\u001b[0;32m    107\u001b[0m         \u001b[39mreturn\u001b[39;00m {}\n",
      "File \u001b[1;32mC:\\Program Files\\WindowsApps\\PythonSoftwareFoundation.Python.3.10_3.10.3056.0_x64__qbz5n2kfra8p0\\lib\\configparser.py:965\u001b[0m, in \u001b[0;36mRawConfigParser.__getitem__\u001b[1;34m(self, key)\u001b[0m\n\u001b[0;32m    963\u001b[0m \u001b[39mdef\u001b[39;00m \u001b[39m__getitem__\u001b[39m(\u001b[39mself\u001b[39m, key):\n\u001b[0;32m    964\u001b[0m     \u001b[39mif\u001b[39;00m key \u001b[39m!=\u001b[39m \u001b[39mself\u001b[39m\u001b[39m.\u001b[39mdefault_section \u001b[39mand\u001b[39;00m \u001b[39mnot\u001b[39;00m \u001b[39mself\u001b[39m\u001b[39m.\u001b[39mhas_section(key):\n\u001b[1;32m--> 965\u001b[0m         \u001b[39mraise\u001b[39;00m \u001b[39mKeyError\u001b[39;00m(key)\n\u001b[0;32m    966\u001b[0m     \u001b[39mreturn\u001b[39;00m \u001b[39mself\u001b[39m\u001b[39m.\u001b[39m_proxies[key]\n",
      "\u001b[1;31mKeyError\u001b[0m: 'formatters'"
     ]
    }
   ],
   "source": [
    "from coindesk.client import CoindeskAPIClient\n"
   ]
  },
  {
   "cell_type": "code",
   "execution_count": null,
   "metadata": {},
   "outputs": [],
   "source": [
    "api_client = CoindeskAPIClient.start('currentprice')\n",
    "response = api_client.get()"
   ]
  }
 ],
 "metadata": {
  "kernelspec": {
   "display_name": "Python 3",
   "language": "python",
   "name": "python3"
  },
  "language_info": {
   "codemirror_mode": {
    "name": "ipython",
    "version": 3
   },
   "file_extension": ".py",
   "mimetype": "text/x-python",
   "name": "python",
   "nbconvert_exporter": "python",
   "pygments_lexer": "ipython3",
   "version": "3.10.11"
  }
 },
 "nbformat": 4,
 "nbformat_minor": 2
}
