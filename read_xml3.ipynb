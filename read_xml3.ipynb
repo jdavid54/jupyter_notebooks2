{
 "cells": [
  {
   "cell_type": "code",
   "execution_count": 10,
   "metadata": {},
   "outputs": [
    {
     "data": {
      "text/plain": [
       "<Element 'root' at 0x72a3fd20>"
      ]
     },
     "execution_count": 10,
     "metadata": {},
     "output_type": "execute_result"
    }
   ],
   "source": [
    "#https://docs.python.org/2/library/xml.etree.elementtree.html\n",
    "\n",
    "import xml.etree.ElementTree as ET\n",
    "\n",
    "xml_data = \"<root><a /><b> <C/></b>...</root>\"\n",
    "\n",
    "root = ET.fromstring(xml_data)\n",
    "root"
   ]
  },
  {
   "cell_type": "code",
   "execution_count": 11,
   "metadata": {},
   "outputs": [
    {
     "data": {
      "text/plain": [
       "<Element 'root' at 0x72a3fd20>"
      ]
     },
     "execution_count": 11,
     "metadata": {},
     "output_type": "execute_result"
    }
   ],
   "source": [
    "r = root.findall(\".\")[0]\n",
    "r"
   ]
  },
  {
   "cell_type": "code",
   "execution_count": 12,
   "metadata": {},
   "outputs": [
    {
     "name": "stderr",
     "output_type": "stream",
     "text": [
      "/usr/lib/python3/dist-packages/ipykernel_launcher.py:2: DeprecationWarning: This method will be removed in future versions.  Use 'list(elem)' or iteration over elem instead.\n",
      "  \n"
     ]
    },
    {
     "data": {
      "text/plain": [
       "[<Element 'a' at 0x72a3fa50>, <Element 'b' at 0x72a3fe10>]"
      ]
     },
     "execution_count": 12,
     "metadata": {},
     "output_type": "execute_result"
    }
   ],
   "source": [
    "r.tag\n",
    "r.getchildren()"
   ]
  },
  {
   "cell_type": "raw",
   "metadata": {},
   "source": [
    "import base64\n",
    "\n",
    "def canonicalize(xml, c14n_exc=True):\n",
    "    \"Return the canonical (c14n) form of the xml document for hashing\"\n",
    "    # UTF8, normalization of line feeds/spaces, quoting, attribute ordering...\n",
    "    xml_decoder = base64.b64decode(xml).decode(\"utf-8\")\n",
    "    output = StringIO()\n",
    "\n",
    "    if xml_decoder is not None:\n",
    "        # use faster libxml2 / lxml canonicalization function if available\n",
    "        et = lxml.etree.parse(StringIO(xml_decoder))\n",
    "        et.write_c14n(output, exclusive=c14n_exc)\n",
    "    #else:\n",
    "        # use pure-python implementation: c14n.py (avoid recursive import)\n",
    "        #from .simplexml import SimpleXMLElement\n",
    "        #SimpleXMLElement(xml).write_c14n(output, exclusive=c14n_exc)\n",
    "    return output.getvalue()\n",
    "\n",
    "print(canonicalize(xml_data))"
   ]
  },
  {
   "cell_type": "code",
   "execution_count": 16,
   "metadata": {},
   "outputs": [
    {
     "name": "stdout",
     "output_type": "stream",
     "text": [
      "<_io.StringIO object at 0x70e50620>\n"
     ]
    }
   ],
   "source": [
    "import lxml.etree as ET\n",
    "from io import StringIO \n",
    "\n",
    "et = ET.parse('country_data.xml')\n",
    "output = StringIO()\n",
    "print(str(output))\n",
    "et.write_c14n(str(output))  #write to file\n",
    "#print (output.getvalue())"
   ]
  },
  {
   "cell_type": "code",
   "execution_count": 31,
   "metadata": {},
   "outputs": [
    {
     "name": "stdout",
     "output_type": "stream",
     "text": [
      "<data>\n",
      "    <country name=\"Liechtenstein\">\n",
      "        <rank>1</rank>\n",
      "        <year>2008</year>\n",
      "        <gdppc>141100</gdppc>\n",
      "        <neighbor direction=\"E\" name=\"Austria\" />\n",
      "        <neighbor direction=\"W\" name=\"Switzerland\" />\n",
      "    </country>\n",
      "    <country name=\"Singapore\">\n",
      "        <rank>4</rank>\n",
      "        <year>2011</year>\n",
      "        <gdppc>59900</gdppc>\n",
      "        <neighbor direction=\"N\" name=\"Malaysia\" />\n",
      "    </country>\n",
      "    <country name=\"Panama\">\n",
      "        <rank>68</rank>\n",
      "        <year>2011</year>\n",
      "        <gdppc>13600</gdppc>\n",
      "        <neighbor direction=\"W\" name=\"Costa Rica\" />\n",
      "        <neighbor direction=\"E\" name=\"Colombia\" />\n",
      "    </country>\n",
      "</data>\n"
     ]
    }
   ],
   "source": [
    "import xml.etree.ElementTree as ET\n",
    "tree = ET.parse('country_data.xml')\n",
    "root = tree.getroot()\n",
    "ET.dump(root)\n"
   ]
  },
  {
   "cell_type": "code",
   "execution_count": 28,
   "metadata": {},
   "outputs": [
    {
     "name": "stdout",
     "output_type": "stream",
     "text": [
      "<data>\n",
      "    <country name=\"Liechtenstein\">\n",
      "        <rank>1</rank>\n",
      "        <year>2008</year>\n",
      "        <gdppc>141100</gdppc>\n",
      "        <neighbor direction=\"E\" name=\"Austria\" />\n",
      "        <neighbor direction=\"W\" name=\"Switzerland\" />\n",
      "    </country>\n",
      "    <country name=\"Singapore\">\n",
      "        <rank>4</rank>\n",
      "        <year>2011</year>\n",
      "        <gdppc>59900</gdppc>\n",
      "        <neighbor direction=\"N\" name=\"Malaysia\" />\n",
      "    </country>\n",
      "    <country name=\"Panama\">\n",
      "        <rank>68</rank>\n",
      "        <year>2011</year>\n",
      "        <gdppc>13600</gdppc>\n",
      "        <neighbor direction=\"W\" name=\"Costa Rica\" />\n",
      "        <neighbor direction=\"E\" name=\"Colombia\" />\n",
      "    </country>\n",
      "</data>\n"
     ]
    }
   ],
   "source": [
    "ET.dump(root)"
   ]
  },
  {
   "cell_type": "code",
   "execution_count": 41,
   "metadata": {},
   "outputs": [
    {
     "name": "stdout",
     "output_type": "stream",
     "text": [
      "<a><b /><c><d /></c></a>\n"
     ]
    }
   ],
   "source": [
    "a = ET.Element('a')\n",
    "b = ET.SubElement(a, 'b')\n",
    "c = ET.SubElement(a, 'c')\n",
    "d = ET.SubElement(c, 'd')\n",
    "ET.dump(a)"
   ]
  },
  {
   "cell_type": "code",
   "execution_count": 42,
   "metadata": {},
   "outputs": [
    {
     "data": {
      "text/plain": [
       "[<Element 'b' at 0x70e6ac00>, <Element 'c' at 0x70e6a2a0>]"
      ]
     },
     "execution_count": 42,
     "metadata": {},
     "output_type": "execute_result"
    }
   ],
   "source": [
    "a.findall('*')"
   ]
  },
  {
   "cell_type": "code",
   "execution_count": 47,
   "metadata": {},
   "outputs": [
    {
     "name": "stdout",
     "output_type": "stream",
     "text": [
      "<!--This is a comment!-->\n"
     ]
    }
   ],
   "source": [
    "e = ET.Comment(\"This is a comment!\")\n",
    "ET.dump(e)"
   ]
  },
  {
   "cell_type": "code",
   "execution_count": 51,
   "metadata": {},
   "outputs": [
    {
     "data": {
      "text/plain": [
       "True"
      ]
     },
     "execution_count": 51,
     "metadata": {},
     "output_type": "execute_result"
    }
   ],
   "source": [
    "ET.iselement(e)"
   ]
  },
  {
   "cell_type": "code",
   "execution_count": 70,
   "metadata": {},
   "outputs": [],
   "source": [
    "et = ET.iterparse('country_data.xml', events=['start', 'end'])"
   ]
  },
  {
   "cell_type": "code",
   "execution_count": 67,
   "metadata": {},
   "outputs": [
    {
     "name": "stdout",
     "output_type": "stream",
     "text": [
      "('start', <Element 'data' at 0x70ec17e0>)\n",
      "('start', <Element 'country' at 0x70ec1d20>)\n",
      "('start', <Element 'rank' at 0x70ec1b10>)\n",
      "('end', <Element 'rank' at 0x70ec1b10>)\n",
      "('start', <Element 'year' at 0x70ec15d0>)\n",
      "('end', <Element 'year' at 0x70ec15d0>)\n",
      "('start', <Element 'gdppc' at 0x70ec1d80>)\n",
      "('end', <Element 'gdppc' at 0x70ec1d80>)\n",
      "('start', <Element 'neighbor' at 0x70ec1690>)\n",
      "('end', <Element 'neighbor' at 0x70ec1690>)\n",
      "('start', <Element 'neighbor' at 0x70ec1930>)\n",
      "('end', <Element 'neighbor' at 0x70ec1930>)\n",
      "('end', <Element 'country' at 0x70ec1d20>)\n",
      "('start', <Element 'country' at 0x70ec1e10>)\n",
      "('start', <Element 'rank' at 0x70ec16f0>)\n",
      "('end', <Element 'rank' at 0x70ec16f0>)\n",
      "('start', <Element 'year' at 0x70ec1750>)\n",
      "('end', <Element 'year' at 0x70ec1750>)\n",
      "('start', <Element 'gdppc' at 0x70ec18a0>)\n",
      "('end', <Element 'gdppc' at 0x70ec18a0>)\n",
      "('start', <Element 'neighbor' at 0x70ec1810>)\n",
      "('end', <Element 'neighbor' at 0x70ec1810>)\n",
      "('end', <Element 'country' at 0x70ec1e10>)\n",
      "('start', <Element 'country' at 0x70ec1a20>)\n",
      "('start', <Element 'rank' at 0x70ec1ab0>)\n",
      "('end', <Element 'rank' at 0x70ec1ab0>)\n",
      "('start', <Element 'year' at 0x70ec17b0>)\n",
      "('end', <Element 'year' at 0x70ec17b0>)\n",
      "('start', <Element 'gdppc' at 0x70ec19c0>)\n",
      "('end', <Element 'gdppc' at 0x70ec19c0>)\n",
      "('start', <Element 'neighbor' at 0x70ec1cc0>)\n",
      "('end', <Element 'neighbor' at 0x70ec1cc0>)\n",
      "('start', <Element 'neighbor' at 0x70ec1b40>)\n",
      "('end', <Element 'neighbor' at 0x70ec1b40>)\n",
      "('end', <Element 'country' at 0x70ec1a20>)\n",
      "('end', <Element 'data' at 0x70ec17e0>)\n"
     ]
    }
   ],
   "source": [
    "for i in et:\n",
    "    print(i)  # (event, elem)"
   ]
  },
  {
   "cell_type": "code",
   "execution_count": 103,
   "metadata": {},
   "outputs": [
    {
     "name": "stdout",
     "output_type": "stream",
     "text": [
      "This is a comment!\n"
     ]
    }
   ],
   "source": [
    "from xml.dom import minidom\n",
    "root = minidom.parse(\"country_data.xml\").documentElement\n",
    "comment = root.childNodes[0]\n",
    "print (comment.data)"
   ]
  },
  {
   "cell_type": "code",
   "execution_count": 106,
   "metadata": {},
   "outputs": [
    {
     "name": "stdout",
     "output_type": "stream",
     "text": [
      "a {} None None []\n"
     ]
    }
   ],
   "source": [
    "xml_data = \"<a><b>1<c>2<d/>3</c></b>4</a>\"\n",
    "root = ET.fromstring(xml_data)\n",
    "print(root.tag,root.attrib,root.text,root.tail,root.items())"
   ]
  },
  {
   "cell_type": "code",
   "execution_count": 107,
   "metadata": {},
   "outputs": [
    {
     "name": "stdout",
     "output_type": "stream",
     "text": [
      "b {} 1 4\n"
     ]
    }
   ],
   "source": [
    "b = root[0]\n",
    "print(b.tag,b.attrib,b.text,b.tail)"
   ]
  },
  {
   "cell_type": "code",
   "execution_count": 108,
   "metadata": {},
   "outputs": [
    {
     "name": "stdout",
     "output_type": "stream",
     "text": [
      "c {} 2 None\n"
     ]
    }
   ],
   "source": [
    "c = b[0]\n",
    "print(c.tag,c.attrib,c.text,c.tail)"
   ]
  },
  {
   "cell_type": "code",
   "execution_count": 109,
   "metadata": {},
   "outputs": [
    {
     "name": "stdout",
     "output_type": "stream",
     "text": [
      "d {} None 3\n"
     ]
    }
   ],
   "source": [
    "d = c[0]\n",
    "print(d.tag,d.attrib,d.text,d.tail)"
   ]
  },
  {
   "cell_type": "code",
   "execution_count": 110,
   "metadata": {},
   "outputs": [
    {
     "data": {
      "text/plain": [
       "'1234'"
      ]
     },
     "execution_count": 110,
     "metadata": {},
     "output_type": "execute_result"
    }
   ],
   "source": [
    "\"\".join(root.itertext())   #all inner text"
   ]
  },
  {
   "cell_type": "code",
   "execution_count": 113,
   "metadata": {},
   "outputs": [
    {
     "data": {
      "text/plain": [
       "'\\n    \\n        1\\n        2008\\n        141100\\n        \\n        \\n    \\n    \\n        4\\n        2011\\n        59900\\n        \\n    \\n    \\n        68\\n        2011\\n        13600\\n        \\n        \\n    \\n'"
      ]
     },
     "execution_count": 113,
     "metadata": {},
     "output_type": "execute_result"
    }
   ],
   "source": [
    "tree = ET.parse('country_data.xml')\n",
    "root = tree.getroot()\n",
    "\"\".join(root.itertext())"
   ]
  },
  {
   "cell_type": "raw",
   "metadata": {},
   "source": [
    "<html>\n",
    "    <head>\n",
    "        <title>Example page</title>\n",
    "    </head>\n",
    "    <body>\n",
    "        <p>Moved to <a href=\"http://example.org/\">example.org</a>\n",
    "        or <a href=\"http://example.com/\">example.com</a>.</p>\n",
    "    </body>\n",
    "</html>"
   ]
  },
  {
   "cell_type": "code",
   "execution_count": 116,
   "metadata": {},
   "outputs": [
    {
     "data": {
      "text/plain": [
       "<Element 'html' at 0x70480a20>"
      ]
     },
     "execution_count": 116,
     "metadata": {},
     "output_type": "execute_result"
    }
   ],
   "source": [
    "#Example of changing the attribute “target” of every link in first paragraph:\n",
    "\n",
    "from xml.etree.ElementTree import ElementTree\n",
    "tree = ElementTree()\n",
    "tree.parse(\"index.xhtml\")"
   ]
  },
  {
   "cell_type": "code",
   "execution_count": 117,
   "metadata": {},
   "outputs": [
    {
     "data": {
      "text/plain": [
       "<Element 'p' at 0x70480db0>"
      ]
     },
     "execution_count": 117,
     "metadata": {},
     "output_type": "execute_result"
    }
   ],
   "source": [
    "p = tree.find(\"body/p\")     # Finds first occurrence of tag p in body\n",
    "p"
   ]
  },
  {
   "cell_type": "code",
   "execution_count": 118,
   "metadata": {},
   "outputs": [
    {
     "data": {
      "text/plain": [
       "[<Element 'a' at 0x70480de0>, <Element 'a' at 0x70480ae0>]"
      ]
     },
     "execution_count": 118,
     "metadata": {},
     "output_type": "execute_result"
    }
   ],
   "source": [
    "links = list(p.iter(\"a\"))   # Returns list of all links\n",
    "links"
   ]
  },
  {
   "cell_type": "code",
   "execution_count": 119,
   "metadata": {},
   "outputs": [],
   "source": [
    "for i in links:             # Iterates through all found links\n",
    "     i.attrib[\"target\"] = \"blank\"\n",
    "\n",
    "tree.write(\"output_xhtml.xhtml\")"
   ]
  },
  {
   "cell_type": "code",
   "execution_count": 120,
   "metadata": {},
   "outputs": [
    {
     "data": {
      "text/plain": [
       "4"
      ]
     },
     "execution_count": 120,
     "metadata": {},
     "output_type": "execute_result"
    }
   ],
   "source": [
    "from xml.etree.ElementTree import XMLParser\n",
    "class MaxDepth:                     # The target object of the parser\n",
    "     maxDepth = 0\n",
    "     depth = 0\n",
    "     def start(self, tag, attrib):   # Called for each opening tag.\n",
    "         self.depth += 1\n",
    "         if self.depth > self.maxDepth:\n",
    "             self.maxDepth = self.depth\n",
    "     def end(self, tag):             # Called for each closing tag.\n",
    "         self.depth -= 1\n",
    "     def data(self, data):\n",
    "         pass            # We do not need to do anything with data.\n",
    "     def close(self):    # Called when all data has been parsed.\n",
    "         return self.maxDepth\n",
    "\n",
    "target = MaxDepth()\n",
    "parser = XMLParser(target=target)\n",
    "exampleXml = \"\"\"\n",
    " <a>\n",
    "   <b>\n",
    "   </b>\n",
    "   <b>\n",
    "     <c>\n",
    "       <d>\n",
    "       </d>\n",
    "     </c>\n",
    "   </b>\n",
    " </a>\"\"\"\n",
    "parser.feed(exampleXml)\n",
    "parser.close()"
   ]
  },
  {
   "cell_type": "code",
   "execution_count": null,
   "metadata": {},
   "outputs": [],
   "source": []
  }
 ],
 "metadata": {
  "kernelspec": {
   "display_name": "Python 3",
   "language": "python",
   "name": "python3"
  },
  "language_info": {
   "codemirror_mode": {
    "name": "ipython",
    "version": 3
   },
   "file_extension": ".py",
   "mimetype": "text/x-python",
   "name": "python",
   "nbconvert_exporter": "python",
   "pygments_lexer": "ipython3",
   "version": "3.7.3"
  }
 },
 "nbformat": 4,
 "nbformat_minor": 2
}
