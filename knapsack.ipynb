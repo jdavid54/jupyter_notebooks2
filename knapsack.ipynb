{
 "cells": [
  {
   "cell_type": "code",
   "execution_count": 25,
   "metadata": {},
   "outputs": [],
   "source": [
    "#pip install pulp\n",
    "from pulp import *\n",
    "import numpy as np"
   ]
  },
  {
   "cell_type": "code",
   "execution_count": 26,
   "metadata": {},
   "outputs": [],
   "source": [
    "# https://github.com/xiaoxiae/videos/blob/master/18-lopt/code/knapsack.py\n",
    "# data\n",
    "n = 8\n",
    "weights = [4, 2, 8, 3, 7, 5, 9, 6]\n",
    "prices = [19, 17, 30, 13, 25, 29, 23, 10]\n",
    "carry_weight = 18"
   ]
  },
  {
   "cell_type": "code",
   "execution_count": 27,
   "metadata": {},
   "outputs": [],
   "source": [
    "# problem formulation\n",
    "model = LpProblem(sense=LpMaximize)\n",
    "\n",
    "variables = [LpVariable(name=f\"x_{i}\", cat=LpBinary) for i in range(n)]\n",
    "\n",
    "model += lpDot(weights, variables) <= carry_weight\n",
    "\n",
    "model += lpDot(prices, variables)\n"
   ]
  },
  {
   "cell_type": "code",
   "execution_count": 28,
   "metadata": {},
   "outputs": [
    {
     "name": "stdout",
     "output_type": "stream",
     "text": [
      "price: 90.0\n",
      "take: 1.0 1.0 0.0 0.0 1.0 1.0 0.0 0.0\n"
     ]
    }
   ],
   "source": [
    "\n",
    "# solve (without being verbose)\n",
    "status = model.solve(PULP_CBC_CMD(msg=False))\n",
    "print(\"price:\", model.objective.value())\n",
    "print(\"take:\", *[variables[i].value() for i in range(n)])"
   ]
  },
  {
   "cell_type": "code",
   "execution_count": 29,
   "metadata": {},
   "outputs": [
    {
     "data": {
      "text/plain": [
       "[1.0, 1.0, 0.0, 0.0, 1.0, 1.0, 0.0, 0.0]"
      ]
     },
     "execution_count": 29,
     "metadata": {},
     "output_type": "execute_result"
    }
   ],
   "source": [
    "k= [variables[i].value() for i in range(n)]\n",
    "k"
   ]
  },
  {
   "cell_type": "code",
   "execution_count": 24,
   "metadata": {},
   "outputs": [
    {
     "data": {
      "text/plain": [
       "array([0., 2., 0., 3., 7., 5., 0., 0.])"
      ]
     },
     "execution_count": 24,
     "metadata": {},
     "output_type": "execute_result"
    }
   ],
   "source": [
    "np.array(k) * weights"
   ]
  },
  {
   "cell_type": "code",
   "execution_count": 20,
   "metadata": {},
   "outputs": [
    {
     "data": {
      "text/plain": [
       "array([ 0., 17.,  0., 13., 25., 29.,  0.,  0.])"
      ]
     },
     "execution_count": 20,
     "metadata": {},
     "output_type": "execute_result"
    }
   ],
   "source": [
    "np.array(k) * prices"
   ]
  },
  {
   "cell_type": "code",
   "execution_count": 40,
   "metadata": {},
   "outputs": [
    {
     "name": "stdout",
     "output_type": "stream",
     "text": [
      "potatoes: 3000.0\n",
      "carrots: 3500.0\n",
      "Using  5000.0 kg of fertilizer\n",
      "profit: 9550.0\n"
     ]
    }
   ],
   "source": [
    "# farmer\n",
    "# maximize profit from 3000 kg potatoes, 4000 kg carrots, 5000 kg of fertilizer, \n",
    "# knowing each kg needs 1kg of fertilizer\n",
    "f_p = 0.5\n",
    "f_c = 1\n",
    "\n",
    "# problem formulation\n",
    "model = LpProblem(sense=LpMaximize)\n",
    "\n",
    "x_p = LpVariable(name=\"potatoes\", lowBound=0)\n",
    "x_c = LpVariable(name=\"carrots\", lowBound=0)\n",
    "\n",
    "model += x_p       <= 3000  # potatoes\n",
    "model +=       x_c <= 4000  # carrots\n",
    "model += f_p*x_p + f_c*x_c <= 5000  # fertilizer\n",
    "\n",
    "model += x_p * 1.2 + x_c * 1.7\n",
    "\n",
    "# solve (without being verbose)\n",
    "status = model.solve(PULP_CBC_CMD(msg=False))\n",
    "print(\"potatoes:\", x_p.value())\n",
    "print(\"carrots:\", x_c.value())\n",
    "print('Using ',f_p*x_p.value()+f_c*x_c.value(),'kg of fertilizer')\n",
    "print(\"profit:\", model.objective.value())"
   ]
  }
 ],
 "metadata": {
  "kernelspec": {
   "display_name": "Python 3",
   "language": "python",
   "name": "python3"
  },
  "language_info": {
   "codemirror_mode": {
    "name": "ipython",
    "version": 3
   },
   "file_extension": ".py",
   "mimetype": "text/x-python",
   "name": "python",
   "nbconvert_exporter": "python",
   "pygments_lexer": "ipython3",
   "version": "3.10.11"
  },
  "orig_nbformat": 4
 },
 "nbformat": 4,
 "nbformat_minor": 2
}
