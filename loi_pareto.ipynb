{
 "cells": [
  {
   "cell_type": "code",
   "execution_count": 1,
   "metadata": {},
   "outputs": [],
   "source": [
    "import pandas as pd"
   ]
  },
  {
   "cell_type": "code",
   "execution_count": 2,
   "metadata": {},
   "outputs": [],
   "source": [
    "ref, quantities, prix_vente = [['D','F','B','A','C','E','G'],\n",
    "       [315,192,198,225,518,420,600],\n",
    "       [1640,1240,500,280,36,18,12]\n",
    "       ]"
   ]
  },
  {
   "cell_type": "code",
   "execution_count": 3,
   "metadata": {},
   "outputs": [],
   "source": [
    "mydict = {\"ref\":['D','F','B','A','C','E','G'],\n",
    "       \"quantities\":[315,192,198,225,518,420,600],\n",
    "       \"prix_vente\":[1640,1240,500,280,36,18,12]\n",
    "}"
   ]
  },
  {
   "cell_type": "code",
   "execution_count": 4,
   "metadata": {},
   "outputs": [],
   "source": [
    "def csvDf(dat,**kwargs): \n",
    "  from numpy import array\n",
    "  data = array(dat)\n",
    "  if data is None or len(data)==0 or len(data[0])==0:\n",
    "    return None\n",
    "  else:\n",
    "    return pd.DataFrame(data[1:,1:],index=data[1:,0],columns=data[0,1:],**kwargs)"
   ]
  },
  {
   "cell_type": "code",
   "execution_count": 5,
   "metadata": {},
   "outputs": [
    {
     "data": {
      "text/html": [
       "<div>\n",
       "<style scoped>\n",
       "    .dataframe tbody tr th:only-of-type {\n",
       "        vertical-align: middle;\n",
       "    }\n",
       "\n",
       "    .dataframe tbody tr th {\n",
       "        vertical-align: top;\n",
       "    }\n",
       "\n",
       "    .dataframe thead th {\n",
       "        text-align: right;\n",
       "    }\n",
       "</style>\n",
       "<table border=\"1\" class=\"dataframe\">\n",
       "  <thead>\n",
       "    <tr style=\"text-align: right;\">\n",
       "      <th></th>\n",
       "      <th>F</th>\n",
       "      <th>B</th>\n",
       "      <th>A</th>\n",
       "      <th>C</th>\n",
       "      <th>E</th>\n",
       "      <th>G</th>\n",
       "    </tr>\n",
       "  </thead>\n",
       "  <tbody>\n",
       "    <tr>\n",
       "      <th>315</th>\n",
       "      <td>192</td>\n",
       "      <td>198</td>\n",
       "      <td>225</td>\n",
       "      <td>518</td>\n",
       "      <td>420</td>\n",
       "      <td>600</td>\n",
       "    </tr>\n",
       "    <tr>\n",
       "      <th>1640</th>\n",
       "      <td>1240</td>\n",
       "      <td>500</td>\n",
       "      <td>280</td>\n",
       "      <td>36</td>\n",
       "      <td>18</td>\n",
       "      <td>12</td>\n",
       "    </tr>\n",
       "  </tbody>\n",
       "</table>\n",
       "</div>"
      ],
      "text/plain": [
       "         F    B    A    C    E    G\n",
       "315    192  198  225  518  420  600\n",
       "1640  1240  500  280   36   18   12"
      ]
     },
     "execution_count": 5,
     "metadata": {},
     "output_type": "execute_result"
    }
   ],
   "source": [
    "csvDf([ref,quantities,prix_vente])"
   ]
  },
  {
   "cell_type": "code",
   "execution_count": 6,
   "metadata": {},
   "outputs": [
    {
     "data": {
      "text/html": [
       "<div>\n",
       "<style scoped>\n",
       "    .dataframe tbody tr th:only-of-type {\n",
       "        vertical-align: middle;\n",
       "    }\n",
       "\n",
       "    .dataframe tbody tr th {\n",
       "        vertical-align: top;\n",
       "    }\n",
       "\n",
       "    .dataframe thead th {\n",
       "        text-align: right;\n",
       "    }\n",
       "</style>\n",
       "<table border=\"1\" class=\"dataframe\">\n",
       "  <thead>\n",
       "    <tr style=\"text-align: right;\">\n",
       "      <th></th>\n",
       "      <th>Q</th>\n",
       "      <th>PV</th>\n",
       "    </tr>\n",
       "  </thead>\n",
       "  <tbody>\n",
       "    <tr>\n",
       "      <th>D</th>\n",
       "      <td>315</td>\n",
       "      <td>1640</td>\n",
       "    </tr>\n",
       "    <tr>\n",
       "      <th>F</th>\n",
       "      <td>192</td>\n",
       "      <td>1240</td>\n",
       "    </tr>\n",
       "    <tr>\n",
       "      <th>B</th>\n",
       "      <td>198</td>\n",
       "      <td>500</td>\n",
       "    </tr>\n",
       "    <tr>\n",
       "      <th>A</th>\n",
       "      <td>225</td>\n",
       "      <td>280</td>\n",
       "    </tr>\n",
       "    <tr>\n",
       "      <th>C</th>\n",
       "      <td>518</td>\n",
       "      <td>36</td>\n",
       "    </tr>\n",
       "    <tr>\n",
       "      <th>E</th>\n",
       "      <td>420</td>\n",
       "      <td>18</td>\n",
       "    </tr>\n",
       "    <tr>\n",
       "      <th>G</th>\n",
       "      <td>600</td>\n",
       "      <td>12</td>\n",
       "    </tr>\n",
       "  </tbody>\n",
       "</table>\n",
       "</div>"
      ],
      "text/plain": [
       "     Q    PV\n",
       "D  315  1640\n",
       "F  192  1240\n",
       "B  198   500\n",
       "A  225   280\n",
       "C  518    36\n",
       "E  420    18\n",
       "G  600    12"
      ]
     },
     "execution_count": 6,
     "metadata": {},
     "output_type": "execute_result"
    }
   ],
   "source": [
    "import pandas as pd\n",
    "\n",
    "data = pd.DataFrame([quantities,prix_vente],index=['Q','PV'],columns=ref)\n",
    "data.T"
   ]
  },
  {
   "cell_type": "code",
   "execution_count": 7,
   "metadata": {},
   "outputs": [
    {
     "data": {
      "text/html": [
       "<div>\n",
       "<style scoped>\n",
       "    .dataframe tbody tr th:only-of-type {\n",
       "        vertical-align: middle;\n",
       "    }\n",
       "\n",
       "    .dataframe tbody tr th {\n",
       "        vertical-align: top;\n",
       "    }\n",
       "\n",
       "    .dataframe thead th {\n",
       "        text-align: right;\n",
       "    }\n",
       "</style>\n",
       "<table border=\"1\" class=\"dataframe\">\n",
       "  <thead>\n",
       "    <tr style=\"text-align: right;\">\n",
       "      <th></th>\n",
       "      <th>ref</th>\n",
       "      <th>quantities</th>\n",
       "      <th>prix_vente</th>\n",
       "    </tr>\n",
       "  </thead>\n",
       "  <tbody>\n",
       "    <tr>\n",
       "      <th>0</th>\n",
       "      <td>D</td>\n",
       "      <td>315</td>\n",
       "      <td>1640</td>\n",
       "    </tr>\n",
       "    <tr>\n",
       "      <th>1</th>\n",
       "      <td>F</td>\n",
       "      <td>192</td>\n",
       "      <td>1240</td>\n",
       "    </tr>\n",
       "    <tr>\n",
       "      <th>2</th>\n",
       "      <td>B</td>\n",
       "      <td>198</td>\n",
       "      <td>500</td>\n",
       "    </tr>\n",
       "    <tr>\n",
       "      <th>3</th>\n",
       "      <td>A</td>\n",
       "      <td>225</td>\n",
       "      <td>280</td>\n",
       "    </tr>\n",
       "    <tr>\n",
       "      <th>4</th>\n",
       "      <td>C</td>\n",
       "      <td>518</td>\n",
       "      <td>36</td>\n",
       "    </tr>\n",
       "    <tr>\n",
       "      <th>5</th>\n",
       "      <td>E</td>\n",
       "      <td>420</td>\n",
       "      <td>18</td>\n",
       "    </tr>\n",
       "    <tr>\n",
       "      <th>6</th>\n",
       "      <td>G</td>\n",
       "      <td>600</td>\n",
       "      <td>12</td>\n",
       "    </tr>\n",
       "  </tbody>\n",
       "</table>\n",
       "</div>"
      ],
      "text/plain": [
       "  ref  quantities  prix_vente\n",
       "0   D         315        1640\n",
       "1   F         192        1240\n",
       "2   B         198         500\n",
       "3   A         225         280\n",
       "4   C         518          36\n",
       "5   E         420          18\n",
       "6   G         600          12"
      ]
     },
     "execution_count": 7,
     "metadata": {},
     "output_type": "execute_result"
    }
   ],
   "source": [
    "df = pd.DataFrame(mydict)\n",
    "df"
   ]
  },
  {
   "cell_type": "code",
   "execution_count": 8,
   "metadata": {},
   "outputs": [
    {
     "data": {
      "text/html": [
       "<div>\n",
       "<style scoped>\n",
       "    .dataframe tbody tr th:only-of-type {\n",
       "        vertical-align: middle;\n",
       "    }\n",
       "\n",
       "    .dataframe tbody tr th {\n",
       "        vertical-align: top;\n",
       "    }\n",
       "\n",
       "    .dataframe thead th {\n",
       "        text-align: right;\n",
       "    }\n",
       "</style>\n",
       "<table border=\"1\" class=\"dataframe\">\n",
       "  <thead>\n",
       "    <tr style=\"text-align: right;\">\n",
       "      <th></th>\n",
       "      <th>ref</th>\n",
       "      <th>quantities</th>\n",
       "      <th>prix_vente</th>\n",
       "      <th>CA</th>\n",
       "      <th>%CA</th>\n",
       "      <th>%CAcumul</th>\n",
       "      <th>%Q</th>\n",
       "      <th>%Qcumul</th>\n",
       "    </tr>\n",
       "  </thead>\n",
       "  <tbody>\n",
       "    <tr>\n",
       "      <th>0</th>\n",
       "      <td>D</td>\n",
       "      <td>315</td>\n",
       "      <td>1640</td>\n",
       "      <td>516600</td>\n",
       "      <td>54.373911</td>\n",
       "      <td>54.373911</td>\n",
       "      <td>12.763371</td>\n",
       "      <td>12.763371</td>\n",
       "    </tr>\n",
       "    <tr>\n",
       "      <th>1</th>\n",
       "      <td>F</td>\n",
       "      <td>192</td>\n",
       "      <td>1240</td>\n",
       "      <td>238080</td>\n",
       "      <td>25.058731</td>\n",
       "      <td>79.432642</td>\n",
       "      <td>7.779579</td>\n",
       "      <td>20.542950</td>\n",
       "    </tr>\n",
       "    <tr>\n",
       "      <th>2</th>\n",
       "      <td>B</td>\n",
       "      <td>198</td>\n",
       "      <td>500</td>\n",
       "      <td>99000</td>\n",
       "      <td>10.420087</td>\n",
       "      <td>89.852729</td>\n",
       "      <td>8.022690</td>\n",
       "      <td>28.565640</td>\n",
       "    </tr>\n",
       "    <tr>\n",
       "      <th>3</th>\n",
       "      <td>A</td>\n",
       "      <td>225</td>\n",
       "      <td>280</td>\n",
       "      <td>63000</td>\n",
       "      <td>6.630965</td>\n",
       "      <td>96.483694</td>\n",
       "      <td>9.116694</td>\n",
       "      <td>37.682334</td>\n",
       "    </tr>\n",
       "    <tr>\n",
       "      <th>4</th>\n",
       "      <td>C</td>\n",
       "      <td>518</td>\n",
       "      <td>36</td>\n",
       "      <td>18648</td>\n",
       "      <td>1.962766</td>\n",
       "      <td>98.446460</td>\n",
       "      <td>20.988655</td>\n",
       "      <td>58.670989</td>\n",
       "    </tr>\n",
       "    <tr>\n",
       "      <th>5</th>\n",
       "      <td>E</td>\n",
       "      <td>420</td>\n",
       "      <td>18</td>\n",
       "      <td>7560</td>\n",
       "      <td>0.795716</td>\n",
       "      <td>99.242175</td>\n",
       "      <td>17.017828</td>\n",
       "      <td>75.688817</td>\n",
       "    </tr>\n",
       "    <tr>\n",
       "      <th>6</th>\n",
       "      <td>G</td>\n",
       "      <td>600</td>\n",
       "      <td>12</td>\n",
       "      <td>7200</td>\n",
       "      <td>0.757825</td>\n",
       "      <td>100.000000</td>\n",
       "      <td>24.311183</td>\n",
       "      <td>100.000000</td>\n",
       "    </tr>\n",
       "  </tbody>\n",
       "</table>\n",
       "</div>"
      ],
      "text/plain": [
       "  ref  quantities  prix_vente      CA        %CA    %CAcumul         %Q  \\\n",
       "0   D         315        1640  516600  54.373911   54.373911  12.763371   \n",
       "1   F         192        1240  238080  25.058731   79.432642   7.779579   \n",
       "2   B         198         500   99000  10.420087   89.852729   8.022690   \n",
       "3   A         225         280   63000   6.630965   96.483694   9.116694   \n",
       "4   C         518          36   18648   1.962766   98.446460  20.988655   \n",
       "5   E         420          18    7560   0.795716   99.242175  17.017828   \n",
       "6   G         600          12    7200   0.757825  100.000000  24.311183   \n",
       "\n",
       "      %Qcumul  \n",
       "0   12.763371  \n",
       "1   20.542950  \n",
       "2   28.565640  \n",
       "3   37.682334  \n",
       "4   58.670989  \n",
       "5   75.688817  \n",
       "6  100.000000  "
      ]
     },
     "execution_count": 8,
     "metadata": {},
     "output_type": "execute_result"
    }
   ],
   "source": [
    "df['CA']=df['prix_vente']*df['quantities']\n",
    "df['%CA']=df['CA']/df['CA'].sum()*100\n",
    "df['%CAcumul']=df['%CA'].cumsum()\n",
    "\n",
    "df['%Q']=df['quantities']/df['quantities'].sum()*100\n",
    "df['%Qcumul']=df['%Q'].cumsum()\n",
    "df"
   ]
  },
  {
   "cell_type": "code",
   "execution_count": 9,
   "metadata": {},
   "outputs": [
    {
     "data": {
      "text/plain": [
       "<Axes: xlabel='ref'>"
      ]
     },
     "execution_count": 9,
     "metadata": {},
     "output_type": "execute_result"
    },
    {
     "data": {
      "image/png": "[encoded data removed]",
      "text/plain": [
       "<Figure size 640x480 with 1 Axes>"
      ]
     },
     "metadata": {},
     "output_type": "display_data"
    }
   ],
   "source": [
    "df.plot.bar(x='ref',y='CA')"
   ]
  },
  {
   "cell_type": "code",
   "execution_count": 10,
   "metadata": {},
   "outputs": [
    {
     "data": {
      "text/plain": [
       "<Axes: xlabel='ref'>"
      ]
     },
     "execution_count": 10,
     "metadata": {},
     "output_type": "execute_result"
    },
    {
     "data": {
      "image/png": "[encoded data removed]",
      "text/plain": [
       "<Figure size 640x480 with 1 Axes>"
      ]
     },
     "metadata": {},
     "output_type": "display_data"
    }
   ],
   "source": [
    "df.plot(x='ref',y=['%CAcumul','%Qcumul'],grid=True)"
   ]
  },
  {
   "cell_type": "markdown",
   "metadata": {},
   "source": [
    "Les produits D et F produisent 80% du chiffre d'affaires avec seulement 20% de quantité.\n",
    "\n",
    "Les autres produits ne font que les 20% restant.\n"
   ]
  }
 ],
 "metadata": {
  "kernelspec": {
   "display_name": "Python 3",
   "language": "python",
   "name": "python3"
  },
  "language_info": {
   "codemirror_mode": {
    "name": "ipython",
    "version": 3
   },
   "file_extension": ".py",
   "mimetype": "text/x-python",
   "name": "python",
   "nbconvert_exporter": "python",
   "pygments_lexer": "ipython3",
   "version": "3.11.4"
  },
  "orig_nbformat": 4
 },
 "nbformat": 4,
 "nbformat_minor": 2
}
