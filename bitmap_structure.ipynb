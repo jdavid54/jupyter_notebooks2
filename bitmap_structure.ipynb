{
 "cells": [
  {
   "cell_type": "code",
   "execution_count": 133,
   "metadata": {},
   "outputs": [],
   "source": [
    "import numpy as np\n"
   ]
  },
  {
   "cell_type": "code",
   "execution_count": 134,
   "metadata": {},
   "outputs": [],
   "source": [
    "''' BMP header fields\n",
    "    uint16_t headerField;\n",
    "    uint32_t fileSize;\n",
    "    uint32_t imageOffset;\n",
    "    // DIB header\n",
    "    uint32_t headerSize;\n",
    "    uint32_t imageWidth;\n",
    "    uint32_t imageHeight;\n",
    "    uint16_t colourPlanes;\n",
    "    uint16_t bitsPerPixel;\n",
    "    uint32_t compression;\n",
    "    uint32_t imageSize;\n",
    "    uint32_t xPixelsPerMeter;\n",
    "    uint32_t yPixelsPerMeter;\n",
    "    uint32_t totalColors;\n",
    "    uint32_t importantColors;\n",
    "'''\n",
    "class BitmapHeader():\n",
    "    \n",
    "\n",
    "    \n",
    "\n",
    "    def __init__(self, arr):\n",
    "        # BMP header fields\n",
    "        # fileType = np.ones(4,int)\n",
    "        # fileSize = np.ones(4,int)\n",
    "        # res1 = np.ones(2,int)\n",
    "        # res2 = np.ones(2,int)\n",
    "        # pixelDataOffSet = np.ones(4,int)\n",
    "        \n",
    "        self.fileType = arr[:4]\n",
    "        self.fileSize = arr[4:8]\n",
    "        self.res1 = arr[8:10]\n",
    "        self.res2 = arr[10:12]\n",
    "        self.pixelDataOffset = arr[12:16]\n",
    "        self.header =[\n",
    "            self.fileType,\n",
    "            self.fileSize, \n",
    "            self.res1,\n",
    "            self.res2,\n",
    "            self.pixelDataOffset\n",
    "        ]\n",
    "        # DIB header\n",
    "        # self.headerSize = np.ones(4,int)\n",
    "        # self.imageWidth = np.ones(4,int)\n",
    "        # imageHeight = np.ones(4,int)\n",
    "        # colourPlanes = np.ones(2,int)\n",
    "        # bitsPerPixel = np.ones(2,int)\n",
    "        # compression = np.ones(4,int)\n",
    "        # imageSize = np.ones(4,int)\n",
    "        # xPixelsPerMeter = np.ones(4,int)\n",
    "        # yPixelsPerMeter = np.ones(4,int)\n",
    "        # totalColors = np.ones(4,int)\n",
    "        # importantColors = np.ones(4,int)\n",
    "        self.headerSize = arr[16:20]\n",
    "        self.imageWidth = arr[20:24]\n",
    "        self.imageHeight = arr[24:28]\n",
    "        self.colorPlanes = arr[28:30]\n",
    "        self.bitsPerPixel = arr[30:32]\n",
    "        self.compression = arr[32:36]\n",
    "        self.imageSize = arr[36:40]\n",
    "        self.xPixelsPerMeter = arr[40:44]\n",
    "        self.yPixelsPerMeter = arr[44:48]\n",
    "        self.totalColors = arr[48:52]\n",
    "        self.importantColors = arr[52:]\n",
    "        \n",
    "        self.dib=[\n",
    "            self.headerSize, \n",
    "            self.imageWidth,\n",
    "            self.imageHeight, \n",
    "            self.colorPlanes, \n",
    "            self.compression, \n",
    "            self.imageSize,\n",
    "            self.xPixelsPerMeter, \n",
    "            self.yPixelsPerMeter, \n",
    "            self.totalColors,\n",
    "            self.importantColors\n",
    "        ]\n",
    "    \n",
    "    def get_header(self):\n",
    "        print(self.header)\n",
    "\n",
    "    def get_dib(self):\n",
    "        print(self.dib)\n",
    "        \n"
   ]
  },
  {
   "cell_type": "code",
   "execution_count": 135,
   "metadata": {},
   "outputs": [
    {
     "data": {
      "text/plain": [
       "array([0.95479113, 0.81630631, 0.74451557, 0.47636985, 0.32711681,\n",
       "       0.30831839, 0.23876651, 0.69195308, 0.89371229, 0.22165821,\n",
       "       0.06237512, 0.89083694, 0.96724832, 0.63738417, 0.33533744,\n",
       "       0.67673319, 0.83063276, 0.56353474, 0.47084199, 0.09230268,\n",
       "       0.49275234, 0.11199142, 0.43665662, 0.78490356, 0.61769949,\n",
       "       0.47034647, 0.75802494, 0.29681912, 0.12135726, 0.97858479,\n",
       "       0.99897888, 0.59411149, 0.11810791, 0.29027905, 0.03605465,\n",
       "       0.99087312, 0.23050531, 0.68468488, 0.61870059, 0.11602308,\n",
       "       0.89944212, 0.15153566, 0.5239405 , 0.77067056, 0.61371352,\n",
       "       0.93763742, 0.73625062, 0.93986317, 0.08530369, 0.04999106,\n",
       "       0.23744197, 0.70159582, 0.13050971, 0.04835193, 0.60854301,\n",
       "       0.06777326])"
      ]
     },
     "execution_count": 135,
     "metadata": {},
     "output_type": "execute_result"
    }
   ],
   "source": [
    "import random\n",
    "data = np.random.rand(56)\n",
    "data\n"
   ]
  },
  {
   "cell_type": "code",
   "execution_count": 136,
   "metadata": {},
   "outputs": [
    {
     "data": {
      "text/plain": [
       "array([0.95479113, 0.81630631, 0.74451557, 0.47636985, 0.32711681,\n",
       "       0.30831839, 0.23876651, 0.69195308, 0.89371229, 0.22165821,\n",
       "       0.06237512, 0.89083694, 0.96724832, 0.63738417, 0.33533744,\n",
       "       0.67673319])"
      ]
     },
     "execution_count": 136,
     "metadata": {},
     "output_type": "execute_result"
    }
   ],
   "source": [
    "data[:16]"
   ]
  },
  {
   "cell_type": "code",
   "execution_count": 137,
   "metadata": {},
   "outputs": [
    {
     "data": {
      "text/plain": [
       "array([0.83063276, 0.56353474, 0.47084199, 0.09230268, 0.49275234,\n",
       "       0.11199142, 0.43665662, 0.78490356, 0.61769949, 0.47034647,\n",
       "       0.75802494, 0.29681912, 0.12135726, 0.97858479, 0.99897888,\n",
       "       0.59411149, 0.11810791, 0.29027905, 0.03605465, 0.99087312,\n",
       "       0.23050531, 0.68468488, 0.61870059, 0.11602308, 0.89944212,\n",
       "       0.15153566, 0.5239405 , 0.77067056, 0.61371352, 0.93763742,\n",
       "       0.73625062, 0.93986317, 0.08530369, 0.04999106, 0.23744197,\n",
       "       0.70159582, 0.13050971, 0.04835193, 0.60854301, 0.06777326])"
      ]
     },
     "execution_count": 137,
     "metadata": {},
     "output_type": "execute_result"
    }
   ],
   "source": [
    "data[16:]"
   ]
  },
  {
   "cell_type": "code",
   "execution_count": 138,
   "metadata": {},
   "outputs": [
    {
     "name": "stdout",
     "output_type": "stream",
     "text": [
      "[array([0.95479113, 0.81630631, 0.74451557, 0.47636985]), array([0.32711681, 0.30831839, 0.23876651, 0.69195308]), array([0.89371229, 0.22165821]), array([0.06237512, 0.89083694]), array([0.96724832, 0.63738417, 0.33533744, 0.67673319])]\n"
     ]
    }
   ],
   "source": [
    "bmp = BitmapHeader(data)\n",
    "bmp.get_header()"
   ]
  },
  {
   "cell_type": "code",
   "execution_count": 139,
   "metadata": {},
   "outputs": [
    {
     "name": "stdout",
     "output_type": "stream",
     "text": [
      "[array([0.83063276, 0.56353474, 0.47084199, 0.09230268]), array([0.49275234, 0.11199142, 0.43665662, 0.78490356]), array([0.61769949, 0.47034647, 0.75802494, 0.29681912]), array([0.12135726, 0.97858479]), array([0.11810791, 0.29027905, 0.03605465, 0.99087312]), array([0.23050531, 0.68468488, 0.61870059, 0.11602308]), array([0.89944212, 0.15153566, 0.5239405 , 0.77067056]), array([0.61371352, 0.93763742, 0.73625062, 0.93986317]), array([0.08530369, 0.04999106, 0.23744197, 0.70159582]), array([0.13050971, 0.04835193, 0.60854301, 0.06777326])]\n"
     ]
    }
   ],
   "source": [
    "bmp.get_dib()"
   ]
  }
 ],
 "metadata": {
  "kernelspec": {
   "display_name": "Python 3",
   "language": "python",
   "name": "python3"
  },
  "language_info": {
   "codemirror_mode": {
    "name": "ipython",
    "version": 3
   },
   "file_extension": ".py",
   "mimetype": "text/x-python",
   "name": "python",
   "nbconvert_exporter": "python",
   "pygments_lexer": "ipython3",
   "version": "3.11.4"
  }
 },
 "nbformat": 4,
 "nbformat_minor": 2
}
