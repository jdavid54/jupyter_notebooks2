{
 "cells": [
  {
   "cell_type": "code",
   "execution_count": null,
   "metadata": {},
   "outputs": [],
   "source": [
    "import requests\n",
    "import urllib3\n",
    "urllib3.disable_warnings(urllib3.exceptions.InsecureRequestWarning)\n",
    "from bs4 import BeautifulSoup\n",
    "\n",
    "url = \"https://www.ligue1.fr/fr-FR/classement/buteurs\"\n",
    "#j=input('Quelle journee ? (0 pour derniere journee) : ')\n",
    "#if j:url = \"https://www.lfp.fr/ligue1/classement?journee1=0&journee2=\"+str(j)+\"&cat=Gen\"\n",
    "\n",
    "result = requests.get(url, verify=False)\n",
    "src = result.content\n",
    "\n",
    "\n",
    "# In[183]:\n",
    "\n",
    "\n",
    "soup = BeautifulSoup(src, 'lxml')\n",
    "print(soup.prettify())"
   ]
  },
  {
   "cell_type": "code",
   "execution_count": null,
   "metadata": {},
   "outputs": [],
   "source": [
    "table = soup.find(class_='player-stats-table')\n",
    "print(table.prettify())"
   ]
  },
  {
   "cell_type": "code",
   "execution_count": null,
   "metadata": {},
   "outputs": [],
   "source": [
    "head = table.find(class_='player-stats-table-heading')\n",
    "print(head.prettify())"
   ]
  },
  {
   "cell_type": "code",
   "execution_count": null,
   "metadata": {},
   "outputs": [],
   "source": [
    "table_head = head.find_all('div')\n",
    "for s in table_head:\n",
    "    print(s.contents[0], end='\\t')"
   ]
  },
  {
   "cell_type": "code",
   "execution_count": null,
   "metadata": {
    "scrolled": true
   },
   "outputs": [],
   "source": [
    "print(table_head)"
   ]
  },
  {
   "cell_type": "code",
   "execution_count": null,
   "metadata": {},
   "outputs": [],
   "source": [
    "body = table.find(class_='player-my-stats-table-body')\n",
    "print(body.prettify())"
   ]
  },
  {
   "cell_type": "code",
   "execution_count": null,
   "metadata": {},
   "outputs": [],
   "source": [
    "li_tags = body.find_all(class_='desktop-item')\n",
    "#print(li_tags)\n",
    "print(len(li_tags), li_tags[0].prettify())"
   ]
  },
  {
   "cell_type": "code",
   "execution_count": null,
   "metadata": {},
   "outputs": [],
   "source": [
    "col = li_tags[0].find_all('div')\n",
    "print(col[1].contents[2])\n",
    "print(col[2].contents[2])\n",
    "print(col[3].contents[2])\n",
    "print(col[4].contents[0])"
   ]
  },
  {
   "cell_type": "code",
   "execution_count": null,
   "metadata": {},
   "outputs": [],
   "source": [
    "row = {}\n",
    "row[table_head[0].contents[0]] = col[0].contents[0]\n",
    "row[table_head[1].contents[0]] = col[1].contents[2]\n",
    "row[table_head[2].contents[0]] = col[2].contents[2]\n",
    "row[table_head[3].contents[0]] = col[3].contents[2]\n",
    "row[table_head[4].contents[0]] = col[4].contents[0]\n",
    "print(row)"
   ]
  },
  {
   "cell_type": "code",
   "execution_count": null,
   "metadata": {},
   "outputs": [],
   "source": [
    "def create_row(position):\n",
    "    row = {}\n",
    "    col =  li_tags[position].find_all('div')\n",
    "    row[table_head[0].contents[0]] = col[0].contents[0]\n",
    "    row[table_head[1].contents[0]] = col[1].contents[2].replace('\\r\\n','').strip()\n",
    "    row[table_head[2].contents[0]] = col[2].contents[2].replace('\\r\\n','').strip()\n",
    "    row[table_head[3].contents[0]] = col[3].contents[2].replace('\\r\\n','').strip()\n",
    "    row[table_head[4].contents[0]] = col[4].contents[0].replace('\\r\\n','').strip()\n",
    "    print(row)\n",
    "    return row\n",
    "rows = []    \n",
    "for n in range(50):\n",
    "    rows.append(create_row(n))"
   ]
  },
  {
   "cell_type": "code",
   "execution_count": null,
   "metadata": {},
   "outputs": [],
   "source": [
    "import pandas as pd\n",
    "\n",
    "df  = pd.DataFrame.from_dict(rows)\n",
    "df"
   ]
  },
  {
   "cell_type": "code",
   "execution_count": null,
   "metadata": {},
   "outputs": [],
   "source": [
    "df.info()"
   ]
  },
  {
   "cell_type": "code",
   "execution_count": null,
   "metadata": {},
   "outputs": [],
   "source": [
    "df.iloc[:,4]=df.iloc[:,4].astype('int') \n",
    "#type(df.iloc[0,1])\n",
    "df.info()"
   ]
  },
  {
   "cell_type": "code",
   "execution_count": null,
   "metadata": {},
   "outputs": [],
   "source": [
    "df.set_index('POSITION', drop=True, inplace=True)\n",
    "df"
   ]
  },
  {
   "cell_type": "code",
   "execution_count": null,
   "metadata": {},
   "outputs": [],
   "source": [
    "df.to_csv('ligue1_2020_buteurs.txt', sep = ',')"
   ]
  },
  {
   "cell_type": "code",
   "execution_count": null,
   "metadata": {},
   "outputs": [],
   "source": [
    "df.describe()"
   ]
  },
  {
   "cell_type": "code",
   "execution_count": null,
   "metadata": {},
   "outputs": [],
   "source": [
    "def moyVar(X):\n",
    "    n = len(X)\n",
    "    if n==0:\n",
    "        return None\n",
    "    else:\n",
    "        s1, s2 = 0, 0\n",
    "        for x in X:\n",
    "            s1 = s1 + x\n",
    "            s2 = s2 + x*x\n",
    "        m = s1/n\n",
    "        return m,s2/n - m**2\n",
    "\n",
    "def moyVarP(X, N):\n",
    "    p1, p2 = len(X), len(N)\n",
    "    if p1==0 or p2 != p1:\n",
    "        return None\n",
    "    else:\n",
    "        s1, s2, n = 0, 0, 0\n",
    "        for k in range(1,p1):\n",
    "            n = n + N[k]\n",
    "            z = N[k]*X[k]\n",
    "            s1 = s1 + z\n",
    "            s2 = s2 + z*X[k]\n",
    "        m = s1/n\n",
    "        return m,s2/n - m**2"
   ]
  },
  {
   "cell_type": "code",
   "execution_count": null,
   "metadata": {},
   "outputs": [],
   "source": [
    "moyenne,variance=moyVar(df.Buts)\n",
    "\n",
    "print(df[df.Buts>moyenne])"
   ]
  },
  {
   "cell_type": "code",
   "execution_count": null,
   "metadata": {},
   "outputs": [],
   "source": [
    "import numpy as np\n",
    "import matplotlib.pyplot as plt\n",
    "l = len(df)\n",
    "x = np.arange(l)\n",
    "y = df.Buts\n",
    "plt.plot(x,y)\n",
    "plt.plot(x,np.ones(l)*moyenne)\n",
    "plt.plot(x,np.ones(l)*variance)\n",
    "plt.show()"
   ]
  },
  {
   "cell_type": "code",
   "execution_count": null,
   "metadata": {},
   "outputs": [],
   "source": []
  }
 ],
 "metadata": {
  "kernelspec": {
   "display_name": "Python 3",
   "language": "python",
   "name": "python3"
  },
  "language_info": {
   "codemirror_mode": {
    "name": "ipython",
    "version": 3
   },
   "file_extension": ".py",
   "mimetype": "text/x-python",
   "name": "python",
   "nbconvert_exporter": "python",
   "pygments_lexer": "ipython3",
   "version": "3.12.3"
  }
 },
 "nbformat": 4,
 "nbformat_minor": 2
}
