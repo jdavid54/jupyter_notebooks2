{
 "cells": [
  {
   "cell_type": "code",
   "execution_count": 1,
   "metadata": {},
   "outputs": [],
   "source": [
    "#pip install sc-google-maps-api"
   ]
  },
  {
   "cell_type": "code",
   "execution_count": 2,
   "metadata": {},
   "outputs": [],
   "source": [
    "#pip install googlesearch-python"
   ]
  },
  {
   "cell_type": "code",
   "execution_count": 3,
   "metadata": {},
   "outputs": [],
   "source": [
    "#pip install googleapi"
   ]
  },
  {
   "cell_type": "code",
   "execution_count": 12,
   "metadata": {},
   "outputs": [
    {
     "data": {
      "text/plain": [
       "['https://encrypted-tbn0.gstatic.com/images?q=tbn:ANd9GcQjzC2JyZDZ_RaWf0qp11K0lcvB6b6kYNMoqtZAQ9hiPZ4cTIOB',\n",
       " 'https://en.wikipedia.org/wiki/Google',\n",
       " 'https://twitter.com/Google',\n",
       " 'https://fr.wikipedia.org/wiki/Google',\n",
       " 'https://apps.apple.com/us/app/google/id284815942',\n",
       " 'https://www.facebook.com/Google/',\n",
       " 'https://www.youtube.com/google',\n",
       " 'https://www.bfmtv.com/tech/google/grace-a-l-ia-google-vous-laisse-desormais-confectionner-vous-meme-vos-arriere-plan-de-visio_AV-202307190214.html',\n",
       " 'https://www.coursera.org/professional-certificates/google-data-analytics',\n",
       " 'https://www.android.com/better-together/nearby-share-app/',\n",
       " 'https://www.facebook.com/GoogleFrance/']"
      ]
     },
     "execution_count": 12,
     "metadata": {},
     "output_type": "execute_result"
    }
   ],
   "source": [
    "from googlesearch import search\n",
    "list(search(\"Google\"))\n",
    "# parameters search(term, num_results=10, lang=\"en\", proxy=None, advanced=False, sleep_interval=0, timeout=5):"
   ]
  },
  {
   "cell_type": "code",
   "execution_count": 23,
   "metadata": {},
   "outputs": [
    {
     "data": {
      "text/plain": [
       "'\\nparams = {\\n  \"api_key\": \"fcc67229497391325ba240fe20b1e0c62dc698e3f5b2cbc935ddf4f33a003bbc\",\\n  \"engine\": \"google\",\\n  \"q\": \"euro vs vn dong\",\\n  \"location\": \"France\",\\n  \"google_domain\": \"google.fr\",\\n  \"gl\": \"fr\",\\n  \"hl\": \"fr\"\\n}\\n\\nresult = search(params)\\n\\nfor k in result:\\n    print(k)\\n#list(result)\\nresults = result.get_dict()\\n'"
      ]
     },
     "execution_count": 23,
     "metadata": {},
     "output_type": "execute_result"
    }
   ],
   "source": [
    "'''\n",
    "params = {\n",
    "  \"api_key\": \"fcc67229497391325ba240fe20b1e0c62dc698e3f5b2cbc935ddf4f33a003bbc\",\n",
    "  \"engine\": \"google\",\n",
    "  \"q\": \"euro vs vn dong\",\n",
    "  \"location\": \"France\",\n",
    "  \"google_domain\": \"google.fr\",\n",
    "  \"gl\": \"fr\",\n",
    "  \"hl\": \"fr\"\n",
    "}\n",
    "\n",
    "result = search(params)\n",
    "\n",
    "for k in result:\n",
    "    print(k)\n",
    "#list(result)\n",
    "results = result.get_dict()\n",
    "'''"
   ]
  },
  {
   "cell_type": "code",
   "execution_count": null,
   "metadata": {},
   "outputs": [],
   "source": [
    "\n",
    "#from google_api_core import google #ScrapeitCloudClient\n"
   ]
  },
  {
   "cell_type": "code",
   "execution_count": 17,
   "metadata": {},
   "outputs": [],
   "source": [
    "from sc_google_maps_api import ScrapeitCloudClient\n",
    "#import serpapi\n"
   ]
  },
  {
   "cell_type": "code",
   "execution_count": 30,
   "metadata": {},
   "outputs": [
    {
     "name": "stdout",
     "output_type": "stream",
     "text": [
      "{\"status\":\"ok\",\"scrapingResult\":{\"pagination\":{\"start\":0},\"locals\":[{\"position\":1,\"title\":\"Pizza im Haus\",\"phone\":\"03601 408899\",\"address\":\"Johannisstraße 2, 99974 Mühlhausen/Thüringen\",\"website\":\"https://pizza-im-haus.eatbu.com/\",\"workingHours\":{\"timezone\":\"Europe/Berlin\",\"days\":[{\"day\":\"Wednesday\",\"time\":\"11 am–2 pm\",\"date\":\"2023-07-19\"},{\"day\":\"Thursday\",\"time\":\"11 am–2 pm\",\"date\":\"2023-07-20\"},{\"day\":\"Friday\",\"time\":\"11 am–2 pm\",\"date\":\"2023-07-21\"},{\"day\":\"Saturday\",\"time\":\"11 am–2 pm\",\"date\":\"2023-07-22\"},{\"day\":\"Sunday\",\"time\":\"4–10 pm\",\"date\":\"2023-07-23\"},{\"day\":\"Monday\",\"time\":\"Closed\",\"date\":\"2023-07-24\"},{\"day\":\"Tuesday\",\"time\":\"11 am–2 pm\",\"date\":\"2023-07-25\"}]},\"rating\":4.2,\"reviews\":203,\"type\":\"Pizza restaurant\",\"gpsCoordinates\":{\"latitude\":51.209890599999994,\"longitude\":10.4501928}},{\"position\":2,\"title\":\"Pizzeria Alpina IV\",\"phone\":\"03601 406492\",\"address\":\"Eisenacher Str. 1A, 99974 Mühlhausen/Thüringen\",\"website\":\"http://www.pizzeria-alpina.de/\",\"workingHours\":{\"timezone\":\"Europe/Berlin\",\"days\":[{\"day\":\"Wednesday\",\"time\":\"11 am–9:30 pm\",\"date\":\"2023-07-19\"},{\"day\":\"Thursday\",\"time\":\"11 am–9:30 pm\",\"date\":\"2023-07-20\"},{\"day\":\"Friday\",\"time\":\"11 am–9:30 pm\",\"date\":\"2023-07-21\"},{\"day\":\"Saturday\",\"time\":\"2–9 pm\",\"date\":\"2023-07-22\"},{\"day\":\"Sunday\",\"time\":\"2–9 pm\",\"date\":\"2023-07-23\"},{\"day\":\"Monday\",\"time\":\"Closed\",\"date\":\"2023-07-24\"},{\"day\":\"Tuesday\",\"time\":\"11 am–9:30 pm\",\"date\":\"2023-07-25\"}]},\"rating\":4.3,\"reviews\":268,\"type\":\"Pizza restaurant\",\"gpsCoordinates\":{\"latitude\":51.2056401,\"longitude\":10.460440499999999}},{\"position\":3,\"title\":\"Pinocchio Pizza und Pasta\",\"phone\":\"03601 423333\",\"address\":\"Görmarstraße 66, 99974 Mühlhausen/Thüringen\",\"website\":\"https://www.pinocchio-muehlhausen.de/\",\"workingHours\":{\"timezone\":\"Europe/Berlin\",\"days\":[{\"day\":\"Wednesday\",\"time\":\"11 am–2:30 pm\",\"date\":\"2023-07-19\"},{\"day\":\"Thursday\",\"time\":\"11 am–2:30 pm\",\"date\":\"2023-07-20\"},{\"day\":\"Friday\",\"time\":\"11 am–2:30 pm\",\"date\":\"2023-07-21\"},{\"day\":\"Saturday\",\"time\":\"11 am–2:30 pm\",\"date\":\"2023-07-22\"},{\"day\":\"Sunday\",\"time\":\"11 am–2:30 pm\",\"date\":\"2023-07-23\"},{\"day\":\"Monday\",\"time\":\"11 am–2:30 pm\",\"date\":\"2023-07-24\"},{\"day\":\"Tuesday\",\"time\":\"Closed\",\"date\":\"2023-07-25\"}]},\"rating\":4.4,\"reviews\":545,\"type\":\"Pizza restaurant\",\"gpsCoordinates\":{\"latitude\":51.2087863,\"longitude\":10.462441799999999}},{\"position\":4,\"title\":\"Pizza King Mühlhausen\",\"phone\":\"03601 8887838\",\"address\":\"Feldstraße, 99974 Mühlhausen/Thüringen\",\"website\":\"https://pizza-king-muehlhausen.eatbu.com/\",\"workingHours\":{\"timezone\":\"Europe/Berlin\",\"days\":[{\"day\":\"Wednesday\",\"time\":\"Closed\",\"date\":\"2023-07-19\"},{\"day\":\"Thursday\",\"time\":\"11 am–10 pm\",\"date\":\"2023-07-20\"},{\"day\":\"Friday\",\"time\":\"11 am–10 pm\",\"date\":\"2023-07-21\"},{\"day\":\"Saturday\",\"time\":\"11 am–10 pm\",\"date\":\"2023-07-22\"},{\"day\":\"Sunday\",\"time\":\"11 am–10 pm\",\"date\":\"2023-07-23\"},{\"day\":\"Monday\",\"time\":\"11 am–10 pm\",\"date\":\"2023-07-24\"},{\"day\":\"Tuesday\",\"time\":\"11 am–10 pm\",\"date\":\"2023-07-25\"}]},\"rating\":3.8,\"reviews\":38,\"type\":\"Pizza restaurant\",\"gpsCoordinates\":{\"latitude\":51.2126484,\"longitude\":10.463536099999999}},{\"position\":5,\"title\":\"Pizzeria Flamingo\",\"phone\":\"03603 1277589\",\"address\":\"Steingrubenstraße 7, 99947 Bad Langensalza\",\"website\":\"null\",\"workingHours\":{\"timezone\":\"Europe/Berlin\",\"days\":[{\"day\":\"Wednesday\",\"time\":\"10:30 am–9:30 pm\",\"date\":\"2023-07-19\"},{\"day\":\"Thursday\",\"time\":\"10:30 am–9:30 pm\",\"date\":\"2023-07-20\"},{\"day\":\"Friday\",\"time\":\"10:30 am–9:30 pm\",\"date\":\"2023-07-21\"},{\"day\":\"Saturday\",\"time\":\"10:30 am–9:30 pm\",\"date\":\"2023-07-22\"},{\"day\":\"Sunday\",\"time\":\"1–9:30 pm\",\"date\":\"2023-07-23\"},{\"day\":\"Monday\",\"time\":\"10:30 am–9:30 pm\",\"date\":\"2023-07-24\"},{\"day\":\"Tuesday\",\"time\":\"10:30 am–9:30 pm\",\"date\":\"2023-07-25\"}]},\"rating\":4.5,\"reviews\":123,\"type\":\"Pizza restaurant\",\"gpsCoordinates\":{\"latitude\":51.106533999999996,\"longitude\":10.644326}},{\"position\":6,\"title\":\"Pizzeria des Küchenchefs\",\"phone\":\"0162 1553503\",\"address\":\"Eisenacher Str. 41, 99974 Mühlhausen/Thüringen\",\"website\":\"null\",\"workingHours\":{\"timezone\":\"Europe/Berlin\",\"days\":[]},\"rating\":null,\"reviews\":null,\"type\":\"Pizza restaurant\",\"gpsCoordinates\":{\"latitude\":51.2058664,\"longitude\":10.460690099999999}},{\"position\":7,\"title\":\"Pizzeria Großengotten\",\"phone\":\"036022 18841\",\"address\":\"Marktstraße 9, 99991 Großengottern\",\"website\":\"null\",\"workingHours\":{\"timezone\":\"Europe/Berlin\",\"days\":[{\"day\":\"Wednesday\",\"time\":\"11 am–10 pm\",\"date\":\"2023-07-19\"},{\"day\":\"Thursday\",\"time\":\"11 am–10 pm\",\"date\":\"2023-07-20\"},{\"day\":\"Friday\",\"time\":\"11 am–10 pm\",\"date\":\"2023-07-21\"},{\"day\":\"Saturday\",\"time\":\"11 am–10 pm\",\"date\":\"2023-07-22\"},{\"day\":\"Sunday\",\"time\":\"3–10 pm\",\"date\":\"2023-07-23\"},{\"day\":\"Monday\",\"time\":\"Closed\",\"date\":\"2023-07-24\"},{\"day\":\"Tuesday\",\"time\":\"11 am–10 pm\",\"date\":\"2023-07-25\"}]},\"rating\":4,\"reviews\":93,\"type\":\"Pizza restaurant\",\"gpsCoordinates\":{\"latitude\":51.147756099999995,\"longitude\":10.5629901}},{\"position\":8,\"title\":\"Orient Pizzeria\",\"phone\":\"0174 7591400\",\"address\":\"Hauptstraße 21, 99713 Helbedündorf\",\"website\":\"https://orient-pizzaria.business.site/\",\"workingHours\":{\"timezone\":\"Europe/Berlin\",\"days\":[{\"day\":\"Wednesday\",\"time\":\"11 am–9 pm\",\"date\":\"2023-07-19\"},{\"day\":\"Thursday\",\"time\":\"11 am–9 pm\",\"date\":\"2023-07-20\"},{\"day\":\"Friday\",\"time\":\"11 am–9 pm\",\"date\":\"2023-07-21\"},{\"day\":\"Saturday\",\"time\":\"11 am–9 pm\",\"date\":\"2023-07-22\"},{\"day\":\"Sunday\",\"time\":\"12–9 pm\",\"date\":\"2023-07-23\"},{\"day\":\"Monday\",\"time\":\"Closed\",\"date\":\"2023-07-24\"},{\"day\":\"Tuesday\",\"time\":\"11 am–9 pm\",\"date\":\"2023-07-25\"}]},\"rating\":4.5,\"reviews\":29,\"type\":\"Pizza restaurant\",\"gpsCoordinates\":{\"latitude\":51.3324717,\"longitude\":10.529619}},{\"position\":9,\"title\":\"Freddy Fresh Pizza Mühlhausen\",\"phone\":\"03601 8868918\",\"address\":\"Marcel-Verfaillie-Allee 35, 99974 Mühlhausen/Thüringen\",\"website\":\"https://www.freddy-fresh.de/\",\"workingHours\":{\"timezone\":\"Europe/Berlin\",\"days\":[{\"day\":\"Wednesday\",\"time\":\"10:30 am–9 pm\",\"date\":\"2023-07-19\"},{\"day\":\"Thursday\",\"time\":\"10:30 am–9 pm\",\"date\":\"2023-07-20\"},{\"day\":\"Friday\",\"time\":\"10:30 am–9 pm\",\"date\":\"2023-07-21\"},{\"day\":\"Saturday\",\"time\":\"10:30 am–9 pm\",\"date\":\"2023-07-22\"},{\"day\":\"Sunday\",\"time\":\"10:30 am–9 pm\",\"date\":\"2023-07-23\"},{\"day\":\"Monday\",\"time\":\"10:30 am–9 pm\",\"date\":\"2023-07-24\"},{\"day\":\"Tuesday\",\"time\":\"10:30 am–9 pm\",\"date\":\"2023-07-25\"}]},\"rating\":4.2,\"reviews\":128,\"type\":\"Pizza restaurant\",\"gpsCoordinates\":{\"latitude\":51.2087333,\"longitude\":10.4423944}},{\"position\":10,\"title\":\"Med Grill\",\"phone\":\"036026 97588\",\"address\":\"Lange Str. 1, 99976 Rodeberg\",\"website\":\"http://med-grill.blogspot.de/\",\"workingHours\":{\"timezone\":\"Europe/Berlin\",\"days\":[{\"day\":\"Wednesday\",\"time\":\"11 am–10 pm\",\"date\":\"2023-07-19\"},{\"day\":\"Thursday\",\"time\":\"11 am–10 pm\",\"date\":\"2023-07-20\"},{\"day\":\"Friday\",\"time\":\"11 am–10 pm\",\"date\":\"2023-07-21\"},{\"day\":\"Saturday\",\"time\":\"2–10 pm\",\"date\":\"2023-07-22\"},{\"day\":\"Sunday\",\"time\":\"2–10 pm\",\"date\":\"2023-07-23\"},{\"day\":\"Monday\",\"time\":\"Closed\",\"date\":\"2023-07-24\"},{\"day\":\"Tuesday\",\"time\":\"11 am–10 pm\",\"date\":\"2023-07-25\"}]},\"rating\":4.4,\"reviews\":143,\"type\":\"Pizza restaurant\",\"gpsCoordinates\":{\"latitude\":51.2189633,\"longitude\":10.3074221}},{\"position\":11,\"title\":\"Pizza-Service Pico-Bello\",\"phone\":\"03603 846178\",\"address\":\"Wiebeckpl. 2, 99947 Bad Langensalza\",\"website\":\"http://www.picobello-pizza.de/\",\"workingHours\":{\"timezone\":\"Europe/Berlin\",\"days\":[{\"day\":\"Wednesday\",\"time\":\"5–10 pm\",\"date\":\"2023-07-19\"},{\"day\":\"Thursday\",\"time\":\"5–10 pm\",\"date\":\"2023-07-20\"},{\"day\":\"Friday\",\"time\":\"5–10 pm\",\"date\":\"2023-07-21\"},{\"day\":\"Saturday\",\"time\":\"5–10 pm\",\"date\":\"2023-07-22\"},{\"day\":\"Sunday\",\"time\":\"5–10 pm\",\"date\":\"2023-07-23\"},{\"day\":\"Monday\",\"time\":\"Closed\",\"date\":\"2023-07-24\"},{\"day\":\"Tuesday\",\"time\":\"5–10 pm\",\"date\":\"2023-07-25\"}]},\"rating\":4.3,\"reviews\":166,\"type\":\"Pizza restaurant\",\"gpsCoordinates\":{\"latitude\":51.1085332,\"longitude\":10.6438519}},{\"position\":12,\"title\":\"Pizzaria Küllstedt\",\"phone\":\"036075 409504\",\"address\":\"Hauptstraße 22, 37359 Küllstedt\",\"website\":\"null\",\"workingHours\":{\"timezone\":\"Europe/Berlin\",\"days\":[{\"day\":\"Wednesday\",\"time\":\"11 am–9:30 pm\",\"date\":\"2023-07-19\"},{\"day\":\"Thursday\",\"time\":\"11 am–9:30 pm\",\"date\":\"2023-07-20\"},{\"day\":\"Friday\",\"time\":\"11 am–9:30 pm\",\"date\":\"2023-07-21\"},{\"day\":\"Saturday\",\"time\":\"11 am–9:30 pm\",\"date\":\"2023-07-22\"},{\"day\":\"Sunday\",\"time\":\"3–9:30 pm\",\"date\":\"2023-07-23\"},{\"day\":\"Monday\",\"time\":\"Closed\",\"date\":\"2023-07-24\"},{\"day\":\"Tuesday\",\"time\":\"11 am–9:30 pm\",\"date\":\"2023-07-25\"}]},\"rating\":4.1,\"reviews\":71,\"type\":\"Pizza restaurant\",\"gpsCoordinates\":{\"latitude\":51.276149,\"longitude\":10.2797223}},{\"position\":13,\"title\":\"Venezia - Restaurant, Pizzeria, Eiskaffee italiano\",\"phone\":\"03603 895469\",\"address\":\"Marktstraße 31, 99947 Bad Langensalza\",\"website\":\"http://www.venezia-restaurant.de/\",\"workingHours\":{\"timezone\":\"Europe/Berlin\",\"days\":[{\"day\":\"Wednesday\",\"time\":\"10 am–12 am\",\"date\":\"2023-07-19\"},{\"day\":\"Thursday\",\"time\":\"10 am–12 am\",\"date\":\"2023-07-20\"},{\"day\":\"Friday\",\"time\":\"10 am–12 am\",\"date\":\"2023-07-21\"},{\"day\":\"Saturday\",\"time\":\"10 am–12 am\",\"date\":\"2023-07-22\"},{\"day\":\"Sunday\",\"time\":\"10 am–12 am\",\"date\":\"2023-07-23\"},{\"day\":\"Monday\",\"time\":\"10 am–12 am\",\"date\":\"2023-07-24\"},{\"day\":\"Tuesday\",\"time\":\"Closed\",\"date\":\"2023-07-25\"}]},\"rating\":4.2,\"reviews\":699,\"type\":\"Pizza restaurant\",\"gpsCoordinates\":{\"latitude\":51.108272199999995,\"longitude\":10.645909399999999}},{\"position\":14,\"title\":\"Pizza Casa\",\"phone\":\"03691 8817131\",\"address\":\"Marienstraße 39, 99817 Eisenach\",\"website\":\"null\",\"workingHours\":{\"timezone\":\"Europe/Berlin\",\"days\":[{\"day\":\"Wednesday\",\"time\":\"11 am–2:30 pm\",\"date\":\"2023-07-19\"},{\"day\":\"Thursday\",\"time\":\"11 am–2:30 pm\",\"date\":\"2023-07-20\"},{\"day\":\"Friday\",\"time\":\"11 am–2:30 pm\",\"date\":\"2023-07-21\"},{\"day\":\"Saturday\",\"time\":\"11 am–2:30 pm\",\"date\":\"2023-07-22\"},{\"day\":\"Sunday\",\"time\":\"11 am–2:30 pm\",\"date\":\"2023-07-23\"},{\"day\":\"Monday\",\"time\":\"11 am–2:30 pm\",\"date\":\"2023-07-24\"},{\"day\":\"Tuesday\",\"time\":\"Closed\",\"date\":\"2023-07-25\"}]},\"rating\":3.8,\"reviews\":58,\"type\":\"Pizza restaurant\",\"gpsCoordinates\":{\"latitude\":50.9698414,\"longitude\":10.323555299999999}},{\"position\":15,\"title\":\"Ristorante Paganini\",\"phone\":\"03601 885445\",\"address\":\"Karl-Liebknecht-Straße 1, 99974 Mühlhausen/Thüringen\",\"website\":\"https://paganini-muehlhausen.eatbu.com/\",\"workingHours\":{\"timezone\":\"Europe/Berlin\",\"days\":[{\"day\":\"Wednesday\",\"time\":\"11 am–2:30 pm\",\"date\":\"2023-07-19\"},{\"day\":\"Thursday\",\"time\":\"11 am–2:30 pm\",\"date\":\"2023-07-20\"},{\"day\":\"Friday\",\"time\":\"11 am–2:30 pm\",\"date\":\"2023-07-21\"},{\"day\":\"Saturday\",\"time\":\"11 am–2:30 pm\",\"date\":\"2023-07-22\"},{\"day\":\"Sunday\",\"time\":\"11 am–2:30 pm\",\"date\":\"2023-07-23\"},{\"day\":\"Monday\",\"time\":\"Closed\",\"date\":\"2023-07-24\"},{\"day\":\"Tuesday\",\"time\":\"11 am–2:30 pm\",\"date\":\"2023-07-25\"}]},\"rating\":4.5,\"reviews\":561,\"type\":\"Italian restaurant\",\"gpsCoordinates\":{\"latitude\":51.2066667,\"longitude\":10.4702778}},{\"position\":16,\"title\":\"Pizzeria Da Antonio\",\"phone\":\"03691 720350\",\"address\":\"Kasseler Str. 92, 99817 Eisenach\",\"website\":\"https://www.pizzeriadaantonio.de/\",\"workingHours\":{\"timezone\":\"Europe/Berlin\",\"days\":[{\"day\":\"Wednesday\",\"time\":\"11 am–2 pm\",\"date\":\"2023-07-19\"},{\"day\":\"Thursday\",\"time\":\"11 am–2 pm\",\"date\":\"2023-07-20\"},{\"day\":\"Friday\",\"time\":\"11 am–2 pm\",\"date\":\"2023-07-21\"},{\"day\":\"Saturday\",\"time\":\"11 am–2 pm\",\"date\":\"2023-07-22\"},{\"day\":\"Sunday\",\"time\":\"11 am–2 pm\",\"date\":\"2023-07-23\"},{\"day\":\"Monday\",\"time\":\"Closed\",\"date\":\"2023-07-24\"},{\"day\":\"Tuesday\",\"time\":\"11 am–2 pm\",\"date\":\"2023-07-25\"}]},\"rating\":4,\"reviews\":276,\"type\":\"Pizza restaurant\",\"gpsCoordinates\":{\"latitude\":50.983815,\"longitude\":10.300175}},{\"position\":17,\"title\":\"Pizza Haus Leinefelde\",\"phone\":\"03605 5478994\",\"address\":\"Berliner Str. 10, 37327 Leinefelde-Worbis\",\"website\":\"https://places8.top/pizza-haus-leinefelde\",\"workingHours\":{\"timezone\":\"Europe/Berlin\",\"days\":[{\"day\":\"Wednesday\",\"time\":\"5–10 pm\",\"date\":\"2023-07-19\"},{\"day\":\"Thursday\",\"time\":\"5–10 pm\",\"date\":\"2023-07-20\"},{\"day\":\"Friday\",\"time\":\"5–10 pm\",\"date\":\"2023-07-21\"},{\"day\":\"Saturday\",\"time\":\"5–10 pm\",\"date\":\"2023-07-22\"},{\"day\":\"Sunday\",\"time\":\"5–10 pm\",\"date\":\"2023-07-23\"},{\"day\":\"Monday\",\"time\":\"Closed\",\"date\":\"2023-07-24\"},{\"day\":\"Tuesday\",\"time\":\"5–10 pm\",\"date\":\"2023-07-25\"}]},\"rating\":4.8,\"reviews\":215,\"type\":\"Pizza restaurant\",\"gpsCoordinates\":{\"latitude\":51.389039,\"longitude\":10.322807}},{\"position\":18,\"title\":\"Pizzeria Rimini\",\"phone\":\"05655 1206\",\"address\":\"Vor dem Obertor 2, 37281 Wanfried\",\"website\":\"https://www.riminipizzataxi-wanfried.de/\",\"workingHours\":{\"timezone\":\"Europe/Berlin\",\"days\":[{\"day\":\"Wednesday\",\"time\":\"12–2 pm\",\"date\":\"2023-07-19\"},{\"day\":\"Thursday\",\"time\":\"12–2 pm\",\"date\":\"2023-07-20\"},{\"day\":\"Friday\",\"time\":\"12–2 pm\",\"date\":\"2023-07-21\"},{\"day\":\"Saturday\",\"time\":\"12–2 pm\",\"date\":\"2023-07-22\"},{\"day\":\"Sunday\",\"time\":\"12–2 pm\",\"date\":\"2023-07-23\"},{\"day\":\"Monday\",\"time\":\"12–2 pm\",\"date\":\"2023-07-24\"},{\"day\":\"Tuesday\",\"time\":\"12–2 pm\",\"date\":\"2023-07-25\"}]},\"rating\":4,\"reviews\":183,\"type\":\"Pizza restaurant\",\"gpsCoordinates\":{\"latitude\":51.179334399999995,\"longitude\":10.1733947}},{\"position\":19,\"title\":\"Rialto Pizza Service\",\"phone\":\"03691 203050\",\"address\":\"Kasseler Str. 35, 99817 Eisenach\",\"website\":\"null\",\"workingHours\":{\"timezone\":\"Europe/Berlin\",\"days\":[{\"day\":\"Wednesday\",\"time\":\"11 am–2:30 pm\",\"date\":\"2023-07-19\"},{\"day\":\"Thursday\",\"time\":\"11 am–2:30 pm\",\"date\":\"2023-07-20\"},{\"day\":\"Friday\",\"time\":\"11 am–2:30 pm\",\"date\":\"2023-07-21\"},{\"day\":\"Saturday\",\"time\":\"11 am–2:30 pm\",\"date\":\"2023-07-22\"},{\"day\":\"Sunday\",\"time\":\"12–10:30 pm\",\"date\":\"2023-07-23\"},{\"day\":\"Monday\",\"time\":\"11 am–2:30 pm\",\"date\":\"2023-07-24\"},{\"day\":\"Tuesday\",\"time\":\"11 am–2:30 pm\",\"date\":\"2023-07-25\"}]},\"rating\":4,\"reviews\":5,\"type\":\"Pizza restaurant\",\"gpsCoordinates\":{\"latitude\":50.9797319,\"longitude\":10.3025123}},{\"position\":20,\"title\":\"Pizzeria Avanti\",\"phone\":\"036075 56919\",\"address\":\"Anger 2, 37351 Dingelstädt\",\"website\":\"http://www.xn--avanti-dingelstdt-4qb.de/\",\"workingHours\":{\"timezone\":\"Europe/Berlin\",\"days\":[{\"day\":\"Wednesday\",\"time\":\"11 am–2 pm\",\"date\":\"2023-07-19\"},{\"day\":\"Thursday\",\"time\":\"11 am–2 pm\",\"date\":\"2023-07-20\"},{\"day\":\"Friday\",\"time\":\"11 am–2 pm\",\"date\":\"2023-07-21\"},{\"day\":\"Saturday\",\"time\":\"11 am–2 pm\",\"date\":\"2023-07-22\"},{\"day\":\"Sunday\",\"time\":\"4–10:30 pm\",\"date\":\"2023-07-23\"},{\"day\":\"Monday\",\"time\":\"11 am–2 pm\",\"date\":\"2023-07-24\"},{\"day\":\"Tuesday\",\"time\":\"11 am–2 pm\",\"date\":\"2023-07-25\"}]},\"rating\":4,\"reviews\":157,\"type\":\"Pizza restaurant\",\"gpsCoordinates\":{\"latitude\":51.3154602,\"longitude\":10.3192892}}]}}\n"
     ]
    }
   ],
   "source": [
    "\n",
    "#from serp_api import ScrapeitCloudClient\n",
    "client = ScrapeitCloudClient(api_key='d10bd18e-f6fb-47bf-8a46-85f56894f8b0')\n",
    "response = client.scrape(\n",
    "params={\"keyword\": \"pizza\", \"country\": \"US\", \"num_results\": 10, \"domain\": \"com\"})\n",
    "\n",
    "print(response.text)\n",
    "#'{\"status\":\"ok\",\"scrapingResult\":{\"currentPage\":1,\"keyword\":\"pizza\",\"organic\":[{\"domain\":\"www.pizzahut.com\",\"linkType\":\"HOME\",\"position\":1,\"snippet\":\"DELIVERY & CARRYOUT LOCATIONS ARE OPEN! Order pizza online from a store near you. View our full menu, nutritional information, store locations, and more.Contact Us · School Lunch · Careers · Restaurant Careers\",\"title\":\"Pizza Hut: Pizza Delivery | Pizza Carryout | Coupons | Wings & More\",\"url\":\"https://www.pizzahut.com/\",\"sitelinks\":[{\"href\":\"/url?q=https://www.pizzahut.com/contactus&sa=U&ved=2ahUKEwiM0vD24775AhUBEmIAHbXIA54Q0gJ6BAgJEAU&usg=AOvVaw1kJCddQOovwwu7D2ICu8XQ\",\"title\":\"Contact Us\",\"type\":\"INLINE\"},{\"href\":\"/url?q=https://www.pizzahut.com/school-lunch&sa=U&ved=2ahUKEwiM0vD24775AhUBEmIAHbXIA54Q0gJ6BAgJEAY&usg=AOvVaw1XreOmUmwdklpQ1qEFpg7R\",\"title\":\"School Lunch\",\"type\":\"INLINE\"},{\"href\":\"/url?q=https://jobs.pizzahut.com/&sa=U&ved=2ahUKEwiM0vD24775AhUBEmIAHbXIA54Q0gJ6BAgJEAc&usg=AOvVaw2o7KrOxIINSr_crNMhF0I7\",\"title\":\"Careers\",\"type\":\"INLINE\"},{\"href\":\"/url?q=https://jobs.pizzahut.com/restaurants/careers.php&sa=U&ved=2ahUKEwiM0vD24775AhUBEmIAHbXIA54Q0gJ6BAgJEAg&usg=AOvVaw2u8lAxbtm5KXVoz227oHME\",\"title\":\"Restaurant Careers\",\"type\":\"INLINE\"}]},{\"domain\":\"www.dominos.com\",\"linkType\":\"LANDING\",\"position\":2,\"snippet\":\"Order pizza, pasta, sandwiches & more online for carryout or delivery from Domino\\'s. View menu, find locations, track orders. Sign up for Domino\\'s email\\xa0...About Pizza · Order Online · Coupons · Menu\",\"title\":\"Domino\\'s: Pizza Delivery & Carryout, Pasta, Chicken & More\",\"url\":\"https://www.dominos.com/en/\",\"sitelinks\":[{\"href\":\"/url?q=https://www.dominos.com/en/about-pizza/&sa=U&ved=2ahUKEwiM0vD24775AhUBEmIAHbXIA54Q0gJ6BAgKEAU&usg=AOvVaw0THBSmkvIM9dttcHmyQ-bL\",\"title\":\"About Pizza\",\"type\":\"INLINE\"},{\"href\":\"/url?q=https://www.dominos.com/en/pages/order/&sa=U&ved=2ahUKEwiM0vD24775AhUBEmIAHbXIA54Q0gJ6BAgKEAY&usg=AOvVaw3_zqtLbwr6oMEz91BKbP_6\",\"title\":\"Order Online\",\"type\":\"INLINE\"},{\"href\":\"/url?q=https://www.dominos.com/en/pages/order/coupon&sa=U&ved=2ahUKEwiM0vD24775AhUBEmIAHbXIA54Q0gJ6BAgKEAc&usg=AOvVaw3jxjpqTPqGZ75dqYTkE8Cc\",\"title\":\"Coupons\",\"type\":\"INLINE\"},{\"href\":\"/url?q=https://www.dominos.com/en/pages/order/menu&sa=U&ved=2ahUKEwiM0vD24775AhUBEmIAHbXIA54Q0gJ6BAgKEAg&usg=AOvVaw14skq9tuVEZRsrV_VfJGm6\",\"title\":\"Menu\",\"type\":\"INLINE\"}]},{\"domain\":\"wethepizza.com\",\"linkType\":\"HOME\",\"position\":3,\"snippet\":\"WE, THE PIZZA offers great pizza in Capitol Hill DC & Arlington VA. Enjoy our lunch specials, inspired wings with a handmade italian soda. Order Online Now!\",\"title\":\"We The Pizza: WE, THE PIZZA | Restaurant & Delivery | Capitol Hill ...\",\"url\":\"https://wethepizza.com/\"},{\"domain\":\"dc.eater.com\",\"linkType\":\"LANDING\",\"position\":4,\"snippet\":\"Jul 19, 2022 · Where to find wood-fired Neapolitan pizza, New York slices, Detroit-style squares, and free-form Roman pies.\",\"title\":\"The Essential Pizza Restaurants in D.C. - Eater DC\",\"url\":\"https://dc.eater.com/maps/best-pizza-restaurants-dc\"},{\"domain\":\"en.wikipedia.org\",\"linkType\":\"LANDING\",\"position\":5,\"snippet\":\"Pizza is a dish of Italian origin consisting of a usually round, flat base of leavened wheat-based dough topped with tomatoes, cheese, and often various\\xa0...Place of origin: ItalyMain ingredients: Dough, sauce (usually tomato sauce), cheeseRegion or state: Campania (Naples)Course: Lunch or dinner\",\"title\":\"Pizza - Wikipedia\",\"url\":\"https://en.wikipedia.org/wiki/Pizza\",\"sitelinks\":[{\"href\":\"/url?q=http://en.wikipedia.org/wiki/Italy&sa=U&ved=2ahUKEwiM0vD24775AhUBEmIAHbXIA54Qs2Z6BAgCEAY&usg=AOvVaw0LM-l1Ht0MF11A9frBfnHO\",\"title\":\"Italy\",\"type\":\"INLINE\"},{\"href\":\"/url?q=http://en.wikipedia.org/wiki/Cheese&sa=U&ved=2ahUKEwiM0vD24775AhUBEmIAHbXIA54Qs2Z6BAgCEAg&usg=AOvVaw0lO0X-QQyCDSAwJcTeZtKF\",\"title\":\"cheese\",\"type\":\"INLINE\"},{\"href\":\"/url?q=http://en.wikipedia.org/wiki/Campania&sa=U&ved=2ahUKEwiM0vD24775AhUBEmIAHbXIA54Qs2Z6BAgCEAo&usg=AOvVaw1LfrqIRdlFczTJXAwViWxz\",\"title\":\"Campania\",\"type\":\"INLINE\"},{\"href\":\"/url?q=http://en.wikipedia.org/wiki/Naples&sa=U&ved=2ahUKEwiM0vD24775AhUBEmIAHbXIA54Qs2Z6BAgCEAs&usg=AOvVaw0_T-AY4SPJ8CSH1OADLjK5\",\"title\":\"Naples\",\"type\":\"INLINE\"}]},{\"domain\":\"www.papajohns.com\",\"linkType\":\"HOME\",\"position\":6,\"snippet\":\"Enjoy the ease of ordering delicious pizza for delivery or carryout from a Papa Johns near you. Start tracking the speed of your delivery and earn rewards\\xa0...\",\"title\":\"Papa Johns Pizza Delivery & Carryout - Best Deals on Pizza, Sides ...\",\"url\":\"https://www.papajohns.com/\"},{\"domain\":\"m.yelp.com\",\"linkType\":\"LANDING\",\"position\":7,\"snippet\":\"Rating 4.0 (22,014) Best Pizza in Washington, DC - Wiseguy Pizza, il Canale, Pi Pizzeria, Andy\\'s Pizza - Shaw, L\\'Ardente, Pupatella, Lupo Pizzeria, Kouzina Angelinas Pizzeria\\xa0...\",\"title\":\"Pizza Washington, DC - Last Updated August 2022 - Yelp\",\"url\":\"https://m.yelp.com/search?find_desc=Pizza&find_loc=Washington%2C+DC\"},{\"domain\":\"www.tripadvisor.com\",\"linkType\":\"LANDING\",\"position\":8,\"snippet\":\"Pizza Places in Washington DC ; 1. Pi Pizzeria · 1,286 reviews · “Beer not cold, although PIzza\\'s lovely” ; 2. We the Pizza · 950 reviews · “Excellent pizza right\\xa0...\",\"title\":\"THE 10 BEST Pizza Places in Washington DC - TripAdvisor\",\"url\":\"https://www.tripadvisor.com/Restaurants-g28970-c31-Washington_DC_District_of_Columbia.html\"},{\"domain\":\"www.franklypizza.com\",\"linkType\":\"HOME\",\"position\":9,\"snippet\":\"Hearth-baked pizza is our specialty. Our tiny kitchen leaves room for one thing, and that\\'s pizza! Quickly baked in our oak-fired brick oven, pizzas emerge\\xa0...\",\"title\":\"Frankly…Pizza! - Kensington\",\"url\":\"https://www.franklypizza.com/\"},{\"domain\":\"www.seriouseats.com\",\"linkType\":\"LANDING\",\"position\":10,\"snippet\":\"Our crisp, crunchy, chewy, and cheesy pizza recipes include everything from classic Neapolitan and New York pies to Sicilian and Detroit-style.\",\"title\":\"Pizza Recipes - Serious Eats\",\"url\":\"https://www.seriouseats.com/pizza-recipes-5117816\"}],\"pagination\":[],\"relatedKeywords\":[{\"keyword\":\"Pizza near me\",\"path\":\"/search?cr=countryUS&hl=en&gl=US&ie=UTF-8&tbs=ctr:countryUS&q=Pizza+near+me&sa=X&ved=2ahUKEwiM0vD24775AhUBEmIAHbXIA54Q1QJ6BAgHEAI\"},{\"keyword\":\"Pizza Hut\",\"path\":\"/search?cr=countryUS&hl=en&gl=US&ie=UTF-8&tbs=ctr:countryUS&q=Pizza+Hut&sa=X&ved=2ahUKEwiM0vD24775AhUBEmIAHbXIA54Q1QJ6BAgHEAQ\"},{\"keyword\":\"Pizza delivery near me\",\"path\":\"/search?cr=countryUS&hl=en&gl=US&ie=UTF-8&tbs=ctr:countryUS&q=Pizza+delivery+near+me&sa=X&ved=2ahUKEwiM0vD24775AhUBEmIAHbXIA54Q1QJ6BAgHEAY\"},{\"keyword\":\"Pizza Domino\",\"path\":\"/search?cr=countryUS&hl=en&gl=US&ie=UTF-8&tbs=ctr:countryUS&q=Pizza+Domino&sa=X&ved=2ahUKEwiM0vD24775AhUBEmIAHbXIA54Q1QJ6BAgHEAg\"},{\"keyword\":\"MOD Pizza\",\"path\":\"/search?cr=countryUS&hl=en&gl=US&ie=UTF-8&tbs=ctr:countryUS&q=MOD+Pizza&sa=X&ved=2ahUKEwiM0vD24775AhUBEmIAHbXIA54Q1QJ6BAgHEAo\"},{\"keyword\":\"Pizza Hut near me\",\"path\":\"/search?cr=countryUS&hl=en&gl=US&ie=UTF-8&tbs=ctr:countryUS&q=Pizza+Hut+near+me&sa=X&ved=2ahUKEwiM0vD24775AhUBEmIAHbXIA54Q1QJ6BAgHEAw\"},{\"keyword\":\"Pizza menu\",\"path\":\"/search?cr=countryUS&hl=en&gl=US&ie=UTF-8&tbs=ctr:countryUS&q=Pizza+menu&sa=X&ved=2ahUKEwiM0vD24775AhUBEmIAHbXIA54Q1QJ6BAgHEA4\"},{\"keyword\":\"We The Pizza\",\"path\":\"/search?cr=countryUS&hl=en&gl=US&ie=UTF-8&tbs=ctr:countryUS&q=We+The+Pizza&sa=X&ved=2ahUKEwiM0vD24775AhUBEmIAHbXIA54Q1QJ6BAgHEBA\"}],\"locals\":[{\"name\":\"Manhattan Pizza\",\"position\":1,\"rating\":\"4.4\",\"reviews\":\"552\"},{\"name\":\"Marco\\'s Pizza\",\"position\":2,\"rating\":\"4.4\",\"reviews\":\"66\"},{\"name\":\"Emilio\\'s Brick Oven Pizza\",\"position\":3,\"rating\":\"4.3\",\"reviews\":\"416\"}]}}'\n",
    "\n"
   ]
  },
  {
   "cell_type": "markdown",
   "metadata": {},
   "source": [
    "## BS4"
   ]
  },
  {
   "cell_type": "code",
   "execution_count": 20,
   "metadata": {},
   "outputs": [],
   "source": [
    "import requests\n",
    "#import bs4\n",
    "from bs4 import BeautifulSoup"
   ]
  },
  {
   "cell_type": "markdown",
   "metadata": {},
   "source": [
    "## euro to dong"
   ]
  },
  {
   "cell_type": "code",
   "execution_count": null,
   "metadata": {},
   "outputs": [],
   "source": [
    "\n",
    "url = \"https://serpapi.com/search.html?engine=google&q=euro+vs+vn+dong&location=France&google_domain=google.fr&gl=fr&hl=fr&api_key=fcc67229497391325ba240fe20b1e0c62dc698e3f5b2cbc935ddf4f33a003bbc\"\n",
    "\n",
    "\n",
    "def get_page():\n",
    "    response = requests.get(url)\n",
    "    #print(response.text)\n",
    "\n",
    "    # class=\"DFlfde SwHCTb\"\n",
    "\n",
    "    html = response.content.decode(\"utf8\")\n",
    "    #match2 = re.compile('<title>(.+?)</title>.+?<link>(.+?)</link>.+?<thumbnail>(.+?)</thumbnail>.+?<fanart>(.+?)/fanart>',re.DOTALL).findall(str(HTML2))    \n",
    "    text_file = 'response.html'\n",
    "    #     print(match2[:6])\n",
    "\n",
    "    #buffer, new = makebuffer(match2)\n",
    "    #print(buffer)\n",
    "    #end = time.time()\n",
    "    #print('Time of process :',end - start,'s')\n",
    "\n",
    "    # create index.html\n",
    "    # https://www.learnbyexample.org/python-open-function/\n",
    "    with open(text_file,\"w\",encoding='ascii',errors='ignore') as f:\n",
    "        f.write(html)\n",
    "        print(\"Processus terminé ! Fichier créé dans Y:\\Documents\\Python\")\n",
    "        #f.close()\n",
    "    \n",
    "    return html\n",
    "  \n",
    "html = get_page()\n",
    "html\n",
    "get_page()\n",
    "\n",
    "soup = BeautifulSoup(requests.get(url).content, \"html.parser\")\n",
    "key = soup.find(\"span\",class_=\"DFlfde SwHCTb\")[\"data-value\"]\n",
    "print(key)\n"
   ]
  },
  {
   "cell_type": "markdown",
   "metadata": {},
   "source": [
    "### scrap_it"
   ]
  },
  {
   "cell_type": "code",
   "execution_count": 52,
   "metadata": {},
   "outputs": [],
   "source": [
    "# https://app.scrape-it.cloud/dashboard\n",
    "def scrape_it():\n",
    "    import http.client\n",
    "    import json\n",
    "\n",
    "    conn = http.client.HTTPSConnection(\"api.scrape-it.cloud\")\n",
    "    payload = json.dumps({\n",
    "        \"country\": \"US\",\n",
    "        \"domain\": \"com\",\n",
    "        \"num_results\": 10,\n",
    "        \"keyword\": \"Pizza\"\n",
    "    })\n",
    "    headers = {\n",
    "      'x-api-key': 'd10bd18e-f6fb-47bf-8a46-85f56894f8b0',\n",
    "      'Content-Type': 'application/json'\n",
    "    }\n",
    "    conn.request(\"POST\", \"/scrape/google\", payload, headers)\n",
    "    res = conn.getresponse()\n",
    "    data = res.read()\n",
    "    result = data.decode(\"utf-8\")\n",
    "    return result"
   ]
  },
  {
   "cell_type": "code",
   "execution_count": 53,
   "metadata": {},
   "outputs": [],
   "source": [
    "r  = scrape_it()"
   ]
  },
  {
   "cell_type": "code",
   "execution_count": 60,
   "metadata": {},
   "outputs": [
    {
     "data": {
      "text/plain": [
       "{'status': 'ok',\n",
       " 'scrapingResult': {'currentPage': None,\n",
       "  'organic': [{'domain': 'www.pizzahut.com',\n",
       "    'linkType': 'HOME',\n",
       "    'position': 1,\n",
       "    'snippet': '',\n",
       "    'title': 'Pizza Hut | Delivery & Carryout - No One OutPizzas The Hut!',\n",
       "    'url': 'https://www.pizzahut.com/',\n",
       "    'sitelinks': [{'href': 'https://www.pizzahut.com/menu',\n",
       "      'title': 'Menu',\n",
       "      'type': 'INLINE'},\n",
       "     {'href': 'https://www.pizzahut.com/deals',\n",
       "      'title': 'Deals',\n",
       "      'type': 'INLINE'},\n",
       "     {'href': 'https://www.pizzahut.com/menu/pizza',\n",
       "      'title': 'Pizza',\n",
       "      'type': 'INLINE'},\n",
       "     {'href': 'https://franchise.pizzahut.com/',\n",
       "      'title': 'Pizza Hut Franchise',\n",
       "      'type': 'INLINE'}]},\n",
       "   {'domain': 'www.tripadvisor.com',\n",
       "    'linkType': 'LANDING',\n",
       "    'position': 2,\n",
       "    'snippet': '',\n",
       "    'title': 'THE 10 BEST Pizza Places in Plano (Updated 2023)',\n",
       "    'url': 'https://www.tripadvisor.com/Restaurants-g56463-c31-Plano_Texas.html'},\n",
       "   {'domain': 'www.dominos.com',\n",
       "    'linkType': 'LANDING',\n",
       "    'position': 3,\n",
       "    'snippet': '',\n",
       "    'title': \"Domino's: Pizza Delivery & Carryout, Pasta, Chicken & More\",\n",
       "    'url': 'https://www.dominos.com/en/',\n",
       "    'sitelinks': [{'href': 'https://www.dominos.com/en/pages/order/coupon',\n",
       "      'title': 'Coupons',\n",
       "      'type': 'INLINE'},\n",
       "     {'href': 'https://www.dominos.com/en/pages/order/menu',\n",
       "      'title': 'Menu',\n",
       "      'type': 'INLINE'},\n",
       "     {'href': 'https://www.dominos.com/en/pages/tracker/',\n",
       "      'title': 'Tracker',\n",
       "      'type': 'INLINE'},\n",
       "     {'href': 'https://www.dominos.com/en/pages/order/?locations=1#!/locations/',\n",
       "      'title': 'Locations',\n",
       "      'type': 'INLINE'}]},\n",
       "   {'domain': 'www.papajohns.com',\n",
       "    'linkType': 'HOME',\n",
       "    'position': 4,\n",
       "    'snippet': 'Enjoy the ease of ordering delicious pizza for delivery or carryout from a Papa Johns near you. Start tracking the speed of your delivery and earn rewards\\xa0...',\n",
       "    'title': 'Papa Johns Pizza Delivery & Carryout - Best Deals on Pizza ...',\n",
       "    'url': 'https://www.papajohns.com/',\n",
       "    'sitelinks': [{'href': 'https://www.papajohns.com/order/specials',\n",
       "      'title': 'Specials',\n",
       "      'type': 'INLINE'},\n",
       "     {'href': 'https://www.papajohns.com/order/menu?category=Pizza',\n",
       "      'title': 'Pizza',\n",
       "      'type': 'INLINE'},\n",
       "     {'href': 'https://www.papajohns.com/order/menu?category=Papa%20Bowls',\n",
       "      'title': 'Papa Bowls',\n",
       "      'type': 'INLINE'},\n",
       "     {'href': 'https://www.papajohns.com/order/menu?category=Papa%20Bites',\n",
       "      'title': 'Papa Bites',\n",
       "      'type': 'INLINE'}]},\n",
       "   {'domain': 'en.wikipedia.org',\n",
       "    'linkType': 'LANDING',\n",
       "    'position': 5,\n",
       "    'snippet': '',\n",
       "    'title': 'Pizza - Wikipedia',\n",
       "    'url': 'https://en.wikipedia.org/wiki/Pizza'},\n",
       "   {'domain': 'www.urbancrust.com',\n",
       "    'linkType': 'HOME',\n",
       "    'position': 6,\n",
       "    'snippet': '',\n",
       "    'title': 'Urban Crust | Pizza Restaurant in Plano, TX',\n",
       "    'url': 'https://www.urbancrust.com/'},\n",
       "   {'domain': 'littlecaesars.com',\n",
       "    'linkType': 'HOME',\n",
       "    'position': 7,\n",
       "    'snippet': 'Your home for HOT-N-READY® pizzas, EXTRAMOSTBESTEST® pizzas, DEEP!DEEP!™ Dish pizzas, Crazy Bread® and MORE! Order online for no-contact delivery or\\xa0...',\n",
       "    'title': 'Little Caesars® Pizza: Best Value Delivery and Carryout',\n",
       "    'url': 'https://littlecaesars.com/'},\n",
       "   {'domain': 'planomoms.com',\n",
       "    'linkType': 'LANDING',\n",
       "    'position': 8,\n",
       "    'snippet': '',\n",
       "    'title': 'Best Pizza Places near by in Plano, Texas (non-chain)',\n",
       "    'url': 'https://planomoms.com/best-pizza-plano/'},\n",
       "   {'domain': 'www.marcos.com',\n",
       "    'linkType': 'HOME',\n",
       "    'position': 9,\n",
       "    'snippet': '',\n",
       "    'title': \"Marco's Pizza\",\n",
       "    'url': 'https://www.marcos.com/'},\n",
       "   {'domain': 'kennyseastcoastpizza.com',\n",
       "    'linkType': 'HOME',\n",
       "    'position': 10,\n",
       "    'snippet': '',\n",
       "    'title': \"Kenny's East Coast Pizza: Great Italian Food in Plano, Tx\",\n",
       "    'url': 'https://kennyseastcoastpizza.com/'}],\n",
       "  'pagination': [{'page': 1, 'path': None}],\n",
       "  'relatedKeywords': [{'keyword': \"domino's pizza pakistan\",\n",
       "    'path': '/search?cr=countryUS&hl=en&gl=US&tbs=ctr:countryUS&q=Domino%27s+Pizza+Pakistan&sa=X&ved=2ahUKEwiugd_SrpqAAxXCk2oFHRIIAq4Q1QJ6BAg_EAE'},\n",
       "   {'keyword': \"domino's pizza near me\",\n",
       "    'path': '/search?cr=countryUS&hl=en&gl=US&tbs=ctr:countryUS&q=Domino%27s+pizza+near+me&sa=X&ved=2ahUKEwiugd_SrpqAAxXCk2oFHRIIAq4Q1QJ6BAg6EAE'}],\n",
       "  'totalResults': 1210000000,\n",
       "  'timeTaken': 0.52,\n",
       "  'knowledgeGraph': {'title': 'Pizza',\n",
       "   'type': None,\n",
       "   'rating': None,\n",
       "   'reviews': None,\n",
       "   'address': '',\n",
       "   'phone': ''}}}"
      ]
     },
     "execution_count": 60,
     "metadata": {},
     "output_type": "execute_result"
    }
   ],
   "source": [
    "import json\n",
    "aList = json.loads(r)\n",
    "aList\n"
   ]
  },
  {
   "cell_type": "code",
   "execution_count": null,
   "metadata": {},
   "outputs": [],
   "source": [
    "aList['status']"
   ]
  },
  {
   "cell_type": "code",
   "execution_count": 63,
   "metadata": {},
   "outputs": [],
   "source": [
    "domains = aList['scrapingResult']['organic']"
   ]
  },
  {
   "cell_type": "code",
   "execution_count": 69,
   "metadata": {},
   "outputs": [
    {
     "name": "stdout",
     "output_type": "stream",
     "text": [
      "domain = www.pizzahut.com\n",
      "linkType = HOME\n",
      "position = 1\n",
      "snippet = \n",
      "title = Pizza Hut | Delivery & Carryout - No One OutPizzas The Hut!\n",
      "url = https://www.pizzahut.com/\n",
      "sitelinks = [{'href': 'https://www.pizzahut.com/menu', 'title': 'Menu', 'type': 'INLINE'}, {'href': 'https://www.pizzahut.com/deals', 'title': 'Deals', 'type': 'INLINE'}, {'href': 'https://www.pizzahut.com/menu/pizza', 'title': 'Pizza', 'type': 'INLINE'}, {'href': 'https://franchise.pizzahut.com/', 'title': 'Pizza Hut Franchise', 'type': 'INLINE'}]\n",
      "\n",
      "domain = www.tripadvisor.com\n",
      "linkType = LANDING\n",
      "position = 2\n",
      "snippet = \n",
      "title = THE 10 BEST Pizza Places in Plano (Updated 2023)\n",
      "url = https://www.tripadvisor.com/Restaurants-g56463-c31-Plano_Texas.html\n",
      "\n",
      "domain = www.dominos.com\n",
      "linkType = LANDING\n",
      "position = 3\n",
      "snippet = \n",
      "title = Domino's: Pizza Delivery & Carryout, Pasta, Chicken & More\n",
      "url = https://www.dominos.com/en/\n",
      "sitelinks = [{'href': 'https://www.dominos.com/en/pages/order/coupon', 'title': 'Coupons', 'type': 'INLINE'}, {'href': 'https://www.dominos.com/en/pages/order/menu', 'title': 'Menu', 'type': 'INLINE'}, {'href': 'https://www.dominos.com/en/pages/tracker/', 'title': 'Tracker', 'type': 'INLINE'}, {'href': 'https://www.dominos.com/en/pages/order/?locations=1#!/locations/', 'title': 'Locations', 'type': 'INLINE'}]\n",
      "\n",
      "domain = www.papajohns.com\n",
      "linkType = HOME\n",
      "position = 4\n",
      "snippet = Enjoy the ease of ordering delicious pizza for delivery or carryout from a Papa Johns near you. Start tracking the speed of your delivery and earn rewards ...\n",
      "title = Papa Johns Pizza Delivery & Carryout - Best Deals on Pizza ...\n",
      "url = https://www.papajohns.com/\n",
      "sitelinks = [{'href': 'https://www.papajohns.com/order/specials', 'title': 'Specials', 'type': 'INLINE'}, {'href': 'https://www.papajohns.com/order/menu?category=Pizza', 'title': 'Pizza', 'type': 'INLINE'}, {'href': 'https://www.papajohns.com/order/menu?category=Papa%20Bowls', 'title': 'Papa Bowls', 'type': 'INLINE'}, {'href': 'https://www.papajohns.com/order/menu?category=Papa%20Bites', 'title': 'Papa Bites', 'type': 'INLINE'}]\n",
      "\n",
      "domain = en.wikipedia.org\n",
      "linkType = LANDING\n",
      "position = 5\n",
      "snippet = \n",
      "title = Pizza - Wikipedia\n",
      "url = https://en.wikipedia.org/wiki/Pizza\n",
      "\n",
      "domain = www.urbancrust.com\n",
      "linkType = HOME\n",
      "position = 6\n",
      "snippet = \n",
      "title = Urban Crust | Pizza Restaurant in Plano, TX\n",
      "url = https://www.urbancrust.com/\n",
      "\n",
      "domain = littlecaesars.com\n",
      "linkType = HOME\n",
      "position = 7\n",
      "snippet = Your home for HOT-N-READY® pizzas, EXTRAMOSTBESTEST® pizzas, DEEP!DEEP!™ Dish pizzas, Crazy Bread® and MORE! Order online for no-contact delivery or ...\n",
      "title = Little Caesars® Pizza: Best Value Delivery and Carryout\n",
      "url = https://littlecaesars.com/\n",
      "\n",
      "domain = planomoms.com\n",
      "linkType = LANDING\n",
      "position = 8\n",
      "snippet = \n",
      "title = Best Pizza Places near by in Plano, Texas (non-chain)\n",
      "url = https://planomoms.com/best-pizza-plano/\n",
      "\n",
      "domain = www.marcos.com\n",
      "linkType = HOME\n",
      "position = 9\n",
      "snippet = \n",
      "title = Marco's Pizza\n",
      "url = https://www.marcos.com/\n",
      "\n",
      "domain = kennyseastcoastpizza.com\n",
      "linkType = HOME\n",
      "position = 10\n",
      "snippet = \n",
      "title = Kenny's East Coast Pizza: Great Italian Food in Plano, Tx\n",
      "url = https://kennyseastcoastpizza.com/\n",
      "\n"
     ]
    }
   ],
   "source": [
    "for d in domains:\n",
    "    for k in d.keys():\n",
    "        print(k,'=',d[k])\n",
    "    print()"
   ]
  }
 ],
 "metadata": {
  "kernelspec": {
   "display_name": "Python 3",
   "language": "python",
   "name": "python3"
  },
  "language_info": {
   "codemirror_mode": {
    "name": "ipython",
    "version": 3
   },
   "file_extension": ".py",
   "mimetype": "text/x-python",
   "name": "python",
   "nbconvert_exporter": "python",
   "pygments_lexer": "ipython3",
   "version": "3.10.11"
  },
  "orig_nbformat": 4
 },
 "nbformat": 4,
 "nbformat_minor": 2
}
