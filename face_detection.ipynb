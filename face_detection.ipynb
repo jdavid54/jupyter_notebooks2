{
 "cells": [
  {
   "cell_type": "code",
   "execution_count": 2,
   "metadata": {},
   "outputs": [
    {
     "name": "stdout",
     "output_type": "stream",
     "text": [
      "Requirement already satisfied: opencv-python in c:\\users\\jean\\appdata\\local\\packages\\pythonsoftwarefoundation.python.3.10_qbz5n2kfra8p0\\localcache\\local-packages\\python310\\site-packages (4.9.0.80)\n",
      "Requirement already satisfied: numpy>=1.21.2 in c:\\users\\jean\\appdata\\local\\packages\\pythonsoftwarefoundation.python.3.10_qbz5n2kfra8p0\\localcache\\local-packages\\python310\\site-packages (from opencv-python) (1.23.5)\n",
      "Note: you may need to restart the kernel to use updated packages.\n"
     ]
    },
    {
     "name": "stderr",
     "output_type": "stream",
     "text": [
      "DEPRECATION: jupyter-server 2.0.0 has a non-standard dependency specifier jupyter-core!=~5.0,>=4.12. pip 24.1 will enforce this behaviour change. A possible replacement is to upgrade to a newer version of jupyter-server or contact the author to suggest that they release a version with a conforming dependency specifiers. Discussion can be found at https://github.com/pypa/pip/issues/12063\n"
     ]
    }
   ],
   "source": [
    "#pip install opencv-python"
   ]
  },
  {
   "cell_type": "code",
   "execution_count": 2,
   "metadata": {},
   "outputs": [],
   "source": [
    "# only python 3.7\n",
    "# https://opencv.org/\n",
    "# https://www.youtube.com/watch?v=R7B8sSByZGQ\n",
    "\n",
    "import cv2\n",
    "\n",
    "trained_face_data = cv2.CascadeClassifier('haarcascade_frontalface_default.xml')\n",
    "\n",
    "def show(img):\n",
    "    cv2.imshow('Detector', img)\n",
    "    cv2.waitKey()\n",
    "\n",
    "# photo\n",
    "pix1 = 'phong_beo.jpg'\n",
    "pix2 = 'lincoln.jpeg'\n",
    "pix3 = 'marilyn.jpeg'\n",
    "pix = 'girl16.jpeg'\n",
    "pix4 = 'obama2.jpeg'\n",
    "pix5 = 'kahlo.jpeg'\n",
    "pix6 = 'trump.jpeg'\n",
    "pix7 = 'guy04.jpeg'\n",
    "pix8 = 'ford.jpeg'\n",
    "pix9 = 'woman02.jpeg'\n",
    "pix10 = 'baby01.jpeg'\n",
    "pix11 = 'multi02.jpeg'\n",
    "pix12 = 'qazi_aaron3.png'\n",
    "pix13 = 'multi03.png'\n",
    "pix14 = 'diversity-portrait-happy-colleagues-smile-260nw-2312975421.jpg'\n",
    "pix15 = 'portrait-successful-group-business-people-260nw-2085055825.jpg'\n",
    "\n",
    "# choose photo\n",
    "pix16 = 'group01.png'\n",
    "\n",
    "pix = pix13\n",
    "\n",
    "img = cv2.imread(pix)\n",
    "show(img)\n",
    "\n",
    "\n",
    "# make it gray\n",
    "grayscaled_img = cv2.cvtColor(img, cv2.COLOR_BGR2GRAY)\n",
    "show(grayscaled_img)\n",
    "\n",
    "\n"
   ]
  },
  {
   "cell_type": "code",
   "execution_count": 3,
   "metadata": {},
   "outputs": [
    {
     "ename": "error",
     "evalue": "OpenCV(4.9.0) D:\\a\\opencv-python\\opencv-python\\opencv\\modules\\objdetect\\src\\cascadedetect.cpp:1689: error: (-215:Assertion failed) !empty() in function 'cv::CascadeClassifier::detectMultiScale'\n",
     "output_type": "error",
     "traceback": [
      "\u001b[1;31m---------------------------------------------------------------------------\u001b[0m",
      "\u001b[1;31merror\u001b[0m                                     Traceback (most recent call last)",
      "Cell \u001b[1;32mIn[3], line 2\u001b[0m\n\u001b[0;32m      1\u001b[0m \u001b[38;5;66;03m# detect faces\u001b[39;00m\n\u001b[1;32m----> 2\u001b[0m face_coordinates \u001b[38;5;241m=\u001b[39m \u001b[43mtrained_face_data\u001b[49m\u001b[38;5;241;43m.\u001b[39;49m\u001b[43mdetectMultiScale\u001b[49m\u001b[43m(\u001b[49m\u001b[43mgrayscaled_img\u001b[49m\u001b[43m)\u001b[49m\n\u001b[0;32m      4\u001b[0m \u001b[38;5;66;03m# box coordinates that contains the face \u001b[39;00m\n\u001b[0;32m      5\u001b[0m \u001b[38;5;28mprint\u001b[39m(face_coordinates)\n",
      "\u001b[1;31merror\u001b[0m: OpenCV(4.9.0) D:\\a\\opencv-python\\opencv-python\\opencv\\modules\\objdetect\\src\\cascadedetect.cpp:1689: error: (-215:Assertion failed) !empty() in function 'cv::CascadeClassifier::detectMultiScale'\n"
     ]
    }
   ],
   "source": [
    "\n",
    "# detect faces\n",
    "face_coordinates = trained_face_data.detectMultiScale(grayscaled_img)\n",
    "\n",
    "# box coordinates that contains the face \n",
    "print(face_coordinates)\n",
    "\n",
    "\n",
    "#cv2.rectangle(img, (155, 158), (124, 124),(0,255,0),2)\n",
    "for (x,y,w,h) in face_coordinates:\n",
    "    cv2.rectangle(img, (x,y), (x+w, y+h), (0,255,0),2)\n",
    "#cv2.rectangle(img, face_coordinates, (0,255,0),2)\n",
    "show(img)\n",
    "print('Code completed')"
   ]
  }
 ],
 "metadata": {
  "kernelspec": {
   "display_name": "Python 3",
   "language": "python",
   "name": "python3"
  },
  "language_info": {
   "codemirror_mode": {
    "name": "ipython",
    "version": 3
   },
   "file_extension": ".py",
   "mimetype": "text/x-python",
   "name": "python",
   "nbconvert_exporter": "python",
   "pygments_lexer": "ipython3",
   "version": "3.10.11"
  }
 },
 "nbformat": 4,
 "nbformat_minor": 2
}
