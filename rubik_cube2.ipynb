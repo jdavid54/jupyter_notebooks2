{
 "cells": [
  {
   "cell_type": "code",
   "execution_count": 69,
   "metadata": {},
   "outputs": [],
   "source": [
    "#-------------------------------------------------------------------------------\n",
    "# Name:        Rubik's cube Rotation study version 1.0\n",
    "# Purpose:\n",
    "#\n",
    "# Author:      Jean\n",
    "#\n",
    "# Created:     24/04/2019\n",
    "# Copyright:   (c) Jean 2019\n",
    "# Licence:     Open source\n",
    "#-------------------------------------------------------------------------------\n",
    "\n",
    "#           _______\n",
    "#          |       |\n",
    "#          |   U   |\n",
    "#   _______|_______|_______ ________\n",
    "#  |       |       |       |       | \n",
    "#  |   L   |   F   |   R   |   B   |\n",
    "#  |_______|_______|_______|_______|\n",
    "#          |       |\n",
    "#          |   D   |\n",
    "#          |_______|\n",
    "\n",
    "# cube 3x3\n",
    "#           1  2  3\n",
    "#           4  5  6\n",
    "#           7  8  9\n",
    "# 10 11 12 19 20 21 28 29 30 37 38 39 \n",
    "# 13 14 15 22 23 24 31 32 33 40 41 42\n",
    "# 16 17 18 25 26 27 34 35 36 43 44 45\n",
    "#          46 47 48\n",
    "#          49 50 51\n",
    "#          52 53 54\n",
    "\n",
    "\n",
    "indexes = {'F':((7,8,9,28,31,34,48,47,46,18,15,12),(19,20,21,24,27,26,25,22)), \\\n",
    "           'R':((27,24,21,9,6,3,37,40,43,54,51,48),(34,31,28,29,30,33,36,35)), \\\n",
    "           'L':((19,22,25,46,49,52,45,42,39,1,4,7),(12,15,18,17,16,13,10,11)), \\\n",
    "           'U':((21,20,19,12,11,10,39,38,37,30,29,28),(9,8,7,4,1,2,3,6)), \\\n",
    "           'D':((25,26,27,34,35,36,43,44,45,16,17,18),(46,47,48,51,54,53,52,49)), \\\n",
    "           'B':((3,2,1,10,13,16,52,53,54,36,33,30),(37,38,39,42,45,44,43,40)), \\\n",
    "           'E':((22,23,24,31,32,33,40,41,42,13,14,15),())\\\n",
    "}\n"
   ]
  },
  {
   "cell_type": "code",
   "execution_count": 70,
   "metadata": {},
   "outputs": [],
   "source": [
    "# cube 2x2\n",
    "#           1  2\n",
    "#           3  4 \n",
    "#     5  6  7  8  9 10 11 12 \n",
    "#    13 14 15 16 17 18 19 20\n",
    "#          21 22\n",
    "#          23 24\n",
    "\n",
    "indexes2 = {'F':((3,4,13,15,22,21,8,6),(9,10,11,12)), \\\n",
    "           'R':((4,2,17,19,24,22,12,10),(13,14,15,16)), \\\n",
    "           'L':((1,3,9,11,21,23,20,18),(5,6,7,8)), \\\n",
    "           'U':((18,17,14,13,10,9,6,5),(1,2,3,4)), \\\n",
    "           'D':((7,8,11,12,15,16,19,20),(21,22,24,23)), \\\n",
    "           'B':((2,1,5,7,23,24,16,14),(17,18,19,20)), \\\n",
    "           #'E':((22,23,24,31,32,33,40,41,42,13,14,15),())\\\n",
    "}\n"
   ]
  },
  {
   "cell_type": "code",
   "execution_count": 71,
   "metadata": {},
   "outputs": [],
   "source": [
    "def whitecrossOK():\n",
    "    for k in (47,49,51,53):\n",
    "        if 'w' != cube_list[k-1]:\n",
    "            return False\n",
    "    return True\n",
    "\n",
    "def whitefaceOK():\n",
    "    for k in range(46,55):\n",
    "        if 'w' != cube_list[k-1]:\n",
    "            return False\n",
    "    return True\n",
    "\n",
    "def secondlayerOK():\n",
    "    for k in (13, 22, 31, 40):\n",
    "        if cube_list[k] != cube_list[k-1] or cube_list[k] != cube_list[k+1] :\n",
    "            return False\n",
    "    return True\n",
    "\n"
   ]
  },
  {
   "cell_type": "code",
   "execution_count": 72,
   "metadata": {},
   "outputs": [],
   "source": [
    "\n",
    "def doSequence(seq):\n",
    "    s=0\n",
    "    layer2='second layer not complete'\n",
    "    whiteOK = 'white face never complete'\n",
    "    for f in seq:\n",
    "        s+=1\n",
    "        print('\\n',s,'-rotation ',f)\n",
    "        if 'Y' in f and '\\'' not in f:\n",
    "            for k in (\"E'\",\"U\",\"D'\"):         # Y is equivalent to 3 horizontal rotations mid, up and down layers\n",
    "                rotation(k)                     # turn all the cube front to left keeping yellow as up and white as down\n",
    "            if '2' in f:\n",
    "                for k in (\"E'\",\"U\",\"D'\"):         # Y2 is Y, Y\n",
    "                    rotation(k)\n",
    "        elif 'Y\\'' in f:\n",
    "            for k in (\"E\",\"U'\",\"D\"):           # Y' the reverse turn all the cube front to right\n",
    "                rotation(k)\n",
    "            if '2' in f:\n",
    "                for k in (\"E\",\"U'\",\"D\"):       # twice if Y'2\n",
    "                    rotation(k)\n",
    "        else:\n",
    "            rotation(f)\n",
    "        cube2=''\n",
    "        if whitecrossOK(): print(\"white cross OK\")\n",
    "        if whitefaceOK():\n",
    "            print(\"white face complete\")\n",
    "            whiteOK='white face complete'\n",
    "        if secondlayerOK():\n",
    "            print(\"second layer complete\")\n",
    "            layer2='second layer complete'\n",
    "        for i in cube_list:\n",
    "            cube2+=i\n",
    "        #printcube(cube2)\n",
    "        print(cube2)\n",
    "    return cube2\n",
    "\n",
    "\n",
    "\n",
    "def getSequence(method='Beginner'):\n",
    "\n",
    "    if method == 'CFOP':        # cross (C), first two layers (F2L), orient last layer (OLL), permute last layer (PLL)\n",
    "        # méthode CFOP      F=         g                   o                                b                       31  r\n",
    "        text=\"F', R, U', R', U, U, F2, Y, B', U, B, U, F2, Y, R', F', U, F, R, U, U, U, F2, Y, L, F, U', F', L', U, F2, Y\"\n",
    "        #                                                 g     r                                           g  o\n",
    "        text+=\", L', U, L, U', U, F', U, F, U, F', U2, F, Y, U, Y', R', U', R, U2, R', U', R, U, R', U', R, Y, Y\"\n",
    "        #                                              b                                 r  g\n",
    "        text+=\", B, U, B', U, F', U2, F, U, F', U2, F, Y, U2, U', R, U, R', U, R, U, R', Y, Y\"     #second layer complete at green in front\n",
    "        #\n",
    "        text+=\", R', F, R, U, R', F', R\"\n",
    "        #        o                b  r  g  o     b  r  g  o     b  r\n",
    "        text+=\", Y, L, U', L', U, Y, Y, Y, Y, U, Y, Y, Y, Y, U, Y, Y\"\n",
    "        text+=\", R, U', R, U, R, U, R, U', R', U', R2\"\n",
    "        liste=text.split(', ')\n",
    "        sequence=liste    #avec rotation Y\n",
    "\n",
    "    if method == 'Beginner':\n",
    "        # méthode Beginner                                                                                          31 at F2 cross done\n",
    "        text=\"F', R, U', R', U, U, F2, Y, B', U, B, U, F2, Y, R', F', U, F, R, U, U, U, F2, Y, L, F, U', F', L', U, F2, Y, L', U, L, U'\"\n",
    "        text+=\", R, U, R', Y, U', F', U', F, Y, B, U, B', R, U, R', Y, Y\"\n",
    "        ##ygoyyrrbyobyybrbbbbrrgrbrrrgybogggggyygoooooowwwwwwwww\n",
    "        #cubein = 'ygoyyrrbyobyybrbbbbrrgrbrrrgybogggggyygoooooowwwwwwwww'\n",
    "        #cube_list=list(cubein)\n",
    "        #                      rotation 61\n",
    "        text+=\", U', L', U, L, U, F, U', F', Y, Y, U2, Y2, U, R, U', R', U', F', U, F, Y, Y, U, R, U', R', U', F', U, F, Y, F, R, U, R', U', F', U2, F, R, U, R', U', F', F, R, U, R', U', F', U, U, U, U\"\n",
    "        text+=\", R, U', L', U, R', U', L, R', D', R, D, R', D', R, D, U, R', D', R, D, R', D', R, D, U, U, R', D', R, D, R', D', R, D, U, Y\"\n",
    "        liste=text.split(', ')\n",
    "        sequence=liste    #avec rotation Y\n",
    "    return sequence\n",
    "\n",
    "    if method == 'Kociemba':\n",
    "        #méthode Kaciemba\n",
    "        sequence=(\"L'\",\"F\",\"B2\",\"R'\",\"B\",\"R'\",\"L\",\"B\",\"D'\",\"F'\",\"U\",\"B2\",\"U\",\"F2\",\"D'\",\"R2\",\"L2\",\"U\",\"F2\",\"D'\")\n",
    "        #reverse=(\"D\",\"F'2\",\"U'\",\"L'2\",\"R'2\",\"D\",\"F'2\",\"U'\",\"B'2\",\"U'\",\"F\",\"D\",\"B'\",\"L'\",\"R\",\"B'\",\"R\",\"B'2\",\"F'\",\"L\")\n",
    "\n",
    "\n",
    "def printresult():\n",
    "    print(cubein)\n",
    "    print(cubeout)\n",
    "    print(cubeout==goodcube)\n"
   ]
  },
  {
   "cell_type": "code",
   "execution_count": 73,
   "metadata": {},
   "outputs": [],
   "source": [
    "def init(cube):\n",
    "    global cubein, cube_list\n",
    "    cube_list = list(cube)\n",
    "    #print(cube_list)\n",
    "    \n",
    "def printcube(cube):\n",
    "    # print up face (yellow)\n",
    "    print('   ',cube[0:3])\n",
    "    print('   ',cube[3:6])\n",
    "    print('   ',cube[6:9])\n",
    "    # print 4 lateral faces (blue, red, green, orange)\n",
    "    print(cube[9:12],cube[18:21],cube[27:30],cube[36:39])\n",
    "    print(cube[12:15],cube[21:24],cube[30:33],cube[39:42])\n",
    "    print(cube[15:18],cube[24:27],cube[33:36],cube[42:45])\n",
    "    #print down face (white)\n",
    "    print('   ',cube[45:48])\n",
    "    print('   ',cube[48:51])\n",
    "    print('   ',cube[51:54])\n"
   ]
  },
  {
   "cell_type": "code",
   "execution_count": 74,
   "metadata": {},
   "outputs": [],
   "source": [
    "finalface=''   \n",
    "#cubein = 'wowgybwyogygybyoggrowbrgywrborwggybrbwororbwborgowryby'\n",
    "goodcube = 'yyyyyyyyybbbbbbbbbrrrrrrrrrgggggggggooooooooowwwwwwwww'\n"
   ]
  },
  {
   "cell_type": "code",
   "execution_count": 75,
   "metadata": {},
   "outputs": [
    {
     "name": "stdout",
     "output_type": "stream",
     "text": [
      "    yyy\n",
      "    yyy\n",
      "    yyy\n",
      "bbb rrr ggg ooo\n",
      "bbb rrr ggg ooo\n",
      "bbb rrr ggg ooo\n",
      "    www\n",
      "    www\n",
      "    www\n"
     ]
    }
   ],
   "source": [
    "init(goodcube)\n",
    "printcube(goodcube)\n"
   ]
  },
  {
   "cell_type": "code",
   "execution_count": 76,
   "metadata": {},
   "outputs": [],
   "source": [
    "\n",
    "def rotation(face):\n",
    "    for k in (0,1):                 #0:adjacent edges, 1:face\n",
    "        tampon=[]\n",
    "        #print(face,k)\n",
    "        index=indexes[face[0]][k]\n",
    "        #print(index)\n",
    "        for i in index:\n",
    "            tampon.append(cube_list[i-1])\n",
    "            #print(i, cube_list[i-1], tampon)\n",
    "        if \"'\" not in face :  \n",
    "            #print('tampon',tampon,tampon[-3+k:],tampon[0:-3+k])                    #clockwise\n",
    "            tampon=tampon[-3+k:]+tampon[0:-3+k]\n",
    "            #print(tampon)\n",
    "            if '2' in face :\n",
    "                tampon=tampon[-3+k:]+tampon[0:-3+k]\n",
    "        else:                                      #counterclock\n",
    "            tampon=tampon[3-k:]+tampon[0:3-k]\n",
    "            if '2' in face :\n",
    "                tampon=tampon[3-k:]+tampon[0:3-k]\n",
    "        #print(k,tampon)\n",
    "    \n",
    "        m=0\n",
    "        for i in index:\n",
    "            cube_list[i-1]=tampon[m]\n",
    "            m+=1\n",
    "            \n",
    "    cubeout = ''.join(cube_list)\n",
    "        \n",
    "    return cubeout\n",
    "\n"
   ]
  },
  {
   "cell_type": "code",
   "execution_count": 77,
   "metadata": {},
   "outputs": [],
   "source": [
    "def rotation_test(face):\n",
    "    for k in (0,1):                 #0:adjacent edges, 1:face\n",
    "        tampon=[]\n",
    "        print(face,k)\n",
    "        index=indexes[face[0]][k]\n",
    "        #print(index)\n",
    "        for i in index:\n",
    "            tampon.append(cube_list[i-1])\n",
    "        #print(i, cube_list[i-1], tampon)\n",
    "        #print('tampon',tampon,tampon[-3+k:],tampon[0:-3+k]) \n",
    "        tampon=tampon[-3+k:]+tampon[0:-3+k]\n",
    "        m=0\n",
    "        for i in index:\n",
    "            cube_list[i-1]=tampon[m]\n",
    "            m+=1\n",
    "    cubeout = ''.join(cube_list)\n",
    "    return cubeout"
   ]
  },
  {
   "cell_type": "code",
   "execution_count": 78,
   "metadata": {},
   "outputs": [
    {
     "data": {
      "text/plain": [
       "'yyyyyyyyybbbbbbbbbrrrrrrrrrgggggggggooooooooowwwwwwwww'"
      ]
     },
     "execution_count": 78,
     "metadata": {},
     "output_type": "execute_result"
    }
   ],
   "source": [
    "goodcube"
   ]
  },
  {
   "cell_type": "code",
   "execution_count": 79,
   "metadata": {},
   "outputs": [
    {
     "data": {
      "text/plain": [
       "'wwwwwwwww'"
      ]
     },
     "execution_count": 79,
     "metadata": {},
     "output_type": "execute_result"
    }
   ],
   "source": [
    "UP = (0,9)\n",
    "LEFT = (9,18)\n",
    "FRONT = (18,27)\n",
    "RIGHT = (27,36)\n",
    "BACK = (36,45)\n",
    "DOWN = (45,54)\n",
    "\n",
    "\n",
    "f = DOWN\n",
    "\n",
    "goodcube[f[0]:f[1]]\n"
   ]
  },
  {
   "cell_type": "code",
   "execution_count": 80,
   "metadata": {},
   "outputs": [
    {
     "name": "stdout",
     "output_type": "stream",
     "text": [
      "    yyy\n",
      "    yyy\n",
      "    yyy\n",
      "bbb rrr ggg ooo\n",
      "bbb rrr ggg ooo\n",
      "bbb rrr ggg ooo\n",
      "    www\n",
      "    www\n",
      "    www\n"
     ]
    }
   ],
   "source": [
    "printcube(goodcube)\n"
   ]
  },
  {
   "cell_type": "code",
   "execution_count": 81,
   "metadata": {},
   "outputs": [
    {
     "data": {
      "text/plain": [
       "'yyyyyyyyy'"
      ]
     },
     "execution_count": 81,
     "metadata": {},
     "output_type": "execute_result"
    }
   ],
   "source": [
    "goodcube[0:9]"
   ]
  },
  {
   "cell_type": "code",
   "execution_count": 82,
   "metadata": {},
   "outputs": [
    {
     "name": "stdout",
     "output_type": "stream",
     "text": [
      "    yyy\n",
      "    yyy\n",
      "    ggg\n",
      "bby rrr wgg ooo\n",
      "bby rrr wgg ooo\n",
      "bby rrr wgg ooo\n",
      "    bbb\n",
      "    www\n",
      "    www\n"
     ]
    }
   ],
   "source": [
    "face = \"F'\"\n",
    "cubeout = rotation(face)\n",
    "cubeout\n",
    "\n",
    "printcube(cubeout)"
   ]
  },
  {
   "cell_type": "code",
   "execution_count": 83,
   "metadata": {},
   "outputs": [
    {
     "data": {
      "text/plain": [
       "'yyyyyygggbbybbybbyrrrrrrrrrwggwggwggooooooooobbbwwwwww'"
      ]
     },
     "execution_count": 83,
     "metadata": {},
     "output_type": "execute_result"
    }
   ],
   "source": [
    "''.join(cubeout)\n"
   ]
  },
  {
   "cell_type": "code",
   "execution_count": 84,
   "metadata": {},
   "outputs": [],
   "source": [
    "def printcube2(cube):\n",
    "    # print up face (yellow)\n",
    "    print('   ',cube[0:2])\n",
    "    print('   ',cube[2:4])\n",
    "    # print 4 lateral faces (blue, red, green, orange)\n",
    "    print(cube[4:6],'',cube[8:10],'',cube[12:14],'',cube[16:18])\n",
    "    print(cube[6:8],'',cube[10:12],'',cube[14:16],'',cube[18:20])\n",
    "    #print down face (white)\n",
    "    print('   ',cube[20:22])\n",
    "    print('   ',cube[22:24])\n",
    "\n",
    "def rotation2(face):                # for 2x2 cube\n",
    "    for k in (0,1):                 #0:adjacent edges, 1:face\n",
    "        tampon=[]\n",
    "        index=indexes2[face[0]][k]\n",
    "        for i in index:\n",
    "            tampon.append(cube_list[i-1])\n",
    "        # permute the tampon \n",
    "        if \"'\" not in face :                      #clockwise\n",
    "            tampon=tampon[-2+k:]+tampon[0:-2+k]\n",
    "            if '2' in face :    # do it twice\n",
    "                tampon=tampon[-2+k:]+tampon[0:-2+k]\n",
    "        else:                                      #counterclock\n",
    "            tampon=tampon[2-k:]+tampon[0:2-k]\n",
    "            if '2' in face :    # do it twice\n",
    "                tampon=tampon[2-k:]+tampon[0:2-k]\n",
    "        m=0\n",
    "        for i in index:\n",
    "            cube_list[i-1]=tampon[m]\n",
    "            m+=1\n",
    "        cubeout = ''.join(cube_list)\n",
    "        return cubeout\n"
   ]
  },
  {
   "cell_type": "code",
   "execution_count": 85,
   "metadata": {},
   "outputs": [],
   "source": [
    "def rotation_test(face):\n",
    "    for k in (0,1):                 #0:adjacent edges, 1:face\n",
    "        tampon=[]\n",
    "        #print(face,k)\n",
    "        index=indexes2[face[0]][k]\n",
    "        #print(index)\n",
    "        for i in index:\n",
    "            tampon.append(cube_list[i-1])\n",
    "        #rint(i, cube_list[i-1], tampon)\n",
    "        #print('tampon',tampon,tampon[-2+k:],tampon[0:-2+k]) \n",
    "        tampon=tampon[-2+k:]+tampon[0:-2+k]\n",
    "        m=0\n",
    "        for i in index:\n",
    "            cube_list[i-1]=tampon[m]\n",
    "            m+=1\n",
    "    cubeout = ''.join(cube_list)\n",
    "    return cubeout"
   ]
  },
  {
   "cell_type": "code",
   "execution_count": 86,
   "metadata": {},
   "outputs": [],
   "source": [
    "goodcube = 'yyyybbbbrrrrggggoooowwww'\n",
    "init(goodcube)\n"
   ]
  },
  {
   "cell_type": "code",
   "execution_count": 87,
   "metadata": {},
   "outputs": [
    {
     "name": "stdout",
     "output_type": "stream",
     "text": [
      "    yy\n",
      "    yy\n",
      "bb  rr  gg  oo\n",
      "bb  rr  gg  oo\n",
      "    ww\n",
      "    ww\n"
     ]
    }
   ],
   "source": [
    "printcube2(goodcube)"
   ]
  },
  {
   "cell_type": "code",
   "execution_count": 88,
   "metadata": {},
   "outputs": [
    {
     "data": {
      "text/plain": [
       "'yyyybbbbrrrrggggoooowwww'"
      ]
     },
     "execution_count": 88,
     "metadata": {},
     "output_type": "execute_result"
    }
   ],
   "source": [
    "''.join(cube_list)"
   ]
  },
  {
   "cell_type": "code",
   "execution_count": null,
   "metadata": {},
   "outputs": [
    {
     "name": "stdout",
     "output_type": "stream",
     "text": [
      "    yy\n",
      "    yy\n",
      "bb  rr  gg  oo\n",
      "bb  rr  gg  oo\n",
      "    ww\n",
      "    ww\n"
     ]
    }
   ],
   "source": [
    "face = 'L'       # clockwise\n",
    "cubeout = rotation2(face)\n",
    "printcube2(cubeout)"
   ]
  },
  {
   "cell_type": "code",
   "execution_count": 100,
   "metadata": {},
   "outputs": [
    {
     "name": "stdout",
     "output_type": "stream",
     "text": [
      "    ry\n",
      "    ry\n",
      "bb  wr  gg  oy\n",
      "bb  wr  gg  oy\n",
      "    ow\n",
      "    ow\n"
     ]
    }
   ],
   "source": [
    "face = 'L' + \"'\"       # counterclockwise\n",
    "cubeout = rotation2(face)\n",
    "printcube2(cubeout)"
   ]
  },
  {
   "cell_type": "code",
   "execution_count": 34,
   "metadata": {},
   "outputs": [
    {
     "name": "stdout",
     "output_type": "stream",
     "text": [
      "    yy\n",
      "    yy\n",
      "bb  rr  gg  oo\n",
      "bb  rr  gg  oo\n",
      "    ww\n",
      "    ww\n"
     ]
    }
   ],
   "source": [
    "goodcube = 'yyyybbbbrrrrggggoooowwww'\n",
    "init(goodcube)\n",
    "\n",
    "printcube2(goodcube)\n"
   ]
  },
  {
   "cell_type": "code",
   "execution_count": 35,
   "metadata": {},
   "outputs": [],
   "source": [
    "\n",
    "seq = \"R, U, R', U, R, U2, R'\"\n",
    "\n",
    "def combi1(seq):\n",
    "    for f in seq.split(', '):\n",
    "        print(f)\n",
    "        cubeout = rotation2(f)\n",
    "        printcube2(cubeout)\n"
   ]
  },
  {
   "cell_type": "code",
   "execution_count": 36,
   "metadata": {},
   "outputs": [
    {
     "name": "stdout",
     "output_type": "stream",
     "text": [
      "R\n",
      "    yr\n",
      "    yr\n",
      "bb  rw  gg  yo\n",
      "bb  rw  gg  yo\n",
      "    wo\n",
      "    wo\n",
      "U\n",
      "    yr\n",
      "    yr\n",
      "rw  gg  yo  bb\n",
      "bb  rw  gg  yo\n",
      "    wo\n",
      "    wo\n",
      "R'\n",
      "    yy\n",
      "    yb\n",
      "rw  gr  yo  ob\n",
      "bb  rr  gg  oo\n",
      "    wg\n",
      "    ww\n",
      "U\n",
      "    yy\n",
      "    yb\n",
      "gr  yo  ob  rw\n",
      "bb  rr  gg  oo\n",
      "    wg\n",
      "    ww\n",
      "R\n",
      "    yo\n",
      "    yr\n",
      "gr  yg  ob  bw\n",
      "bb  rw  gg  yo\n",
      "    wo\n",
      "    wr\n",
      "U2\n",
      "    yo\n",
      "    yr\n",
      "ob  bw  gr  yg\n",
      "bb  rw  gg  yo\n",
      "    wo\n",
      "    wr\n",
      "R'\n",
      "    yy\n",
      "    yy\n",
      "ob  bo  gr  rg\n",
      "bb  rr  gg  oo\n",
      "    ww\n",
      "    ww\n"
     ]
    }
   ],
   "source": [
    "combi1(seq)"
   ]
  }
 ],
 "metadata": {
  "kernelspec": {
   "display_name": "Python 3",
   "language": "python",
   "name": "python3"
  },
  "language_info": {
   "codemirror_mode": {
    "name": "ipython",
    "version": 3
   },
   "file_extension": ".py",
   "mimetype": "text/x-python",
   "name": "python",
   "nbconvert_exporter": "python",
   "pygments_lexer": "ipython3",
   "version": "3.12.8"
  }
 },
 "nbformat": 4,
 "nbformat_minor": 2
}
