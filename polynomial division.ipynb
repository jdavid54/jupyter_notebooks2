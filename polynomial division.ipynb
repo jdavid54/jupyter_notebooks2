{
 "cells": [
  {
   "cell_type": "code",
   "execution_count": 138,
   "metadata": {},
   "outputs": [],
   "source": [
    "#division polynomial par (x+a)\n",
    "powermax=5\n",
    "a=-1           #(x+1)"
   ]
  },
  {
   "cell_type": "code",
   "execution_count": 139,
   "metadata": {},
   "outputs": [],
   "source": [
    "#[i for i in range(powermax+1)]"
   ]
  },
  {
   "cell_type": "code",
   "execution_count": 140,
   "metadata": {},
   "outputs": [],
   "source": [
    "c1=[3,0,0,3,1,0]"
   ]
  },
  {
   "cell_type": "code",
   "execution_count": 141,
   "metadata": {},
   "outputs": [],
   "source": [
    "def makec2(c1):\n",
    "    c2=[0]\n",
    "    powermax=len(c1)-1\n",
    "    #print(c2[0])\n",
    "    for i in range(1,powermax+1):\n",
    "        #print(i)\n",
    "        c2.append(c2[i-1]*a+c1[i-1])\n",
    "    return c2"
   ]
  },
  {
   "cell_type": "code",
   "execution_count": 142,
   "metadata": {},
   "outputs": [
    {
     "name": "stdout",
     "output_type": "stream",
     "text": [
      "c1= [3, 0, 0, 3, 1, 0]\n",
      "c2= [0, 3, -3, 3, 0, 1]\n",
      "  3  0  0  3  1  0\n",
      "  0  3 -3  3  0  1\n"
     ]
    }
   ],
   "source": [
    "def fprint(c):\n",
    "    for i in range(len(c)):\n",
    "        print('%3s' % c[i],end='')\n",
    "    print()\n",
    "#print(powermax)        \n",
    "makec2(c1)\n",
    "print('c1=',c1)\n",
    "print('c2=',c2)\n",
    "fprint(c1)\n",
    "fprint(c2)"
   ]
  },
  {
   "cell_type": "code",
   "execution_count": 164,
   "metadata": {},
   "outputs": [],
   "source": [
    "def domath(c1):\n",
    "    c2=makec2(c1)\n",
    "    print(c1)\n",
    "    powermax=len(c2)-1\n",
    "    quotient=['.']\n",
    "    for i in range(powermax+1):\n",
    "        quotient.append(c1[i]-c2[i])\n",
    "    \n",
    "    rest=c2[powermax]*a+c1[powermax]\n",
    "    print(quotient,'+',rest)\n",
    "    fprint(c1)\n",
    "    fprint(c2)\n",
    "    fprint(quotient)"
   ]
  },
  {
   "cell_type": "code",
   "execution_count": 165,
   "metadata": {},
   "outputs": [
    {
     "name": "stdout",
     "output_type": "stream",
     "text": [
      "[3, 0, 0, 3, 1, 0]\n",
      "['.', 3, -3, 3, 0, 1, -1] + -1\n",
      "  3  0  0  3  1  0\n",
      "  0  3 -3  3  0  1\n",
      "  .  3 -3  3  0  1 -1\n"
     ]
    }
   ],
   "source": [
    "c1=[3,0,0,3,1,0]\n",
    "domath(c1)"
   ]
  },
  {
   "cell_type": "code",
   "execution_count": 166,
   "metadata": {},
   "outputs": [
    {
     "name": "stdout",
     "output_type": "stream",
     "text": [
      "[2, 0, -7, 1]\n",
      "['.', 2, -2, -5, 6] + 6\n",
      "  2  0 -7  1\n",
      "  0  2 -2 -5\n",
      "  .  2 -2 -5  6\n"
     ]
    }
   ],
   "source": [
    "c1=[2,0,-7,1]\n",
    "domath(c1)"
   ]
  },
  {
   "cell_type": "code",
   "execution_count": 167,
   "metadata": {},
   "outputs": [
    {
     "name": "stdout",
     "output_type": "stream",
     "text": [
      "[3, 0, -1, -1]\n",
      "['.', 3, -3, 2, -3] + -3\n",
      "  3  0 -1 -1\n",
      "  0  3 -3  2\n",
      "  .  3 -3  2 -3\n"
     ]
    }
   ],
   "source": [
    "c1=[3,0,-1,-1]\n",
    "domath(c1)"
   ]
  },
  {
   "cell_type": "code",
   "execution_count": 168,
   "metadata": {},
   "outputs": [
    {
     "name": "stdout",
     "output_type": "stream",
     "text": [
      "[7, 0, 0, 0, 0, 0, 0, 0, 1]\n",
      "['.', 7, -7, 7, -7, 7, -7, 7, -7, 8] + 8\n",
      "  7  0  0  0  0  0  0  0  1\n",
      "  0  7 -7  7 -7  7 -7  7 -7\n",
      "  .  7 -7  7 -7  7 -7  7 -7  8\n"
     ]
    }
   ],
   "source": [
    "c1=[7,0,0,0,0,0,0,0,1]\n",
    "domath(c1)"
   ]
  },
  {
   "cell_type": "code",
   "execution_count": 169,
   "metadata": {},
   "outputs": [
    {
     "name": "stdout",
     "output_type": "stream",
     "text": [
      "[1, 1]\n",
      "['.', 1, 0] + 0\n",
      "  1  1\n",
      "  0  1\n",
      "  .  1  0\n"
     ]
    }
   ],
   "source": [
    "c1=[1,1]\n",
    "domath(c1)"
   ]
  },
  {
   "cell_type": "code",
   "execution_count": 170,
   "metadata": {},
   "outputs": [
    {
     "name": "stdout",
     "output_type": "stream",
     "text": [
      "[1, 0, -1]\n",
      "['.', 1, -1, 0] + 0\n",
      "  1  0 -1\n",
      "  0  1 -1\n",
      "  .  1 -1  0\n"
     ]
    }
   ],
   "source": [
    "c1=[1,0,-1]\n",
    "domath(c1)"
   ]
  },
  {
   "cell_type": "code",
   "execution_count": null,
   "metadata": {},
   "outputs": [],
   "source": []
  },
  {
   "cell_type": "code",
   "execution_count": null,
   "metadata": {},
   "outputs": [],
   "source": []
  }
 ],
 "metadata": {
  "kernelspec": {
   "display_name": "Python 3",
   "language": "python",
   "name": "python3"
  },
  "language_info": {
   "codemirror_mode": {
    "name": "ipython",
    "version": 3
   },
   "file_extension": ".py",
   "mimetype": "text/x-python",
   "name": "python",
   "nbconvert_exporter": "python",
   "pygments_lexer": "ipython3",
   "version": "3.6.7"
  }
 },
 "nbformat": 4,
 "nbformat_minor": 2
}
