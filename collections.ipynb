{
 "cells": [
  {
   "cell_type": "code",
   "execution_count": 1,
   "metadata": {},
   "outputs": [
    {
     "name": "stdout",
     "output_type": "stream",
     "text": [
      "[0, 1, 4, 9, 16, 25, 36, 49, 64, 81]\n"
     ]
    }
   ],
   "source": [
    "print([i**2 for i in range(10)])"
   ]
  },
  {
   "cell_type": "raw",
   "metadata": {},
   "source": [
    "This module implements specialized container datatypes providing alternatives to Python’s general purpose built-in containers, dict, list, set, and tuple.\n",
    "\n",
    "namedtuple() : factory function for creating tuple subclasses with named fields\n",
    "\n",
    "deque : list-like container with fast appends and pops on either end\n",
    "\n",
    "Counter : dict subclass for counting hashable objects\n",
    "\n",
    "OrderedDict : dict subclass that remembers the order entries were added\n",
    "\n",
    "defaultdict : dict subclass that calls a factory function to supply missing values"
   ]
  },
  {
   "cell_type": "code",
   "execution_count": 2,
   "metadata": {},
   "outputs": [
    {
     "name": "stdout",
     "output_type": "stream",
     "text": [
      "defaultdict(<class 'int'>, {'red': 2, 'blue': 2, 'green': 1, 'yellow': 1})\n"
     ]
    }
   ],
   "source": [
    "from collections import defaultdict, Counter\n",
    "\n",
    "colors=['red','blue','green','blue','red','yellow']\n",
    "d=defaultdict(int)\n",
    "for color in colors:\n",
    "    d[color]+=1\n",
    "\n",
    "print(d)"
   ]
  },
  {
   "cell_type": "code",
   "execution_count": 3,
   "metadata": {},
   "outputs": [
    {
     "name": "stdout",
     "output_type": "stream",
     "text": [
      "Counter({'blue': 3, 'red': 2, 'green': 1})\n"
     ]
    }
   ],
   "source": [
    "# Tally occurrences of words in a list\n",
    "cnt = Counter()\n",
    "for word in ['red', 'blue', 'red', 'green', 'blue', 'blue']:\n",
    "    cnt[word] += 1\n",
    "print(cnt)\n",
    "#Counter({'blue': 3, 'red': 2, 'green': 1})"
   ]
  },
  {
   "cell_type": "code",
   "execution_count": null,
   "metadata": {},
   "outputs": [],
   "source": [
    "# Find the ten most common words in Hamlet\n",
    "import re\n",
    "words = re.findall(r'\\w+', open('hamlet.txt').read().lower())\n",
    "print(Counter(words).most_common(30))\n",
    "#[('the', 1143), ('and', 966), ('to', 762), ('of', 669), ('i', 631),('you', 554),  ('a', 546), ('my', 514), ('hamlet', 471), ('in', 451)]"
   ]
  },
  {
   "cell_type": "code",
   "execution_count": null,
   "metadata": {},
   "outputs": [],
   "source": [
    "c = Counter()  # a new, empty counter\n",
    "print(c)\n",
    "c = Counter('gallahad')                 # a new counter from an iterable\n",
    "print(c)\n",
    "c = Counter({'red': 4, 'blue': 2})      # a new counter from a mapping\n",
    "print(c)\n",
    "c = Counter(cats=4, dogs=8)             # a new counter from keyword args\n",
    "print(c)\n",
    "c = Counter(['eggs', 'ham'])\n",
    "print(c['bacon'])                              # count of a missing element is zero\n",
    "\n",
    "c = Counter(a=4, b=2, c=0, d=-2)\n",
    "l=list(c.elements())\n",
    "print(l)\n",
    "#['a', 'a', 'a', 'a', 'b', 'b']"
   ]
  },
  {
   "cell_type": "code",
   "execution_count": null,
   "metadata": {},
   "outputs": [],
   "source": [
    "c=Counter('abracadabra').most_common(3)\n",
    "print(c)\n",
    "#[('a', 5), ('r', 2), ('b', 2)]"
   ]
  },
  {
   "cell_type": "code",
   "execution_count": null,
   "metadata": {},
   "outputs": [],
   "source": [
    "c = Counter(a=4, b=2, c=0, d=-2)\n",
    "d = Counter(a=1, b=2, c=3, d=4)\n",
    "c.subtract(d)\n",
    "print(c)"
   ]
  },
  {
   "cell_type": "code",
   "execution_count": null,
   "metadata": {},
   "outputs": [],
   "source": [
    "sum(c.values())                 # total of all counts\n",
    "c.clear()                       # reset all counts\n",
    "list(c)                         # list unique elements\n",
    "set(c)                          # convert to a set\n",
    "dict(c)                         # convert to a regular dictionary\n",
    "c.items()                       # convert to a list of (elem, cnt) pairs\n",
    "Counter(dict([(\"a\",3),(\"b\",4)]))    # convert from a list of (elem, cnt) pairs\n",
    "n=2\n",
    "c.most_common()[:-n-1:-1]       # n least common elements\n",
    "c += Counter()                  # remove zero and negative counts"
   ]
  },
  {
   "cell_type": "code",
   "execution_count": null,
   "metadata": {},
   "outputs": [],
   "source": [
    "c = Counter(a=3, b=1)\n",
    "d = Counter(a=1, b=2)\n",
    "r=c + d                       # add two counters together:  c[x] + d[x]\n",
    "print(r)\n",
    "#Counter({'a': 4, 'b': 3})\n",
    "r=c - d                       # subtract (keeping only positive counts)\n",
    "print(r)\n",
    "#Counter({'a': 2})\n",
    "r=c & d                       # intersection:  min(c[x], d[x])\n",
    "print(r)\n",
    "#Counter({'a': 1, 'b': 1})\n",
    "r=c | d                       # union:  max(c[x], d[x])\n",
    "print(r)\n",
    "#Counter({'a': 3, 'b': 2})"
   ]
  },
  {
   "cell_type": "code",
   "execution_count": null,
   "metadata": {},
   "outputs": [],
   "source": [
    "from collections import deque\n",
    "d = deque('ghijkl')                 # make a new deque with three items\n",
    "for elem in d:                   # iterate over the deque's elements\n",
    "   print(elem.upper())"
   ]
  },
  {
   "cell_type": "code",
   "execution_count": null,
   "metadata": {},
   "outputs": [],
   "source": [
    "d.append('j')                    # add a new entry to the right side\n",
    "d.appendleft('f')                # add a new entry to the left side\n",
    "print(d)                         # show the representation of the deque\n",
    "#deque(['f', 'g', 'h', 'i', 'j'])"
   ]
  },
  {
   "cell_type": "code",
   "execution_count": null,
   "metadata": {},
   "outputs": [],
   "source": [
    "d.pop()                          # return and remove the rightmost item\n",
    "print(d)\n",
    "d.popleft()                      # return and remove the leftmost item\n",
    "print(d)\n",
    "list(d)                          # list the contents of the deque\n",
    "print(list(d))\n",
    "print(d[0])                            # peek at leftmost item\n",
    "\n",
    "print(d[-1])                            # peek at rightmost item\n"
   ]
  },
  {
   "cell_type": "code",
   "execution_count": null,
   "metadata": {},
   "outputs": [],
   "source": [
    "r=list(reversed(d))                # list the contents of a deque in reverse\n",
    "print(r)\n",
    "r='h' in d                         # search the deque\n",
    "print(r)"
   ]
  },
  {
   "cell_type": "code",
   "execution_count": null,
   "metadata": {},
   "outputs": [],
   "source": [
    "d.extend('jkl')                  # add multiple elements at once\n",
    "print(d)\n",
    "#deque(['g', 'h', 'i', 'j', 'k', 'l'])\n",
    "d.rotate(1)                      # right rotation\n",
    "print(d)\n",
    "#deque(['l', 'g', 'h', 'i', 'j', 'k'])\n",
    "d.rotate(-1)                     # left rotation\n",
    "print(d)\n",
    "#deque(['g', 'h', 'i', 'j', 'k', 'l'])"
   ]
  },
  {
   "cell_type": "code",
   "execution_count": null,
   "metadata": {},
   "outputs": [],
   "source": [
    "deque(reversed(d))               # make a new deque in reverse order\n",
    "print(d)\n",
    "#deque(['l', 'k', 'j', 'i', 'h', 'g'])\n",
    "d.clear()                        # empty the deque\n",
    "d.pop()                          # cannot pop from an empty deque"
   ]
  },
  {
   "cell_type": "code",
   "execution_count": null,
   "metadata": {},
   "outputs": [],
   "source": [
    "d.extendleft('abc')              # extendleft() reverses the input order\n",
    "print(d)\n",
    "#deque(['c', 'b', 'a'])"
   ]
  },
  {
   "cell_type": "code",
   "execution_count": null,
   "metadata": {},
   "outputs": [],
   "source": []
  }
 ],
 "metadata": {
  "kernelspec": {
   "display_name": "Python 3.10.9 64-bit (microsoft store)",
   "language": "python",
   "name": "python3"
  },
  "language_info": {
   "codemirror_mode": {
    "name": "ipython",
    "version": 3
   },
   "file_extension": ".py",
   "mimetype": "text/x-python",
   "name": "python",
   "nbconvert_exporter": "python",
   "pygments_lexer": "ipython3",
   "version": "3.10.9"
  },
  "vscode": {
   "interpreter": {
    "hash": "66c568644dff37e439d6add97a3cb551ada5fd8b2de74d4a6bc5885d9c188c4c"
   }
  }
 },
 "nbformat": 4,
 "nbformat_minor": 2
}
