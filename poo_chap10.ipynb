{
 "cells": [
  {
   "cell_type": "code",
   "execution_count": 1,
   "metadata": {},
   "outputs": [],
   "source": [
    "import numpy as np\n",
    "import matplotlib.pyplot as plt"
   ]
  },
  {
   "cell_type": "code",
   "execution_count": 2,
   "metadata": {},
   "outputs": [],
   "source": [
    "class Vecteur:\n",
    "    def __init__(self, x, y, s):\n",
    "        self.coord = np.array([x,y]).reshape(2,1)\n",
    "        self.nom = s\n",
    "        \n",
    "    def __repr__(self):\n",
    "        return 'Vecteur ' + self.nom + ' : [' + str(self.coord[0,0]) + ', '+ str(self.coord[1,0])+']'\n",
    "    "
   ]
  },
  {
   "cell_type": "code",
   "execution_count": 3,
   "metadata": {},
   "outputs": [
    {
     "data": {
      "text/plain": [
       "Vecteur v : [3, 5]"
      ]
     },
     "execution_count": 3,
     "metadata": {},
     "output_type": "execute_result"
    }
   ],
   "source": [
    "v = Vecteur(3,5,'v')\n",
    "v"
   ]
  },
  {
   "cell_type": "code",
   "execution_count": 4,
   "metadata": {},
   "outputs": [
    {
     "name": "stdout",
     "output_type": "stream",
     "text": [
      "[[3]\n",
      " [5]] v\n"
     ]
    }
   ],
   "source": [
    "print(v.coord, v.nom)"
   ]
  },
  {
   "cell_type": "code",
   "execution_count": 24,
   "metadata": {},
   "outputs": [],
   "source": [
    "class Point(Vecteur):\n",
    "    def __repr__(self):\n",
    "        return 'Point ' + self.nom + ' : [' + str(self.coord[0,0]) + ', '+ str(self.coord[1,0])+']'\n",
    "    \n",
    "    def dessiner(self,u,v):\n",
    "        x, y = self.coord[0], self.coord[1]\n",
    "        dl = '$'\n",
    "        plt.plot(x, y, 'bo', color='black', scalex=False,scaley=False)\n",
    "        #plt.annotate('local max', xy=(2, 1), xytext=(3, 1.5),arrowprops=dict(facecolor='black', shrink=0.05))\n",
    "        plt.annotate(dl +self.nom+dl, xy=(x,y), xytext=(x+u,y+v), fontsize=10)\n",
    "    \n",
    "    def milieu(self, B):\n",
    "        if type(B)==Point:\n",
    "            nom = '\\mu('+self.nom+', '+B.nom+')'\n",
    "            return Point((self.coord[0]+B.coord[0])/2, (self.coord[1]+B.coord[1])/2, nom)\n",
    "    \n",
    "    def vecteur(self, B):\n",
    "        if type(B)==Point:\n",
    "            x = B.coord[0]-self.coord[0]\n",
    "            y = B.coord[1]-self.coord[1]\n",
    "            nom = '\\overrightarrow{}'+self.nom+B.nom+'}'\n",
    "            return Vecteur(x, y ,nom)"
   ]
  },
  {
   "cell_type": "code",
   "execution_count": 188,
   "metadata": {},
   "outputs": [
    {
     "data": {
      "text/plain": [
       "(Point A : [1, 3],\n",
       " Point B : [2, -4],\n",
       " Point \\mu(A, B) : [1.5, -0.5],\n",
       " Vecteur \\overrightarrow{}AB} : [1, -7])"
      ]
     },
     "execution_count": 188,
     "metadata": {},
     "output_type": "execute_result"
    }
   ],
   "source": [
    "A = Point(1,3,'A')\n",
    "B = Point(2,-4,'B')\n",
    "I = A.milieu(B)\n",
    "v = A.vecteur(B)\n",
    "A, B, I, v"
   ]
  },
  {
   "cell_type": "code",
   "execution_count": 189,
   "metadata": {},
   "outputs": [
    {
     "data": {
      "image/png": "[encoded data removed]",
      "text/plain": [
       "<Figure size 432x288 with 1 Axes>"
      ]
     },
     "metadata": {
      "needs_background": "light"
     },
     "output_type": "display_data"
    }
   ],
   "source": [
    "h = 0.1\n",
    "fig, ax = plt.subplots()\n",
    "plt.plot(-5,-5)\n",
    "plt.plot(5,5)\n",
    "A.dessiner(h, h)\n",
    "B.dessiner(h, h)\n",
    "I.dessiner(h, h)\n",
    "\n",
    "plt.show()"
   ]
  },
  {
   "cell_type": "code",
   "execution_count": 30,
   "metadata": {},
   "outputs": [],
   "source": [
    "class Polygone:\n",
    "    def __init__(self, L):\n",
    "        self.points = L\n",
    "        self.cotes = len(L)-1\n",
    "    \n",
    "    def __repr__(self):\n",
    "        return 'Polygone '+ self.points[0].nom + '... ' + self.points[-1].nom\n",
    "    \n",
    "    def dessiner(self):\n",
    "        X = [p.coord[0] for p in self.points]\n",
    "        Y = [p.coord[1] for p in self.points]\n",
    "        plt.plot(X,Y, color='black', linewidth=2)\n",
    "        \n",
    "    def dessinerDetails(self, u,v):\n",
    "        self.dessiner()\n",
    "        for p in self.points:\n",
    "            p.dessiner(u,v)"
   ]
  },
  {
   "cell_type": "code",
   "execution_count": 153,
   "metadata": {},
   "outputs": [
    {
     "data": {
      "text/plain": [
       "[Point A : [1.0, 0.0],\n",
       " Point B : [0.30901699437494745, 0.9510565162951535],\n",
       " Point C : [-0.8090169943749473, 0.5877852522924732],\n",
       " Point D : [-0.8090169943749476, -0.587785252292473],\n",
       " Point E : [0.30901699437494723, -0.9510565162951536],\n",
       " Point F : [1.0, -2.4492935982947064e-16]]"
      ]
     },
     "execution_count": 153,
     "metadata": {},
     "output_type": "execute_result"
    }
   ],
   "source": [
    "phi = np.pi*2/5\n",
    "n = 5\n",
    "h = 0.05\n",
    "noms = ['A','B','C','D','E','F']\n",
    "L = [Point(np.cos(k*phi), np.sin(k*phi),noms[k]) for k in range(n+1)]\n",
    "L"
   ]
  },
  {
   "cell_type": "code",
   "execution_count": 154,
   "metadata": {},
   "outputs": [],
   "source": [
    "poly = Polygone(L)"
   ]
  },
  {
   "cell_type": "code",
   "execution_count": 155,
   "metadata": {},
   "outputs": [
    {
     "data": {
      "image/png": "[encoded data removed]",
      "text/plain": [
       "<Figure size 432x288 with 1 Axes>"
      ]
     },
     "metadata": {
      "needs_background": "light"
     },
     "output_type": "display_data"
    }
   ],
   "source": [
    "poly.dessiner()\n",
    "plt.show()"
   ]
  },
  {
   "cell_type": "code",
   "execution_count": 156,
   "metadata": {},
   "outputs": [
    {
     "data": {
      "image/png": "[encoded data removed]",
      "text/plain": [
       "<Figure size 432x288 with 1 Axes>"
      ]
     },
     "metadata": {
      "needs_background": "light"
     },
     "output_type": "display_data"
    }
   ],
   "source": [
    "poly.dessinerDetails(h, h)\n",
    "plt.show()"
   ]
  },
  {
   "cell_type": "code",
   "execution_count": 157,
   "metadata": {},
   "outputs": [],
   "source": [
    "class TransformationAffine:\n",
    "    def __init__(self, M, B):  # M matrice, B vecteur constant T(x) = M*x + B\n",
    "        if type(M)==np.matrix and type(B)==Vecteur:\n",
    "            self.matrice = M\n",
    "            self.constante = B\n",
    "            self.nom = '\\\\tau_{v}'\n",
    "            print(self.matrice,self.constante)\n",
    "    def image(self,p):\n",
    "        if type(p)==Point:\n",
    "            Y = np.dot(self.matrice, p.coord) + self.constante.coord\n",
    "            return Point(Y[0], Y[1], self.nom + '(' + p.nom +')')\n",
    "        elif type(p) == Polygone:\n",
    "            return Polygone([self.image(s) for s in p.points])"
   ]
  },
  {
   "cell_type": "code",
   "execution_count": 158,
   "metadata": {},
   "outputs": [
    {
     "data": {
      "text/plain": [
       "numpy.matrix"
      ]
     },
     "execution_count": 158,
     "metadata": {},
     "output_type": "execute_result"
    }
   ],
   "source": [
    "I = np.identity(2)\n",
    "type(I)\n",
    "np.matrix(I)\n",
    "type(np.matrix(I))"
   ]
  },
  {
   "cell_type": "code",
   "execution_count": 159,
   "metadata": {},
   "outputs": [
    {
     "name": "stdout",
     "output_type": "stream",
     "text": [
      "[[1. 0.]\n",
      " [0. 1.]] Vecteur v : [3, -4]\n"
     ]
    },
    {
     "data": {
      "text/plain": [
       "matrix([[1., 0.],\n",
       "        [0., 1.]])"
      ]
     },
     "execution_count": 159,
     "metadata": {},
     "output_type": "execute_result"
    }
   ],
   "source": [
    "T = TransformationAffine(np.matrix(np.identity(2)), Vecteur(3,-4,'v'))\n",
    "T.matrice"
   ]
  },
  {
   "cell_type": "code",
   "execution_count": 160,
   "metadata": {},
   "outputs": [
    {
     "data": {
      "text/plain": [
       "(Point A : [1, 3], Point \\tau_{v}(A) : [4.0, -1.0])"
      ]
     },
     "execution_count": 160,
     "metadata": {},
     "output_type": "execute_result"
    }
   ],
   "source": [
    "A, T.image(A)"
   ]
  },
  {
   "cell_type": "code",
   "execution_count": 191,
   "metadata": {},
   "outputs": [
    {
     "data": {
      "image/png": "[encoded data removed]",
      "text/plain": [
       "<Figure size 432x288 with 1 Axes>"
      ]
     },
     "metadata": {
      "needs_background": "light"
     },
     "output_type": "display_data"
    }
   ],
   "source": [
    "h = 0.3\n",
    "fig, ax = plt.subplots()\n",
    "plt.plot(-5,-5)\n",
    "plt.plot(5,5)\n",
    "A.dessiner(h, h)\n",
    "T.image(A).dessiner(h, h)\n",
    "plt.show()"
   ]
  },
  {
   "cell_type": "code",
   "execution_count": 170,
   "metadata": {},
   "outputs": [],
   "source": [
    "class Translation(TransformationAffine):\n",
    "    def __init__(self, v):\n",
    "        self.matrice = np.identity(2)\n",
    "        self.constante = v\n",
    "        self.nom = '\\\\tau_{'+v.nom+'}'\n",
    "    \n",
    "    def __repr__(self):\n",
    "        return 'Translation '+ self.nom + str(self.constante)"
   ]
  },
  {
   "cell_type": "code",
   "execution_count": 171,
   "metadata": {},
   "outputs": [
    {
     "data": {
      "text/plain": [
       "Translation \\tau_{u}Vecteur u : [-2, -3]"
      ]
     },
     "execution_count": 171,
     "metadata": {},
     "output_type": "execute_result"
    }
   ],
   "source": [
    "t = Translation(Vecteur(-2,-3,'u'))\n",
    "t"
   ]
  },
  {
   "cell_type": "code",
   "execution_count": 172,
   "metadata": {},
   "outputs": [
    {
     "data": {
      "text/plain": [
       "Point \\tau_{u}(A) : [-1.0, 0.0]"
      ]
     },
     "execution_count": 172,
     "metadata": {},
     "output_type": "execute_result"
    }
   ],
   "source": [
    "t.image(A)"
   ]
  },
  {
   "cell_type": "code",
   "execution_count": 186,
   "metadata": {},
   "outputs": [
    {
     "data": {
      "image/png": "[encoded data removed]",
      "text/plain": [
       "<Figure size 432x288 with 1 Axes>"
      ]
     },
     "metadata": {
      "needs_background": "light"
     },
     "output_type": "display_data"
    }
   ],
   "source": [
    "# translation point\n",
    "fig, ax = plt.subplots()\n",
    "plt.plot(-5,-5)\n",
    "plt.plot(5,5)\n",
    "A.dessiner(h, h)\n",
    "t.image(A).dessiner(h, h)\n",
    "plt.show()"
   ]
  },
  {
   "cell_type": "code",
   "execution_count": 174,
   "metadata": {},
   "outputs": [
    {
     "data": {
      "text/plain": [
       "Polygone \\tau_{u}(A)... \\tau_{u}(F)"
      ]
     },
     "execution_count": 174,
     "metadata": {},
     "output_type": "execute_result"
    }
   ],
   "source": [
    "t.image(poly)"
   ]
  },
  {
   "cell_type": "code",
   "execution_count": 175,
   "metadata": {},
   "outputs": [
    {
     "data": {
      "image/png": "[encoded data removed]",
      "text/plain": [
       "<Figure size 432x288 with 1 Axes>"
      ]
     },
     "metadata": {
      "needs_background": "light"
     },
     "output_type": "display_data"
    }
   ],
   "source": [
    "# translation polygone\n",
    "#g = 4\n",
    "fig, ax = plt.subplots()\n",
    "#plt.plot(-g,-g)\n",
    "#plt.plot(g/2,g/2)\n",
    "poly.dessiner()\n",
    "t.image(poly).dessiner()\n",
    "plt.show()"
   ]
  },
  {
   "cell_type": "code",
   "execution_count": 176,
   "metadata": {},
   "outputs": [],
   "source": [
    "class Rotation(TransformationAffine):\n",
    "    def __init__(self, Centre, theta, nom):\n",
    "        self.nom = nom\n",
    "        self.centre = Centre\n",
    "        self.angle = theta\n",
    "        # rotation\n",
    "        c, s = np.cos(theta), np.sin(theta)\n",
    "        self.matrice = np.matrix([[c, -s],[s, c]])\n",
    "        # translation\n",
    "        b2 = self.centre.coord - np.dot(self.matrice, self.centre.coord)\n",
    "        self.constante = Vecteur(b2[0,0], b2[1,0],'')\n",
    "        \n",
    "    def __repr__(self):\n",
    "        return 'Rotation (Centre : '+ str(self.centre) + ' , Angle : ' + str(self.angle) +')'"
   ]
  },
  {
   "cell_type": "code",
   "execution_count": 177,
   "metadata": {},
   "outputs": [
    {
     "data": {
      "text/plain": [
       "Rotation (Centre : Point O : [0, 0] , Angle : -1.0471975511965976)"
      ]
     },
     "execution_count": 177,
     "metadata": {},
     "output_type": "execute_result"
    }
   ],
   "source": [
    "O = Point(0,0,'O')\n",
    "r = Rotation(O,-np.pi/3,'r_1')\n",
    "r"
   ]
  },
  {
   "cell_type": "code",
   "execution_count": 178,
   "metadata": {},
   "outputs": [
    {
     "data": {
      "text/plain": [
       "Polygone r_1(A)... r_1(F)"
      ]
     },
     "execution_count": 178,
     "metadata": {},
     "output_type": "execute_result"
    }
   ],
   "source": [
    "r1Poly = r.image(poly)\n",
    "r1Poly"
   ]
  },
  {
   "cell_type": "code",
   "execution_count": 179,
   "metadata": {},
   "outputs": [
    {
     "data": {
      "image/png": "[encoded data removed]",
      "text/plain": [
       "<Figure size 432x288 with 1 Axes>"
      ]
     },
     "metadata": {
      "needs_background": "light"
     },
     "output_type": "display_data"
    }
   ],
   "source": [
    "# rotation polygone\n",
    "#g = 4\n",
    "h = 0.1\n",
    "fig, ax = plt.subplots()\n",
    "#plt.plot(-g,-g)\n",
    "#plt.plot(g/2,g/2)\n",
    "poly.dessiner()\n",
    "r1Poly.dessinerDetails(h,h)\n",
    "plt.show()"
   ]
  },
  {
   "cell_type": "code",
   "execution_count": 180,
   "metadata": {},
   "outputs": [
    {
     "data": {
      "text/plain": [
       "Rotation (Centre : Point W : [-3, 0] , Angle : -1.5707963267948966)"
      ]
     },
     "execution_count": 180,
     "metadata": {},
     "output_type": "execute_result"
    }
   ],
   "source": [
    "W = Point(-3,0,'W')\n",
    "r2 = Rotation(W,-np.pi/2,'r_2')\n",
    "r2"
   ]
  },
  {
   "cell_type": "code",
   "execution_count": 181,
   "metadata": {},
   "outputs": [
    {
     "data": {
      "text/plain": [
       "Polygone r_2(A)... r_2(F)"
      ]
     },
     "execution_count": 181,
     "metadata": {},
     "output_type": "execute_result"
    }
   ],
   "source": [
    "r2Poly = r2.image(poly)\n",
    "r2Poly"
   ]
  },
  {
   "cell_type": "code",
   "execution_count": 187,
   "metadata": {},
   "outputs": [
    {
     "data": {
      "image/png": "[encoded data removed]",
      "text/plain": [
       "<Figure size 432x288 with 1 Axes>"
      ]
     },
     "metadata": {
      "needs_background": "light"
     },
     "output_type": "display_data"
    }
   ],
   "source": [
    "# rotation polygone\n",
    "#g = 1\n",
    "fig, ax = plt.subplots()\n",
    "#plt.plot(-g,-g)\n",
    "#plt.plot(g,g)\n",
    "plt.plot(0,0,'ro')\n",
    "plt.plot(-3,0,'ro')\n",
    "poly.dessiner()\n",
    "r2Poly.dessiner()\n",
    "plt.show()"
   ]
  },
  {
   "cell_type": "code",
   "execution_count": 183,
   "metadata": {},
   "outputs": [
    {
     "data": {
      "image/png": "[encoded data removed]",
      "text/plain": [
       "<Figure size 432x288 with 1 Axes>"
      ]
     },
     "metadata": {
      "needs_background": "light"
     },
     "output_type": "display_data"
    }
   ],
   "source": [
    "# rotation polygone\n",
    "#g = 1\n",
    "fig, ax = plt.subplots()\n",
    "#plt.plot(-g,-g)\n",
    "#plt.plot(g,g)\n",
    "plt.plot(0,0,'ro')\n",
    "plt.plot(-3,0,'ro')\n",
    "poly.dessinerDetails(h, h)\n",
    "r2Poly.dessinerDetails(h, h)\n",
    "plt.show()"
   ]
  },
  {
   "cell_type": "code",
   "execution_count": null,
   "metadata": {},
   "outputs": [],
   "source": []
  }
 ],
 "metadata": {
  "kernelspec": {
   "display_name": "Python 3",
   "language": "python",
   "name": "python3"
  },
  "language_info": {
   "codemirror_mode": {
    "name": "ipython",
    "version": 3
   },
   "file_extension": ".py",
   "mimetype": "text/x-python",
   "name": "python",
   "nbconvert_exporter": "python",
   "pygments_lexer": "ipython3",
   "version": "3.7.3"
  }
 },
 "nbformat": 4,
 "nbformat_minor": 2
}
