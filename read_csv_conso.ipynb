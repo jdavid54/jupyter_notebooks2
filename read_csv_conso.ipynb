{
 "cells": [
  {
   "cell_type": "code",
   "execution_count": 76,
   "id": "2342ad6a",
   "metadata": {},
   "outputs": [],
   "source": [
    "import pandas as pd\n",
    "import matplotlib.pyplot as plt\n",
    "\n",
    "# Read the CSV file\n",
    "df = pd.read_csv(r'C:\\Users\\jeand\\Desktop\\test.txt') # Replace with your file path\n",
    "df.columns = ['timestamp', 'kW']  # Replace all column names\n",
    "                    "
   ]
  },
  {
   "cell_type": "code",
   "execution_count": 77,
   "id": "e2543aa0",
   "metadata": {},
   "outputs": [],
   "source": [
    "# Convert timestamp column to datetime if it's not already\n",
    "df['timestamp'] = pd.to_datetime(df['timestamp'], unit='ms').dt.tz_localize('UTC').dt.tz_convert('Europe/Paris')\n",
    "#, format='%Y-%m-%d %H:%M:%S')\n"
   ]
  },
  {
   "cell_type": "code",
   "execution_count": 78,
   "id": "c417f752",
   "metadata": {},
   "outputs": [
    {
     "name": "stdout",
     "output_type": "stream",
     "text": [
      "2025-07-16T16:43:46.696000+00:00\n"
     ]
    }
   ],
   "source": [
    "from datetime import datetime, timezone\n",
    "\n",
    "timestamp_ms = 1752684226696\n",
    "\n",
    "# Convert to seconds (dividing by 1000) and create datetime\n",
    "dt = datetime.fromtimestamp(timestamp_ms / 1000, tz=timezone.utc)\n",
    "\n",
    "print(dt.isoformat())  # Output: 2025-07-16T16:43:46.696000+00:00"
   ]
  },
  {
   "cell_type": "code",
   "execution_count": 79,
   "id": "1b3853bf",
   "metadata": {},
   "outputs": [
    {
     "data": {
      "text/html": [
       "<div>\n",
       "<style scoped>\n",
       "    .dataframe tbody tr th:only-of-type {\n",
       "        vertical-align: middle;\n",
       "    }\n",
       "\n",
       "    .dataframe tbody tr th {\n",
       "        vertical-align: top;\n",
       "    }\n",
       "\n",
       "    .dataframe thead th {\n",
       "        text-align: right;\n",
       "    }\n",
       "</style>\n",
       "<table border=\"1\" class=\"dataframe\">\n",
       "  <thead>\n",
       "    <tr style=\"text-align: right;\">\n",
       "      <th></th>\n",
       "      <th>timestamp</th>\n",
       "      <th>kW</th>\n",
       "    </tr>\n",
       "  </thead>\n",
       "  <tbody>\n",
       "    <tr>\n",
       "      <th>0</th>\n",
       "      <td>2025-07-20 10:16:14.955000+02:00</td>\n",
       "      <td>2.29</td>\n",
       "    </tr>\n",
       "    <tr>\n",
       "      <th>1</th>\n",
       "      <td>2025-07-20 10:16:16.522000+02:00</td>\n",
       "      <td>2.30</td>\n",
       "    </tr>\n",
       "    <tr>\n",
       "      <th>2</th>\n",
       "      <td>2025-07-20 10:16:18.083000+02:00</td>\n",
       "      <td>2.30</td>\n",
       "    </tr>\n",
       "    <tr>\n",
       "      <th>3</th>\n",
       "      <td>2025-07-20 10:16:19.661000+02:00</td>\n",
       "      <td>2.29</td>\n",
       "    </tr>\n",
       "    <tr>\n",
       "      <th>4</th>\n",
       "      <td>2025-07-20 10:16:21.229000+02:00</td>\n",
       "      <td>2.29</td>\n",
       "    </tr>\n",
       "    <tr>\n",
       "      <th>...</th>\n",
       "      <td>...</td>\n",
       "      <td>...</td>\n",
       "    </tr>\n",
       "    <tr>\n",
       "      <th>71</th>\n",
       "      <td>2025-07-20 10:30:47.857000+02:00</td>\n",
       "      <td>0.13</td>\n",
       "    </tr>\n",
       "    <tr>\n",
       "      <th>72</th>\n",
       "      <td>2025-07-20 10:31:16.057000+02:00</td>\n",
       "      <td>0.13</td>\n",
       "    </tr>\n",
       "    <tr>\n",
       "      <th>73</th>\n",
       "      <td>2025-07-20 10:31:43.667000+02:00</td>\n",
       "      <td>0.13</td>\n",
       "    </tr>\n",
       "    <tr>\n",
       "      <th>74</th>\n",
       "      <td>2025-07-20 10:32:11.709000+02:00</td>\n",
       "      <td>0.13</td>\n",
       "    </tr>\n",
       "    <tr>\n",
       "      <th>75</th>\n",
       "      <td>2025-07-20 10:32:40.801000+02:00</td>\n",
       "      <td>0.13</td>\n",
       "    </tr>\n",
       "  </tbody>\n",
       "</table>\n",
       "<p>76 rows × 2 columns</p>\n",
       "</div>"
      ],
      "text/plain": [
       "                          timestamp    kW\n",
       "0  2025-07-20 10:16:14.955000+02:00  2.29\n",
       "1  2025-07-20 10:16:16.522000+02:00  2.30\n",
       "2  2025-07-20 10:16:18.083000+02:00  2.30\n",
       "3  2025-07-20 10:16:19.661000+02:00  2.29\n",
       "4  2025-07-20 10:16:21.229000+02:00  2.29\n",
       "..                              ...   ...\n",
       "71 2025-07-20 10:30:47.857000+02:00  0.13\n",
       "72 2025-07-20 10:31:16.057000+02:00  0.13\n",
       "73 2025-07-20 10:31:43.667000+02:00  0.13\n",
       "74 2025-07-20 10:32:11.709000+02:00  0.13\n",
       "75 2025-07-20 10:32:40.801000+02:00  0.13\n",
       "\n",
       "[76 rows x 2 columns]"
      ]
     },
     "execution_count": 79,
     "metadata": {},
     "output_type": "execute_result"
    }
   ],
   "source": [
    "df"
   ]
  },
  {
   "cell_type": "code",
   "execution_count": 80,
   "id": "808c7899",
   "metadata": {},
   "outputs": [
    {
     "data": {
      "text/html": [
       "<div>\n",
       "<style scoped>\n",
       "    .dataframe tbody tr th:only-of-type {\n",
       "        vertical-align: middle;\n",
       "    }\n",
       "\n",
       "    .dataframe tbody tr th {\n",
       "        vertical-align: top;\n",
       "    }\n",
       "\n",
       "    .dataframe thead th {\n",
       "        text-align: right;\n",
       "    }\n",
       "</style>\n",
       "<table border=\"1\" class=\"dataframe\">\n",
       "  <thead>\n",
       "    <tr style=\"text-align: right;\">\n",
       "      <th></th>\n",
       "      <th>kW</th>\n",
       "    </tr>\n",
       "    <tr>\n",
       "      <th>timestamp</th>\n",
       "      <th></th>\n",
       "    </tr>\n",
       "  </thead>\n",
       "  <tbody>\n",
       "    <tr>\n",
       "      <th>2025-07-20 10:16:14.955000+02:00</th>\n",
       "      <td>2.29</td>\n",
       "    </tr>\n",
       "    <tr>\n",
       "      <th>2025-07-20 10:16:16.522000+02:00</th>\n",
       "      <td>2.30</td>\n",
       "    </tr>\n",
       "    <tr>\n",
       "      <th>2025-07-20 10:16:18.083000+02:00</th>\n",
       "      <td>2.30</td>\n",
       "    </tr>\n",
       "    <tr>\n",
       "      <th>2025-07-20 10:16:19.661000+02:00</th>\n",
       "      <td>2.29</td>\n",
       "    </tr>\n",
       "    <tr>\n",
       "      <th>2025-07-20 10:16:21.229000+02:00</th>\n",
       "      <td>2.29</td>\n",
       "    </tr>\n",
       "    <tr>\n",
       "      <th>...</th>\n",
       "      <td>...</td>\n",
       "    </tr>\n",
       "    <tr>\n",
       "      <th>2025-07-20 10:30:47.857000+02:00</th>\n",
       "      <td>0.13</td>\n",
       "    </tr>\n",
       "    <tr>\n",
       "      <th>2025-07-20 10:31:16.057000+02:00</th>\n",
       "      <td>0.13</td>\n",
       "    </tr>\n",
       "    <tr>\n",
       "      <th>2025-07-20 10:31:43.667000+02:00</th>\n",
       "      <td>0.13</td>\n",
       "    </tr>\n",
       "    <tr>\n",
       "      <th>2025-07-20 10:32:11.709000+02:00</th>\n",
       "      <td>0.13</td>\n",
       "    </tr>\n",
       "    <tr>\n",
       "      <th>2025-07-20 10:32:40.801000+02:00</th>\n",
       "      <td>0.13</td>\n",
       "    </tr>\n",
       "  </tbody>\n",
       "</table>\n",
       "<p>76 rows × 1 columns</p>\n",
       "</div>"
      ],
      "text/plain": [
       "                                    kW\n",
       "timestamp                             \n",
       "2025-07-20 10:16:14.955000+02:00  2.29\n",
       "2025-07-20 10:16:16.522000+02:00  2.30\n",
       "2025-07-20 10:16:18.083000+02:00  2.30\n",
       "2025-07-20 10:16:19.661000+02:00  2.29\n",
       "2025-07-20 10:16:21.229000+02:00  2.29\n",
       "...                                ...\n",
       "2025-07-20 10:30:47.857000+02:00  0.13\n",
       "2025-07-20 10:31:16.057000+02:00  0.13\n",
       "2025-07-20 10:31:43.667000+02:00  0.13\n",
       "2025-07-20 10:32:11.709000+02:00  0.13\n",
       "2025-07-20 10:32:40.801000+02:00  0.13\n",
       "\n",
       "[76 rows x 1 columns]"
      ]
     },
     "execution_count": 80,
     "metadata": {},
     "output_type": "execute_result"
    }
   ],
   "source": [
    "#df.kW.plot(x=df.timestamp,grid=True)\n",
    "df = df.set_index('timestamp')  # Set timestamp as index (important for clean plotting)\n",
    "df"
   ]
  },
  {
   "cell_type": "code",
   "execution_count": 81,
   "id": "8c7a50e1",
   "metadata": {},
   "outputs": [
    {
     "data": {
      "image/png": "[encoded data removed]",
      "text/plain": [
       "<Figure size 700x600 with 1 Axes>"
      ]
     },
     "metadata": {},
     "output_type": "display_data"
    }
   ],
   "source": [
    "\n",
    "# Create the plot\n",
    "ax = df.plot(y='kW', figsize=(7, 6), grid=True)\n",
    "\n",
    "# Customize the plot\n",
    "ax.set_title('Power Consumption Over Time')\n",
    "ax.set_ylabel('Power (kW)')\n",
    "ax.set_xlabel('Time')\n",
    "\n",
    "# Improve x-axis formatting\n",
    "ax.xaxis.set_major_formatter(\n",
    "    plt.matplotlib.dates.DateFormatter('%H:%M', tz='Europe/Paris')\n",
    ")\n",
    "plt.xticks(rotation=45)\n",
    "plt.tight_layout()"
   ]
  },
  {
   "cell_type": "code",
   "execution_count": 82,
   "id": "554ca4e6",
   "metadata": {},
   "outputs": [
    {
     "data": {
      "image/png": "[encoded data removed]",
      "text/plain": [
       "<Figure size 700x600 with 1 Axes>"
      ]
     },
     "metadata": {},
     "output_type": "display_data"
    }
   ],
   "source": [
    "# Plotting\n",
    "# Create the plot\n",
    "ax = df.plot(y='kW', figsize=(7, 6), grid=True)    \n",
    "# Customize the plot\n",
    "ax.set_title('Power Consumption Over Time (Last hour)')\n",
    "ax.set_ylabel('Power (kW)')\n",
    "ax.set_xlabel('Time')\n",
    "\n",
    "# Improve x-axis formatting\n",
    "ax.xaxis.set_major_formatter(\n",
    "    plt.matplotlib.dates.DateFormatter('%Y-%m-%d\\n%H:%M', tz='Europe/Paris')\n",
    ")\n",
    "plt.xticks(rotation=45)\n",
    "plt.tight_layout()                     "
   ]
  },
  {
   "cell_type": "code",
   "execution_count": 83,
   "id": "ecc4cc4e",
   "metadata": {},
   "outputs": [
    {
     "data": {
      "text/plain": [
       "76"
      ]
     },
     "execution_count": 83,
     "metadata": {},
     "output_type": "execute_result"
    }
   ],
   "source": [
    "len(df.kW) "
   ]
  },
  {
   "cell_type": "code",
   "execution_count": 84,
   "id": "85b25322",
   "metadata": {},
   "outputs": [
    {
     "data": {
      "text/plain": [
       "1.0921052631578947"
      ]
     },
     "execution_count": 84,
     "metadata": {},
     "output_type": "execute_result"
    }
   ],
   "source": [
    "sum(df.kW)/len(df.kW)  # Calculate the average power consumption"
   ]
  }
 ],
 "metadata": {
  "kernelspec": {
   "display_name": "Python 3",
   "language": "python",
   "name": "python3"
  },
  "language_info": {
   "codemirror_mode": {
    "name": "ipython",
    "version": 3
   },
   "file_extension": ".py",
   "mimetype": "text/x-python",
   "name": "python",
   "nbconvert_exporter": "python",
   "pygments_lexer": "ipython3",
   "version": "3.13.2"
  }
 },
 "nbformat": 4,
 "nbformat_minor": 5
}
