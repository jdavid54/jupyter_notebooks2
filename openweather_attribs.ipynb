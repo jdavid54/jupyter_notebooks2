{
 "cells": [
  {
   "cell_type": "code",
   "execution_count": 192,
   "metadata": {},
   "outputs": [],
   "source": [
    "from datetime import datetime\n",
    "import requests"
   ]
  },
  {
   "cell_type": "code",
   "execution_count": 193,
   "metadata": {},
   "outputs": [],
   "source": [
    "API_Key = 'edffd1bf975a74d5d10e58c5ac8be2d3'\n",
    "\n",
    "# my API keys\n",
    "#API_Key = 'c9d926a9549ae7933324ef26e13bb200'\n",
    "# API_Key = '56040ff66d50184c81a4df3a770657e3'\n",
    "\n",
    "#city = input('Enter city name :')\n",
    "city = 'gagny'\n",
    "# get real temp\n",
    "base_url = 'http://api.openweathermap.org/data/2.5/weather?appid='+API_Key+'&q='+city+'&units=metric'\n",
    "\n",
    "current = requests.get(base_url).json()\n",
    "lat = current['coord']['lat']\n",
    "lon = current['coord']['lon']"
   ]
  },
  {
   "cell_type": "code",
   "execution_count": 194,
   "metadata": {},
   "outputs": [
    {
     "data": {
      "text/plain": [
       "{'coord': {'lon': 2.5333, 'lat': 48.8833},\n",
       " 'weather': [{'id': 800,\n",
       "   'main': 'Clear',\n",
       "   'description': 'clear sky',\n",
       "   'icon': '01d'}],\n",
       " 'base': 'stations',\n",
       " 'main': {'temp': 5.38,\n",
       "  'feels_like': 2.56,\n",
       "  'temp_min': 3.19,\n",
       "  'temp_max': 7.29,\n",
       "  'pressure': 1020,\n",
       "  'humidity': 81},\n",
       " 'visibility': 10000,\n",
       " 'wind': {'speed': 3.6, 'deg': 210},\n",
       " 'clouds': {'all': 0},\n",
       " 'dt': 1700999355,\n",
       " 'sys': {'type': 2,\n",
       "  'id': 2041230,\n",
       "  'country': 'FR',\n",
       "  'sunrise': 1700982894,\n",
       "  'sunset': 1701014374},\n",
       " 'timezone': 3600,\n",
       " 'id': 6451993,\n",
       " 'name': 'Gagny',\n",
       " 'cod': 200}"
      ]
     },
     "execution_count": 194,
     "metadata": {},
     "output_type": "execute_result"
    }
   ],
   "source": [
    "current"
   ]
  },
  {
   "cell_type": "code",
   "execution_count": 195,
   "metadata": {},
   "outputs": [],
   "source": [
    "onecall = False\n",
    "#onecall = True"
   ]
  },
  {
   "cell_type": "code",
   "execution_count": 196,
   "metadata": {},
   "outputs": [
    {
     "data": {
      "text/plain": [
       "'http://api.openweathermap.org/data/2.5/weather?appid=edffd1bf975a74d5d10e58c5ac8be2d3&q=gagny&units=metric'"
      ]
     },
     "execution_count": 196,
     "metadata": {},
     "output_type": "execute_result"
    }
   ],
   "source": [
    "# get onecall\n",
    "if onecall:\n",
    "    base_url = f'https://api.openweathermap.org/data/2.5/onecall?lat={lat}&lon={lon}&units=metric&exclude=hourly,minutely&appid={API_Key}'\n",
    "base_url\n"
   ]
  },
  {
   "cell_type": "code",
   "execution_count": 197,
   "metadata": {},
   "outputs": [],
   "source": [
    "\n",
    "weather_object = requests.get(base_url)  # requestsResponse object\n",
    "attrbs = vars(weather_object)"
   ]
  },
  {
   "cell_type": "code",
   "execution_count": 198,
   "metadata": {},
   "outputs": [
    {
     "data": {
      "text/plain": [
       "{'_content': b'{\"coord\":{\"lon\":2.5333,\"lat\":48.8833},\"weather\":[{\"id\":800,\"main\":\"Clear\",\"description\":\"clear sky\",\"icon\":\"01d\"}],\"base\":\"stations\",\"main\":{\"temp\":5.38,\"feels_like\":2.56,\"temp_min\":3.19,\"temp_max\":7.29,\"pressure\":1020,\"humidity\":81},\"visibility\":10000,\"wind\":{\"speed\":3.6,\"deg\":210},\"clouds\":{\"all\":0},\"dt\":1700999355,\"sys\":{\"type\":2,\"id\":2041230,\"country\":\"FR\",\"sunrise\":1700982894,\"sunset\":1701014374},\"timezone\":3600,\"id\":6451993,\"name\":\"Gagny\",\"cod\":200}',\n",
       " '_content_consumed': True,\n",
       " '_next': None,\n",
       " 'status_code': 200,\n",
       " 'headers': {'Server': 'openresty', 'Date': 'Sun, 26 Nov 2023 11:52:24 GMT', 'Content-Type': 'application/json; charset=utf-8', 'Content-Length': '459', 'Connection': 'keep-alive', 'X-Cache-Key': '/data/2.5/weather?q=gagny&units=metric', 'Access-Control-Allow-Origin': '*', 'Access-Control-Allow-Credentials': 'true', 'Access-Control-Allow-Methods': 'GET, POST'},\n",
       " 'raw': <urllib3.response.HTTPResponse at 0x1c727c8e980>,\n",
       " 'url': 'http://api.openweathermap.org/data/2.5/weather?appid=edffd1bf975a74d5d10e58c5ac8be2d3&q=gagny&units=metric',\n",
       " 'encoding': 'utf-8',\n",
       " 'history': [],\n",
       " 'reason': 'OK',\n",
       " 'cookies': <RequestsCookieJar[]>,\n",
       " 'elapsed': datetime.timedelta(microseconds=44935),\n",
       " 'request': <PreparedRequest [GET]>,\n",
       " 'connection': <requests.adapters.HTTPAdapter at 0x1c727db60d0>}"
      ]
     },
     "execution_count": 198,
     "metadata": {},
     "output_type": "execute_result"
    }
   ],
   "source": [
    "attrbs"
   ]
  },
  {
   "cell_type": "code",
   "execution_count": 199,
   "metadata": {},
   "outputs": [
    {
     "data": {
      "text/plain": [
       "{'coord': {'lon': 2.5333, 'lat': 48.8833},\n",
       " 'weather': [{'id': 800,\n",
       "   'main': 'Clear',\n",
       "   'description': 'clear sky',\n",
       "   'icon': '01d'}],\n",
       " 'base': 'stations',\n",
       " 'main': {'temp': 5.38,\n",
       "  'feels_like': 2.56,\n",
       "  'temp_min': 3.19,\n",
       "  'temp_max': 7.29,\n",
       "  'pressure': 1020,\n",
       "  'humidity': 81},\n",
       " 'visibility': 10000,\n",
       " 'wind': {'speed': 3.6, 'deg': 210},\n",
       " 'clouds': {'all': 0},\n",
       " 'dt': 1700999355,\n",
       " 'sys': {'type': 2,\n",
       "  'id': 2041230,\n",
       "  'country': 'FR',\n",
       "  'sunrise': 1700982894,\n",
       "  'sunset': 1701014374},\n",
       " 'timezone': 3600,\n",
       " 'id': 6451993,\n",
       " 'name': 'Gagny',\n",
       " 'cod': 200}"
      ]
     },
     "execution_count": 199,
     "metadata": {},
     "output_type": "execute_result"
    }
   ],
   "source": [
    "_8call = requests.get(base_url).json()\n",
    "_8call"
   ]
  },
  {
   "cell_type": "code",
   "execution_count": 200,
   "metadata": {},
   "outputs": [
    {
     "name": "stdout",
     "output_type": "stream",
     "text": [
      "_content b'{\"coord\":{\"lon\":2.5333,\"lat\":48.8833},\"weather\":[{\"id\":800,\"main\":\"Clear\",\"description\":\"clear sky\",\"icon\":\"01d\"}],\"base\":\"stations\",\"main\":{\"temp\":5.38,\"feels_like\":2.56,\"temp_min\":3.19,\"temp_max\":7.29,\"pressure\":1020,\"humidity\":81},\"visibility\":10000,\"wind\":{\"speed\":3.6,\"deg\":210},\"clouds\":{\"all\":0},\"dt\":1700999355,\"sys\":{\"type\":2,\"id\":2041230,\"country\":\"FR\",\"sunrise\":1700982894,\"sunset\":1701014374},\"timezone\":3600,\"id\":6451993,\"name\":\"Gagny\",\"cod\":200}'\n",
      "_content_consumed True\n",
      "_next None\n",
      "status_code 200\n",
      "headers {'Server': 'openresty', 'Date': 'Sun, 26 Nov 2023 11:52:24 GMT', 'Content-Type': 'application/json; charset=utf-8', 'Content-Length': '459', 'Connection': 'keep-alive', 'X-Cache-Key': '/data/2.5/weather?q=gagny&units=metric', 'Access-Control-Allow-Origin': '*', 'Access-Control-Allow-Credentials': 'true', 'Access-Control-Allow-Methods': 'GET, POST'}\n",
      "raw <urllib3.response.HTTPResponse object at 0x000001C727C8E980>\n",
      "url http://api.openweathermap.org/data/2.5/weather?appid=edffd1bf975a74d5d10e58c5ac8be2d3&q=gagny&units=metric\n",
      "encoding utf-8\n",
      "history []\n",
      "reason OK\n",
      "cookies <RequestsCookieJar[]>\n",
      "elapsed 0:00:00.044935\n",
      "request <PreparedRequest [GET]>\n",
      "connection <requests.adapters.HTTPAdapter object at 0x000001C727DB60D0>\n"
     ]
    }
   ],
   "source": [
    "for att in attrbs.keys():\n",
    "    print(att, attrbs[att])"
   ]
  },
  {
   "cell_type": "code",
   "execution_count": 201,
   "metadata": {},
   "outputs": [
    {
     "data": {
      "text/plain": [
       "{'_content': b'{\"coord\":{\"lon\":2.5333,\"lat\":48.8833},\"weather\":[{\"id\":800,\"main\":\"Clear\",\"description\":\"clear sky\",\"icon\":\"01d\"}],\"base\":\"stations\",\"main\":{\"temp\":5.38,\"feels_like\":2.56,\"temp_min\":3.19,\"temp_max\":7.29,\"pressure\":1020,\"humidity\":81},\"visibility\":10000,\"wind\":{\"speed\":3.6,\"deg\":210},\"clouds\":{\"all\":0},\"dt\":1700999355,\"sys\":{\"type\":2,\"id\":2041230,\"country\":\"FR\",\"sunrise\":1700982894,\"sunset\":1701014374},\"timezone\":3600,\"id\":6451993,\"name\":\"Gagny\",\"cod\":200}',\n",
       " '_content_consumed': True,\n",
       " '_next': None,\n",
       " 'status_code': 200,\n",
       " 'headers': {'Server': 'openresty', 'Date': 'Sun, 26 Nov 2023 11:52:24 GMT', 'Content-Type': 'application/json; charset=utf-8', 'Content-Length': '459', 'Connection': 'keep-alive', 'X-Cache-Key': '/data/2.5/weather?q=gagny&units=metric', 'Access-Control-Allow-Origin': '*', 'Access-Control-Allow-Credentials': 'true', 'Access-Control-Allow-Methods': 'GET, POST'},\n",
       " 'raw': <urllib3.response.HTTPResponse at 0x1c727c8e980>,\n",
       " 'url': 'http://api.openweathermap.org/data/2.5/weather?appid=edffd1bf975a74d5d10e58c5ac8be2d3&q=gagny&units=metric',\n",
       " 'encoding': 'utf-8',\n",
       " 'history': [],\n",
       " 'reason': 'OK',\n",
       " 'cookies': <RequestsCookieJar[]>,\n",
       " 'elapsed': datetime.timedelta(microseconds=44935),\n",
       " 'request': <PreparedRequest [GET]>,\n",
       " 'connection': <requests.adapters.HTTPAdapter at 0x1c727db60d0>}"
      ]
     },
     "execution_count": 201,
     "metadata": {},
     "output_type": "execute_result"
    }
   ],
   "source": [
    "vars(weather_object)#['raw']"
   ]
  },
  {
   "cell_type": "code",
   "execution_count": 202,
   "metadata": {},
   "outputs": [
    {
     "data": {
      "text/plain": [
       "'http://api.openweathermap.org/data/2.5/weather?appid=edffd1bf975a74d5d10e58c5ac8be2d3&q=gagny&units=metric'"
      ]
     },
     "execution_count": 202,
     "metadata": {},
     "output_type": "execute_result"
    }
   ],
   "source": [
    "weather_object.url"
   ]
  },
  {
   "cell_type": "code",
   "execution_count": 214,
   "metadata": {},
   "outputs": [
    {
     "name": "stdout",
     "output_type": "stream",
     "text": [
      "{'base': 'stations',\n",
      " 'clouds': {'all': 0},\n",
      " 'cod': 200,\n",
      " 'coord': {'lat': 48.8833, 'lon': 2.5333},\n",
      " 'dt': 1700999355,\n",
      " 'id': 6451993,\n",
      " 'main': {'feels_like': 2.56,\n",
      "          'humidity': 81,\n",
      "          'pressure': 1020,\n",
      "          'temp': 5.38,\n",
      "          'temp_max': 7.29,\n",
      "          'temp_min': 3.19},\n",
      " 'name': 'Gagny',\n",
      " 'sys': {'country': 'FR',\n",
      "         'id': 2041230,\n",
      "         'sunrise': 1700982894,\n",
      "         'sunset': 1701014374,\n",
      "         'type': 2},\n",
      " 'timezone': 3600,\n",
      " 'visibility': 10000,\n",
      " 'weather': [{'description': 'clear sky',\n",
      "              'icon': '01d',\n",
      "              'id': 800,\n",
      "              'main': 'Clear'}],\n",
      " 'wind': {'deg': 210, 'speed': 3.6}}\n"
     ]
    }
   ],
   "source": [
    "from pprint import pprint\n",
    "text = weather_object.text\n",
    "weather_data = weather_object.json()\n",
    "if onecall:\n",
    "    pprint(weather_data['daily'][0])\n",
    "else:\n",
    "    pprint(weather_data)"
   ]
  },
  {
   "cell_type": "code",
   "execution_count": 204,
   "metadata": {},
   "outputs": [
    {
     "name": "stdout",
     "output_type": "stream",
     "text": [
      "{'temp': 5.38, 'feels_like': 2.56, 'temp_min': 3.19, 'temp_max': 7.29, 'pressure': 1020, 'humidity': 81}\n",
      "11/26/2023, 12:49:15\n",
      "5.38 C -  81 % - feels like  2.56 C - pressure 1020 mm, Max: 7.29 Min: 3.19 Wind: 3.6 km/h 210\n"
     ]
    }
   ],
   "source": [
    "d = 7  #0..7\n",
    "if onecall:\n",
    "    print(weather_data['daily'])\n",
    "    for d in range(8):\n",
    "        day0 = weather_data['daily'][d]\n",
    "        tmp = day0['temp']\n",
    "        hum = day0['humidity']\n",
    "        fl = day0['feels_like']\n",
    "        pr = day0['pressure']\n",
    "        max = day0['temp']['max']\n",
    "        min= day0['temp']['min']\n",
    "        wind = day0['wind_speed']\n",
    "        wind_dir = day0['wind_deg']\n",
    "        date = datetime.fromtimestamp(day0['dt'])\n",
    "        print(date.strftime(\"%d/%m/%Y\"),end=\" : \")\n",
    "        print('temp ',tmp['day'],'C - hum ',hum,'% - feels like ',fl['day'],'C - pressure',pr,'mm, Max:',max,'Min:',min,'Wind:',wind,'km/h',wind_dir)\n",
    "else:\n",
    "    print(weather_data['main']) \n",
    "    tmp = weather_data['main']['temp']\n",
    "    hum = weather_data['main']['humidity']\n",
    "    fl = weather_data['main']['feels_like']\n",
    "    pr = weather_data['main']['pressure']\n",
    "    max = weather_data['main']['temp_max']\n",
    "    min= weather_data['main']['temp_min']\n",
    "    wind = weather_data['wind']['speed']\n",
    "    wind_dir = weather_data['wind']['deg']\n",
    "    date = datetime.fromtimestamp(weather_data['dt'])\n",
    "    print(date.strftime(\"%m/%d/%Y, %H:%M:%S\"))\n",
    "    print(round(tmp,2),'C - ',hum,'% - feels like ',round(fl,2),'C - pressure',pr,'mm, Max:',round(max,2),'Min:',round(min,2),'Wind:',wind,'km/h',wind_dir)"
   ]
  },
  {
   "cell_type": "code",
   "execution_count": 205,
   "metadata": {},
   "outputs": [],
   "source": [
    "import json"
   ]
  },
  {
   "cell_type": "code",
   "execution_count": 206,
   "metadata": {},
   "outputs": [
    {
     "data": {
      "text/plain": [
       "{'coord': {'lon': 2.5333, 'lat': 48.8833},\n",
       " 'weather': [{'id': 800,\n",
       "   'main': 'Clear',\n",
       "   'description': 'clear sky',\n",
       "   'icon': '01d'}],\n",
       " 'base': 'stations',\n",
       " 'main': {'temp': 5.38,\n",
       "  'feels_like': 2.56,\n",
       "  'temp_min': 3.19,\n",
       "  'temp_max': 7.29,\n",
       "  'pressure': 1020,\n",
       "  'humidity': 81},\n",
       " 'visibility': 10000,\n",
       " 'wind': {'speed': 3.6, 'deg': 210},\n",
       " 'clouds': {'all': 0},\n",
       " 'dt': 1700999355,\n",
       " 'sys': {'type': 2,\n",
       "  'id': 2041230,\n",
       "  'country': 'FR',\n",
       "  'sunrise': 1700982894,\n",
       "  'sunset': 1701014374},\n",
       " 'timezone': 3600,\n",
       " 'id': 6451993,\n",
       " 'name': 'Gagny',\n",
       " 'cod': 200}"
      ]
     },
     "execution_count": 206,
     "metadata": {},
     "output_type": "execute_result"
    }
   ],
   "source": [
    "json_data = json.loads(text)\n",
    "json_data"
   ]
  },
  {
   "cell_type": "code",
   "execution_count": 207,
   "metadata": {},
   "outputs": [
    {
     "name": "stdout",
     "output_type": "stream",
     "text": [
      "<Response [200]>\n",
      "{\"login\":\"naveenkrnl\",\"id\":42272662,\"node_id\":\"MDQ6VXNlcjQyMjcyNjYy\",\"avatar_url\":\"https://avatars.githubusercontent.com/u/42272662?v=4\",\"gravatar_id\":\"\",\"url\":\"https://api.github.com/users/naveenkrnl\",\"html_url\":\"https://github.com/naveenkrnl\",\"followers_url\":\"https://api.github.com/users/naveenkrnl/followers\",\"following_url\":\"https://api.github.com/users/naveenkrnl/following{/other_user}\",\"gists_url\":\"https://api.github.com/users/naveenkrnl/gists{/gist_id}\",\"starred_url\":\"https://api.github.com/users/naveenkrnl/starred{/owner}{/repo}\",\"subscriptions_url\":\"https://api.github.com/users/naveenkrnl/subscriptions\",\"organizations_url\":\"https://api.github.com/users/naveenkrnl/orgs\",\"repos_url\":\"https://api.github.com/users/naveenkrnl/repos\",\"events_url\":\"https://api.github.com/users/naveenkrnl/events{/privacy}\",\"received_events_url\":\"https://api.github.com/users/naveenkrnl/received_events\",\"type\":\"User\",\"site_admin\":false,\"name\":\"Naveen Arora\",\"company\":null,\"blog\":\"\",\"location\":\"karnal, Haryana\",\"email\":null,\"hireable\":true,\"bio\":\"A person known by deeds\",\"twitter_username\":null,\"public_repos\":33,\"public_gists\":0,\"followers\":33,\"following\":7,\"created_at\":\"2018-08-10T12:53:15Z\",\"updated_at\":\"2023-10-16T14:26:41Z\"}\n"
     ]
    },
    {
     "data": {
      "text/plain": [
       "'{\"login\":\"naveenkrnl\",\"id\":42272662,\"node_id\":\"MDQ6VXNlcjQyMjcyNjYy\",\"avatar_url\":\"https://avatars.githubusercontent.com/u/42272662?v=4\",\"gravatar_id\":\"\",\"url\":\"https://api.github.com/users/naveenkrnl\",\"html_url\":\"https://github.com/naveenkrnl\",\"followers_url\":\"https://api.github.com/users/naveenkrnl/followers\",\"following_url\":\"https://api.github.com/users/naveenkrnl/following{/other_user}\",\"gists_url\":\"https://api.github.com/users/naveenkrnl/gists{/gist_id}\",\"starred_url\":\"https://api.github.com/users/naveenkrnl/starred{/owner}{/repo}\",\"subscriptions_url\":\"https://api.github.com/users/naveenkrnl/subscriptions\",\"organizations_url\":\"https://api.github.com/users/naveenkrnl/orgs\",\"repos_url\":\"https://api.github.com/users/naveenkrnl/repos\",\"events_url\":\"https://api.github.com/users/naveenkrnl/events{/privacy}\",\"received_events_url\":\"https://api.github.com/users/naveenkrnl/received_events\",\"type\":\"User\",\"site_admin\":false,\"name\":\"Naveen Arora\",\"company\":null,\"blog\":\"\",\"location\":\"karnal, Haryana\",\"email\":null,\"hireable\":true,\"bio\":\"A person known by deeds\",\"twitter_username\":null,\"public_repos\":33,\"public_gists\":0,\"followers\":33,\"following\":7,\"created_at\":\"2018-08-10T12:53:15Z\",\"updated_at\":\"2023-10-16T14:26:41Z\"}'"
      ]
     },
     "execution_count": 207,
     "metadata": {},
     "output_type": "execute_result"
    }
   ],
   "source": [
    "import requests\n",
    "\n",
    "# Making a GET request\n",
    "r = requests.get('https://api.github.com/users/naveenkrnl')\n",
    "\n",
    "# check status code for response received\n",
    "# success code - 200\n",
    "print(r)\n",
    "\n",
    "# print content of request\n",
    "response = r.content.decode('utf8')\n",
    "print(r.content.decode('utf8'))\n",
    "response\n"
   ]
  },
  {
   "cell_type": "code",
   "execution_count": 208,
   "metadata": {},
   "outputs": [
    {
     "name": "stdout",
     "output_type": "stream",
     "text": [
      "<Response [200]>\n"
     ]
    }
   ],
   "source": [
    "# Making a POST request\n",
    "r = requests.post('https://httpbin.org/post', data ={'key':'value'})\n",
    "  \n",
    "# check status code for response received\n",
    "# success code - 200\n",
    "print(r)"
   ]
  },
  {
   "cell_type": "code",
   "execution_count": 209,
   "metadata": {},
   "outputs": [
    {
     "name": "stdout",
     "output_type": "stream",
     "text": [
      "{'args': {}, 'data': '', 'files': {}, 'form': {'key': 'value'}, 'headers': {'Accept': '*/*', 'Accept-Encoding': 'gzip, deflate', 'Content-Length': '9', 'Content-Type': 'application/x-www-form-urlencoded', 'Host': 'httpbin.org', 'User-Agent': 'python-requests/2.28.2', 'X-Amzn-Trace-Id': 'Root=1-65633178-7b902ce23f87cc2a01a96d95'}, 'json': None, 'origin': '81.65.144.17', 'url': 'https://httpbin.org/post'}\n"
     ]
    }
   ],
   "source": [
    "  \n",
    "# print content of request\n",
    "print(r.json())"
   ]
  },
  {
   "cell_type": "code",
   "execution_count": 210,
   "metadata": {},
   "outputs": [
    {
     "data": {
      "text/plain": [
       "dict_keys(['args', 'data', 'files', 'form', 'headers', 'json', 'origin', 'url'])"
      ]
     },
     "execution_count": 210,
     "metadata": {},
     "output_type": "execute_result"
    }
   ],
   "source": [
    "r.json().keys()"
   ]
  },
  {
   "cell_type": "code",
   "execution_count": 211,
   "metadata": {},
   "outputs": [],
   "source": [
    "import pandas as pd"
   ]
  },
  {
   "cell_type": "code",
   "execution_count": 212,
   "metadata": {},
   "outputs": [
    {
     "data": {
      "text/html": [
       "<div>\n",
       "<style scoped>\n",
       "    .dataframe tbody tr th:only-of-type {\n",
       "        vertical-align: middle;\n",
       "    }\n",
       "\n",
       "    .dataframe tbody tr th {\n",
       "        vertical-align: top;\n",
       "    }\n",
       "\n",
       "    .dataframe thead th {\n",
       "        text-align: right;\n",
       "    }\n",
       "</style>\n",
       "<table border=\"1\" class=\"dataframe\">\n",
       "  <thead>\n",
       "    <tr style=\"text-align: right;\">\n",
       "      <th></th>\n",
       "      <th>color</th>\n",
       "      <th>x</th>\n",
       "      <th>y</th>\n",
       "    </tr>\n",
       "  </thead>\n",
       "  <tbody>\n",
       "    <tr>\n",
       "      <th>0</th>\n",
       "      <td>red</td>\n",
       "      <td>0</td>\n",
       "      <td>0</td>\n",
       "    </tr>\n",
       "    <tr>\n",
       "      <th>1</th>\n",
       "      <td>red</td>\n",
       "      <td>1</td>\n",
       "      <td>1</td>\n",
       "    </tr>\n",
       "    <tr>\n",
       "      <th>2</th>\n",
       "      <td>red</td>\n",
       "      <td>2</td>\n",
       "      <td>2</td>\n",
       "    </tr>\n",
       "    <tr>\n",
       "      <th>3</th>\n",
       "      <td>red</td>\n",
       "      <td>3</td>\n",
       "      <td>3</td>\n",
       "    </tr>\n",
       "    <tr>\n",
       "      <th>4</th>\n",
       "      <td>red</td>\n",
       "      <td>4</td>\n",
       "      <td>4</td>\n",
       "    </tr>\n",
       "    <tr>\n",
       "      <th>5</th>\n",
       "      <td>red</td>\n",
       "      <td>5</td>\n",
       "      <td>5</td>\n",
       "    </tr>\n",
       "    <tr>\n",
       "      <th>6</th>\n",
       "      <td>red</td>\n",
       "      <td>6</td>\n",
       "      <td>6</td>\n",
       "    </tr>\n",
       "    <tr>\n",
       "      <th>7</th>\n",
       "      <td>red</td>\n",
       "      <td>7</td>\n",
       "      <td>7</td>\n",
       "    </tr>\n",
       "    <tr>\n",
       "      <th>8</th>\n",
       "      <td>red</td>\n",
       "      <td>8</td>\n",
       "      <td>8</td>\n",
       "    </tr>\n",
       "    <tr>\n",
       "      <th>9</th>\n",
       "      <td>red</td>\n",
       "      <td>9</td>\n",
       "      <td>9</td>\n",
       "    </tr>\n",
       "    <tr>\n",
       "      <th>10</th>\n",
       "      <td>blue</td>\n",
       "      <td>0</td>\n",
       "      <td>0</td>\n",
       "    </tr>\n",
       "    <tr>\n",
       "      <th>11</th>\n",
       "      <td>blue</td>\n",
       "      <td>1</td>\n",
       "      <td>1</td>\n",
       "    </tr>\n",
       "    <tr>\n",
       "      <th>12</th>\n",
       "      <td>blue</td>\n",
       "      <td>2</td>\n",
       "      <td>4</td>\n",
       "    </tr>\n",
       "    <tr>\n",
       "      <th>13</th>\n",
       "      <td>blue</td>\n",
       "      <td>3</td>\n",
       "      <td>9</td>\n",
       "    </tr>\n",
       "    <tr>\n",
       "      <th>14</th>\n",
       "      <td>blue</td>\n",
       "      <td>4</td>\n",
       "      <td>16</td>\n",
       "    </tr>\n",
       "    <tr>\n",
       "      <th>15</th>\n",
       "      <td>blue</td>\n",
       "      <td>5</td>\n",
       "      <td>25</td>\n",
       "    </tr>\n",
       "    <tr>\n",
       "      <th>16</th>\n",
       "      <td>blue</td>\n",
       "      <td>6</td>\n",
       "      <td>36</td>\n",
       "    </tr>\n",
       "    <tr>\n",
       "      <th>17</th>\n",
       "      <td>blue</td>\n",
       "      <td>7</td>\n",
       "      <td>49</td>\n",
       "    </tr>\n",
       "    <tr>\n",
       "      <th>18</th>\n",
       "      <td>blue</td>\n",
       "      <td>8</td>\n",
       "      <td>64</td>\n",
       "    </tr>\n",
       "    <tr>\n",
       "      <th>19</th>\n",
       "      <td>blue</td>\n",
       "      <td>9</td>\n",
       "      <td>81</td>\n",
       "    </tr>\n",
       "  </tbody>\n",
       "</table>\n",
       "</div>"
      ],
      "text/plain": [
       "   color  x   y\n",
       "0    red  0   0\n",
       "1    red  1   1\n",
       "2    red  2   2\n",
       "3    red  3   3\n",
       "4    red  4   4\n",
       "5    red  5   5\n",
       "6    red  6   6\n",
       "7    red  7   7\n",
       "8    red  8   8\n",
       "9    red  9   9\n",
       "10  blue  0   0\n",
       "11  blue  1   1\n",
       "12  blue  2   4\n",
       "13  blue  3   9\n",
       "14  blue  4  16\n",
       "15  blue  5  25\n",
       "16  blue  6  36\n",
       "17  blue  7  49\n",
       "18  blue  8  64\n",
       "19  blue  9  81"
      ]
     },
     "execution_count": 212,
     "metadata": {},
     "output_type": "execute_result"
    }
   ],
   "source": [
    "# sample data\n",
    "df = pd.DataFrame([['red', 0, 0], ['red', 1, 1], ['red', 2, 2], ['red', 3, 3], ['red', 4, 4], ['red', 5, 5], ['red', 6, 6], ['red', 7, 7], ['red', 8, 8], ['red', 9, 9], ['blue', 0, 0], ['blue', 1, 1], ['blue', 2, 4], ['blue', 3, 9], ['blue', 4, 16], ['blue', 5, 25], ['blue', 6, 36], ['blue', 7, 49], ['blue', 8, 64], ['blue', 9, 81]],\n",
    "                  columns=['color', 'x', 'y'])\n",
    "df"
   ]
  },
  {
   "cell_type": "code",
   "execution_count": 213,
   "metadata": {},
   "outputs": [
    {
     "data": {
      "text/html": [
       "<div>\n",
       "<style scoped>\n",
       "    .dataframe tbody tr th:only-of-type {\n",
       "        vertical-align: middle;\n",
       "    }\n",
       "\n",
       "    .dataframe tbody tr th {\n",
       "        vertical-align: top;\n",
       "    }\n",
       "\n",
       "    .dataframe thead th {\n",
       "        text-align: right;\n",
       "    }\n",
       "</style>\n",
       "<table border=\"1\" class=\"dataframe\">\n",
       "  <thead>\n",
       "    <tr style=\"text-align: right;\">\n",
       "      <th>color</th>\n",
       "      <th>blue</th>\n",
       "      <th>red</th>\n",
       "    </tr>\n",
       "    <tr>\n",
       "      <th>x</th>\n",
       "      <th></th>\n",
       "      <th></th>\n",
       "    </tr>\n",
       "  </thead>\n",
       "  <tbody>\n",
       "    <tr>\n",
       "      <th>0</th>\n",
       "      <td>0</td>\n",
       "      <td>0</td>\n",
       "    </tr>\n",
       "    <tr>\n",
       "      <th>1</th>\n",
       "      <td>1</td>\n",
       "      <td>1</td>\n",
       "    </tr>\n",
       "    <tr>\n",
       "      <th>2</th>\n",
       "      <td>4</td>\n",
       "      <td>2</td>\n",
       "    </tr>\n",
       "    <tr>\n",
       "      <th>3</th>\n",
       "      <td>9</td>\n",
       "      <td>3</td>\n",
       "    </tr>\n",
       "    <tr>\n",
       "      <th>4</th>\n",
       "      <td>16</td>\n",
       "      <td>4</td>\n",
       "    </tr>\n",
       "    <tr>\n",
       "      <th>5</th>\n",
       "      <td>25</td>\n",
       "      <td>5</td>\n",
       "    </tr>\n",
       "    <tr>\n",
       "      <th>6</th>\n",
       "      <td>36</td>\n",
       "      <td>6</td>\n",
       "    </tr>\n",
       "    <tr>\n",
       "      <th>7</th>\n",
       "      <td>49</td>\n",
       "      <td>7</td>\n",
       "    </tr>\n",
       "    <tr>\n",
       "      <th>8</th>\n",
       "      <td>64</td>\n",
       "      <td>8</td>\n",
       "    </tr>\n",
       "    <tr>\n",
       "      <th>9</th>\n",
       "      <td>81</td>\n",
       "      <td>9</td>\n",
       "    </tr>\n",
       "  </tbody>\n",
       "</table>\n",
       "</div>"
      ],
      "text/plain": [
       "color  blue  red\n",
       "x               \n",
       "0         0    0\n",
       "1         1    1\n",
       "2         4    2\n",
       "3         9    3\n",
       "4        16    4\n",
       "5        25    5\n",
       "6        36    6\n",
       "7        49    7\n",
       "8        64    8\n",
       "9        81    9"
      ]
     },
     "execution_count": 213,
     "metadata": {},
     "output_type": "execute_result"
    }
   ],
   "source": [
    "# pivot the data into the correct shape\n",
    "df = df.pivot(index='x', columns='color', values='y')\n",
    "df"
   ]
  }
 ],
 "metadata": {
  "kernelspec": {
   "display_name": "Python 3",
   "language": "python",
   "name": "python3"
  },
  "language_info": {
   "codemirror_mode": {
    "name": "ipython",
    "version": 3
   },
   "file_extension": ".py",
   "mimetype": "text/x-python",
   "name": "python",
   "nbconvert_exporter": "python",
   "pygments_lexer": "ipython3",
   "version": "3.11.4"
  }
 },
 "nbformat": 4,
 "nbformat_minor": 2
}
