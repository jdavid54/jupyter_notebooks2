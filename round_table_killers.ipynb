{
 "cells": [
  {
   "cell_type": "code",
   "execution_count": null,
   "metadata": {},
   "outputs": [],
   "source": [
    "'''\n",
    "There is a round table in which N people are sitting.\n",
    "\n",
    "Initially the person numbered X holds a gun.\n",
    "In addition to it, there is a special number K that helps in determining the persons\n",
    "to be killed.\n",
    "The killing starts as follows - Firstly the person\n",
    "numbered X starts and he kills a total of X%K people sitting\n",
    "clockwise of him and he gives gun to the person i who is sitting\n",
    "just next to the last person killed.\n",
    "Now that person also kills the next i%K people and this goes on. If at any instant the total\n",
    "persons that are remaining is not greater than i%K where i is the\n",
    "number of person holding the gun then the person i wins.\n",
    "\n",
    "You can show that sooner or later only one person remains.\n",
    "So your job is to decide which numbered person will win this killing game.\n",
    "\n",
    "X%K is the remainder when X is divided by K\n",
    "X%K is the number of persons to be killed. \n",
    "If X is multiple of K, he can't kill !!!!\n",
    "\n",
    "Input\n",
    "First line contains three numbers N , K and X as input.\n",
    "Output\n",
    "In the output you have to tell the number of the player who will be the winner.\n",
    "Constraints :\n",
    "1<=n<=10**3\n",
    "2<=k<n\n",
    "1<=x<=n\n",
    "\n",
    "Example : N=5, K=2, X=3\n",
    "input : 1 2 3 4 5 \n",
    "output : 3\n",
    "\n",
    "Explanation :\n",
    "Initially the gun is with person 3.\n",
    "Value of 3%2 is 1 so he kills only one person to his clockwise i.e. 4 dies.\n",
    "Now gun is with person 5. 5%2 is 1 so person 1 is killed and gun is passed\n",
    "to person 2. 2%2 is zero and the gun is passed to 3 without killing anyone.\n",
    "Now again 3%2 is 1 so 5 gets killed and gun is passed to 2. Then the gun is\n",
    "passed to 3 again and finally he kills person 2.\n",
    "'''\n"
   ]
  },
  {
   "cell_type": "code",
   "execution_count": 2,
   "metadata": {},
   "outputs": [],
   "source": [
    "def isDead(person):         \n",
    "    if l[(person-1)%n]==0:\n",
    "        return True\n",
    "    else:\n",
    "        return False"
   ]
  },
  {
   "cell_type": "code",
   "execution_count": 3,
   "metadata": {},
   "outputs": [],
   "source": [
    "def roundkill(killer):\n",
    "    global l,killed    \n",
    "    i=killer-1    #index in list\n",
    "    n2k=killer%k   #number of persons to kill\n",
    "    offset=0\n",
    "    #print('\\n',l,killer,i,offset,n2k)\n",
    "    print('\\nKiller',killer,'has to kill',killer%k,':')\n",
    "    while n2k!=0:\n",
    "        offset+=1\n",
    "        target=(i+offset)%n+1\n",
    "        if killer==target:\n",
    "            print('.... but no more people to kill !')\n",
    "            return target\n",
    "        if not isDead(target):\n",
    "            l[(i+offset)%n]=0\n",
    "            print('- kill ', target)\n",
    "            killed+=1\n",
    "            n2k-=1\n",
    "    return (i+offset)%n+1  #lastkilled"
   ]
  },
  {
   "cell_type": "code",
   "execution_count": 4,
   "metadata": {},
   "outputs": [],
   "source": [
    "def main():\n",
    "    global x,l,killed\n",
    "    while killed<(n-1):                \n",
    "        lastkilled=roundkill(x)\n",
    "        print(l,'\\nTotal killed',killed)\n",
    "        x=lastkilled+1        #next after lastkilled\n",
    "        if x>n: x=1        \n",
    "        while (isDead(x)):\n",
    "            #print(x,' is dead!')\n",
    "            x+=1\n",
    "            if x>n:x=1\n",
    "        if killed<(n-1):\n",
    "            print('Next killer is',x)\n",
    "    print('End of killing.....')\n",
    "    print('Survivor is',x)        "
   ]
  },
  {
   "cell_type": "code",
   "execution_count": 5,
   "metadata": {},
   "outputs": [],
   "source": [
    "def test():\n",
    "    roundkill(3)\n",
    "    print(l)\n",
    "    roundkill(5)\n",
    "    print(l)"
   ]
  },
  {
   "cell_type": "code",
   "execution_count": 19,
   "metadata": {},
   "outputs": [
    {
     "name": "stdout",
     "output_type": "stream",
     "text": [
      "Start the killing ..... \n",
      " [1, 2, 3, 4, 5, 6, 7, 8, 9, 10]\n",
      "First killer is 1\n",
      "Maximum to be killed :  2\n"
     ]
    }
   ],
   "source": [
    "n,k,x = 10,3,1\n",
    "# n = total guests\n",
    "# k = if  killer number is multiple of k can't kill and k-1 is the maximum number of persons to be killed\n",
    "# x = first killer\n",
    "l=[i for i in range(1,n+1)]\n",
    "print('Start the killing ..... \\n',l)\n",
    "print('First killer is',x)\n",
    "print('Maximum to be killed : ',k-1)\n",
    "killed=0"
   ]
  },
  {
   "cell_type": "code",
   "execution_count": 17,
   "metadata": {},
   "outputs": [
    {
     "name": "stdout",
     "output_type": "stream",
     "text": [
      "\n",
      "Killer 1 has to kill 1 :\n",
      "- kill  2\n",
      "[1, 0, 3, 4, 5, 6, 7, 8, 9, 10] \n",
      "Total killed 1\n",
      "Next killer is 3\n",
      "\n",
      "Killer 3 has to kill 0 :\n",
      "[1, 0, 3, 4, 5, 6, 7, 8, 9, 10] \n",
      "Total killed 1\n",
      "Next killer is 4\n",
      "\n",
      "Killer 4 has to kill 1 :\n",
      "- kill  5\n",
      "[1, 0, 3, 4, 0, 6, 7, 8, 9, 10] \n",
      "Total killed 2\n",
      "Next killer is 6\n",
      "\n",
      "Killer 6 has to kill 0 :\n",
      "[1, 0, 3, 4, 0, 6, 7, 8, 9, 10] \n",
      "Total killed 2\n",
      "Next killer is 7\n",
      "\n",
      "Killer 7 has to kill 1 :\n",
      "- kill  8\n",
      "[1, 0, 3, 4, 0, 6, 7, 0, 9, 10] \n",
      "Total killed 3\n",
      "Next killer is 9\n",
      "\n",
      "Killer 9 has to kill 0 :\n",
      "[1, 0, 3, 4, 0, 6, 7, 0, 9, 10] \n",
      "Total killed 3\n",
      "Next killer is 10\n",
      "\n",
      "Killer 10 has to kill 1 :\n",
      "- kill  1\n",
      "[0, 0, 3, 4, 0, 6, 7, 0, 9, 10] \n",
      "Total killed 4\n",
      "Next killer is 3\n",
      "\n",
      "Killer 3 has to kill 0 :\n",
      "[0, 0, 3, 4, 0, 6, 7, 0, 9, 10] \n",
      "Total killed 4\n",
      "Next killer is 4\n",
      "\n",
      "Killer 4 has to kill 1 :\n",
      "- kill  6\n",
      "[0, 0, 3, 4, 0, 0, 7, 0, 9, 10] \n",
      "Total killed 5\n",
      "Next killer is 7\n",
      "\n",
      "Killer 7 has to kill 1 :\n",
      "- kill  9\n",
      "[0, 0, 3, 4, 0, 0, 7, 0, 0, 10] \n",
      "Total killed 6\n",
      "Next killer is 10\n",
      "\n",
      "Killer 10 has to kill 1 :\n",
      "- kill  3\n",
      "[0, 0, 0, 4, 0, 0, 7, 0, 0, 10] \n",
      "Total killed 7\n",
      "Next killer is 4\n",
      "\n",
      "Killer 4 has to kill 1 :\n",
      "- kill  7\n",
      "[0, 0, 0, 4, 0, 0, 0, 0, 0, 10] \n",
      "Total killed 8\n",
      "Next killer is 10\n",
      "\n",
      "Killer 10 has to kill 1 :\n",
      "- kill  4\n",
      "[0, 0, 0, 0, 0, 0, 0, 0, 0, 10] \n",
      "Total killed 9\n",
      "End of killing.....\n",
      "Survivor is 10\n"
     ]
    }
   ],
   "source": [
    "#test()\n",
    "main()       "
   ]
  },
  {
   "cell_type": "code",
   "execution_count": null,
   "metadata": {},
   "outputs": [],
   "source": []
  }
 ],
 "metadata": {
  "kernelspec": {
   "display_name": "Python 3",
   "language": "python",
   "name": "python3"
  },
  "language_info": {
   "codemirror_mode": {
    "name": "ipython",
    "version": 3
   },
   "file_extension": ".py",
   "mimetype": "text/x-python",
   "name": "python",
   "nbconvert_exporter": "python",
   "pygments_lexer": "ipython3",
   "version": "3.7.3"
  }
 },
 "nbformat": 4,
 "nbformat_minor": 2
}
