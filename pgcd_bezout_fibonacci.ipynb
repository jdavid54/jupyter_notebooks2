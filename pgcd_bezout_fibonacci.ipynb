{
 "cells": [
  {
   "cell_type": "code",
   "execution_count": 1,
   "metadata": {},
   "outputs": [],
   "source": [
    "import numpy as np\n",
    "\n",
    "def pgcd(a,b):\n",
    "    r0, r1 = a, b    \n",
    "    while r1 != 0:\n",
    "        r0, (q, r1) = r1, divmod(r0, r1)\n",
    "    return r0\n",
    "\n",
    "def bezout(a,b):\n",
    "    r0, r1, m = a, b, np.identity(2)    \n",
    "    while r1 != 0:\n",
    "        r0, (q, r1) = r1, divmod(r0, r1)\n",
    "        m = np.matrix([0,1,1,-q]).reshape(2,2)*m                       \n",
    "    return r0, m"
   ]
  },
  {
   "cell_type": "code",
   "execution_count": 2,
   "metadata": {},
   "outputs": [
    {
     "data": {
      "text/plain": [
       "60"
      ]
     },
     "execution_count": 2,
     "metadata": {},
     "output_type": "execute_result"
    }
   ],
   "source": [
    "pgcd(60, 120)"
   ]
  },
  {
   "cell_type": "code",
   "execution_count": 3,
   "metadata": {},
   "outputs": [
    {
     "data": {
      "text/plain": [
       "(60, matrix([[ 0.,  1.],\n",
       "         [ 1., -2.]]))"
      ]
     },
     "execution_count": 3,
     "metadata": {},
     "output_type": "execute_result"
    }
   ],
   "source": [
    "bezout(120, 60)"
   ]
  },
  {
   "cell_type": "code",
   "execution_count": 4,
   "metadata": {},
   "outputs": [
    {
     "data": {
      "text/plain": [
       "matrix([[ 0,  1,  1, -2]])"
      ]
     },
     "execution_count": 4,
     "metadata": {},
     "output_type": "execute_result"
    }
   ],
   "source": [
    "np.matrix([0,1,1,-2])"
   ]
  },
  {
   "cell_type": "code",
   "execution_count": 5,
   "metadata": {},
   "outputs": [
    {
     "data": {
      "text/plain": [
       "matrix([[ 0,  1],\n",
       "        [ 1, -2]])"
      ]
     },
     "execution_count": 5,
     "metadata": {},
     "output_type": "execute_result"
    }
   ],
   "source": [
    "np.matrix([0,1,1,-2]).reshape(2,2)"
   ]
  },
  {
   "cell_type": "code",
   "execution_count": 6,
   "metadata": {},
   "outputs": [],
   "source": [
    "def suite(a,b):\n",
    "    r0, r1, m = a, b, np.identity(2)  \n",
    "    while r1 != 0:\n",
    "        r0, (q, r1) = r1, divmod(r0, r1)\n",
    "        print(r0, r1)"
   ]
  },
  {
   "cell_type": "code",
   "execution_count": 35,
   "metadata": {},
   "outputs": [
    {
     "name": "stdout",
     "output_type": "stream",
     "text": [
      "32 4\n",
      "4 0\n"
     ]
    }
   ],
   "source": [
    "suite(100,32)"
   ]
  },
  {
   "cell_type": "code",
   "execution_count": 11,
   "metadata": {},
   "outputs": [],
   "source": [
    "F0, F1 = 0, 1\n",
    "q1 = (1 + np.sqrt(5))/2\n",
    "q2 = (1 - np.sqrt(5))/2\n",
    "\n",
    "def fibonacci_n(n):\n",
    "    return (q2*F0-F1)/(q2-q1)*q1**n + (q1*F0-F1)/(q1-q2)*q2**n   \n",
    "\n",
    "def f_n(n):\n",
    "    return q1**(n+1)*(q1-1)/(q1-q2) + q2**(n+1)*(q2-1)/(q2-q1)"
   ]
  },
  {
   "cell_type": "code",
   "execution_count": 31,
   "metadata": {},
   "outputs": [
    {
     "data": {
      "text/plain": [
       "55.00000000000002"
      ]
     },
     "execution_count": 31,
     "metadata": {},
     "output_type": "execute_result"
    }
   ],
   "source": [
    "n = 10\n",
    "fibonacci_n(10)"
   ]
  },
  {
   "cell_type": "code",
   "execution_count": 32,
   "metadata": {},
   "outputs": [
    {
     "name": "stdout",
     "output_type": "stream",
     "text": [
      "0 0.0 0.0\n",
      "1 1.0 1.0\n",
      "2 0.9999999999999999 1.0\n",
      "3 2.0 2.0000000000000004\n",
      "4 3.0000000000000004 3.000000000000001\n",
      "5 5.000000000000001 5.000000000000001\n",
      "6 8.000000000000002 8.000000000000002\n",
      "7 13.000000000000004 13.000000000000004\n",
      "8 21.000000000000004 21.000000000000007\n",
      "9 34.000000000000014 34.000000000000014\n"
     ]
    }
   ],
   "source": [
    "for n in range(10):\n",
    "    print (n,fibonacci_n(n),f_n(n))"
   ]
  },
  {
   "cell_type": "code",
   "execution_count": 33,
   "metadata": {},
   "outputs": [],
   "source": [
    "import matplotlib.pyplot as plt"
   ]
  },
  {
   "cell_type": "code",
   "execution_count": 36,
   "metadata": {},
   "outputs": [
    {
     "data": {
      "image/png": "[encoded data removed]",
      "text/plain": [
       "<Figure size 432x288 with 1 Axes>"
      ]
     },
     "metadata": {
      "needs_background": "light"
     },
     "output_type": "display_data"
    }
   ],
   "source": [
    "x = range(n+1)\n",
    "y =fibonacci_n(x)\n",
    "plt.plot(x,y)\n",
    "for n in range(10):   \n",
    "    plt.plot(n,f_n(n),'r+')\n",
    "plt.show()"
   ]
  },
  {
   "cell_type": "code",
   "execution_count": null,
   "metadata": {},
   "outputs": [],
   "source": []
  }
 ],
 "metadata": {
  "kernelspec": {
   "display_name": "Python 3",
   "language": "python",
   "name": "python3"
  },
  "language_info": {
   "codemirror_mode": {
    "name": "ipython",
    "version": 3
   },
   "file_extension": ".py",
   "mimetype": "text/x-python",
   "name": "python",
   "nbconvert_exporter": "python",
   "pygments_lexer": "ipython3",
   "version": "3.7.3"
  }
 },
 "nbformat": 4,
 "nbformat_minor": 2
}
