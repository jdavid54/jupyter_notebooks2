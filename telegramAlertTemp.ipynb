{
 "cells": [
  {
   "cell_type": "code",
   "execution_count": null,
   "metadata": {},
   "outputs": [],
   "source": [
    "import requests\n",
    "import time\n",
    "\n",
    "named_tuple = time.localtime() # get struct_time\n",
    "time_string = time.strftime(\"%m/%d/%Y, %H:%M:%S\", named_tuple)\n",
    "print(time_string)"
   ]
  },
  {
   "cell_type": "code",
   "execution_count": null,
   "metadata": {},
   "outputs": [],
   "source": [
    "BOT_TOKEN =''\n",
    "CHAT_ID = 5686142393\n",
    "seuil = 55\n",
    "once = True"
   ]
  },
  {
   "cell_type": "code",
   "execution_count": null,
   "metadata": {},
   "outputs": [],
   "source": [
    "def send_message(msg):\n",
    "    url = f\"https://api.telegram.org/bot{BOT_TOKEN}/sendMessage\"\n",
    "    params = { \"chat_id\": CHAT_ID, \"text\": msg }\n",
    "    requests.get(url, params=params)\n",
    "\n",
    "def telegram(pi, temp):\n",
    "    global once\n",
    "    if temp > seuil and once:\n",
    "        named_tuple = time.localtime() # get struct_time\n",
    "        time_string = time.strftime(\"%m/%d/%Y, %H:%M:%S\", named_tuple)\n",
    "        send_message(f\"{time_string} {pi} en surchauffe : {temp}\")\n",
    "        once = False\n",
    "\n",
    "#telegram('pi4', 60)\n",
    "#send_message(\" Crawling progress: 56% done\")"
   ]
  },
  {
   "cell_type": "code",
   "execution_count": null,
   "metadata": {},
   "outputs": [],
   "source": [
    "import paho.mqtt.client as mqtt\n",
    "# topic to publish on broker\n",
    "topic = \"cpu_temp\"\n",
    "temps = [[]]*3\n",
    "broker1 = \"192.168.0.175\"\n",
    "broker2 = \"192.168.0.184\""
   ]
  },
  {
   "cell_type": "code",
   "execution_count": null,
   "metadata": {},
   "outputs": [],
   "source": [
    "def on_connect(client, userdata, flags, rc):\n",
    "    # subscribe\n",
    "    client.subscribe(topic)\n",
    "    #clrshell()\n",
    "\n",
    "def on_message(client, userdata, msg):\n",
    "    global once\n",
    "    #print(f\"{msg.topic} {msg.payload}\")\n",
    "    temp = msg.payload.decode('utf8').split(' : ')[1]\n",
    "    if 'Pi4' in temp:\n",
    "        temps[0] = round(float(temp.split('°')[0]),2)\n",
    "        if temps[0]<seuil:\n",
    "            once=True\n",
    "        telegram('Pi4',temps[0])\n",
    "    if 'Pi3' in temp:\n",
    "        temps[2] = round(float(temp.split('°')[0]),2)\n",
    "        #telegram('Pi4',temps[2])\n",
    "    else:\n",
    "        temps[2] = 'None'\n",
    "    if 'Zero' in temp:\n",
    "        temps[1] = round(float(temp.split('°')[0]),2)\n",
    "        if temps[1]<seuil:\n",
    "            once=True\n",
    "        telegram('Pi0',temps[1])\n",
    "    \n",
    "    roll = False\n",
    "    \n",
    "    if roll:\n",
    "        # roll with show plotter\n",
    "        print('Pi4', temps[0], 'Pi Zero', temps[1], 'Pi3', temps[2])\n",
    "    else:\n",
    "        # one line but show plotter does not work \n",
    "        print('\\rPi4 :', temps[0],end=' - ')\n",
    "        print('Pi Zero :', temps[1],end=' - ')\n",
    "        print('Pi3 :', temps[2],end='           ')\n",
    "\n",
    "client = mqtt.Client()\n",
    "client.connect(broker2, 1883, 60)\n",
    "client.on_connect = on_connect\n",
    "client.on_message = on_message\n",
    "   \n",
    "client.loop_forever()"
   ]
  }
 ],
 "metadata": {
  "kernelspec": {
   "display_name": "Python 3.10.7 64-bit",
   "language": "python",
   "name": "python3"
  },
  "language_info": {
   "codemirror_mode": {
    "name": "ipython",
    "version": 3
   },
   "file_extension": ".py",
   "mimetype": "text/x-python",
   "name": "python",
   "nbconvert_exporter": "python",
   "pygments_lexer": "ipython3",
   "version": "3.10.7"
  },
  "orig_nbformat": 4,
  "vscode": {
   "interpreter": {
    "hash": "31859b413185ca7000c2fee082c0715ca78433b184fc2466981b197da693d3e7"
   }
  }
 },
 "nbformat": 4,
 "nbformat_minor": 2
}
