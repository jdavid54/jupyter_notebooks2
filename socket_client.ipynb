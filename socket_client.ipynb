{
 "cells": [
  {
   "cell_type": "code",
   "execution_count": 38,
   "metadata": {},
   "outputs": [],
   "source": [
    "import socket\n",
    "import threading"
   ]
  },
  {
   "cell_type": "code",
   "execution_count": 39,
   "metadata": {},
   "outputs": [],
   "source": [
    "HEADER = 64\n",
    "FORMAT = 'utf8'\n",
    "PORT = 5050\n",
    "DISCONNECT_MESSAGE = \"!DISCONNECT\"\n",
    "#SERVER = socket.gethostbyname(socket.gethostname())\n",
    "SERVER = '192.168.0.159'"
   ]
  },
  {
   "cell_type": "code",
   "execution_count": 40,
   "metadata": {},
   "outputs": [],
   "source": [
    " def test():\n",
    "    ADDR = (SERVER, PORT)\n",
    "    client = socket.socket(socket.AF_INET, socket.SOCK_STREAM)\n",
    "    client.connect(ADDR)\n",
    "\n",
    "    def send(msg):\n",
    "        message = msg.encode(FORMAT)\n",
    "        msg_length = len(message)\n",
    "        send_length = str(msg_length).encode(FORMAT)\n",
    "        send_length += b' ' * (HEADER - len(send_length))\n",
    "        client.send(send_length)\n",
    "        client.send(message)\n",
    "        print(client.recv(2048).decode(FORMAT))\n",
    "        \n",
    "    send('Hello World')\n",
    "    send('Hello World2')\n",
    "    send('Hello World')\n",
    "    send(DISCONNECT_MESSAGE)"
   ]
  },
  {
   "cell_type": "code",
   "execution_count": 41,
   "metadata": {},
   "outputs": [
    {
     "data": {
      "text/plain": [
       "'\\nif (!client.connect(hostIP, 8085))\\n    Serial.printf(\"Failed to connect with hardware server %s!\\n\", hostIP);\\n  else\\n    Serial.printf(\"Connected with hardware server %s!\\n\", hostIP);   //<-- good this works\\n\\nclient.print(\"GET /data.json HTTP/1.1\\r\\nHost: 192.168.0.4:8085\\r\\n\\r\\n\");\\n'"
      ]
     },
     "execution_count": 41,
     "metadata": {},
     "output_type": "execute_result"
    }
   ],
   "source": [
    "#arduino\n",
    "'''\n",
    "if (!client.connect(hostIP, 8085))\n",
    "    Serial.printf(\"Failed to connect with hardware server %s!\\n\", hostIP);\n",
    "  else\n",
    "    Serial.printf(\"Connected with hardware server %s!\\n\", hostIP);   //<-- good this works\n",
    "\n",
    "client.print(\"GET /data.json HTTP/1.1\\r\\nHost: 192.168.0.4:8085\\r\\n\\r\\n\");\n",
    "'''"
   ]
  },
  {
   "cell_type": "code",
   "execution_count": 47,
   "metadata": {},
   "outputs": [],
   "source": [
    "HEADER = 2048\n",
    "PORT = 8085\n",
    "ADDR = (SERVER, PORT)\n",
    "client = socket.socket(socket.AF_INET, socket.SOCK_STREAM)\n",
    "status = client.connect(ADDR)\n",
    "status"
   ]
  },
  {
   "cell_type": "code",
   "execution_count": 48,
   "metadata": {},
   "outputs": [],
   "source": [
    "#print(client.recv(2048).decode(FORMAT))"
   ]
  },
  {
   "cell_type": "code",
   "execution_count": 49,
   "metadata": {},
   "outputs": [],
   "source": [
    "def send(msg):\n",
    "    message = msg.encode(FORMAT)\n",
    "    msg_length = len(message)\n",
    "    send_length = str(msg_length).encode(FORMAT)\n",
    "    send_length += b' ' * (HEADER - len(send_length))\n",
    "    client.send(send_length)\n",
    "    client.send(message)\n",
    "    print(client.recv(2048).decode(FORMAT))"
   ]
  },
  {
   "cell_type": "code",
   "execution_count": 50,
   "metadata": {},
   "outputs": [
    {
     "name": "stdout",
     "output_type": "stream",
     "text": [
      "HTTP/1.1 400 Bad Request\n",
      "Content-Type: text/html; charset=us-ascii\n",
      "Server: Microsoft-HTTPAPI/2.0\n",
      "Date: Thu, 10 Aug 2023 23:06:13 GMT\n",
      "Connection: close\n",
      "Content-Length: 311\n",
      "\n",
      "<!DOCTYPE HTML PUBLIC \"-//W3C//DTD HTML 4.01//EN\"\"http://www.w3.org/TR/html4/strict.dtd\">\n",
      "<HTML><HEAD><TITLE>Bad Request</TITLE>\n",
      "<META HTTP-EQUIV=\"Content-Type\" Content=\"text/html; charset=us-ascii\"></HEAD>\n",
      "<BODY><h2>Bad Request</h2>\n",
      "<hr><p>HTTP Error 400. The request is badly formed.</p>\n",
      "</BODY></HTML>\n",
      "\n"
     ]
    }
   ],
   "source": [
    "msg = send(\"GET /data.json HTTP/1.1\\r\\nHost: 192.168.0.159:8085\\r\\n\\r\\n\");"
   ]
  },
  {
   "cell_type": "code",
   "execution_count": 51,
   "metadata": {},
   "outputs": [
    {
     "name": "stdout",
     "output_type": "stream",
     "text": [
      "\n"
     ]
    }
   ],
   "source": [
    "send(\"GET /data.json HTTP/1.1\\r\\nHost: 192.168.0.159:8085\\r\\n\\r\\n\");"
   ]
  },
  {
   "cell_type": "code",
   "execution_count": 52,
   "metadata": {},
   "outputs": [],
   "source": [
    "msg"
   ]
  }
 ],
 "metadata": {
  "kernelspec": {
   "display_name": "Python 3",
   "language": "python",
   "name": "python3"
  },
  "language_info": {
   "codemirror_mode": {
    "name": "ipython",
    "version": 3
   },
   "file_extension": ".py",
   "mimetype": "text/x-python",
   "name": "python",
   "nbconvert_exporter": "python",
   "pygments_lexer": "ipython3",
   "version": "3.10.11"
  },
  "orig_nbformat": 4
 },
 "nbformat": 4,
 "nbformat_minor": 2
}
