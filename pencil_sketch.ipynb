{
 "cells": [
  {
   "cell_type": "code",
   "execution_count": 28,
   "metadata": {},
   "outputs": [],
   "source": [
    "import cv2 # library opencv-python 4.10.0.84\n",
    "import numpy as np\n"
   ]
  },
  {
   "cell_type": "code",
   "execution_count": 29,
   "metadata": {},
   "outputs": [],
   "source": [
    "\n",
    "def pencil_sketch(image_path, output_path):\n",
    "    image = cv2.imread(image_path)\n",
    "    gray_image = cv2.cvtColor(image, cv2.COLOR_BGR2GRAY)\n",
    "    inverted_gray_image = cv2.bitwise_not (gray_image)\n",
    "    blurred_image = cv2.GaussianBlur (inverted_gray_image, (21, 21), 0)\n",
    "    inverted_blurred_image = cv2.bitwise_not (blurred_image)\n",
    "    pencil_sketch_image = cv2.divide (gray_image, inverted_blurred_image, scale=256.0)\n",
    "    cv2.imwrite(output_path, pencil_sketch_image)\n",
    "    cv2.imshow('Original picture', image)\n",
    "    cv2.imshow('Pencil Sketch', pencil_sketch_image)\n",
    "    cv2.waitKey(0)\n",
    "    cv2.destroyAllWindows()\n"
   ]
  },
  {
   "cell_type": "code",
   "execution_count": 30,
   "metadata": {},
   "outputs": [],
   "source": [
    "\n",
    "input_image_path = r'C:\\Users\\jean\\Pictures\\couple_macron.webp'\n",
    "#input_image_path = r'C:\\Users\\jean\\Pictures\\mbappe.jpg'\n",
    "#input_image_path = r'C:\\Users\\jean\\Pictures\\charme01.jpg'\n",
    "output_image_path = 'w2_sketch.jpg'\n",
    "pencil_sketch(input_image_path, output_image_path)"
   ]
  }
 ],
 "metadata": {
  "kernelspec": {
   "display_name": "Python 3",
   "language": "python",
   "name": "python3"
  },
  "language_info": {
   "codemirror_mode": {
    "name": "ipython",
    "version": 3
   },
   "file_extension": ".py",
   "mimetype": "text/x-python",
   "name": "python",
   "nbconvert_exporter": "python",
   "pygments_lexer": "ipython3",
   "version": "3.12.3"
  }
 },
 "nbformat": 4,
 "nbformat_minor": 2
}
