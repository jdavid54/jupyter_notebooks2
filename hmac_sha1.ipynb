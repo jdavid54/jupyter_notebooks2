{
 "cells": [
  {
   "cell_type": "code",
   "execution_count": 1,
   "metadata": {},
   "outputs": [],
   "source": [
    "from hashlib import sha1, pbkdf2_hmac\n",
    "import hmac\n",
    "import sys"
   ]
  },
  {
   "cell_type": "raw",
   "metadata": {},
   "source": [
    "'''\n",
    "https://fr.wikipedia.org/wiki/Keyed-hash_message_authentication_code\n",
    "HMAC[K,m]=H[K xor o_pad || H[K xor i_pad || m]\n",
    "K secret key, if longer than 64 bytes is hashed before extension and xor\n",
    "|| concatenation\n",
    "i_pad = 0x363636... (64 bytes)\n",
    "o_pad = 0x5C5C5C... (64 bytes)\n",
    " \n",
    "xor function is used to shape the key K to 64 bytes\n",
    "'''"
   ]
  },
  {
   "cell_type": "code",
   "execution_count": 18,
   "metadata": {},
   "outputs": [],
   "source": [
    "def encrypt1(var, key):\n",
    "    return bytes(a ^ b for a, b in zip(var, key))\n",
    "#The second one uses int.from_bytes and int.to_bytes: 20 x faster\n",
    "def encrypt2(var, key):\n",
    "    key = key[:len(var)]\n",
    "    int_var = int.from_bytes(var, sys.byteorder)\n",
    "    int_key = int.from_bytes(key, sys.byteorder)\n",
    "    int_enc = int_var ^ int_key\n",
    "    return int_enc.to_bytes(len(var), sys.byteorder)\n",
    "toHex = lambda x:\"\".join([hex(ord(c))[2:].zfill(2) for c in x])  #return string\n",
    "\n",
    "# initiate i_pad and o_pad\n",
    "i_pad = b'6'*64\n",
    "o_pad = b'\\\\'*64\n",
    "\n",
    "def hmac_sha1(key,msg):\n",
    "    print('key=',key,'msg=',msg)\n",
    "    \n",
    "    key = key+b'\\0'*(64-len(key))\n",
    "    \n",
    "    #key = key.ljust(blocksize, b'\\0')\n",
    "    print(key,len(key))\n",
    "\n",
    "    i_key_pad = encrypt2(i_pad, key)\n",
    "    print(i_key_pad)\n",
    "\n",
    "    o_key_pad = encrypt2(o_pad, key)\n",
    "    print(o_key_pad)\n",
    "\n",
    "    #first pass\n",
    "    print('First pass')\n",
    "    first_msg = i_key_pad + msg\n",
    "    print(first_msg, len(first_msg))\n",
    "    hash1 = sha1(first_msg)\n",
    "    #print(hash1.hexdigest())\n",
    "    print(hash1.digest())\n",
    "\n",
    "    #second pass\n",
    "    print('Second pass')\n",
    "    second_msg = o_key_pad + hash1.digest()\n",
    "    print(second_msg, len(second_msg))\n",
    "    hash2 = sha1(second_msg)\n",
    "    #print(hash2.hexdigest())  \n",
    "    return hash2.hexdigest()\n",
    "    \n",
    "def test1():   \n",
    "    hash=hmac_sha1(b'12345',b'abcd')\n",
    "    print('computed hmac',hash)\n",
    "    #dk = pbkdf2_hmac('sha1', b'abcd', b'12345', 100000)  # pbkdf : password based key derivation function\n",
    "    #print('by pbkdf2-hmac : ',dk.hex())\n",
    "    value = hmac.new(b\"12345\", b\"abcd\",sha1).digest().hex()\n",
    "    print(value)\n",
    "    \n",
    "def test2():\n",
    "    hash = hmac_sha1(b\"key\", b\"The quick brown fox jumps over the lazy dog\")\n",
    "    print('computed hmac',hash)\n",
    "    #print('value must be de7c9b85b8b78aa6bc8a7a36f70a90701c9db4d9')\n",
    "    value = hmac.new(b\"key\", b\"The quick brown fox jumps over the lazy dog\",sha1).digest().hex()\n",
    "    print(value)\n",
    "    \n",
    "def test3():\n",
    "    dk = pbkdf2_hmac('sha1', b\"The quick brown fox jumps over the lazy dog\", b\"key\",  100000)\n",
    "    print('by pbkdf2-hmac : ',dk.hex())"
   ]
  },
  {
   "cell_type": "code",
   "execution_count": 19,
   "metadata": {},
   "outputs": [
    {
     "name": "stdout",
     "output_type": "stream",
     "text": [
      "key= b'12345' msg= b'abcd'\n",
      "b'12345\\x00\\x00\\x00\\x00\\x00\\x00\\x00\\x00\\x00\\x00\\x00\\x00\\x00\\x00\\x00\\x00\\x00\\x00\\x00\\x00\\x00\\x00\\x00\\x00\\x00\\x00\\x00\\x00\\x00\\x00\\x00\\x00\\x00\\x00\\x00\\x00\\x00\\x00\\x00\\x00\\x00\\x00\\x00\\x00\\x00\\x00\\x00\\x00\\x00\\x00\\x00\\x00\\x00\\x00\\x00\\x00\\x00\\x00\\x00' 64\n",
      "b'\\x07\\x04\\x05\\x02\\x0366666666666666666666666666666666666666666666666666666666666'\n",
      "b'mnohi\\\\\\\\\\\\\\\\\\\\\\\\\\\\\\\\\\\\\\\\\\\\\\\\\\\\\\\\\\\\\\\\\\\\\\\\\\\\\\\\\\\\\\\\\\\\\\\\\\\\\\\\\\\\\\\\\\\\\\\\\\\\\\\\\\\\\\\\\\\\\\\\\\\\\\\\\\\\\\\\\\\\\\\\\\\\\\\\\\\\\\\\\\\\\\\\\\\\\\\\\\\\\\\\\\\\\\\\\\\\\\\\\\\\\\\\\\\\'\n",
      "First pass\n",
      "b'\\x07\\x04\\x05\\x02\\x0366666666666666666666666666666666666666666666666666666666666abcd' 68\n",
      "b'\\x0eUM\\x0f\\xa2\\xea\\x12\\xc0\\xfa\\xed\\xef\\xad\\xd2Cw\\xdb\\r\\xef\\xadV'\n",
      "Second pass\n",
      "b'mnohi\\\\\\\\\\\\\\\\\\\\\\\\\\\\\\\\\\\\\\\\\\\\\\\\\\\\\\\\\\\\\\\\\\\\\\\\\\\\\\\\\\\\\\\\\\\\\\\\\\\\\\\\\\\\\\\\\\\\\\\\\\\\\\\\\\\\\\\\\\\\\\\\\\\\\\\\\\\\\\\\\\\\\\\\\\\\\\\\\\\\\\\\\\\\\\\\\\\\\\\\\\\\\\\\\\\\\\\\\\\\\\\\\\\\\\\\\\\\\\x0eUM\\x0f\\xa2\\xea\\x12\\xc0\\xfa\\xed\\xef\\xad\\xd2Cw\\xdb\\r\\xef\\xadV' 84\n",
      "computed hmac 95bf7709dfeb0af2c6567398571fc0d20fa1e78a\n",
      "95bf7709dfeb0af2c6567398571fc0d20fa1e78a\n"
     ]
    }
   ],
   "source": [
    "test1()"
   ]
  },
  {
   "cell_type": "code",
   "execution_count": 20,
   "metadata": {},
   "outputs": [
    {
     "name": "stdout",
     "output_type": "stream",
     "text": [
      "key= b'key' msg= b'The quick brown fox jumps over the lazy dog'\n",
      "b'key\\x00\\x00\\x00\\x00\\x00\\x00\\x00\\x00\\x00\\x00\\x00\\x00\\x00\\x00\\x00\\x00\\x00\\x00\\x00\\x00\\x00\\x00\\x00\\x00\\x00\\x00\\x00\\x00\\x00\\x00\\x00\\x00\\x00\\x00\\x00\\x00\\x00\\x00\\x00\\x00\\x00\\x00\\x00\\x00\\x00\\x00\\x00\\x00\\x00\\x00\\x00\\x00\\x00\\x00\\x00\\x00\\x00\\x00\\x00\\x00\\x00' 64\n",
      "b']SO6666666666666666666666666666666666666666666666666666666666666'\n",
      "b'79%\\\\\\\\\\\\\\\\\\\\\\\\\\\\\\\\\\\\\\\\\\\\\\\\\\\\\\\\\\\\\\\\\\\\\\\\\\\\\\\\\\\\\\\\\\\\\\\\\\\\\\\\\\\\\\\\\\\\\\\\\\\\\\\\\\\\\\\\\\\\\\\\\\\\\\\\\\\\\\\\\\\\\\\\\\\\\\\\\\\\\\\\\\\\\\\\\\\\\\\\\\\\\\\\\\\\\\\\\\\\\\\\\\\\\\\\\\\\\\\\\\\\'\n",
      "First pass\n",
      "b']SO6666666666666666666666666666666666666666666666666666666666666The quick brown fox jumps over the lazy dog' 107\n",
      "b'\\x0e\\xfe\\x15\\xf9\\x16\\x1a\\xb7(\\xa2o\\x1d\\xc32\\xf2f\\x99\\x13\\xdcP~'\n",
      "Second pass\n",
      "b'79%\\\\\\\\\\\\\\\\\\\\\\\\\\\\\\\\\\\\\\\\\\\\\\\\\\\\\\\\\\\\\\\\\\\\\\\\\\\\\\\\\\\\\\\\\\\\\\\\\\\\\\\\\\\\\\\\\\\\\\\\\\\\\\\\\\\\\\\\\\\\\\\\\\\\\\\\\\\\\\\\\\\\\\\\\\\\\\\\\\\\\\\\\\\\\\\\\\\\\\\\\\\\\\\\\\\\\\\\\\\\\\\\\\\\\\\\\\\\\\\\\\\\\\x0e\\xfe\\x15\\xf9\\x16\\x1a\\xb7(\\xa2o\\x1d\\xc32\\xf2f\\x99\\x13\\xdcP~' 84\n",
      "computed hmac de7c9b85b8b78aa6bc8a7a36f70a90701c9db4d9\n",
      "de7c9b85b8b78aa6bc8a7a36f70a90701c9db4d9\n"
     ]
    }
   ],
   "source": [
    "test2()"
   ]
  },
  {
   "cell_type": "code",
   "execution_count": 17,
   "metadata": {},
   "outputs": [
    {
     "name": "stdout",
     "output_type": "stream",
     "text": [
      "by pbkdf2-hmac :  16fd8ff92f15a8059ce897335138a4a987c1e1e2\n"
     ]
    }
   ],
   "source": [
    "test3()"
   ]
  },
  {
   "cell_type": "code",
   "execution_count": null,
   "metadata": {},
   "outputs": [],
   "source": []
  }
 ],
 "metadata": {
  "kernelspec": {
   "display_name": "Python 3",
   "language": "python",
   "name": "python3"
  },
  "language_info": {
   "codemirror_mode": {
    "name": "ipython",
    "version": 3
   },
   "file_extension": ".py",
   "mimetype": "text/x-python",
   "name": "python",
   "nbconvert_exporter": "python",
   "pygments_lexer": "ipython3",
   "version": "3.7.3"
  }
 },
 "nbformat": 4,
 "nbformat_minor": 2
}
