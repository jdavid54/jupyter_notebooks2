{
 "cells": [
  {
   "cell_type": "code",
   "execution_count": 45,
   "metadata": {},
   "outputs": [],
   "source": [
    "import urllib.request as urllib2\n",
    "import json\n",
    "from pprint import pprint\n",
    "import webbrowser\n",
    "from ipyleaflet import *\n"
   ]
  },
  {
   "cell_type": "code",
   "execution_count": 61,
   "metadata": {},
   "outputs": [
    {
     "name": "stdout",
     "output_type": "stream",
     "text": [
      "{'iss_position': {'latitude': '5.7521', 'longitude': '-76.3668'},\n",
      " 'message': 'success',\n",
      " 'timestamp': 1669399790}\n",
      "1669399790\n",
      "5.7521 -76.3668\n"
     ]
    }
   ],
   "source": [
    "# get ISS position\n",
    "req = urllib2.Request(\"http://api.open-notify.org/iss-now.json\")\n",
    "response = urllib2.urlopen(req)\n",
    "\n",
    "obj = json.loads(response.read())\n",
    "lat = obj['iss_position']['latitude']\n",
    "lon = obj['iss_position']['longitude']\n",
    "pprint(obj)\n",
    "print(obj['timestamp'])\n",
    "print(lat,lon)"
   ]
  },
  {
   "cell_type": "code",
   "execution_count": 62,
   "metadata": {},
   "outputs": [
    {
     "name": "stdout",
     "output_type": "stream",
     "text": [
      "{'documentation': 'https://opencagedata.com/api',\n",
      " 'licenses': [{'name': 'see attribution guide',\n",
      "               'url': 'https://opencagedata.com/credits'}],\n",
      " 'rate': {'limit': 2500, 'remaining': 2426, 'reset': 1669420800},\n",
      " 'results': [{'annotations': {'DMS': {'lat': \"5° 50' 20.06376'' N\",\n",
      "                                      'lng': \"76° 12' 28.69092'' W\"},\n",
      "                              'MGRS': '18NUM6626645540',\n",
      "                              'Maidenhead': 'FJ15vu51bi',\n",
      "                              'Mercator': {'x': -8483432.377, 'y': 646768.264},\n",
      "                              'OSM': {'edit_url': 'https://www.openstreetmap.org/edit?relation=1306999#map=17/5.83891/-76.20797',\n",
      "                                      'note_url': 'https://www.openstreetmap.org/note/new#map=17/5.83891/-76.20797&layers=N',\n",
      "                                      'url': 'https://www.openstreetmap.org/?mlat=5.83891&mlon=-76.20797#map=17/5.83891/-76.20797'},\n",
      "                              'UN_M49': {'regions': {'AMERICAS': '019',\n",
      "                                                     'CO': '170',\n",
      "                                                     'LATIN_AMERICA': '419',\n",
      "                                                     'SOUTH_AMERICA': '005',\n",
      "                                                     'WORLD': '001'},\n",
      "                                         'statistical_groupings': ['LEDC']},\n",
      "                              'callingcode': 57,\n",
      "                              'currency': {'alternate_symbols': ['COL$'],\n",
      "                                           'decimal_mark': ',',\n",
      "                                           'disambiguate_symbol': 'COL$',\n",
      "                                           'html_entity': '&#36;',\n",
      "                                           'iso_code': 'COP',\n",
      "                                           'iso_numeric': '170',\n",
      "                                           'name': 'Colombian Peso',\n",
      "                                           'smallest_denomination': 20,\n",
      "                                           'subunit': 'Centavo',\n",
      "                                           'subunit_to_unit': 100,\n",
      "                                           'symbol': '$',\n",
      "                                           'symbol_first': 1,\n",
      "                                           'thousands_separator': '.'},\n",
      "                              'flag': '🇨🇴',\n",
      "                              'geohash': 'd31c1ygn1e54q8epsmy8',\n",
      "                              'qibla': 64.17,\n",
      "                              'roadinfo': {'drive_on': 'right',\n",
      "                                           'speed_in': 'km/h'},\n",
      "                              'sun': {'rise': {'apparent': 1669373880,\n",
      "                                               'astronomical': 1669369500,\n",
      "                                               'civil': 1669372560,\n",
      "                                               'nautical': 1669371000},\n",
      "                                      'set': {'apparent': 1669416360,\n",
      "                                              'astronomical': 1669420740,\n",
      "                                              'civil': 1669417680,\n",
      "                                              'nautical': 1669419180}},\n",
      "                              'timezone': {'name': 'America/Bogota',\n",
      "                                           'now_in_dst': 0,\n",
      "                                           'offset_sec': -18000,\n",
      "                                           'offset_string': '-0500',\n",
      "                                           'short_name': '-05'},\n",
      "                              'what3words': {'words': 'northland.unimportant.cottons'}},\n",
      "              'bounds': {'northeast': {'lat': 6.0212539, 'lng': -76.0661645},\n",
      "                         'southwest': {'lat': 5.6561807, 'lng': -76.3801096}},\n",
      "              'components': {'ISO_3166-1_alpha-2': 'CO',\n",
      "                             'ISO_3166-1_alpha-3': 'COL',\n",
      "                             'ISO_3166-2': ['CO-CHO'],\n",
      "                             '_category': 'place',\n",
      "                             '_type': 'county',\n",
      "                             'continent': 'South America',\n",
      "                             'country': 'Colombia',\n",
      "                             'country_code': 'co',\n",
      "                             'county': 'El Carmen de Atrato',\n",
      "                             'state': 'Chocó',\n",
      "                             'state_code': 'CHO',\n",
      "                             'state_district': 'Atrato'},\n",
      "              'confidence': 3,\n",
      "              'formatted': 'El Carmen de Atrato, Colombia',\n",
      "              'geometry': {'lat': 5.8389066, 'lng': -76.2079697}}],\n",
      " 'status': {'code': 200, 'message': 'OK'},\n",
      " 'stay_informed': {'blog': 'https://blog.opencagedata.com',\n",
      "                   'twitter': 'https://twitter.com/OpenCage'},\n",
      " 'thanks': 'For using an OpenCage API',\n",
      " 'timestamp': {'created_http': 'Fri, 25 Nov 2022 18:09:54 GMT',\n",
      "               'created_unix': 1669399794},\n",
      " 'total_results': 1}\n",
      "El Carmen de Atrato, Colombia\n",
      "{'limit': 2500, 'remaining': 2426, 'reset': 1669420800}\n"
     ]
    }
   ],
   "source": [
    "# get json format\n",
    "req=urllib2.Request(\"https://api.opencagedata.com/geocode/v1/json?q=\"+str(lat)+\",\"+str(lon)+\"&key=d09802075f8245028f6aeba501c57e10&pretty=1&roadinfo=1\")\n",
    "response = urllib2.urlopen(req)\n",
    "obj = json.loads(response.read())\n",
    "pprint(obj)\n",
    "print(obj['results'][0]['formatted'])\n",
    "print(obj['rate'])"
   ]
  },
  {
   "cell_type": "code",
   "execution_count": 26,
   "metadata": {},
   "outputs": [
    {
     "name": "stdout",
     "output_type": "stream",
     "text": [
      "https://www.openstreetmap.org/note/new#map=16/12.40563/-0.69887&layers=N\n"
     ]
    }
   ],
   "source": [
    "# get url from json data\n",
    "url=obj['results'][0]['annotations']['OSM']['note_url']\n",
    "print(url)\n",
    "# change map scale\n",
    "url = url.replace('map=16','map=3')\n"
   ]
  },
  {
   "cell_type": "code",
   "execution_count": 27,
   "metadata": {},
   "outputs": [
    {
     "data": {
      "text/plain": [
       "'https://www.openstreetmap.org/note/new#map=3/12.40563/-0.69887&layers=N'"
      ]
     },
     "execution_count": 27,
     "metadata": {},
     "output_type": "execute_result"
    }
   ],
   "source": [
    "# show in browser\n",
    "webbrowser.open(url)\n",
    "url"
   ]
  },
  {
   "cell_type": "code",
   "execution_count": 28,
   "metadata": {},
   "outputs": [
    {
     "data": {
      "text/plain": [
       "('12.4058', '-0.7000')"
      ]
     },
     "execution_count": 28,
     "metadata": {},
     "output_type": "execute_result"
    }
   ],
   "source": [
    "from opencage.geocoder import OpenCageGeocode\n",
    "key = 'd09802075f8245028f6aeba501c57e10'\n",
    "geocoder = OpenCageGeocode(key)\n",
    "#lat, lon = 48.8819347, 2.527003\n",
    "#results = geocoder.geocode(u'Brussels, Belgium')\n",
    "#center = (results[0]['geometry']['lat'], results[0]['geometry']['lng'])\n",
    "center = (lat, lon)\n",
    "center"
   ]
  },
  {
   "cell_type": "code",
   "execution_count": 29,
   "metadata": {},
   "outputs": [
    {
     "data": {
      "application/vnd.jupyter.widget-view+json": {
       "model_id": "80b019e762f84b27abc48ae06823b7f8",
       "version_major": 2,
       "version_minor": 0
      },
      "text/plain": [
       "Map(center=['12.4058', '-0.7000'], controls=(ZoomControl(options=['position', 'zoom_in_text', 'zoom_in_title',…"
      ]
     },
     "metadata": {},
     "output_type": "display_data"
    }
   ],
   "source": [
    "map = Map(center=center, zoom=4)\n",
    "marker = Marker(location=center, draggable=False)\n",
    "map.add_layer(marker)\n",
    "\n",
    "map"
   ]
  },
  {
   "cell_type": "code",
   "execution_count": 30,
   "metadata": {},
   "outputs": [
    {
     "name": "stdout",
     "output_type": "stream",
     "text": [
      "{'documentation': 'https://opencagedata.com/api',\n",
      " 'features': [{'geometry': {'coordinates': [-0.698871, 12.4056306],\n",
      "                            'type': 'Point'},\n",
      "               'properties': {'annotations': {'DMS': {'lat': \"12° 24' \"\n",
      "                                                             \"20.27016'' N\",\n",
      "                                                      'lng': \"0° 41' \"\n",
      "                                                             \"55.93560'' E\"},\n",
      "                                              'MGRS': '30PYU5017972487',\n",
      "                                              'Maidenhead': 'IK92pj67di',\n",
      "                                              'Mercator': {'x': -77797.964,\n",
      "                                                           'y': 1382733.194},\n",
      "                                              'OSM': {'edit_url': 'https://www.openstreetmap.org/edit?way=554299431#map=17/12.40563/-0.69887',\n",
      "                                                      'note_url': 'https://www.openstreetmap.org/note/new#map=17/12.40563/-0.69887&layers=N',\n",
      "                                                      'url': 'https://www.openstreetmap.org/?mlat=12.40563&mlon=-0.69887#map=17/12.40563/-0.69887'},\n",
      "                                              'UN_M49': {'regions': {'AFRICA': '002',\n",
      "                                                                     'BF': '854',\n",
      "                                                                     'SUB-SAHARAN_AFRICA': '202',\n",
      "                                                                     'WESTERN_AFRICA': '011',\n",
      "                                                                     'WORLD': '001'},\n",
      "                                                         'statistical_groupings': ['LDC',\n",
      "                                                                                   'LEDC',\n",
      "                                                                                   'LLDC']},\n",
      "                                              'callingcode': 226,\n",
      "                                              'currency': {'alternate_symbols': ['CFA'],\n",
      "                                                           'decimal_mark': '.',\n",
      "                                                           'disambiguate_symbol': 'CFA',\n",
      "                                                           'format': '%n %u',\n",
      "                                                           'html_entity': '',\n",
      "                                                           'iso_code': 'XOF',\n",
      "                                                           'iso_numeric': '952',\n",
      "                                                           'name': 'West '\n",
      "                                                                   'African '\n",
      "                                                                   'Cfa Franc',\n",
      "                                                           'smallest_denomination': 100,\n",
      "                                                           'subunit': 'Centime',\n",
      "                                                           'subunit_to_unit': 1,\n",
      "                                                           'symbol': 'Fr',\n",
      "                                                           'symbol_first': 0,\n",
      "                                                           'thousands_separator': ','},\n",
      "                                              'flag': '🇧🇫',\n",
      "                                              'geohash': 'efpw847h51hj03kx71wc',\n",
      "                                              'qibla': 71.3,\n",
      "                                              'roadinfo': {'drive_on': 'right',\n",
      "                                                           'road': 'unnamed '\n",
      "                                                                   'road',\n",
      "                                                           'speed_in': 'km/h'},\n",
      "                                              'sun': {'rise': {'apparent': 1669356360,\n",
      "                                                               'astronomical': 1669351920,\n",
      "                                                               'civil': 1669355040,\n",
      "                                                               'nautical': 1669353480},\n",
      "                                                      'set': {'apparent': 1669397580,\n",
      "                                                              'astronomical': 1669402080,\n",
      "                                                              'civil': 1669398960,\n",
      "                                                              'nautical': 1669400520}},\n",
      "                                              'timezone': {'name': 'Africa/Abidjan',\n",
      "                                                           'now_in_dst': 0,\n",
      "                                                           'offset_sec': 0,\n",
      "                                                           'offset_string': '+0000',\n",
      "                                                           'short_name': 'GMT'},\n",
      "                                              'what3words': {'words': 'spectating.funerals.trike'}},\n",
      "                              'bounds': {'northeast': {'lat': 12.4069779,\n",
      "                                                       'lng': -0.698366},\n",
      "                                         'southwest': {'lat': 12.3986173,\n",
      "                                                       'lng': -0.7050991}},\n",
      "                              'components': {'ISO_3166-1_alpha-2': 'BF',\n",
      "                                             'ISO_3166-1_alpha-3': 'BFA',\n",
      "                                             'ISO_3166-2': ['BF-11', 'BF-GAN'],\n",
      "                                             '_category': 'road',\n",
      "                                             '_type': 'road',\n",
      "                                             'continent': 'Africa',\n",
      "                                             'country': 'Burkina Faso',\n",
      "                                             'country_code': 'bf',\n",
      "                                             'province': 'Ganzourgou',\n",
      "                                             'region': 'Central-Plateau',\n",
      "                                             'road': 'unnamed road',\n",
      "                                             'state': 'Ganzourgou',\n",
      "                                             'state_code': 'GAN',\n",
      "                                             'village': 'Venogo'},\n",
      "                              'confidence': 9,\n",
      "                              'formatted': 'unnamed road, Venogo, Ganzourgou, '\n",
      "                                           'Burkina Faso'},\n",
      "               'type': 'Feature'}],\n",
      " 'licenses': [{'name': 'see attribution guide',\n",
      "               'url': 'https://opencagedata.com/credits'}],\n",
      " 'rate': {'limit': 2500, 'remaining': 2498, 'reset': 1669420800},\n",
      " 'status': {'code': 200, 'message': 'OK'},\n",
      " 'stay_informed': {'blog': 'https://blog.opencagedata.com',\n",
      "                   'twitter': 'https://twitter.com/OpenCage'},\n",
      " 'thanks': 'For using an OpenCage API',\n",
      " 'timestamp': {'created_http': 'Fri, 25 Nov 2022 13:33:37 GMT',\n",
      "               'created_unix': 1669383217},\n",
      " 'total_results': 1,\n",
      " 'type': 'FeatureCollection'}\n"
     ]
    }
   ],
   "source": [
    "# we can also get geojson format\n",
    "req=urllib2.Request(\"https://api.opencagedata.com/geocode/v1/geojson?q=\"+str(lat)+\",\"+str(lon)+\"&key=d09802075f8245028f6aeba501c57e10&pretty=1\")\n",
    "response = urllib2.urlopen(req)\n",
    "obj = json.loads(response.read())\n",
    "pprint(obj)"
   ]
  }
 ],
 "metadata": {
  "kernelspec": {
   "display_name": "Python 3.10.7 64-bit",
   "language": "python",
   "name": "python3"
  },
  "language_info": {
   "codemirror_mode": {
    "name": "ipython",
    "version": 3
   },
   "file_extension": ".py",
   "mimetype": "text/x-python",
   "name": "python",
   "nbconvert_exporter": "python",
   "pygments_lexer": "ipython3",
   "version": "3.10.7"
  },
  "orig_nbformat": 4,
  "vscode": {
   "interpreter": {
    "hash": "31859b413185ca7000c2fee082c0715ca78433b184fc2466981b197da693d3e7"
   }
  }
 },
 "nbformat": 4,
 "nbformat_minor": 2
}
