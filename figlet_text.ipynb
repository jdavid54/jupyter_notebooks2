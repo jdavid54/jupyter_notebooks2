{
 "cells": [
  {
   "cell_type": "code",
   "execution_count": 4,
   "metadata": {},
   "outputs": [],
   "source": [
    "import random\n",
    "from pyfiglet import Figlet\n",
    "from termcolor import colored\n",
    "# need fonts to be installed\n",
    "# http://www.jave.de/figlet/fonts.html"
   ]
  },
  {
   "cell_type": "code",
   "execution_count": 5,
   "metadata": {},
   "outputs": [],
   "source": [
    "TEXT = \"Happy \\nNew Year \\n2025\"\n",
    "COLOR_LIST = ['red','green','blue','yellow','white']\n",
    "font_list = ['3d_diagonal','3-d','3D-ASCII','Tubular','Swan','Tombstone','impossible','alpha',\n",
    "'twisted']"
   ]
  },
  {
   "cell_type": "code",
   "execution_count": 6,
   "metadata": {},
   "outputs": [
    {
     "name": "stdout",
     "output_type": "stream",
     "text": [
      "\n",
      " \u001b[33m **      **                                     \n",
      "/**     /**           ******  ******   **   **  \n",
      "/**     /**  ******  /**///**/**///** //** **   \n",
      "/********** //////** /**  /**/**  /**  //***    \n",
      "/**//////**  ******* /****** /******    /**     \n",
      "/**     /** **////** /**///  /**///     **      \n",
      "/**     /**//********/**     /**       **       \n",
      "//      //  //////// //      //       //        \n",
      " ****     **                      **    **                           \n",
      "/**/**   /**                     //**  **                            \n",
      "/**//**  /**  *****  ***     **   //****    *****   ******   ******  \n",
      "/** //** /** **///**//**  * /**    //**    **///** //////** //**//*  \n",
      "/**  //**/**/******* /** ***/**     /**   /*******  *******  /** /   \n",
      "/**   //****/**////  /****/****     /**   /**////  **////**  /**     \n",
      "/**    //***//****** ***/ ///**     /**   //******//********/***     \n",
      "//      ///  ////// ///    ///      //     //////  //////// ///      \n",
      "  ****   ****   ****  ******\n",
      " */// * *///** */// */*//// \n",
      "/    /*/*  */*/    /*/***** \n",
      "   *** /* * /*   *** ///// *\n",
      "  *//  /**  /*  *//       /*\n",
      " *     /*   /* *      *   /*\n",
      "/******/ **** /******/ **** \n",
      "//////  ////  //////  ////  \n",
      "\u001b[0m\n"
     ]
    }
   ],
   "source": [
    "figlet = Figlet()\n",
    "for _ in range(1):\n",
    "    random_font = random.choice(font_list)\n",
    "    random_color = random.choice(COLOR_LIST)\n",
    "    figlet.setFont(font=random_font)\n",
    "    text_art = colored(figlet.renderText(TEXT), random_color)\n",
    "    print(\"\\n\", text_art)"
   ]
  },
  {
   "cell_type": "code",
   "execution_count": 7,
   "metadata": {},
   "outputs": [
    {
     "data": {
      "text/plain": [
       "'3-d'"
      ]
     },
     "execution_count": 7,
     "metadata": {},
     "output_type": "execute_result"
    }
   ],
   "source": [
    "random_font"
   ]
  }
 ],
 "metadata": {
  "kernelspec": {
   "display_name": "Python 3",
   "language": "python",
   "name": "python3"
  },
  "language_info": {
   "codemirror_mode": {
    "name": "ipython",
    "version": 3
   },
   "file_extension": ".py",
   "mimetype": "text/x-python",
   "name": "python",
   "nbconvert_exporter": "python",
   "pygments_lexer": "ipython3",
   "version": "3.13.2"
  }
 },
 "nbformat": 4,
 "nbformat_minor": 2
}
