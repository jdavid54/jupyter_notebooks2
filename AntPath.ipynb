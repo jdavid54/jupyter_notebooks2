{
 "cells": [
  {
   "cell_type": "code",
   "execution_count": 1,
   "metadata": {},
   "outputs": [],
   "source": [
    "# Set up for JupyterLite\n",
    "try:\n",
    "    import piplite\n",
    "    await piplite.install('ipyleaflet')\n",
    "except ImportError:\n",
    "    pass"
   ]
  },
  {
   "cell_type": "code",
   "execution_count": 2,
   "metadata": {},
   "outputs": [],
   "source": [
    "from ipyleaflet import Map, AntPath"
   ]
  },
  {
   "cell_type": "code",
   "execution_count": 3,
   "metadata": {},
   "outputs": [
    {
     "data": {
      "application/vnd.jupyter.widget-view+json": {
       "model_id": "587e9ee2be2d4204a00a673431254cc1",
       "version_major": 2,
       "version_minor": 0
      },
      "text/plain": [
       "Map(center=[52, 10], controls=(ZoomControl(options=['position', 'zoom_in_text', 'zoom_in_title', 'zoom_out_tex…"
      ]
     },
     "metadata": {},
     "output_type": "display_data"
    }
   ],
   "source": [
    "m = Map(center=(52, 10), zoom=8)\n",
    "m"
   ]
  },
  {
   "cell_type": "code",
   "execution_count": 4,
   "metadata": {},
   "outputs": [],
   "source": [
    "ant_paths = []"
   ]
  },
  {
   "cell_type": "code",
   "execution_count": 5,
   "metadata": {},
   "outputs": [],
   "source": [
    "ant_paths.append(AntPath(locations=[[51.5, 8], [52.5, 12.1]], use=\"polyline\"))\n",
    "m += ant_paths[-1]"
   ]
  },
  {
   "cell_type": "code",
   "execution_count": 6,
   "metadata": {},
   "outputs": [],
   "source": [
    "ant_paths.append(\n",
    "    AntPath(\n",
    "        locations=[[52, 8], [52.5, 8], [52.3, 9]],\n",
    "        use=\"polygon\",\n",
    "        dash_array=[50, 100],\n",
    "        weight=10,\n",
    "        color=\"red\",\n",
    "    )\n",
    ")\n",
    "m += ant_paths[-1]"
   ]
  },
  {
   "cell_type": "code",
   "execution_count": 7,
   "metadata": {},
   "outputs": [],
   "source": [
    "ant_paths.append(\n",
    "    AntPath(\n",
    "        locations=[[51.5, 11], [52, 12]],\n",
    "        use=\"rectangle\",\n",
    "        dash_array=[10, 20],\n",
    "        weight=5,\n",
    "        color=\"white\",\n",
    "        pulse_color=\"green\",\n",
    "    )\n",
    ")\n",
    "m += ant_paths[-1]"
   ]
  },
  {
   "cell_type": "code",
   "execution_count": 8,
   "metadata": {},
   "outputs": [],
   "source": [
    "ant_paths.append(\n",
    "    AntPath(\n",
    "        locations=[51.5, 10],\n",
    "        radius=15000,\n",
    "        use=\"circle\",\n",
    "        dash_array=[5, 10],\n",
    "        weight=5,\n",
    "        color=\"magenta\",\n",
    "    )\n",
    ")\n",
    "m += ant_paths[-1]"
   ]
  },
  {
   "cell_type": "code",
   "execution_count": null,
   "metadata": {},
   "outputs": [],
   "source": [
    "for ant_path in ant_paths:\n",
    "    ant_path.reverse = not ant_path.reverse"
   ]
  },
  {
   "cell_type": "code",
   "execution_count": null,
   "metadata": {},
   "outputs": [],
   "source": [
    "for ant_path in ant_paths:\n",
    "    ant_path.paused = not ant_path.paused"
   ]
  },
  {
   "cell_type": "code",
   "execution_count": null,
   "metadata": {},
   "outputs": [],
   "source": [
    "m"
   ]
  }
 ],
 "metadata": {
  "kernelspec": {
   "display_name": "Python 3.10.7 64-bit",
   "language": "python",
   "name": "python3"
  },
  "language_info": {
   "codemirror_mode": {
    "name": "ipython",
    "version": 3
   },
   "file_extension": ".py",
   "mimetype": "text/x-python",
   "name": "python",
   "nbconvert_exporter": "python",
   "pygments_lexer": "ipython3",
   "version": "3.10.7"
  },
  "vscode": {
   "interpreter": {
    "hash": "31859b413185ca7000c2fee082c0715ca78433b184fc2466981b197da693d3e7"
   }
  }
 },
 "nbformat": 4,
 "nbformat_minor": 4
}
