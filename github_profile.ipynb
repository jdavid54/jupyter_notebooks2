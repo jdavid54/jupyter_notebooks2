{
 "cells": [
  {
   "cell_type": "code",
   "execution_count": 100,
   "metadata": {},
   "outputs": [],
   "source": [
    "import json\n",
    "import requests\n",
    "from pprint import pprint"
   ]
  },
  {
   "cell_type": "code",
   "execution_count": 101,
   "metadata": {},
   "outputs": [
    {
     "name": "stdout",
     "output_type": "stream",
     "text": [
      "{'avatar_url': 'https://avatars.githubusercontent.com/u/14958562?v=4',\n",
      " 'bio': 'Programming for fun, self educated and learning ! \\r\\n'\n",
      "        'Languages : C++, Python, Assembler, Java, HTML, JS, CSS\\r\\n'\n",
      "        '(PC, RPi, Arduino, ESP32, ESP8266)',\n",
      " 'blog': '',\n",
      " 'company': None,\n",
      " 'created_at': '2015-10-03T22:46:44Z',\n",
      " 'email': None,\n",
      " 'events_url': 'https://api.github.com/users/jdavid54/events{/privacy}',\n",
      " 'followers': 1,\n",
      " 'followers_url': 'https://api.github.com/users/jdavid54/followers',\n",
      " 'following': 9,\n",
      " 'following_url': 'https://api.github.com/users/jdavid54/following{/other_user}',\n",
      " 'gists_url': 'https://api.github.com/users/jdavid54/gists{/gist_id}',\n",
      " 'gravatar_id': '',\n",
      " 'hireable': None,\n",
      " 'html_url': 'https://github.com/jdavid54',\n",
      " 'id': 14958562,\n",
      " 'location': 'Paris',\n",
      " 'login': 'jdavid54',\n",
      " 'name': 'Jean David',\n",
      " 'node_id': 'MDQ6VXNlcjE0OTU4NTYy',\n",
      " 'organizations_url': 'https://api.github.com/users/jdavid54/orgs',\n",
      " 'public_gists': 3,\n",
      " 'public_repos': 104,\n",
      " 'received_events_url': 'https://api.github.com/users/jdavid54/received_events',\n",
      " 'repos_url': 'https://api.github.com/users/jdavid54/repos',\n",
      " 'site_admin': False,\n",
      " 'starred_url': 'https://api.github.com/users/jdavid54/starred{/owner}{/repo}',\n",
      " 'subscriptions_url': 'https://api.github.com/users/jdavid54/subscriptions',\n",
      " 'twitter_username': None,\n",
      " 'type': 'User',\n",
      " 'updated_at': '2024-01-08T17:13:34Z',\n",
      " 'url': 'https://api.github.com/users/jdavid54'}\n"
     ]
    }
   ],
   "source": [
    "profile = requests.get(\"https://api.github.com/users/jdavid54\").json()\n",
    "pprint(profile)"
   ]
  },
  {
   "cell_type": "code",
   "execution_count": 103,
   "metadata": {},
   "outputs": [
    {
     "data": {
      "text/plain": [
       "dict_keys(['login', 'id', 'node_id', 'avatar_url', 'gravatar_id', 'url', 'html_url', 'followers_url', 'following_url', 'gists_url', 'starred_url', 'subscriptions_url', 'organizations_url', 'repos_url', 'events_url', 'received_events_url', 'type', 'site_admin', 'name', 'company', 'blog', 'location', 'email', 'hireable', 'bio', 'twitter_username', 'public_repos', 'public_gists', 'followers', 'following', 'created_at', 'updated_at'])"
      ]
     },
     "execution_count": 103,
     "metadata": {},
     "output_type": "execute_result"
    }
   ],
   "source": [
    "profile.keys()"
   ]
  },
  {
   "cell_type": "code",
   "execution_count": 106,
   "metadata": {},
   "outputs": [
    {
     "name": "stdout",
     "output_type": "stream",
     "text": [
      "avatar_url : https://avatars.githubusercontent.com/u/14958562?v=4\n",
      "url : https://api.github.com/users/jdavid54\n",
      "html_url : https://github.com/jdavid54\n",
      "followers_url : https://api.github.com/users/jdavid54/followers\n",
      "following_url : https://api.github.com/users/jdavid54/following{/other_user}\n",
      "gists_url : https://api.github.com/users/jdavid54/gists{/gist_id}\n",
      "starred_url : https://api.github.com/users/jdavid54/starred{/owner}{/repo}\n",
      "subscriptions_url : https://api.github.com/users/jdavid54/subscriptions\n",
      "organizations_url : https://api.github.com/users/jdavid54/orgs\n",
      "repos_url : https://api.github.com/users/jdavid54/repos\n",
      "events_url : https://api.github.com/users/jdavid54/events{/privacy}\n",
      "received_events_url : https://api.github.com/users/jdavid54/received_events\n"
     ]
    }
   ],
   "source": [
    "for k in profile.keys():\n",
    "    if 'url' in k:\n",
    "        print(k,':',profile[k])"
   ]
  },
  {
   "cell_type": "code",
   "execution_count": 111,
   "metadata": {},
   "outputs": [
    {
     "data": {
      "text/plain": [
       "False"
      ]
     },
     "execution_count": 111,
     "metadata": {},
     "output_type": "execute_result"
    }
   ],
   "source": [
    "def even(number):\n",
    "    if number==1: return False\n",
    "    if number>1: return not even(number-1)\n",
    "\n",
    "even(19)"
   ]
  },
  {
   "cell_type": "code",
   "execution_count": 135,
   "metadata": {},
   "outputs": [
    {
     "data": {
      "text/plain": [
       "True"
      ]
     },
     "execution_count": 135,
     "metadata": {},
     "output_type": "execute_result"
    }
   ],
   "source": [
    "def palindrome(number):\n",
    "    #print(str(number),str(number)[::-1])\n",
    "    return str(number) == str(number)[::-1]\n",
    "\n",
    "palindrome(1456116541)"
   ]
  },
  {
   "cell_type": "code",
   "execution_count": 152,
   "metadata": {},
   "outputs": [
    {
     "name": "stdout",
     "output_type": "stream",
     "text": [
      "1\n",
      "2\n",
      "3\n",
      "4\n",
      "5\n",
      "6\n",
      "7\n",
      "8\n",
      "9\n",
      "153\n",
      "370\n",
      "371\n",
      "407\n",
      "1634\n",
      "8208\n",
      "9474\n",
      "54748\n",
      "92727\n",
      "93084\n",
      "548834\n",
      "1741725\n",
      "4210818\n",
      "9800817\n",
      "9926315\n",
      "24678050\n",
      "24678051\n",
      "88593477\n"
     ]
    },
    {
     "data": {
      "text/plain": [
       "True"
      ]
     },
     "execution_count": 152,
     "metadata": {},
     "output_type": "execute_result"
    }
   ],
   "source": [
    "def armstrong(number):\n",
    "    s = 0\n",
    "    for k in str(number):\n",
    "        s += int(k)**len(str(number))\n",
    "    return s==number\n",
    "\n",
    "armstrong(153)\n",
    "\n",
    "\n",
    "for n in range(1,100000000):\n",
    "    if armstrong(n):\n",
    "        print(n)\n",
    "armstrong(115132219018763992565095597973971522401)"
   ]
  },
  {
   "cell_type": "code",
   "execution_count": 157,
   "metadata": {},
   "outputs": [
    {
     "name": "stdout",
     "output_type": "stream",
     "text": [
      "Withdrawing 100 from the ATM\n"
     ]
    }
   ],
   "source": [
    "from abc import ABC,abstractmethod\n",
    "\n",
    "class ATM(ABC):\n",
    "    @abstractmethod\n",
    "    def withdraw(self, amount):\n",
    "        pass\n",
    "\n",
    "class BankATM(ATM):\n",
    "    def withdraw(self, amount):\n",
    "        return f\"Withdrawing {amount} from the ATM\"\n",
    "\n",
    "\n",
    "machine = BankATM()\n",
    "print(machine.withdraw(100))"
   ]
  }
 ],
 "metadata": {
  "kernelspec": {
   "display_name": "Python 3",
   "language": "python",
   "name": "python3"
  },
  "language_info": {
   "codemirror_mode": {
    "name": "ipython",
    "version": 3
   },
   "file_extension": ".py",
   "mimetype": "text/x-python",
   "name": "python",
   "nbconvert_exporter": "python",
   "pygments_lexer": "ipython3",
   "version": "3.10.11"
  }
 },
 "nbformat": 4,
 "nbformat_minor": 2
}
