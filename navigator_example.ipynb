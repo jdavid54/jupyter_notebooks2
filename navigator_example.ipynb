{
 "cells": [
  {
   "cell_type": "code",
   "execution_count": 8,
   "metadata": {},
   "outputs": [
    {
     "name": "stdout",
     "output_type": "stream",
     "text": [
      "\u001b[37mWelcome\u001b[0m\n",
      "\u001b[33m  0 - quit\u001b[0m\n",
      "\u001b[33m  1 - Hello World - A simple Hello World\u001b[0m\n",
      "\u001b[33mWhat do you want to do?\u001b[0m \u001b[32mHello World!\u001b[0m\n",
      "\u001b[33m  0 - quit\u001b[0m\n",
      "\u001b[33m  1 - Hello World - A simple Hello World\u001b[0m\n",
      "\u001b[33mWhat do you want to do?\u001b[0m \u001b[32mHello World!\u001b[0m\n",
      "\u001b[33m  0 - quit\u001b[0m\n",
      "\u001b[33m  1 - Hello World - A simple Hello World\u001b[0m\n",
      "\u001b[33mWhat do you want to do?\u001b[0m "
     ]
    }
   ],
   "source": [
    "import navigator\n",
    "\n",
    "nav = navigator.Navigator(intro=\"Welcome\")\n",
    "#@nav.route('Hello World2', \"A simple Hello World2\")\n",
    "@nav.route('Hello World', \"A simple Hello World\")\n",
    "def hello_world():\n",
    "    navigator.ui.text_success(\"Hello World!\")\n",
    "\n",
    "\n",
    "try:\n",
    "    nav.run()\n",
    "except:\n",
    "    pass"
   ]
  },
  {
   "cell_type": "code",
   "execution_count": 7,
   "metadata": {},
   "outputs": [],
   "source": [
    "#   %tb"
   ]
  }
 ],
 "metadata": {
  "kernelspec": {
   "display_name": "Python 3",
   "language": "python",
   "name": "python3"
  },
  "language_info": {
   "codemirror_mode": {
    "name": "ipython",
    "version": 3
   },
   "file_extension": ".py",
   "mimetype": "text/x-python",
   "name": "python",
   "nbconvert_exporter": "python",
   "pygments_lexer": "ipython3",
   "version": "3.10.11"
  }
 },
 "nbformat": 4,
 "nbformat_minor": 2
}
