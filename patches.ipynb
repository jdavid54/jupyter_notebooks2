{
 "cells": [
  {
   "cell_type": "code",
   "execution_count": 43,
   "metadata": {},
   "outputs": [
    {
     "data": {
      "image/png": "[encoded data removed]",
      "text/plain": [
       "<Figure size 432x288 with 1 Axes>"
      ]
     },
     "metadata": {
      "needs_background": "light"
     },
     "output_type": "display_data"
    }
   ],
   "source": [
    "import matplotlib.pyplot as plt\n",
    "import numpy as np\n",
    "import matplotlib.path as mpath\n",
    "import matplotlib.lines as mlines\n",
    "import matplotlib.patches as mpatches\n",
    "from matplotlib.collections import PatchCollection\n",
    "\n",
    "\n",
    "def label(xy, text):\n",
    "    y = xy[1] - 0.15  # shift y-value for label so that it's below the artist\n",
    "    plt.text(xy[0], y, text, ha=\"center\", family='sans-serif', size=14)\n",
    "\n",
    "\n",
    "fig, ax = plt.subplots()\n",
    "# create 3x3 grid to plot the artists\n",
    "grid = np.mgrid[0.2:0.8:3j, 0.2:0.8:3j].reshape(2, -1).T\n",
    "\n",
    "patches = []\n",
    "\n",
    "# add a circle\n",
    "circle = mpatches.Circle(grid[0], 0.1, fc='none')\n",
    "patches.append(circle)\n",
    "label(grid[0], \"Circle\")\n",
    "\n",
    "\n",
    "colors = np.linspace(0, 1, len(patches))\n",
    "collection = PatchCollection(patches, cmap=plt.cm.hsv, alpha=0.3)\n",
    "collection.set_array(np.array(colors))\n",
    "ax.add_collection(collection)\n",
    "\n",
    "\n",
    "plt.axis('equal')\n",
    "plt.axis('off')\n",
    "#plt.tight_layout()\n",
    "\n",
    "plt.show()"
   ]
  },
  {
   "cell_type": "code",
   "execution_count": 29,
   "metadata": {},
   "outputs": [
    {
     "data": {
      "image/png": "[encoded data removed]",
      "text/plain": [
       "<Figure size 432x288 with 1 Axes>"
      ]
     },
     "metadata": {
      "needs_background": "light"
     },
     "output_type": "display_data"
    }
   ],
   "source": [
    "# add a rectangle\n",
    "rect = mpatches.Rectangle(grid[1] - [0.025, 0.05], 0.05, 0.1, ec=\"none\")\n",
    "patches.append(rect)\n",
    "label(grid[1], \"Rectangle\")\n",
    "\n",
    "# add a wedge\n",
    "wedge = mpatches.Wedge(grid[2], 0.1, 30, 270, ec=\"none\")\n",
    "patches.append(wedge)\n",
    "label(grid[2], \"Wedge\")\n",
    "\n",
    "# add a Polygon\n",
    "polygon = mpatches.RegularPolygon(grid[3], 5, 0.1)\n",
    "patches.append(polygon)\n",
    "label(grid[3], \"Polygon\")\n",
    "\n",
    "# add an ellipse\n",
    "ellipse = mpatches.Ellipse(grid[4], 0.2, 0.1)\n",
    "patches.append(ellipse)\n",
    "label(grid[4], \"Ellipse\")\n",
    "\n",
    "# add an arrow\n",
    "arrow = mpatches.Arrow(grid[5, 0] - 0.05, grid[5, 1] - 0.05, 0.1, 0.1,\n",
    "                       width=0.1)\n",
    "patches.append(arrow)\n",
    "label(grid[5], \"Arrow\")\n",
    "\n",
    "# add a path patch\n",
    "Path = mpath.Path\n",
    "path_data = [\n",
    "    (Path.MOVETO, [0.018, -0.11]),\n",
    "    (Path.CURVE4, [-0.031, -0.051]),\n",
    "    (Path.CURVE4, [-0.115, 0.073]),\n",
    "    (Path.CURVE4, [-0.03, 0.073]),\n",
    "    (Path.LINETO, [-0.011, 0.039]),\n",
    "    (Path.CURVE4, [0.043, 0.121]),\n",
    "    (Path.CURVE4, [0.075, -0.005]),\n",
    "    (Path.CURVE4, [0.035, -0.027]),\n",
    "    (Path.CLOSEPOLY, [0.018, -0.11])]\n",
    "codes, verts = zip(*path_data)\n",
    "path = mpath.Path(verts + grid[6], codes)\n",
    "patch = mpatches.PathPatch(path)\n",
    "patches.append(patch)\n",
    "label(grid[6], \"PathPatch\")\n",
    "\n",
    "# add a fancy box\n",
    "fancybox = mpatches.FancyBboxPatch(\n",
    "    grid[7] - [0.025, 0.05], 0.05, 0.1,\n",
    "    boxstyle=mpatches.BoxStyle(\"Round\", pad=0.02))\n",
    "patches.append(fancybox)\n",
    "label(grid[7], \"FancyBboxPatch\")\n",
    "\n",
    "# add a line\n",
    "x, y = np.array([[-0.06, 0.0, 0.1], [0.05, -0.05, 0.05]])\n",
    "line = mlines.Line2D(x + grid[8, 0], y + grid[8, 1], lw=5., alpha=0.3)\n",
    "label(grid[8], \"Line2D\")"
   ]
  },
  {
   "cell_type": "code",
   "execution_count": 32,
   "metadata": {},
   "outputs": [
    {
     "data": {
      "image/png": "[encoded data removed]",
      "text/plain": [
       "<Figure size 432x288 with 1 Axes>"
      ]
     },
     "metadata": {
      "needs_background": "light"
     },
     "output_type": "display_data"
    }
   ],
   "source": [
    "colors = np.linspace(0, 1, len(patches))\n",
    "collection = PatchCollection(patches, cmap=plt.cm.hsv, alpha=0.3)\n",
    "collection.set_array(np.array(colors))\n",
    "ax.add_collection(collection)\n",
    "ax.add_line(line)\n",
    "\n",
    "plt.axis('equal')\n",
    "plt.axis('off')\n",
    "plt.tight_layout()\n",
    "\n",
    "plt.show()"
   ]
  },
  {
   "cell_type": "code",
   "execution_count": 23,
   "metadata": {},
   "outputs": [
    {
     "data": {
      "image/png": "[encoded data removed]",
      "text/plain": [
       "<Figure size 432x288 with 1 Axes>"
      ]
     },
     "metadata": {
      "needs_background": "light"
     },
     "output_type": "display_data"
    }
   ],
   "source": [
    "#ax.add_line(line)\n",
    "\n",
    "plt.axis('equal')\n",
    "plt.axis('off')\n",
    "plt.tight_layout()\n",
    "\n",
    "plt.show()"
   ]
  },
  {
   "cell_type": "code",
   "execution_count": null,
   "metadata": {},
   "outputs": [],
   "source": []
  }
 ],
 "metadata": {
  "kernelspec": {
   "display_name": "Python 3",
   "language": "python",
   "name": "python3"
  },
  "language_info": {
   "codemirror_mode": {
    "name": "ipython",
    "version": 3
   },
   "file_extension": ".py",
   "mimetype": "text/x-python",
   "name": "python",
   "nbconvert_exporter": "python",
   "pygments_lexer": "ipython3",
   "version": "3.7.3"
  }
 },
 "nbformat": 4,
 "nbformat_minor": 2
}
