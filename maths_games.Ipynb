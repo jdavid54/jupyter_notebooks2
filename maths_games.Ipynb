{
 "cells": [
  {
   "cell_type": "code",
   "execution_count": 454,
   "metadata": {},
   "outputs": [],
   "source": [
    "import random as rd\n"
   ]
  },
  {
   "cell_type": "code",
   "execution_count": 455,
   "metadata": {},
   "outputs": [],
   "source": [
    "def do_it(set):\n",
    "    print(set)\n",
    "    set.reverse()\n",
    "    n1 = sum([v*10**i for i,v in enumerate(set)])\n",
    "    print(n1)\n",
    "    set.reverse()\n",
    "    n2 = sum([v*10**i for i,v in enumerate(set)])\n",
    "    print(n2)\n",
    "    return n1, n2, abs(n1-n2), n1+n2"
   ]
  },
  {
   "cell_type": "code",
   "execution_count": 456,
   "metadata": {},
   "outputs": [],
   "source": [
    "def do_next(s):\n",
    "   set = []\n",
    "   [set.append(int(c)) for c in s]\n",
    "   # get sum\n",
    "   _,_,_,result = do_it(set)  \n",
    "   return result"
   ]
  },
  {
   "cell_type": "code",
   "execution_count": 457,
   "metadata": {},
   "outputs": [
    {
     "name": "stdout",
     "output_type": "stream",
     "text": [
      "[2, 3, 5]\n"
     ]
    }
   ],
   "source": [
    "# initialize set\n",
    "set = [rd.randint(1,9),rd.randint(1,9),rd.randint(1,9)]\n",
    "set.sort()\n",
    "print(set)\n"
   ]
  },
  {
   "cell_type": "code",
   "execution_count": 458,
   "metadata": {},
   "outputs": [
    {
     "name": "stdout",
     "output_type": "stream",
     "text": [
      "[2, 3, 5]\n",
      "235\n",
      "532\n",
      "first result= 297\n",
      "[2, 9, 7]\n",
      "297\n",
      "792\n",
      "second result= 1089\n"
     ]
    }
   ],
   "source": [
    "# first op\n",
    "# get_difference\n",
    "_,_,result,_ = do_it(set)\n",
    "print('first result=',result)\n",
    "# second op\n",
    "# get sum\n",
    "if result>99:\n",
    "    result = do_next(str(result))\n",
    "\n",
    "print('second result=',result)"
   ]
  }
 ],
 "metadata": {
  "kernelspec": {
   "display_name": "Python 3",
   "language": "python",
   "name": "python3"
  },
  "language_info": {
   "codemirror_mode": {
    "name": "ipython",
    "version": 3
   },
   "file_extension": ".py",
   "mimetype": "text/x-python",
   "name": "python",
   "nbconvert_exporter": "python",
   "pygments_lexer": "ipython3",
   "version": "3.10.11"
  },
  "orig_nbformat": 4
 },
 "nbformat": 4,
 "nbformat_minor": 2
}
