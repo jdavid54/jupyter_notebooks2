{
 "cells": [
  {
   "cell_type": "code",
   "execution_count": 49,
   "metadata": {},
   "outputs": [
    {
     "data": {
      "text/plain": [
       "(-1+0j)"
      ]
     },
     "execution_count": 49,
     "metadata": {},
     "output_type": "execute_result"
    }
   ],
   "source": [
    "import numpy as np\n",
    "1j**2"
   ]
  },
  {
   "cell_type": "code",
   "execution_count": 50,
   "metadata": {},
   "outputs": [
    {
     "data": {
      "text/plain": [
       "3"
      ]
     },
     "execution_count": 50,
     "metadata": {},
     "output_type": "execute_result"
    }
   ],
   "source": [
    "n = 6\n",
    "n//2"
   ]
  },
  {
   "cell_type": "code",
   "execution_count": 51,
   "metadata": {},
   "outputs": [],
   "source": [
    "def isPowerOfTwo1(n):\n",
    "    if (n == 0):\n",
    "        return False\n",
    "    while (n != 1):\n",
    "            if (n % 2 != 0):\n",
    "                return False\n",
    "            n = n // 2             \n",
    "    return True\n",
    "\n",
    "# Function to check if x is power of 2\n",
    "def isPowerOfTwo (x):\n",
    " \n",
    "    # First x in the below expression\n",
    "    # is for the case when x is 0\n",
    "    return (x and (not(x & (x - 1))) )\n",
    "\n",
    "import math\n",
    "def Log2(x):\n",
    "    return (math.log10(x) / math.log10(2));"
   ]
  },
  {
   "cell_type": "code",
   "execution_count": 52,
   "metadata": {},
   "outputs": [
    {
     "data": {
      "text/plain": [
       "2.584962500721156"
      ]
     },
     "execution_count": 52,
     "metadata": {},
     "output_type": "execute_result"
    }
   ],
   "source": [
    "Log2(6)"
   ]
  },
  {
   "cell_type": "code",
   "execution_count": 53,
   "metadata": {},
   "outputs": [
    {
     "data": {
      "text/plain": [
       "8"
      ]
     },
     "execution_count": 53,
     "metadata": {},
     "output_type": "execute_result"
    }
   ],
   "source": [
    "2**(int(Log2(5))+1)"
   ]
  },
  {
   "cell_type": "code",
   "execution_count": 54,
   "metadata": {},
   "outputs": [
    {
     "data": {
      "text/plain": [
       "True"
      ]
     },
     "execution_count": 54,
     "metadata": {},
     "output_type": "execute_result"
    }
   ],
   "source": [
    "isPowerOfTwo(8)\n"
   ]
  },
  {
   "cell_type": "code",
   "execution_count": 55,
   "metadata": {},
   "outputs": [],
   "source": [
    "def FFT(P):\n",
    "    # P = [p0,p1,p2,...pn-1]\n",
    "    n = len(P)\n",
    "    if not isPowerOfTwo(n):\n",
    "        n = 2**(int(Log2(n))+1)\n",
    "    if n==1:\n",
    "        return P\n",
    "    w = np.exp(2*np.pi*1j/n)\n",
    "    print('n=',n,'w=',w)\n",
    "    for m in range(1,n+1):\n",
    "        print(m,w**m)\n",
    "    Pe, Po = P[::2], P[1::2]\n",
    "    print('Pe=',Pe,'Po=', Po)\n",
    "    ye, yo = FFT(Pe), FFT(Po)\n",
    "    print('ye=',ye, 'yo=',yo)\n",
    "    y = [0]*n\n",
    "    print('y=',y,'ye=',ye,'yo=',yo)\n",
    "    for j in range(n//2):\n",
    "        print('j=',j)\n",
    "        y[j] = ye[j] + w**j*yo[j]\n",
    "        y[j+n//2] = ye[j] - w**j*yo[j]\n",
    "    print('***************y=',y)\n",
    "    return y\n"
   ]
  },
  {
   "cell_type": "code",
   "execution_count": 56,
   "metadata": {},
   "outputs": [
    {
     "data": {
      "text/plain": [
       "[0, 0, 0, 0, 0, 0]"
      ]
     },
     "execution_count": 56,
     "metadata": {},
     "output_type": "execute_result"
    }
   ],
   "source": [
    "[0]*6"
   ]
  },
  {
   "cell_type": "code",
   "execution_count": 57,
   "metadata": {},
   "outputs": [
    {
     "data": {
      "text/plain": [
       "(-1+0j)"
      ]
     },
     "execution_count": 57,
     "metadata": {},
     "output_type": "execute_result"
    }
   ],
   "source": [
    "1j**2"
   ]
  },
  {
   "cell_type": "code",
   "execution_count": 58,
   "metadata": {},
   "outputs": [
    {
     "data": {
      "text/plain": [
       "(-1+0j)"
      ]
     },
     "execution_count": 58,
     "metadata": {},
     "output_type": "execute_result"
    }
   ],
   "source": [
    "complex(0,1)**2"
   ]
  },
  {
   "cell_type": "code",
   "execution_count": 59,
   "metadata": {},
   "outputs": [],
   "source": [
    "def IFFT(P):\n",
    "    # P = [p0,p1,p2,...pn-1]\n",
    "    n = len(P)\n",
    "    if n==1:\n",
    "        return P\n",
    "    w = np.exp(-2*np.pi*1j/n)\n",
    "    print('n=',n,'w=',w)\n",
    "    Pe, Po = P[::2], P[1::2]\n",
    "    print('Pe=',Pe,'Po=', Po)\n",
    "    ye, yo = IFFT(Pe), IFFT(Po)\n",
    "    print('ye=',ye, 'yo=',yo)\n",
    "    y = [0]*n\n",
    "    for j in range(n//2):\n",
    "        y[j] = ye[j] + w**j*yo[j]\n",
    "        y[j+n//2] = ye[j] - w**j*yo[j]\n",
    "    return y,n"
   ]
  },
  {
   "cell_type": "code",
   "execution_count": 60,
   "metadata": {},
   "outputs": [],
   "source": [
    "def polynomial(p):\n",
    "    return lambda x: sum(a*x**i for i, a in enumerate(p))\n"
   ]
  },
  {
   "attachments": {},
   "cell_type": "markdown",
   "metadata": {},
   "source": [
    "# example\n"
   ]
  },
  {
   "cell_type": "code",
   "execution_count": 61,
   "metadata": {},
   "outputs": [],
   "source": [
    "def round_c(c):\n",
    "    r = c.real\n",
    "    i = c.imag\n",
    "    return np.round(r,1) + np.round(i,1)*1j"
   ]
  },
  {
   "cell_type": "code",
   "execution_count": 62,
   "metadata": {},
   "outputs": [],
   "source": [
    "P = [3,2,1,7,5,1]\n",
    "#P = [2,1,7,5,1]\n",
    "Q = list(reversed(P))\n",
    "f = polynomial(Q)\n"
   ]
  },
  {
   "cell_type": "code",
   "execution_count": 63,
   "metadata": {},
   "outputs": [
    {
     "data": {
      "text/plain": [
       "(-200.0, 200.0)"
      ]
     },
     "execution_count": 63,
     "metadata": {},
     "output_type": "execute_result"
    },
    {
     "data": {
      "image/png": "[encoded data removed]",
      "text/plain": [
       "<Figure size 640x480 with 1 Axes>"
      ]
     },
     "metadata": {},
     "output_type": "display_data"
    }
   ],
   "source": [
    "import matplotlib.pyplot as plt\n",
    "x = np.linspace(-5,5,100)\n",
    "y = f(x)\n",
    "plt.plot(x,y)\n",
    "plt.grid()\n",
    "plt.ylim(-200,200)"
   ]
  },
  {
   "cell_type": "code",
   "execution_count": 64,
   "metadata": {},
   "outputs": [
    {
     "data": {
      "text/plain": [
       "[1]"
      ]
     },
     "execution_count": 64,
     "metadata": {},
     "output_type": "execute_result"
    }
   ],
   "source": [
    "P = [3,2,1,7,5,1]  # high powers, lower indices\n",
    "P = [1]\n",
    "P = list(reversed(P))  # must be lower powers, lower indices\n",
    "P"
   ]
  },
  {
   "cell_type": "code",
   "execution_count": 65,
   "metadata": {},
   "outputs": [
    {
     "name": "stdout",
     "output_type": "stream",
     "text": [
      "[1] []\n",
      "[1] [] [] []\n",
      "[1] [] [] [] [] []\n"
     ]
    }
   ],
   "source": [
    "Pe2, Po2 = P[::2], P[1::2]\n",
    "print(Pe2, Po2)\n",
    "Pee3, Peo3 = Pe2[::2], Pe2[1::2]\n",
    "Poe3, Poo3 = Po2[::2], Po2[1::2]\n",
    "print(Pee3, Peo3, Poe3, Poo3)\n",
    "Pee4, Peo4 = Pee3[::2], Pee3[1::2]\n",
    "Poe4, Poo4 = Poe3[::2], Poe3[1::2]\n",
    "print(Pee4, Peo4, Peo3, Poe4, Poo4 ,Poo3)"
   ]
  },
  {
   "cell_type": "code",
   "execution_count": 81,
   "metadata": {},
   "outputs": [],
   "source": [
    "def eval_pol(Z):\n",
    "    f = polynomial(Z)\n",
    "    print(f(1),f(2))\n",
    "    n = len(Z)\n",
    "    if not isPowerOfTwo(n):\n",
    "        n = 2**(int(Log2(n))+1)\n",
    "    w = np.exp(2*np.pi*1j/n)\n",
    "    if not isPowerOfTwo(n):\n",
    "        n = 2**(int(Log2(n))+1)\n",
    "    \n",
    "    print(n, round_c(w))\n",
    "    rv = []\n",
    "    for k in range(n):\n",
    "        print(k,round_c(w**k),round_c(f(w**k)))\n",
    "        rv.append(round_c(f(w**k)))\n",
    "    return rv\n"
   ]
  },
  {
   "cell_type": "code",
   "execution_count": 83,
   "metadata": {},
   "outputs": [
    {
     "name": "stdout",
     "output_type": "stream",
     "text": [
      "19 175\n",
      "8 (0.7+0.7j)\n",
      "0 (1+0j) (19+0j)\n",
      "1 (0.7+0.7j) (-0.3+9.1j)\n",
      "2 1j (-4+7j)\n",
      "3 (-0.7+0.7j) (-1.7-4.9j)\n",
      "4 (-1+0j) (1+0j)\n",
      "5 (-0.7-0.7j) (-1.7+4.9j)\n",
      "6 (-0-1j) (-4-7j)\n",
      "7 (0.7-0.7j) (-0.3-9.1j)\n"
     ]
    },
    {
     "data": {
      "text/plain": [
       "[(19+0j),\n",
       " (-0.3+9.1j),\n",
       " (-4+7j),\n",
       " (-1.7-4.9j),\n",
       " (1+0j),\n",
       " (-1.7+4.9j),\n",
       " (-4-7j),\n",
       " (-0.3-9.1j)]"
      ]
     },
     "execution_count": 83,
     "metadata": {},
     "output_type": "execute_result"
    }
   ],
   "source": [
    "eval_pol(Z)"
   ]
  },
  {
   "cell_type": "code",
   "execution_count": 84,
   "metadata": {},
   "outputs": [
    {
     "name": "stdout",
     "output_type": "stream",
     "text": [
      "0 (1+0j) (19+0j)\n",
      "1 (0.7071067811865476+0.7071067811865476j) (-0.29289321881345476+9.121320343559644j)\n",
      "2 1.0000000000000002j (-4.000000000000002+7.0000000000000036j)\n",
      "3 (-0.7071067811865477+0.7071067811865477j) (-1.7071067811865475-4.878679656440362j)\n",
      "4 (-1.0000000000000004+0j) (1.0000000000000004+0j)\n",
      "5 (-0.7071067811865479-0.7071067811865479j) (-1.707106781186547+4.878679656440368j)\n",
      "6 (-0-1.0000000000000007j) (-4.0000000000000036-7.0000000000000115j)\n",
      "7 (0.707106781186548-0.707106781186548j) (-0.29289321881346453-9.121320343559649j)\n"
     ]
    }
   ],
   "source": [
    "n = 8\n",
    "Z = [1,5,7,1,2,3]\n",
    "f = polynomial(Z)\n",
    "w = np.exp(2*np.pi*1j/n)\n",
    "for k in range(n):\n",
    "        print(k,w**k,f(w**k))    "
   ]
  },
  {
   "cell_type": "code",
   "execution_count": 68,
   "metadata": {},
   "outputs": [],
   "source": [
    "import sympy as sp"
   ]
  },
  {
   "cell_type": "code",
   "execution_count": 69,
   "metadata": {},
   "outputs": [
    {
     "name": "stdout",
     "output_type": "stream",
     "text": [
      "3*x**5 + 2*x**4 + x**3 + 7*x**2 + 5*x + 1\n"
     ]
    },
    {
     "data": {
      "text/latex": [
       "$\\displaystyle -0.292893218813454 + 9.12132034355964 i$"
      ],
      "text/plain": [
       "-0.292893218813454 + 9.12132034355964*I"
      ]
     },
     "execution_count": 69,
     "metadata": {},
     "output_type": "execute_result"
    }
   ],
   "source": [
    "x, y = sp.symbols('x, y')\n",
    "from sympy import Function, Symbol\n",
    "f = Function('f')\n",
    "y = 3*x**5+2*x**4+x**3+7*x**2+5*x+1\n",
    "print(y)\n",
    "values = {x: np.exp(2*np.pi*1j/8)}\n",
    "y.evalf(subs=values)"
   ]
  },
  {
   "cell_type": "code",
   "execution_count": 85,
   "metadata": {},
   "outputs": [],
   "source": [
    "def FFT(P,depth=0,label='P'):\n",
    "    # P = [p0,p1,p2,...pn-1]\n",
    "    #depth += 1\n",
    "    print('\\n'+label,P,'depth=',depth)\n",
    "    n = len(P)\n",
    "    if not isPowerOfTwo(n):\n",
    "        n = 2**(int(Log2(n))+1)\n",
    "    if n==1:\n",
    "        print('return P=',P)\n",
    "        return P\n",
    "    w = np.exp(2*np.pi*1j/n)\n",
    "    print('n=',n,'w=',w)\n",
    "    # for m in range(1,n+1):\n",
    "    #     print(m,w**m)\n",
    "    Pe, Po = P[::2], P[1::2]\n",
    "    print('Pe=',Pe,'Po=', Po)\n",
    "    ye, yo = FFT(Pe,depth=depth+1,label='Pe'), FFT(Po,depth=depth+1,label='Po')\n",
    "    #print('>>>>>> ye=',ye, 'yo=',yo)\n",
    "    y = [0]*n\n",
    "    if len(yo)<len(ye):\n",
    "        yo = yo*2\n",
    "    print('>>>>     n=',n,'y=',y,'ye=',ye,'yo=',yo,len(ye),len(yo))\n",
    "    power= 2**depth\n",
    "    \n",
    "    for j in range(n//2):\n",
    "            print('j=',j,'wj=',round_c(w**j),'power=',power)\n",
    "            y[j] = round_c(ye[j] + yo[j]*w**(power*j))\n",
    "            y[j+n//2] = round_c(ye[j] - yo[j]*w**(power*j))\n",
    "            print('y'+str(j)+'=',y)\n",
    "    print('return y=',y)\n",
    "    return y"
   ]
  },
  {
   "cell_type": "code",
   "execution_count": 86,
   "metadata": {},
   "outputs": [
    {
     "data": {
      "text/plain": [
       "((0.7071067811865476+0.7071067811865476j), 1.0000000000000002j)"
      ]
     },
     "execution_count": 86,
     "metadata": {},
     "output_type": "execute_result"
    }
   ],
   "source": [
    "w = np.exp(2*np.pi*1j/8)\n",
    "w,w**2"
   ]
  },
  {
   "cell_type": "code",
   "execution_count": 87,
   "metadata": {},
   "outputs": [
    {
     "data": {
      "text/latex": [
       "$\\displaystyle -0.292893218813454 + 9.12132034355964 i$"
      ],
      "text/plain": [
       "-0.292893218813454 + 9.12132034355964*I"
      ]
     },
     "execution_count": 87,
     "metadata": {},
     "output_type": "execute_result"
    }
   ],
   "source": [
    "values = {x: np.exp(2*np.pi*1j/8)}\n",
    "y.evalf(subs=values)"
   ]
  },
  {
   "cell_type": "code",
   "execution_count": 88,
   "metadata": {},
   "outputs": [
    {
     "name": "stdout",
     "output_type": "stream",
     "text": [
      "19 175\n",
      "8 (0.7+0.7j)\n",
      "0 (1+0j) (19+0j)\n",
      "1 (0.7+0.7j) (-0.3+9.1j)\n",
      "2 1j (-4+7j)\n",
      "3 (-0.7+0.7j) (-1.7-4.9j)\n",
      "4 (-1+0j) (1+0j)\n",
      "5 (-0.7-0.7j) (-1.7+4.9j)\n",
      "6 (-0-1j) (-4-7j)\n",
      "7 (0.7-0.7j) (-0.3-9.1j)\n"
     ]
    },
    {
     "data": {
      "text/plain": [
       "(8,\n",
       " [(19+0j),\n",
       "  (-0.3+9.1j),\n",
       "  (-4+7j),\n",
       "  (-1.7-4.9j),\n",
       "  (1+0j),\n",
       "  (-1.7+4.9j),\n",
       "  (-4-7j),\n",
       "  (-0.3-9.1j)])"
      ]
     },
     "execution_count": 88,
     "metadata": {},
     "output_type": "execute_result"
    }
   ],
   "source": [
    "Z =[1,5,7,1,2,3]\n",
    "Z =[1,5,7,1,2,3]\n",
    "rv = eval_pol(Z)\n",
    "n,rv\n"
   ]
  },
  {
   "cell_type": "code",
   "execution_count": 89,
   "metadata": {},
   "outputs": [
    {
     "name": "stdout",
     "output_type": "stream",
     "text": [
      "\n",
      "P [1, 5, 7, 1, 2, 3] depth= 0\n",
      "n= 8 w= (0.7071067811865476+0.7071067811865476j)\n",
      "Pe= [1, 7, 2] Po= [5, 1, 3]\n",
      "\n",
      "Pe [1, 7, 2] depth= 1\n",
      "n= 4 w= (6.123233995736766e-17+1j)\n",
      "Pe= [1, 2] Po= [7]\n",
      "\n",
      "Pe [1, 2] depth= 2\n",
      "n= 2 w= (-1+1.2246467991473532e-16j)\n",
      "Pe= [1] Po= [2]\n",
      "\n",
      "Pe [1] depth= 3\n",
      "return P= [1]\n",
      "\n",
      "Po [2] depth= 3\n",
      "return P= [2]\n",
      ">>>>     n= 2 y= [0, 0] ye= [1] yo= [2] 1 1\n",
      "j= 0 wj= (1+0j) power= 4\n",
      "y0= [(3+0j), (-1+0j)]\n",
      "return y= [(3+0j), (-1+0j)]\n",
      "\n",
      "Po [7] depth= 2\n",
      "return P= [7]\n",
      ">>>>     n= 4 y= [0, 0, 0, 0] ye= [(3+0j), (-1+0j)] yo= [7, 7] 2 2\n",
      "j= 0 wj= (1+0j) power= 2\n",
      "y0= [(10+0j), 0, (-4+0j), 0]\n",
      "j= 1 wj= 1j power= 2\n",
      "y1= [(10+0j), (-8+0j), (-4+0j), (6+0j)]\n",
      "return y= [(10+0j), (-8+0j), (-4+0j), (6+0j)]\n",
      "\n",
      "Po [5, 1, 3] depth= 1\n",
      "n= 4 w= (6.123233995736766e-17+1j)\n",
      "Pe= [5, 3] Po= [1]\n",
      "\n",
      "Pe [5, 3] depth= 2\n",
      "n= 2 w= (-1+1.2246467991473532e-16j)\n",
      "Pe= [5] Po= [3]\n",
      "\n",
      "Pe [5] depth= 3\n",
      "return P= [5]\n",
      "\n",
      "Po [3] depth= 3\n",
      "return P= [3]\n",
      ">>>>     n= 2 y= [0, 0] ye= [5] yo= [3] 1 1\n",
      "j= 0 wj= (1+0j) power= 4\n",
      "y0= [(8+0j), (2+0j)]\n",
      "return y= [(8+0j), (2+0j)]\n",
      "\n",
      "Po [1] depth= 2\n",
      "return P= [1]\n",
      ">>>>     n= 4 y= [0, 0, 0, 0] ye= [(8+0j), (2+0j)] yo= [1, 1] 2 2\n",
      "j= 0 wj= (1+0j) power= 2\n",
      "y0= [(9+0j), 0, (7+0j), 0]\n",
      "j= 1 wj= 1j power= 2\n",
      "y1= [(9+0j), (1+0j), (7+0j), (3+0j)]\n",
      "return y= [(9+0j), (1+0j), (7+0j), (3+0j)]\n",
      ">>>>     n= 8 y= [0, 0, 0, 0, 0, 0, 0, 0] ye= [(10+0j), (-8+0j), (-4+0j), (6+0j)] yo= [(9+0j), (1+0j), (7+0j), (3+0j)] 4 4\n",
      "j= 0 wj= (1+0j) power= 1\n",
      "y0= [(19+0j), 0, 0, 0, (1+0j), 0, 0, 0]\n",
      "j= 1 wj= (0.7+0.7j) power= 1\n",
      "y1= [(19+0j), (-7.3+0.7j), 0, 0, (1+0j), (-8.7-0.7j), 0, 0]\n",
      "j= 2 wj= 1j power= 1\n",
      "y2= [(19+0j), (-7.3+0.7j), (-4+7j), 0, (1+0j), (-8.7-0.7j), (-4-7j), 0]\n",
      "j= 3 wj= (-0.7+0.7j) power= 1\n",
      "y3= [(19+0j), (-7.3+0.7j), (-4+7j), (3.9+2.1j), (1+0j), (-8.7-0.7j), (-4-7j), (8.1-2.1j)]\n",
      "return y= [(19+0j), (-7.3+0.7j), (-4+7j), (3.9+2.1j), (1+0j), (-8.7-0.7j), (-4-7j), (8.1-2.1j)]\n"
     ]
    },
    {
     "data": {
      "text/plain": [
       "[(19+0j),\n",
       " (-7.3+0.7j),\n",
       " (-4+7j),\n",
       " (3.9+2.1j),\n",
       " (1+0j),\n",
       " (-8.7-0.7j),\n",
       " (-4-7j),\n",
       " (8.1-2.1j)]"
      ]
     },
     "execution_count": 89,
     "metadata": {},
     "output_type": "execute_result"
    }
   ],
   "source": [
    "r = FFT(Z)\n",
    "r"
   ]
  },
  {
   "cell_type": "code",
   "execution_count": 90,
   "metadata": {},
   "outputs": [
    {
     "data": {
      "text/plain": [
       "[(19+0j),\n",
       " (-0.3+9.1j),\n",
       " (-4+7j),\n",
       " (-1.7-4.9j),\n",
       " (1+0j),\n",
       " (-1.7+4.9j),\n",
       " (-4-7j),\n",
       " (-0.3-9.1j)]"
      ]
     },
     "execution_count": 90,
     "metadata": {},
     "output_type": "execute_result"
    },
    {
     "ename": "",
     "evalue": "",
     "output_type": "error",
     "traceback": [
      "\u001b[1;31mThe Kernel crashed while executing code in the the current cell or a previous cell. Please review the code in the cell(s) to identify a possible cause of the failure. Click <a href='https://aka.ms/vscodeJupyterKernelCrash'>here</a> for more info. View Jupyter <a href='command:jupyter.viewOutput'>log</a> for further details."
     ]
    }
   ],
   "source": [
    "rv"
   ]
  },
  {
   "cell_type": "code",
   "execution_count": 47,
   "metadata": {},
   "outputs": [
    {
     "name": "stdout",
     "output_type": "stream",
     "text": [
      "3*x**5 + 2*x**4 + x**3 + 7*x**2 + 5*x + 1\n"
     ]
    },
    {
     "data": {
      "text/latex": [
       "$\\displaystyle -0.292893218813454 + 9.12132034355964 i$"
      ],
      "text/plain": [
       "-0.292893218813454 + 9.12132034355964*I"
      ]
     },
     "execution_count": 47,
     "metadata": {},
     "output_type": "execute_result"
    }
   ],
   "source": [
    "x, y = sp.symbols('x, y')\n",
    "from sympy import Function, Symbol\n",
    "f = Function('f')\n",
    "y = 3*x**5+2*x**4+x**3+7*x**2+5*x+1\n",
    "print(y)\n",
    "values = {x: np.exp(2*np.pi*1j/8)}\n",
    "y.evalf(subs=values)"
   ]
  },
  {
   "cell_type": "code",
   "execution_count": 35,
   "metadata": {},
   "outputs": [
    {
     "data": {
      "text/plain": [
       "[(19+0j),\n",
       " (-0.5+6.1j),\n",
       " (-6.5-2.6j),\n",
       " (1+0j),\n",
       " (-6.5+2.6j),\n",
       " (-0.5-6.1j),\n",
       " (19+0j),\n",
       " (-0.5+6.1j)]"
      ]
     },
     "execution_count": 35,
     "metadata": {},
     "output_type": "execute_result"
    }
   ],
   "source": [
    "rv"
   ]
  },
  {
   "cell_type": "code",
   "execution_count": 36,
   "metadata": {},
   "outputs": [
    {
     "data": {
      "text/plain": [
       "False"
      ]
     },
     "execution_count": 36,
     "metadata": {},
     "output_type": "execute_result"
    }
   ],
   "source": [
    "r==rv"
   ]
  },
  {
   "cell_type": "code",
   "execution_count": 37,
   "metadata": {},
   "outputs": [
    {
     "name": "stdout",
     "output_type": "stream",
     "text": [
      "\n",
      "P [1] depth= 0\n",
      "return P= [1]\n"
     ]
    },
    {
     "data": {
      "text/plain": [
       "[1]"
      ]
     },
     "execution_count": 37,
     "metadata": {},
     "output_type": "execute_result"
    }
   ],
   "source": [
    "R = FFT(P)\n",
    "R"
   ]
  },
  {
   "cell_type": "code",
   "execution_count": 38,
   "metadata": {},
   "outputs": [],
   "source": [
    "#P =[1,5,7]\n",
    "f = polynomial(P)"
   ]
  },
  {
   "cell_type": "code",
   "execution_count": 39,
   "metadata": {},
   "outputs": [
    {
     "data": {
      "text/plain": [
       "(1, (1+0j), 1, (1+0j))"
      ]
     },
     "execution_count": 39,
     "metadata": {},
     "output_type": "execute_result"
    }
   ],
   "source": [
    "f(1),f(1j),f(-1),f(-1j)\n"
   ]
  },
  {
   "cell_type": "code",
   "execution_count": 40,
   "metadata": {},
   "outputs": [
    {
     "data": {
      "text/plain": [
       "((1+0j), (1+0j))"
      ]
     },
     "execution_count": 40,
     "metadata": {},
     "output_type": "execute_result"
    }
   ],
   "source": [
    "f(0.7071067811865476+0.7071067811865476j),f(-0.7071067811865476+0.7071067811865476j)\n"
   ]
  },
  {
   "cell_type": "code",
   "execution_count": 41,
   "metadata": {},
   "outputs": [
    {
     "data": {
      "text/plain": [
       "((1+0j), (1+0j))"
      ]
     },
     "execution_count": 41,
     "metadata": {},
     "output_type": "execute_result"
    }
   ],
   "source": [
    "f(-0.7071067811865476-0.7071067811865476j),f(0.7071067811865476-0.7071067811865476j)"
   ]
  },
  {
   "cell_type": "code",
   "execution_count": 42,
   "metadata": {},
   "outputs": [],
   "source": [
    "def imag2point(P):\n",
    "    return [(np.real(k),np.imag(k)) for k in P ]"
   ]
  },
  {
   "cell_type": "code",
   "execution_count": 43,
   "metadata": {},
   "outputs": [
    {
     "data": {
      "text/plain": [
       "[(1, 0)]"
      ]
     },
     "execution_count": 43,
     "metadata": {},
     "output_type": "execute_result"
    }
   ],
   "source": [
    "R = imag2point(R)\n",
    "R"
   ]
  },
  {
   "cell_type": "code",
   "execution_count": 44,
   "metadata": {},
   "outputs": [
    {
     "name": "stdout",
     "output_type": "stream",
     "text": [
      "\n",
      "P (-1, -1, 1, 1) depth= 0\n",
      "n= 4 w= (6.123233995736766e-17+1j)\n",
      "Pe= (-1, 1) Po= (-1, 1)\n",
      "\n",
      "Pe (-1, 1) depth= 1\n",
      "n= 2 w= (-1+1.2246467991473532e-16j)\n",
      "Pe= (-1,) Po= (1,)\n",
      "\n",
      "Pe (-1,) depth= 2\n",
      "return P= (-1,)\n",
      "\n",
      "Po (1,) depth= 2\n",
      "return P= (1,)\n",
      ">>>>     n= 2 y= [0, 0] ye= (-1,) yo= (1,) 1 1\n",
      "j= 0 wj= (1+0j) power= 2\n",
      "y0= [0j, (-2+0j)]\n",
      "return y= [0j, (-2+0j)]\n",
      "\n",
      "Po (-1, 1) depth= 1\n",
      "n= 2 w= (-1+1.2246467991473532e-16j)\n",
      "Pe= (-1,) Po= (1,)\n",
      "\n",
      "Pe (-1,) depth= 2\n",
      "return P= (-1,)\n",
      "\n",
      "Po (1,) depth= 2\n",
      "return P= (1,)\n",
      ">>>>     n= 2 y= [0, 0] ye= (-1,) yo= (1,) 1 1\n",
      "j= 0 wj= (1+0j) power= 2\n",
      "y0= [0j, (-2+0j)]\n",
      "return y= [0j, (-2+0j)]\n",
      ">>>>     n= 4 y= [0, 0, 0, 0] ye= [0j, (-2+0j)] yo= [0j, (-2+0j)] 2 2\n",
      "j= 0 wj= (1+0j) power= 1\n",
      "y0= [0j, 0, 0j, 0]\n",
      "j= 1 wj= 1j power= 1\n",
      "y1= [0j, (-2-2j), 0j, (-2+2j)]\n",
      "return y= [0j, (-2-2j), 0j, (-2+2j)]\n"
     ]
    },
    {
     "data": {
      "text/plain": [
       "[0j, (-2-2j), 0j, (-2+2j)]"
      ]
     },
     "execution_count": 44,
     "metadata": {},
     "output_type": "execute_result"
    }
   ],
   "source": [
    "P = (-1,-1,1,1)\n",
    "FFT(P)"
   ]
  }
 ],
 "metadata": {
  "kernelspec": {
   "display_name": "Python 3",
   "language": "python",
   "name": "python3"
  },
  "language_info": {
   "codemirror_mode": {
    "name": "ipython",
    "version": 3
   },
   "file_extension": ".py",
   "mimetype": "text/x-python",
   "name": "python",
   "nbconvert_exporter": "python",
   "pygments_lexer": "ipython3",
   "version": "3.10.10"
  },
  "orig_nbformat": 4
 },
 "nbformat": 4,
 "nbformat_minor": 2
}
