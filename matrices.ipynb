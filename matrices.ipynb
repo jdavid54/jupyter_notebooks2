{
 "cells": [
  {
   "cell_type": "code",
   "execution_count": 65,
   "metadata": {},
   "outputs": [
    {
     "data": {
      "text/plain": [
       "matrix([[1., 2., 4.],\n",
       "        [3., 4., 5.],\n",
       "        [0., 4., 2.]])"
      ]
     },
     "execution_count": 65,
     "metadata": {},
     "output_type": "execute_result"
    }
   ],
   "source": [
    "import numpy as np\n",
    "\n",
    "a=np.mat('[1 2 4 ; 3 4 5. ; 0 4 2]')\n",
    "b=np.mat('[2. ; 4 ; 6]')\n",
    "a"
   ]
  },
  {
   "cell_type": "code",
   "execution_count": 80,
   "metadata": {},
   "outputs": [
    {
     "data": {
      "text/plain": [
       "matrix([[  1.,   2.,   4.],\n",
       "        [  0.,  -2.,  -7.],\n",
       "        [  0.,   0., -12.]])"
      ]
     },
     "execution_count": 80,
     "metadata": {},
     "output_type": "execute_result"
    }
   ],
   "source": [
    "a=np.mat('[1 2 4 ; 3 4 5. ; 0 4 2]')\n",
    "d1 = -a[1,0]/a[0,0]\n",
    "a[1,:]=[a[0,0]*d1+a[1,0], a[0,1]*d1+a[1,1], a[0,2]*d1+a[1,2]]\n",
    "a\n",
    "d2 = -a[2,1]/a[1,1]\n",
    "a[2,:]=[a[1,0]*d2+a[2,0], a[1,1]*d2+a[2,1], a[1,2]*d2+a[2,2]]\n",
    "a"
   ]
  },
  {
   "cell_type": "code",
   "execution_count": 83,
   "metadata": {},
   "outputs": [
    {
     "data": {
      "text/plain": [
       "matrix([[ 1,  0,  0],\n",
       "        [-3,  1,  0],\n",
       "        [ 0,  0,  1]])"
      ]
     },
     "execution_count": 83,
     "metadata": {},
     "output_type": "execute_result"
    }
   ],
   "source": [
    "a=np.mat('[1 2 4 ; 3 4 5. ; 0 4 2]')\n",
    "d1 = -a[1,0]/a[0,0]\n",
    "e1 = np.mat('[1 0 0 ; 0 1 0 ; 0 0 1]')\n",
    "e1[1,0]=d1\n",
    "e1"
   ]
  },
  {
   "cell_type": "code",
   "execution_count": 84,
   "metadata": {},
   "outputs": [
    {
     "data": {
      "text/plain": [
       "matrix([[ 1.,  2.,  4.],\n",
       "        [ 0., -2., -7.],\n",
       "        [ 0.,  4.,  2.]])"
      ]
     },
     "execution_count": 84,
     "metadata": {},
     "output_type": "execute_result"
    }
   ],
   "source": [
    "a = e1*a\n",
    "a"
   ]
  },
  {
   "cell_type": "code",
   "execution_count": 85,
   "metadata": {},
   "outputs": [
    {
     "data": {
      "text/plain": [
       "matrix([[1, 0, 0],\n",
       "        [0, 1, 0],\n",
       "        [0, 2, 1]])"
      ]
     },
     "execution_count": 85,
     "metadata": {},
     "output_type": "execute_result"
    }
   ],
   "source": [
    "d2 = -a[2,1]/a[1,1]\n",
    "a[2,:]=[a[1,0]*d2+a[2,0], a[1,1]*d2+a[2,1], a[1,2]*d2+a[2,2]]\n",
    "e2 = np.mat('[1 0 0 ; 0 1 0 ; 0 0 1]')\n",
    "e2[2,1]=d2\n",
    "e2"
   ]
  },
  {
   "cell_type": "code",
   "execution_count": 86,
   "metadata": {},
   "outputs": [
    {
     "data": {
      "text/plain": [
       "matrix([[ 1.,  2.,  4.],\n",
       "        [ 0., -2., -7.],\n",
       "        [ 0.,  4.,  2.]])"
      ]
     },
     "execution_count": 86,
     "metadata": {},
     "output_type": "execute_result"
    }
   ],
   "source": [
    "a=np.mat('[1 2 4 ; 3 4 5. ; 0 4 2]')\n",
    "e1*a"
   ]
  },
  {
   "cell_type": "code",
   "execution_count": 87,
   "metadata": {},
   "outputs": [
    {
     "data": {
      "text/plain": [
       "matrix([[  1.,   2.,   4.],\n",
       "        [  0.,  -2.,  -7.],\n",
       "        [  0.,   0., -12.]])"
      ]
     },
     "execution_count": 87,
     "metadata": {},
     "output_type": "execute_result"
    }
   ],
   "source": [
    "e2*e1*a"
   ]
  },
  {
   "cell_type": "code",
   "execution_count": 88,
   "metadata": {},
   "outputs": [
    {
     "data": {
      "text/plain": [
       "matrix([[ 1,  0,  0],\n",
       "        [-3,  1,  0],\n",
       "        [-6,  2,  1]])"
      ]
     },
     "execution_count": 88,
     "metadata": {},
     "output_type": "execute_result"
    }
   ],
   "source": [
    "e2*e1"
   ]
  },
  {
   "cell_type": "code",
   "execution_count": 91,
   "metadata": {},
   "outputs": [],
   "source": [
    " a = np.matrix('1 2; 3 4')"
   ]
  },
  {
   "cell_type": "code",
   "execution_count": 92,
   "metadata": {},
   "outputs": [
    {
     "data": {
      "text/plain": [
       "matrix([[1, 2],\n",
       "        [3, 4]])"
      ]
     },
     "execution_count": 92,
     "metadata": {},
     "output_type": "execute_result"
    }
   ],
   "source": [
    "a\n"
   ]
  },
  {
   "cell_type": "code",
   "execution_count": 93,
   "metadata": {},
   "outputs": [],
   "source": [
    "b=np.mat('1 2 4 ; 3 4 5. ; 0 4 2')"
   ]
  },
  {
   "cell_type": "code",
   "execution_count": 94,
   "metadata": {},
   "outputs": [
    {
     "data": {
      "text/plain": [
       "matrix([[1., 2., 4.],\n",
       "        [3., 4., 5.],\n",
       "        [0., 4., 2.]])"
      ]
     },
     "execution_count": 94,
     "metadata": {},
     "output_type": "execute_result"
    }
   ],
   "source": [
    "b\n"
   ]
  },
  {
   "cell_type": "code",
   "execution_count": 95,
   "metadata": {},
   "outputs": [
    {
     "data": {
      "text/plain": [
       "matrix([[1., 3., 0.],\n",
       "        [2., 4., 4.],\n",
       "        [4., 5., 2.]])"
      ]
     },
     "execution_count": 95,
     "metadata": {},
     "output_type": "execute_result"
    }
   ],
   "source": [
    "b.T\n"
   ]
  },
  {
   "cell_type": "code",
   "execution_count": 96,
   "metadata": {},
   "outputs": [
    {
     "data": {
      "text/plain": [
       "matrix([[1., 3., 0.],\n",
       "        [2., 4., 4.],\n",
       "        [4., 5., 2.]])"
      ]
     },
     "execution_count": 96,
     "metadata": {},
     "output_type": "execute_result"
    }
   ],
   "source": [
    "b.H"
   ]
  },
  {
   "cell_type": "code",
   "execution_count": 98,
   "metadata": {},
   "outputs": [],
   "source": [
    "b2=b.I"
   ]
  },
  {
   "cell_type": "code",
   "execution_count": 99,
   "metadata": {},
   "outputs": [
    {
     "data": {
      "text/plain": [
       "matrix([[1., 0., 0.],\n",
       "        [0., 1., 0.],\n",
       "        [0., 0., 1.]])"
      ]
     },
     "execution_count": 99,
     "metadata": {},
     "output_type": "execute_result"
    }
   ],
   "source": [
    "b2*b\n"
   ]
  },
  {
   "cell_type": "code",
   "execution_count": 100,
   "metadata": {},
   "outputs": [
    {
     "name": "stdout",
     "output_type": "stream",
     "text": [
      "Matrix : Matrix([[1, 0, 1, 3], [2, 3, 4, 7], [-1, -3, -3, -4]]) \n",
      "The Row echelon form of matrix M and the pivot columns : (Matrix([\n",
      "[1, 0,   1,   3],\n",
      "[0, 1, 2/3, 1/3],\n",
      "[0, 0,   0,   0]]), (0, 1))\n"
     ]
    }
   ],
   "source": [
    "# import sympy \n",
    "from sympy import *\n",
    "\n",
    "M = Matrix([[1, 0, 1, 3], [2, 3, 4, 7], [-1, -3, -3, -4]]) \n",
    "print(\"Matrix : {} \".format(M)) \n",
    "\n",
    "# Use sympy.rref() method \n",
    "M_rref = M.rref() \n",
    "\t\n",
    "print(\"The Row echelon form of matrix M and the pivot columns : {}\".format(M_rref)) \n"
   ]
  },
  {
   "cell_type": "code",
   "execution_count": 101,
   "metadata": {},
   "outputs": [
    {
     "name": "stdout",
     "output_type": "stream",
     "text": [
      "Matrix : Matrix([[14, 0, 11, 3], [22, 23, 4, 7], [-12, -34, -3, -4]]) \n",
      "The Row echelon form of matrix M and the pivot columns : (Matrix([\n",
      "[1, 0, 0, 1405/4254],\n",
      "[0, 1, 0,    10/709],\n",
      "[0, 0, 1, -314/2127]]), (0, 1, 2))\n"
     ]
    }
   ],
   "source": [
    "M = Matrix([[14, 0, 11, 3], [22, 23, 4, 7], [-12, -34, -3, -4]]) \n",
    "print(\"Matrix : {} \".format(M)) \n",
    "\n",
    "# Use sympy.rref() method \n",
    "M_rref = M.rref() \n",
    "\t\n",
    "print(\"The Row echelon form of matrix M and the pivot columns : {}\".format(M_rref)) \n"
   ]
  },
  {
   "cell_type": "code",
   "execution_count": 105,
   "metadata": {},
   "outputs": [
    {
     "name": "stdout",
     "output_type": "stream",
     "text": [
      "Matrix : Matrix([[1, 2, 4], [3, 4, 5.00000000000000], [0, 4, 2]]) \n",
      "The Row echelon form of matrix M and the pivot columns : (Matrix([\n",
      "[1, 0, 0],\n",
      "[0, 1, 0],\n",
      "[0, 0, 1]]), (0, 1, 2))\n"
     ]
    }
   ],
   "source": [
    "M = Matrix([[1,2,4 ],[ 3 ,4 ,5. ],[ 0 ,4 ,2]])\n",
    "print(\"Matrix : {} \".format(M)) \n",
    "\n",
    "# Use sympy.rref() method \n",
    "M_rref = M.rref() \n",
    "\t\n",
    "print(\"The Row echelon form of matrix M and the pivot columns : {}\".format(M_rref)) \n"
   ]
  },
  {
   "cell_type": "code",
   "execution_count": null,
   "metadata": {},
   "outputs": [],
   "source": []
  }
 ],
 "metadata": {
  "kernelspec": {
   "display_name": "Python 3",
   "language": "python",
   "name": "python3"
  },
  "language_info": {
   "codemirror_mode": {
    "name": "ipython",
    "version": 3
   },
   "file_extension": ".py",
   "mimetype": "text/x-python",
   "name": "python",
   "nbconvert_exporter": "python",
   "pygments_lexer": "ipython3",
   "version": "3.7.3"
  }
 },
 "nbformat": 4,
 "nbformat_minor": 2
}
