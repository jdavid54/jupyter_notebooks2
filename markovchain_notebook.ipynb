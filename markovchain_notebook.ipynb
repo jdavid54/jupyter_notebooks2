{
 "cells": [
  {
   "cell_type": "markdown",
   "id": "advisory-floor",
   "metadata": {},
   "source": [
    "# Markov Chains in Python: Beginner Tutorial\n",
    "**Learn about Markov Chains, their properties, transition matrices, and implement one yourself in Python!**"
   ]
  },
  {
   "cell_type": "markdown",
   "id": "split-toyota",
   "metadata": {},
   "source": [
    "Markov chain is a mathematical system usually defined as a collection of random variables, that transition from one state to another according to certain probabilistic rules. These set of transition satisfies the **Markov Property**, which states that the probability of transitioning to any particular state is dependent solely on the current state and time elapsed, and not on the sequence of state that preceded it. This unique characteristic of Markov processes render them **memoryless**. \n",
    "\n",
    "In this tutorial, you will discover <a href=\"#dtmc\">Discrete Time Markov chain</a>, and learn the components needed to build a (Discrete-time) <a href=\"#model\">Markov chain model</a>. In the modeling part, you will learn some of the ways to represent a Markov chain like a state diagram and <a href=\"#transitionmatrix\">transition matrix</a>. You will also get to solve a simple example and code it in Python to grasp the concepts better. Finally, you will see some of the properties of a Markov Chain.\n",
    "\n",
    "Let's transition..."
   ]
  },
  {
   "cell_type": "markdown",
   "id": "compound-uzbekistan",
   "metadata": {},
   "source": [
    "## Why Markov Chains?\n",
    "\n",
    "Markov Chains have prolific usage in mathematics. They are widely employed in economics, game theory, communication theory, genetics and finance. They arise broadly in statistical specially Bayesian statistics and information-theoretical contexts. When it comes real-world problems, they are used to postulate solutions to study cruise control systems in motor vehicles, queues or lines of customers arriving at an airport, exchange rates of currencies, etc. The algorithm known as PageRank, which was originally proposed for the internet search engine Google, is based on a Markov process. [Reddit's Subreddit Simulator](https://www.reddit.com/r/SubredditSimulator/comments/3g9ioz/what_is_rsubredditsimulator/) is a fully-automated subreddit that generates random submissions and comments using markov chains, so cool!\n"
   ]
  },
  {
   "cell_type": "markdown",
   "id": "rapid-windows",
   "metadata": {},
   "source": [
    "<a id='MarkovChain'></a>\n",
    "## Markov Chain\n",
    "\n",
    "A Markov chain is a random process with the Markov property. A random process or often called stochastic property is a mathematical object defined as a collection of random variables. A Markov chain has either discrete state space (set of possible values of the random variables) or discrete index set (often representing time) - given the fact, many variations for a Markov chain exists. Usually the term \"Markov chain\" is reserved for a process with a discrete set of times, that is a Discrete Time Markov chain (DTMC).\n",
    "\n",
    "<a id=\"dtmc\"></a>\n",
    "## Discrete Time Markov chain\n",
    "\n",
    "A discrete-time Markov chain involves a system which is in a certain state at each step, with the state changing randomly between steps. The steps are often thought of as moments in time (But they might as well refer to physical distance or any other discrete measurement). A discrete time Markov chain is a sequence of random variables $X_{1}, X_{2}, X_{3},...$ with the Markov property, such that the probability of moving to the next state depends only on the present state and not on the previous states. Putting this is mathematical probabilistic formula:\n",
    "\n",
    "$$Pr(X_{n+1}=x\\mid X_{1}=x_{1},X_{2}=x_{2},\\ldots ,X_{n}=x_{n})=\\Pr(X_{n+1}=x\\mid X_{n}=x_{n})$$\n",
    "\n",
    "As you can see, the probability of $X_{n+1}$ only depends on the probability of $X_{n}$ that precedes it. Which means the knowledge of the previous state is all that is necessary to determine the probability distribution of the current state, satisfying the rule of conditional independence (or said other way: you only need to know the current state to determine the next state).\n",
    "\n",
    "The possible values of $X_{i}$ form a countable set S called the **state space** of the chain. The state space can be anything: letters, numbers, basketball scores or weather conditions. While the time parameter is usually discrete, the state space of a discrete time Markov chain does not have any widely agreed upon restrictions, and rather refers to a process on an arbitrary state space. However, many applications of Markov chains employ finite or countably infinite state spaces, because they have a more straightforward statistical analysis.\n",
    "\n",
    "<a id=\"model\"></a>\n",
    "## Model\n",
    "\n",
    "A Markov chain is represented using a probabilistic automaton (It only sounds complicated!). The changes of state of the system are called transitions. The probabilities associated with various state changes are called transition probabilities. A probabilistic automaton includes the probability of a given transition into the transition function, turning it into a transition matrix. \n",
    "\n",
    "You can think of it as a sequence of directed graphs, where the edges of graph n are labeled by the probabilities of going from one state at time n to the other states at time n+1, $Pr(X_{n+1}=x\\mid X_{n}=x_{n})$. You can read this as, probability of going to state $X_{n+1}$ given value of state $X_{n}$. The same information is represented by the <a id='transitionmatrix'>**transition matrix**</a> from time n to time n+1. Every state in the state space is included once as a row and again as a column, and each cell in the matrix tells you the probability of transitioning from its row's state to its column's state.\n",
    "\n",
    "If the Markov chain has N possible states, the matrix will be an N x N matrix, such that entry (I, J) is the probability of transitioning from state I to state J. Additionally, the transition matrix must be a stochastic matrix, a matrix whose entries in each row must add up to exactly 1. Why? Since each row represents its own probability distribution. \n",
    "\n",
    "So, the model is characterized by a state space, a transition matrix describing the probabilities of particular transitions, and an initial state across the state space, given in the initial distribution.\n",
    "\n",
    "Whole lot of words eh? Let's check out a simple example to understand the concepts:\n",
    "\n",
    "When Cj is sad, which isn't very usual: she either goes for a run, goobles down icecream or takes a nap. \n",
    "\n",
    "From historic data, if she spent sleeping a sad day away. The next day it is 60% likely she will go for a run, 20% she will stay in bed the next day and 20% chance she will pig out on icecream.\n",
    "\n",
    "When she is sad and goes for a run, there is a 50% chances she'll go for a run the next day, 30% she gorges on icecream and only 20% chances she'll spend sleeping the next day. \n",
    "\n",
    "Finally, when she indulges on icecream on a sad day, there is a mere 10% chance she continues to have icecream the next day as well, 70% she is likely to go for a run and 20% chance that she spends sleeping the next day.\n",
    "\n",
    "![State Diagram](graphics/figure1.png)\n",
    "\n",
    "The Markov Chain depicted in the **state diagram** has 3 possible states: sleep, run, icecream. So, the transition matrix will be 3 x 3 matrix. Notice, the arrows exiting a state always sums up to exactly 1, similarly the entries in each row in the transition matrix must add up to exactly 1 - representing probability distribution. In the transition matrix, the cells do the same job that the arrows do in the state diagram.\n",
    "\n",
    "![Transition Matrix](graphics/figure2.png)"
   ]
  },
  {
   "cell_type": "markdown",
   "id": "supposed-petersburg",
   "metadata": {},
   "source": [
    "Now that you have seen the example, this should give you an idea of the different concepts related to a Markov chain. But, how and where can you use these theory in real life?\n",
    "\n",
    "With the example that you have seen, you can now answer questions like: \"Starting from the state: sleep, what is the probability that Cj will be running (state: run) at the end of a sad 2-day duration?\"\n",
    "\n",
    "Let's work this one out: In order to move from state: sleep to state: run, Cj must either stay on state: sleep the first move (or day), then move to state: run the next (second) move (0.2 $\\cdot$ 0.6); or move to state: run the first day and then stay there the second (0.6 $\\cdot$ 0.6) or she could transition to state: icecream on the first move and then to state: run in the second (0.2 $\\cdot$ 0.7). So the probability: ((0.2 $\\cdot$ 0.6) + (0.6 $\\cdot$ 0.6) + (0.2 $\\cdot$ 0.7)) = 0.62. So, we can now say that there is a 62% chance that Cj will move to state: run after two days of being sad, if she started out in the state: sleep.\n",
    "\n",
    "Hopefully, this gave you an idea of the various questions you can answer using a Markov Chain network.\n",
    "\n",
    "Also, with this clear in mind, it becomes easier to understand some important properties of Markov chains:\n",
    "\n",
    "## Properties\n",
    "\n",
    "### Reducibility \n",
    "\n",
    "A Markov chain is said to be **irreducible** if it is possible to get to any state from any state. In other words, a Markov chain is irreducible if there exists a chain of steps between any two states that has positive probability.\n",
    "\n",
    "### Periodicity\n",
    "\n",
    "A state in a Markov chain is periodic if the chain can return to the state only at multiples of some integer larger than 1. Thus, starting in state 'i', the chain can return to 'i' only at multiples of the period 'k', and k is the largest such integer. State 'i' is **aperiodic** if k = 1 and periodic if k > 1.\n",
    "\n",
    "### Transience, Recurrence\n",
    "\n",
    "A state 'i' is said to be transient if, given that we start in state 'i', there is a non-zero probability that we will never return to 'i'. State i is recurrent (or persistent) if it is not transient. A recurrent state is known as positive recurrent if it is expected to return within a finite number of steps and null recurrent otherwise.\n",
    "\n",
    "### Ergodicity\n",
    "A state 'i' is said to be ergodic if it is aperiodic and positive recurrent. If all states in an irreducible Markov chain are ergodic, then the chain is said to be ergodic.\n",
    "\n",
    "### Absorbing State\n",
    "\n",
    "A state i is called absorbing if it is impossible to leave this state. Therefore, the state 'i' is absorbing iff $p_{ii}=1$ and $p_{ij}=0 {\\text{ for }} i\\not =j$. If every state can reach an absorbing state, then the Markov chain is an absorbing Markov chain.\n",
    "\n",
    "**Tip**: if you want to also see a visual explanation of Markov chains, make sure to visit [this page](http://setosa.io/ev/markov-chains/).\n",
    "\n",
    "## Markov Chains in Python\n",
    "\n",
    "Let's try to code the example above in Python. And although in real life, you would probably use a library that encodes Markov Chains in a much efficient manner, the code should help you get started...\n",
    "\n",
    "Let's first import some of the libraries you will use.\n"
   ]
  },
  {
   "cell_type": "code",
   "execution_count": 1,
   "id": "facial-testing",
   "metadata": {
    "executionCancelledAt": null,
    "executionTime": 4361,
    "lastExecutedAt": 1730741268024,
    "lastExecutedByKernel": "11fe5d00-0c06-48df-b03d-b63e1533f952",
    "lastScheduledRunId": null,
    "lastSuccessfullyExecutedCode": "import numpy as np\nimport random as rm"
   },
   "outputs": [],
   "source": [
    "import numpy as np\n",
    "import random as rm"
   ]
  },
  {
   "cell_type": "markdown",
   "id": "alternative-private",
   "metadata": {},
   "source": [
    "Let's now define the states and their probability, i.e. the transition matrix. Remember, the matrix is going to be a 3 X 3 matrix since you have three states. Also, you will have to define the transition paths, you can do this using matrices as well."
   ]
  },
  {
   "cell_type": "code",
   "execution_count": 2,
   "id": "sound-retail",
   "metadata": {
    "executionCancelledAt": null,
    "executionTime": 11,
    "lastExecutedAt": 1730741274936,
    "lastExecutedByKernel": "11fe5d00-0c06-48df-b03d-b63e1533f952",
    "lastScheduledRunId": null,
    "lastSuccessfullyExecutedCode": "# The statespace\nstates = [\"Sleep\",\"Icecream\",\"Run\"]\n\n# Possible sequences of events\ntransitionName = [[\"SS\",\"SR\",\"SI\"],[\"RS\",\"RR\",\"RI\"],[\"IS\",\"IR\",\"II\"]]\n\n# Probabilities matrix (transition matrix)\ntransitionMatrix = [[0.2,0.6,0.2],[0.1,0.6,0.3],[0.2,0.7,0.1]]"
   },
   "outputs": [],
   "source": [
    "# The statespace\n",
    "states = [\"Sleep\",\"Icecream\",\"Run\"]\n",
    "\n",
    "# Possible sequences of events\n",
    "transitionName = [[\"SS\",\"SR\",\"SI\"],[\"RS\",\"RR\",\"RI\"],[\"IS\",\"IR\",\"II\"]]\n",
    "\n",
    "# Probabilities matrix (transition matrix)\n",
    "transitionMatrix = [[0.2,0.6,0.2],[0.1,0.6,0.3],[0.2,0.7,0.1]]"
   ]
  },
  {
   "cell_type": "markdown",
   "id": "selective-quick",
   "metadata": {},
   "source": [
    "Oh, always make sure the probabilities sum up to 1. And it doesn't hurt to leave error messages, atleast when coding!"
   ]
  },
  {
   "cell_type": "code",
   "execution_count": 3,
   "id": "generous-animation",
   "metadata": {
    "executionCancelledAt": null,
    "executionTime": 13,
    "lastExecutedAt": 1730741286064,
    "lastExecutedByKernel": "11fe5d00-0c06-48df-b03d-b63e1533f952",
    "lastScheduledRunId": null,
    "lastSuccessfullyExecutedCode": "if sum(transitionMatrix[0]) + sum(transitionMatrix[1]) + sum(transitionMatrix[1]) != 3:\n    print(\"Somewhere, something went wrong. Transition matrix, perhaps?\")\nelse: \n    print(\"All is gonna be okay, you should move on!! ;)\")    ",
    "outputsMetadata": {
     "0": {
      "height": 38,
      "type": "stream"
     }
    }
   },
   "outputs": [
    {
     "name": "stdout",
     "output_type": "stream",
     "text": [
      "All is gonna be okay, you should move on!! ;)\n"
     ]
    }
   ],
   "source": [
    "if sum(transitionMatrix[0]) + sum(transitionMatrix[1]) + sum(transitionMatrix[1]) != 3:\n",
    "    print(\"Somewhere, something went wrong. Transition matrix, perhaps?\")\n",
    "else: \n",
    "    print(\"All is gonna be okay, you should move on!! ;)\")    "
   ]
  },
  {
   "cell_type": "markdown",
   "id": "third-assault",
   "metadata": {},
   "source": [
    "Now lets code the real thing. You shall use the `numpy.random.choice` to generate a random sample from the set of transitions possible. While most of its arguments are self-explanatory, the `p` might not be. It is an optional argument that lets you enter the probability distribution for the sampling set, which is the transition matrix in this case."
   ]
  },
  {
   "cell_type": "code",
   "execution_count": 4,
   "id": "faced-general",
   "metadata": {
    "executionCancelledAt": null,
    "executionTime": 54,
    "lastExecutedAt": 1730741304427,
    "lastExecutedByKernel": "11fe5d00-0c06-48df-b03d-b63e1533f952",
    "lastScheduledRunId": null,
    "lastSuccessfullyExecutedCode": "# A function that implements the Markov model to forecast the state/mood. \ndef activity_forecast(days):\n    # Choose the starting state\n    activityToday = \"Sleep\"\n    print(\"Start state: \" + activityToday)\n    # Shall store the sequence of states taken. So, this only has the starting state for now.\n    activityList = [activityToday]\n    i = 0\n    # To calculate the probability of the activityList\n    prob = 1\n    while i != days:\n        if activityToday == \"Sleep\":\n            change = np.random.choice(transitionName[0],replace=True,p=transitionMatrix[0])\n            if change == \"SS\":\n                prob = prob * 0.2\n                activityList.append(\"Sleep\")\n                pass\n            elif change == \"SR\":\n                prob = prob * 0.6\n                activityToday = \"Run\"\n                activityList.append(\"Run\")\n            else:\n                prob = prob * 0.2\n                activityToday = \"Icecream\"\n                activityList.append(\"Icecream\")\n        elif activityToday == \"Run\":\n            change = np.random.choice(transitionName[1],replace=True,p=transitionMatrix[1])\n            if change == \"RR\":\n                prob = prob * 0.5\n                activityList.append(\"Run\")\n                pass\n            elif change == \"RS\":\n                prob = prob * 0.2\n                activityToday = \"Sleep\"\n                activityList.append(\"Sleep\")\n            else:\n                prob = prob * 0.3\n                activityToday = \"Icecream\"\n                activityList.append(\"Icecream\")\n        elif activityToday == \"Icecream\":\n            change = np.random.choice(transitionName[2],replace=True,p=transitionMatrix[2])\n            if change == \"II\":\n                prob = prob * 0.1\n                activityList.append(\"Icecream\")\n                pass\n            elif change == \"IS\":\n                prob = prob * 0.2\n                activityToday = \"Sleep\"\n                activityList.append(\"Sleep\")\n            else: \n                prob = prob * 0.7\n                activityToday = \"Run\"\n                activityList.append(\"Run\")\n        i += 1  \n    print(\"Possible states: \" + str(activityList))\n    print(\"End state after \"+ str(days) + \" days: \" + activityToday)\n    print(\"Probability of the possible sequence of states: \" + str(prob))\n\n# Function that forecasts the possible state for the next 2 days\nactivity_forecast(2)",
    "outputsMetadata": {
     "0": {
      "height": 164,
      "type": "stream"
     }
    }
   },
   "outputs": [
    {
     "name": "stdout",
     "output_type": "stream",
     "text": [
      "Start state: Sleep\n",
      "Possible states: ['Sleep', 'Run', 'Run']\n",
      "End state after 2 days: Run\n",
      "Probability of the possible sequence of states: 0.3\n"
     ]
    }
   ],
   "source": [
    "# A function that implements the Markov model to forecast the state/mood. \n",
    "def activity_forecast(days):\n",
    "    # Choose the starting state\n",
    "    activityToday = \"Sleep\"\n",
    "    print(\"Start state: \" + activityToday)\n",
    "    # Shall store the sequence of states taken. So, this only has the starting state for now.\n",
    "    activityList = [activityToday]\n",
    "    i = 0\n",
    "    # To calculate the probability of the activityList\n",
    "    prob = 1\n",
    "    while i != days:\n",
    "        if activityToday == \"Sleep\":\n",
    "            change = np.random.choice(transitionName[0],replace=True,p=transitionMatrix[0])\n",
    "            if change == \"SS\":\n",
    "                prob = prob * 0.2\n",
    "                activityList.append(\"Sleep\")\n",
    "                pass\n",
    "            elif change == \"SR\":\n",
    "                prob = prob * 0.6\n",
    "                activityToday = \"Run\"\n",
    "                activityList.append(\"Run\")\n",
    "            else:\n",
    "                prob = prob * 0.2\n",
    "                activityToday = \"Icecream\"\n",
    "                activityList.append(\"Icecream\")\n",
    "        elif activityToday == \"Run\":\n",
    "            change = np.random.choice(transitionName[1],replace=True,p=transitionMatrix[1])\n",
    "            if change == \"RR\":\n",
    "                prob = prob * 0.5\n",
    "                activityList.append(\"Run\")\n",
    "                pass\n",
    "            elif change == \"RS\":\n",
    "                prob = prob * 0.2\n",
    "                activityToday = \"Sleep\"\n",
    "                activityList.append(\"Sleep\")\n",
    "            else:\n",
    "                prob = prob * 0.3\n",
    "                activityToday = \"Icecream\"\n",
    "                activityList.append(\"Icecream\")\n",
    "        elif activityToday == \"Icecream\":\n",
    "            change = np.random.choice(transitionName[2],replace=True,p=transitionMatrix[2])\n",
    "            if change == \"II\":\n",
    "                prob = prob * 0.1\n",
    "                activityList.append(\"Icecream\")\n",
    "                pass\n",
    "            elif change == \"IS\":\n",
    "                prob = prob * 0.2\n",
    "                activityToday = \"Sleep\"\n",
    "                activityList.append(\"Sleep\")\n",
    "            else: \n",
    "                prob = prob * 0.7\n",
    "                activityToday = \"Run\"\n",
    "                activityList.append(\"Run\")\n",
    "        i += 1  \n",
    "    print(\"Possible states: \" + str(activityList))\n",
    "    print(\"End state after \"+ str(days) + \" days: \" + activityToday)\n",
    "    print(\"Probability of the possible sequence of states: \" + str(prob))\n",
    "\n",
    "# Function that forecasts the possible state for the next 2 days\n",
    "activity_forecast(2)"
   ]
  },
  {
   "cell_type": "markdown",
   "id": "sustainable-constraint",
   "metadata": {},
   "source": [
    "You get a random set of transitions possible along with the probability of it happening, starting from state: Sleep. Extend the program further to maybe iterate it for a couple of hundred times with the same starting state, you can then see the expected probability of ending at any particular state along with its probability. Let's rewrite the function `activity_forecast` and add a fresh set of loops to do this..."
   ]
  },
  {
   "cell_type": "code",
   "execution_count": 5,
   "id": "bottom-badge",
   "metadata": {
    "executionCancelledAt": null,
    "executionTime": 296,
    "lastExecutedAt": 1730741571732,
    "lastExecutedByKernel": "11fe5d00-0c06-48df-b03d-b63e1533f952",
    "lastScheduledRunId": null,
    "lastSuccessfullyExecutedCode": "# A functions which implements the Markov model to forecast the weather\ndef activity_forecast(days):\n    # Choose the starting state\n    activityToday = \"Sleep\"\n    activityList = [activityToday]\n    i = 0\n    prob = 1\n    while i != days:\n        if activityToday == \"Sleep\":\n            change = np.random.choice(transitionName[0],replace=True,p=transitionMatrix[0])\n            if change == \"SS\":\n                prob = prob * 0.2\n                activityList.append(\"Sleep\")\n                pass\n            elif change == \"SR\":\n                prob = prob * 0.6\n                activityToday = \"Run\"\n                activityList.append(\"Run\")\n            else:\n                prob = prob * 0.2\n                activityToday = \"Icecream\"\n                activityList.append(\"Icecream\")\n        elif activityToday == \"Run\":\n            change = np.random.choice(transitionName[1],replace=True,p=transitionMatrix[1])\n            if change == \"RR\":\n                prob = prob * 0.5\n                activityList.append(\"Run\")\n                pass\n            elif change == \"RS\":\n                prob = prob * 0.2\n                activityToday = \"Sleep\"\n                activityList.append(\"Sleep\")\n            else:\n                prob = prob * 0.3\n                activityToday = \"Icecream\"\n                activityList.append(\"Icecream\")\n        elif activityToday == \"Icecream\":\n            change = np.random.choice(transitionName[2],replace=True,p=transitionMatrix[2])\n            if change == \"II\":\n                prob = prob * 0.1\n                activityList.append(\"Icecream\")\n                pass\n            elif change == \"IS\":\n                prob = prob * 0.2\n                activityToday = \"Sleep\"\n                activityList.append(\"Sleep\")\n            else: \n                prob = prob * 0.7\n                activityToday = \"Run\"\n                activityList.append(\"Run\")\n        i += 1    \n    return activityList\n\n# To save every activityList \nlist_activity = []\ncount = 0\n\n# `Range` starts from the first count up until but excluding the last count\nfor iterations in range(1,10000):\n        list_activity.append(activity_forecast(2))\n\n# Check out all the `activityList` we collected    \n#print(list_activity)\n\n# Iterate through the list to get a count of all activities ending in state:'Run'\nfor smaller_list in list_activity:\n    if(smaller_list[2] == \"Run\"):\n        count += 1\n\n# Calculate the probability of starting from state:'Sleep' and ending at state:'Run'\npercentage = (count/10000) * 100\nprint(\"The probability of starting at state:'Sleep' and ending at state:'Run'= \" + str(percentage) + \"%\")",
    "outputsMetadata": {
     "0": {
      "height": 38,
      "type": "stream"
     }
    }
   },
   "outputs": [
    {
     "name": "stdout",
     "output_type": "stream",
     "text": [
      "The probability of starting at state:'Sleep' and ending at state:'Run'= 62.09%\n"
     ]
    }
   ],
   "source": [
    "# A functions which implements the Markov model to forecast the weather\n",
    "def activity_forecast(days):\n",
    "    # Choose the starting state\n",
    "    activityToday = \"Sleep\"\n",
    "    activityList = [activityToday]\n",
    "    i = 0\n",
    "    prob = 1\n",
    "    while i != days:\n",
    "        if activityToday == \"Sleep\":\n",
    "            change = np.random.choice(transitionName[0],replace=True,p=transitionMatrix[0])\n",
    "            if change == \"SS\":\n",
    "                prob = prob * 0.2\n",
    "                activityList.append(\"Sleep\")\n",
    "                pass\n",
    "            elif change == \"SR\":\n",
    "                prob = prob * 0.6\n",
    "                activityToday = \"Run\"\n",
    "                activityList.append(\"Run\")\n",
    "            else:\n",
    "                prob = prob * 0.2\n",
    "                activityToday = \"Icecream\"\n",
    "                activityList.append(\"Icecream\")\n",
    "        elif activityToday == \"Run\":\n",
    "            change = np.random.choice(transitionName[1],replace=True,p=transitionMatrix[1])\n",
    "            if change == \"RR\":\n",
    "                prob = prob * 0.5\n",
    "                activityList.append(\"Run\")\n",
    "                pass\n",
    "            elif change == \"RS\":\n",
    "                prob = prob * 0.2\n",
    "                activityToday = \"Sleep\"\n",
    "                activityList.append(\"Sleep\")\n",
    "            else:\n",
    "                prob = prob * 0.3\n",
    "                activityToday = \"Icecream\"\n",
    "                activityList.append(\"Icecream\")\n",
    "        elif activityToday == \"Icecream\":\n",
    "            change = np.random.choice(transitionName[2],replace=True,p=transitionMatrix[2])\n",
    "            if change == \"II\":\n",
    "                prob = prob * 0.1\n",
    "                activityList.append(\"Icecream\")\n",
    "                pass\n",
    "            elif change == \"IS\":\n",
    "                prob = prob * 0.2\n",
    "                activityToday = \"Sleep\"\n",
    "                activityList.append(\"Sleep\")\n",
    "            else: \n",
    "                prob = prob * 0.7\n",
    "                activityToday = \"Run\"\n",
    "                activityList.append(\"Run\")\n",
    "        i += 1    \n",
    "    return activityList\n",
    "\n",
    "# To save every activityList \n",
    "list_activity = []\n",
    "count = 0\n",
    "\n",
    "# `Range` starts from the first count up until but excluding the last count\n",
    "for iterations in range(1,10000):\n",
    "        list_activity.append(activity_forecast(2))\n",
    "\n",
    "# Check out all the `activityList` we collected    \n",
    "#print(list_activity)\n",
    "\n",
    "# Iterate through the list to get a count of all activities ending in state:'Run'\n",
    "for smaller_list in list_activity:\n",
    "    if(smaller_list[2] == \"Run\"):\n",
    "        count += 1\n",
    "\n",
    "# Calculate the probability of starting from state:'Sleep' and ending at state:'Run'\n",
    "percentage = (count/10000) * 100\n",
    "print(\"The probability of starting at state:'Sleep' and ending at state:'Run'= \" + str(percentage) + \"%\")"
   ]
  },
  {
   "cell_type": "markdown",
   "id": "helpful-horse",
   "metadata": {},
   "source": [
    "How did we approximate towards the desired 62%? \n",
    "\n",
    "**Note** This is actually the \"law of large numbers\", which is a principle of probability that states that the frequencies of events with the same likelihood of occurrence even out, but only if there are enough trials or instances. In other words, as the number of experiments increases, the actual ratio of outcomes will converge on a theoretical or expected ratio of outcomes."
   ]
  },
  {
   "cell_type": "markdown",
   "id": "varying-russell",
   "metadata": {},
   "source": [
    "## Markov State of Mind\n",
    "\n",
    "This concludes the tutorial on Markov Chains. You have been introduced to Markov Chains and seen some of its properties. Simple Markov chains are one of the required, foundational topics to get started with data science in Python. If you'd like more resources to get started with statistics in Python, make sure to check out [this page](https://www.datacamp.com/community/tutorials/python-statistics-data-science).\n",
    "\n",
    "Are you interested in exploring more practical case studies with statistics in Python? Check out DataCamp's [Case Studies in Statistical Thinking](https://www.datacamp.com/courses/case-studies-in-statistical-thinking) or [Network Analysis in Python](https://www.datacamp.com/courses/network-analysis-in-python-part-1) courses."
   ]
  },
  {
   "cell_type": "markdown",
   "id": "9df4f9dd",
   "metadata": {},
   "source": [
    "https://pgmpy.org/models/markovchain.html"
   ]
  },
  {
   "cell_type": "markdown",
   "id": "24b74df0",
   "metadata": {},
   "source": [
    "Create an empty Markov Chain:"
   ]
  },
  {
   "cell_type": "code",
   "execution_count": 7,
   "id": "1f2a2d22",
   "metadata": {},
   "outputs": [],
   "source": [
    "from pgmpy.models import MarkovChain as MC\n",
    "model = MC()"
   ]
  },
  {
   "cell_type": "markdown",
   "id": "594c0a05",
   "metadata": {},
   "source": [
    "And then add variables to it"
   ]
  },
  {
   "cell_type": "code",
   "execution_count": 8,
   "id": "12860886",
   "metadata": {},
   "outputs": [],
   "source": [
    "model.add_variables_from(['intel', 'diff'], [2, 3])\n"
   ]
  },
  {
   "cell_type": "code",
   "execution_count": 9,
   "id": "f55ea741",
   "metadata": {},
   "outputs": [],
   "source": [
    "#Or directly create a Markov Chain from a list of variables and their cardinalities\n",
    "model = MC(['intel', 'diff'], [2, 3])"
   ]
  },
  {
   "cell_type": "markdown",
   "id": "38c0fce8",
   "metadata": {},
   "source": [
    "Add transition models"
   ]
  },
  {
   "cell_type": "code",
   "execution_count": 10,
   "id": "afa9025d",
   "metadata": {},
   "outputs": [],
   "source": [
    "intel_tm = {0: {0: 0.25, 1: 0.75}, 1: {0: 0.5, 1: 0.5}}\n",
    "model.add_transition_model('intel', intel_tm)\n",
    "diff_tm = {0: {0: 0.1, 1: 0.5, 2: 0.4}, 1: {0: 0.2, 1: 0.2, 2: 0.6 }, 2: {0: 0.7, 1: 0.15, 2: 0.15}}\n",
    "model.add_transition_model('diff', diff_tm)"
   ]
  },
  {
   "cell_type": "markdown",
   "id": "ce6ed3c8",
   "metadata": {},
   "source": [
    "Set a start state"
   ]
  },
  {
   "cell_type": "code",
   "execution_count": 11,
   "id": "ee07afef",
   "metadata": {},
   "outputs": [],
   "source": [
    "from pgmpy.factors.discrete import State\n",
    "model.set_start_state([State('intel', 0), State('diff', 2)])"
   ]
  },
  {
   "cell_type": "markdown",
   "id": "f2bec316",
   "metadata": {},
   "source": [
    "Sample from it"
   ]
  },
  {
   "cell_type": "code",
   "execution_count": 12,
   "id": "13233644",
   "metadata": {},
   "outputs": [
    {
     "data": {
      "text/html": [
       "<div>\n",
       "<style scoped>\n",
       "    .dataframe tbody tr th:only-of-type {\n",
       "        vertical-align: middle;\n",
       "    }\n",
       "\n",
       "    .dataframe tbody tr th {\n",
       "        vertical-align: top;\n",
       "    }\n",
       "\n",
       "    .dataframe thead th {\n",
       "        text-align: right;\n",
       "    }\n",
       "</style>\n",
       "<table border=\"1\" class=\"dataframe\">\n",
       "  <thead>\n",
       "    <tr style=\"text-align: right;\">\n",
       "      <th></th>\n",
       "      <th>intel</th>\n",
       "      <th>diff</th>\n",
       "    </tr>\n",
       "  </thead>\n",
       "  <tbody>\n",
       "    <tr>\n",
       "      <th>0</th>\n",
       "      <td>0</td>\n",
       "      <td>2</td>\n",
       "    </tr>\n",
       "    <tr>\n",
       "      <th>1</th>\n",
       "      <td>1</td>\n",
       "      <td>1</td>\n",
       "    </tr>\n",
       "    <tr>\n",
       "      <th>2</th>\n",
       "      <td>0</td>\n",
       "      <td>2</td>\n",
       "    </tr>\n",
       "    <tr>\n",
       "      <th>3</th>\n",
       "      <td>1</td>\n",
       "      <td>0</td>\n",
       "    </tr>\n",
       "    <tr>\n",
       "      <th>4</th>\n",
       "      <td>1</td>\n",
       "      <td>2</td>\n",
       "    </tr>\n",
       "  </tbody>\n",
       "</table>\n",
       "</div>"
      ],
      "text/plain": [
       "  intel diff\n",
       "0     0    2\n",
       "1     1    1\n",
       "2     0    2\n",
       "3     1    0\n",
       "4     1    2"
      ]
     },
     "execution_count": 12,
     "metadata": {},
     "output_type": "execute_result"
    }
   ],
   "source": [
    "model.sample(size=5)"
   ]
  },
  {
   "cell_type": "code",
   "execution_count": 15,
   "id": "a415229c",
   "metadata": {},
   "outputs": [],
   "source": [
    "import numpy as np\n",
    "from hmmlearn import hmm\n"
   ]
  },
  {
   "cell_type": "markdown",
   "id": "5b115218",
   "metadata": {},
   "source": [
    "https://www.freecodecamp.org/news/what-is-a-markov-chain/"
   ]
  },
  {
   "cell_type": "code",
   "execution_count": 16,
   "id": "e52f0b7a",
   "metadata": {},
   "outputs": [
    {
     "name": "stdout",
     "output_type": "stream",
     "text": [
      "Transition matrix:\n",
      "[[0.8100804  0.1899196 ]\n",
      " [0.49398918 0.50601082]]\n",
      "Means:\n",
      "[[0.01577373]\n",
      " [3.06245496]]\n",
      "Covariances:\n",
      "[[[0.41987084]]\n",
      "\n",
      " [[0.53146802]]]\n",
      "Hidden states:\n",
      "[0 0 0 1 0 0 0 0 0 0 0 0 0 0 0 0 0 0 0 0 1 0 1 1 0 0 1 1 0 1 1 0 1 0 0 0 1\n",
      " 1 1 1 1 0 0 0 1 1 0 0 1 1 1 1 0 0 0 0 0 0 0 1 1 0 0 0 0 0 0 0 0 1 0 0 0 0\n",
      " 0 0 0 0 0 0 0 0 1 1 0 0 1 0 0 0 0 0 0 0 0 1 1 0 0 0]\n"
     ]
    }
   ],
   "source": [
    "\n",
    "# Set random seed for reproducibility\n",
    "np.random.seed(42)\n",
    "\n",
    "# Define the HMM parameters\n",
    "n_components = 2  # Number of states\n",
    "n_features = 1    # Number of observation features\n",
    "\n",
    "# Create a Gaussian HMM\n",
    "model = hmm.GaussianHMM(n_components=n_components, covariance_type=\"diag\")\n",
    "\n",
    "# Define transition matrix (rows must sum to 1)\n",
    "model.startprob_ = np.array([0.6, 0.4])\n",
    "model.transmat_ = np.array([[0.7, 0.3],\n",
    "                            [0.4, 0.6]])\n",
    "\n",
    "# Define means and covariances for each state\n",
    "model.means_ = np.array([[0.0], [3.0]])\n",
    "model.covars_ = np.array([[0.5], [0.5]])\n",
    "\n",
    "# Generate synthetic observation data\n",
    "X, Z = model.sample(100)  # 100 samples\n",
    "\n",
    "# Create a new HMM instance\n",
    "new_model = hmm.GaussianHMM(n_components=n_components, covariance_type=\"diag\", n_iter=100)\n",
    "\n",
    "# Fit the model to the data\n",
    "new_model.fit(X)\n",
    "\n",
    "# Print the learned parameters\n",
    "print(\"Transition matrix:\")\n",
    "print(new_model.transmat_)\n",
    "print(\"Means:\")\n",
    "print(new_model.means_)\n",
    "print(\"Covariances:\")\n",
    "print(new_model.covars_)\n",
    "\n",
    "# Predict the hidden states for the observed data\n",
    "hidden_states = new_model.predict(X)\n",
    "\n",
    "print(\"Hidden states:\")\n",
    "print(hidden_states)"
   ]
  }
 ],
 "metadata": {
  "editor": "DataLab",
  "kernelspec": {
   "display_name": "Python 3",
   "language": "python",
   "name": "python3"
  },
  "language_info": {
   "codemirror_mode": {
    "name": "ipython",
    "version": 3
   },
   "file_extension": ".py",
   "mimetype": "text/x-python",
   "name": "python",
   "nbconvert_exporter": "python",
   "pygments_lexer": "ipython3",
   "version": "3.12.3"
  }
 },
 "nbformat": 4,
 "nbformat_minor": 5
}
