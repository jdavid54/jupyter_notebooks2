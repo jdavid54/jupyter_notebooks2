{
 "cells": [
  {
   "cell_type": "code",
   "execution_count": 1,
   "metadata": {},
   "outputs": [],
   "source": [
    "import numpy as np\n",
    "import matplotlib.pyplot as plt\n",
    "from scipy.linalg import eigh_tridiagonal\n",
    "plt.style.use(['science', 'notebook', 'dark_background'])\n",
    "from scipy.interpolate import interp1d\n",
    "from scipy.integrate import quad"
   ]
  },
  {
   "cell_type": "markdown",
   "metadata": {},
   "source": [
    "# Theory"
   ]
  },
  {
   "cell_type": "markdown",
   "metadata": {},
   "source": [
    "Suppose one has a sequence of wells, each spaced a distance $b$ apart"
   ]
  },
  {
   "cell_type": "code",
   "execution_count": 47,
   "metadata": {
    "tags": []
   },
   "outputs": [
    {
     "data": {
      "image/png": "[encoded data removed]",
      "text/plain": [
       "<Figure size 576x216 with 1 Axes>"
      ]
     },
     "metadata": {},
     "output_type": "display_data"
    }
   ],
   "source": [
    "x = np.linspace(-5,5,1000)\n",
    "y = np.sum([-np.exp(-(x-a)**2 / 0.01) for a in range(-4,5)], axis=0)\n",
    "plt.figure(figsize=(8,3))\n",
    "plt.plot(x,y)\n",
    "plt.ylabel('$V(x)$')\n",
    "plt.xlabel('$x$')\n",
    "plt.savefig('for_vid.png', dpi=200)\n",
    "plt.show()"
   ]
  },
  {
   "cell_type": "markdown",
   "metadata": {},
   "source": [
    "This can be used as a model for a solid, where each well represents a nucleus or proton. If one inserts an electron into this system, what are the allowed energy eigenvalues/eigenvectors of **bound** energies? (Remember that there are only finitely many bound energies for a finite quantum well)."
   ]
  },
  {
   "cell_type": "markdown",
   "metadata": {},
   "source": [
    "**LINEAR COMBINATION OF ATOMIC ORBIRTALS (LCAO) Approximation**: This model **assumes** that molecular states are a linear combination of known atomic states. We'll use the notation\n",
    "\n",
    "$$\\ket{i}_j$$\n",
    "\n",
    "where this represents the $i$th excited state of the $j$th well. The LCAO approximation says that any state can be represented as \n",
    "\n",
    "$$\\ket{\\psi} = \\sum_{j} \\sum_i c_{ij}\\ket{i}_j$$\n",
    "\n",
    "where $c_ij$ are coefficients that make up the linear combination. Thus the $\\ket{i}_j$ form a complete basis. Suppose we have 3 wells, each with two states (a ground and excited state). In vector notation, we can write any state as\n",
    "\n",
    "$$\\ket{\\psi} = \\begin{bmatrix}c_1\\\\ c_2\\\\ c_3\\\\ c_4\\\\ c_5 \\\\ c_6  \\end{bmatrix} \\begin{matrix} \\to \\ket{0}_0\\\\ \\to \\ket{1}_0\\\\ \\to \\ket{0}_1\\\\ \\to \\ket{1}_1\\\\ \\to \\ket{0}_2\\\\ \\to \\ket{1}_2\\\\ \\end{matrix}$$\n",
    "\n",
    "where the $c$'s are the component of each of the $\\ket{i}_j$s of the basis:\n",
    "\n",
    "$$\\ket{\\psi} = c_1\\ket{0}_0 + c_2\\ket{1}_0 + c_3\\ket{0}_1 + c_4\\ket{1}_1 + c_1\\ket{0}_2 + c_1\\ket{1}_2$$\n",
    "\n",
    "The Hamiltonian $H = T+\\sum_i V_i$ of the full well system can be written in the basis of these $\\ket{i}_j$s where each element of the hamiltonian matrix is\n",
    "\n",
    "$$\\bra{i'}_{j'}H\\ket{i}_j$$\n",
    "\n",
    "once we have this matrix, we can solve for the eigenvalues and eigenvectors and we're done. We just need a way to get these elements. For this we use\n",
    "\n",
    "$$H = H_j + \\hat{V}_j$$\n",
    "\n",
    "where $H_j = T+V_j$ is the Hamiltonian of a well $j$ and $\\hat{V}_j=\\sum_{m \\neq j} V_{m}$ is the potential from all the adjacent wells. Letting $n=j-j'$ (the number of wells apart), the matrix elements are given by:\n",
    "\n",
    "$$\\begin{align*} \\bra{i'}_{j'}H\\ket{i}_{j} &= \\bra{i'}_{j'}H_j + \\hat{V}_j \\ket{i}_{j} \\\\ &= \\bra{i'}_{j'}E_i + \\hat{V}_j \\ket{i}_{j} \\\\ &= \\int_{-\\infty}^{\\infty} \\phi_{i'}^{*}(x \\pm nb) \\left[E_i+\\hat{V}(x)\\right]\\phi_{i}(x) dx \\end{align*}$$\n",
    "\n",
    "We can now get all the matrix elements and solve for the eigenvalues of the Hamiltonian!"
   ]
  },
  {
   "cell_type": "markdown",
   "metadata": {},
   "source": [
    "# Code"
   ]
  },
  {
   "cell_type": "markdown",
   "metadata": {},
   "source": [
    "Here's a function that solves for the *bound* (energies less than zero) eigenstates of some finite square well."
   ]
  },
  {
   "cell_type": "code",
   "execution_count": 48,
   "metadata": {},
   "outputs": [],
   "source": [
    "def solve_single_well(x, V, V0):\n",
    "    N = len(x)\n",
    "    dx = np.diff(x)[0]\n",
    "    main_diag = 2*np.ones(N)/dx**2 + V(x,V0)\n",
    "    off_diag =  -np.ones(N-1)/dx**2\n",
    "    Es, psis = eigh_tridiagonal(main_diag, off_diag, select='v', select_range=(-V0,0))\n",
    "    psis = psis/np.sqrt((np.abs(psis)**2).sum(axis=0) * dx)\n",
    "    return Es, psis.T"
   ]
  },
  {
   "cell_type": "markdown",
   "metadata": {},
   "source": [
    "With these eigenstates/energies, we can compute the matrix elements $\\bra{i'}_{j'}H\\ket{i}_{j} = \\int_{-\\infty}^{\\infty} \\phi_{i'}^{*}(x \\pm nb) \\left[E_i+\\hat{V}(x)\\right]\\phi_{i}(x) dx $ of the Hamiltonian and solve our system!"
   ]
  },
  {
   "cell_type": "markdown",
   "metadata": {},
   "source": [
    "## Examples to Consider\n",
    "\n",
    "1. Finite Square Well (single bound state)\n",
    "* $V_0 = 1$eV\n",
    "* Well Width $2a=0.35$nm\n",
    "* Well spacing $b = 3 \\cdot 2a$\n",
    "\n",
    "2. Finite Square Well (two bound states)\n",
    "* $V_0 = 5$eV\n",
    "* Well Width $2a=0.35$nm\n",
    "* Well spacing $b = 3 \\cdot 2a$\n",
    "\n",
    "3. Gaussian Well\n",
    "* $V = V_0 e^{-(3x/a)^2}$ where $V_0/(\\frac{\\hbar^2}{2ma^2}) = 36$\n",
    "* Well spacing $b = 2 \\cdot 2a$\n",
    "\n"
   ]
  },
  {
   "cell_type": "markdown",
   "metadata": {},
   "source": [
    "Example 1:"
   ]
  },
  {
   "cell_type": "code",
   "execution_count": 130,
   "metadata": {},
   "outputs": [],
   "source": [
    "'''Dimensionfull parameters'''\n",
    "V0 = 1 #eV\n",
    "hbar = 6.582112e-16 #eV s\n",
    "m = 0.510999e6 / (3e8)**2 #eV s^2 / m^2\n",
    "a = 0.35e-9 / 2 # m \n",
    "f = hbar**2 / (2*m*a**2)\n",
    "'''Dimensionless parameters'''\n",
    "V0 = V0 / f\n",
    "b = 3 * 2\n",
    "example = 1"
   ]
  },
  {
   "cell_type": "markdown",
   "metadata": {},
   "source": [
    "Example 2:"
   ]
  },
  {
   "cell_type": "code",
   "execution_count": 188,
   "metadata": {},
   "outputs": [],
   "source": [
    "'''Dimensionfull parameters'''\n",
    "V0 = 5 #eV\n",
    "hbar = 6.582112e-16 #eV s\n",
    "m = 0.510999e6 / (3e8)**2 #eV s^2 / m^2\n",
    "a = 0.35e-9 / 2 # m \n",
    "f = hbar**2 / (2*m*a**2)\n",
    "'''Dimensionless parameters'''\n",
    "V0 = V0 / f\n",
    "b = 3 * 2\n",
    "example = 2"
   ]
  },
  {
   "cell_type": "markdown",
   "metadata": {},
   "source": [
    "Example 3:"
   ]
  },
  {
   "cell_type": "code",
   "execution_count": 160,
   "metadata": {},
   "outputs": [],
   "source": [
    "'''Dimensionless parameters'''\n",
    "V0 = 36\n",
    "b = 2 * 2\n",
    "f = 1 # correction factor is 1 because we'll just look at dimensionless energy eigenvalues\n",
    "example = 3"
   ]
  },
  {
   "cell_type": "markdown",
   "metadata": {},
   "source": [
    "Get the potential for the particular example:"
   ]
  },
  {
   "cell_type": "code",
   "execution_count": 189,
   "metadata": {},
   "outputs": [],
   "source": [
    "N = 100000\n",
    "x = np.linspace(-15,15,N)\n",
    "if example==1 or example==2:\n",
    "    def V(x, V0):\n",
    "        return -V0*np.array((x>=-1)*(x<=1), dtype=float)\n",
    "elif example==3:\n",
    "    def V(x,V0):\n",
    "        return -V0*np.exp(-(3*x)**2)"
   ]
  },
  {
   "cell_type": "markdown",
   "metadata": {},
   "source": [
    "Plot the potential:"
   ]
  },
  {
   "cell_type": "code",
   "execution_count": 190,
   "metadata": {},
   "outputs": [
    {
     "data": {
      "image/png": "[encoded data removed]",
      "text/plain": [
       "<Figure size 576x360 with 1 Axes>"
      ]
     },
     "metadata": {},
     "output_type": "display_data"
    }
   ],
   "source": [
    "plt.figure(figsize=(8,5))\n",
    "plt.plot(x, V(x,V0))\n",
    "plt.show()"
   ]
  },
  {
   "cell_type": "code",
   "execution_count": 191,
   "metadata": {},
   "outputs": [],
   "source": [
    "Es, psis = solve_single_well(x, V, V0)"
   ]
  },
  {
   "cell_type": "markdown",
   "metadata": {},
   "source": [
    "Look at the energies"
   ]
  },
  {
   "cell_type": "code",
   "execution_count": 192,
   "metadata": {},
   "outputs": [
    {
     "data": {
      "text/plain": [
       "array([-3.67688728, -0.51446407])"
      ]
     },
     "execution_count": 192,
     "metadata": {},
     "output_type": "execute_result"
    }
   ],
   "source": [
    "f*Es"
   ]
  },
  {
   "cell_type": "markdown",
   "metadata": {},
   "source": [
    "Plot all the wavefunctions"
   ]
  },
  {
   "cell_type": "code",
   "execution_count": 193,
   "metadata": {},
   "outputs": [
    {
     "data": {
      "image/png": "[encoded data removed]",
      "text/plain": [
       "<Figure size 576x360 with 1 Axes>"
      ]
     },
     "metadata": {},
     "output_type": "display_data"
    }
   ],
   "source": [
    "plt.figure(figsize=(8,5))\n",
    "[plt.plot(x, psi) for psi in psis]\n",
    "plt.show()"
   ]
  },
  {
   "cell_type": "markdown",
   "metadata": {},
   "source": [
    "In order to solve our integral, lets create a function that can compute the wavefunctions at any point $x$"
   ]
  },
  {
   "cell_type": "code",
   "execution_count": 194,
   "metadata": {},
   "outputs": [],
   "source": [
    "psis_f = [interp1d(x, psi, bounds_error=False, fill_value=(0,0)) for psi in psis]"
   ]
  },
  {
   "cell_type": "markdown",
   "metadata": {},
   "source": [
    "Define $\\hat{V}(x)$: the potential from all the wells, **except** the one centered at $x=0$."
   ]
  },
  {
   "cell_type": "code",
   "execution_count": 195,
   "metadata": {},
   "outputs": [],
   "source": [
    "def Vp_f(x, b, V0):\n",
    "    return V((x+b/2)%b-b/2,V0) - V(x,V0)"
   ]
  },
  {
   "cell_type": "markdown",
   "metadata": {},
   "source": [
    "Plot the ground state wavefunctions from consecutive wells, along with $\\hat{V}(x)$"
   ]
  },
  {
   "cell_type": "code",
   "execution_count": 196,
   "metadata": {},
   "outputs": [
    {
     "data": {
      "image/png": "[encoded data removed]",
      "text/plain": [
       "<Figure size 576x360 with 1 Axes>"
      ]
     },
     "metadata": {},
     "output_type": "display_data"
    }
   ],
   "source": [
    "x_large = np.linspace(-20,20,10000)\n",
    "plt.figure(figsize=(8,5))\n",
    "plt.plot(x_large, psis_f[0](x_large)**2)\n",
    "if len(psis_f)>1:\n",
    "    plt.plot(x_large, psis_f[1](x_large - b)**2)\n",
    "plt.plot(x_large, Vp_f(x_large,b,V0)/V0, color='red')\n",
    "plt.show()"
   ]
  },
  {
   "cell_type": "markdown",
   "metadata": {},
   "source": [
    "Function that computes $\\int_{-\\infty}^{\\infty} \\phi_i^{*}(x) \\left[E_i+\\hat{V}(x)\\right]\\phi_{i'}(x \\pm nb) dx$"
   ]
  },
  {
   "cell_type": "code",
   "execution_count": 197,
   "metadata": {},
   "outputs": [],
   "source": [
    "def compute_integral(psis_f, Es, i1, i2, b, V0, n):\n",
    "    return quad(lambda x: psis_f[i1](x)*psis_f[i2](x-n*b)*(Es[i1]+Vp_f(x, b, V0)),\n",
    "                -20, 20, points=[n*b for n in range(-6,6)], limit=1000)[0]  "
   ]
  },
  {
   "cell_type": "code",
   "execution_count": 198,
   "metadata": {},
   "outputs": [
    {
     "data": {
      "text/plain": [
       "-0.004394421850836863"
      ]
     },
     "execution_count": 198,
     "metadata": {},
     "output_type": "execute_result"
    }
   ],
   "source": [
    "f*compute_integral(psis_f,Es,0,0, b=6, V0=V0, n=1)"
   ]
  },
  {
   "cell_type": "markdown",
   "metadata": {},
   "source": [
    "## Fill the Hamiltonian matrix $H$"
   ]
  },
  {
   "cell_type": "markdown",
   "metadata": {},
   "source": [
    "**Part 1**: Create Matrix"
   ]
  },
  {
   "cell_type": "code",
   "execution_count": 199,
   "metadata": {},
   "outputs": [],
   "source": [
    "#N_states"
   ]
  },
  {
   "cell_type": "code",
   "execution_count": 200,
   "metadata": {},
   "outputs": [],
   "source": [
    "N_wells = 20\n",
    "N_states = len(Es)\n",
    "H = np.zeros((N_wells*N_states,N_wells*N_states))"
   ]
  },
  {
   "cell_type": "markdown",
   "metadata": {},
   "source": [
    "**Part 2**: Fill Off diagonals"
   ]
  },
  {
   "cell_type": "code",
   "execution_count": 201,
   "metadata": {},
   "outputs": [],
   "source": [
    "psis_tot = N_wells*psis_f\n",
    "Es_tot = N_wells*list(Es)\n",
    "for i1 in range(H.shape[0]):\n",
    "    for i2 in range(i1, H.shape[0]):\n",
    "        well1_idx = i1//N_states\n",
    "        well2_idx = i2//N_states\n",
    "        H[i1,i2] = compute_integral(psis_tot,Es_tot,i1,i2,b=b,V0=V0,n=well2_idx-well1_idx)\n",
    "H += H.T"
   ]
  },
  {
   "cell_type": "markdown",
   "metadata": {},
   "source": [
    "**Part 3**: Fill Main diagonal"
   ]
  },
  {
   "cell_type": "code",
   "execution_count": 202,
   "metadata": {},
   "outputs": [],
   "source": [
    "main_diag = np.array(list(Es)*N_wells)\n",
    "H[np.diag_indices(H.shape[0])] = main_diag"
   ]
  },
  {
   "cell_type": "markdown",
   "metadata": {},
   "source": [
    "Show a visual representation of the Hamiltonian"
   ]
  },
  {
   "cell_type": "code",
   "execution_count": 203,
   "metadata": {},
   "outputs": [
    {
     "data": {
      "image/png": "[encoded data removed]",
      "text/plain": [
       "<Figure size 576x432 with 2 Axes>"
      ]
     },
     "metadata": {},
     "output_type": "display_data"
    }
   ],
   "source": [
    "plt.imshow(H, cmap='Greys')\n",
    "plt.colorbar()\n",
    "plt.show()"
   ]
  },
  {
   "cell_type": "markdown",
   "metadata": {},
   "source": [
    "Solve for the allowed energies and states of an electron in this system:"
   ]
  },
  {
   "cell_type": "code",
   "execution_count": 204,
   "metadata": {},
   "outputs": [],
   "source": [
    "eigenenergies, eigenvectors = np.linalg.eigh(H)"
   ]
  },
  {
   "cell_type": "code",
   "execution_count": 205,
   "metadata": {},
   "outputs": [
    {
     "data": {
      "image/png": "[encoded data removed]",
      "text/plain": [
       "<Figure size 216x360 with 1 Axes>"
      ]
     },
     "metadata": {},
     "output_type": "display_data"
    }
   ],
   "source": [
    "plt.figure(figsize=(3,5))\n",
    "plt.eventplot(f*eigenenergies, orientation='vertical', colors='r', linewidths=0.5)\n",
    "plt.show()"
   ]
  },
  {
   "cell_type": "code",
   "execution_count": 206,
   "metadata": {},
   "outputs": [
    {
     "data": {
      "text/plain": [
       "array([-2.98891057, -2.98889991, -2.98650147, -2.9864551 , -2.9827384 ,\n",
       "       -2.98261945, -2.97798041, -2.97773175, -2.97269221, -2.9722348 ,\n",
       "       -2.96739879, -2.96668561, -2.96257766, -2.96193588, -2.95917299,\n",
       "       -2.95828369, -2.95413987, -2.95018697, -2.94705674, -2.9450647 ,\n",
       "       -0.55791588, -0.5521353 , -0.54268323, -0.52982307, -0.51390497,\n",
       "       -0.4953499 , -0.4746325 , -0.45226391, -0.42877597, -0.4047073 ,\n",
       "       -0.38059161, -0.35694804, -0.33427335, -0.31303528, -0.29366668,\n",
       "       -0.27655993, -0.26206121, -0.25046479, -0.24200719, -0.23686188])"
      ]
     },
     "execution_count": 206,
     "metadata": {},
     "output_type": "execute_result"
    }
   ],
   "source": [
    "eigenenergies"
   ]
  },
  {
   "cell_type": "markdown",
   "metadata": {},
   "source": [
    "**For example 1**: Theoretically, the allowed energies are "
   ]
  },
  {
   "cell_type": "code",
   "execution_count": 207,
   "metadata": {},
   "outputs": [
    {
     "data": {
      "text/plain": [
       "array([False, False, False, False, False, False, False, False, False,\n",
       "       False, False, False, False, False, False, False, False, False,\n",
       "       False, False, False, False, False, False, False, False, False,\n",
       "       False, False, False, False, False, False, False, False, False,\n",
       "       False, False, False, False])"
      ]
     },
     "execution_count": 207,
     "metadata": {},
     "output_type": "execute_result"
    }
   ],
   "source": [
    "idx = eigenenergies<-5\n",
    "idx"
   ]
  },
  {
   "cell_type": "code",
   "execution_count": 208,
   "metadata": {},
   "outputs": [
    {
     "ename": "ValueError",
     "evalue": "max() arg is an empty sequence",
     "output_type": "error",
     "traceback": [
      "\u001b[1;31m---------------------------------------------------------------------------\u001b[0m",
      "\u001b[1;31mValueError\u001b[0m                                Traceback (most recent call last)",
      "Input \u001b[1;32mIn [208]\u001b[0m, in \u001b[0;36m<module>\u001b[1;34m\u001b[0m\n\u001b[1;32m----> 1\u001b[0m f\u001b[38;5;241m*\u001b[39m (\u001b[38;5;28;43mmax\u001b[39;49m\u001b[43m(\u001b[49m\u001b[43meigenenergies\u001b[49m\u001b[43m[\u001b[49m\u001b[43midx\u001b[49m\u001b[43m]\u001b[49m\u001b[43m)\u001b[49m \u001b[38;5;241m-\u001b[39m \u001b[38;5;28mmin\u001b[39m(eigenenergies[idx]))\n",
      "\u001b[1;31mValueError\u001b[0m: max() arg is an empty sequence"
     ]
    }
   ],
   "source": [
    "f* (max(eigenenergies[idx]) - min(eigenenergies[idx]))"
   ]
  },
  {
   "cell_type": "code",
   "execution_count": 187,
   "metadata": {},
   "outputs": [
    {
     "data": {
      "text/plain": [
       "array([-21.40124597, -21.40124536, -21.39977253, -21.39977022,\n",
       "       -21.39746258, -21.39745779, -21.39452121, -21.39451363,\n",
       "       -21.39120959, -21.39119943, -21.38782184, -21.38780979,\n",
       "       -21.38465895, -21.38464591, -21.38200216, -21.38198881,\n",
       "       -21.38008837, -21.38007387, -21.37909388, -21.37906423])"
      ]
     },
     "execution_count": 187,
     "metadata": {},
     "output_type": "execute_result"
    }
   ],
   "source": [
    "eigenenergies[idx]"
   ]
  },
  {
   "cell_type": "code",
   "execution_count": null,
   "metadata": {},
   "outputs": [],
   "source": []
  }
 ],
 "metadata": {
  "kernelspec": {
   "display_name": "Python 3 (ipykernel)",
   "language": "python",
   "name": "python3"
  },
  "language_info": {
   "codemirror_mode": {
    "name": "ipython",
    "version": 3
   },
   "file_extension": ".py",
   "mimetype": "text/x-python",
   "name": "python",
   "nbconvert_exporter": "python",
   "pygments_lexer": "ipython3",
   "version": "3.10.7"
  }
 },
 "nbformat": 4,
 "nbformat_minor": 4
}
