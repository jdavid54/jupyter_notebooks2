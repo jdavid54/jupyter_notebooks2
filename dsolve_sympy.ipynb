{
 "cells": [
  {
   "cell_type": "code",
   "execution_count": 41,
   "metadata": {},
   "outputs": [
    {
     "data": {
      "image/png": "[encoded data removed]",
      "text/latex": [
       "$\\displaystyle g + \\frac{d^{2}}{d t^{2}} x{\\left(t \\right)} = 0$"
      ],
      "text/plain": [
       "      2          \n",
       "     d           \n",
       "g + ───(x(t)) = 0\n",
       "      2          \n",
       "    dt           "
      ]
     },
     "metadata": {},
     "output_type": "display_data"
    }
   ],
   "source": [
    "import sympy as sp\n",
    "from IPython.display import *\n",
    "%matplotlib inline\n",
    "sp.init_printing(use_latex=True)\n",
    "t,C1,C2 = sp.symbols('t,C1,C2')\n",
    "g = sp.symbols('g', real = True, constant = True)\n",
    "x=sp.Function(\"x\")(t)\n",
    "# error kernel crashed when dsolve if using value 9.81 and not a symbol !!!\n",
    "# eq=sp.Eq(x.diff(t,2) + 9.81,0)\n",
    "eq=sp.Eq(x.diff(t,2) + g,0)         # équation ballistique, trajectoire\n",
    "display(eq)\n"
   ]
  },
  {
   "cell_type": "code",
   "execution_count": 42,
   "metadata": {},
   "outputs": [
    {
     "data": {
      "image/png": "[encoded data removed]",
      "text/latex": [
       "$\\displaystyle C_{1} + C_{2} t - 4.905 t^{2}$"
      ],
      "text/plain": [
       "                   2\n",
       "C₁ + C₂⋅t - 4.905⋅t "
      ]
     },
     "metadata": {},
     "output_type": "display_data"
    }
   ],
   "source": [
    "constantes={'C1':0,'C2':0, 'g': 9.81}      # les conditions initiales not mises ici dans le dictionnaire\n",
    "                                # constantes qui a été défini. C1 est la position initiale \n",
    "                                # et C2 la vitesse initiale.\n",
    "xsol=sp.dsolve(eq,x).rhs          #error kernel crashed here !!!\n",
    "xsol=xsol.subs(g,constantes['g'])\n",
    "display(xsol)"
   ]
  },
  {
   "cell_type": "code",
   "execution_count": 43,
   "metadata": {},
   "outputs": [
    {
     "data": {
      "image/png": "[encoded data removed]",
      "text/latex": [
       "$\\displaystyle - 4.905 t^{2}$"
      ],
      "text/plain": [
       "        2\n",
       "-4.905⋅t "
      ]
     },
     "metadata": {},
     "output_type": "display_data"
    }
   ],
   "source": [
    "xsol=xsol.subs(C1,constantes['C1'])\n",
    "xsol=xsol.subs(C2,constantes['C2'])\n",
    "\n",
    "display(xsol)\n",
    "display()"
   ]
  },
  {
   "cell_type": "code",
   "execution_count": 44,
   "metadata": {},
   "outputs": [
    {
     "data": {
      "image/png": "[encoded data removed]",
      "text/latex": [
       "$\\displaystyle - N^{2} T{\\left(x \\right)} + \\frac{d^{2}}{d x^{2}} T{\\left(x \\right)} = 0$"
      ],
      "text/plain": [
       "              2          \n",
       "   2         d           \n",
       "- N ⋅T(x) + ───(T(x)) = 0\n",
       "              2          \n",
       "            dx           "
      ]
     },
     "execution_count": 44,
     "metadata": {},
     "output_type": "execute_result"
    }
   ],
   "source": [
    "x,N=sp.symbols('x,N')\n",
    "T=sp.Function(\"T\")(x)\n",
    "eq=sp.Eq(T.diff(x,2)-N**2*T,0)                 # Transport Phenomena, 10.7, ailette droite\n",
    "                                             # forme adimensionnelle\n",
    "eq\n"
   ]
  },
  {
   "cell_type": "code",
   "execution_count": 45,
   "metadata": {},
   "outputs": [
    {
     "data": {
      "image/png": "[encoded data removed]",
      "text/latex": [
       "$\\displaystyle C_{1} e^{- N x} + C_{2} e^{N x}$"
      ],
      "text/plain": [
       "    -N⋅x       N⋅x\n",
       "C₁⋅ℯ     + C₂⋅ℯ   "
      ]
     },
     "metadata": {},
     "output_type": "display_data"
    }
   ],
   "source": [
    "Sol=sp.dsolve(eq,T).rhs                      # Solution generale\n",
    "display(Sol)"
   ]
  },
  {
   "cell_type": "code",
   "execution_count": 46,
   "metadata": {},
   "outputs": [
    {
     "data": {
      "image/png": "[encoded data removed]",
      "text/latex": [
       "$\\displaystyle \\frac{e^{2 N} e^{- N x}}{e^{2 N} + 1} + \\frac{e^{N x}}{e^{2 N} + 1}$"
      ],
      "text/plain": [
       " 2⋅N  -N⋅x      N⋅x  \n",
       "ℯ   ⋅ℯ         ℯ     \n",
       "────────── + ────────\n",
       "  2⋅N         2⋅N    \n",
       " ℯ    + 1    ℯ    + 1"
      ]
     },
     "metadata": {},
     "output_type": "display_data"
    },
    {
     "data": {
      "image/png": "[encoded data removed]",
      "text/latex": [
       "$\\displaystyle \\frac{\\left(e^{2 N} + e^{2 N x}\\right) e^{- N x}}{e^{2 N} + 1}$"
      ],
      "text/plain": [
       "⎛ 2⋅N    2⋅N⋅x⎞  -N⋅x\n",
       "⎝ℯ    + ℯ     ⎠⋅ℯ    \n",
       "─────────────────────\n",
       "        2⋅N          \n",
       "       ℯ    + 1      "
      ]
     },
     "metadata": {},
     "output_type": "display_data"
    }
   ],
   "source": [
    "                                             # Trouve C1 et C2 a partir des CL, 2 eq 2 inconnues\n",
    "S=sp.solve([sp.Eq(Sol.subs(x,0),1),          # condition de Dirichlet \n",
    "            sp.Eq(Sol.diff(x).subs(x,1),0)]  # condition de Newman\n",
    "            ,sp.symbols('C1,C2'))            # \n",
    "Final=Sol.subs(S)\n",
    "display(Final)\n",
    "final=sp.simplify(Final)\n",
    "display(final)"
   ]
  },
  {
   "attachments": {},
   "cell_type": "markdown",
   "metadata": {},
   "source": [
    "####https://docs.sympy.org/dev/guides/solving/solve-ode.html"
   ]
  },
  {
   "cell_type": "code",
   "execution_count": 53,
   "metadata": {},
   "outputs": [],
   "source": [
    "from sympy import symbols, lambdify\n",
    "import numpy as np\n",
    "import scipy.integrate\n"
   ]
  },
  {
   "cell_type": "code",
   "execution_count": 60,
   "metadata": {},
   "outputs": [
    {
     "data": {
      "image/png": "[encoded data removed]",
      "text/latex": [
       "$\\displaystyle \\left( y_{0}, \\  y_{1}, \\  y_{2}\\right)$"
      ],
      "text/plain": [
       "(y₀, y₁, y₂)"
      ]
     },
     "execution_count": 60,
     "metadata": {},
     "output_type": "execute_result"
    }
   ],
   "source": [
    "# Create symbols y0, y1, and y2\n",
    "y = symbols('y:3')\n",
    "y"
   ]
  },
  {
   "cell_type": "code",
   "execution_count": 56,
   "metadata": {},
   "outputs": [
    {
     "data": {
      "image/png": "[encoded data removed]",
      "text/latex": [
       "$\\displaystyle \\left( kf y_{0}^{2} y_{1}, \\  kb y_{2}^{2}\\right)$"
      ],
      "text/plain": [
       "⎛     2          2⎞\n",
       "⎝kf⋅y₀ ⋅y₁, kb⋅y₂ ⎠"
      ]
     },
     "execution_count": 56,
     "metadata": {},
     "output_type": "execute_result"
    }
   ],
   "source": [
    "kf, kb = symbols('kf kb')\n",
    "rf = kf * y[0]**2 * y[1]\n",
    "rb = kb * y[2]**2\n",
    "rf, rb\n"
   ]
  },
  {
   "cell_type": "code",
   "execution_count": 57,
   "metadata": {},
   "outputs": [
    {
     "data": {
      "image/png": "[encoded data removed]",
      "text/latex": [
       "$\\displaystyle \\left[ 2 kb y_{2}^{2} - 2 kf y_{0}^{2} y_{1}, \\  kb y_{2}^{2} - kf y_{0}^{2} y_{1}, \\  - 2 kb y_{2}^{2} + 2 kf y_{0}^{2} y_{1}\\right]$"
      ],
      "text/plain": [
       "⎡       2          2          2        2              2          2   ⎤\n",
       "⎣2⋅kb⋅y₂  - 2⋅kf⋅y₀ ⋅y₁, kb⋅y₂  - kf⋅y₀ ⋅y₁, - 2⋅kb⋅y₂  + 2⋅kf⋅y₀ ⋅y₁⎦"
      ]
     },
     "execution_count": 57,
     "metadata": {},
     "output_type": "execute_result"
    }
   ],
   "source": [
    "# Derivative of the function y(t); values for the three chemical species\n",
    "# for input values y, kf, and kb\n",
    "ydot = [2*(rb - rf), rb - rf, 2*(rf - rb)]\n",
    "ydot\n"
   ]
  },
  {
   "cell_type": "code",
   "execution_count": 61,
   "metadata": {},
   "outputs": [
    {
     "data": {
      "image/png": "[encoded data removed]",
      "text/plain": [
       "<Figure size 640x480 with 1 Axes>"
      ]
     },
     "metadata": {},
     "output_type": "display_data"
    }
   ],
   "source": [
    "t = symbols('t') # not used in this case\n",
    "# Convert the SymPy symbolic expression for ydot into a form that\n",
    "# SciPy can evaluate numerically, f\n",
    "f = lambdify((t, y, kf, kb), ydot)\n",
    "k_vals = np.array([0.42, 0.17]) # arbitrary in this case\n",
    "y0 = [1, 1, 0] # initial condition (initial values)\n",
    "t_eval = np.linspace(0, 10, 50) # evaluate integral from t = 0-10 for 50 points\n",
    "# Call SciPy's ODE initial value problem solver solve_ivp by passing it\n",
    "#   the function f,\n",
    "#   the interval of integration,\n",
    "#   the initial state, and\n",
    "#   the arguments to pass to the function f\n",
    "solution = scipy.integrate.solve_ivp(f, (0, 10), y0, t_eval=t_eval, args=k_vals)\n",
    "# Extract the y (concentration) values from SciPy solution result\n",
    "y = solution.y\n",
    "# Plot the result graphically using matplotlib\n",
    "plt.plot(t_eval, y.T) \n",
    "# Add title, legend, and axis labels to the plot\n",
    "plt.title('Chemical Kinetics') \n",
    "plt.legend(['NO', 'Br$_2$', 'NOBr'], shadow=True) \n",
    "plt.xlabel('time') \n",
    "plt.ylabel('concentration') \n",
    "# Finally, display the annotated plot\n",
    "plt.show()"
   ]
  },
  {
   "cell_type": "code",
   "execution_count": 67,
   "metadata": {},
   "outputs": [
    {
     "data": {
      "image/png": "[encoded data removed]",
      "text/latex": [
       "$\\displaystyle \\mu$"
      ],
      "text/plain": [
       "μ"
      ]
     },
     "execution_count": 67,
     "metadata": {},
     "output_type": "execute_result"
    }
   ],
   "source": [
    "from sympy import *\n",
    "from sympy.stats import *\n",
    "mu, Y = symbols('mu Y', real = True, constant = True)\n",
    "sigma = symbols('sigma', real = True, positive=True)\n",
    "X = Normal('X', mu, sigma)\n",
    "E(X, evaluate=True)"
   ]
  },
  {
   "cell_type": "markdown",
   "metadata": {},
   "source": []
  },
  {
   "cell_type": "code",
   "execution_count": 66,
   "metadata": {},
   "outputs": [
    {
     "data": {
      "image/png": "[encoded data removed]",
      "text/latex": [
       "$\\displaystyle - \\frac{\\sqrt{2} e^{- \\frac{\\mu^{2}}{2 \\sigma^{2}}} \\int\\limits_{0}^{\\infty} X e^{- \\frac{X^{2}}{2 \\sigma^{2}}} e^{\\frac{X \\mu}{\\sigma^{2}}}\\, dX}{\\sqrt{\\pi} \\sigma \\left(\\operatorname{erfc}{\\left(\\frac{\\sqrt{2} \\mu}{2 \\sigma} \\right)} - 2\\right)}$"
      ],
      "text/plain": [
       "          ∞                 \n",
       "          ⌠                 \n",
       "       2  ⎮      2          \n",
       "     -μ   ⎮    -X    X⋅μ    \n",
       "     ──── ⎮    ────  ───    \n",
       "        2 ⎮       2    2    \n",
       "     2⋅σ  ⎮    2⋅σ    σ     \n",
       "-√2⋅ℯ    ⋅⎮ X⋅ℯ    ⋅ℯ    dX \n",
       "          ⌡                 \n",
       "          0                 \n",
       "────────────────────────────\n",
       "        ⎛    ⎛√2⋅μ⎞    ⎞    \n",
       "   √π⋅σ⋅⎜erfc⎜────⎟ - 2⎟    \n",
       "        ⎝    ⎝2⋅σ ⎠    ⎠    "
      ]
     },
     "execution_count": 66,
     "metadata": {},
     "output_type": "execute_result"
    }
   ],
   "source": [
    "E(X, X>0, evaluate=True)"
   ]
  }
 ],
 "metadata": {
  "kernelspec": {
   "display_name": "Python 3",
   "language": "python",
   "name": "python3"
  },
  "language_info": {
   "codemirror_mode": {
    "name": "ipython",
    "version": 3
   },
   "file_extension": ".py",
   "mimetype": "text/x-python",
   "name": "python",
   "nbconvert_exporter": "python",
   "pygments_lexer": "ipython3",
   "version": "3.10.10"
  },
  "orig_nbformat": 4
 },
 "nbformat": 4,
 "nbformat_minor": 2
}
