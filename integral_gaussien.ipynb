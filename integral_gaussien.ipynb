{
 "cells": [
  {
   "cell_type": "code",
   "execution_count": null,
   "metadata": {},
   "outputs": [],
   "source": [
    "import matplotlib.pyplot as plt\n",
    "import numpy as np\n",
    "import matplotlib.mlab as mlab\n",
    "import math\n",
    "from scipy.integrate import quad"
   ]
  },
  {
   "cell_type": "code",
   "execution_count": null,
   "metadata": {},
   "outputs": [],
   "source": [
    "def gaussian(x, mu, sigma):\n",
    "    r=np.exp(-np.power(x - mu, 2.) / (2 * np.power(sigma, 2.)))\n",
    "    return r\n",
    "\n",
    "def phi(x):                                 # mu=1 sigma=0\n",
    "    r=1/np.sqrt(2*np.pi)*np.exp(-0.5*x**2)  #fonction de densite normale standard\n",
    "    return r\n",
    "    \n",
    "def phi2(x, mu, sigma):                     #distribution normale generalisee DNG\n",
    "    r=1/sigma*phi((x-mu)/sigma)\n",
    "    return r\n",
    "\n",
    "def Phi(x):                                 # fonction integrale de Gauss ou de repartition\n",
    "        return quad(phi,-np.inf,x)[0]\n",
    "\n",
    "def F(x):                                   # fonction de distribution d'une DNG\n",
    "    return Phi((x-mu)/sigma)"
   ]
  },
  {
   "cell_type": "code",
   "execution_count": null,
   "metadata": {},
   "outputs": [],
   "source": [
    "mu=0\n",
    "sigma=1\n",
    "\n",
    "print(phi(0))        #x\n",
    "print(phi2(1,1,.5))  #x, mu, sigma  transformation lineraire\n",
    "print(Phi(0))       # loi normale mu=0 sigma=1print(Phi(0,5,2))\n",
    "print(F(0))\n",
    "mu=1000\n",
    "sigma=2.5\n",
    "print(F(995),F(1000),F(1005))"
   ]
  },
  {
   "cell_type": "code",
   "execution_count": null,
   "metadata": {},
   "outputs": [],
   "source": [
    "mu = 10\n",
    "variance = .25\n",
    "sigma = math.sqrt(variance)\n",
    "x = np.linspace(mu - 3*sigma, mu + 3*sigma, 100)\n",
    "#plt.plot(x,mlab.normpdf(x, mu, sigma),'r-')\n",
    "plt.plot(x,gaussian(x, mu, sigma),'g-')\n",
    "plt.plot(mu,gaussian(mu, mu, sigma),'go')\n",
    "plt.plot(mu-sigma,gaussian(mu-sigma, mu, sigma),'go')\n",
    "plt.plot(mu+sigma,gaussian(mu+sigma, mu, sigma),'go')\n",
    "plt.show()"
   ]
  },
  {
   "cell_type": "code",
   "execution_count": null,
   "metadata": {},
   "outputs": [],
   "source": [
    "x_values = np.linspace(-3, 3, 120)\n",
    "for mu, sig in [(-1, 1), (0, 2), (2, .2)]:\n",
    "    plt.plot(x_values, gaussian(x_values, mu, sig))\n",
    "plt.show()"
   ]
  },
  {
   "cell_type": "code",
   "execution_count": null,
   "metadata": {},
   "outputs": [],
   "source": [
    "\n",
    "\n",
    "def integrand(x, a, b):\n",
    "    return a*x**2 + b\n",
    "\n",
    "a = 2\n",
    "b = 1\n",
    "I = quad(integrand, 0, 1, args=(a,b))  #integrale avec params\n",
    "print(I)"
   ]
  },
  {
   "cell_type": "code",
   "execution_count": null,
   "metadata": {},
   "outputs": [],
   "source": [
    "def f(x):\n",
    "    return x**2\n",
    "\n",
    "I = quad(f, 0, 1)  #integrale f(x) de 0 a 1\n",
    "print(I)           #quad renvoie une liste:(result,erreur)\n",
    "\n",
    "x=np.linspace(-5,5,100)\n",
    "y=[]\n",
    "#print(x)\n",
    "#y=quad(f,0,i in x)[0]\n",
    "#y.append(quad(f,0,x)[0])\n",
    "\n",
    "for i in x:\n",
    "    q=quad(f,0,i)\n",
    "    y.append(q[0])\n",
    "\n",
    "plt.plot(x,y)\n",
    "plt.show()"
   ]
  },
  {
   "cell_type": "code",
   "execution_count": null,
   "metadata": {},
   "outputs": [],
   "source": [
    "I = quad(phi, -np.inf, 1)\n",
    "print(I)"
   ]
  },
  {
   "cell_type": "code",
   "execution_count": null,
   "metadata": {
    "scrolled": false
   },
   "outputs": [],
   "source": [
    "mu=5\n",
    "x=np.linspace(mu-5,mu+5,100)\n",
    "y=[]\n",
    "for i in x:\n",
    "    q=quad(phi,-np.inf,i-mu)\n",
    "    y.append(q[0])\n",
    "plt.plot(x,phi(x-mu))\n",
    "plt.plot(x,y)\n",
    "plt.show()"
   ]
  },
  {
   "cell_type": "code",
   "execution_count": null,
   "metadata": {},
   "outputs": [],
   "source": [
    "mu=5\n",
    "sigma=1\n",
    "\n",
    "x=np.linspace(mu-3*sigma,mu+3*sigma,100)\n",
    "y=[]\n",
    "for i in x:\n",
    "    q=quad(phi2,0,i,args=(mu,sigma))\n",
    "    y.append(q[0])\n",
    "plt.plot(x,y)\n",
    "plt.plot(x,phi2(x,mu,sigma))\n",
    "plt.plot(mu,quad(phi2,-np.inf,mu,args=(mu,sigma))[0],'ro')\n",
    "plt.plot(mu-sigma,quad(phi2,-np.inf,mu-sigma,args=(mu,sigma))[0],'bo')\n",
    "plt.plot(mu+sigma,quad(phi2,-np.inf,mu+sigma,args=(mu,sigma))[0],'bo')\n",
    "plt.show()"
   ]
  },
  {
   "cell_type": "code",
   "execution_count": null,
   "metadata": {},
   "outputs": [],
   "source": [
    "p=5\n",
    "phi2(p,mu,sigma)"
   ]
  },
  {
   "cell_type": "code",
   "execution_count": null,
   "metadata": {},
   "outputs": [],
   "source": [
    "quad(phi2,-np.inf,p,args=(mu,sigma))"
   ]
  },
  {
   "cell_type": "code",
   "execution_count": null,
   "metadata": {},
   "outputs": [],
   "source": [
    "mu=1000\n",
    "sigma=2.5\n",
    "\n",
    "x=np.linspace(mu-3*sigma,mu+3*sigma,100)\n",
    "y=[]\n",
    "for i in x:\n",
    "    q=quad(phi2,0,i,args=(mu,sigma))\n",
    "    y.append(q[0])\n",
    "plt.plot(x,y)\n",
    "plt.plot(x,phi2(x,mu,sigma))\n",
    "plt.plot(mu,phi2(mu,mu,sigma),'ro')\n",
    "plt.plot(mu,quad(phi2,-np.inf,mu,args=(mu,sigma))[0],'ro')\n",
    "plt.plot(mu-sigma,quad(phi2,-np.inf,mu-sigma,args=(mu,sigma))[0],'bo')\n",
    "plt.plot(mu+sigma,quad(phi2,-np.inf,mu+sigma,args=(mu,sigma))[0],'bo')\n",
    "plt.show()"
   ]
  },
  {
   "cell_type": "code",
   "execution_count": null,
   "metadata": {},
   "outputs": [],
   "source": [
    "max=1005\n",
    "min=995\n",
    "PhiMax=quad(phi2,-np.inf,max,args=(mu,sigma))[0]\n",
    "PhiMin=quad(phi2,-np.inf,min,args=(mu,sigma))[0]\n",
    "print(PhiMax,PhiMin,1-PhiMax)\n",
    "print('{:2.2f}%'.format((2*PhiMax-1)*100))"
   ]
  },
  {
   "cell_type": "code",
   "execution_count": null,
   "metadata": {},
   "outputs": [],
   "source": [
    "PhiMax=quad(phi2,-np.inf,mu+sigma,args=(mu,sigma))[0]\n",
    "PhiMin=quad(phi2,-np.inf,mu-sigma,args=(mu,sigma))[0]\n",
    "print(PhiMax-PhiMin)\n",
    "print('{:2.2f}%'.format((2*PhiMax-1)*100))"
   ]
  },
  {
   "cell_type": "code",
   "execution_count": null,
   "metadata": {},
   "outputs": [],
   "source": [
    "PhiMax=quad(phi2,-np.inf,mu+3*sigma,args=(mu,sigma))[0]\n",
    "PhiMin=quad(phi2,-np.inf,mu-3*sigma,args=(mu,sigma))[0]\n",
    "print(PhiMax-PhiMin)\n",
    "print('{:2.2f}%'.format((2*PhiMax-1)*100))"
   ]
  },
  {
   "cell_type": "code",
   "execution_count": null,
   "metadata": {},
   "outputs": [],
   "source": [
    "'''\n",
    "def Phi(x, mu=0,sigma=1):     # integrale de Gauss\n",
    "    return quad(phi,-np.inf,x)[0]\n",
    "\n",
    "def F(x):\n",
    "    return Phi((x-mu)/sigma, mu,sigma)\n",
    "'''\n",
    "mu=1000\n",
    "sigma=2.5\n",
    "print(Phi(1))\n",
    "print(F(mu))\n",
    "print(F(mu-sigma),F(mu+sigma))\n",
    "print(1-F(mu-sigma))\n",
    "\n",
    "print(F(1005)-F(995))"
   ]
  },
  {
   "cell_type": "code",
   "execution_count": null,
   "metadata": {},
   "outputs": [],
   "source": [
    "x=np.linspace(mu-5,mu+5,100)\n",
    "y=[]\n",
    "for i in x:\n",
    "    #q=quad(phi,-np.inf,i-mu)[0]\n",
    "    q=Phi(i-mu)\n",
    "    y.append(q)\n",
    "plt.plot(x,phi(x-mu))\n",
    "plt.plot(x,y)\n",
    "plt.show()"
   ]
  },
  {
   "cell_type": "code",
   "execution_count": null,
   "metadata": {},
   "outputs": [],
   "source": []
  },
  {
   "cell_type": "code",
   "execution_count": null,
   "metadata": {},
   "outputs": [],
   "source": []
  }
 ],
 "metadata": {
  "kernelspec": {
   "display_name": "Python 3",
   "language": "python",
   "name": "python3"
  },
  "language_info": {
   "codemirror_mode": {
    "name": "ipython",
    "version": 3
   },
   "file_extension": ".py",
   "mimetype": "text/x-python",
   "name": "python",
   "nbconvert_exporter": "python",
   "pygments_lexer": "ipython3",
   "version": "3.12.3"
  }
 },
 "nbformat": 4,
 "nbformat_minor": 2
}
