{
 "cells": [
  {
   "cell_type": "code",
   "execution_count": 21,
   "metadata": {},
   "outputs": [
    {
     "name": "stdout",
     "output_type": "stream",
     "text": [
      "+\n"
     ]
    }
   ],
   "source": [
    "class Piece:\n",
    "    name = ''\n",
    "    color = ''\n",
    "    position = (0,0)\n",
    "    init = (0,0)\n",
    "    targets = []\n",
    "    state = 'alive'\n",
    "    \n",
    "class Empty(Piece):\n",
    "    def __init__(self):\n",
    "        self.name = '+'\n",
    "        \n",
    "    def id(self):\n",
    "        print(self.name)\n",
    "        \n",
    "empty = Empty()\n",
    "empty.id()"
   ]
  },
  {
   "cell_type": "code",
   "execution_count": 22,
   "metadata": {},
   "outputs": [
    {
     "name": "stdout",
     "output_type": "stream",
     "text": [
      "wn1 white (0, 1) alive [(1, 3), (2, 2), (2, 0)]\n",
      "wn2 white (0, 6) alive [(1, 4), (2, 7), (2, 5)]\n",
      "bn1 black (7, 1) alive [(6, 3), (5, 2), (5, 0)]\n",
      "bn2 black (7, 6) alive [(6, 4), (5, 7), (5, 5)]\n"
     ]
    }
   ],
   "source": [
    "class Knight(Piece):\n",
    "    def __init__(self,name,color,init):\n",
    "        self.name = name\n",
    "        self.color = color\n",
    "        self.position = init\n",
    "        #init = self.init\n",
    "        self.targets =[]\n",
    "        self.target()\n",
    "        \n",
    "    def id(self):\n",
    "        print(self.name,self.color,self.position,self.state,self.targets)\n",
    "        \n",
    "    def target(self):\n",
    "        t=(self.position[0]+1,self.position[1]+2)\n",
    "        if t[0] in range(8) and t[1] in range(8): self.targets.append(t)\n",
    "        t=(self.position[0]+1,self.position[1]-2)\n",
    "        if t[0] in range(8) and t[1] in range(8): self.targets.append(t)\n",
    "        t=(self.position[0]-1,self.position[1]+2)\n",
    "        if t[0] in range(8) and t[1] in range(8): self.targets.append(t)\n",
    "        t=(self.position[0]-1,self.position[1]-2)\n",
    "        if t[0] in range(8) and t[1] in range(8): self.targets.append(t)\n",
    "        t=(self.position[0]+2,self.position[1]+1)\n",
    "        if t[0] in range(8) and t[1] in range(8): self.targets.append(t)\n",
    "        t=(self.position[0]-2,self.position[1]+1)\n",
    "        if t[0] in range(8) and t[1] in range(8): self.targets.append(t)\n",
    "        t=(self.position[0]+2,self.position[1]-1)\n",
    "        if t[0] in range(8) and t[1] in range(8): self.targets.append(t)\n",
    "        t=(self.position[0]-2,self.position[1]-1)\n",
    "        if t[0] in range(8) and t[1] in range(8): self.targets.append(t)\n",
    "\n",
    "            \n",
    "wn1 = Knight('wn1','white',(0,1))\n",
    "wn2 = Knight('wn2','white',(0,6))\n",
    "bn1 = Knight('bn1','black',(7,1))\n",
    "bn2 = Knight('bn2','black',(7,6))\n",
    "\n",
    "\n",
    "wn1.id()\n",
    "wn2.id()\n",
    "bn1.id()\n",
    "bn2.id()"
   ]
  },
  {
   "cell_type": "code",
   "execution_count": 24,
   "metadata": {},
   "outputs": [
    {
     "name": "stdout",
     "output_type": "stream",
     "text": [
      "wr1 white (0, 0) alive [(1, 0), (0, 1), (2, 0), (0, 2), (3, 0), (0, 3), (4, 0), (0, 4), (5, 0), (0, 5), (6, 0), (0, 6), (7, 0), (0, 7)]\n",
      "wr2 white (0, 7) alive [(1, 7), (0, 6), (2, 7), (0, 5), (3, 7), (0, 4), (4, 7), (0, 3), (5, 7), (0, 2), (6, 7), (0, 1), (7, 7), (0, 0)]\n",
      "br1 black (7, 0) alive [(6, 0), (7, 1), (5, 0), (7, 2), (4, 0), (7, 3), (3, 0), (7, 4), (2, 0), (7, 5), (1, 0), (7, 6), (0, 0), (7, 7)]\n",
      "br2 black (7, 7) alive [(6, 7), (7, 6), (5, 7), (7, 5), (4, 7), (7, 4), (3, 7), (7, 3), (2, 7), (7, 2), (1, 7), (7, 1), (0, 7), (7, 0)]\n"
     ]
    }
   ],
   "source": [
    "class Rook(Piece):\n",
    "    def __init__(self,name,color,init):\n",
    "        self.name = name\n",
    "        self.color = color\n",
    "        self.position = init\n",
    "        #init = self.init\n",
    "        self.targets =[]\n",
    "        self.target()\n",
    "        \n",
    "    def id(self):\n",
    "        print(self.name,self.color,self.position,self.state,self.targets)\n",
    "        \n",
    "    def target(self):\n",
    "        for k in range(1,8):\n",
    "            t=(self.position[0]+k,self.position[1])\n",
    "            if t[0] in range(8) and t[1] in range(8): self.targets.append(t)\n",
    "            t=(self.position[0]-k,self.position[1])\n",
    "            if t[0] in range(8) and t[1] in range(8): self.targets.append(t)\n",
    "            t=(self.position[0],self.position[1]+k)\n",
    "            if t[0] in range(8) and t[1] in range(8): self.targets.append(t)\n",
    "            t=(self.position[0],self.position[1]-k)\n",
    "            if t[0] in range(8) and t[1] in range(8): self.targets.append(t)    \n",
    "        \n",
    "wr1 = Rook('wr1', 'white', (0,0))\n",
    "wr2 = Rook('wr2', 'white', (0,7))\n",
    "br1 = Rook('br1', 'black', (7,0))\n",
    "br2 = Rook('br2', 'black', (7,7))\n",
    "\n",
    "wr1.id()\n",
    "wr2.id()\n",
    "br1.id()\n",
    "br2.id()\n",
    "        "
   ]
  },
  {
   "cell_type": "code",
   "execution_count": 25,
   "metadata": {},
   "outputs": [
    {
     "name": "stdout",
     "output_type": "stream",
     "text": [
      "wb1 white (0, 2) alive [(1, 3), (1, 1), (2, 4), (2, 0), (3, 5), (4, 6), (5, 7)]\n",
      "wb2 white (0, 5) alive [(1, 6), (1, 4), (2, 7), (2, 3), (3, 2), (4, 1), (5, 0)]\n",
      "bb1 black (7, 2) alive [(6, 3), (6, 1), (5, 4), (5, 0), (4, 5), (3, 6), (2, 7)]\n",
      "bb2 black (7, 5) alive [(6, 6), (6, 4), (5, 7), (5, 3), (4, 2), (3, 1), (2, 0)]\n"
     ]
    }
   ],
   "source": [
    "class Bishop(Piece):\n",
    "    def __init__(self,name,color,init):\n",
    "        self.name = name\n",
    "        self.color = color\n",
    "        self.position = init\n",
    "        #init = self.init\n",
    "        self.targets =[]\n",
    "        self.target()\n",
    "        \n",
    "    def id(self):\n",
    "        print(self.name,self.color,self.position,self.state,self.targets)\n",
    "        \n",
    "    def target(self):\n",
    "        for k in range(1,8):\n",
    "            t=(self.position[0]+k,self.position[1]+k)\n",
    "            if t[0] in range(8) and t[1] in range(8): self.targets.append(t)\n",
    "            t=(self.position[0]-k,self.position[1]+k)\n",
    "            if t[0] in range(8) and t[1] in range(8): self.targets.append(t)\n",
    "            t=(self.position[0]+k,self.position[1]-k)\n",
    "            if t[0] in range(8) and t[1] in range(8): self.targets.append(t)\n",
    "            t=(self.position[0]-k,self.position[1]-k)\n",
    "            if t[0] in range(8) and t[1] in range(8): self.targets.append(t)\n",
    "\n",
    "wb1 = Bishop('wb1', 'white', (0,2))\n",
    "wb2 = Bishop('wb2', 'white', (0,5))\n",
    "bb1 = Bishop('bb1', 'black', (7,2))\n",
    "bb2 = Bishop('bb2', 'black', (7,5))\n",
    "\n",
    "wb1.id()\n",
    "wb2.id()\n",
    "bb1.id()\n",
    "bb2.id()\n",
    "        "
   ]
  },
  {
   "cell_type": "code",
   "execution_count": 26,
   "metadata": {},
   "outputs": [
    {
     "name": "stdout",
     "output_type": "stream",
     "text": [
      "wq white (0, 3) alive [(1, 4), (1, 2), (1, 3), (0, 4), (0, 2), (2, 5), (2, 1), (2, 3), (0, 5), (0, 1), (3, 6), (3, 0), (3, 3), (0, 6), (0, 0), (4, 7), (4, 3), (0, 7), (5, 3), (6, 3), (7, 3)]\n",
      "bq black (7, 3) alive [(6, 4), (6, 2), (6, 3), (7, 4), (7, 2), (5, 5), (5, 1), (5, 3), (7, 5), (7, 1), (4, 6), (4, 0), (4, 3), (7, 6), (7, 0), (3, 7), (3, 3), (7, 7), (2, 3), (1, 3), (0, 3)]\n"
     ]
    }
   ],
   "source": [
    "class Queen(Piece):\n",
    "    def __init__(self,name,color,init):\n",
    "        self.name = name\n",
    "        self.color = color\n",
    "        self.position = init\n",
    "        #init = self.init\n",
    "        self.targets =[]\n",
    "        self.target()\n",
    "        \n",
    "    def id(self):\n",
    "        print(self.name,self.color,self.position,self.state,self.targets)\n",
    "        \n",
    "    def target(self):\n",
    "        for k in range(1,8):\n",
    "            t=(self.position[0]+k,self.position[1]+k)\n",
    "            if t[0] in range(8) and t[1] in range(8): self.targets.append(t)\n",
    "            t=(self.position[0]-k,self.position[1]+k)\n",
    "            if t[0] in range(8) and t[1] in range(8): self.targets.append(t)\n",
    "            t=(self.position[0]+k,self.position[1]-k)\n",
    "            if t[0] in range(8) and t[1] in range(8): self.targets.append(t)\n",
    "            t=(self.position[0]-k,self.position[1]-k)\n",
    "            if t[0] in range(8) and t[1] in range(8): self.targets.append(t)\n",
    "            t=(self.position[0]+k,self.position[1])\n",
    "            if t[0] in range(8) and t[1] in range(8): self.targets.append(t)\n",
    "            t=(self.position[0]-k,self.position[1])\n",
    "            if t[0] in range(8) and t[1] in range(8): self.targets.append(t)\n",
    "            t=(self.position[0],self.position[1]+k)\n",
    "            if t[0] in range(8) and t[1] in range(8): self.targets.append(t)\n",
    "            t=(self.position[0],self.position[1]-k)\n",
    "            if t[0] in range(8) and t[1] in range(8): self.targets.append(t)\n",
    "        \n",
    "wq = Queen('wq', 'white', (0,3))\n",
    "bq = Queen('bq', 'black', (7,3))\n",
    "\n",
    "wq.id()\n",
    "bq.id()        "
   ]
  },
  {
   "cell_type": "code",
   "execution_count": 27,
   "metadata": {},
   "outputs": [
    {
     "name": "stdout",
     "output_type": "stream",
     "text": [
      "wk white (0, 4) alive [(1, 5), (1, 3), (1, 4), (0, 5), (0, 3)]\n",
      "bk black (7, 4) alive [(6, 5), (6, 3), (6, 4), (7, 5), (7, 3)]\n"
     ]
    }
   ],
   "source": [
    "class King(Piece):\n",
    "    def __init__(self,name,color,init):\n",
    "        self.name = name\n",
    "        self.color = color\n",
    "        self.position = init\n",
    "        #init = self.init\n",
    "        self.targets =[]\n",
    "        self.target()\n",
    "        \n",
    "    def id(self):\n",
    "        print(self.name,self.color,self.position,self.state,self.targets)\n",
    "        \n",
    "    def target(self):\n",
    "        k=1\n",
    "        t=(self.position[0]+k,self.position[1]+k)\n",
    "        if t[0] in range(8) and t[1] in range(8): self.targets.append(t)\n",
    "        t=(self.position[0]-k,self.position[1]+k)\n",
    "        if t[0] in range(8) and t[1] in range(8): self.targets.append(t)\n",
    "        t=(self.position[0]+k,self.position[1]-k)\n",
    "        if t[0] in range(8) and t[1] in range(8): self.targets.append(t)\n",
    "        t=(self.position[0]-k,self.position[1]-k)\n",
    "        if t[0] in range(8) and t[1] in range(8): self.targets.append(t)\n",
    "        t=(self.position[0]+k,self.position[1])\n",
    "        if t[0] in range(8) and t[1] in range(8): self.targets.append(t)\n",
    "        t=(self.position[0]-k,self.position[1])\n",
    "        if t[0] in range(8) and t[1] in range(8): self.targets.append(t)\n",
    "        t=(self.position[0],self.position[1]+k)\n",
    "        if t[0] in range(8) and t[1] in range(8): self.targets.append(t)\n",
    "        t=(self.position[0],self.position[1]-k)\n",
    "        if t[0] in range(8) and t[1] in range(8): self.targets.append(t)\n",
    "\n",
    "wk = King('wk', 'white', (0,4))\n",
    "bk = King('bk', 'black', (7,4))\n",
    "\n",
    "wk.id()\n",
    "bk.id()        "
   ]
  },
  {
   "cell_type": "code",
   "execution_count": 28,
   "metadata": {},
   "outputs": [
    {
     "name": "stdout",
     "output_type": "stream",
     "text": [
      "wp1 white (1, 0) alive [(2, 0), (2, 1)]\n",
      "bp1 black (6, 0) alive [(5, 0), (5, 1)]\n",
      "bp3 black (6, 2) alive [(5, 2), (5, 1), (5, 3)]\n"
     ]
    }
   ],
   "source": [
    "class Pawn(Piece):\n",
    "    def __init__(self,name,color,init):\n",
    "        self.name = name\n",
    "        self.color = color\n",
    "        self.position = init\n",
    "        #init = self.init\n",
    "        self.targets =[]\n",
    "        self.target()\n",
    "        \n",
    "    def id(self):\n",
    "        print(self.name,self.color,self.position,self.state,self.targets)\n",
    "        \n",
    "    def target(self):\n",
    "        if self.color=='white':\n",
    "            t=(self.position[0]+1,self.position[1])\n",
    "            if t[0] in range(8) and t[1] in range(8): self.targets.append(t)\n",
    "            t=(self.position[0]+1,self.position[1]-1)\n",
    "            if t[0] in range(8) and t[1] in range(8): self.targets.append(t)\n",
    "            t=(self.position[0]+1,self.position[1]+1)\n",
    "            if t[0] in range(8) and t[1] in range(8): self.targets.append(t)\n",
    "        else:\n",
    "            t=(self.position[0]-1,self.position[1])\n",
    "            if t[0] in range(8) and t[1] in range(8): self.targets.append(t)\n",
    "            t=(self.position[0]-1,self.position[1]-1)\n",
    "            if t[0] in range(8) and t[1] in range(8): self.targets.append(t)\n",
    "            t=(self.position[0]-1,self.position[1]+1)\n",
    "            if t[0] in range(8) and t[1] in range(8): self.targets.append(t)\n",
    "                        \n",
    "        \n",
    "wp1 = Pawn('wp1', 'white', (1,0))\n",
    "bp1 = Pawn('bp1', 'black', (6,0))\n",
    "wp2 = Pawn('wp2', 'white', (1,1))\n",
    "bp2 = Pawn('bp2', 'black', (6,1))\n",
    "wp3 = Pawn('wp3', 'white', (1,2))\n",
    "bp3 = Pawn('bp3', 'black', (6,2))\n",
    "wp4 = Pawn('wp4', 'white', (1,3))\n",
    "bp4 = Pawn('bp4', 'black', (6,3))\n",
    "wp5 = Pawn('wp5', 'white', (1,4))\n",
    "bp5 = Pawn('bp5', 'black', (6,4))\n",
    "wp6 = Pawn('wp6', 'white', (1,5))\n",
    "bp6 = Pawn('bp6', 'black', (6,5))\n",
    "wp7 = Pawn('wp7', 'white', (1,6))\n",
    "bp7 = Pawn('bp7', 'black', (6,6))\n",
    "wp8 = Pawn('wp8', 'white', (1,7))\n",
    "bp8 = Pawn('bp8', 'black', (6,7))\n",
    "\n",
    "wp1.id()\n",
    "bp1.id()\n",
    "bp3.id()"
   ]
  },
  {
   "cell_type": "code",
   "execution_count": 29,
   "metadata": {},
   "outputs": [],
   "source": [
    "class Board:\n",
    "    row7 = [br1,bn1,bb1,bq,bk,bb2,bn2,br2]\n",
    "    row6 = [bp1,bp2,bp3,bp4,bp5,bp6,bp7,bp8]\n",
    "    row1 = [wp1,wp2,wp3,wp4,wp5,wp6,wp7,wp8]\n",
    "    row0 = [wr1,wn1,wb1,wq,wk,wb2,wn2,wr2]\n",
    "    row5 = [empty]*8\n",
    "    row4 = [empty]*8\n",
    "    row3 = [empty]*8\n",
    "    row2 = [empty]*8\n",
    "    board =[row0,row1,row2,row3,row4, row5, row6, row7]\n",
    "    \n",
    "    def move(self,fro,to): \n",
    "        print('move piece from',fro,'to',to)\n",
    "        if (isinstance(self.board[to[0]][to[1]], Empty) \n",
    "            or self.board[fro[0]][fro[1]].color != self.board[to[0]][to[1]].color):\n",
    "            if not isinstance(self.board[fro[0]][fro[1]], Empty):\n",
    "                self.board[to[0]][to[1]] = self.board[fro[0]][fro[1]]\n",
    "                self.board[fro[0]][fro[1]] = empty\n",
    "            else: print('pas de pièce à déplacer')\n",
    "        else: print('coup interdit')    \n",
    "        \n",
    "    # show board\n",
    "    def show(self):\n",
    "        for i in range(8):\n",
    "            for j in range(8):\n",
    "                print(game.board[7-i][j].name,end='\\t')\n",
    "            print()    "
   ]
  },
  {
   "cell_type": "code",
   "execution_count": 30,
   "metadata": {},
   "outputs": [
    {
     "name": "stdout",
     "output_type": "stream",
     "text": [
      "wr1 white (0, 0) alive [(1, 0), (0, 1), (2, 0), (0, 2), (3, 0), (0, 3), (4, 0), (0, 4), (5, 0), (0, 5), (6, 0), (0, 6), (7, 0), (0, 7)]\n",
      "+\n",
      "br1\tbn1\tbb1\tbq\tbk\tbb2\tbn2\tbr2\t\n",
      "bp1\tbp2\tbp3\tbp4\tbp5\tbp6\tbp7\tbp8\t\n",
      "+\t+\t+\t+\t+\t+\t+\t+\t\n",
      "+\t+\t+\t+\t+\t+\t+\t+\t\n",
      "+\t+\t+\t+\t+\t+\t+\t+\t\n",
      "+\t+\t+\t+\t+\t+\t+\t+\t\n",
      "wp1\twp2\twp3\twp4\twp5\twp6\twp7\twp8\t\n",
      "wr1\twn1\twb1\twq\twk\twb2\twn2\twr2\t\n",
      "(7, 0)\t(7, 1)\t(7, 2)\t(7, 3)\t(7, 4)\t(7, 5)\t(7, 6)\t(7, 7)\t\n",
      "(6, 0)\t(6, 1)\t(6, 2)\t(6, 3)\t(6, 4)\t(6, 5)\t(6, 6)\t(6, 7)\t\n",
      "\n",
      "\n",
      "\n",
      "\n",
      "(1, 0)\t(1, 1)\t(1, 2)\t(1, 3)\t(1, 4)\t(1, 5)\t(1, 6)\t(1, 7)\t\n",
      "(0, 0)\t(0, 1)\t(0, 2)\t(0, 3)\t(0, 4)\t(0, 5)\t(0, 6)\t(0, 7)\t\n"
     ]
    }
   ],
   "source": [
    "game = Board()\n",
    "#print(game.board)\n",
    "game.board[0][0].id()\n",
    "\n",
    "game.board[5][0].id()\n",
    "\n",
    "# show board\n",
    "for i in range(8):\n",
    "    for j in range(8):\n",
    "        print(game.board[7-i][j].name,end='\\t')\n",
    "    print()\n",
    "#check position    \n",
    "for i in range(8):\n",
    "    for j in range(8):\n",
    "        if not isinstance(game.board[7-i][j],Empty):print(game.board[7-i][j].position,end='\\t')\n",
    "    print()"
   ]
  },
  {
   "cell_type": "code",
   "execution_count": 31,
   "metadata": {
    "scrolled": true
   },
   "outputs": [
    {
     "name": "stdout",
     "output_type": "stream",
     "text": [
      "move piece from (0, 1) to (2, 2)\n",
      "br1\tbn1\tbb1\tbq\tbk\tbb2\tbn2\tbr2\t\n",
      "bp1\tbp2\tbp3\tbp4\tbp5\tbp6\tbp7\tbp8\t\n",
      "+\t+\t+\t+\t+\t+\t+\t+\t\n",
      "+\t+\t+\t+\t+\t+\t+\t+\t\n",
      "+\t+\t+\t+\t+\t+\t+\t+\t\n",
      "+\t+\twn1\t+\t+\t+\t+\t+\t\n",
      "wp1\twp2\twp3\twp4\twp5\twp6\twp7\twp8\t\n",
      "wr1\t+\twb1\twq\twk\twb2\twn2\twr2\t\n"
     ]
    }
   ],
   "source": [
    "game.move((0,1),(2,2))\n",
    "game.show()"
   ]
  },
  {
   "cell_type": "code",
   "execution_count": 32,
   "metadata": {},
   "outputs": [
    {
     "name": "stdout",
     "output_type": "stream",
     "text": [
      "move piece from (2, 2) to (0, 2)\n",
      "coup interdit\n",
      "br1\tbn1\tbb1\tbq\tbk\tbb2\tbn2\tbr2\t\n",
      "bp1\tbp2\tbp3\tbp4\tbp5\tbp6\tbp7\tbp8\t\n",
      "+\t+\t+\t+\t+\t+\t+\t+\t\n",
      "+\t+\t+\t+\t+\t+\t+\t+\t\n",
      "+\t+\t+\t+\t+\t+\t+\t+\t\n",
      "+\t+\twn1\t+\t+\t+\t+\t+\t\n",
      "wp1\twp2\twp3\twp4\twp5\twp6\twp7\twp8\t\n",
      "wr1\t+\twb1\twq\twk\twb2\twn2\twr2\t\n"
     ]
    }
   ],
   "source": [
    "game.move((2,2),(0,2))\n",
    "game.show()"
   ]
  },
  {
   "cell_type": "code",
   "execution_count": 33,
   "metadata": {},
   "outputs": [
    {
     "name": "stdout",
     "output_type": "stream",
     "text": [
      "move piece from (2, 3) to (6, 2)\n",
      "pas de pièce à déplacer\n",
      "br1\tbn1\tbb1\tbq\tbk\tbb2\tbn2\tbr2\t\n",
      "bp1\tbp2\tbp3\tbp4\tbp5\tbp6\tbp7\tbp8\t\n",
      "+\t+\t+\t+\t+\t+\t+\t+\t\n",
      "+\t+\t+\t+\t+\t+\t+\t+\t\n",
      "+\t+\t+\t+\t+\t+\t+\t+\t\n",
      "+\t+\twn1\t+\t+\t+\t+\t+\t\n",
      "wp1\twp2\twp3\twp4\twp5\twp6\twp7\twp8\t\n",
      "wr1\t+\twb1\twq\twk\twb2\twn2\twr2\t\n"
     ]
    }
   ],
   "source": [
    "game.move((2,3),(6,2))\n",
    "game.show()"
   ]
  },
  {
   "cell_type": "code",
   "execution_count": 34,
   "metadata": {},
   "outputs": [
    {
     "name": "stdout",
     "output_type": "stream",
     "text": [
      "move piece from (2, 2) to (6, 2)\n",
      "br1\tbn1\tbb1\tbq\tbk\tbb2\tbn2\tbr2\t\n",
      "bp1\tbp2\twn1\tbp4\tbp5\tbp6\tbp7\tbp8\t\n",
      "+\t+\t+\t+\t+\t+\t+\t+\t\n",
      "+\t+\t+\t+\t+\t+\t+\t+\t\n",
      "+\t+\t+\t+\t+\t+\t+\t+\t\n",
      "+\t+\t+\t+\t+\t+\t+\t+\t\n",
      "wp1\twp2\twp3\twp4\twp5\twp6\twp7\twp8\t\n",
      "wr1\t+\twb1\twq\twk\twb2\twn2\twr2\t\n"
     ]
    }
   ],
   "source": [
    "game.move((2,2),(6,2))\n",
    "game.show()"
   ]
  },
  {
   "cell_type": "code",
   "execution_count": null,
   "metadata": {},
   "outputs": [],
   "source": []
  }
 ],
 "metadata": {
  "kernelspec": {
   "display_name": "Python 3",
   "language": "python",
   "name": "python3"
  },
  "language_info": {
   "codemirror_mode": {
    "name": "ipython",
    "version": 3
   },
   "file_extension": ".py",
   "mimetype": "text/x-python",
   "name": "python",
   "nbconvert_exporter": "python",
   "pygments_lexer": "ipython3",
   "version": "3.7.3"
  }
 },
 "nbformat": 4,
 "nbformat_minor": 2
}
