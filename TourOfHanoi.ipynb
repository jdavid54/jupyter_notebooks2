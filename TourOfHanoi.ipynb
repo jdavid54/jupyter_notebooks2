{
 "cells": [
  {
   "cell_type": "code",
   "execution_count": 1,
   "metadata": {},
   "outputs": [
    {
     "name": "stdout",
     "output_type": "stream",
     "text": [
      "[[4, 3, 2, 1], [], []]\n",
      "4 0 0\n",
      "10\n"
     ]
    }
   ],
   "source": [
    "rod1=[4,3,2,1]\n",
    "rod2=[]\n",
    "rod3=[]\n",
    "rods=[rod1,rod2,rod3]\n",
    "print(rods)\n",
    "print(len(rod1),len(rod2),len(rod3))\n",
    "print(sum(rod1))"
   ]
  },
  {
   "cell_type": "code",
   "execution_count": 2,
   "metadata": {},
   "outputs": [
    {
     "name": "stdout",
     "output_type": "stream",
     "text": [
      "[4, 3, 2] [1] []\n"
     ]
    }
   ],
   "source": [
    "fro=rods[0]\n",
    "to=rods[1]\n",
    "fro,to,nxt=rods\n",
    "m=fro.pop()\n",
    "\n",
    "if len(to)==0:\n",
    "    to.append(m)\n",
    "elif m<to[-1]:\n",
    "    to.append(m)\n",
    "    \n",
    "print(rod1,rod2,rod3)"
   ]
  },
  {
   "cell_type": "code",
   "execution_count": 3,
   "metadata": {},
   "outputs": [
    {
     "name": "stdout",
     "output_type": "stream",
     "text": [
      "[4, 3] [1] [2]\n"
     ]
    }
   ],
   "source": [
    "fro=rods[0]\n",
    "to=rods[2]\n",
    "fro,nxt,to=rods\n",
    "m=fro.pop()\n",
    "\n",
    "if len(to)==0:\n",
    "    to.append(m)\n",
    "elif m<to[-1]:\n",
    "    to.append(m)\n",
    "    \n",
    "print(rod1,rod2,rod3)"
   ]
  },
  {
   "cell_type": "code",
   "execution_count": 4,
   "metadata": {},
   "outputs": [],
   "source": [
    "def move2(f,t,n):        \n",
    "    op=0\n",
    "    fro=rods[f]\n",
    "    to=rods[t]\n",
    "    nxt=rods[n] \n",
    "    last=f\n",
    "    \n",
    "    if len(fro)!=0:\n",
    "        m=fro.pop()        \n",
    "        if len(to)==0:\n",
    "            to.append(m)     #first append rod empty\n",
    "            op+=1\n",
    "            last=t\n",
    "        elif m<to[-1]:            \n",
    "            to.append(m)    #first append valid rod \n",
    "            op+=1\n",
    "            last=t\n",
    "        else:\n",
    "            fro.append(m)   #push back - no move\n",
    "            return f,t,n\n",
    "        \n",
    "        if last==t:\n",
    "            \n",
    "            if len(fro)!=0:\n",
    "                m=fro.pop()       #second pop if first append is success and rod not empty\n",
    "                if len(nxt)==0:\n",
    "                    nxt.append(m)    #second append rod empty\n",
    "                    op+=1\n",
    "                    last=n\n",
    "                elif m<nxt[-1]:\n",
    "                    nxt.append(m)    #second append valid rod\n",
    "                    op+=1\n",
    "                    last=n\n",
    "                else:\n",
    "                    fro.append(m)   #push back - no move                \n",
    "\n",
    "        #if op!=0:print(rod1,rod2,rod3,'(',op,')')\n",
    "    \n",
    "    if (f+1)%3!=last:\n",
    "        f=(f+1)%3\n",
    "        t=(t+1)%3\n",
    "        n=(n+1)%3\n",
    "    else:        \n",
    "        f=(f+2)%3\n",
    "        t=(t+2)%3\n",
    "        n=(n+2)%3\n",
    "    return f,t,n"
   ]
  },
  {
   "cell_type": "code",
   "execution_count": 5,
   "metadata": {},
   "outputs": [
    {
     "name": "stdout",
     "output_type": "stream",
     "text": [
      "1 [5, 4, 3] [2] [1]\n",
      "2 [5, 4, 3] [2, 1] []\n",
      "3 [5, 4] [2, 1] [3]\n",
      "4 [5, 4, 1] [] [3, 2]\n",
      "5 [5] [4] [3, 2, 1]\n",
      "6 [5, 2] [4, 1] [3]\n",
      "7 [5, 2, 1] [4] [3]\n",
      "8 [5, 2, 1] [4, 3] []\n",
      "9 [5] [4, 3, 2] [1]\n",
      "10 [5] [4, 3, 2, 1] []\n",
      "11 [] [4, 3, 2, 1] [5]\n",
      "12 [1] [4, 3] [5, 2]\n",
      "13 [] [4, 3] [5, 2, 1]\n",
      "14 [3] [4] [5, 2, 1]\n",
      "15 [3, 2] [4, 1] [5]\n",
      "16 [3, 2, 1] [] [5, 4]\n",
      "17 [3] [2] [5, 4, 1]\n",
      "18 [3] [2, 1] [5, 4]\n",
      "19 [] [2, 1] [5, 4, 3]\n",
      "20 [1] [] [5, 4, 3, 2]\n",
      "21 [] [] [5, 4, 3, 2, 1]\n"
     ]
    }
   ],
   "source": [
    "rod1=[5,4,3,2,1]\n",
    "rod2=[]\n",
    "rod3=[]\n",
    "rods=[rod1,rod2,rod3]\n",
    "\n",
    "if len(rod1)%2==0:\n",
    "    f,t,n=[0,1,2]\n",
    "else:\n",
    "    f,n,t=[0,1,2]\n",
    "    \n",
    "total=sum(rod1)\n",
    "#print(total)\n",
    "\n",
    "cycle=0\n",
    "while sum(rod2)!=total and sum(rod3)!=total:    \n",
    "    f0=f\n",
    "    t0=t\n",
    "    n0=n\n",
    "    f,t,n=move2(f0,t0,n0) \n",
    "    if f!=f0:\n",
    "        cycle+=1\n",
    "        print(cycle,end=' ')\n",
    "        print(rod1,rod2,rod3)"
   ]
  },
  {
   "cell_type": "code",
   "execution_count": 6,
   "metadata": {},
   "outputs": [],
   "source": [
    "def test(f,t):\n",
    "    if len(rods[f])==0: return False\n",
    "    if len(rods[t])!=0:        \n",
    "        return rods[f][-1]<rods[t][-1]\n",
    "    else: return True"
   ]
  },
  {
   "cell_type": "code",
   "execution_count": 7,
   "metadata": {},
   "outputs": [],
   "source": [
    "def move1(f,t):        \n",
    "    op=0\n",
    "    fro=rods[f]\n",
    "    to=rods[t] \n",
    "        \n",
    "    m=fro.pop()        \n",
    "    if len(to)==0:\n",
    "        to.append(m)     #first append rod empty\n",
    "        op+=1\n",
    "        \n",
    "    elif m<to[-1]:            \n",
    "        to.append(m)    #first append valid rod \n",
    "        op+=1\n",
    "                    \n",
    "    #if op!=0:print(rod1,rod2,rod3)\n",
    "    \n",
    "    return f,t"
   ]
  },
  {
   "cell_type": "code",
   "execution_count": 8,
   "metadata": {},
   "outputs": [
    {
     "name": "stdout",
     "output_type": "stream",
     "text": [
      "1 [4, 3, 2] [1] []\n",
      "2 [4, 3] [1] [2]\n",
      "3 [4, 3] [] [2, 1]\n",
      "4 [4] [3] [2, 1]\n",
      "5 [4, 1] [3] [2]\n",
      "6 [4, 1] [3, 2] []\n",
      "7 [4] [3, 2, 1] []\n",
      "8 [] [3, 2, 1] [4]\n",
      "9 [] [3, 2] [4, 1]\n",
      "10 [2] [3] [4, 1]\n",
      "11 [2, 1] [3] [4]\n",
      "12 [2, 1] [] [4, 3]\n",
      "13 [2] [1] [4, 3]\n",
      "14 [] [1] [4, 3, 2]\n",
      "15 [] [] [4, 3, 2, 1]\n"
     ]
    }
   ],
   "source": [
    "rod1=[4,3,2,1]\n",
    "rod2=[]\n",
    "rod3=[]\n",
    "rods=[rod1,rod2,rod3]\n",
    "\n",
    "if len(rod1)%2==0:\n",
    "    f,t,n=[0,1,2]\n",
    "else:\n",
    "    f,n,t=[0,1,2]\n",
    "total=sum(rod1)\n",
    "#print(total)\n",
    "\n",
    "coup=0\n",
    "\n",
    "while sum(rod2)!=total and sum(rod3)!=total:\n",
    "    \n",
    "    f0=f\n",
    "    t0=t\n",
    "    n0=n\n",
    "    if test(f,t):\n",
    "        coup+=1\n",
    "        print(coup,end=' ')\n",
    "        f,t=move1(f0,t0)\n",
    "        last=t\n",
    "        print(rod1,rod2,rod3)\n",
    "    if test(f,n):\n",
    "        coup+=1\n",
    "        print(coup,end=' ')\n",
    "        f,n=move1(f0,n0)\n",
    "        last=n\n",
    "        print(rod1,rod2,rod3)\n",
    "    if (f+1)%3!=last:\n",
    "        f=(f+1)%3\n",
    "        t=(t+1)%3\n",
    "        n=(n+1)%3\n",
    "    else:\n",
    "        f=(f+2)%3\n",
    "        t=(t+2)%3\n",
    "        n=(n+2)%3"
   ]
  },
  {
   "cell_type": "code",
   "execution_count": 9,
   "metadata": {},
   "outputs": [],
   "source": [
    "def move3(f,t,n):\n",
    "    '''one move at a time'''    \n",
    "    op=0\n",
    "    fro=rods[f]\n",
    "    to=rods[t]\n",
    "    nxt=rods[n] \n",
    "    last=f\n",
    "    \n",
    "    if len(fro)!=0:\n",
    "        m=fro.pop()        #only one pop at a time\n",
    "        if len(to)==0:\n",
    "            to.append(m)     #first append rod empty\n",
    "            op+=1\n",
    "            last=t\n",
    "        elif m<to[-1]:            \n",
    "            to.append(m)    #first append valid rod \n",
    "            op+=1\n",
    "            last=t\n",
    "        \n",
    "        if last==f:             #if no success\n",
    "            if len(nxt)==0:\n",
    "                nxt.append(m)    #second append rod empty\n",
    "                op+=1\n",
    "                last=n\n",
    "            elif m<nxt[-1]:\n",
    "                nxt.append(m)    #second append valid rod\n",
    "                op+=1\n",
    "                last=n\n",
    "            else:\n",
    "                fro.append(m)   #push back - no move\n",
    "                     \n",
    "\n",
    "        #if op!=0:print(rod1,rod2,rod3)\n",
    "    \n",
    "    if (f+1)%3!=last:\n",
    "        f=(f+1)%3\n",
    "        t=(t+1)%3\n",
    "        n=(n+1)%3\n",
    "    else:        \n",
    "        f=(f+2)%3\n",
    "        t=(t+2)%3\n",
    "        n=(n+2)%3\n",
    "    return f,t,n,op"
   ]
  },
  {
   "cell_type": "code",
   "execution_count": 10,
   "metadata": {},
   "outputs": [
    {
     "name": "stdout",
     "output_type": "stream",
     "text": [
      "One move at a time !\n",
      "1 [4, 3, 2] [1] []\n",
      "2 [4, 3] [1] [2]\n",
      "3 [4, 3] [] [2, 1]\n",
      "4 [4] [3] [2, 1]\n",
      "5 [4, 1] [3] [2]\n",
      "6 [4, 1] [3, 2] []\n",
      "7 [4] [3, 2, 1] []\n",
      "8 [] [3, 2, 1] [4]\n",
      "9 [] [3, 2] [4, 1]\n",
      "10 [2] [3] [4, 1]\n",
      "11 [2, 1] [3] [4]\n",
      "12 [2, 1] [] [4, 3]\n",
      "13 [2] [1] [4, 3]\n",
      "14 [] [1] [4, 3, 2]\n",
      "15 [] [] [4, 3, 2, 1]\n"
     ]
    }
   ],
   "source": [
    "rod1=[4,3,2,1]\n",
    "rod2=[]\n",
    "rod3=[]\n",
    "rods=[rod1,rod2,rod3]\n",
    "f,t,n=[0,1,2]\n",
    "l=len(rod1)\n",
    "total=sum(rod1)\n",
    "#print(l,total)\n",
    "coup=0\n",
    "print('One move at a time !')\n",
    "while sum(rod2)!=total and sum(rod3)!=total:\n",
    "    f0,t0,n0 = [f,t,n]\n",
    "    #t0=t\n",
    "    #n0=n\n",
    "\n",
    "    f,t,n,op=move3(f0,t0,n0) \n",
    "    if op!=0:\n",
    "        coup+=1\n",
    "        print(coup,end=' ')\n",
    "        if l%2!=0:\n",
    "            print(rod1,rod3,rod2)\n",
    "        else:\n",
    "            print(rod1,rod2,rod3)"
   ]
  },
  {
   "cell_type": "code",
   "execution_count": null,
   "metadata": {},
   "outputs": [],
   "source": []
  }
 ],
 "metadata": {
  "kernelspec": {
   "display_name": "Python 3",
   "language": "python",
   "name": "python3"
  },
  "language_info": {
   "codemirror_mode": {
    "name": "ipython",
    "version": 3
   },
   "file_extension": ".py",
   "mimetype": "text/x-python",
   "name": "python",
   "nbconvert_exporter": "python",
   "pygments_lexer": "ipython3",
   "version": "3.10.11"
  }
 },
 "nbformat": 4,
 "nbformat_minor": 2
}
