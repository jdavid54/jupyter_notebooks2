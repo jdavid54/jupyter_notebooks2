{
 "cells": [
  {
   "cell_type": "code",
   "execution_count": 2,
   "metadata": {},
   "outputs": [],
   "source": [
    "# https://media4.obspm.fr/public/ressources_lu/pages_effet-de-maree/limite-roche-sexercer.html\n",
    "\n",
    "import pandas as pd\n",
    "import numpy as np\n",
    "\n",
    "planet = pd.read_csv(\"planete.csv\")\n",
    "#print(planet)\n",
    "#print(planet.info())\n"
   ]
  },
  {
   "cell_type": "code",
   "execution_count": 3,
   "metadata": {},
   "outputs": [],
   "source": [
    "\n",
    "bodies = pd.read_csv(\"saturn_bodies.csv\")\n",
    "#print(bodies)\n",
    "#print(bodies.info())\n"
   ]
  },
  {
   "cell_type": "code",
   "execution_count": 4,
   "metadata": {},
   "outputs": [],
   "source": [
    "\n",
    "rings = pd.read_csv(\"saturn_rings.csv\")\n",
    "#print(rings)\n",
    "#print(rings.info())\n"
   ]
  },
  {
   "cell_type": "code",
   "execution_count": 5,
   "metadata": {},
   "outputs": [],
   "source": [
    "planet.set_index('Objet', inplace=True)\n",
    "bodies.set_index('Satellite', inplace=True)\n",
    "rings.set_index('Rings', inplace=True)"
   ]
  },
  {
   "cell_type": "code",
   "execution_count": 6,
   "metadata": {},
   "outputs": [
    {
     "data": {
      "text/html": [
       "<div>\n",
       "<style scoped>\n",
       "    .dataframe tbody tr th:only-of-type {\n",
       "        vertical-align: middle;\n",
       "    }\n",
       "\n",
       "    .dataframe tbody tr th {\n",
       "        vertical-align: top;\n",
       "    }\n",
       "\n",
       "    .dataframe thead th {\n",
       "        text-align: right;\n",
       "    }\n",
       "</style>\n",
       "<table border=\"1\" class=\"dataframe\">\n",
       "  <thead>\n",
       "    <tr style=\"text-align: right;\">\n",
       "      <th></th>\n",
       "      <th>Masse</th>\n",
       "      <th>Rayon</th>\n",
       "      <th>Masse volumique</th>\n",
       "    </tr>\n",
       "    <tr>\n",
       "      <th>Objet</th>\n",
       "      <th></th>\n",
       "      <th></th>\n",
       "      <th></th>\n",
       "    </tr>\n",
       "  </thead>\n",
       "  <tbody>\n",
       "    <tr>\n",
       "      <th>Soleil</th>\n",
       "      <td>2.000000e+30</td>\n",
       "      <td>700000000.0</td>\n",
       "      <td>1400</td>\n",
       "    </tr>\n",
       "    <tr>\n",
       "      <th>Terre</th>\n",
       "      <td>6.000000e+24</td>\n",
       "      <td>6400000.0</td>\n",
       "      <td>5450</td>\n",
       "    </tr>\n",
       "    <tr>\n",
       "      <th>Lune</th>\n",
       "      <td>7.200000e+22</td>\n",
       "      <td>1700000.0</td>\n",
       "      <td>3500</td>\n",
       "    </tr>\n",
       "    <tr>\n",
       "      <th>Saturne</th>\n",
       "      <td>5.700000e+26</td>\n",
       "      <td>60000000.0</td>\n",
       "      <td>630</td>\n",
       "    </tr>\n",
       "    <tr>\n",
       "      <th>Comète</th>\n",
       "      <td>NaN</td>\n",
       "      <td>NaN</td>\n",
       "      <td>200</td>\n",
       "    </tr>\n",
       "  </tbody>\n",
       "</table>\n",
       "</div>"
      ],
      "text/plain": [
       "                Masse        Rayon  Masse volumique\n",
       "Objet                                              \n",
       "Soleil   2.000000e+30  700000000.0             1400\n",
       "Terre    6.000000e+24    6400000.0             5450\n",
       "Lune     7.200000e+22    1700000.0             3500\n",
       "Saturne  5.700000e+26   60000000.0              630\n",
       "Comète            NaN          NaN              200"
      ]
     },
     "execution_count": 6,
     "metadata": {},
     "output_type": "execute_result"
    }
   ],
   "source": [
    "planet"
   ]
  },
  {
   "cell_type": "code",
   "execution_count": 7,
   "metadata": {},
   "outputs": [
    {
     "data": {
      "text/html": [
       "<div>\n",
       "<style scoped>\n",
       "    .dataframe tbody tr th:only-of-type {\n",
       "        vertical-align: middle;\n",
       "    }\n",
       "\n",
       "    .dataframe tbody tr th {\n",
       "        vertical-align: top;\n",
       "    }\n",
       "\n",
       "    .dataframe thead th {\n",
       "        text-align: right;\n",
       "    }\n",
       "</style>\n",
       "<table border=\"1\" class=\"dataframe\">\n",
       "  <thead>\n",
       "    <tr style=\"text-align: right;\">\n",
       "      <th></th>\n",
       "      <th>Distance</th>\n",
       "      <th>Rayon</th>\n",
       "      <th>Masse</th>\n",
       "    </tr>\n",
       "    <tr>\n",
       "      <th>Satellite</th>\n",
       "      <th></th>\n",
       "      <th></th>\n",
       "      <th></th>\n",
       "    </tr>\n",
       "  </thead>\n",
       "  <tbody>\n",
       "    <tr>\n",
       "      <th>Mimas</th>\n",
       "      <td>186000</td>\n",
       "      <td>196</td>\n",
       "      <td>3.800000e+19</td>\n",
       "    </tr>\n",
       "    <tr>\n",
       "      <th>Encelade</th>\n",
       "      <td>238000</td>\n",
       "      <td>260</td>\n",
       "      <td>8.400000e+19</td>\n",
       "    </tr>\n",
       "    <tr>\n",
       "      <th>Téthys</th>\n",
       "      <td>295000</td>\n",
       "      <td>530</td>\n",
       "      <td>7.550000e+20</td>\n",
       "    </tr>\n",
       "    <tr>\n",
       "      <th>Dioné</th>\n",
       "      <td>377000</td>\n",
       "      <td>560</td>\n",
       "      <td>1.050000e+21</td>\n",
       "    </tr>\n",
       "  </tbody>\n",
       "</table>\n",
       "</div>"
      ],
      "text/plain": [
       "           Distance  Rayon         Masse\n",
       "Satellite                               \n",
       "Mimas        186000    196  3.800000e+19\n",
       "Encelade     238000    260  8.400000e+19\n",
       "Téthys       295000    530  7.550000e+20\n",
       "Dioné        377000    560  1.050000e+21"
      ]
     },
     "execution_count": 7,
     "metadata": {},
     "output_type": "execute_result"
    }
   ],
   "source": [
    "bodies\n",
    "#bodies.info()"
   ]
  },
  {
   "cell_type": "code",
   "execution_count": 8,
   "metadata": {},
   "outputs": [
    {
     "data": {
      "text/html": [
       "<div>\n",
       "<style scoped>\n",
       "    .dataframe tbody tr th:only-of-type {\n",
       "        vertical-align: middle;\n",
       "    }\n",
       "\n",
       "    .dataframe tbody tr th {\n",
       "        vertical-align: top;\n",
       "    }\n",
       "\n",
       "    .dataframe thead th {\n",
       "        text-align: right;\n",
       "    }\n",
       "</style>\n",
       "<table border=\"1\" class=\"dataframe\">\n",
       "  <thead>\n",
       "    <tr style=\"text-align: right;\">\n",
       "      <th></th>\n",
       "      <th>Rayon interne</th>\n",
       "      <th>Rayon externe</th>\n",
       "      <th>Largeur</th>\n",
       "    </tr>\n",
       "    <tr>\n",
       "      <th>Rings</th>\n",
       "      <th></th>\n",
       "      <th></th>\n",
       "      <th></th>\n",
       "    </tr>\n",
       "  </thead>\n",
       "  <tbody>\n",
       "    <tr>\n",
       "      <th>Anneau D</th>\n",
       "      <td>60000</td>\n",
       "      <td>72600</td>\n",
       "      <td>12600</td>\n",
       "    </tr>\n",
       "    <tr>\n",
       "      <th>Division Guerin</th>\n",
       "      <td>72600</td>\n",
       "      <td>73800</td>\n",
       "      <td>1200</td>\n",
       "    </tr>\n",
       "    <tr>\n",
       "      <th>Anneau C</th>\n",
       "      <td>73800</td>\n",
       "      <td>91800</td>\n",
       "      <td>18000</td>\n",
       "    </tr>\n",
       "    <tr>\n",
       "      <th>Division Maxwell</th>\n",
       "      <td>91800</td>\n",
       "      <td>92300</td>\n",
       "      <td>500</td>\n",
       "    </tr>\n",
       "    <tr>\n",
       "      <th>Anneau B</th>\n",
       "      <td>92300</td>\n",
       "      <td>115800</td>\n",
       "      <td>23500</td>\n",
       "    </tr>\n",
       "    <tr>\n",
       "      <th>Division Cassini</th>\n",
       "      <td>115800</td>\n",
       "      <td>120600</td>\n",
       "      <td>4800</td>\n",
       "    </tr>\n",
       "  </tbody>\n",
       "</table>\n",
       "</div>"
      ],
      "text/plain": [
       "                  Rayon interne  Rayon externe  Largeur\n",
       "Rings                                                  \n",
       "Anneau D                  60000          72600    12600\n",
       "Division Guerin           72600          73800     1200\n",
       "Anneau C                  73800          91800    18000\n",
       "Division Maxwell          91800          92300      500\n",
       "Anneau B                  92300         115800    23500\n",
       "Division Cassini         115800         120600     4800"
      ]
     },
     "execution_count": 8,
     "metadata": {},
     "output_type": "execute_result"
    }
   ],
   "source": [
    "rings"
   ]
  },
  {
   "cell_type": "code",
   "execution_count": 9,
   "metadata": {},
   "outputs": [],
   "source": [
    "G = 6.6743e-11\n",
    "#print(G)\n",
    "\n",
    "def pulsation(M, D):\n",
    "    return np.sqrt(G*M/D**3)\n",
    "\n",
    "def force_g(M, m, D, r):\n",
    "    return G*M*m/(D-r**2), G*M*m/(D+r**2)\n",
    "\n",
    "def inertie(m, D, r):\n",
    "    p = pulsation(m,D)\n",
    "    return m*p**2*(D-r), m*p**2*(D+r)\n",
    "\n",
    "def delta(M, m, D, r):    #question 4\n",
    "    return -4*G*M*m*r/D**3\n",
    "\n",
    "def cohesion(m,r):   # question 5\n",
    "    return -G*m**2/(4*r**2)\n",
    "\n",
    "#limite de Roche quand delta = cohesion\n",
    "def lim_roche(R, rho_M, rho_m):\n",
    "    #rho_M = M/(4/3*np.pi*R**3)\n",
    "    #rho_m = m/(4/3*np.pi*r**3)\n",
    "    factor = np.sqrt(16)\n",
    "    return (16*R**3*rho_M/rho_m)**(1/3) # même masses volumiques, d_R = 2.9R, observé 2.45R\n",
    "\n",
    "#limite de Roche quand delta = cohesion\n",
    "def lim_roche_fluide(R, rho_M, rho_m):\n",
    "    #rho_M = M/(4/3*np.pi*R**3)\n",
    "    #rho_m = m/(4/3*np.pi*r**3)\n",
    "    factor = 1.26\n",
    "    return factor*R*(rho_M/rho_m)**(1/3) "
   ]
  },
  {
   "cell_type": "code",
   "execution_count": 10,
   "metadata": {},
   "outputs": [
    {
     "name": "stdout",
     "output_type": "stream",
     "text": [
      "Solar planets\n",
      "                Masse        Rayon  Masse volumique\n",
      "Objet                                              \n",
      "Soleil   2.000000e+30  700000000.0             1400\n",
      "Terre    6.000000e+24    6400000.0             5450\n",
      "Lune     7.200000e+22    1700000.0             3500\n",
      "Saturne  5.700000e+26   60000000.0              630\n",
      "Comète            NaN          NaN              200\n"
     ]
    }
   ],
   "source": [
    "print('Solar planets')\n",
    "print(planet)"
   ]
  },
  {
   "cell_type": "code",
   "execution_count": 11,
   "metadata": {},
   "outputs": [
    {
     "name": "stdout",
     "output_type": "stream",
     "text": [
      "Saturn bodies\n",
      "           Distance  Rayon         Masse\n",
      "Satellite                               \n",
      "Mimas        186000    196  3.800000e+19\n",
      "Encelade     238000    260  8.400000e+19\n",
      "Téthys       295000    530  7.550000e+20\n",
      "Dioné        377000    560  1.050000e+21\n"
     ]
    }
   ],
   "source": [
    "print('Saturn bodies')\n",
    "print(bodies)"
   ]
  },
  {
   "cell_type": "code",
   "execution_count": 12,
   "metadata": {},
   "outputs": [
    {
     "name": "stdout",
     "output_type": "stream",
     "text": [
      "Saturn rings\n",
      "                  Rayon interne  Rayon externe  Largeur\n",
      "Rings                                                  \n",
      "Anneau D                  60000          72600    12600\n",
      "Division Guerin           72600          73800     1200\n",
      "Anneau C                  73800          91800    18000\n",
      "Division Maxwell          91800          92300      500\n",
      "Anneau B                  92300         115800    23500\n",
      "Division Cassini         115800         120600     4800\n"
     ]
    }
   ],
   "source": [
    "print('Saturn rings')\n",
    "print(rings)"
   ]
  },
  {
   "cell_type": "code",
   "execution_count": 13,
   "metadata": {},
   "outputs": [
    {
     "name": "stdout",
     "output_type": "stream",
     "text": [
      "                Masse        Rayon  Masse volumique\n",
      "Objet                                              \n",
      "Soleil   2.000000e+30  700000000.0             1400\n",
      "Terre    6.000000e+24    6400000.0             5450\n",
      "Lune     7.200000e+22    1700000.0             3500\n",
      "Saturne  5.700000e+26   60000000.0              630\n",
      "Comète            NaN          NaN              200\n",
      "6e+24 6400000.0 5450\n",
      "7.2e+22 1700000.0 3500\n"
     ]
    }
   ],
   "source": [
    "M = planet.loc['Terre','Masse']\n",
    "R = planet.loc['Terre','Rayon']\n",
    "rho_M = planet.loc['Terre','Masse volumique']\n",
    "m = planet.loc['Lune','Masse']\n",
    "r = planet.loc['Lune','Rayon']\n",
    "rho_m = planet.loc['Lune','Masse volumique']\n",
    "print(planet)\n",
    "print(M, R, rho_M)\n",
    "print(m, r, rho_m)"
   ]
  },
  {
   "cell_type": "code",
   "execution_count": 15,
   "metadata": {},
   "outputs": [
    {
     "name": "stdout",
     "output_type": "stream",
     "text": [
      "5464.151336010201\n",
      "3498.622807637838\n",
      "18710.921077069535\n"
     ]
    }
   ],
   "source": [
    "v_M = 4/3*np.pi*R**3\n",
    "ro_M = M/v_M\n",
    "print(ro_M)\n",
    "\n",
    "v_m = 4/3*np.pi*r**3\n",
    "ro_m = m/v_m\n",
    "print(ro_m)\n",
    "\n",
    "print(lim_roche(R, ro_M, ro_m)/1000)"
   ]
  },
  {
   "cell_type": "code",
   "execution_count": 16,
   "metadata": {},
   "outputs": [
    {
     "name": "stdout",
     "output_type": "stream",
     "text": [
      "Limite roche Terre - Lune: 18692.302 km\n"
     ]
    }
   ],
   "source": [
    "limite = lim_roche(R, rho_M, rho_m)\n",
    "print('Limite roche Terre - Lune:', '%5.3f km' % (limite/1000))"
   ]
  },
  {
   "cell_type": "code",
   "execution_count": 17,
   "metadata": {},
   "outputs": [
    {
     "name": "stdout",
     "output_type": "stream",
     "text": [
      "18710.92107706953\n"
     ]
    }
   ],
   "source": [
    "D=((16*M*r**3)/m)**(1/3)\n",
    "print(D/1000)"
   ]
  },
  {
   "cell_type": "code",
   "execution_count": 18,
   "metadata": {},
   "outputs": [
    {
     "name": "stdout",
     "output_type": "stream",
     "text": [
      "-2.993042491349481e+22\n",
      "-2.9930424913494893e+22\n"
     ]
    }
   ],
   "source": [
    "print(cohesion(m, r))\n",
    "print(delta(M, m, D, r))"
   ]
  },
  {
   "cell_type": "code",
   "execution_count": 19,
   "metadata": {},
   "outputs": [
    {
     "name": "stdout",
     "output_type": "stream",
     "text": [
      "18692301.93432642\n",
      "Limite roche Terre - Lune: 18692301.934 km\n",
      "-2.993042491349481e+22\n"
     ]
    },
    {
     "data": {
      "image/png": "[encoded data removed]",
      "text/plain": [
       "<Figure size 640x480 with 1 Axes>"
      ]
     },
     "metadata": {},
     "output_type": "display_data"
    }
   ],
   "source": [
    "import matplotlib.pyplot as plt\n",
    "print(limite)\n",
    "x = np.linspace(D-1e5,D+1e5,1000)\n",
    "y = delta(M, m, x, r)\n",
    "z = cohesion(m,r)   #-G*m**2/(4*r**2)\n",
    "print('Limite roche Terre - Lune:', '%5.3f km' % limite)\n",
    "print(z)\n",
    "plt.title('Terre - Lune')\n",
    "plt.plot(x,y, label='force marée')\n",
    "plt.plot(x,[z]*1000, label='cohésion')\n",
    "plt.legend()\n",
    "plt.show()"
   ]
  },
  {
   "cell_type": "code",
   "execution_count": 20,
   "metadata": {},
   "outputs": [
    {
     "name": "stdout",
     "output_type": "stream",
     "text": [
      "Masse              5.700000e+26\n",
      "Rayon              6.000000e+07\n",
      "Masse volumique    6.300000e+02\n",
      "Name: Saturne, dtype: float64\n",
      "Saturne : 5.7e+26 60000000.0 630\n",
      "Mimas : 3.8e+19 196000 1204.8327753845704\n",
      "           Distance  Rayon         Masse  Masse volumique\n",
      "Satellite                                                \n",
      "Mimas        186000    196  3.800000e+19      1204.832775\n",
      "Encelade     238000    260  8.400000e+19      1140.960562\n",
      "Téthys       295000    530  7.550000e+20      1210.683806\n",
      "Dioné        377000    560  1.050000e+21      1427.370145\n"
     ]
    }
   ],
   "source": [
    "print(planet.loc['Saturne'])\n",
    "#print(bodies)\n",
    "M = planet.loc['Saturne','Masse']\n",
    "R = planet.loc['Saturne','Rayon']\n",
    "rho_M = planet.loc['Saturne','Masse volumique']\n",
    "m = bodies.loc['Mimas','Masse']\n",
    "D = bodies.loc['Mimas','Distance']\n",
    "r = bodies.loc['Mimas','Rayon']*1000\n",
    "v = 4/3*r**3*np.pi\n",
    "rho_m = m/v\n",
    "print('Saturne :', M, R, rho_M)\n",
    "print('Mimas :', m, r, rho_m )\n",
    "\n",
    "for k in bodies.index:\n",
    "    bodies.loc[k,'Masse volumique']=bodies.loc[k,'Masse']/(4/3*np.pi*(bodies.loc[k,'Rayon']*1000)**3)\n",
    "\n",
    "print(bodies)\n",
    "    "
   ]
  },
  {
   "cell_type": "code",
   "execution_count": 21,
   "metadata": {},
   "outputs": [
    {
     "name": "stdout",
     "output_type": "stream",
     "text": [
      "Pulsation Mimas 2.431480961204739\n",
      "Force gravitationnelle Mimas (-3.763172583040932e+25, 3.763136142666531e+25)\n",
      "Inertie Mimas (-1.497731915057618e+17, 5.7213359155201e+18)\n",
      "delta Mimas -1.7613327321077583e+26\n",
      "Cohesion Mimas -6.271923937942524e+17\n"
     ]
    }
   ],
   "source": [
    "print('Pulsation Mimas', pulsation(M,D))\n",
    "print('Force gravitationnelle Mimas', force_g(M,m,D,r))\n",
    "print('Inertie Mimas', inertie(m,D,r))\n",
    "print('delta Mimas', delta(M, m, D, r))    \n",
    "print('Cohesion Mimas', cohesion(m,r))"
   ]
  },
  {
   "cell_type": "code",
   "execution_count": 22,
   "metadata": {},
   "outputs": [
    {
     "name": "stdout",
     "output_type": "stream",
     "text": [
      "Limite roche Saturne - Mimas: 121804.267 km\n",
      "121803.51423339115\n"
     ]
    }
   ],
   "source": [
    "#rho_m = rho_M\n",
    "limite = lim_roche(R, rho_M, rho_m)\n",
    "print('Limite roche Saturne - Mimas:', '%5.3f km' % (limite/1000))\n",
    "\n",
    "D=((16*M*r**3)/m)**(1/3)\n",
    "print(D/1000)"
   ]
  },
  {
   "cell_type": "code",
   "execution_count": 23,
   "metadata": {},
   "outputs": [
    {
     "name": "stdout",
     "output_type": "stream",
     "text": [
      "Saturn rings (km)\n",
      "Anneau D              60000      72600      12600\n",
      "Division Guerin       72600      73800       1200\n",
      "Anneau C              73800      91800      18000\n",
      "Division Maxwell      91800      92300        500\n",
      "Anneau B              92300     115800      23500\n",
      "Division Cassini     115800     120600       4800\n"
     ]
    }
   ],
   "source": [
    "print('Saturn rings (km)')\n",
    "\n",
    "for k in rings.index:\n",
    "    name = k  #rings.index[0]\n",
    "    #print(rings.loc[name])\n",
    "    ri = rings.loc[name,'Rayon interne']\n",
    "    re = rings.loc[name,'Rayon externe']\n",
    "    lg = rings.loc[name,'Largeur']\n",
    "    print('{0:16s} {1:10d} {2:10d} {3:10d}'.format(name,ri,re,lg))"
   ]
  },
  {
   "cell_type": "code",
   "execution_count": 24,
   "metadata": {},
   "outputs": [
    {
     "name": "stdout",
     "output_type": "stream",
     "text": [
      "Limite roche Saturne - Mimas: 121804267.207 km\n",
      "-6.271923937942524e+17\n"
     ]
    },
    {
     "data": {
      "image/png": "[encoded data removed]",
      "text/plain": [
       "<Figure size 640x480 with 1 Axes>"
      ]
     },
     "metadata": {},
     "output_type": "display_data"
    }
   ],
   "source": [
    "x = np.linspace(D-1e4,limite+1e4,1000)\n",
    "y = delta(M, m, x, r)\n",
    "z = cohesion(m,r) \n",
    "print('Limite roche Saturne - Mimas:', '%5.3f km' % limite)\n",
    "print(z)\n",
    "plt.title('Saturn - Mimas')\n",
    "plt.plot(x,y, label='force marée')\n",
    "plt.plot(x,[z]*1000, label='cohésion')\n",
    "plt.legend()\n",
    "plt.show()"
   ]
  },
  {
   "cell_type": "code",
   "execution_count": 25,
   "metadata": {},
   "outputs": [
    {
     "data": {
      "text/plain": [
       "Index(['Mimas', 'Encelade', 'Téthys', 'Dioné'], dtype='object', name='Satellite')"
      ]
     },
     "execution_count": 25,
     "metadata": {},
     "output_type": "execute_result"
    }
   ],
   "source": [
    "bodies.index"
   ]
  },
  {
   "cell_type": "code",
   "execution_count": null,
   "metadata": {},
   "outputs": [],
   "source": []
  }
 ],
 "metadata": {
  "kernelspec": {
   "display_name": "Python 3",
   "language": "python",
   "name": "python3"
  },
  "language_info": {
   "codemirror_mode": {
    "name": "ipython",
    "version": 3
   },
   "file_extension": ".py",
   "mimetype": "text/x-python",
   "name": "python",
   "nbconvert_exporter": "python",
   "pygments_lexer": "ipython3",
   "version": "3.11.0b5"
  },
  "vscode": {
   "interpreter": {
    "hash": "aee8b7b246df8f9039afb4144a1f6fd8d2ca17a180786b69acc140d282b71a49"
   }
  }
 },
 "nbformat": 4,
 "nbformat_minor": 2
}
