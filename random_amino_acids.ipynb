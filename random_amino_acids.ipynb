{
 "cells": [
  {
   "cell_type": "code",
   "execution_count": 99,
   "metadata": {},
   "outputs": [],
   "source": [
    "import random\n",
    "\n",
    "def generate_random_dna_base():\n",
    "    \"\"\"Generate a random DNA base (A, C, G, T).\"\"\"\n",
    "    dna_bases = ['A', 'C', 'G', 'T']\n",
    "    return random.choice(dna_bases)\n",
    "\n",
    "def generate_random_amino_acid():\n",
    "    \"\"\"Generate a random amino acid from the 20 standard amino acids.\"\"\"\n",
    "    amino_acids = {\n",
    "        'A': 'Alanine',\n",
    "        'R': 'Arginine',\n",
    "        'N': 'Asparagine',\n",
    "        'D': 'Aspartic acid',\n",
    "        'C': 'Cysteine',\n",
    "        'E': 'Glutamic acid',\n",
    "        'Q': 'Glutamine',\n",
    "        'G': 'Glycine',\n",
    "        'H': 'Histidine',\n",
    "        'I': 'Isoleucine',\n",
    "        'L': 'Leucine',\n",
    "        'K': 'Lysine',\n",
    "        'M': 'Methionine',\n",
    "        'F': 'Phenylalanine',\n",
    "        'P': 'Proline',\n",
    "        'S': 'Serine',\n",
    "        'T': 'Threonine',\n",
    "        'W': 'Tryptophan',\n",
    "        'Y': 'Tyrosine',\n",
    "        'V': 'Valine'\n",
    "    }\n",
    "    return random.choice(list(amino_acids.keys()))\n",
    "\n",
    "def generate_random_sequence(sequence_type, length):\n",
    "    \"\"\"Generate a random sequence of DNA bases or amino acids.\"\"\"\n",
    "    if sequence_type == 'dna':\n",
    "        return ''.join(generate_random_dna_base() for _ in range(length))\n",
    "    elif sequence_type == 'amino':\n",
    "        return ''.join(generate_random_amino_acid() for _ in range(length))\n",
    "    else:\n",
    "        raise ValueError(\"Invalid sequence type. Use 'dna' or 'amino'.\")\n",
    "\n",
    "def get_amino_acid_dna_compositions():\n",
    "    \"\"\"Return the DNA base composition of each amino acid.\"\"\"\n",
    "    amino_acid_to_dna = {\n",
    "        'Alanine': \"GCT, GCC, GCA, GCG\",\n",
    "        'Arginine': \"CGT, CGC, CGA, CGG, AGA, AGG\",\n",
    "        'Asparagine': \"AAT, AAC\",\n",
    "        'Aspartic acid': \"GAT, GAC\",\n",
    "        'Cysteine': \"TGT, TGC\",\n",
    "        'Glutamic acid': \"GAA, GAG\",\n",
    "        'Glutamine': \"CAA, CAG\",\n",
    "        'Glycine': \"GGT, GGC, GGA, GGG\",\n",
    "        'Histidine': \"CAT, CAC\",\n",
    "        'Isoleucine': \"ATT, ATC, ATA\",\n",
    "        'Leucine': \"TTA, TTG, CTT, CTC, CTA, CTG\",\n",
    "        'Lysine': \"AAA, AAG\",\n",
    "        'Methionine': \"ATG\",\n",
    "        'Phenylalanine': \"TTT, TTC\",\n",
    "        'Proline': \"CCT, CCC, CCA, CCG\",\n",
    "        'Serine': \"TCT, TCC, TCA, TCG, AGT, AGC\",\n",
    "        'Threonine': \"ACT, ACC, ACA, ACG\",\n",
    "        'Tryptophan': \"TGG\",\n",
    "        'Tyrosine': \"TAT, TAC\",\n",
    "        'Valine': \"GTT, GTC, GTA, GTG\"\n",
    "    }\n",
    "    return amino_acid_to_dna\n",
    "\n",
    "def generate_random_amino_acid_with_codon():\n",
    "    \"\"\"Generate a random amino acid with one of its corresponding codons.\"\"\"\n",
    "    amino_acid_to_dna = get_amino_acid_dna_compositions()\n",
    "    amino_acid = random.choice(list(amino_acid_to_dna.keys()))\n",
    "    codons = amino_acid_to_dna[amino_acid].split(\", \")\n",
    "    random_codon = random.choice(codons)\n",
    "    return f\"{amino_acid}({random_codon})\"\n",
    "\n",
    "def generate_random_amino_sequence_with_codons(length):\n",
    "    \"\"\"Generate a random sequence of amino acids with their codons.\"\"\"\n",
    "    return ' '.join(generate_random_amino_acid_with_codon() for _ in range(length))\n",
    "\n",
    "def translate_dna_to_codons(dna_sequence):\n",
    "    \"\"\"Translate a DNA sequence into codons, checking if the length is a multiple of 3.\"\"\"\n",
    "    if len(dna_sequence) % 3 != 0:\n",
    "        raise ValueError(\"DNA sequence length must be a multiple of 3.\")\n",
    "    codons = [dna_sequence[i:i+3] for i in range(0, len(dna_sequence), 3)]\n",
    "    return codons\n",
    "\n",
    "def translate_dna_to_amino_acids(dna_sequence):\n",
    "    \"\"\"Translate a DNA sequence into a chain of amino acids, ensuring length is a multiple of 3.\"\"\"\n",
    "    amino_acid_to_dna = get_amino_acid_dna_compositions()\n",
    "    codon_to_amino = {codon: aa for aa, codons in amino_acid_to_dna.items() for codon in codons.split(\", \")}\n",
    "\n",
    "    # Ensure DNA sequence length is a multiple of 3\n",
    "    corrected_length = len(dna_sequence) - (len(dna_sequence) % 3)\n",
    "    dna_sequence = dna_sequence[:corrected_length]\n",
    "\n",
    "    codons = translate_dna_to_codons(dna_sequence)\n",
    "    amino_acids = '-'.join(codon_to_amino.get(codon, 'Unknown') for codon in codons)\n",
    "    return amino_acids\n",
    "\n",
    "def get_hemoglobin_dna_sequence():\n",
    "    \"\"\"Return the DNA sequence coding for a part of hemoglobin protein.\"\"\"\n",
    "    return \"ATGGTGCTGTCTCCTGCCGACAAGACCAACGTCAAGGCC\""
   ]
  },
  {
   "cell_type": "code",
   "execution_count": 100,
   "metadata": {},
   "outputs": [
    {
     "name": "stdout",
     "output_type": "stream",
     "text": [
      "\n",
      "Amino Acid to DNA Base Composition:\n",
      "Alanine: GCT, GCC, GCA, GCG\n",
      "Arginine: CGT, CGC, CGA, CGG, AGA, AGG\n",
      "Asparagine: AAT, AAC\n",
      "Aspartic acid: GAT, GAC\n",
      "Cysteine: TGT, TGC\n",
      "Glutamic acid: GAA, GAG\n",
      "Glutamine: CAA, CAG\n",
      "Glycine: GGT, GGC, GGA, GGG\n",
      "Histidine: CAT, CAC\n",
      "Isoleucine: ATT, ATC, ATA\n",
      "Leucine: TTA, TTG, CTT, CTC, CTA, CTG\n",
      "Lysine: AAA, AAG\n",
      "Methionine: ATG\n",
      "Phenylalanine: TTT, TTC\n",
      "Proline: CCT, CCC, CCA, CCG\n",
      "Serine: TCT, TCC, TCA, TCG, AGT, AGC\n",
      "Threonine: ACT, ACC, ACA, ACG\n",
      "Tryptophan: TGG\n",
      "Tyrosine: TAT, TAC\n",
      "Valine: GTT, GTC, GTA, GTG\n"
     ]
    }
   ],
   "source": [
    "print(\"\\nAmino Acid to DNA Base Composition:\")\n",
    "for amino_acid, codons in get_amino_acid_dna_compositions().items():\n",
    "    print(f\"{amino_acid}: {codons}\")"
   ]
  },
  {
   "cell_type": "code",
   "execution_count": 101,
   "metadata": {},
   "outputs": [
    {
     "name": "stdout",
     "output_type": "stream",
     "text": [
      "Random DNA sequence: CGCCCCAAAATG\n",
      "['CGC', 'CCC', 'AAA', 'ATG']\n",
      "Arginine-Proline-Lysine-Methionine\n",
      "Random Amino Acid sequence: RFDVLMYWQH\n",
      "Random Amino Acid sequence with Codons: Lysine(AAA) Glutamic acid(GAG) Threonine(ACT) Tryptophan(TGG) Arginine(AGA) Glycine(GGA) Asparagine(AAC) Tyrosine(TAT) Isoleucine(ATA) Tyrosine(TAC)\n"
     ]
    }
   ],
   "source": [
    "\n",
    "# Example usage\n",
    "if __name__ == \"__main__\":\n",
    "    dna_sequence = generate_random_sequence('dna', 12)  # Generate a random DNA sequence of length 10\n",
    "    amino_sequence = generate_random_sequence('amino', 10)  # Generate a random amino acid sequence of length 10\n",
    "    amino_with_codons = generate_random_amino_sequence_with_codons(10)  # Generate a random amino acid sequence with codons\n",
    "    \n",
    "    print(\"Random DNA sequence:\", dna_sequence)\n",
    "    print(translate_dna_to_codons(dna_sequence))\n",
    "    print(translate_dna_to_amino_acids(dna_sequence))\n",
    "\n",
    "    print(\"Random Amino Acid sequence:\", amino_sequence)\n",
    "    print(\"Random Amino Acid sequence with Codons:\", amino_with_codons)\n"
   ]
  },
  {
   "cell_type": "code",
   "execution_count": 102,
   "metadata": {},
   "outputs": [],
   "source": [
    "def get_hemoglobin_dna_sequence():\n",
    "    \"\"\"Return the DNA sequence coding for a part of hemoglobin protein.\"\"\"\n",
    "    return \"ATGGTGCTGTCTCCTGCCGACAAGACCAACGTCAAGGCC\""
   ]
  },
  {
   "cell_type": "code",
   "execution_count": 103,
   "metadata": {},
   "outputs": [
    {
     "name": "stdout",
     "output_type": "stream",
     "text": [
      "Methionine-Valine-Leucine-Serine-Proline-Alanine-Aspartic acid-Lysine-Threonine-Asparagine-Valine-Lysine-Alanine\n"
     ]
    }
   ],
   "source": [
    "print(translate_dna_to_amino_acids(get_hemoglobin_dna_sequence()))"
   ]
  },
  {
   "cell_type": "markdown",
   "metadata": {},
   "source": [
    "To find the complement of a DNA sequence, we need to replace each nucleotide in the sequence with its complementary base:\n",
    "\n",
    "- Adenine (A) pairs with Thymine (T),  \n",
    "- Thymine (T) pairs with Adenine (A),  \n",
    "- Cytosine (C) pairs with Guanine (G),  \n",
    "- Guanine (G) pairs with Cytosine (C).  "
   ]
  },
  {
   "cell_type": "code",
   "execution_count": 104,
   "metadata": {},
   "outputs": [],
   "source": [
    "def dna_to_complement(dna_sequence):\n",
    "    # Create a dictionary for DNA complementing bases\n",
    "    complement = {'A': 'T', 'T': 'A', 'C': 'G', 'G': 'C'}\n",
    "    \n",
    "    # Generate the complementary DNA sequence\n",
    "    complement_sequence = ''.join(complement[base] for base in dna_sequence)\n",
    "    \n",
    "    return complement_sequence\n",
    "\n",
    "def dna_to_rna(dna_sequence):\n",
    "    '''The dna_complement function uses a dictionary to map each nucleotide to its complement.\n",
    "    It iterates over each base in the DNA sequence and replaces it with the corresponding complementary base using the dictionary.\n",
    "    Finally, the complementary DNA sequence is returned.\n",
    "    '''\n",
    "    # First, get the complementary DNA strand\n",
    "    complementary_dna = dna_to_complement(dna_sequence)\n",
    "    \n",
    "    # Convert the complementary DNA to RNA by replacing T with U\n",
    "    rna_sequence = complementary_dna.replace('T', 'U')\n",
    "    \n",
    "    return rna_sequence"
   ]
  },
  {
   "cell_type": "code",
   "execution_count": 105,
   "metadata": {},
   "outputs": [
    {
     "name": "stdout",
     "output_type": "stream",
     "text": [
      "Complementary RNA Sequence: UACGCAUGCAU\n"
     ]
    }
   ],
   "source": [
    "dna_sequence = \"ATGCGTACGTA\"\n",
    "rna_sequence = dna_to_rna(dna_sequence)\n",
    "print(\"Complementary RNA Sequence:\", rna_sequence)"
   ]
  },
  {
   "cell_type": "code",
   "execution_count": 106,
   "metadata": {},
   "outputs": [
    {
     "name": "stdout",
     "output_type": "stream",
     "text": [
      "DNA Sequence: ATGGTGCTGTCTCCTGCCGACAAGACCAACGTCAAGGCC\n",
      "Complementary RNA Sequence: UACCACGACAGAGGACGGCUGUUCUGGUUGCAGUUCCGG\n"
     ]
    }
   ],
   "source": [
    "dna_sequence = get_hemoglobin_dna_sequence()\n",
    "print(\"DNA Sequence:\", dna_sequence)\n",
    "rna_sequence = dna_to_rna(dna_sequence)\n",
    "print(\"Complementary RNA Sequence:\", rna_sequence)\n"
   ]
  },
  {
   "cell_type": "markdown",
   "metadata": {},
   "source": [
    "![image](DNA_RNA_basis.png)"
   ]
  }
 ],
 "metadata": {
  "kernelspec": {
   "display_name": "Python 3",
   "language": "python",
   "name": "python3"
  },
  "language_info": {
   "codemirror_mode": {
    "name": "ipython",
    "version": 3
   },
   "file_extension": ".py",
   "mimetype": "text/x-python",
   "name": "python",
   "nbconvert_exporter": "python",
   "pygments_lexer": "ipython3",
   "version": "3.12.3"
  }
 },
 "nbformat": 4,
 "nbformat_minor": 2
}
