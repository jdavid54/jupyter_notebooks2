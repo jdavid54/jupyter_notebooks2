{
 "cells": [
  {
   "cell_type": "markdown",
   "metadata": {},
   "source": [
    "![Periodic Table](periodic_table.png)"
   ]
  },
  {
   "cell_type": "markdown",
   "metadata": {},
   "source": [
    "![Orbitals Table](orbitals.jpg)\n"
   ]
  },
  {
   "cell_type": "markdown",
   "metadata": {},
   "source": [
    "![Orbitals Table](distribution_orbitals.png)"
   ]
  },
  {
   "cell_type": "code",
   "execution_count": 26,
   "metadata": {},
   "outputs": [],
   "source": [
    "#import numpy as np\n"
   ]
  },
  {
   "cell_type": "markdown",
   "metadata": {},
   "source": [
    "### ma solution"
   ]
  },
  {
   "cell_type": "code",
   "execution_count": 27,
   "metadata": {},
   "outputs": [],
   "source": [
    "subshells_by_shell = [['1s'],['2s','2p'], ['3s','3p'], ['4s','3d','4p'],['5s','4d','5p'], \n",
    "            ['6s','4f','5d','6p'],['7s','5f','6d','7p']]"
   ]
  },
  {
   "cell_type": "code",
   "execution_count": 28,
   "metadata": {},
   "outputs": [],
   "source": [
    "def subshell_by(shell): \n",
    "    subshells = subshells_by_shell[shell-1]\n",
    "\n",
    "    subshell_capacity = []\n",
    "    for ss in subshells:\n",
    "        if 's' in ss :\n",
    "            subshell_capacity.append(2)\n",
    "        if 'p' in ss :\n",
    "            subshell_capacity.append(6)\n",
    "        if 'd' in ss :\n",
    "            subshell_capacity.append(10)\n",
    "        if 'f' in ss :\n",
    "            subshell_capacity.append(14)\n",
    "    return subshells, subshell_capacity"
   ]
  },
  {
   "cell_type": "code",
   "execution_count": 29,
   "metadata": {},
   "outputs": [
    {
     "data": {
      "text/plain": [
       "(['3s', '3p'], [2, 6])"
      ]
     },
     "execution_count": 29,
     "metadata": {},
     "output_type": "execute_result"
    }
   ],
   "source": [
    "sshell, s_cap = subshell_by(3)\n",
    "sshell, s_cap"
   ]
  },
  {
   "cell_type": "code",
   "execution_count": 30,
   "metadata": {},
   "outputs": [],
   "source": [
    "def electron_config(atomic_number):\n",
    "    electron_config = \"\"\n",
    "    end = False\n",
    "    verif = 0\n",
    "\n",
    "    for shell in range(1,8):\n",
    "        d, c = subshell_by(shell)  # designation, capacity\n",
    "        #print(d,c)\n",
    "        for k in range(len(c)):\n",
    "            if atomic_number >= c[k]:\n",
    "                atomic_number -= c[k]\n",
    "                #print(atomic_number, c[k])\n",
    "                verif += c[k]\n",
    "                electron_config += d[k]+str(c[k])+\"-\"\n",
    "            elif atomic_number > 0:\n",
    "                electron_config += d[k]+str(atomic_number)+\" \" \n",
    "                verif += atomic_number      \n",
    "                end = True\n",
    "                break    \n",
    "        if end: break\n",
    "\n",
    "    return electron_config[:-1]#, verif\n"
   ]
  },
  {
   "cell_type": "code",
   "execution_count": 31,
   "metadata": {},
   "outputs": [
    {
     "name": "stdout",
     "output_type": "stream",
     "text": [
      "Ne 1s2-2s2-2p6\n",
      "Ar 1s2-2s2-2p6-3s2-3p6\n",
      "Kr 1s2-2s2-2p6-3s2-3p6-4s2-3d10-4p6\n",
      "Xe 1s2-2s2-2p6-3s2-3p6-4s2-3d10-4p6-5s2-4d10-5p6\n",
      "Rn 1s2-2s2-2p6-3s2-3p6-4s2-3d10-4p6-5s2-4d10-5p6-6s2-4f14-5d10-6p6\n"
     ]
    }
   ],
   "source": [
    "  \n",
    "# gaz rares\n",
    "rares_bases = []\n",
    "rares_names = ['Ne','Ar','Kr','Xe','Rn']\n",
    "for i,n in enumerate([10,18,36,54,86]):\n",
    "    rares_bases.append(electron_config(n))\n",
    "    print(rares_names[i],electron_config(n))\n",
    "#print(rares_bases)"
   ]
  },
  {
   "cell_type": "code",
   "execution_count": 32,
   "metadata": {},
   "outputs": [
    {
     "data": {
      "text/plain": [
       "(['Ne', 'Ar', 'Kr', 'Xe', 'Rn'],\n",
       " ['1s2-2s2-2p6',\n",
       "  '1s2-2s2-2p6-3s2-3p6',\n",
       "  '1s2-2s2-2p6-3s2-3p6-4s2-3d10-4p6',\n",
       "  '1s2-2s2-2p6-3s2-3p6-4s2-3d10-4p6-5s2-4d10-5p6',\n",
       "  '1s2-2s2-2p6-3s2-3p6-4s2-3d10-4p6-5s2-4d10-5p6-6s2-4f14-5d10-6p6'])"
      ]
     },
     "execution_count": 32,
     "metadata": {},
     "output_type": "execute_result"
    }
   ],
   "source": [
    "rares_names, rares_bases"
   ]
  },
  {
   "cell_type": "code",
   "execution_count": 33,
   "metadata": {},
   "outputs": [
    {
     "data": {
      "text/plain": [
       "'1s2-2s2-2p6-3s2'"
      ]
     },
     "execution_count": 33,
     "metadata": {},
     "output_type": "execute_result"
    }
   ],
   "source": [
    "atomic_number = 12\n",
    "seq = electron_config(atomic_number)\n",
    "seq"
   ]
  },
  {
   "cell_type": "code",
   "execution_count": 34,
   "metadata": {},
   "outputs": [
    {
     "data": {
      "text/plain": [
       "'[Ne] 3s2'"
      ]
     },
     "execution_count": 34,
     "metadata": {},
     "output_type": "execute_result"
    }
   ],
   "source": [
    "def use_base_for(seq):\n",
    "    for r in reversed(range(5)):\n",
    "        #print(seq,rares_bases[r],rares[r])\n",
    "        if rares_bases[r] in seq:\n",
    "            seq = seq.replace(rares_bases[r]+\"-\",\"[\"+rares_names[r]+\"] \")\n",
    "    return seq\n",
    "\n",
    "seq = electron_config(atomic_number)\n",
    "use_base_for(seq)\n"
   ]
  },
  {
   "cell_type": "code",
   "execution_count": 35,
   "metadata": {},
   "outputs": [
    {
     "name": "stdout",
     "output_type": "stream",
     "text": [
      "Cr ( 24 ) :\t [Ar] 4s2-3d4\n",
      "Ni ( 28 ) :\t [Ar] 4s2-3d8\n",
      "Cu ( 29 ) :\t [Ar] 4s2-3d9\n",
      "Nb ( 41 ) :\t [Kr] 5s2-4d3\n",
      "Mo ( 42 ) :\t [Kr] 5s2-4d4\n",
      "Ru ( 44 ) :\t [Kr] 5s2-4d6\n",
      "Rh ( 45 ) :\t [Kr] 5s2-4d7\n",
      "Pd ( 46 ) :\t [Kr] 5s2-4d8\n",
      "Ag ( 47 ) :\t [Kr] 5s2-4d9\n",
      "La ( 57 ) :\t [Xe] 6s2-4f1\n",
      "Ce ( 58 ) :\t [Xe] 6s2-4f2\n",
      "Gd ( 64 ) :\t [Xe] 6s2-4f8\n",
      "Pt ( 78 ) :\t [Xe] 6s2-4f14-5d8\n",
      "Au ( 79 ) :\t [Xe] 6s2-4f14-5d9\n",
      "Ac ( 89 ) :\t [Rn] 7s2-5f1\n",
      "Th ( 90 ) :\t [Rn] 7s2-5f2\n",
      "Pa ( 91 ) :\t [Rn] 7s2-5f3\n",
      "U ( 92 ) :\t [Rn] 7s2-5f4\n",
      "Cm ( 96 ) :\t [Rn] 7s2-5f8\n",
      "Lr ( 103 ) :\t [Rn] 7s2-5f14-6d1\n"
     ]
    }
   ],
   "source": [
    "# exceptions\n",
    "ex = ['Cr','Ni','Cu','Nb','Mo','Ru','Rh','Pd','Ag','La','Ce','Gd','Pt','Au','Ac','Th','Pa','U','Cm','Lr']\n",
    "for i, n in enumerate([24,28,29,41,42,44,45,46,47,57,58,64,78,79,89,90,91,92,96,103]):\n",
    "    print(ex[i],\"(\",n,\")\",\":\\t\",use_base_for(electron_config(n)))"
   ]
  },
  {
   "cell_type": "markdown",
   "metadata": {},
   "source": [
    "# Exceptions"
   ]
  },
  {
   "cell_type": "markdown",
   "metadata": {},
   "source": [
    "![Exceptions](orbitals_exceptions.png \"icon\")"
   ]
  },
  {
   "cell_type": "markdown",
   "metadata": {},
   "source": [
    "# get elements table from web page"
   ]
  },
  {
   "cell_type": "code",
   "execution_count": 36,
   "metadata": {},
   "outputs": [],
   "source": [
    "url = \"https://en.wikipedia.org/wiki/List_of_chemical_elements\"\n",
    "import pandas as pd\n",
    "tables = pd.read_html(url)[0] \n",
    "# default flavor='lxml'\n"
   ]
  },
  {
   "cell_type": "code",
   "execution_count": 37,
   "metadata": {},
   "outputs": [],
   "source": [
    "# rename level 0\n",
    "tables.columns = tables.columns.set_levels(['List of chemical elements'],level=0)"
   ]
  },
  {
   "cell_type": "code",
   "execution_count": 38,
   "metadata": {},
   "outputs": [],
   "source": [
    "# drop index 0\n",
    "tables.drop(0, inplace=True)"
   ]
  },
  {
   "cell_type": "code",
   "execution_count": 39,
   "metadata": {},
   "outputs": [
    {
     "data": {
      "text/plain": [
       "Index(['Abundance in Earth's crust[h]', 'Block', 'Boiling point[e]',\n",
       "       'Density[b][c]', 'Electro­negativity[g]', 'Element', 'Group',\n",
       "       'Melting point[d]', 'Origin of name[2][3]', 'Origin[i]', 'Period',\n",
       "       'Phase at r.t.[j]', 'Specific heat capacity[f]',\n",
       "       'Standard atomic weight .mw-parser-output .nobold{font-weight:normal}Ar°(E)[a]'],\n",
       "      dtype='object')"
      ]
     },
     "execution_count": 39,
     "metadata": {},
     "output_type": "execute_result"
    }
   ],
   "source": [
    "# old names level 1\n",
    "tables.columns.levels[1]"
   ]
  },
  {
   "cell_type": "code",
   "execution_count": 40,
   "metadata": {},
   "outputs": [],
   "source": [
    "# new names level 1\n",
    "new_level1 = ['Abundance in Earth\\'s crust', 'Block', 'Boiling point',\n",
    "       'Density', 'Electro­negativity', 'Element', 'Group',\n",
    "       'Melting point', 'Origin of name', 'Origin', 'Period',\n",
    "       'Phase at room temp', 'Specific heat capacity',\n",
    "       'Standard atomic weight']\n",
    "#new"
   ]
  },
  {
   "cell_type": "code",
   "execution_count": 41,
   "metadata": {},
   "outputs": [
    {
     "data": {
      "text/plain": [
       "Index(['(Da)', '(J/g · K)', '(K)', '(mg/kg)',\n",
       "       '('\"`UNIQ--templatestyles-0000001A-QINU`\"'g/cm3)', 'Atomic number Z',\n",
       "       'Name', 'Symbol', 'Unnamed: 12_level_2', 'Unnamed: 14_level_2',\n",
       "       'Unnamed: 15_level_2', 'Unnamed: 3_level_2', 'Unnamed: 4_level_2',\n",
       "       'Unnamed: 5_level_2', 'Unnamed: 6_level_2'],\n",
       "      dtype='object')"
      ]
     },
     "execution_count": 41,
     "metadata": {},
     "output_type": "execute_result"
    }
   ],
   "source": [
    "tables.columns.levels[2]"
   ]
  },
  {
   "cell_type": "code",
   "execution_count": 42,
   "metadata": {},
   "outputs": [],
   "source": [
    "new_level2 = ['(Da)', '(J/g · K)', '(K)', '(mg/kg)',\n",
    "       '(g/cm3)', 'Atomic number Z',\n",
    "       'Name', 'Symbol', '12_level_2', '14_level_2',\n",
    "       '15_level_2', '3_level_2', '4_level_2',\n",
    "       '5_level_2', '6_level_2', 'Electron Config']"
   ]
  },
  {
   "cell_type": "markdown",
   "metadata": {},
   "source": [
    "# change level names\n"
   ]
  },
  {
   "cell_type": "code",
   "execution_count": 43,
   "metadata": {},
   "outputs": [],
   "source": [
    "tables.columns = tables.columns.set_levels(new_level1,level=1)\n",
    "tables.columns = tables.columns.set_levels(new_level2,level=2)"
   ]
  },
  {
   "cell_type": "code",
   "execution_count": 44,
   "metadata": {},
   "outputs": [
    {
     "data": {
      "text/html": [
       "<div>\n",
       "<style scoped>\n",
       "    .dataframe tbody tr th:only-of-type {\n",
       "        vertical-align: middle;\n",
       "    }\n",
       "\n",
       "    .dataframe tbody tr th {\n",
       "        vertical-align: top;\n",
       "    }\n",
       "\n",
       "    .dataframe thead tr th {\n",
       "        text-align: left;\n",
       "    }\n",
       "</style>\n",
       "<table border=\"1\" class=\"dataframe\">\n",
       "  <thead>\n",
       "    <tr>\n",
       "      <th></th>\n",
       "      <th colspan=\"16\" halign=\"left\">List of chemical elements</th>\n",
       "    </tr>\n",
       "    <tr>\n",
       "      <th></th>\n",
       "      <th colspan=\"3\" halign=\"left\">Element</th>\n",
       "      <th>Origin of name</th>\n",
       "      <th>Group</th>\n",
       "      <th>Period</th>\n",
       "      <th>Block</th>\n",
       "      <th>Standard atomic weight</th>\n",
       "      <th>Density</th>\n",
       "      <th>Melting point</th>\n",
       "      <th>Boiling point</th>\n",
       "      <th>Specific heat capacity</th>\n",
       "      <th>Electro­negativity</th>\n",
       "      <th>Abundance in Earth's crust</th>\n",
       "      <th>Origin</th>\n",
       "      <th>Phase at room temp</th>\n",
       "    </tr>\n",
       "    <tr>\n",
       "      <th></th>\n",
       "      <th>Atomic number Z</th>\n",
       "      <th>Symbol</th>\n",
       "      <th>Name</th>\n",
       "      <th>3_level_2</th>\n",
       "      <th>4_level_2</th>\n",
       "      <th>5_level_2</th>\n",
       "      <th>6_level_2</th>\n",
       "      <th>(Da)</th>\n",
       "      <th>(g/cm3)</th>\n",
       "      <th>(K)</th>\n",
       "      <th>(K)</th>\n",
       "      <th>(J/g · K)</th>\n",
       "      <th>12_level_2</th>\n",
       "      <th>(mg/kg)</th>\n",
       "      <th>14_level_2</th>\n",
       "      <th>15_level_2</th>\n",
       "    </tr>\n",
       "  </thead>\n",
       "  <tbody>\n",
       "    <tr>\n",
       "      <th>1</th>\n",
       "      <td>1.0</td>\n",
       "      <td>H</td>\n",
       "      <td>Hydrogen</td>\n",
       "      <td>Greek elements hydro- and -gen, 'water-forming'</td>\n",
       "      <td>1</td>\n",
       "      <td>1.0</td>\n",
       "      <td>s-block</td>\n",
       "      <td>1.0080</td>\n",
       "      <td>0.00008988</td>\n",
       "      <td>14.01</td>\n",
       "      <td>20.28</td>\n",
       "      <td>14.304</td>\n",
       "      <td>2.20</td>\n",
       "      <td>1400</td>\n",
       "      <td>primordial</td>\n",
       "      <td>gas</td>\n",
       "    </tr>\n",
       "    <tr>\n",
       "      <th>2</th>\n",
       "      <td>2.0</td>\n",
       "      <td>He</td>\n",
       "      <td>Helium</td>\n",
       "      <td>Greek hḗlios, 'sun'</td>\n",
       "      <td>18</td>\n",
       "      <td>1.0</td>\n",
       "      <td>s-block</td>\n",
       "      <td>4.0026</td>\n",
       "      <td>0.0001785</td>\n",
       "      <td>–[k]</td>\n",
       "      <td>4.22</td>\n",
       "      <td>5.193</td>\n",
       "      <td>–</td>\n",
       "      <td>0.008</td>\n",
       "      <td>primordial</td>\n",
       "      <td>gas</td>\n",
       "    </tr>\n",
       "    <tr>\n",
       "      <th>3</th>\n",
       "      <td>3.0</td>\n",
       "      <td>Li</td>\n",
       "      <td>Lithium</td>\n",
       "      <td>Greek líthos, 'stone'</td>\n",
       "      <td>1</td>\n",
       "      <td>2.0</td>\n",
       "      <td>s-block</td>\n",
       "      <td>6.94</td>\n",
       "      <td>0.534</td>\n",
       "      <td>453.69</td>\n",
       "      <td>1560</td>\n",
       "      <td>3.582</td>\n",
       "      <td>0.98</td>\n",
       "      <td>20</td>\n",
       "      <td>primordial</td>\n",
       "      <td>solid</td>\n",
       "    </tr>\n",
       "    <tr>\n",
       "      <th>4</th>\n",
       "      <td>4.0</td>\n",
       "      <td>Be</td>\n",
       "      <td>Beryllium</td>\n",
       "      <td>Beryl, a mineral (ultimately from the name of ...</td>\n",
       "      <td>2</td>\n",
       "      <td>2.0</td>\n",
       "      <td>s-block</td>\n",
       "      <td>9.0122</td>\n",
       "      <td>1.85</td>\n",
       "      <td>1560</td>\n",
       "      <td>2742</td>\n",
       "      <td>1.825</td>\n",
       "      <td>1.57</td>\n",
       "      <td>2.8</td>\n",
       "      <td>primordial</td>\n",
       "      <td>solid</td>\n",
       "    </tr>\n",
       "    <tr>\n",
       "      <th>5</th>\n",
       "      <td>5.0</td>\n",
       "      <td>B</td>\n",
       "      <td>Boron</td>\n",
       "      <td>Borax, a mineral (from Arabic bawraq, Middle P...</td>\n",
       "      <td>13</td>\n",
       "      <td>2.0</td>\n",
       "      <td>p-block</td>\n",
       "      <td>10.81</td>\n",
       "      <td>2.34</td>\n",
       "      <td>2349</td>\n",
       "      <td>4200</td>\n",
       "      <td>1.026</td>\n",
       "      <td>2.04</td>\n",
       "      <td>10</td>\n",
       "      <td>primordial</td>\n",
       "      <td>solid</td>\n",
       "    </tr>\n",
       "    <tr>\n",
       "      <th>6</th>\n",
       "      <td>6.0</td>\n",
       "      <td>C</td>\n",
       "      <td>Carbon</td>\n",
       "      <td>Latin carbo, 'coal'</td>\n",
       "      <td>14</td>\n",
       "      <td>2.0</td>\n",
       "      <td>p-block</td>\n",
       "      <td>12.011</td>\n",
       "      <td>2.267</td>\n",
       "      <td>&gt;4000</td>\n",
       "      <td>4300</td>\n",
       "      <td>0.709</td>\n",
       "      <td>2.55</td>\n",
       "      <td>200</td>\n",
       "      <td>primordial</td>\n",
       "      <td>solid</td>\n",
       "    </tr>\n",
       "    <tr>\n",
       "      <th>7</th>\n",
       "      <td>7.0</td>\n",
       "      <td>N</td>\n",
       "      <td>Nitrogen</td>\n",
       "      <td>Greek nítron and -gen, 'niter-forming'</td>\n",
       "      <td>15</td>\n",
       "      <td>2.0</td>\n",
       "      <td>p-block</td>\n",
       "      <td>14.007</td>\n",
       "      <td>0.0012506</td>\n",
       "      <td>63.15</td>\n",
       "      <td>77.36</td>\n",
       "      <td>1.04</td>\n",
       "      <td>3.04</td>\n",
       "      <td>19</td>\n",
       "      <td>primordial</td>\n",
       "      <td>gas</td>\n",
       "    </tr>\n",
       "    <tr>\n",
       "      <th>8</th>\n",
       "      <td>8.0</td>\n",
       "      <td>O</td>\n",
       "      <td>Oxygen</td>\n",
       "      <td>Greek oxy- and -gen, 'acid-forming'</td>\n",
       "      <td>16</td>\n",
       "      <td>2.0</td>\n",
       "      <td>p-block</td>\n",
       "      <td>15.999</td>\n",
       "      <td>0.001429</td>\n",
       "      <td>54.36</td>\n",
       "      <td>90.20</td>\n",
       "      <td>0.918</td>\n",
       "      <td>3.44</td>\n",
       "      <td>461000</td>\n",
       "      <td>primordial</td>\n",
       "      <td>gas</td>\n",
       "    </tr>\n",
       "    <tr>\n",
       "      <th>9</th>\n",
       "      <td>9.0</td>\n",
       "      <td>F</td>\n",
       "      <td>Fluorine</td>\n",
       "      <td>Latin fluere, 'to flow'</td>\n",
       "      <td>17</td>\n",
       "      <td>2.0</td>\n",
       "      <td>p-block</td>\n",
       "      <td>18.998</td>\n",
       "      <td>0.001696</td>\n",
       "      <td>53.53</td>\n",
       "      <td>85.03</td>\n",
       "      <td>0.824</td>\n",
       "      <td>3.98</td>\n",
       "      <td>585</td>\n",
       "      <td>primordial</td>\n",
       "      <td>gas</td>\n",
       "    </tr>\n",
       "    <tr>\n",
       "      <th>10</th>\n",
       "      <td>10.0</td>\n",
       "      <td>Ne</td>\n",
       "      <td>Neon</td>\n",
       "      <td>Greek néon, 'new'</td>\n",
       "      <td>18</td>\n",
       "      <td>2.0</td>\n",
       "      <td>p-block</td>\n",
       "      <td>20.180</td>\n",
       "      <td>0.0009002</td>\n",
       "      <td>24.56</td>\n",
       "      <td>27.07</td>\n",
       "      <td>1.03</td>\n",
       "      <td>–</td>\n",
       "      <td>0.005</td>\n",
       "      <td>primordial</td>\n",
       "      <td>gas</td>\n",
       "    </tr>\n",
       "  </tbody>\n",
       "</table>\n",
       "</div>"
      ],
      "text/plain": [
       "   List of chemical elements                    \\\n",
       "                     Element                     \n",
       "             Atomic number Z Symbol       Name   \n",
       "1                        1.0      H   Hydrogen   \n",
       "2                        2.0     He     Helium   \n",
       "3                        3.0     Li    Lithium   \n",
       "4                        4.0     Be  Beryllium   \n",
       "5                        5.0      B      Boron   \n",
       "6                        6.0      C     Carbon   \n",
       "7                        7.0      N   Nitrogen   \n",
       "8                        8.0      O     Oxygen   \n",
       "9                        9.0      F   Fluorine   \n",
       "10                      10.0     Ne       Neon   \n",
       "\n",
       "                                                                           \\\n",
       "                                       Origin of name     Group    Period   \n",
       "                                            3_level_2 4_level_2 5_level_2   \n",
       "1     Greek elements hydro- and -gen, 'water-forming'         1       1.0   \n",
       "2                                 Greek hḗlios, 'sun'        18       1.0   \n",
       "3                               Greek líthos, 'stone'         1       2.0   \n",
       "4   Beryl, a mineral (ultimately from the name of ...         2       2.0   \n",
       "5   Borax, a mineral (from Arabic bawraq, Middle P...        13       2.0   \n",
       "6                                 Latin carbo, 'coal'        14       2.0   \n",
       "7              Greek nítron and -gen, 'niter-forming'        15       2.0   \n",
       "8                 Greek oxy- and -gen, 'acid-forming'        16       2.0   \n",
       "9                             Latin fluere, 'to flow'        17       2.0   \n",
       "10                                  Greek néon, 'new'        18       2.0   \n",
       "\n",
       "                                                                             \\\n",
       "       Block Standard atomic weight     Density Melting point Boiling point   \n",
       "   6_level_2                   (Da)     (g/cm3)           (K)           (K)   \n",
       "1    s-block                 1.0080  0.00008988         14.01         20.28   \n",
       "2    s-block                 4.0026   0.0001785          –[k]          4.22   \n",
       "3    s-block                   6.94       0.534        453.69          1560   \n",
       "4    s-block                 9.0122        1.85          1560          2742   \n",
       "5    p-block                  10.81        2.34          2349          4200   \n",
       "6    p-block                 12.011       2.267         >4000          4300   \n",
       "7    p-block                 14.007   0.0012506         63.15         77.36   \n",
       "8    p-block                 15.999    0.001429         54.36         90.20   \n",
       "9    p-block                 18.998    0.001696         53.53         85.03   \n",
       "10   p-block                 20.180   0.0009002         24.56         27.07   \n",
       "\n",
       "                                                                         \\\n",
       "   Specific heat capacity Electro­negativity Abundance in Earth's crust   \n",
       "                (J/g · K)         12_level_2                    (mg/kg)   \n",
       "1                  14.304               2.20                       1400   \n",
       "2                   5.193                  –                      0.008   \n",
       "3                   3.582               0.98                         20   \n",
       "4                   1.825               1.57                        2.8   \n",
       "5                   1.026               2.04                         10   \n",
       "6                   0.709               2.55                        200   \n",
       "7                    1.04               3.04                         19   \n",
       "8                   0.918               3.44                     461000   \n",
       "9                   0.824               3.98                        585   \n",
       "10                   1.03                  –                      0.005   \n",
       "\n",
       "                                   \n",
       "        Origin Phase at room temp  \n",
       "    14_level_2         15_level_2  \n",
       "1   primordial                gas  \n",
       "2   primordial                gas  \n",
       "3   primordial              solid  \n",
       "4   primordial              solid  \n",
       "5   primordial              solid  \n",
       "6   primordial              solid  \n",
       "7   primordial                gas  \n",
       "8   primordial                gas  \n",
       "9   primordial                gas  \n",
       "10  primordial                gas  "
      ]
     },
     "execution_count": 44,
     "metadata": {},
     "output_type": "execute_result"
    }
   ],
   "source": [
    "tables.head(10)"
   ]
  },
  {
   "cell_type": "code",
   "execution_count": 45,
   "metadata": {},
   "outputs": [],
   "source": [
    "# result\n",
    "# tables.info()\n",
    "# tables.__dict__['_mgr']\n",
    "# list(tables.columns.to_flat_index())[:3]"
   ]
  },
  {
   "cell_type": "code",
   "execution_count": 46,
   "metadata": {},
   "outputs": [],
   "source": [
    "atomic_numbers = tables['List of chemical elements']['Element']['Atomic number Z']\n",
    "symbols = tables['List of chemical elements']['Element']['Symbol']\n"
   ]
  },
  {
   "cell_type": "code",
   "execution_count": 47,
   "metadata": {},
   "outputs": [],
   "source": [
    "electron_config = [use_base_for(electron_config(int(n))) for n in atomic_numbers]\n"
   ]
  },
  {
   "cell_type": "code",
   "execution_count": 48,
   "metadata": {},
   "outputs": [],
   "source": [
    "position = 3\n",
    "tables.insert(position, ('List of chemical elements','Element','Electron Config'), electron_config)"
   ]
  },
  {
   "cell_type": "code",
   "execution_count": 49,
   "metadata": {},
   "outputs": [
    {
     "name": "stdout",
     "output_type": "stream",
     "text": [
      "<class 'pandas.core.frame.DataFrame'>\n",
      "RangeIndex: 118 entries, 1 to 118\n",
      "Data columns (total 17 columns):\n",
      " #   Column                                                            Non-Null Count  Dtype  \n",
      "---  ------                                                            --------------  -----  \n",
      " 0   (List of chemical elements, Element, Atomic number Z)             118 non-null    float64\n",
      " 1   (List of chemical elements, Element, Symbol)                      118 non-null    object \n",
      " 2   (List of chemical elements, Element, Name)                        118 non-null    object \n",
      " 3   (List of chemical elements, Element, Electron Config)             118 non-null    object \n",
      " 4   (List of chemical elements, Origin of name, 3_level_2)            118 non-null    object \n",
      " 5   (List of chemical elements, Group, 4_level_2)                     118 non-null    object \n",
      " 6   (List of chemical elements, Period, 5_level_2)                    118 non-null    float64\n",
      " 7   (List of chemical elements, Block, 6_level_2)                     118 non-null    object \n",
      " 8   (List of chemical elements, Standard atomic weight, (Da))         118 non-null    object \n",
      " 9   (List of chemical elements, Density, (g/cm3))                     118 non-null    object \n",
      " 10  (List of chemical elements, Melting point, (K))                   118 non-null    object \n",
      " 11  (List of chemical elements, Boiling point, (K))                   118 non-null    object \n",
      " 12  (List of chemical elements, Specific heat capacity, (J/g · K))    118 non-null    object \n",
      " 13  (List of chemical elements, Electro­negativity, 12_level_2)       118 non-null    object \n",
      " 14  (List of chemical elements, Abundance in Earth's crust, (mg/kg))  118 non-null    object \n",
      " 15  (List of chemical elements, Origin, 14_level_2)                   118 non-null    object \n",
      " 16  (List of chemical elements, Phase at room temp, 15_level_2)       118 non-null    object \n",
      "dtypes: float64(2), object(15)\n",
      "memory usage: 15.8+ KB\n"
     ]
    }
   ],
   "source": [
    "# append at the end\n",
    "#tables['List of chemical elements','Element','Electron Config']=electron_config\n",
    "#tables = tables.sort_index(axis=1)\n",
    "tables.info()\n"
   ]
  },
  {
   "cell_type": "code",
   "execution_count": 50,
   "metadata": {},
   "outputs": [
    {
     "data": {
      "text/plain": [
       "List of chemical elements  Element                     Atomic number Z                                              25.0\n",
       "                                                       Symbol                                                         Mn\n",
       "                                                       Name                                                    Manganese\n",
       "                                                       Electron Config                                      [Ar] 4s2-3d5\n",
       "                           Origin of name              3_level_2          Corrupted from magnesia negra; see § magnesium\n",
       "                           Group                       4_level_2                                                       7\n",
       "                           Period                      5_level_2                                                     4.0\n",
       "                           Block                       6_level_2                                                 d-block\n",
       "                           Standard atomic weight      (Da)                                                       54.938\n",
       "                           Density                     (g/cm3)                                                      7.21\n",
       "                           Melting point               (K)                                                          1519\n",
       "                           Boiling point               (K)                                                          2334\n",
       "                           Specific heat capacity      (J/g · K)                                                   0.479\n",
       "                           Electro­negativity          12_level_2                                                   1.55\n",
       "                           Abundance in Earth's crust  (mg/kg)                                                       950\n",
       "                           Origin                      14_level_2                                             primordial\n",
       "                           Phase at room temp          15_level_2                                                  solid\n",
       "Name: 25, dtype: object"
      ]
     },
     "execution_count": 50,
     "metadata": {},
     "output_type": "execute_result"
    }
   ],
   "source": [
    "tables.loc[25]"
   ]
  }
 ],
 "metadata": {
  "kernelspec": {
   "display_name": "Python 3",
   "language": "python",
   "name": "python3"
  },
  "language_info": {
   "codemirror_mode": {
    "name": "ipython",
    "version": 3
   },
   "file_extension": ".py",
   "mimetype": "text/x-python",
   "name": "python",
   "nbconvert_exporter": "python",
   "pygments_lexer": "ipython3",
   "version": "3.10.11"
  },
  "orig_nbformat": 4
 },
 "nbformat": 4,
 "nbformat_minor": 2
}
