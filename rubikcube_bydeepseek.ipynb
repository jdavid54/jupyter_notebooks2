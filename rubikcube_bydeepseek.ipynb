{
 "cells": [
  {
   "cell_type": "code",
   "execution_count": 213,
   "metadata": {},
   "outputs": [],
   "source": [
    "\"\"\"\n",
    "Rotates a specified face of the Rubik's Cube and updates the adjacent subfaces.\n",
    "\n",
    ":param cube: List of 54 elements representing the cube's subfaces.\n",
    ":param face: The face to rotate (0: Front, 1: Back, 2: Left, 3: Right, 4: Up, 5: Down).\n",
    ":param clockwise: Boolean indicating the direction of rotation (True for clockwise, False for counterclockwise).\n",
    ":return: The updated cube after the rotation.\n",
    "\"\"\"\n",
    "# Define the subfaces for each face\n",
    "faces = {\n",
    "    0: [19, 20, 21, 22, 23, 24, 25, 26, 27],  # Front face        \n",
    "    1: [37, 38, 39, 40, 41, 42, 43, 44, 45],  # Back face \n",
    "    2: [10, 11, 12, 13, 14, 15, 16, 17, 18],  # Left face \n",
    "    3: [28, 29, 30, 31, 32, 33, 34, 35, 36],  # Right face\n",
    "    4: [1, 2, 3, 4, 5, 6, 7, 8, 9],  # Up face\n",
    "    5: [46, 47, 48, 49, 50, 51, 52, 53, 54]   # Down face\n",
    "}\n",
    "\n",
    "\n",
    "# Define the adjacent subfaces for each face\n",
    "adjacent_faces = {\n",
    "    0: {  # Front face\n",
    "        'up': [7, 8, 9],\n",
    "        'right': [28,31,34],\n",
    "        'down': [46, 47, 48],\n",
    "        'left': [12, 15, 18]\n",
    "    },\n",
    "    1: {  # Back face\n",
    "        'up': [3,2,1],\n",
    "        'left': [30, 33, 36],\n",
    "        'down': [54, 53, 52],\n",
    "        'right': [10, 13, 16]\n",
    "    },\n",
    "    2: {  # Left face\n",
    "        'right': [19, 22, 25],\n",
    "        'up': [1, 4, 7],\n",
    "        'down': [52, 49, 46],\n",
    "        'left': [39, 42, 45]\n",
    "    },\n",
    "    3: {  # Right face\n",
    "        'left': [21, 24, 27],\n",
    "        'right': [37, 40, 43],\n",
    "        'down': [48, 51, 54],\n",
    "        'up': [9, 6, 3]\n",
    "    },\n",
    "    4: {  # Up face\n",
    "        'up': [39, 38, 37],\n",
    "        'right': [30, 29, 28],\n",
    "        'down': [19, 20, 21],\n",
    "        'left': [10, 11, 12]\n",
    "    },\n",
    "    5: {  # Down face\n",
    "        'up': [25, 26, 27],\n",
    "        'right': [34, 35, 36],\n",
    "        'down': [45, 44, 43],\n",
    "        'left': [18, 17, 16]\n",
    "    }\n",
    "}\n",
    "\n"
   ]
  },
  {
   "cell_type": "code",
   "execution_count": 214,
   "metadata": {},
   "outputs": [],
   "source": [
    "def rotate_face(cube, face, clockwise=True):\n",
    "    \n",
    "    # Get the subfaces of the specified face\n",
    "    face_indices = faces[face]\n",
    "\n",
    "    # Extract the current values of the subfaces\n",
    "    current_face = [cube[i-1] for i in face_indices]\n",
    "\n",
    "    # Rotate the face\n",
    "    if clockwise:\n",
    "        # Clockwise rotation\n",
    "        rotated_face = [current_face[6], current_face[3], current_face[0],\n",
    "                        current_face[7], current_face[4], current_face[1],\n",
    "                        current_face[8], current_face[5], current_face[2]]\n",
    "    else:\n",
    "        # Counterclockwise rotation\n",
    "        rotated_face = [current_face[2], current_face[5], current_face[8],\n",
    "                        current_face[1], current_face[4], current_face[7],\n",
    "                        current_face[0], current_face[3], current_face[6]]\n",
    "\n",
    "    # Update the cube with the rotated face\n",
    "    for i, value in zip(face_indices, rotated_face):\n",
    "        cube[i-1] = value\n",
    "\n",
    "    # Update the adjacent subfaces\n",
    "    adjacent = adjacent_faces[face]\n",
    "    if clockwise:\n",
    "        # Clockwise rotation of adjacent subfaces\n",
    "        temp = [cube[i-1] for i in adjacent['up']]\n",
    "        cube[adjacent['up'][0]-1], cube[adjacent['up'][1]-1], cube[adjacent['up'][2]-1] = \\\n",
    "            cube[adjacent['left'][2]-1], cube[adjacent['left'][1]-1], cube[adjacent['left'][0]-1]\n",
    "        cube[adjacent['left'][0]-1], cube[adjacent['left'][1]-1], cube[adjacent['left'][2]-1] = \\\n",
    "            cube[adjacent['down'][0]-1], cube[adjacent['down'][1]-1], cube[adjacent['down'][2]-1]\n",
    "        cube[adjacent['down'][0]-1], cube[adjacent['down'][1]-1], cube[adjacent['down'][2]-1] = \\\n",
    "            cube[adjacent['right'][2]-1], cube[adjacent['right'][1]-1], cube[adjacent['right'][0]-1]\n",
    "        cube[adjacent['right'][0]-1], cube[adjacent['right'][1]-1], cube[adjacent['right'][2]-1] = \\\n",
    "            temp[0], temp[1], temp[2]\n",
    "    else:\n",
    "        # Counterclockwise rotation of adjacent subfaces\n",
    "        temp = [cube[i-1] for i in adjacent['up']]\n",
    "        cube[adjacent['up'][0]-1], cube[adjacent['up'][1]-1], cube[adjacent['up'][2]-1] = \\\n",
    "            cube[adjacent['right'][0]-1], cube[adjacent['right'][1]-1], cube[adjacent['right'][2]-1]\n",
    "        cube[adjacent['right'][0]-1], cube[adjacent['right'][1]-1], cube[adjacent['right'][2]-1] = \\\n",
    "            cube[adjacent['down'][2]-1], cube[adjacent['down'][1]-1], cube[adjacent['down'][0]-1]\n",
    "        cube[adjacent['down'][0]-1], cube[adjacent['down'][1]-1], cube[adjacent['down'][2]-1] = \\\n",
    "            cube[adjacent['left'][0]-1], cube[adjacent['left'][1]-1], cube[adjacent['left'][2]-1]\n",
    "        cube[adjacent['left'][0]-1], cube[adjacent['left'][1]-1], cube[adjacent['left'][2]-1] = \\\n",
    "            temp[2], temp[1], temp[0]\n",
    "\n",
    "    return cube\n"
   ]
  },
  {
   "cell_type": "code",
   "execution_count": 215,
   "metadata": {},
   "outputs": [],
   "source": [
    "def printcube(cube):\n",
    "    # print up face (yellow)\n",
    "    print('             ',cube[0:3])\n",
    "    print('             ',cube[3:6])\n",
    "    print('             ',cube[6:9])\n",
    "    # print 4 lateral faces (blue, red, green, orange)\n",
    "    print(cube[9:12],cube[18:21],cube[27:30],cube[36:39])\n",
    "    print(cube[12:15],cube[21:24],cube[30:33],cube[39:42])\n",
    "    print(cube[15:18],cube[24:27],cube[33:36],cube[42:45])\n",
    "    #print down face (white)\n",
    "    print('            ',cube[45:48])\n",
    "    print('            ',cube[48:51])\n",
    "    print('            ',cube[51:54])\n",
    "    print()\n",
    "    "
   ]
  },
  {
   "cell_type": "code",
   "execution_count": 219,
   "metadata": {},
   "outputs": [
    {
     "name": "stdout",
     "output_type": "stream",
     "text": [
      "              [1, 2, 3]\n",
      "              [4, 5, 6]\n",
      "              [7, 8, 9]\n",
      "[10, 11, 12] [19, 20, 21] [28, 29, 30] [37, 38, 39]\n",
      "[13, 14, 15] [22, 23, 24] [31, 32, 33] [40, 41, 42]\n",
      "[16, 17, 18] [25, 26, 27] [34, 35, 36] [43, 44, 45]\n",
      "             [46, 47, 48]\n",
      "             [49, 50, 51]\n",
      "             [52, 53, 54]\n",
      "\n"
     ]
    }
   ],
   "source": [
    "\n",
    "# Example usage:\n",
    "# Initialize the cube with subfaces numbered from 1 to 54\n",
    "cube = list(range(1, 55))\n",
    "# Print the updated cube\n",
    "printcube(cube)\n"
   ]
  },
  {
   "cell_type": "code",
   "execution_count": 217,
   "metadata": {},
   "outputs": [
    {
     "name": "stdout",
     "output_type": "stream",
     "text": [
      "              [1, 2, 3]\n",
      "              [4, 5, 6]\n",
      "              [7, 8, 9]\n",
      "[10, 11, 12] [19, 20, 21] [28, 29, 30] [37, 38, 39]\n",
      "[13, 14, 15] [22, 23, 24] [31, 32, 33] [40, 41, 42]\n",
      "[43, 44, 45] [16, 17, 18] [25, 26, 27] [34, 35, 36]\n",
      "             [52, 49, 46]\n",
      "             [53, 50, 47]\n",
      "             [54, 51, 48]\n",
      "\n"
     ]
    }
   ],
   "source": [
    "\n",
    "# Rotate the front face clockwise\n",
    "cube = rotate_face2(cube, face=0, clockwise=True)\n",
    "printcube(cube)"
   ]
  },
  {
   "cell_type": "code",
   "execution_count": 218,
   "metadata": {},
   "outputs": [
    {
     "name": "stdout",
     "output_type": "stream",
     "text": [
      "              [1, 2, 3]\n",
      "              [4, 5, 6]\n",
      "              [7, 8, 9]\n",
      "[10, 11, 12] [19, 20, 21] [28, 29, 30] [37, 38, 39]\n",
      "[13, 14, 15] [22, 23, 24] [31, 32, 33] [40, 41, 42]\n",
      "[16, 17, 18] [25, 26, 27] [34, 35, 36] [43, 44, 45]\n",
      "             [46, 47, 48]\n",
      "             [49, 50, 51]\n",
      "             [52, 53, 54]\n",
      "\n"
     ]
    }
   ],
   "source": [
    "# Rotate the up face counterclockwise\n",
    "cube = rotate_face2(cube, face=5, clockwise=False)\n",
    "\n",
    "# Print the updated cube\n",
    "printcube(cube)"
   ]
  }
 ],
 "metadata": {
  "kernelspec": {
   "display_name": "Python 3",
   "language": "python",
   "name": "python3"
  },
  "language_info": {
   "codemirror_mode": {
    "name": "ipython",
    "version": 3
   },
   "file_extension": ".py",
   "mimetype": "text/x-python",
   "name": "python",
   "nbconvert_exporter": "python",
   "pygments_lexer": "ipython3",
   "version": "3.12.8"
  }
 },
 "nbformat": 4,
 "nbformat_minor": 2
}
