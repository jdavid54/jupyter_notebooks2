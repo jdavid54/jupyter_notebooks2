{
 "cells": [
  {
   "cell_type": "code",
   "execution_count": null,
   "metadata": {},
   "outputs": [],
   "source": [
    "#!/usr/bin/env python\n",
    "# coding: utf-8\n",
    "import numpy as np\n",
    "debug = False"
   ]
  },
  {
   "cell_type": "code",
   "execution_count": null,
   "metadata": {},
   "outputs": [],
   "source": [
    "class Node():\n",
    "    descendants = []\n",
    "    MAX = 10000\n",
    "    \n",
    "    def __init__(self, name,left, right, value, isMax=True):\n",
    "        self.name = name\n",
    "        self.left = left\n",
    "        self.right = right\n",
    "        self.alpha = -Node.MAX\n",
    "        self.beta = Node.MAX\n",
    "        self.value = value\n",
    "        self.isMax = isMax\n",
    "       \n",
    "    def __str__(self):\n",
    "        return '('+self.name+','+str(self.alpha)+','+str(self.beta)+','+str(self.left)+','+str(self.right)+','+str(self.value)+','+str(self.isMax)+')'\n",
    "    \n",
    "    def isTerminal(self):\n",
    "        return self.left == None\n",
    "    \n",
    "    def children(self):\n",
    "        print(self.left.name + ',' + self.right.name +'(ligne25)')\n",
    "        return [{'left' : self.left, 'right' : self.right}]\n",
    "    \n",
    "    def __all_children(self):   #private method\n",
    "        if self.isTerminal():\n",
    "            #if debug : print(self.name,'terminal')\n",
    "            return\n",
    "        else:\n",
    "            if debug : print(self.name, 'parent')\n",
    "            self.left.__all_children()\n",
    "            self.right.__all_children()\n",
    "            Node.descendants.append({'left' : self.left, 'right' : self.right})\n",
    "            return Node.descendants\n",
    "    \n",
    "    def all_children(self):  \n",
    "        Node.descendants = []\n",
    "        return self.__all_children()\n",
    "    \n",
    "    def Max_value(self):\n",
    "        if self.isTerminal(): return self.value\n",
    "        v = -Node.MAX\n",
    "        for c in self.children():\n",
    "            for side in ('left', 'right'):\n",
    "                w = c[side].Min_value()\n",
    "                if w > v : v = w\n",
    "                if w >= self.beta : return v\n",
    "                if w > self.alpha : self.alpha = w\n",
    "        return v\n",
    "                                      \n",
    "    def Min_value(self):\n",
    "        if self.isTerminal(): return self.value\n",
    "        v = Node.MAX\n",
    "        for c in self.children():\n",
    "            for side in ('left', 'right'):\n",
    "                w = c[side].Max_value()\n",
    "                if w < v : v = w\n",
    "                if w <= self.alpha : return v\n",
    "                if w < self.beta : self.beta = w\n",
    "        return v\n",
    "    \n",
    "    def minmax(self):\n",
    "        if self.isMax:\n",
    "            v = self.Max_value()\n",
    "        else:\n",
    "            v = self.Min_value()\n",
    "        return v\n",
    "    \n",
    "    def alphabeta(self):\n",
    "        #print('Calling alphabeta()')\n",
    "        if self.isTerminal(): print('value'); return self.value\n",
    "        if self.isMax:\n",
    "            for c in self.children():\n",
    "                for side in ('left', 'right'):\n",
    "                    print(self.name, side, '>', c[side].name, end=':')\n",
    "                    c[side].alpha, c[side].beta = self.alpha, self.beta\n",
    "                    self.alpha = max(self.alpha, c[side].alphabeta())                    \n",
    "                    if side =='left' and self.alpha >= self.beta : print(self.name,'right pruning (ligne81)'); break\n",
    "                    #print(side, c[side].name)\n",
    "                self.value = self.alpha\n",
    "            return self.alpha    \n",
    "        else:\n",
    "            for c in self.children():\n",
    "                for side in ('left', 'right'):\n",
    "                    print(self.name, side, '>', c[side].name, end=':')\n",
    "                    c[side].alpha, c[side].beta = self.alpha, self.beta\n",
    "                    self.beta = min(self.beta, c[side].alphabeta())\n",
    "                    #self.alpha = max(self.alpha,c[side].alpha)\n",
    "                    if side == 'left' and self.alpha >= self.beta : print(self.name,'right pruning (ligne92)'); break\n",
    "                    #print(side, c[side].name)\n",
    "                self.value = self.beta\n",
    "            return self.beta   \n",
    "        "
   ]
  },
  {
   "cell_type": "code",
   "execution_count": null,
   "metadata": {},
   "outputs": [],
   "source": [
    "class Tree(Node):\n",
    "    set = []\n",
    "    depth = 0\n",
    "    \n",
    "    def __init__(self,depth):\n",
    "        self.set = []\n",
    "        self.depth = depth\n",
    "        print('Create tree')\n",
    "        for n in range(depth-1,-1,-1):\n",
    "            row = []\n",
    "            ismax = [True, False][n%2]\n",
    "            for r in range(2**n): \n",
    "                name = \"nodeL\"+str(n)+str(r)\n",
    "                node = Node(name,None,None,np.random.randint(randMax), ismax)\n",
    "                #if debug: print(node.name)\n",
    "                row.append(node)\n",
    "            if debug: print(row,len(row))\n",
    "            self.set.append(row)    \n",
    "        #if debug: print(self.set,len(self.set))\n",
    "        # connect nodes\n",
    "        for r in range(1,depth):\n",
    "            i = 0\n",
    "            for n in self.set[r]:\n",
    "                n.left = self.set[r-1][i]\n",
    "                i += 1\n",
    "                n.right = self.set[r-1][i]\n",
    "                i += 1\n",
    "        print('End create tree\\n')\n",
    "                \n",
    "    def __str__(self):\n",
    "        text = \"\"\n",
    "        for r in range(len(self.set)):\n",
    "            for n in self.set[r]:\n",
    "                text += str(r)+\",\"+str(n.left)+\",\"+str(n.right)+\"\\t\"                \n",
    "            text += \"\\n\"\n",
    "        return text\n",
    "    \n",
    "    def drawTree(self):\n",
    "        print('\\nDrawing tree')\n",
    "        for r in range(self.depth):            \n",
    "            if debug : print(['Node Min','Node Max'][self.set[r][0].isMax])\n",
    "            for n in self.set[r]:\n",
    "                if r:     #print((n.alpha,n.beta), end=';')\n",
    "                    if self.set[r][0].isMax:\n",
    "                        if debug:\n",
    "                            print((n.alpha,n.beta), end=';')\n",
    "                        else:\n",
    "                            print(n.alpha, end=',')\n",
    "                    else:\n",
    "                        if debug:\n",
    "                            print((n.alpha,n.beta), end=';')\n",
    "                        else:\n",
    "                            print(n.beta, end=',')\n",
    "                else:\n",
    "                    print(n.value, end=',')\n",
    "            print()"
   ]
  },
  {
   "cell_type": "code",
   "execution_count": null,
   "metadata": {},
   "outputs": [],
   "source": [
    "# test class Node\n",
    "nodeA  = Node('A',None,None,0)\n",
    "print(nodeA)\n",
    "print(nodeA.name)"
   ]
  },
  {
   "cell_type": "code",
   "execution_count": null,
   "metadata": {},
   "outputs": [],
   "source": [
    "# test Node methods\n",
    "print(nodeA.isTerminal())\n",
    "print('nodeA',nodeA.Max_value())"
   ]
  },
  {
   "cell_type": "code",
   "execution_count": null,
   "metadata": {},
   "outputs": [],
   "source": [
    "# building tree\n",
    "nodeL3  = Node('L3',None,None, np.random.randint(50))\n",
    "nodeL4  = Node('L4',None,None, np.random.randint(50))\n",
    "nodeL6  = Node('L6',None,None, np.random.randint(50))\n",
    "nodeL7  = Node('L7',None,None, np.random.randint(50))\n",
    "nodeL2  = Node('L2',nodeL3,nodeL4, 0,False)\n",
    "nodeL5  = Node('L5',nodeL6,nodeL7, 0,False)\n",
    "nodeL1  = Node('L1',nodeL2,nodeL5,0)"
   ]
  },
  {
   "cell_type": "code",
   "execution_count": null,
   "metadata": {},
   "outputs": [],
   "source": [
    "# print attrib\n",
    "print('Leaf values :',nodeL3.value, nodeL4.value, nodeL6.value, nodeL7.value)\n",
    "print('nodeL1 left :',nodeL1.left)\n",
    "print('nodeL1 right :',nodeL1.right)"
   ]
  },
  {
   "cell_type": "code",
   "execution_count": null,
   "metadata": {},
   "outputs": [],
   "source": [
    "# method __str__\n",
    "print('status nodeL3 :',nodeL3)\n",
    "print('status nodeL2 :',nodeL2)"
   ]
  },
  {
   "cell_type": "code",
   "execution_count": null,
   "metadata": {},
   "outputs": [],
   "source": [
    "# method children()\n",
    "print('nodeL1 children :',nodeL1.children())\n",
    "print('nodeL1 left child :',nodeL1.left.children())"
   ]
  },
  {
   "cell_type": "code",
   "execution_count": null,
   "metadata": {},
   "outputs": [],
   "source": [
    "# method all_children\n",
    "print('nodeL1 all children :',nodeL1.all_children())\n",
    "print('nodeL5 all children :',nodeL5.all_children())"
   ]
  },
  {
   "cell_type": "code",
   "execution_count": null,
   "metadata": {},
   "outputs": [],
   "source": [
    "# chain call\n",
    "print('nodeL1',nodeL1.all_children()[0]['left'].name)"
   ]
  },
  {
   "cell_type": "code",
   "execution_count": null,
   "metadata": {},
   "outputs": [],
   "source": [
    "# method Max_value()\n",
    "print('nodeL1 max_value :',nodeL1.Max_value())\n",
    "# method Min_value()\n",
    "print('nodeL2 min_value :',nodeL2.Min_value())\n",
    "# method minmax()\n",
    "print('nodeL2 minmax :',nodeL2.minmax())"
   ]
  },
  {
   "cell_type": "code",
   "execution_count": null,
   "metadata": {},
   "outputs": [],
   "source": [
    "print('nodeL5 min_value :',nodeL5.Min_value())\n",
    "print('nodeL3 max_value :',nodeL3.Max_value())   # terminal so return value"
   ]
  },
  {
   "cell_type": "code",
   "execution_count": null,
   "metadata": {},
   "outputs": [],
   "source": [
    "#comparing methods\n",
    "print('nodeL1 minmax :',nodeL1.minmax())\n",
    "print('nodeL1 max_value :',nodeL1.Max_value())"
   ]
  },
  {
   "cell_type": "code",
   "execution_count": null,
   "metadata": {},
   "outputs": [],
   "source": [
    "# display tree\n",
    "print(nodeL1.minmax())\n",
    "print(nodeL2.minmax(), nodeL5.minmax())\n",
    "print(nodeL3.minmax(), nodeL4.minmax(), nodeL6.minmax(), nodeL7.minmax())"
   ]
  },
  {
   "cell_type": "code",
   "execution_count": null,
   "metadata": {},
   "outputs": [],
   "source": [
    "# method alphabeta\n",
    "print(nodeL1.alphabeta())\n",
    "print(nodeL1.value)\n",
    "print(nodeL2.value, nodeL5.value)\n",
    "print(nodeL3.value, nodeL4.value, nodeL6.value, nodeL7.value)"
   ]
  },
  {
   "cell_type": "code",
   "execution_count": null,
   "metadata": {},
   "outputs": [],
   "source": [
    "# test class Tree\n",
    "depth = 5\n",
    "randMax = 10"
   ]
  },
  {
   "cell_type": "code",
   "execution_count": null,
   "metadata": {},
   "outputs": [],
   "source": [
    "# create tree\n",
    "t = Tree(depth)\n",
    "print(t)\n",
    "print(t.set[depth-1][0])"
   ]
  },
  {
   "cell_type": "code",
   "execution_count": null,
   "metadata": {},
   "outputs": [],
   "source": [
    "print('Scanning tree')\n",
    "print(t.set[depth-1][0].name, end=':')\n",
    "t.set[depth-1][0].alphabeta()\n",
    "#print('root value',t.set[depth-1][0].alphabeta())"
   ]
  },
  {
   "cell_type": "code",
   "execution_count": null,
   "metadata": {},
   "outputs": [],
   "source": [
    "# draw inverse tree\n",
    "t.drawTree()"
   ]
  },
  {
   "cell_type": "code",
   "execution_count": null,
   "metadata": {},
   "outputs": [],
   "source": [
    "\n",
    "for r in range(depth):\n",
    "    print(['Node Min','Node Max'][t.set[r][0].isMax])\n",
    "    for n in t.set[r]:\n",
    "        if r:\n",
    "            print((n.alpha,n.beta), end=';')\n",
    "        else:\n",
    "            print(n.value, end=',')\n",
    "    print()\n",
    "\n",
    "print(t.set[4][0].alphabeta())"
   ]
  },
  {
   "cell_type": "code",
   "execution_count": null,
   "metadata": {},
   "outputs": [],
   "source": []
  }
 ],
 "metadata": {
  "kernelspec": {
   "display_name": "Python 3.11.0b5 64-bit",
   "language": "python",
   "name": "python3"
  },
  "language_info": {
   "codemirror_mode": {
    "name": "ipython",
    "version": 3
   },
   "file_extension": ".py",
   "mimetype": "text/x-python",
   "name": "python",
   "nbconvert_exporter": "python",
   "pygments_lexer": "ipython3",
   "version": "3.12.3"
  },
  "vscode": {
   "interpreter": {
    "hash": "aee8b7b246df8f9039afb4144a1f6fd8d2ca17a180786b69acc140d282b71a49"
   }
  }
 },
 "nbformat": 4,
 "nbformat_minor": 2
}
