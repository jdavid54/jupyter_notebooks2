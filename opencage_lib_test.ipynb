{
 "cells": [
  {
   "cell_type": "code",
   "execution_count": 20,
   "metadata": {},
   "outputs": [
    {
     "name": "stdout",
     "output_type": "stream",
     "text": [
      "[{'annotations': {'DMS': {'lat': \"48° 52' 54.96240'' N\",\n",
      "                          'lng': \"2° 31' 37.21080'' E\"},\n",
      "                  'MGRS': '31UDQ6532214438',\n",
      "                  'Maidenhead': 'JN18gv31fp',\n",
      "                  'Mercator': {'x': 281304.687, 'y': 6222644.375},\n",
      "                  'OSM': {'edit_url': 'https://www.openstreetmap.org/edit?node=8094990641#map=17/48.88193/2.52700',\n",
      "                          'note_url': 'https://www.openstreetmap.org/note/new#map=17/48.88193/2.52700&layers=N',\n",
      "                          'url': 'https://www.openstreetmap.org/?mlat=48.88193&mlon=2.52700#map=17/48.88193/2.52700'},\n",
      "                  'UN_M49': {'regions': {'EUROPE': '150',\n",
      "                                         'FR': '250',\n",
      "                                         'WESTERN_EUROPE': '155',\n",
      "                                         'WORLD': '001'},\n",
      "                             'statistical_groupings': ['MEDC']},\n",
      "                  'callingcode': 33,\n",
      "                  'currency': {'alternate_symbols': [],\n",
      "                               'decimal_mark': ',',\n",
      "                               'html_entity': '&#x20AC;',\n",
      "                               'iso_code': 'EUR',\n",
      "                               'iso_numeric': '978',\n",
      "                               'name': 'Euro',\n",
      "                               'smallest_denomination': 1,\n",
      "                               'subunit': 'Cent',\n",
      "                               'subunit_to_unit': 100,\n",
      "                               'symbol': '€',\n",
      "                               'symbol_first': 0,\n",
      "                               'thousands_separator': '.'},\n",
      "                  'flag': '🇫🇷',\n",
      "                  'geohash': 'u09y1d8jgkyn21x6n76s',\n",
      "                  'qibla': 119.39,\n",
      "                  'roadinfo': {'drive_on': 'right',\n",
      "                               'road': 'Rue Raffin',\n",
      "                               'speed_in': 'km/h'},\n",
      "                  'sun': {'rise': {'apparent': 1669273980,\n",
      "                                   'astronomical': 1669267260,\n",
      "                                   'civil': 1669271880,\n",
      "                                   'nautical': 1669269480},\n",
      "                          'set': {'apparent': 1669305600,\n",
      "                                  'astronomical': 1669312320,\n",
      "                                  'civil': 1669307700,\n",
      "                                  'nautical': 1669310040}},\n",
      "                  'timezone': {'name': 'Europe/Paris',\n",
      "                               'now_in_dst': 0,\n",
      "                               'offset_sec': 3600,\n",
      "                               'offset_string': '+0100',\n",
      "                               'short_name': 'CET'},\n",
      "                  'what3words': {'words': 'plenty.flicked.devotion'}},\n",
      "  'bounds': {'northeast': {'lat': 48.881984, 'lng': 2.527053},\n",
      "             'southwest': {'lat': 48.881884, 'lng': 2.526953}},\n",
      "  'components': {'ISO_3166-1_alpha-2': 'FR',\n",
      "                 'ISO_3166-1_alpha-3': 'FRA',\n",
      "                 'ISO_3166-2': ['FR-IDF', 'FR-93'],\n",
      "                 '_category': 'building',\n",
      "                 '_type': 'building',\n",
      "                 'continent': 'Europe',\n",
      "                 'country': 'France',\n",
      "                 'country_code': 'fr',\n",
      "                 'county': 'Seine-Saint-Denis',\n",
      "                 'house_number': '6',\n",
      "                 'municipality': 'Le Raincy',\n",
      "                 'political_union': 'European Union',\n",
      "                 'postcode': '93220',\n",
      "                 'region': 'Metropolitan France',\n",
      "                 'road': 'Rue Raffin',\n",
      "                 'state': 'Ile-de-France',\n",
      "                 'state_code': 'IDF',\n",
      "                 'suburb': 'Époque',\n",
      "                 'town': 'Gagny'},\n",
      "  'confidence': 10,\n",
      "  'formatted': '6 Rue Raffin, 93220 Gagny, France',\n",
      "  'geometry': {'lat': 48.881934, 'lng': 2.527003}}]\n"
     ]
    }
   ],
   "source": [
    "from opencage.geocoder import OpenCageGeocode\n",
    "from pprint import pprint\n",
    "\n",
    "key = 'd09802075f8245028f6aeba501c57e10'\n",
    "geocoder = OpenCageGeocode(key)\n",
    "lat, lon = 48.8819347, 2.527003\n",
    "\n",
    "results = geocoder.reverse_geocode(lat, lon)\n",
    "pprint(results)"
   ]
  },
  {
   "cell_type": "code",
   "execution_count": 21,
   "metadata": {},
   "outputs": [
    {
     "name": "stdout",
     "output_type": "stream",
     "text": [
      "6 Rue Raffin, 93220 Gagny, France\n"
     ]
    }
   ],
   "source": [
    "from opencage.geocoder import OpenCageGeocode\n",
    "from opencage.geocoder import InvalidInputError, RateLimitExceededError, UnknownError\n",
    "\n",
    "key = 'd09802075f8245028f6aeba501c57e10'\n",
    "geocoder = OpenCageGeocode(key)\n",
    "\n",
    "try:\n",
    "  results = geocoder.reverse_geocode(lat, lon, language='fr', no_annotations='1')\n",
    "  if results and len(results):\n",
    "    print(results[0]['formatted'])\n",
    "    # 11 Rue Sauteyron, 33800 Bordeaux, Frankreich\n",
    "except RateLimitExceededError as ex:\n",
    "  print(ex)\n",
    "  # Your rate limit has expired. It will reset to 2500 on 2020-10-08T00:00:00\n",
    "  # Upgrade your plan on https://opencagedata.com/pricing or wait until\n",
    "  # the next day https://opencagedata.com/clock\n",
    "except InvalidInputError as ex:\n",
    "  # this happens for example with invalid unicode in the input data\n",
    "  pass"
   ]
  },
  {
   "cell_type": "code",
   "execution_count": 22,
   "metadata": {},
   "outputs": [
    {
     "name": "stdout",
     "output_type": "stream",
     "text": [
      "45.796933;15.981894;hr;Europe/Belgrade\n"
     ]
    }
   ],
   "source": [
    "from opencage.geocoder import OpenCageGeocode\n",
    "\n",
    "key = 'd09802075f8245028f6aeba501c57e10'\n",
    "geocoder = OpenCageGeocode(key)\n",
    "\n",
    "query = u'Bosutska ulica 10, Trnje, Zagreb, Croatia'\n",
    "results = geocoder.geocode(query)\n",
    "\n",
    "print(u'%f;%f;%s;%s' % (results[0]['geometry']['lat'],\n",
    "                        results[0]['geometry']['lng'],\n",
    "                        results[0]['components']['country_code'],\n",
    "                        results[0]['annotations']['timezone']['name']))\n",
    "# 45.797095;15.982453;hr;Europe/Belgrade"
   ]
  },
  {
   "cell_type": "code",
   "execution_count": 23,
   "metadata": {},
   "outputs": [
    {
     "name": "stdout",
     "output_type": "stream",
     "text": [
      "40.416705;-3.703582;Madrid,Spain\n",
      "45.464194;9.189635;Milan,Italy\n",
      "52.517037;13.388860;Berlin,Germany\n"
     ]
    }
   ],
   "source": [
    "import sys\n",
    "from opencage.geocoder import OpenCageGeocode\n",
    "\n",
    "key = 'd09802075f8245028f6aeba501c57e10'\n",
    "geocoder = OpenCageGeocode(key)\n",
    "addressfile = 'addresses.txt'\n",
    "\n",
    "try:\n",
    "  with open(addressfile,'r') as f:\n",
    "    for line in f:\n",
    "      address = line.strip()\n",
    "      results = geocoder.geocode(address, no_annotations='1')\n",
    "\n",
    "      if results and len(results):\n",
    "        longitude = results[0]['geometry']['lng']\n",
    "        latitude  = results[0]['geometry']['lat']\n",
    "        print(u'%f;%f;%s' % (latitude, longitude, address))\n",
    "        # 40.416705;-3.703582;Madrid,Spain\n",
    "        # 45.466797;9.190498;Milan,Italy\n",
    "        # 52.517037;13.388860;Berlin,Germany\n",
    "      else:\n",
    "        sys.stderr.write(\"not found: %s\\n\" % address)\n",
    "except IOError:\n",
    "  print('Error: File %s does not appear to exist.' % addressfile)\n",
    "except RateLimitExceededError as ex:\n",
    "  print(ex)\n",
    "  # Your rate limit has expired. It will reset to 2500 at midnight UTC timezone\n",
    "  # Upgrade on https://opencagedata.com/pricing"
   ]
  },
  {
   "cell_type": "code",
   "execution_count": 24,
   "metadata": {},
   "outputs": [],
   "source": [
    "from ipyleaflet import *"
   ]
  },
  {
   "cell_type": "code",
   "execution_count": 25,
   "metadata": {},
   "outputs": [],
   "source": [
    "results = geocoder.geocode(u'Brussels, Belgium')\n",
    "#results = geocoder.geocode(u'Paris, France')\n",
    "center = (results[0]['geometry']['lat'], results[0]['geometry']['lng'])\n",
    "#\n",
    "#  gagny Raffin\n",
    "center = (48.8819347, 2.527003)\n"
   ]
  },
  {
   "cell_type": "code",
   "execution_count": 26,
   "metadata": {},
   "outputs": [
    {
     "data": {
      "application/vnd.jupyter.widget-view+json": {
       "model_id": "43b1232e43f24f6e914ba81a2fd4c90d",
       "version_major": 2,
       "version_minor": 0
      },
      "text/plain": [
       "Map(center=[48.8819347, 2.527003], controls=(ZoomControl(options=['position', 'zoom_in_text', 'zoom_in_title',…"
      ]
     },
     "metadata": {},
     "output_type": "display_data"
    }
   ],
   "source": [
    "map = Map(center=center, zoom=16)\n",
    "marker = Marker(location=center, draggable=False)\n",
    "map.add_layer(marker)\n",
    "\n",
    "map"
   ]
  },
  {
   "cell_type": "code",
   "execution_count": 27,
   "metadata": {},
   "outputs": [
    {
     "name": "stdout",
     "output_type": "stream",
     "text": [
      "-14.7400 -168.1601\n"
     ]
    }
   ],
   "source": [
    "import urllib.request as urllib2\n",
    "import json\n",
    "from pprint import pprint\n",
    "\n",
    "req = urllib2.Request(\"http://api.open-notify.org/iss-now.json\")\n",
    "response = urllib2.urlopen(req)\n",
    "\n",
    "obj = json.loads(response.read())\n",
    "#print(obj)\n",
    "\n",
    "#print(obj['timestamp'])\n",
    "lat = obj['iss_position']['latitude']\n",
    "lon = obj['iss_position']['longitude']\n",
    "print(lat,lon)"
   ]
  },
  {
   "cell_type": "code",
   "execution_count": 28,
   "metadata": {},
   "outputs": [
    {
     "data": {
      "application/vnd.jupyter.widget-view+json": {
       "model_id": "0779fa0df04e4df4a34009c74f5aefc5",
       "version_major": 2,
       "version_minor": 0
      },
      "text/plain": [
       "Map(center=['-14.7400', '-168.1601'], controls=(ZoomControl(options=['position', 'zoom_in_text', 'zoom_in_titl…"
      ]
     },
     "metadata": {},
     "output_type": "display_data"
    }
   ],
   "source": [
    "center = (lat, lon)\n",
    "map = Map(center=center, zoom=4)\n",
    "marker = Marker(location=center, draggable=False)\n",
    "map.add_layer(marker)\n",
    "\n",
    "map"
   ]
  },
  {
   "cell_type": "code",
   "execution_count": 29,
   "metadata": {},
   "outputs": [
    {
     "data": {
      "text/plain": [
       "('-14.7400', '-168.1601')"
      ]
     },
     "execution_count": 29,
     "metadata": {},
     "output_type": "execute_result"
    }
   ],
   "source": [
    "center"
   ]
  }
 ],
 "metadata": {
  "kernelspec": {
   "display_name": "Python 3.10.7 64-bit",
   "language": "python",
   "name": "python3"
  },
  "language_info": {
   "codemirror_mode": {
    "name": "ipython",
    "version": 3
   },
   "file_extension": ".py",
   "mimetype": "text/x-python",
   "name": "python",
   "nbconvert_exporter": "python",
   "pygments_lexer": "ipython3",
   "version": "3.10.7"
  },
  "orig_nbformat": 4,
  "vscode": {
   "interpreter": {
    "hash": "31859b413185ca7000c2fee082c0715ca78433b184fc2466981b197da693d3e7"
   }
  }
 },
 "nbformat": 4,
 "nbformat_minor": 2
}
