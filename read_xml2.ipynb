{
 "cells": [
  {
   "cell_type": "markdown",
   "metadata": {},
   "source": [
    "## Building XML documents"
   ]
  },
  {
   "cell_type": "code",
   "execution_count": 1,
   "metadata": {},
   "outputs": [],
   "source": [
    "import xml.etree.ElementTree as ET"
   ]
  },
  {
   "cell_type": "code",
   "execution_count": 2,
   "metadata": {},
   "outputs": [
    {
     "name": "stdout",
     "output_type": "stream",
     "text": [
      "<a><b /><c><d /></c></a>\n"
     ]
    }
   ],
   "source": [
    "a = ET.Element('a')\n",
    "b = ET.SubElement(a, 'b')\n",
    "c = ET.SubElement(a, 'c')\n",
    "d = ET.SubElement(c, 'd')\n",
    "ET.dump(a)"
   ]
  },
  {
   "cell_type": "markdown",
   "metadata": {},
   "source": [
    "## Parsing XML with Namespaces"
   ]
  },
  {
   "cell_type": "code",
   "execution_count": 20,
   "metadata": {},
   "outputs": [],
   "source": [
    "xml_text = '''<?xml version=\"1.0\"?>\n",
    "<actors xmlns:fictional=\"http://characters.example.com\"\n",
    "        xmlns=\"http://people.example.com\">\n",
    "    <actor>\n",
    "        <name>John Cleese</name>\n",
    "        <fictional:character>Lancelot</fictional:character>\n",
    "        <fictional:character>Archie Leach</fictional:character>\n",
    "    </actor>\n",
    "    <actor>\n",
    "        <name>Eric Idle</name>\n",
    "        <fictional:character>Sir Robin</fictional:character>\n",
    "        <fictional:character>Gunther</fictional:character>\n",
    "        <fictional:character>Commander Clement</fictional:character>\n",
    "    </actor>\n",
    "</actors>\n",
    "'''"
   ]
  },
  {
   "cell_type": "code",
   "execution_count": 21,
   "metadata": {},
   "outputs": [],
   "source": [
    "root = ET.fromstring(xml_text)"
   ]
  },
  {
   "cell_type": "code",
   "execution_count": 22,
   "metadata": {},
   "outputs": [
    {
     "name": "stdout",
     "output_type": "stream",
     "text": [
      "John Cleese\n",
      " |--> Lancelot\n",
      " |--> Archie Leach\n",
      "Eric Idle\n",
      " |--> Sir Robin\n",
      " |--> Gunther\n",
      " |--> Commander Clement\n"
     ]
    }
   ],
   "source": [
    "for actor in root.findall('{http://people.example.com}actor'):\n",
    "    name = actor.find('{http://people.example.com}name')\n",
    "    print(name.text)\n",
    "    for char in actor.findall('{http://characters.example.com}character'):\n",
    "        print(' |-->', char.text)"
   ]
  },
  {
   "cell_type": "code",
   "execution_count": 23,
   "metadata": {},
   "outputs": [
    {
     "name": "stdout",
     "output_type": "stream",
     "text": [
      "John Cleese\n",
      " |--> Lancelot\n",
      " |--> Archie Leach\n",
      "Eric Idle\n",
      " |--> Sir Robin\n",
      " |--> Gunther\n",
      " |--> Commander Clement\n"
     ]
    }
   ],
   "source": [
    "# A better way to search the namespaced XML example is to create a dictionary \n",
    "# with your own prefixes and use those in the search functions\n",
    "\n",
    "ns = {'real_person': 'http://people.example.com',\n",
    "      'role': 'http://characters.example.com'}\n",
    "\n",
    "for actor in root.findall('real_person:actor', ns):\n",
    "    name = actor.find('real_person:name', ns)\n",
    "    print(name.text)\n",
    "    for char in actor.findall('role:character', ns):\n",
    "        print(' |-->', char.text)"
   ]
  },
  {
   "cell_type": "markdown",
   "metadata": {},
   "source": [
    "## XPath support"
   ]
  },
  {
   "cell_type": "code",
   "execution_count": 26,
   "metadata": {},
   "outputs": [],
   "source": [
    "import xml.etree.ElementTree as ET\n",
    "\n",
    "countrydata = '''<?xml version=\"1.0\"?>\n",
    "<data>\n",
    "    <country name=\"Liechtenstein\">\n",
    "        <rank>1</rank>\n",
    "        <year>2008</year>\n",
    "        <gdppc>141100</gdppc>\n",
    "        <neighbor name=\"Austria\" direction=\"E\"/>\n",
    "        <neighbor name=\"Switzerland\" direction=\"W\"/>\n",
    "    </country>\n",
    "    <country name=\"Singapore\">\n",
    "        <rank>4</rank>\n",
    "        <year>2011</year>\n",
    "        <gdppc>59900</gdppc>\n",
    "        <neighbor name=\"Malaysia\" direction=\"N\"/>\n",
    "    </country>\n",
    "    <country name=\"Panama\">\n",
    "        <rank>68</rank>\n",
    "        <year>2011</year>\n",
    "        <gdppc>13600</gdppc>\n",
    "        <neighbor name=\"Costa Rica\" direction=\"W\"/>\n",
    "        <neighbor name=\"Colombia\" direction=\"E\"/>\n",
    "    </country>\n",
    "</data>\n",
    "'''\n",
    "\n",
    "root = ET.fromstring(countrydata)"
   ]
  },
  {
   "cell_type": "code",
   "execution_count": 28,
   "metadata": {},
   "outputs": [
    {
     "data": {
      "text/plain": [
       "[<Element 'data' at 0x729e8120>]"
      ]
     },
     "execution_count": 28,
     "metadata": {},
     "output_type": "execute_result"
    }
   ],
   "source": [
    "# Top-level elements\n",
    "root.findall(\".\")"
   ]
  },
  {
   "cell_type": "code",
   "execution_count": 29,
   "metadata": {},
   "outputs": [
    {
     "data": {
      "text/plain": [
       "[<Element 'neighbor' at 0x729e8330>,\n",
       " <Element 'neighbor' at 0x729e83c0>,\n",
       " <Element 'neighbor' at 0x729e8300>,\n",
       " <Element 'neighbor' at 0x729e8450>,\n",
       " <Element 'neighbor' at 0x729e8570>]"
      ]
     },
     "execution_count": 29,
     "metadata": {},
     "output_type": "execute_result"
    }
   ],
   "source": [
    "# All 'neighbor' grand-children of 'country' children of the top-level\n",
    "# elements\n",
    "root.findall(\"./country/neighbor\")"
   ]
  },
  {
   "cell_type": "code",
   "execution_count": 30,
   "metadata": {},
   "outputs": [
    {
     "data": {
      "text/plain": [
       "[<Element 'country' at 0x729e83f0>]"
      ]
     },
     "execution_count": 30,
     "metadata": {},
     "output_type": "execute_result"
    }
   ],
   "source": [
    "# Nodes with name='Singapore' that have a 'year' child\n",
    "root.findall(\".//year/..[@name='Singapore']\")"
   ]
  },
  {
   "cell_type": "code",
   "execution_count": 31,
   "metadata": {},
   "outputs": [
    {
     "data": {
      "text/plain": [
       "[<Element 'year' at 0x729e8390>]"
      ]
     },
     "execution_count": 31,
     "metadata": {},
     "output_type": "execute_result"
    }
   ],
   "source": [
    "# 'year' nodes that are children of nodes with name='Singapore'\n",
    "root.findall(\".//*[@name='Singapore']/year\")"
   ]
  },
  {
   "cell_type": "code",
   "execution_count": 32,
   "metadata": {},
   "outputs": [
    {
     "data": {
      "text/plain": [
       "[<Element 'neighbor' at 0x729e83c0>, <Element 'neighbor' at 0x729e8570>]"
      ]
     },
     "execution_count": 32,
     "metadata": {},
     "output_type": "execute_result"
    }
   ],
   "source": [
    "# All 'neighbor' nodes that are the second child of their parent\n",
    "root.findall(\".//neighbor[2]\")"
   ]
  },
  {
   "cell_type": "code",
   "execution_count": 33,
   "metadata": {},
   "outputs": [
    {
     "data": {
      "text/plain": [
       "[]"
      ]
     },
     "execution_count": 33,
     "metadata": {},
     "output_type": "execute_result"
    }
   ],
   "source": [
    "# All dublin-core \"title\" tags in the document\n",
    "root.findall(\".//{http://purl.org/dc/elements/1.1/}title\")"
   ]
  }
 ],
 "metadata": {
  "kernelspec": {
   "display_name": "Python 3",
   "language": "python",
   "name": "python3"
  },
  "language_info": {
   "codemirror_mode": {
    "name": "ipython",
    "version": 3
   },
   "file_extension": ".py",
   "mimetype": "text/x-python",
   "name": "python",
   "nbconvert_exporter": "python",
   "pygments_lexer": "ipython3",
   "version": "3.7.3"
  }
 },
 "nbformat": 4,
 "nbformat_minor": 2
}
