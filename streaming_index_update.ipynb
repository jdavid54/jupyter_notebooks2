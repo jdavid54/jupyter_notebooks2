{
 "cells": [
  {
   "cell_type": "code",
   "execution_count": 1,
   "metadata": {},
   "outputs": [],
   "source": [
    "# coding: utf-8\n",
    "\n",
    "from bs4 import BeautifulSoup\n",
    "import requests\n",
    "\n",
    "url = \"http://jean.david.free.fr/streaming/html/index.html\"\n",
    "#url = \"http://jean.david.free.fr/streaming/html/nr_vignette.html\"\n",
    "\n",
    "http = requests.get(url).content"
   ]
  },
  {
   "cell_type": "code",
   "execution_count": 2,
   "metadata": {},
   "outputs": [],
   "source": [
    "soup = BeautifulSoup(http,\"html\")"
   ]
  },
  {
   "cell_type": "code",
   "execution_count": 3,
   "metadata": {},
   "outputs": [
    {
     "data": {
      "text/plain": [
       "([<div class=\"swap-on-hover__back-image\">A Deadly Mistake (2023)<br/><a href=\"https://doodstream.com/d/f3rzc2tr7xk6\">Free_Link</a><br/><a href=\"https://real-debrid.com/d/MBMRXC2J3TDRMP3XIYNHSUC5EE\">Real_Debrid_Only</a><br/></div>,\n",
       "  <div class=\"swap-on-hover__back-image\">Meet the Killer Parents (2023)<br/><a href=\"https://doodstream.com/d/gvr3luz869l6\">Trailer</a><br/><a href=\"https://doodstream.com/d/9rw2lb64t7nn\">Free_Link</a><br/><a href=\"https://real-debrid.com/d/KQLQCSFZGTXQPRX3XUMTBBCWQE\">Real_Debrid_Only</a><br/></div>,\n",
       "  <div class=\"swap-on-hover__back-image\">Amish Stud: The Eli Weaver Story (2023)<br/><a href=\"https://doodstream.com/d/a1ac70flckay\">Trailer</a><br/><a href=\"https://doodstream.com/d/53voigdmzgj6\">Free_Link</a><br/><a href=\"https://real-debrid.com/d/Y2EJRV32OPZM6OCMG7CI64HIZM\">Real_Debrid_Only</a><br/></div>,\n",
       "  <div class=\"swap-on-hover__back-image\">R.A.D.A.R.: The Adventures of the Bionic Dog (2023)<br/><a href=\"https://doodstream.com/d/saatyc46z9y4\">Trailer</a><br/><a href=\"https://doodstream.com/d/uwgykhqg73zx\">Free_Link</a><br/><a href=\"https://real-debrid.com/d/WBZRKZ7SQQZSVRQFAFYJXDDGSY\">Real_Debrid_Only</a><br/></div>,\n",
       "  <div class=\"swap-on-hover__back-image\">Hidden Exposure (2023)<br/><a href=\"https://doodstream.com/d/owwzafcmp85v\">Trailer</a><br/><a href=\"https://doodstream.com/d/tcdmqn3u9rzx\">Free_Link</a><br/><a href=\"https://real-debrid.com/d/2VVBL6DEIMGT2FID67GHR5BN44\">Real_Debrid_Only</a><br/></div>],\n",
       " 1763)"
      ]
     },
     "execution_count": 3,
     "metadata": {},
     "output_type": "execute_result"
    }
   ],
   "source": [
    "from pprint import pprint\n",
    "all_div = soup.find_all(\"div\")\n",
    "all_div[0:5],len(all_div)"
   ]
  },
  {
   "cell_type": "code",
   "execution_count": 4,
   "metadata": {},
   "outputs": [
    {
     "name": "stdout",
     "output_type": "stream",
     "text": [
      "176 https://shavetape.cash/v/JYD3O8dvLGijpRr/She.Came.from.the.Woods.720p.HDCAM-C1NEM4.mp4\n",
      "361 https://shavetape.cash/v/lDoM0xBPg6I7eDb/Ant-Man_and_the_Wasp_Quantumania_%282023%29_HQCAM_x264_800MB.mkv\n",
      "374 https://shavetape.cash/v/j200myyl9AszXlJ/Jesus_Revolution_tr.mp4\n",
      "384 https://shavetape.cash/v/kvOmrojZDacrpk/Rye.Lane.2023.1080p.WEBRip.1400MB.DD5.1.x264-GalaxyRG.mkv.mp4\n",
      "385 https://shavetape.cash/v/D07yOLGzVatkyqy/Prom.Pact.2023.1080p.WEBRip.1400MB.DD5.1.x264-GalaxyRG.mkv.mp4\n",
      "386 https://shavetape.cash/v/xrJj9ALeKoFkO7v/Murder.Mystery.2.2023.1080p.WEBRip.1400MB.DD5.1.x264-GalaxyRG.mkv.mp4\n",
      "386 https://shavetape.cash/v/xrJj9ALeKoFkO7v/Murder.Mystery.2.2023.1080p.WEBRip.1400MB.DD5.1.x264-GalaxyRG.mkv.mp4\n",
      "387 https://shavetape.cash/v/9O12JLDxz6caGYv/Assassin.2023.1080p.WEBRip.1400MB.DD5.1.x264-GalaxyRG.mkv\n",
      "388 https://shavetape.cash/v/pDe1B4kRZwFGx1/Creed.III.2023.1080p.WEBRip.1400MB.DD5.1.x264-GalaxyRG.mkv.mp4\n",
      "389 https://shavetape.cash/v/7zJWa6BG39tR0K/Tetris.2023.1080p.WEBRip.1400MB.DD5.1.x264-GalaxyRG.mkv.mp4\n",
      "389 https://shavetape.cash/v/7zJWa6BG39tR0K/Tetris.2023.1080p.WEBRip.1400MB.DD5.1.x264-GalaxyRG.mkv.mp4\n",
      "390 https://shavetape.cash/v/lGd78qL8Kdu7qop/The.Unheard.2023.720p.AMZN.WEB-DL.DDP2.0.H.264-WDYM.mkv.mp4\n",
      "391 https://shavetape.cash/v/D0WpgPqZ2rik18A/On.a.Wing.and.a.Prayer.2023.720p.WEB.x264.Dual.YG.mkv\n",
      "392 https://shavetape.cash/v/rlOpLAdQ0dFb7Pq/Home.Not.Alone.2023.1080p.WEBRip.1400MB.DD5.1.x264-GalaxyRG.mkv\n",
      "393 https://shavetape.cash/v/411yWq09WBCKRWd/The.Quest.For.Tom.Sawyers.Gold.2023.720p.AMZN.WEBRip.800MB.x264-GalaxyRG.mkv.mp4\n",
      "394 https://shavetape.cash/v/1z2oV2ZZl8heQvD/Champions.2023.1080p.WEBRip.x265-RARBG.mp4\n",
      "395 https://shavetape.cash/v/0JK1K8O2OPTb9rL/Avatar.The.Way.of.Water.2022.INTERNAL.720p.10bit.HC.WEBRip.2CH.x265.HEVC-PSA.mkv\n",
      "396 https://shavetape.cash/v/e2KJMrjaqLUjgx/Unseen.2023.1080p.AMZN.WEBRip.1400MB.DD5.1.x264-GalaxyRG.mkv\n",
      "397 https://shavetape.cash/v/xlRXD8ev6LFkdOe/Gods.Time.2023.1080p.WEBRip.1400MB.DD5.1.x264-GalaxyRG.mkv.mp4\n",
      "398 https://shavetape.cash/v/8DO9VPbmzyT4BG/One_Year_Off_Official_-_Jeff_Fahey%2C_Nathalie_Cox%2C_Chad_Michael_Collins.mp4\n",
      "398 https://shavetape.cash/v/Je1r0yBGMMtjDAx/One.Year.Off.2023.720p.WEBRip.800MB.x264-GalaxyRG.mkv.mp4\n",
      "399 https://shavetape.cash/v/OJlbvgAoqKFZBYM/Gunfight.at.Rio.Bravo.2023.720p.BluRay.800MB.x264-GalaxyRG.mkv.mp4\n",
      "400 https://shavetape.cash/v/Z28VXvP4maiq9l7/Johnny.And.Clyde.2023.1080p.WEBRip.1400MB.DD5.1.x264-GalaxyRG.mkv\n",
      "401 https://shavetape.cash/v/OxPpgv4BWVsZQD3/Kill.Her.Goats.2023.HERERO.720p.BluRay.800MB.x264-GalaxyRG.mkv\n",
      "402 https://shavetape.cash/v/1APGaZmAK0HewXq/The.Stalking.Fields.2023.1080p.AMZN.WEBRip.1400MB.DD5.1.x264-GalaxyRG.mkv\n",
      "403 https://shavetape.cash/v/x2gZoBd07aHk2yZ/The.Hillsdale.Adoption.Scam.2023.1080p.AMZN.WEBRip.1400MB.DD5.1.x264-GalaxyRG.mkv\n",
      "404 https://shavetape.cash/v/VG3A1RoqodIxqy/Children.of.the.Corn.2023.1080p.AMZN.WEBRip.1400MB.DD5.1.x264-GalaxyRG.mkv.mp4\n",
      "405 https://shavetape.cash/v/9RW0w74rV6uakMq/Winnie.the.Pooh.Blood.and.Honey.2023.1080p.WEBRip.1400MB.DD5.1.x264-GalaxyRG.mkv.mp4\n",
      "406 https://shavetape.cash/v/BLReKV4KGocyayw/Pinball.The.Man.Who.Saved.The.Game.2022.1080p.WEBRip.x264-RBG.mp4\n",
      "407 https://shavetape.cash/v/9R7AkY9womSakog/The.Magicians.Elephant.2023.720p.NF.WEBRip.800MB.x264-GalaxyRG.mkv.mp4\n",
      "408 https://shavetape.cash/v/M9K6o7L6vztmXpY/Supercell.2023.720p.AMZN.WEBRip.800MB.x264-GalaxyRG.mkv\n",
      "409 https://shavetape.cash/v/OkL1YppgRMSZpzW/Leave.2022.1080p.WEBRip.1400MB.DD5.1.x264-GalaxyRG.mkv\n",
      "410 https://shavetape.cash/v/yow88Wa31Ws1A0j/Boston.Strangler.2023.1080p.WEBRip.1400MB.DD5.1.x264-GalaxyRG.mkv\n",
      "411 https://shavetape.cash/v/mYzJeOpVJvsbPXM/My.Fairy.Troublemaker.2022.720p.BluRay.800MB.x264-GalaxyRG.mkv.mp4\n",
      "412 https://shavetape.cash/v/BPD31vommPhKad/Left.Behind.Rise.of.the.Antichrist.2023.1080p.BluRay.x265-RARBG.mp4\n",
      "413 https://shavetape.cash/v/qOLr9lbv47TzegG/Out.Of.Exile.2023.1080p.WEBRip.1400MB.DD5.1.x264-GalaxyRG.mkv\n",
      "414 https://shavetape.cash/v/2bVXqMwwWkFZDk6/_The_Match-Stick_Flame_2_t.mp4\n",
      "414 https://shavetape.cash/v/KqDPZAeLLXT0QlG/The.Match-Stick.Flame.2.Lunada.Bay.2023.WEBRip.x264-ION10.mp4\n",
      "415 https://shavetape.cash/v/XwZyRw8K9zIDrP9/The.Siege.2023.1080p.WEBRip.x264-RARBG.mp4\n",
      "417 https://shavetape.cash/v/xoDLk3r1bzikBGx/Righteous.Thieves.2023.WEBRip.x264-LAMA.mp4\n",
      "418 https://shavetape.cash/v/yAW620LJemceJk/Girl.in.the.Closet.2023.1080p.AMZN.WEBRip.1400MB.DD5.1.x264-GalaxyRG.mkv\n",
      "419 https://shavetape.cash/v/YyODGjMk24S6Q3/The.Donor.Party.2023.1080p.WEBRip.1400MB.DD5.1.x264-GalaxyRG.mkv.mp4\n",
      "420 https://shavetape.cash/v/yPmOq3oaX9sdj7/Consecration.2023.1080p.WEBRip.1400MB.DD5.1.x264-GalaxyRG.mkv\n",
      "421 https://shavetape.cash/v/wDm20YOxR9FlY2/Who_Are_You_People.mp4\n",
      "421 https://shavetape.cash/v/1PxLjYYxkJUek9q/Who.Are.You.People.2023.1080p.WEBRip.x264-RARBG.mp4\n",
      "422 https://shavetape.cash/v/PXKJKkeqBoC0p63/A.Lifeguards.Obsession.2023.720p.WEB.h264-BAE.mkv\n",
      "423 https://shavetape.cash/v/9jJJXazOo0fae1l/Tickets.2023.AFRIKAANS.1080p.WEBRip.x264-RARBG.mp4\n",
      "424 https://shavetape.cash/v/KyMwrZLajGS0OPG/Do.Your.Worst.2023.1080p.WEBRip.x264-RARBG.mp4\n",
      "425 https://shavetape.cash/v/v9X3WBQobDcDzJ/The.Ritual.Killer.2023.1080p.AMZN.WEBRip.1400MB.DD5.1.x264-GalaxyRG.mkv.mp4\n",
      "426 https://shavetape.cash/v/V6mYVv4JXxTOr7/Chang.Can.Dunk.2023.1080p.DSNP.WEBRip.1400MB.DD5.1.x264-GalaxyRG.mkv.mp4\n",
      "427 https://shavetape.cash/v/w7lR0YKjOGSJZ0m/Luther.The.Fallen.Sun.2023.1080p.NF.WEBRip.1600MB.DD5.1.x264-GalaxyRG.mkv.mp4\n",
      "428 https://shavetape.cash/v/1xJZvX323qFe3yB/Batman.The.Doom.That.Came.to.Gotham.2023.1080p.WEBRip.x264-RARBG.mp4\n",
      "429 https://shavetape.cash/v/dq442MOjGKIkdPk/Operation.Fortune.Ruse.de.Guerre.2023.1080p.WEBRip.x265-RARBG.mp4\n",
      "430 https://shavetape.cash/v/zMAk6gAkPjFY6Q9/80.For.Brady.2023.1080p.WEBRip.x264-RARBG.mp4\n",
      "431 https://shavetape.cash/v/8dKYPrq03duJ9o/Faraway.2023.1080p.WEBRip.x265-RARBG.mp4\n",
      "432 https://shavetape.cash/v/memKgOPZv4Ib0J9/marlowe.2022.720p.webrip.hevc.x265.mkv\n",
      "433 https://shavetape.cash/v/lOXPp8Bmgyu782q/Missing.2023.1080p.WEBRip.1400MB.DD5.1.x264-GalaxyRG.mkv\n",
      "434 https://shavetape.cash/v/MoZeBXdDjkSm7jg/Palm.Trees.and.Power.Lines.2023.1080p.AMZN.WEBRip.1400MB.DD5.1.x264-GalaxyRG.mkv.mp4\n",
      "435 https://shavetape.cash/v/VdoGr3dzRLsKvxG/Moonrise.2022.1080p.WEBRip.x265-RARBG.mp4\n",
      "436 https://shavetape.cash/v/oW2vyweJK8Sbj2/Greed.A.Seven.Deadly.Sins.Story.2022.1080p.WEBRip.x265-RARBG.mp4\n",
      "437 https://shavetape.cash/v/MY4O1GWz77Im346/Black.Girl.Missing.2023.WEBRip.x264-ION10.mp4\n",
      "438 https://shavetape.cash/v/bvDAdRB8j3cPjJq/She.Inherited.Danger.2023.720p.WEB.h264-BAE.mkv\n",
      "439 https://shavetape.cash/v/3ro6qalxMDIdbdw/A.Little.White.Lie.2023.1080p.WEBRip.10Bit.DDP5.1.x265-Asiimov.mkv\n",
      "440 https://shavetape.cash/v/9PMA2gRbVoH9J1/HERE_LOVE_LIES_-_Netflix_Official_Teaser_-_A_Tope_Oshin_Film.mp4\n",
      "440 https://shavetape.cash/v/7koGlRokgefBrq/Here.Love.Lies.2023.1080p.NF.WEBRip.1600MB.DD5.1.x264-GalaxyRG.mkv\n",
      "441 https://shavetape.cash/v/9239WQ0Qm7Caw8Z/pfa-bikini.hackers.2023.720p.mkv\n",
      "442 https://shavetape.cash/v/DQoooA8LWjUkO06/Royal.Rendezvous.2023.720p.WEBRip.x264-BAE.mkv\n",
      "443 https://shavetape.cash/v/WXZOKe7QWgSrJx/Living.2022.1080p.WEBRip.x264-RARBG.mp4\n",
      "444 https://shavetape.cash/v/A03gamQpWKsXKKd/Ambush.2023.WEBRip.x264-ION10.mp4\n",
      "445 https://shavetape.cash/v/XgV4lPdwQvhD4gK/Unwelcome.2023.1080p.AMZN.WEBRip.1400MB.DD5.1.x264-GalaxyRG.mkv\n",
      "446 https://shavetape.cash/v/pk2zmk3zkdIrvYA/a.royal.in.paradise.2023.1080p.webrip.hevc.x265.rmteam.mkv\n",
      "447 https://shavetape.cash/v/mYe1Qle9L2HbwD0/BURIED_IN_BARSTOW_2022_Teaser_YouTube_HD___Drama_Movie___Lauren_Richards.mp4\n",
      "447 https://shavetape.cash/v/4mg3jDB1xaUdj1/Buried.in.Barstow.2022.1080p.WEBRip.x265-RBG.mp4\n",
      "448 https://shavetape.cash/v/27ek1BB7eDujeB/Magic.Mikes.Last.Dance.2023.1080p.AMZN.WEBRip.1400MB.DD5.1.x264-GalaxyRG.mkv\n",
      "449 https://shavetape.cash/v/oDozXzy771TOW9/A.Man.Called.Otto.2023.720p.WEBRip.800MB.x264-GalaxyRG.mkv\n",
      "450 https://shavetape.cash/v/KPBLQwvGaXF0kvj/The.Paramedic.Who.Stalked.Me.2023.720p.WEB.h264-BAE.mkv\n",
      "451 https://shavetape.cash/v/Awxprgw8yXsXAOB/12.Desperate.Hours.2023.720p.WEB.h264-BAE.mkv.mp4\n",
      "452 https://shavetape.cash/v/g3jB0yvL64Cq1Ld/The_Happy_Camper_-_Movie_Preview.mp4\n",
      "452 https://shavetape.cash/v/yD8v4bLZVrI1Ql2/The.Happy.Camper.2023.WEBRip.x264-ION10.mp4\n",
      "453 https://shavetape.cash/v/pjy0X0GQd9trgya/M3GAN_-_official_trailer.mp4\n",
      "453 https://shavetape.cash/v/yAz43rO8B4CyMd/M3GAN.2023.Unrated.1080p.PCOK.WEBRip.1400MB.DD5.1.x264-GalaxyRG.mkv\n",
      "454 https://shavetape.cash/v/vD8zmp4B1Xt2AB/Three.Day.Millionaire.2022.1080p.WEBRip.x264-LAMA.mp4\n",
      "455 https://shavetape.cash/v/ZJ8PjOprdWiqL4b/We.Have.a.Ghost.2023.1080p.NF.WEBRip.1400MB.DD5.1.x264-GalaxyRG.mkv\n",
      "456 https://shavetape.cash/v/1dbko4DApGse2ZD/Bruiser.2022.1080p.WEBRip.1400MB.DD5.1.x264-GalaxyRG.mkv\n",
      "457 https://shavetape.cash/v/dLvOzxQ0opUkoOo/%E2%80%98Die_Hart%E2%80%99_official_trailer.mp4\n",
      "457 https://shavetape.cash/v/JbBObkdPVZijXwa/Die.Hart.The.Movie.2023.DC.1080p.WEBRip.1400MB.DD5.1.x264-GalaxyRG.mkv\n",
      "458 https://shavetape.cash/v/OJa2p4raRATZM80/Spoonful.of.Sugar.2022.1080p.WEBRip.x265-RARBG.mp4\n",
      "459 https://shavetape.cash/v/d8DwdrL8k3TZZY/The.Strays.2023.720p.NF.WEB-DL.DDP5.1.Atmos.H.264-WDYM.mkv\n",
      "460 https://shavetape.cash/v/gYV23jw3jaF9eB/The.Princess.And.The.Bodyguard.2022.1080p.WEBRip.x264.AAC-%5BYTS.MX%5D.mp4\n",
      "461 https://shavetape.cash/v/pa0y6MBOYqIr9pV/Red.Winter.2022.1080p.AMZN.WEBRip.1400MB.DD5.1.x264-GalaxyRG.mkv\n",
      "462 https://shavetape.cash/v/yDAad4ad1Ls18pw/Why_Can%27t_My_Life_Be_a_Rom-Com__New_E%21_Movie_SNEAK_PEEK___E%21.mp4\n",
      "462 https://shavetape.cash/v/4x4k7l8qWpCKmov/Why.Cant.My.Life.Be.a.Rom-Com.2023.1080p.WEBRip.1400MB.DD5.1.x264-GalaxyRG.mkv\n",
      "463 https://shavetape.cash/v/kbL0BgQxbAFOkyy/Women.Talking.2022.720p.AMZN.WEBRip.800MB.x264-GalaxyRG.mkv\n",
      "464 https://shavetape.cash/v/KwLkG97ayjS0YGe/Knock.at.the.Cabin.2023.1080p.WEBRip.1400MB.DD5.1.x264-GalaxyRG.mkv\n",
      "465 https://shavetape.cash/v/1jxlg49Q0qse3x9/The.Whale.2022.1080p.WEBRip.1400MB.DD5.1.x264-GalaxyRG.mkv\n",
      "466 https://shavetape.cash/v/2V1ml1oe7Zhj7z/OFFICIAL_TRAILER___KINGDOM_OF_THE_DINOSAURS.mp4\n",
      "466 https://shavetape.cash/v/MjWGRyGlyWtmk6e/Kingdom.Of.The.Dinosaurs.2022.1080p.WEB-DL.DDP5.1.x264-AOC.mkv\n",
      "467 https://shavetape.cash/v/rDepOav2LkCbR1B/A.Rose.For.Her.Grave.The.Randy.Roth.Story.2023.720p.WEB.h264-BAE.mkv\n",
      "468 https://shavetape.cash/v/LXrL4AB1OmFvmM/pfa-a.brothers.turmoil.2023.720p.mkv\n",
      "469 https://shavetape.cash/v/zGd79BPy3mfvjX/You_Cant_Escape_Me_2023_720p_WEB_h264-BAE.mkv.mp4\n",
      "470 https://shavetape.cash/v/aRmaQQpG94cxk3m/The.Weapon.2023.1080p.WEBRip.x265-RARBG.mp4\n",
      "471 https://shavetape.cash/v/pbXD0e3dYoHrkkp/SPLENDID_ISOLATION_-_Offici%C3%ABle_NL_trailer.mp4\n",
      "471 https://shavetape.cash/v/j64jZxBayotzRbB/Splendid.Isolation.2022.1080p.WEBRip.x265-RARBG.mp4\n",
      "472 https://shavetape.cash/v/rAvmAYeDx6Hbzll/Four.Samosas.2022.WEBRip.x264-ION10.mp4\n",
      "473 https://shavetape.cash/v/lGlpXxdpBmUdlv/Sharper.2023.1080p.WEBRip.1400MB.DD5.1.x264-GalaxyRG.mkv.mp4\n",
      "474 https://shavetape.cash/v/rKJlJ63ZzQIezA/A.Night.Of.The.Undead.2022.1080p.WEB-DL.DDP2.0.x264-AOC.mkv\n",
      "475 https://shavetape.cash/v/XkWXo1VzrzUD4Lm/The.Inspection.2022.1080p.BluRay.1400MB.DD5.1.x264-GalaxyRG.mkv\n",
      "476 https://shavetape.cash/v/arpjwA1XWQuxRym/pfa-frankie.meets.jack.2023.720p.mkv\n",
      "477 https://shavetape.cash/v/arpjwA1XWQuxRym/pfa-frankie.meets.jack.2023.720p.mkv\n",
      "478 https://shavetape.cash/v/bZ6B2xA9rAUPALq/Maybe.I.Do.2023.720p.WEBRip.800MB.x264-GalaxyRG.mkv\n",
      "479 https://shavetape.cash/v/zGKyD30j74UeQ0/A.Sunday.Affair.2023.720p.NF.WEB-DL.DDP5.1.H.264-WDYM.mkv\n",
      "480 https://shavetape.cash/v/0ezeMAR9QzUbGyx/Infinity.Pool.2023.1080p.AMZN.WEBRip.1400MB.DD5.1.x264-GalaxyRG.mkv\n",
      "481 https://shavetape.cash/v/pdll3kWkd2UBg1/The.Girl.Who.Escaped.The.Kara.Robinson.Story.2023.720p.WEB.h264-BAE.mkv\n",
      "482 https://shavetape.cash/v/Rmmyv8p8DyHdgXg/I.Got.Problemz.2023.1080p.WEBRip.x265-RARBG.mp4\n",
      "483 https://shavetape.cash/v/z7reYR0qgoCYLwo/My.Valentine.Crush.2023.1080p.WEBRip.x264-RARBG.mp4\n",
      "484 https://shavetape.cash/v/qyKG7dJ93QIz8bZ/The.Reading.2023.1080p.WEBRip.x264.AAC-%5BYTS.MX%5D.mp4\n",
      "485 https://shavetape.cash/v/ewLvMPReLKcY1vq/Blossom.2023.1080p.WEBRip.x264.AAC-%5BYTS.MX%5D.mp4\n",
      "486 https://shavetape.cash/v/OYkQmdZjLPiZVb8/The.Son.2022.1080p.WEBRip.1400MB.DD5.1.x264-GalaxyRG.mkv\n",
      "487 https://shavetape.cash/v/OJjeX6MjXZFZrWX/Meet.Me.in.Paris.2023.720p.ROKU.WEB-DL.DD5.1.H.264-SMURF.mkv\n",
      "488 https://shavetape.cash/v/2BXoloZgbLhZ3g2/Your.Place.or.Mine.2023.1080p.WEBRip.1400MB.DD5.1.x264-GalaxyRG.mkv\n",
      "489 https://shavetape.cash/v/8d67bG1YGyFovOj/At.Midnight.2023.1080p.WEBRip.1400MB.DD5.1.x264-GalaxyRG.mkv\n",
      "490 https://shavetape.cash/v/jWwMzvpqxrCq99/Attachment.2022.720p.WEBRip.800MB.x264-GalaxyRG.mkv\n",
      "491 https://shavetape.cash/v/dr11Bx8azWCkaW1/Empire.Of.Light.2022.720p.WEBRip.800MB.x264-GalaxyRG.mkv\n",
      "492 https://shavetape.cash/v/kzbBXk2d1dSOAAg/Whitney.Houston.I.Wanna.Dance.with.Somebody.2022.1080p.WEBRip.1600MB.DD5.1.x264-GalaxyRG.mkv\n",
      "493 https://shavetape.cash/v/YW6pQ7ROWripbW/Little.Dixie.2023.1080p.AMZN.WEBRip.1400MB.DD5.1.x264-GalaxyRG.mkv.mp4\n",
      "494 https://shavetape.cash/v/3qVyXrygpgtdOZe/Baby.Ruby.2023.1080p.AMZN.WEBRip.1400MB.DD5.1.x264-GalaxyRG.mkv\n",
      "495 https://shavetape.cash/v/yr9w3Qyk2ZU1M7G/The.Locksmith.2023.1080p.iT.WEBRip.1400MB.DD5.1.x264-GalaxyRG.mkv\n",
      "496 https://shavetape.cash/v/vWGMYDkwW0t4gxJ/Blood.2023.1080p.WEBRip.1400MB.DD5.1.x264-GalaxyRG.mkv.mp4\n",
      "497 https://shavetape.cash/v/9y2zAvKQ3vUakyy/True.Spirit.2023.1080p.NF.WEBRip.1400MB.DD5.1.x264-GalaxyRG.mkv.mp4\n",
      "498 https://shavetape.cash/v/mkA73DypjeHkmz/Plane.2023.1080p.WEBRip.1400MB.DD5.1.x264-GalaxyRG.mkv.mp4\n",
      "499 https://shavetape.cash/v/OXvKRkAr3BsZVwl/Alice.Darling.2022.1080p.WEBRip.x264-RARBG.mp4\n",
      "131\n"
     ]
    }
   ],
   "source": [
    "n=0\n",
    "for i,k in enumerate(all_div[:500]):\n",
    "    ref = k.find_all(\"a\")\n",
    "    for j in ref:\n",
    "        if \"shavetape\" in j[\"href\"] and \"Trai\" not in j[\"href\"]:\n",
    "            n+=1\n",
    "            print(i,j[\"href\"])\n",
    "print(n)\n"
   ]
  },
  {
   "cell_type": "code",
   "execution_count": 5,
   "metadata": {},
   "outputs": [
    {
     "name": "stdout",
     "output_type": "stream",
     "text": [
      "<div class=\"swap-on-hover__back-image\">R.A.D.A.R.: The Adventures of the Bionic Dog (2023)<br/><a href=\"https://doodstream.com/d/saatyc46z9y4\">Trailer</a><br/><a href=\"https://doodstream.com/d/uwgykhqg73zx\">Free_Link</a><br/><a href=\"https://real-debrid.com/d/WBZRKZ7SQQZSVRQFAFYJXDDGSY\">Real_Debrid_Only</a><br/></div>\n"
     ]
    }
   ],
   "source": [
    "print(all_div[3]) "
   ]
  }
 ],
 "metadata": {
  "kernelspec": {
   "display_name": "Python 3",
   "language": "python",
   "name": "python3"
  },
  "language_info": {
   "codemirror_mode": {
    "name": "ipython",
    "version": 3
   },
   "file_extension": ".py",
   "mimetype": "text/x-python",
   "name": "python",
   "nbconvert_exporter": "python",
   "pygments_lexer": "ipython3",
   "version": "3.11.4"
  }
 },
 "nbformat": 4,
 "nbformat_minor": 2
}
